{
 "cells": [
  {
   "cell_type": "code",
   "execution_count": 1,
   "id": "fbf0aed9-e579-4bdc-bd98-7834bb4035b0",
   "metadata": {},
   "outputs": [
    {
     "name": "stdout",
     "output_type": "stream",
     "text": [
      "Found 443 scored movie files.\n"
     ]
    },
    {
     "name": "stderr",
     "output_type": "stream",
     "text": [
      "Aggregating Heroes_and_Moral results: 100%|█| 443/443 [00:00<00:00, 4489.16it/s]"
     ]
    },
    {
     "name": "stdout",
     "output_type": "stream",
     "text": [
      "\n",
      "✅ Done! Aggregated results saved to:\n",
      "/Users/cedricroetheli/Desktop/processed_subs/heroes_and_moral_movie.csv\n"
     ]
    },
    {
     "name": "stderr",
     "output_type": "stream",
     "text": [
      "\n"
     ]
    }
   ],
   "source": [
    "import os\n",
    "import json\n",
    "import pandas as pd\n",
    "from pathlib import Path\n",
    "from tqdm import tqdm\n",
    "\n",
    "# === Paths ===\n",
    "base_path = Path.home() / \"Desktop\" / \"processed_subs\"\n",
    "scored_dir = base_path / \"scored_heroes_and_moral\"\n",
    "output_path = base_path / \"heroes_and_moral_movie.csv\"\n",
    "\n",
    "# === Helper function ===\n",
    "def parse_filename(filename_stem):\n",
    "    try:\n",
    "        year_str, title_part = filename_stem.split(\"_\", 1)\n",
    "        year = int(year_str)\n",
    "        title = title_part.replace(\"_\", \" \")\n",
    "        return year, title\n",
    "    except Exception:\n",
    "        return None, filename_stem\n",
    "\n",
    "# === Aggregation loop ===\n",
    "records = []\n",
    "\n",
    "files = list(scored_dir.glob(\"*.json\"))\n",
    "print(f\"Found {len(files)} scored movie files.\")\n",
    "\n",
    "for file in tqdm(files, desc=\"Aggregating Heroes_and_Moral results\"):\n",
    "    with open(file, \"r\", encoding=\"utf-8\") as f:\n",
    "        try:\n",
    "            data = json.load(f)\n",
    "        except Exception as e:\n",
    "            print(f\"⚠️ Failed to load {file.name}: {e}\")\n",
    "            continue\n",
    "\n",
    "    year, title = parse_filename(file.stem.replace(\"_scored\", \"\"))\n",
    "\n",
    "    hero = data.get(\"hero\", {})\n",
    "    villain = data.get(\"villain\", {})\n",
    "    moral = data.get(\"moral\", {})\n",
    "\n",
    "    records.append({\n",
    "        \"year\": year,\n",
    "        \"title\": title,\n",
    "        \"hero_name\": hero.get(\"name\", \"UNKNOWN\"),\n",
    "        \"hero_nationality\": hero.get(\"nationality\", \"UNKNOWN\"),\n",
    "        \"hero_entity_type\": hero.get(\"entity_type\", \"UNKNOWN\"),\n",
    "        \"hero_confidence\": hero.get(\"confidence\", None),\n",
    "        \"villain_name\": villain.get(\"name\", \"UNKNOWN\"),\n",
    "        \"villain_nationality\": villain.get(\"nationality\", \"UNKNOWN\"),\n",
    "        \"villain_entity_type\": villain.get(\"entity_type\", \"UNKNOWN\"),\n",
    "        \"villain_confidence\": villain.get(\"confidence\", None),\n",
    "        \"moral_category\": moral.get(\"category\", \"UNKNOWN\"),\n",
    "        \"moral_confidence\": moral.get(\"confidence\", None)\n",
    "    })\n",
    "\n",
    "# === Save to CSV ===\n",
    "df = pd.DataFrame(records)\n",
    "df.to_csv(output_path, index=False)\n",
    "\n",
    "print(f\"\\n✅ Done! Aggregated results saved to:\\n{output_path}\")\n"
   ]
  },
  {
   "cell_type": "code",
   "execution_count": null,
   "id": "a2972f2d-36e0-4ea6-874d-5ac3181e12e9",
   "metadata": {},
   "outputs": [],
   "source": []
  }
 ],
 "metadata": {
  "kernelspec": {
   "display_name": "Python (my_clean_env_py310)",
   "language": "python",
   "name": "my_clean_env_py310"
  },
  "language_info": {
   "codemirror_mode": {
    "name": "ipython",
    "version": 3
   },
   "file_extension": ".py",
   "mimetype": "text/x-python",
   "name": "python",
   "nbconvert_exporter": "python",
   "pygments_lexer": "ipython3",
   "version": "3.10.12"
  }
 },
 "nbformat": 4,
 "nbformat_minor": 5
}
