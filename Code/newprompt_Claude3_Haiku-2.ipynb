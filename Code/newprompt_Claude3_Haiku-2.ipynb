{
 "cells": [
  {
   "cell_type": "code",
   "execution_count": 3,
   "id": "4907203d-df45-4c55-807a-eed452ed5e3d",
   "metadata": {},
   "outputs": [
    {
     "name": "stdout",
     "output_type": "stream",
     "text": [
      "Found 443 prompt files.\n"
     ]
    },
    {
     "name": "stderr",
     "output_type": "stream",
     "text": [
      "Scoring movies:   0%|                                   | 0/443 [00:00<?, ?it/s]"
     ]
    },
    {
     "name": "stdout",
     "output_type": "stream",
     "text": [
      "⚠️ 1977_Looking.For.Mr.Goodbar.ENG.PAL.en already scored, skipping...\n",
      "⚠️ 1983_Octopussy.1983.DVD5.720p.HDTV.x264-NBS.eng already scored, skipping...\n",
      "⚠️ 2020_Birds.of.Prey.And.the.Fantabulous.Emancipation.of.One.Harley.Quinn.2020.HC.720p.HDRip.800M already scored, skipping...\n",
      "⚠️ 1978_Every.Which.Way.But.Loose.1978.1080p.BluRay.x264-aAF.ENG already scored, skipping...\n",
      "⚠️ 2002_Signs.2002.720p.BluRay.x264.DTS-HDChina.eng already scored, skipping...\n",
      "⚠️ 1999_Runaway Bride (1999) [BluRay] [1080p] [YTS.AM].eng already scored, skipping...\n",
      "⚠️ 1986_Ferris.Buellers.Day.Off.1986.1080p.BluRay.x264-CiNEFiLE.ENG already scored, skipping...\n",
      "⚠️ 2005_The.Chronicles.Of.Narnia.2005.BluRay.1080p.DTS.x264.dxva-EuReKA.ENG already scored, skipping...\n",
      "⚠️ 2011_Thor already scored, skipping...\n",
      "⚠️ 2017_Despicable. Me. 3. 2017. 720p. BluRay. X264-AMIABLE already scored, skipping...\n",
      "⚠️ 2007_Ratatouille.2007.720p.BluRay.DTS.x264-ESiR.ENG already scored, skipping...\n",
      "⚠️ 1996_Ransom_EN already scored, skipping...\n",
      "⚠️ 2009_The.Blind.Side.2009.720p.BluRay.x264.YIFY.eng already scored, skipping...\n",
      "⚠️ 2023_The.Super.Mario.Bros.Movie.2023.1080p.MA.WEBRip.DDP5.1.Atmos.x264-CMaRioG already scored, skipping...\n",
      "⚠️ 2001_Hannibal.2001.1080p.BluRay.x264-iKA.ENG already scored, skipping...\n",
      "⚠️ 1979_The.Amityville.Horror.1979.Blu-ray.Re.x264.1080p.DTS-HDS.ENG already scored, skipping...\n",
      "⚠️ 2018_Mission.Impossible.Fallout.2018.KORSUB.HDRip.x264-STUTTERSHIT already scored, skipping...\n",
      "⚠️ 2013_Star.Trek.Into.Darkness.2013.BluRay.720p.x264-HDWinG already scored, skipping...\n",
      "⚠️ 1993_Proposta.Indecente.[1993].DVDRip.WS.AC3.UnitedShare.ENG already scored, skipping...\n",
      "⚠️ 2008_Iron.Man[2008]DvDrip-aXXo.en already scored, skipping...\n",
      "⚠️ 2022_Avatar The Way of Water (2022) 1080p BluRay AVC REMUX DTS-HD_ENG already scored, skipping...\n",
      "⚠️ 2023_The.Little.Mermaid.2023.1080p.WEB-DL.DDP5.1.Atmos.H.264 (v3) already scored, skipping...\n",
      "⚠️ 1980_Ordinary.People.1980.720p.WEB-DL.AAC2.0.H.264-BS.eng already scored, skipping...\n",
      "⚠️ 1982_E.T.The.Extra-Terrestrial.1982.720p.BluRay.X264-AMIABLE already scored, skipping...\n",
      "⚠️ 2018_Ant Man and the Wasp 2018 New HDCAM-X264-Sexxy already scored, skipping...\n",
      "⚠️ 2019_Avengers Endgame 2019 NEW 720p HDCAM x264-iMaX already scored, skipping...\n",
      "⚠️ 1993_Cliffhanger.1993.Blu-ray.720p.x264.DTS-CHD.ENG already scored, skipping...\n",
      "⚠️ 2002_Ice Age.English already scored, skipping...\n",
      "⚠️ 2003_Bruce.Almighty.2003.[1280x694].23.976fps.720p.BRRip.x264-ENG already scored, skipping...\n",
      "⚠️ 2017_Star.Wars.The.Last.Jedi.2017.720p.BluRay.x264-SPARKS already scored, skipping...\n",
      "⚠️ 1989_Look_Who_Is_Talking_Eng already scored, skipping...\n",
      "⚠️ 2022_The.Batman.2022.HDRip.850MB.c1nem4.x264-SUNSCREEN already scored, skipping...\n",
      "⚠️ 2009_Transformers.Revenge.of.the.Fallen.IMAX.Edition.2009.1080p.BluRay.DTS.x264-DON.ENG already scored, skipping...\n",
      "⚠️ 1981_Stripes.1981.720p.BluRay.x264-CiNEFiLE already scored, skipping...\n",
      "⚠️ 2015_Minions.2015.720p.BluRay.x264-GECKOS already scored, skipping...\n",
      "⚠️ 1984_Romancing.the.Stone.1984.720p.BluRay.x264-ESiR.ENG already scored, skipping...\n",
      "⚠️ 2000_Scary Movie 1 iNT DvD RiP- WaCkOs already scored, skipping...\n",
      "⚠️ 2002_Spider-Man.2002.720p.BluRay.DTS.x264-ESiR.ENG already scored, skipping...\n",
      "⚠️ 2015_Jurassic World already scored, skipping...\n",
      "⚠️ 1988_Who.Framed.Roger.Rabbit.1988.720p.BluRay.x264-HD4U already scored, skipping...\n",
      "⚠️ 2014_The.Hunger.Games.Mockingjay.Part.1.2014.720p.BluRay.x264-SPARKS already scored, skipping...\n",
      "⚠️ 1987_Predator.1987.DVDRip.XviD.ShitBusters.ENG already scored, skipping...\n",
      "⚠️ 1989_ARG-LETHAL_WEAPON_2_1989__PALDVDRIP__XVID_MP3_ENG__A_RG already scored, skipping...\n",
      "⚠️ 1988_Crocodile. Dundee. II. 1988. 720p. BluRay. x264-PSYCHD already scored, skipping...\n",
      "⚠️ 2007_Tranformers.2007.1080p.BluRay.DTS.x264-ESiR.ENG already scored, skipping...\n",
      "⚠️ 2011_Fast.Five.2011.720p.BluRay.x264.DTS-WiKi.eng already scored, skipping...\n",
      "⚠️ 2011_Transformers.Dark.Of.The.Moon.2011.BluRay.720p.DTS.x264-CHD.eng already scored, skipping...\n",
      "⚠️ 2000_Dinosaur.2000.PROPER.1080p.BluRay.x264-Japhson already scored, skipping...\n",
      "⚠️ 2001_Harry.Potter.and.the.Philosophers.Stone.2001.720p.HDDVD.DTS.x264-ESiR.ENG already scored, skipping...\n",
      "⚠️ 1979_Apocalypse Now Redux.en already scored, skipping...\n",
      "⚠️ 1993_Few Good Men (1992).DVD.NonHI.pcc.en.CLMB already scored, skipping...\n",
      "⚠️ 2009_Harry.Potter.and.the.Half.Blood.Prince.2009.720p.BluRay.DTS.x264-WiKi.eng already scored, skipping...\n",
      "⚠️ 2010_timpe-inception already scored, skipping...\n",
      "⚠️ 2014_Big.Hero.6.2014.720p.BluRay.x264-SPARKS already scored, skipping...\n",
      "⚠️ 1989_Honey.I.Shrunk.The.Kids.1989.DVDRip.XviD.ENG already scored, skipping...\n",
      "⚠️ 2001_Jurassic.Park.III[2001]DvDrip-aXXo already scored, skipping...\n",
      "⚠️ 2018_Black.Panther.2018.720p.BluRay.x264-SPARKS already scored, skipping...\n",
      "⚠️ 1995_Casper.1995.720p.BluRay.X264-AMIABLE already scored, skipping...\n",
      "⚠️ 1990_Teenage.Mutant.Ninja.Turtles.1990.1080p.BluRay.x264-HDCLASSICS.ENG already scored, skipping...\n",
      "⚠️ 2022_Doctor.Strange.in.the.Multiverse.of.Madness.2022.1080p.WEB-DL.DDP5.1.Atmos.H.264 already scored, skipping...\n",
      "⚠️ 2017_The.Fate.of.the.Furious.2017.720p.BluRay.x264-SPARKS already scored, skipping...\n",
      "⚠️ 1980_Stir Crazy already scored, skipping...\n",
      "⚠️ 1978_Jaws.2.ENG.25FPS already scored, skipping...\n",
      "⚠️ 1994_The.Santa.Clause.1994.DVDRip.XviD.iNTERNAL-iLs already scored, skipping...\n",
      "⚠️ 1984_Gremlins. 1984. 1080p. Bluray. X264-DIMENSION. ENG already scored, skipping...\n",
      "⚠️ 1999_[HDteam] Austin.Powers.La.Espia.que.me.Achucho.1999.[1080p].[BluRay].[x264].[Dual].[Subs]-by Ruben already scored, skipping...\n",
      "⚠️ 1987_The.Witches.Of.Eastwick.1987.1080p.Bluray.X264-BRMP.ENG already scored, skipping...\n",
      "⚠️ 2015_The.Martian.2015.720p.BluRay.x264-SPARKS already scored, skipping...\n",
      "⚠️ 2008_Quantum.Of.Solace[2008]DvDrip-aXXo.en already scored, skipping...\n"
     ]
    },
    {
     "name": "stderr",
     "output_type": "stream",
     "text": [
      "\n",
      "Processing 1977_The Turning Point 1977 720p BRRip x264-PLAYNOW:   0%| | 0/7 [00:\u001b[A\n",
      "Processing 1977_The Turning Point 1977 720p BRRip x264-PLAYNOW:  14%|▏| 1/7 [00:\u001b[A\n",
      "Processing 1977_The Turning Point 1977 720p BRRip x264-PLAYNOW:  29%|▎| 2/7 [00:\u001b[A\n",
      "Processing 1977_The Turning Point 1977 720p BRRip x264-PLAYNOW:  43%|▍| 3/7 [00:\u001b[A\n",
      "Processing 1977_The Turning Point 1977 720p BRRip x264-PLAYNOW:  57%|▌| 4/7 [00:\u001b[A\n",
      "Processing 1977_The Turning Point 1977 720p BRRip x264-PLAYNOW:  71%|▋| 5/7 [00:\u001b[A\n",
      "Processing 1977_The Turning Point 1977 720p BRRip x264-PLAYNOW:  86%|▊| 6/7 [00:\u001b[A\n",
      "Processing 1977_The Turning Point 1977 720p BRRip x264-PLAYNOW: 100%|█| 7/7 [00:\u001b[A\n",
      "Scoring movies:  16%|████                      | 70/443 [00:23<02:02,  3.04it/s]\u001b[A"
     ]
    },
    {
     "name": "stdout",
     "output_type": "stream",
     "text": [
      "✅ Finished: 1977_The Turning Point 1977 720p BRRip x264-PLAYNOW (7 chunks scored)\n"
     ]
    },
    {
     "name": "stderr",
     "output_type": "stream",
     "text": [
      "\n",
      "Processing 1989_Back.to.the.Future.Part.II.1989.720p.BluRay.X264-AMIABLE:   0%| \u001b[A\n",
      "Processing 1989_Back.to.the.Future.Part.II.1989.720p.BluRay.X264-AMIABLE:  11%| \u001b[A\n",
      "Processing 1989_Back.to.the.Future.Part.II.1989.720p.BluRay.X264-AMIABLE:  22%|▏\u001b[A\n",
      "Processing 1989_Back.to.the.Future.Part.II.1989.720p.BluRay.X264-AMIABLE:  33%|▎\u001b[A\n",
      "Processing 1989_Back.to.the.Future.Part.II.1989.720p.BluRay.X264-AMIABLE:  44%|▍\u001b[A\n",
      "Processing 1989_Back.to.the.Future.Part.II.1989.720p.BluRay.X264-AMIABLE:  56%|▌\u001b[A\n",
      "Processing 1989_Back.to.the.Future.Part.II.1989.720p.BluRay.X264-AMIABLE:  67%|▋\u001b[A\n",
      "Processing 1989_Back.to.the.Future.Part.II.1989.720p.BluRay.X264-AMIABLE:  78%|▊\u001b[A\n",
      "Processing 1989_Back.to.the.Future.Part.II.1989.720p.BluRay.X264-AMIABLE:  89%|▉\u001b[A\n",
      "Processing 1989_Back.to.the.Future.Part.II.1989.720p.BluRay.X264-AMIABLE: 100%|█\u001b[A\n",
      "Scoring movies:  16%|████▏                     | 71/443 [00:48<05:08,  1.21it/s]\u001b[A"
     ]
    },
    {
     "name": "stdout",
     "output_type": "stream",
     "text": [
      "✅ Finished: 1989_Back.to.the.Future.Part.II.1989.720p.BluRay.X264-AMIABLE (9 chunks scored)\n"
     ]
    },
    {
     "name": "stderr",
     "output_type": "stream",
     "text": [
      "\n",
      "Processing 2019_The.Lion.King.2019.BDRip.XviD.AC3-EVO:   0%| | 0/9 [00:00<?, ?it\u001b[A\n",
      "Processing 2019_The.Lion.King.2019.BDRip.XviD.AC3-EVO:  11%| | 1/9 [00:03<00:24,\u001b[A\n",
      "Processing 2019_The.Lion.King.2019.BDRip.XviD.AC3-EVO:  22%|▏| 2/9 [00:06<00:22,\u001b[A\n",
      "Processing 2019_The.Lion.King.2019.BDRip.XviD.AC3-EVO:  33%|▎| 3/9 [00:08<00:17,\u001b[A\n",
      "Processing 2019_The.Lion.King.2019.BDRip.XviD.AC3-EVO:  44%|▍| 4/9 [00:11<00:13,\u001b[A\n",
      "Processing 2019_The.Lion.King.2019.BDRip.XviD.AC3-EVO:  56%|▌| 5/9 [00:14<00:11,\u001b[A\n",
      "Processing 2019_The.Lion.King.2019.BDRip.XviD.AC3-EVO:  67%|▋| 6/9 [00:17<00:08,\u001b[A\n",
      "Processing 2019_The.Lion.King.2019.BDRip.XviD.AC3-EVO:  78%|▊| 7/9 [00:19<00:05,\u001b[A\n",
      "Processing 2019_The.Lion.King.2019.BDRip.XviD.AC3-EVO:  89%|▉| 8/9 [00:22<00:02,\u001b[A\n",
      "Processing 2019_The.Lion.King.2019.BDRip.XviD.AC3-EVO: 100%|█| 9/9 [00:24<00:00,\u001b[A\n",
      "Scoring movies:  16%|████▏                     | 72/443 [01:13<09:15,  1.50s/it]\u001b[A"
     ]
    },
    {
     "name": "stdout",
     "output_type": "stream",
     "text": [
      "✅ Finished: 2019_The.Lion.King.2019.BDRip.XviD.AC3-EVO (9 chunks scored)\n"
     ]
    },
    {
     "name": "stderr",
     "output_type": "stream",
     "text": [
      "\n",
      "Processing 1982_Star Trek 02 Wrath Of Khan 1982 1280x528.eng:   0%| | 0/9 [00:00\u001b[A\n",
      "Processing 1982_Star Trek 02 Wrath Of Khan 1982 1280x528.eng:  11%| | 1/9 [00:02\u001b[A\n",
      "Processing 1982_Star Trek 02 Wrath Of Khan 1982 1280x528.eng:  22%|▏| 2/9 [00:05\u001b[A\n",
      "Processing 1982_Star Trek 02 Wrath Of Khan 1982 1280x528.eng:  33%|▎| 3/9 [00:08\u001b[A\n",
      "Processing 1982_Star Trek 02 Wrath Of Khan 1982 1280x528.eng:  44%|▍| 4/9 [00:10\u001b[A\n",
      "Processing 1982_Star Trek 02 Wrath Of Khan 1982 1280x528.eng:  56%|▌| 5/9 [00:13\u001b[A\n",
      "Processing 1982_Star Trek 02 Wrath Of Khan 1982 1280x528.eng:  67%|▋| 6/9 [00:15\u001b[A\n",
      "Processing 1982_Star Trek 02 Wrath Of Khan 1982 1280x528.eng:  78%|▊| 7/9 [00:18\u001b[A\n",
      "Processing 1982_Star Trek 02 Wrath Of Khan 1982 1280x528.eng:  89%|▉| 8/9 [00:20\u001b[A\n",
      "Processing 1982_Star Trek 02 Wrath Of Khan 1982 1280x528.eng: 100%|█| 9/9 [00:23\u001b[A\n",
      "Scoring movies:  16%|████▎                     | 73/443 [01:36<14:24,  2.34s/it]\u001b[A"
     ]
    },
    {
     "name": "stdout",
     "output_type": "stream",
     "text": [
      "✅ Finished: 1982_Star Trek 02 Wrath Of Khan 1982 1280x528.eng (9 chunks scored)\n"
     ]
    },
    {
     "name": "stderr",
     "output_type": "stream",
     "text": [
      "\n",
      "Processing 1996_Mission.Impossible.1996.720p.BluRay.DD.x264-ESiR.ENG:   0%| | 0/\u001b[A\n",
      "Processing 1996_Mission.Impossible.1996.720p.BluRay.DD.x264-ESiR.ENG:  25%|▎| 1/\u001b[A\n",
      "Processing 1996_Mission.Impossible.1996.720p.BluRay.DD.x264-ESiR.ENG:  50%|▌| 2/\u001b[A\n",
      "Processing 1996_Mission.Impossible.1996.720p.BluRay.DD.x264-ESiR.ENG:  75%|▊| 3/\u001b[A\n",
      "Processing 1996_Mission.Impossible.1996.720p.BluRay.DD.x264-ESiR.ENG: 100%|█| 4/\u001b[A\n",
      "Scoring movies:  17%|████▎                     | 74/443 [01:48<17:20,  2.82s/it]\u001b[A"
     ]
    },
    {
     "name": "stdout",
     "output_type": "stream",
     "text": [
      "✅ Finished: 1996_Mission.Impossible.1996.720p.BluRay.DD.x264-ESiR.ENG (4 chunks scored)\n"
     ]
    },
    {
     "name": "stderr",
     "output_type": "stream",
     "text": [
      "\n",
      "Processing 1997_Men.In.Black.1997.1080p.Blu-ray.AVC.DTS-HD.MA.5.1-CHDBits.englis\u001b[A\n",
      "Processing 1997_Men.In.Black.1997.1080p.Blu-ray.AVC.DTS-HD.MA.5.1-CHDBits.englis\u001b[A\n",
      "Processing 1997_Men.In.Black.1997.1080p.Blu-ray.AVC.DTS-HD.MA.5.1-CHDBits.englis\u001b[A\n",
      "Processing 1997_Men.In.Black.1997.1080p.Blu-ray.AVC.DTS-HD.MA.5.1-CHDBits.englis\u001b[A\n",
      "Processing 1997_Men.In.Black.1997.1080p.Blu-ray.AVC.DTS-HD.MA.5.1-CHDBits.englis\u001b[A\n",
      "Processing 1997_Men.In.Black.1997.1080p.Blu-ray.AVC.DTS-HD.MA.5.1-CHDBits.englis\u001b[A\n",
      "Processing 1997_Men.In.Black.1997.1080p.Blu-ray.AVC.DTS-HD.MA.5.1-CHDBits.englis\u001b[A\n",
      "Scoring movies:  17%|████▍                     | 75/443 [02:06<23:43,  3.87s/it]\u001b[A"
     ]
    },
    {
     "name": "stdout",
     "output_type": "stream",
     "text": [
      "✅ Finished: 1997_Men.In.Black.1997.1080p.Blu-ray.AVC.DTS-HD.MA.5.1-CHDBits.english (6 chunks scored)\n"
     ]
    },
    {
     "name": "stderr",
     "output_type": "stream",
     "text": [
      "\n",
      "Processing 1998_dr_dolittle_engl:   0%|                   | 0/7 [00:00<?, ?it/s]\u001b[A\n",
      "Processing 1998_dr_dolittle_engl:  14%|█▌         | 1/7 [00:03<00:21,  3.56s/it]\u001b[A\n",
      "Processing 1998_dr_dolittle_engl:  29%|███▏       | 2/7 [00:07<00:17,  3.53s/it]\u001b[A\n",
      "Processing 1998_dr_dolittle_engl:  43%|████▋      | 3/7 [00:09<00:12,  3.20s/it]\u001b[A\n",
      "Processing 1998_dr_dolittle_engl:  57%|██████▎    | 4/7 [00:12<00:09,  3.03s/it]\u001b[A\n",
      "Processing 1998_dr_dolittle_engl:  71%|███████▊   | 5/7 [00:16<00:06,  3.18s/it]\u001b[A\n",
      "Processing 1998_dr_dolittle_engl:  86%|█████████▍ | 6/7 [00:18<00:02,  2.98s/it]\u001b[A\n",
      "Processing 1998_dr_dolittle_engl: 100%|███████████| 7/7 [00:21<00:00,  2.99s/it]\u001b[A\n",
      "Scoring movies:  17%|████▍                     | 76/443 [02:28<33:26,  5.47s/it]\u001b[A"
     ]
    },
    {
     "name": "stdout",
     "output_type": "stream",
     "text": [
      "✅ Finished: 1998_dr_dolittle_engl (7 chunks scored)\n"
     ]
    },
    {
     "name": "stderr",
     "output_type": "stream",
     "text": [
      "\n",
      "Processing 2002_Star.Wars.Episode.II.Attack.of.the.Clones.(2002).DVDRip.XviD-UnS\u001b[A\n",
      "Processing 2002_Star.Wars.Episode.II.Attack.of.the.Clones.(2002).DVDRip.XviD-UnS\u001b[A\n",
      "Processing 2002_Star.Wars.Episode.II.Attack.of.the.Clones.(2002).DVDRip.XviD-UnS\u001b[A\n",
      "Processing 2002_Star.Wars.Episode.II.Attack.of.the.Clones.(2002).DVDRip.XviD-UnS\u001b[A\n",
      "Processing 2002_Star.Wars.Episode.II.Attack.of.the.Clones.(2002).DVDRip.XviD-UnS\u001b[A\n",
      "Processing 2002_Star.Wars.Episode.II.Attack.of.the.Clones.(2002).DVDRip.XviD-UnS\u001b[A\n",
      "Processing 2002_Star.Wars.Episode.II.Attack.of.the.Clones.(2002).DVDRip.XviD-UnS\u001b[A\n",
      "Processing 2002_Star.Wars.Episode.II.Attack.of.the.Clones.(2002).DVDRip.XviD-UnS\u001b[A\n",
      "Scoring movies:  17%|████▌                     | 77/443 [02:48<43:52,  7.19s/it]\u001b[A"
     ]
    },
    {
     "name": "stdout",
     "output_type": "stream",
     "text": [
      "✅ Finished: 2002_Star.Wars.Episode.II.Attack.of.the.Clones.(2002).DVDRip.XviD-UnSeeN (7 chunks scored)\n"
     ]
    },
    {
     "name": "stderr",
     "output_type": "stream",
     "text": [
      "\n",
      "Processing 2005_Hitch.2005.WS.DVDRiP.XViD-CCTV.en:   0%|  | 0/9 [00:00<?, ?it/s]\u001b[A\n",
      "Processing 2005_Hitch.2005.WS.DVDRiP.XViD-CCTV.en:  11%| | 1/9 [00:03<00:25,  3.\u001b[A\n",
      "Processing 2005_Hitch.2005.WS.DVDRiP.XViD-CCTV.en:  22%|▏| 2/9 [00:06<00:21,  3.\u001b[A\n",
      "Processing 2005_Hitch.2005.WS.DVDRiP.XViD-CCTV.en:  33%|▎| 3/9 [00:08<00:17,  2.\u001b[A\n",
      "Processing 2005_Hitch.2005.WS.DVDRiP.XViD-CCTV.en:  44%|▍| 4/9 [00:11<00:14,  2.\u001b[A\n",
      "Processing 2005_Hitch.2005.WS.DVDRiP.XViD-CCTV.en:  56%|▌| 5/9 [00:14<00:11,  2.\u001b[A\n",
      "Processing 2005_Hitch.2005.WS.DVDRiP.XViD-CCTV.en:  67%|▋| 6/9 [00:17<00:08,  2.\u001b[A\n",
      "Processing 2005_Hitch.2005.WS.DVDRiP.XViD-CCTV.en:  78%|▊| 7/9 [00:20<00:05,  2.\u001b[A\n",
      "Processing 2005_Hitch.2005.WS.DVDRiP.XViD-CCTV.en:  89%|▉| 8/9 [00:23<00:02,  2.\u001b[A\n",
      "Processing 2005_Hitch.2005.WS.DVDRiP.XViD-CCTV.en: 100%|█| 9/9 [00:25<00:00,  2.\u001b[A\n",
      "Scoring movies:  18%|████▌                     | 78/443 [03:14<59:37,  9.80s/it]\u001b[A"
     ]
    },
    {
     "name": "stdout",
     "output_type": "stream",
     "text": [
      "✅ Finished: 2005_Hitch.2005.WS.DVDRiP.XViD-CCTV.en (9 chunks scored)\n"
     ]
    },
    {
     "name": "stderr",
     "output_type": "stream",
     "text": [
      "\n",
      "Processing 1983_Flashdance.[Flashdance].1983.DVDRip.XviD.telumethar.eDonkers.cd1\u001b[A\n",
      "Processing 1983_Flashdance.[Flashdance].1983.DVDRip.XviD.telumethar.eDonkers.cd1\u001b[A\n",
      "Processing 1983_Flashdance.[Flashdance].1983.DVDRip.XviD.telumethar.eDonkers.cd1\u001b[A\n",
      "Scoring movies:  18%|████▌                     | 78/443 [03:23<15:49,  2.60s/it]\u001b[A\n"
     ]
    },
    {
     "ename": "KeyboardInterrupt",
     "evalue": "",
     "output_type": "error",
     "traceback": [
      "\u001b[0;31m---------------------------------------------------------------------------\u001b[0m",
      "\u001b[0;31mKeyboardInterrupt\u001b[0m                         Traceback (most recent call last)",
      "Cell \u001b[0;32mIn[3], line 94\u001b[0m\n\u001b[1;32m     91\u001b[0m         \u001b[38;5;28mprint\u001b[39m(\u001b[38;5;124mf\u001b[39m\u001b[38;5;124m\"\u001b[39m\u001b[38;5;124m⚠️ Error parsing chunk \u001b[39m\u001b[38;5;132;01m{\u001b[39;00mchunk_id\u001b[38;5;132;01m}\u001b[39;00m\u001b[38;5;124m: \u001b[39m\u001b[38;5;132;01m{\u001b[39;00me\u001b[38;5;132;01m}\u001b[39;00m\u001b[38;5;124m\"\u001b[39m)\n\u001b[1;32m     92\u001b[0m         \u001b[38;5;28;01mcontinue\u001b[39;00m\n\u001b[0;32m---> 94\u001b[0m     \u001b[43mtime\u001b[49m\u001b[38;5;241;43m.\u001b[39;49m\u001b[43msleep\u001b[49m\u001b[43m(\u001b[49m\u001b[38;5;241;43m1.5\u001b[39;49m\u001b[43m)\u001b[49m  \u001b[38;5;66;03m# Pause to respect rate limits (adjust if needed)\u001b[39;00m\n\u001b[1;32m     96\u001b[0m \u001b[38;5;28;01mwith\u001b[39;00m \u001b[38;5;28mopen\u001b[39m(output_path, \u001b[38;5;124m\"\u001b[39m\u001b[38;5;124mw\u001b[39m\u001b[38;5;124m\"\u001b[39m, encoding\u001b[38;5;241m=\u001b[39m\u001b[38;5;124m\"\u001b[39m\u001b[38;5;124mutf-8\u001b[39m\u001b[38;5;124m\"\u001b[39m) \u001b[38;5;28;01mas\u001b[39;00m f:\n\u001b[1;32m     97\u001b[0m     json\u001b[38;5;241m.\u001b[39mdump(scored_chunks, f, indent\u001b[38;5;241m=\u001b[39m\u001b[38;5;241m2\u001b[39m)\n",
      "\u001b[0;31mKeyboardInterrupt\u001b[0m: "
     ]
    }
   ],
   "source": [
    "import os\n",
    "import json\n",
    "import time\n",
    "import requests\n",
    "from pathlib import Path\n",
    "from tqdm import tqdm\n",
    "\n",
    "# === API setup ===\n",
    "api_key = \"apikey\"  # 👈 Insert your API key here\n",
    "api_url = \"https://api.anthropic.com/v1/messages\"\n",
    "model_name = \"claude-3-haiku-20240307\"\n",
    "\n",
    "headers = {\n",
    "    \"x-api-key\": api_key,\n",
    "    \"anthropic-version\": \"2023-06-01\",\n",
    "    \"content-type\": \"application/json\",\n",
    "}\n",
    "\n",
    "# === Paths ===\n",
    "base_path = Path.home() / \"Desktop\" / \"processed_subs\"\n",
    "prompts_dir = base_path / \"prompts_claude_new\"  # using the newprompt folder\n",
    "output_dir = base_path / \"scored_prompts_claude_new\"  # new output folder\n",
    "output_dir.mkdir(parents=True, exist_ok=True)\n",
    "\n",
    "# === Helper: send prompt to Claude and get response ===\n",
    "def call_claude(prompt):\n",
    "    payload = {\n",
    "        \"model\": model_name,\n",
    "        \"max_tokens\": 512,\n",
    "        \"temperature\": 0,\n",
    "        \"system\": \"You are a political sentiment scorer. Always respond ONLY with the exact JSON format requested.\",\n",
    "        \"messages\": [\n",
    "            {\"role\": \"user\", \"content\": prompt}\n",
    "        ]\n",
    "    }\n",
    "    \n",
    "    response = requests.post(api_url, headers=headers, json=payload)\n",
    "    \n",
    "    if response.status_code != 200:\n",
    "        print(f\"⚠️ API Error {response.status_code}: {response.text}\")\n",
    "        return None\n",
    "    \n",
    "    data = response.json()\n",
    "    content = data[\"content\"][0][\"text\"]\n",
    "    \n",
    "    try:\n",
    "        return json.loads(content)\n",
    "    except json.JSONDecodeError:\n",
    "        print(f\"⚠️ JSON parsing error: {content}\")\n",
    "        return None\n",
    "\n",
    "# === Main Scoring Loop ===\n",
    "prompt_files = list(prompts_dir.glob(\"*.json\"))\n",
    "print(f\"Found {len(prompt_files)} prompt files.\")\n",
    "\n",
    "for prompt_file in tqdm(prompt_files, desc=\"Scoring movies\"):\n",
    "    filename_stem = prompt_file.stem.replace(\"_prompts\", \"\")\n",
    "    output_path = output_dir / f\"{filename_stem}_scored.json\"\n",
    "    \n",
    "    # === Check if already scored ===\n",
    "    if output_path.exists():\n",
    "        print(f\"⚠️ {filename_stem} already scored, skipping...\")\n",
    "        continue\n",
    "    \n",
    "    with open(prompt_file, \"r\", encoding=\"utf-8\") as f:\n",
    "        prompts_data = json.load(f)\n",
    "    \n",
    "    scored_chunks = []\n",
    "    \n",
    "    for entry in tqdm(prompts_data, desc=f\"Processing {filename_stem}\", leave=False):\n",
    "        chunk_id = entry[\"chunk_id\"]\n",
    "        prompt = entry[\"prompt\"]\n",
    "        \n",
    "        result = call_claude(prompt)\n",
    "        \n",
    "        if result is None:\n",
    "            print(f\"❌ Failed on chunk {chunk_id} in {filename_stem}\")\n",
    "            continue\n",
    "        \n",
    "        try:\n",
    "            scored_chunks.append({\n",
    "                \"chunk_id\": chunk_id,\n",
    "                \"universalism_score\": result[\"universalism\"][0],\n",
    "                \"universalism_confidence\": result[\"universalism\"][1],\n",
    "                \"egalitarianism_score\": result[\"egalitarianism\"][0],\n",
    "                \"egalitarianism_confidence\": result[\"egalitarianism\"][1],\n",
    "                \"progress_score\": result[\"progress\"][0],\n",
    "                \"progress_confidence\": result[\"progress\"][1],\n",
    "            })\n",
    "        except Exception as e:\n",
    "            print(f\"⚠️ Error parsing chunk {chunk_id}: {e}\")\n",
    "            continue\n",
    "        \n",
    "        time.sleep(1.5)  # Pause to respect rate limits (adjust if needed)\n",
    "\n",
    "    with open(output_path, \"w\", encoding=\"utf-8\") as f:\n",
    "        json.dump(scored_chunks, f, indent=2)\n",
    "    \n",
    "    print(f\"✅ Finished: {filename_stem} ({len(scored_chunks)} chunks scored)\")\n",
    "\n",
    "print(\"\\n🎉 All done! New movies scored, no overwrites happened!\")\n"
   ]
  },
  {
   "cell_type": "code",
   "execution_count": 5,
   "id": "bf1d6273-1b35-4c77-9b27-5a588ad891f5",
   "metadata": {},
   "outputs": [
    {
     "name": "stdout",
     "output_type": "stream",
     "text": [
      "Found 443 prompt files.\n"
     ]
    },
    {
     "name": "stderr",
     "output_type": "stream",
     "text": [
      "Scoring movies:   0%|                                   | 0/443 [00:00<?, ?it/s]"
     ]
    },
    {
     "name": "stdout",
     "output_type": "stream",
     "text": [
      "✅ 1977_Looking.For.Mr.Goodbar.ENG.PAL.en already fully scored, skipping.\n",
      "✅ 1983_Octopussy.1983.DVD5.720p.HDTV.x264-NBS.eng already fully scored, skipping.\n",
      "✅ 2020_Birds.of.Prey.And.the.Fantabulous.Emancipation.of.One.Harley.Quinn.2020.HC.720p.HDRip.800M already fully scored, skipping.\n",
      "✅ 1978_Every.Which.Way.But.Loose.1978.1080p.BluRay.x264-aAF.ENG already fully scored, skipping.\n",
      "✅ 2002_Signs.2002.720p.BluRay.x264.DTS-HDChina.eng already fully scored, skipping.\n",
      "🔄 1999_Runaway Bride (1999) [BluRay] [1080p] [YTS.AM].eng partially scored, resuming...\n"
     ]
    },
    {
     "name": "stderr",
     "output_type": "stream",
     "text": [
      "\n",
      "Processing 1999_Runaway Bride (1999) [BluRay] [1080p] [YTS.AM].eng:   0%| | 0/4 \u001b[A\n",
      "Processing 1999_Runaway Bride (1999) [BluRay] [1080p] [YTS.AM].eng:  25%|▎| 1/4 \u001b[A\n",
      "Processing 1999_Runaway Bride (1999) [BluRay] [1080p] [YTS.AM].eng:  50%|▌| 2/4 \u001b[A\n",
      "Processing 1999_Runaway Bride (1999) [BluRay] [1080p] [YTS.AM].eng:  75%|▊| 3/4 \u001b[A\n",
      "Processing 1999_Runaway Bride (1999) [BluRay] [1080p] [YTS.AM].eng: 100%|█| 4/4 \u001b[A\n",
      "Scoring movies:   1%|▎                          | 6/443 [00:11<13:56,  1.91s/it]\u001b[A"
     ]
    },
    {
     "name": "stdout",
     "output_type": "stream",
     "text": [
      "✅ Finished scoring: 1999_Runaway Bride (1999) [BluRay] [1080p] [YTS.AM].eng\n",
      "🔄 1986_Ferris.Buellers.Day.Off.1986.1080p.BluRay.x264-CiNEFiLE.ENG partially scored, resuming...\n"
     ]
    },
    {
     "name": "stderr",
     "output_type": "stream",
     "text": [
      "\n",
      "Processing 1986_Ferris.Buellers.Day.Off.1986.1080p.BluRay.x264-CiNEFiLE.ENG:   0\u001b[A\n",
      "Processing 1986_Ferris.Buellers.Day.Off.1986.1080p.BluRay.x264-CiNEFiLE.ENG:  17\u001b[A\n",
      "Processing 1986_Ferris.Buellers.Day.Off.1986.1080p.BluRay.x264-CiNEFiLE.ENG:  33\u001b[A\n",
      "Processing 1986_Ferris.Buellers.Day.Off.1986.1080p.BluRay.x264-CiNEFiLE.ENG:  50\u001b[A\n",
      "Processing 1986_Ferris.Buellers.Day.Off.1986.1080p.BluRay.x264-CiNEFiLE.ENG:  67\u001b[A\n",
      "Processing 1986_Ferris.Buellers.Day.Off.1986.1080p.BluRay.x264-CiNEFiLE.ENG:  83\u001b[A\n",
      "Processing 1986_Ferris.Buellers.Day.Off.1986.1080p.BluRay.x264-CiNEFiLE.ENG: 100\u001b[A\n",
      "Scoring movies:   2%|▍                          | 7/443 [00:27<33:09,  4.56s/it]\u001b[A"
     ]
    },
    {
     "name": "stdout",
     "output_type": "stream",
     "text": [
      "✅ Finished scoring: 1986_Ferris.Buellers.Day.Off.1986.1080p.BluRay.x264-CiNEFiLE.ENG\n",
      "🔄 2005_The.Chronicles.Of.Narnia.2005.BluRay.1080p.DTS.x264.dxva-EuReKA.ENG partially scored, resuming...\n"
     ]
    },
    {
     "name": "stderr",
     "output_type": "stream",
     "text": [
      "\n",
      "Processing 2005_The.Chronicles.Of.Narnia.2005.BluRay.1080p.DTS.x264.dxva-EuReKA.\u001b[A\n",
      "Processing 2005_The.Chronicles.Of.Narnia.2005.BluRay.1080p.DTS.x264.dxva-EuReKA.\u001b[A\n",
      "Processing 2005_The.Chronicles.Of.Narnia.2005.BluRay.1080p.DTS.x264.dxva-EuReKA.\u001b[A\n",
      "Processing 2005_The.Chronicles.Of.Narnia.2005.BluRay.1080p.DTS.x264.dxva-EuReKA.\u001b[A\n",
      "Processing 2005_The.Chronicles.Of.Narnia.2005.BluRay.1080p.DTS.x264.dxva-EuReKA.\u001b[A\n",
      "Processing 2005_The.Chronicles.Of.Narnia.2005.BluRay.1080p.DTS.x264.dxva-EuReKA.\u001b[A\n",
      "Processing 2005_The.Chronicles.Of.Narnia.2005.BluRay.1080p.DTS.x264.dxva-EuReKA.\u001b[A\n",
      "Scoring movies:   2%|▍                          | 8/443 [00:44<52:33,  7.25s/it]\u001b[A"
     ]
    },
    {
     "name": "stdout",
     "output_type": "stream",
     "text": [
      "✅ Finished scoring: 2005_The.Chronicles.Of.Narnia.2005.BluRay.1080p.DTS.x264.dxva-EuReKA.ENG\n",
      "🔄 2011_Thor partially scored, resuming...\n"
     ]
    },
    {
     "name": "stderr",
     "output_type": "stream",
     "text": [
      "\n",
      "Processing 2011_Thor:   0%|                               | 0/6 [00:00<?, ?it/s]\u001b[A\n",
      "Processing 2011_Thor:  17%|███▊                   | 1/6 [00:02<00:12,  2.59s/it]\u001b[A\n",
      "Processing 2011_Thor:  33%|███████▋               | 2/6 [00:05<00:11,  2.90s/it]\u001b[A\n",
      "Processing 2011_Thor:  50%|███████████▌           | 3/6 [00:08<00:08,  2.79s/it]\u001b[A\n",
      "Processing 2011_Thor:  67%|███████████████▎       | 4/6 [00:10<00:05,  2.69s/it]\u001b[A\n",
      "Processing 2011_Thor:  83%|███████████████████▏   | 5/6 [00:13<00:02,  2.75s/it]\u001b[A\n",
      "Processing 2011_Thor: 100%|███████████████████████| 6/6 [00:16<00:00,  2.66s/it]\u001b[A\n",
      "Scoring movies:   2%|▌                        | 9/443 [01:00<1:07:46,  9.37s/it]\u001b[A"
     ]
    },
    {
     "name": "stdout",
     "output_type": "stream",
     "text": [
      "✅ Finished scoring: 2011_Thor\n",
      "🔄 2017_Despicable. Me. 3. 2017. 720p. BluRay. X264-AMIABLE partially scored, resuming...\n"
     ]
    },
    {
     "name": "stderr",
     "output_type": "stream",
     "text": [
      "\n",
      "Processing 2017_Despicable. Me. 3. 2017. 720p. BluRay. X264-AMIABLE:   0%| | 0/6\u001b[A\n",
      "Processing 2017_Despicable. Me. 3. 2017. 720p. BluRay. X264-AMIABLE:  17%|▏| 1/6\u001b[A\n",
      "Processing 2017_Despicable. Me. 3. 2017. 720p. BluRay. X264-AMIABLE:  33%|▎| 2/6\u001b[A\n",
      "Processing 2017_Despicable. Me. 3. 2017. 720p. BluRay. X264-AMIABLE:  50%|▌| 3/6\u001b[A\n",
      "Processing 2017_Despicable. Me. 3. 2017. 720p. BluRay. X264-AMIABLE:  67%|▋| 4/6\u001b[A\n",
      "Processing 2017_Despicable. Me. 3. 2017. 720p. BluRay. X264-AMIABLE:  83%|▊| 5/6\u001b[A\n",
      "Processing 2017_Despicable. Me. 3. 2017. 720p. BluRay. X264-AMIABLE: 100%|█| 6/6\u001b[A\n",
      "Scoring movies:   2%|▌                       | 10/443 [01:16<1:20:11, 11.11s/it]\u001b[A"
     ]
    },
    {
     "name": "stdout",
     "output_type": "stream",
     "text": [
      "✅ Finished scoring: 2017_Despicable. Me. 3. 2017. 720p. BluRay. X264-AMIABLE\n",
      "🔄 2007_Ratatouille.2007.720p.BluRay.DTS.x264-ESiR.ENG partially scored, resuming...\n"
     ]
    },
    {
     "name": "stderr",
     "output_type": "stream",
     "text": [
      "\n",
      "Processing 2007_Ratatouille.2007.720p.BluRay.DTS.x264-ESiR.ENG:   0%| | 0/6 [00:\u001b[A\n",
      "Processing 2007_Ratatouille.2007.720p.BluRay.DTS.x264-ESiR.ENG:  17%|▏| 1/6 [00:\u001b[A\n",
      "Processing 2007_Ratatouille.2007.720p.BluRay.DTS.x264-ESiR.ENG:  33%|▎| 2/6 [00:\u001b[A\n",
      "Processing 2007_Ratatouille.2007.720p.BluRay.DTS.x264-ESiR.ENG:  50%|▌| 3/6 [00:\u001b[A\n",
      "Processing 2007_Ratatouille.2007.720p.BluRay.DTS.x264-ESiR.ENG:  67%|▋| 4/6 [00:\u001b[A\n",
      "Processing 2007_Ratatouille.2007.720p.BluRay.DTS.x264-ESiR.ENG:  83%|▊| 5/6 [00:\u001b[A\n",
      "Processing 2007_Ratatouille.2007.720p.BluRay.DTS.x264-ESiR.ENG: 100%|█| 6/6 [00:\u001b[A\n",
      "Scoring movies:   2%|▌                       | 11/443 [01:32<1:28:26, 12.28s/it]\u001b[A"
     ]
    },
    {
     "name": "stdout",
     "output_type": "stream",
     "text": [
      "✅ Finished scoring: 2007_Ratatouille.2007.720p.BluRay.DTS.x264-ESiR.ENG\n",
      "🔄 1996_Ransom_EN partially scored, resuming...\n"
     ]
    },
    {
     "name": "stderr",
     "output_type": "stream",
     "text": [
      "\n",
      "Processing 1996_Ransom_EN:   0%|                          | 0/8 [00:00<?, ?it/s]\u001b[A\n",
      "Processing 1996_Ransom_EN:  12%|██▎               | 1/8 [00:02<00:19,  2.76s/it]\u001b[A\n",
      "Processing 1996_Ransom_EN:  25%|████▌             | 2/8 [00:05<00:16,  2.68s/it]\u001b[A\n",
      "Processing 1996_Ransom_EN:  38%|██████▊           | 3/8 [00:07<00:13,  2.64s/it]\u001b[A\n",
      "Processing 1996_Ransom_EN:  50%|█████████         | 4/8 [00:10<00:10,  2.62s/it]\u001b[A\n",
      "Processing 1996_Ransom_EN:  62%|███████████▎      | 5/8 [00:13<00:07,  2.66s/it]\u001b[A\n",
      "Processing 1996_Ransom_EN:  75%|█████████████▌    | 6/8 [00:16<00:05,  2.91s/it]\u001b[A\n",
      "Processing 1996_Ransom_EN:  88%|███████████████▊  | 7/8 [00:19<00:02,  2.75s/it]\u001b[A\n",
      "Processing 1996_Ransom_EN: 100%|██████████████████| 8/8 [00:22<00:00,  2.82s/it]\u001b[A\n",
      "Scoring movies:   3%|▋                       | 12/443 [01:54<1:47:36, 14.98s/it]\u001b[A"
     ]
    },
    {
     "name": "stdout",
     "output_type": "stream",
     "text": [
      "✅ Finished scoring: 1996_Ransom_EN\n",
      "🔄 2009_The.Blind.Side.2009.720p.BluRay.x264.YIFY.eng partially scored, resuming...\n"
     ]
    },
    {
     "name": "stderr",
     "output_type": "stream",
     "text": [
      "\n",
      "Processing 2009_The.Blind.Side.2009.720p.BluRay.x264.YIFY.eng:   0%| | 0/8 [00:0\u001b[A\n",
      "Processing 2009_The.Blind.Side.2009.720p.BluRay.x264.YIFY.eng:  12%|▏| 1/8 [00:0\u001b[A\n",
      "Processing 2009_The.Blind.Side.2009.720p.BluRay.x264.YIFY.eng:  25%|▎| 2/8 [00:0\u001b[A\n",
      "Processing 2009_The.Blind.Side.2009.720p.BluRay.x264.YIFY.eng:  38%|▍| 3/8 [00:0\u001b[A\n",
      "Processing 2009_The.Blind.Side.2009.720p.BluRay.x264.YIFY.eng:  50%|▌| 4/8 [00:1\u001b[A\n",
      "Processing 2009_The.Blind.Side.2009.720p.BluRay.x264.YIFY.eng:  62%|▋| 5/8 [00:1\u001b[A\n",
      "Processing 2009_The.Blind.Side.2009.720p.BluRay.x264.YIFY.eng:  75%|▊| 6/8 [00:1\u001b[A\n",
      "Processing 2009_The.Blind.Side.2009.720p.BluRay.x264.YIFY.eng:  88%|▉| 7/8 [00:1\u001b[A\n",
      "Processing 2009_The.Blind.Side.2009.720p.BluRay.x264.YIFY.eng: 100%|█| 8/8 [00:2\u001b[A\n",
      "Scoring movies:   3%|▋                       | 13/443 [02:16<2:01:41, 16.98s/it]\u001b[A"
     ]
    },
    {
     "name": "stdout",
     "output_type": "stream",
     "text": [
      "✅ Finished scoring: 2009_The.Blind.Side.2009.720p.BluRay.x264.YIFY.eng\n",
      "🔄 2023_The.Super.Mario.Bros.Movie.2023.1080p.MA.WEBRip.DDP5.1.Atmos.x264-CMaRioG partially scored, resuming...\n"
     ]
    },
    {
     "name": "stderr",
     "output_type": "stream",
     "text": [
      "\n",
      "Processing 2023_The.Super.Mario.Bros.Movie.2023.1080p.MA.WEBRip.DDP5.1.Atmos.x26\u001b[A\n",
      "Processing 2023_The.Super.Mario.Bros.Movie.2023.1080p.MA.WEBRip.DDP5.1.Atmos.x26\u001b[A\n",
      "Processing 2023_The.Super.Mario.Bros.Movie.2023.1080p.MA.WEBRip.DDP5.1.Atmos.x26\u001b[A\n",
      "Processing 2023_The.Super.Mario.Bros.Movie.2023.1080p.MA.WEBRip.DDP5.1.Atmos.x26\u001b[A\n",
      "Processing 2023_The.Super.Mario.Bros.Movie.2023.1080p.MA.WEBRip.DDP5.1.Atmos.x26\u001b[A\n",
      "Scoring movies:   3%|▊                       | 14/443 [02:27<1:48:58, 15.24s/it]\u001b[A"
     ]
    },
    {
     "name": "stdout",
     "output_type": "stream",
     "text": [
      "✅ Finished scoring: 2023_The.Super.Mario.Bros.Movie.2023.1080p.MA.WEBRip.DDP5.1.Atmos.x264-CMaRioG\n",
      "🔄 2001_Hannibal.2001.1080p.BluRay.x264-iKA.ENG partially scored, resuming...\n"
     ]
    },
    {
     "name": "stderr",
     "output_type": "stream",
     "text": [
      "\n",
      "Processing 2001_Hannibal.2001.1080p.BluRay.x264-iKA.ENG:   0%| | 0/5 [00:00<?, ?\u001b[A\n",
      "Processing 2001_Hannibal.2001.1080p.BluRay.x264-iKA.ENG:  20%|▏| 1/5 [00:02<00:1\u001b[A\n",
      "Processing 2001_Hannibal.2001.1080p.BluRay.x264-iKA.ENG:  40%|▍| 2/5 [00:05<00:0\u001b[A\n",
      "Processing 2001_Hannibal.2001.1080p.BluRay.x264-iKA.ENG:  60%|▌| 3/5 [00:08<00:0\u001b[A"
     ]
    },
    {
     "name": "stdout",
     "output_type": "stream",
     "text": [
      "⚠️ Rate limit hit. Waiting 60 seconds...\n"
     ]
    },
    {
     "name": "stderr",
     "output_type": "stream",
     "text": [
      "\n",
      "Processing 2001_Hannibal.2001.1080p.BluRay.x264-iKA.ENG:  80%|▊| 4/5 [01:11<00:2\u001b[A\n",
      "Processing 2001_Hannibal.2001.1080p.BluRay.x264-iKA.ENG: 100%|█| 5/5 [01:13<00:0\u001b[A\n",
      "Scoring movies:   3%|▊                       | 15/443 [03:41<3:50:08, 32.26s/it]\u001b[A"
     ]
    },
    {
     "name": "stdout",
     "output_type": "stream",
     "text": [
      "✅ Finished scoring: 2001_Hannibal.2001.1080p.BluRay.x264-iKA.ENG\n",
      "🔄 1979_The.Amityville.Horror.1979.Blu-ray.Re.x264.1080p.DTS-HDS.ENG partially scored, resuming...\n"
     ]
    },
    {
     "name": "stderr",
     "output_type": "stream",
     "text": [
      "\n",
      "Processing 1979_The.Amityville.Horror.1979.Blu-ray.Re.x264.1080p.DTS-HDS.ENG:   \u001b[A\n",
      "Processing 1979_The.Amityville.Horror.1979.Blu-ray.Re.x264.1080p.DTS-HDS.ENG:  2\u001b[A\n",
      "Processing 1979_The.Amityville.Horror.1979.Blu-ray.Re.x264.1080p.DTS-HDS.ENG:  5\u001b[A\n",
      "Processing 1979_The.Amityville.Horror.1979.Blu-ray.Re.x264.1080p.DTS-HDS.ENG:  7\u001b[A\n",
      "Processing 1979_The.Amityville.Horror.1979.Blu-ray.Re.x264.1080p.DTS-HDS.ENG: 10\u001b[A\n",
      "Scoring movies:   4%|▊                       | 16/443 [03:51<3:04:41, 25.95s/it]\u001b[A"
     ]
    },
    {
     "name": "stdout",
     "output_type": "stream",
     "text": [
      "✅ Finished scoring: 1979_The.Amityville.Horror.1979.Blu-ray.Re.x264.1080p.DTS-HDS.ENG\n",
      "🔄 2018_Mission.Impossible.Fallout.2018.KORSUB.HDRip.x264-STUTTERSHIT partially scored, resuming...\n"
     ]
    },
    {
     "name": "stderr",
     "output_type": "stream",
     "text": [
      "\n",
      "Processing 2018_Mission.Impossible.Fallout.2018.KORSUB.HDRip.x264-STUTTERSHIT:  \u001b[A\n",
      "Processing 2018_Mission.Impossible.Fallout.2018.KORSUB.HDRip.x264-STUTTERSHIT:  \u001b[A\n",
      "Processing 2018_Mission.Impossible.Fallout.2018.KORSUB.HDRip.x264-STUTTERSHIT:  \u001b[A\n",
      "Processing 2018_Mission.Impossible.Fallout.2018.KORSUB.HDRip.x264-STUTTERSHIT:  \u001b[A\n",
      "Processing 2018_Mission.Impossible.Fallout.2018.KORSUB.HDRip.x264-STUTTERSHIT:  \u001b[A\n",
      "Processing 2018_Mission.Impossible.Fallout.2018.KORSUB.HDRip.x264-STUTTERSHIT:  \u001b[A\n",
      "Processing 2018_Mission.Impossible.Fallout.2018.KORSUB.HDRip.x264-STUTTERSHIT: 1\u001b[A\n",
      "Scoring movies:   4%|▉                       | 17/443 [04:09<2:46:36, 23.47s/it]\u001b[A"
     ]
    },
    {
     "name": "stdout",
     "output_type": "stream",
     "text": [
      "✅ Finished scoring: 2018_Mission.Impossible.Fallout.2018.KORSUB.HDRip.x264-STUTTERSHIT\n",
      "🔄 2013_Star.Trek.Into.Darkness.2013.BluRay.720p.x264-HDWinG partially scored, resuming...\n"
     ]
    },
    {
     "name": "stderr",
     "output_type": "stream",
     "text": [
      "\n",
      "Processing 2013_Star.Trek.Into.Darkness.2013.BluRay.720p.x264-HDWinG:   0%| | 0/\u001b[A\n",
      "Processing 2013_Star.Trek.Into.Darkness.2013.BluRay.720p.x264-HDWinG:  11%| | 1/\u001b[A\n",
      "Processing 2013_Star.Trek.Into.Darkness.2013.BluRay.720p.x264-HDWinG:  22%|▏| 2/\u001b[A\n",
      "Processing 2013_Star.Trek.Into.Darkness.2013.BluRay.720p.x264-HDWinG:  33%|▎| 3/\u001b[A\n",
      "Processing 2013_Star.Trek.Into.Darkness.2013.BluRay.720p.x264-HDWinG:  44%|▍| 4/\u001b[A\n",
      "Processing 2013_Star.Trek.Into.Darkness.2013.BluRay.720p.x264-HDWinG:  56%|▌| 5/\u001b[A\n",
      "Processing 2013_Star.Trek.Into.Darkness.2013.BluRay.720p.x264-HDWinG:  67%|▋| 6/\u001b[A\n",
      "Processing 2013_Star.Trek.Into.Darkness.2013.BluRay.720p.x264-HDWinG:  78%|▊| 7/\u001b[A\n",
      "Processing 2013_Star.Trek.Into.Darkness.2013.BluRay.720p.x264-HDWinG:  89%|▉| 8/\u001b[A\n",
      "Processing 2013_Star.Trek.Into.Darkness.2013.BluRay.720p.x264-HDWinG: 100%|█| 9/\u001b[A\n",
      "Scoring movies:   4%|▉                       | 18/443 [04:36<2:54:16, 24.60s/it]\u001b[A"
     ]
    },
    {
     "name": "stdout",
     "output_type": "stream",
     "text": [
      "✅ Finished scoring: 2013_Star.Trek.Into.Darkness.2013.BluRay.720p.x264-HDWinG\n",
      "🔄 1993_Proposta.Indecente.[1993].DVDRip.WS.AC3.UnitedShare.ENG partially scored, resuming...\n"
     ]
    },
    {
     "name": "stderr",
     "output_type": "stream",
     "text": [
      "\n",
      "Processing 1993_Proposta.Indecente.[1993].DVDRip.WS.AC3.UnitedShare.ENG:   0%| |\u001b[A\n",
      "Processing 1993_Proposta.Indecente.[1993].DVDRip.WS.AC3.UnitedShare.ENG:  20%|▏|\u001b[A\n",
      "Processing 1993_Proposta.Indecente.[1993].DVDRip.WS.AC3.UnitedShare.ENG:  40%|▍|\u001b[A\n",
      "Processing 1993_Proposta.Indecente.[1993].DVDRip.WS.AC3.UnitedShare.ENG:  60%|▌|\u001b[A\n",
      "Processing 1993_Proposta.Indecente.[1993].DVDRip.WS.AC3.UnitedShare.ENG:  80%|▊|\u001b[A\n",
      "Processing 1993_Proposta.Indecente.[1993].DVDRip.WS.AC3.UnitedShare.ENG: 100%|█|\u001b[A\n",
      "Scoring movies:   4%|█                       | 19/443 [04:51<2:33:29, 21.72s/it]\u001b[A"
     ]
    },
    {
     "name": "stdout",
     "output_type": "stream",
     "text": [
      "✅ Finished scoring: 1993_Proposta.Indecente.[1993].DVDRip.WS.AC3.UnitedShare.ENG\n",
      "🔄 2008_Iron.Man[2008]DvDrip-aXXo.en partially scored, resuming...\n"
     ]
    },
    {
     "name": "stderr",
     "output_type": "stream",
     "text": [
      "\n",
      "Processing 2008_Iron.Man[2008]DvDrip-aXXo.en:   0%|       | 0/7 [00:00<?, ?it/s]\u001b[A\n",
      "Processing 2008_Iron.Man[2008]DvDrip-aXXo.en:  14%|▏| 1/7 [00:02<00:16,  2.76s/i\u001b[A\n",
      "Processing 2008_Iron.Man[2008]DvDrip-aXXo.en:  29%|▎| 2/7 [00:05<00:14,  2.96s/i\u001b[A\n",
      "Processing 2008_Iron.Man[2008]DvDrip-aXXo.en:  43%|▍| 3/7 [00:08<00:10,  2.73s/i\u001b[A\n",
      "Processing 2008_Iron.Man[2008]DvDrip-aXXo.en:  57%|▌| 4/7 [00:11<00:08,  2.72s/i\u001b[A\n",
      "Processing 2008_Iron.Man[2008]DvDrip-aXXo.en:  71%|▋| 5/7 [00:13<00:05,  2.72s/i\u001b[A\n",
      "Processing 2008_Iron.Man[2008]DvDrip-aXXo.en:  86%|▊| 6/7 [00:16<00:02,  2.72s/i\u001b[A\n",
      "Processing 2008_Iron.Man[2008]DvDrip-aXXo.en: 100%|█| 7/7 [00:18<00:00,  2.61s/i\u001b[A\n",
      "Scoring movies:   5%|█                       | 20/443 [05:10<2:27:07, 20.87s/it]\u001b[A"
     ]
    },
    {
     "name": "stdout",
     "output_type": "stream",
     "text": [
      "✅ Finished scoring: 2008_Iron.Man[2008]DvDrip-aXXo.en\n",
      "🔄 2022_Avatar The Way of Water (2022) 1080p BluRay AVC REMUX DTS-HD_ENG partially scored, resuming...\n"
     ]
    },
    {
     "name": "stderr",
     "output_type": "stream",
     "text": [
      "\n",
      "Processing 2022_Avatar The Way of Water (2022) 1080p BluRay AVC REMUX DTS-HD_ENG\u001b[A\n",
      "Processing 2022_Avatar The Way of Water (2022) 1080p BluRay AVC REMUX DTS-HD_ENG\u001b[A\n",
      "Processing 2022_Avatar The Way of Water (2022) 1080p BluRay AVC REMUX DTS-HD_ENG\u001b[A\n",
      "Processing 2022_Avatar The Way of Water (2022) 1080p BluRay AVC REMUX DTS-HD_ENG\u001b[A\n",
      "Processing 2022_Avatar The Way of Water (2022) 1080p BluRay AVC REMUX DTS-HD_ENG\u001b[A\n",
      "Processing 2022_Avatar The Way of Water (2022) 1080p BluRay AVC REMUX DTS-HD_ENG\u001b[A\n",
      "Processing 2022_Avatar The Way of Water (2022) 1080p BluRay AVC REMUX DTS-HD_ENG\u001b[A\n",
      "Processing 2022_Avatar The Way of Water (2022) 1080p BluRay AVC REMUX DTS-HD_ENG\u001b[A\n",
      "Processing 2022_Avatar The Way of Water (2022) 1080p BluRay AVC REMUX DTS-HD_ENG\u001b[A\n",
      "Processing 2022_Avatar The Way of Water (2022) 1080p BluRay AVC REMUX DTS-HD_ENG\u001b[A\n",
      "Processing 2022_Avatar The Way of Water (2022) 1080p BluRay AVC REMUX DTS-HD_ENG\u001b[A\n",
      "Processing 2022_Avatar The Way of Water (2022) 1080p BluRay AVC REMUX DTS-HD_ENG\u001b[A\n",
      "Processing 2022_Avatar The Way of Water (2022) 1080p BluRay AVC REMUX DTS-HD_ENG\u001b[A\n",
      "Scoring movies:   5%|█▏                      | 21/443 [05:46<2:57:55, 25.30s/it]\u001b[A"
     ]
    },
    {
     "name": "stdout",
     "output_type": "stream",
     "text": [
      "✅ Finished scoring: 2022_Avatar The Way of Water (2022) 1080p BluRay AVC REMUX DTS-HD_ENG\n",
      "🔄 2023_The.Little.Mermaid.2023.1080p.WEB-DL.DDP5.1.Atmos.H.264 (v3) partially scored, resuming...\n"
     ]
    },
    {
     "name": "stderr",
     "output_type": "stream",
     "text": [
      "\n",
      "Processing 2023_The.Little.Mermaid.2023.1080p.WEB-DL.DDP5.1.Atmos.H.264 (v3):   \u001b[A\n",
      "Processing 2023_The.Little.Mermaid.2023.1080p.WEB-DL.DDP5.1.Atmos.H.264 (v3):  1\u001b[A\n",
      "Processing 2023_The.Little.Mermaid.2023.1080p.WEB-DL.DDP5.1.Atmos.H.264 (v3):  2\u001b[A\n",
      "Processing 2023_The.Little.Mermaid.2023.1080p.WEB-DL.DDP5.1.Atmos.H.264 (v3):  3\u001b[A\n",
      "Processing 2023_The.Little.Mermaid.2023.1080p.WEB-DL.DDP5.1.Atmos.H.264 (v3):  4\u001b[A\n",
      "Processing 2023_The.Little.Mermaid.2023.1080p.WEB-DL.DDP5.1.Atmos.H.264 (v3):  5\u001b[A\n",
      "Processing 2023_The.Little.Mermaid.2023.1080p.WEB-DL.DDP5.1.Atmos.H.264 (v3):  6\u001b[A\n",
      "Processing 2023_The.Little.Mermaid.2023.1080p.WEB-DL.DDP5.1.Atmos.H.264 (v3):  7\u001b[A\n",
      "Processing 2023_The.Little.Mermaid.2023.1080p.WEB-DL.DDP5.1.Atmos.H.264 (v3):  8\u001b[A\n",
      "Processing 2023_The.Little.Mermaid.2023.1080p.WEB-DL.DDP5.1.Atmos.H.264 (v3):  9\u001b[A\n",
      "Processing 2023_The.Little.Mermaid.2023.1080p.WEB-DL.DDP5.1.Atmos.H.264 (v3): 10\u001b[A\n",
      "Scoring movies:   5%|█▏                      | 22/443 [06:16<3:06:49, 26.63s/it]\u001b[A"
     ]
    },
    {
     "name": "stdout",
     "output_type": "stream",
     "text": [
      "✅ Finished scoring: 2023_The.Little.Mermaid.2023.1080p.WEB-DL.DDP5.1.Atmos.H.264 (v3)\n",
      "🔄 1980_Ordinary.People.1980.720p.WEB-DL.AAC2.0.H.264-BS.eng partially scored, resuming...\n"
     ]
    },
    {
     "name": "stderr",
     "output_type": "stream",
     "text": [
      "\n",
      "Processing 1980_Ordinary.People.1980.720p.WEB-DL.AAC2.0.H.264-BS.eng:   0%| | 0/\u001b[A\n",
      "Processing 1980_Ordinary.People.1980.720p.WEB-DL.AAC2.0.H.264-BS.eng:  14%|▏| 1/\u001b[A\n",
      "Processing 1980_Ordinary.People.1980.720p.WEB-DL.AAC2.0.H.264-BS.eng:  29%|▎| 2/\u001b[A\n",
      "Processing 1980_Ordinary.People.1980.720p.WEB-DL.AAC2.0.H.264-BS.eng:  43%|▍| 3/\u001b[A\n",
      "Processing 1980_Ordinary.People.1980.720p.WEB-DL.AAC2.0.H.264-BS.eng:  57%|▌| 4/\u001b[A\n",
      "Processing 1980_Ordinary.People.1980.720p.WEB-DL.AAC2.0.H.264-BS.eng:  71%|▋| 5/\u001b[A\n",
      "Processing 1980_Ordinary.People.1980.720p.WEB-DL.AAC2.0.H.264-BS.eng:  86%|▊| 6/\u001b[A\n",
      "Processing 1980_Ordinary.People.1980.720p.WEB-DL.AAC2.0.H.264-BS.eng: 100%|█| 7/\u001b[A\n",
      "Scoring movies:   5%|█▏                      | 23/443 [06:36<2:54:28, 24.93s/it]\u001b[A"
     ]
    },
    {
     "name": "stdout",
     "output_type": "stream",
     "text": [
      "✅ Finished scoring: 1980_Ordinary.People.1980.720p.WEB-DL.AAC2.0.H.264-BS.eng\n",
      "🔄 1982_E.T.The.Extra-Terrestrial.1982.720p.BluRay.X264-AMIABLE partially scored, resuming...\n"
     ]
    },
    {
     "name": "stderr",
     "output_type": "stream",
     "text": [
      "\n",
      "Processing 1982_E.T.The.Extra-Terrestrial.1982.720p.BluRay.X264-AMIABLE:   0%| |\u001b[A\n",
      "Processing 1982_E.T.The.Extra-Terrestrial.1982.720p.BluRay.X264-AMIABLE:  25%|▎|\u001b[A\n",
      "Processing 1982_E.T.The.Extra-Terrestrial.1982.720p.BluRay.X264-AMIABLE:  50%|▌|\u001b[A\n",
      "Processing 1982_E.T.The.Extra-Terrestrial.1982.720p.BluRay.X264-AMIABLE:  75%|▊|\u001b[A\n",
      "Processing 1982_E.T.The.Extra-Terrestrial.1982.720p.BluRay.X264-AMIABLE: 100%|█|\u001b[A\n",
      "Scoring movies:   5%|█▎                      | 24/443 [06:48<2:25:20, 20.81s/it]\u001b[A"
     ]
    },
    {
     "name": "stdout",
     "output_type": "stream",
     "text": [
      "✅ Finished scoring: 1982_E.T.The.Extra-Terrestrial.1982.720p.BluRay.X264-AMIABLE\n",
      "🔄 2018_Ant Man and the Wasp 2018 New HDCAM-X264-Sexxy partially scored, resuming...\n"
     ]
    },
    {
     "name": "stderr",
     "output_type": "stream",
     "text": [
      "\n",
      "Processing 2018_Ant Man and the Wasp 2018 New HDCAM-X264-Sexxy:   0%| | 0/7 [00:\u001b[A\n",
      "Processing 2018_Ant Man and the Wasp 2018 New HDCAM-X264-Sexxy:  14%|▏| 1/7 [00:\u001b[A\n",
      "Processing 2018_Ant Man and the Wasp 2018 New HDCAM-X264-Sexxy:  29%|▎| 2/7 [00:\u001b[A\n",
      "Processing 2018_Ant Man and the Wasp 2018 New HDCAM-X264-Sexxy:  43%|▍| 3/7 [00:\u001b[A\n",
      "Processing 2018_Ant Man and the Wasp 2018 New HDCAM-X264-Sexxy:  57%|▌| 4/7 [00:\u001b[A\n",
      "Processing 2018_Ant Man and the Wasp 2018 New HDCAM-X264-Sexxy:  71%|▋| 5/7 [00:\u001b[A\n",
      "Processing 2018_Ant Man and the Wasp 2018 New HDCAM-X264-Sexxy:  86%|▊| 6/7 [00:\u001b[A"
     ]
    },
    {
     "name": "stdout",
     "output_type": "stream",
     "text": [
      "⚠️ Rate limit hit. Waiting 60 seconds...\n"
     ]
    },
    {
     "name": "stderr",
     "output_type": "stream",
     "text": [
      "\n",
      "Processing 2018_Ant Man and the Wasp 2018 New HDCAM-X264-Sexxy: 100%|█| 7/7 [01:\u001b[A\n",
      "Scoring movies:   6%|█▎                      | 25/443 [08:09<4:32:23, 39.10s/it]\u001b[A"
     ]
    },
    {
     "name": "stdout",
     "output_type": "stream",
     "text": [
      "✅ Finished scoring: 2018_Ant Man and the Wasp 2018 New HDCAM-X264-Sexxy\n",
      "🔄 2019_Avengers Endgame 2019 NEW 720p HDCAM x264-iMaX partially scored, resuming...\n"
     ]
    },
    {
     "name": "stderr",
     "output_type": "stream",
     "text": [
      "\n",
      "Processing 2019_Avengers Endgame 2019 NEW 720p HDCAM x264-iMaX:   0%| | 0/9 [00:\u001b[A\n",
      "Processing 2019_Avengers Endgame 2019 NEW 720p HDCAM x264-iMaX:  11%| | 1/9 [00:\u001b[A\n",
      "Processing 2019_Avengers Endgame 2019 NEW 720p HDCAM x264-iMaX:  22%|▏| 2/9 [00:\u001b[A\n",
      "Processing 2019_Avengers Endgame 2019 NEW 720p HDCAM x264-iMaX:  33%|▎| 3/9 [00:\u001b[A\n",
      "Processing 2019_Avengers Endgame 2019 NEW 720p HDCAM x264-iMaX:  44%|▍| 4/9 [00:\u001b[A\n",
      "Processing 2019_Avengers Endgame 2019 NEW 720p HDCAM x264-iMaX:  56%|▌| 5/9 [00:\u001b[A\n",
      "Processing 2019_Avengers Endgame 2019 NEW 720p HDCAM x264-iMaX:  67%|▋| 6/9 [00:\u001b[A\n",
      "Processing 2019_Avengers Endgame 2019 NEW 720p HDCAM x264-iMaX:  78%|▊| 7/9 [00:\u001b[A\n",
      "Processing 2019_Avengers Endgame 2019 NEW 720p HDCAM x264-iMaX:  89%|▉| 8/9 [00:\u001b[A\n",
      "Processing 2019_Avengers Endgame 2019 NEW 720p HDCAM x264-iMaX: 100%|█| 9/9 [00:\u001b[A\n",
      "Scoring movies:   6%|█▍                      | 26/443 [08:35<4:02:56, 34.95s/it]\u001b[A"
     ]
    },
    {
     "name": "stdout",
     "output_type": "stream",
     "text": [
      "✅ Finished scoring: 2019_Avengers Endgame 2019 NEW 720p HDCAM x264-iMaX\n",
      "🔄 1993_Cliffhanger.1993.Blu-ray.720p.x264.DTS-CHD.ENG partially scored, resuming...\n"
     ]
    },
    {
     "name": "stderr",
     "output_type": "stream",
     "text": [
      "\n",
      "Processing 1993_Cliffhanger.1993.Blu-ray.720p.x264.DTS-CHD.ENG:   0%| | 0/5 [00:\u001b[A\n",
      "Processing 1993_Cliffhanger.1993.Blu-ray.720p.x264.DTS-CHD.ENG:  20%|▏| 1/5 [00:\u001b[A\n",
      "Processing 1993_Cliffhanger.1993.Blu-ray.720p.x264.DTS-CHD.ENG:  40%|▍| 2/5 [00:\u001b[A\n",
      "Processing 1993_Cliffhanger.1993.Blu-ray.720p.x264.DTS-CHD.ENG:  60%|▌| 3/5 [00:\u001b[A\n",
      "Processing 1993_Cliffhanger.1993.Blu-ray.720p.x264.DTS-CHD.ENG:  80%|▊| 4/5 [00:\u001b[A\n",
      "Processing 1993_Cliffhanger.1993.Blu-ray.720p.x264.DTS-CHD.ENG: 100%|█| 5/5 [00:\u001b[A\n",
      "Scoring movies:   6%|█▍                      | 27/443 [08:48<3:18:05, 28.57s/it]\u001b[A"
     ]
    },
    {
     "name": "stdout",
     "output_type": "stream",
     "text": [
      "✅ Finished scoring: 1993_Cliffhanger.1993.Blu-ray.720p.x264.DTS-CHD.ENG\n",
      "🔄 2002_Ice Age.English partially scored, resuming...\n"
     ]
    },
    {
     "name": "stderr",
     "output_type": "stream",
     "text": [
      "\n",
      "Processing 2002_Ice Age.English:   0%|                    | 0/3 [00:00<?, ?it/s]\u001b[A\n",
      "Processing 2002_Ice Age.English:  33%|████        | 1/3 [00:02<00:05,  2.69s/it]\u001b[A\n",
      "Processing 2002_Ice Age.English:  67%|████████    | 2/3 [00:05<00:02,  2.93s/it]\u001b[A\n",
      "Processing 2002_Ice Age.English: 100%|████████████| 3/3 [00:08<00:00,  3.02s/it]\u001b[A\n",
      "Scoring movies:   6%|█▌                      | 28/443 [08:57<2:36:52, 22.68s/it]\u001b[A"
     ]
    },
    {
     "name": "stdout",
     "output_type": "stream",
     "text": [
      "✅ Finished scoring: 2002_Ice Age.English\n",
      "🔄 2003_Bruce.Almighty.2003.[1280x694].23.976fps.720p.BRRip.x264-ENG partially scored, resuming...\n"
     ]
    },
    {
     "name": "stderr",
     "output_type": "stream",
     "text": [
      "\n",
      "Processing 2003_Bruce.Almighty.2003.[1280x694].23.976fps.720p.BRRip.x264-ENG:   \u001b[A\n",
      "Processing 2003_Bruce.Almighty.2003.[1280x694].23.976fps.720p.BRRip.x264-ENG:  1\u001b[A\n",
      "Processing 2003_Bruce.Almighty.2003.[1280x694].23.976fps.720p.BRRip.x264-ENG:  3\u001b[A\n",
      "Processing 2003_Bruce.Almighty.2003.[1280x694].23.976fps.720p.BRRip.x264-ENG:  5\u001b[A\n",
      "Processing 2003_Bruce.Almighty.2003.[1280x694].23.976fps.720p.BRRip.x264-ENG:  6\u001b[A\n",
      "Processing 2003_Bruce.Almighty.2003.[1280x694].23.976fps.720p.BRRip.x264-ENG:  8\u001b[A\n",
      "Processing 2003_Bruce.Almighty.2003.[1280x694].23.976fps.720p.BRRip.x264-ENG: 10\u001b[A\n",
      "Scoring movies:   7%|█▌                      | 29/443 [09:15<2:25:34, 21.10s/it]\u001b[A"
     ]
    },
    {
     "name": "stdout",
     "output_type": "stream",
     "text": [
      "✅ Finished scoring: 2003_Bruce.Almighty.2003.[1280x694].23.976fps.720p.BRRip.x264-ENG\n",
      "🔄 2017_Star.Wars.The.Last.Jedi.2017.720p.BluRay.x264-SPARKS partially scored, resuming...\n"
     ]
    },
    {
     "name": "stderr",
     "output_type": "stream",
     "text": [
      "\n",
      "Processing 2017_Star.Wars.The.Last.Jedi.2017.720p.BluRay.x264-SPARKS:   0%| | 0/\u001b[A\n",
      "Processing 2017_Star.Wars.The.Last.Jedi.2017.720p.BluRay.x264-SPARKS:  12%|▏| 1/\u001b[A\n",
      "Processing 2017_Star.Wars.The.Last.Jedi.2017.720p.BluRay.x264-SPARKS:  25%|▎| 2/\u001b[A\n",
      "Processing 2017_Star.Wars.The.Last.Jedi.2017.720p.BluRay.x264-SPARKS:  38%|▍| 3/\u001b[A\n",
      "Processing 2017_Star.Wars.The.Last.Jedi.2017.720p.BluRay.x264-SPARKS:  50%|▌| 4/\u001b[A\n",
      "Processing 2017_Star.Wars.The.Last.Jedi.2017.720p.BluRay.x264-SPARKS:  62%|▋| 5/\u001b[A\n",
      "Processing 2017_Star.Wars.The.Last.Jedi.2017.720p.BluRay.x264-SPARKS:  75%|▊| 6/\u001b[A\n",
      "Processing 2017_Star.Wars.The.Last.Jedi.2017.720p.BluRay.x264-SPARKS:  88%|▉| 7/\u001b[A\n",
      "Processing 2017_Star.Wars.The.Last.Jedi.2017.720p.BluRay.x264-SPARKS: 100%|█| 8/\u001b[A\n",
      "Scoring movies:   7%|█▋                      | 30/443 [09:39<2:32:02, 22.09s/it]\u001b[A"
     ]
    },
    {
     "name": "stdout",
     "output_type": "stream",
     "text": [
      "✅ Finished scoring: 2017_Star.Wars.The.Last.Jedi.2017.720p.BluRay.x264-SPARKS\n",
      "🔄 1989_Look_Who_Is_Talking_Eng partially scored, resuming...\n"
     ]
    },
    {
     "name": "stderr",
     "output_type": "stream",
     "text": [
      "\n",
      "Processing 1989_Look_Who_Is_Talking_Eng:   0%|            | 0/4 [00:00<?, ?it/s]\u001b[A\n",
      "Processing 1989_Look_Who_Is_Talking_Eng:  25%|█   | 1/4 [00:02<00:07,  2.55s/it]\u001b[A\n",
      "Processing 1989_Look_Who_Is_Talking_Eng:  50%|██  | 2/4 [00:05<00:05,  2.53s/it]\u001b[A\n",
      "Processing 1989_Look_Who_Is_Talking_Eng:  75%|███ | 3/4 [00:07<00:02,  2.65s/it]\u001b[A\n",
      "Processing 1989_Look_Who_Is_Talking_Eng: 100%|████| 4/4 [00:10<00:00,  2.68s/it]\u001b[A\n",
      "Scoring movies:   7%|█▋                      | 31/443 [09:50<2:08:00, 18.64s/it]\u001b[A"
     ]
    },
    {
     "name": "stdout",
     "output_type": "stream",
     "text": [
      "✅ Finished scoring: 1989_Look_Who_Is_Talking_Eng\n",
      "🔄 2022_The.Batman.2022.HDRip.850MB.c1nem4.x264-SUNSCREEN partially scored, resuming...\n"
     ]
    },
    {
     "name": "stderr",
     "output_type": "stream",
     "text": [
      "\n",
      "Processing 2022_The.Batman.2022.HDRip.850MB.c1nem4.x264-SUNSCREEN:   0%| | 0/10 \u001b[A\n",
      "Processing 2022_The.Batman.2022.HDRip.850MB.c1nem4.x264-SUNSCREEN:  10%| | 1/10 \u001b[A\n",
      "Processing 2022_The.Batman.2022.HDRip.850MB.c1nem4.x264-SUNSCREEN:  20%|▏| 2/10 \u001b[A\n",
      "Processing 2022_The.Batman.2022.HDRip.850MB.c1nem4.x264-SUNSCREEN:  30%|▎| 3/10 \u001b[A\n",
      "Processing 2022_The.Batman.2022.HDRip.850MB.c1nem4.x264-SUNSCREEN:  40%|▍| 4/10 \u001b[A\n",
      "Processing 2022_The.Batman.2022.HDRip.850MB.c1nem4.x264-SUNSCREEN:  50%|▌| 5/10 \u001b[A\n",
      "Processing 2022_The.Batman.2022.HDRip.850MB.c1nem4.x264-SUNSCREEN:  60%|▌| 6/10 \u001b[A\n",
      "Processing 2022_The.Batman.2022.HDRip.850MB.c1nem4.x264-SUNSCREEN:  70%|▋| 7/10 \u001b[A\n",
      "Processing 2022_The.Batman.2022.HDRip.850MB.c1nem4.x264-SUNSCREEN:  80%|▊| 8/10 \u001b[A\n",
      "Processing 2022_The.Batman.2022.HDRip.850MB.c1nem4.x264-SUNSCREEN:  90%|▉| 9/10 \u001b[A\n",
      "Processing 2022_The.Batman.2022.HDRip.850MB.c1nem4.x264-SUNSCREEN: 100%|█| 10/10\u001b[A\n",
      "Scoring movies:   7%|█▋                      | 32/443 [10:19<2:28:41, 21.71s/it]\u001b[A"
     ]
    },
    {
     "name": "stdout",
     "output_type": "stream",
     "text": [
      "✅ Finished scoring: 2022_The.Batman.2022.HDRip.850MB.c1nem4.x264-SUNSCREEN\n",
      "🔄 2009_Transformers.Revenge.of.the.Fallen.IMAX.Edition.2009.1080p.BluRay.DTS.x264-DON.ENG partially scored, resuming...\n"
     ]
    },
    {
     "name": "stderr",
     "output_type": "stream",
     "text": [
      "\n",
      "Processing 2009_Transformers.Revenge.of.the.Fallen.IMAX.Edition.2009.1080p.BluRa\u001b[A\n",
      "Processing 2009_Transformers.Revenge.of.the.Fallen.IMAX.Edition.2009.1080p.BluRa\u001b[A\n",
      "Processing 2009_Transformers.Revenge.of.the.Fallen.IMAX.Edition.2009.1080p.BluRa\u001b[A\n",
      "Processing 2009_Transformers.Revenge.of.the.Fallen.IMAX.Edition.2009.1080p.BluRa\u001b[A\n",
      "Processing 2009_Transformers.Revenge.of.the.Fallen.IMAX.Edition.2009.1080p.BluRa\u001b[A\n",
      "Processing 2009_Transformers.Revenge.of.the.Fallen.IMAX.Edition.2009.1080p.BluRa\u001b[A\n",
      "Processing 2009_Transformers.Revenge.of.the.Fallen.IMAX.Edition.2009.1080p.BluRa\u001b[A\n",
      "Processing 2009_Transformers.Revenge.of.the.Fallen.IMAX.Edition.2009.1080p.BluRa\u001b[A\n",
      "Processing 2009_Transformers.Revenge.of.the.Fallen.IMAX.Edition.2009.1080p.BluRa\u001b[A\n",
      "Processing 2009_Transformers.Revenge.of.the.Fallen.IMAX.Edition.2009.1080p.BluRa\u001b[A\n",
      "Processing 2009_Transformers.Revenge.of.the.Fallen.IMAX.Edition.2009.1080p.BluRa\u001b[A\n",
      "Scoring movies:   7%|█▊                      | 33/443 [10:49<2:46:53, 24.42s/it]\u001b[A"
     ]
    },
    {
     "name": "stdout",
     "output_type": "stream",
     "text": [
      "✅ Finished scoring: 2009_Transformers.Revenge.of.the.Fallen.IMAX.Edition.2009.1080p.BluRay.DTS.x264-DON.ENG\n",
      "🔄 1981_Stripes.1981.720p.BluRay.x264-CiNEFiLE partially scored, resuming...\n"
     ]
    },
    {
     "name": "stderr",
     "output_type": "stream",
     "text": [
      "\n",
      "Processing 1981_Stripes.1981.720p.BluRay.x264-CiNEFiLE:   0%| | 0/6 [00:00<?, ?i\u001b[A\n",
      "Processing 1981_Stripes.1981.720p.BluRay.x264-CiNEFiLE:  17%|▏| 1/6 [00:03<00:15\u001b[A\n",
      "Processing 1981_Stripes.1981.720p.BluRay.x264-CiNEFiLE:  33%|▎| 2/6 [00:06<00:12\u001b[A\n",
      "Processing 1981_Stripes.1981.720p.BluRay.x264-CiNEFiLE:  50%|▌| 3/6 [00:09<00:09\u001b[A\n",
      "Processing 1981_Stripes.1981.720p.BluRay.x264-CiNEFiLE:  67%|▋| 4/6 [00:12<00:06\u001b[A\n",
      "Processing 1981_Stripes.1981.720p.BluRay.x264-CiNEFiLE:  83%|▊| 5/6 [00:15<00:03\u001b[A\n",
      "Processing 1981_Stripes.1981.720p.BluRay.x264-CiNEFiLE: 100%|█| 6/6 [00:18<00:00\u001b[A\n",
      "Scoring movies:   8%|█▊                      | 34/443 [11:08<2:35:17, 22.78s/it]\u001b[A"
     ]
    },
    {
     "name": "stdout",
     "output_type": "stream",
     "text": [
      "✅ Finished scoring: 1981_Stripes.1981.720p.BluRay.x264-CiNEFiLE\n",
      "🔄 2015_Minions.2015.720p.BluRay.x264-GECKOS partially scored, resuming...\n"
     ]
    },
    {
     "name": "stderr",
     "output_type": "stream",
     "text": [
      "\n",
      "Processing 2015_Minions.2015.720p.BluRay.x264-GECKOS:   0%| | 0/5 [00:00<?, ?it/\u001b[A\n",
      "Processing 2015_Minions.2015.720p.BluRay.x264-GECKOS:  20%|▏| 1/5 [00:03<00:12, \u001b[A\n",
      "Processing 2015_Minions.2015.720p.BluRay.x264-GECKOS:  40%|▍| 2/5 [00:06<00:09, \u001b[A\n",
      "Processing 2015_Minions.2015.720p.BluRay.x264-GECKOS:  60%|▌| 3/5 [00:09<00:06, \u001b[A\n",
      "Processing 2015_Minions.2015.720p.BluRay.x264-GECKOS:  80%|▊| 4/5 [00:12<00:03, \u001b[A\n",
      "Processing 2015_Minions.2015.720p.BluRay.x264-GECKOS: 100%|█| 5/5 [00:16<00:00, \u001b[A\n",
      "Scoring movies:   8%|█▉                      | 35/443 [11:25<2:21:26, 20.80s/it]\u001b[A"
     ]
    },
    {
     "name": "stdout",
     "output_type": "stream",
     "text": [
      "✅ Finished scoring: 2015_Minions.2015.720p.BluRay.x264-GECKOS\n",
      "🔄 1984_Romancing.the.Stone.1984.720p.BluRay.x264-ESiR.ENG partially scored, resuming...\n"
     ]
    },
    {
     "name": "stderr",
     "output_type": "stream",
     "text": [
      "\n",
      "Processing 1984_Romancing.the.Stone.1984.720p.BluRay.x264-ESiR.ENG:   0%| | 0/4 \u001b[A\n",
      "Processing 1984_Romancing.the.Stone.1984.720p.BluRay.x264-ESiR.ENG:  25%|▎| 1/4 \u001b[A\n",
      "Processing 1984_Romancing.the.Stone.1984.720p.BluRay.x264-ESiR.ENG:  50%|▌| 2/4 \u001b[A"
     ]
    },
    {
     "name": "stdout",
     "output_type": "stream",
     "text": [
      "⚠️ Rate limit hit. Waiting 60 seconds...\n"
     ]
    },
    {
     "name": "stderr",
     "output_type": "stream",
     "text": [
      "\n",
      "Processing 1984_Romancing.the.Stone.1984.720p.BluRay.x264-ESiR.ENG:  75%|▊| 3/4 \u001b[A\n",
      "Processing 1984_Romancing.the.Stone.1984.720p.BluRay.x264-ESiR.ENG: 100%|█| 4/4 \u001b[A\n",
      "Scoring movies:   8%|█▉                      | 36/443 [12:38<4:07:35, 36.50s/it]\u001b[A"
     ]
    },
    {
     "name": "stdout",
     "output_type": "stream",
     "text": [
      "✅ Finished scoring: 1984_Romancing.the.Stone.1984.720p.BluRay.x264-ESiR.ENG\n",
      "🔄 2000_Scary Movie 1 iNT DvD RiP- WaCkOs partially scored, resuming...\n"
     ]
    },
    {
     "name": "stderr",
     "output_type": "stream",
     "text": [
      "\n",
      "Processing 2000_Scary Movie 1 iNT DvD RiP- WaCkOs:   0%|  | 0/6 [00:00<?, ?it/s]\u001b[A\n",
      "Processing 2000_Scary Movie 1 iNT DvD RiP- WaCkOs:  17%|▏| 1/6 [00:03<00:16,  3.\u001b[A\n",
      "Processing 2000_Scary Movie 1 iNT DvD RiP- WaCkOs:  33%|▎| 2/6 [00:06<00:12,  3.\u001b[A\n",
      "Processing 2000_Scary Movie 1 iNT DvD RiP- WaCkOs:  50%|▌| 3/6 [00:09<00:09,  3.\u001b[A\n",
      "Processing 2000_Scary Movie 1 iNT DvD RiP- WaCkOs:  67%|▋| 4/6 [00:12<00:06,  3.\u001b[A\n",
      "Processing 2000_Scary Movie 1 iNT DvD RiP- WaCkOs:  83%|▊| 5/6 [00:17<00:03,  3.\u001b[A\n",
      "Processing 2000_Scary Movie 1 iNT DvD RiP- WaCkOs: 100%|█| 6/6 [00:20<00:00,  3.\u001b[A\n",
      "Scoring movies:   8%|██                      | 37/443 [12:58<3:35:04, 31.78s/it]\u001b[A"
     ]
    },
    {
     "name": "stdout",
     "output_type": "stream",
     "text": [
      "✅ Finished scoring: 2000_Scary Movie 1 iNT DvD RiP- WaCkOs\n",
      "🔄 2002_Spider-Man.2002.720p.BluRay.DTS.x264-ESiR.ENG partially scored, resuming...\n"
     ]
    },
    {
     "name": "stderr",
     "output_type": "stream",
     "text": [
      "\n",
      "Processing 2002_Spider-Man.2002.720p.BluRay.DTS.x264-ESiR.ENG:   0%| | 0/7 [00:0\u001b[A\n",
      "Processing 2002_Spider-Man.2002.720p.BluRay.DTS.x264-ESiR.ENG:  14%|▏| 1/7 [00:0\u001b[A\n",
      "Processing 2002_Spider-Man.2002.720p.BluRay.DTS.x264-ESiR.ENG:  29%|▎| 2/7 [00:0\u001b[A\n",
      "Processing 2002_Spider-Man.2002.720p.BluRay.DTS.x264-ESiR.ENG:  43%|▍| 3/7 [00:0\u001b[A\n",
      "Processing 2002_Spider-Man.2002.720p.BluRay.DTS.x264-ESiR.ENG:  57%|▌| 4/7 [00:1\u001b[A\n",
      "Processing 2002_Spider-Man.2002.720p.BluRay.DTS.x264-ESiR.ENG:  71%|▋| 5/7 [00:1\u001b[A\n",
      "Processing 2002_Spider-Man.2002.720p.BluRay.DTS.x264-ESiR.ENG:  86%|▊| 6/7 [00:1\u001b[A\n",
      "Processing 2002_Spider-Man.2002.720p.BluRay.DTS.x264-ESiR.ENG: 100%|█| 7/7 [00:2\u001b[A\n",
      "Scoring movies:   9%|██                      | 38/443 [13:21<3:16:31, 29.11s/it]\u001b[A"
     ]
    },
    {
     "name": "stdout",
     "output_type": "stream",
     "text": [
      "✅ Finished scoring: 2002_Spider-Man.2002.720p.BluRay.DTS.x264-ESiR.ENG\n",
      "🔄 2015_Jurassic World partially scored, resuming...\n"
     ]
    },
    {
     "name": "stderr",
     "output_type": "stream",
     "text": [
      "\n",
      "Processing 2015_Jurassic World:   0%|                     | 0/5 [00:00<?, ?it/s]\u001b[A\n",
      "Processing 2015_Jurassic World:  20%|██▌          | 1/5 [00:03<00:12,  3.13s/it]\u001b[A\n",
      "Processing 2015_Jurassic World:  40%|█████▏       | 2/5 [00:06<00:09,  3.12s/it]\u001b[A\n",
      "Processing 2015_Jurassic World:  60%|███████▊     | 3/5 [00:09<00:06,  3.26s/it]\u001b[A\n",
      "Processing 2015_Jurassic World:  80%|██████████▍  | 4/5 [00:13<00:03,  3.29s/it]\u001b[A\n",
      "Processing 2015_Jurassic World: 100%|█████████████| 5/5 [00:16<00:00,  3.28s/it]\u001b[A\n",
      "Scoring movies:   9%|██                      | 39/443 [13:38<2:50:06, 25.26s/it]\u001b[A"
     ]
    },
    {
     "name": "stdout",
     "output_type": "stream",
     "text": [
      "✅ Finished scoring: 2015_Jurassic World\n",
      "🔄 1988_Who.Framed.Roger.Rabbit.1988.720p.BluRay.x264-HD4U partially scored, resuming...\n"
     ]
    },
    {
     "name": "stderr",
     "output_type": "stream",
     "text": [
      "\n",
      "Processing 1988_Who.Framed.Roger.Rabbit.1988.720p.BluRay.x264-HD4U:   0%| | 0/6 \u001b[A\n",
      "Processing 1988_Who.Framed.Roger.Rabbit.1988.720p.BluRay.x264-HD4U:  17%|▏| 1/6 \u001b[A\n",
      "Processing 1988_Who.Framed.Roger.Rabbit.1988.720p.BluRay.x264-HD4U:  33%|▎| 2/6 \u001b[A\n",
      "Processing 1988_Who.Framed.Roger.Rabbit.1988.720p.BluRay.x264-HD4U:  50%|▌| 3/6 \u001b[A\n",
      "Processing 1988_Who.Framed.Roger.Rabbit.1988.720p.BluRay.x264-HD4U:  67%|▋| 4/6 \u001b[A\n",
      "Processing 1988_Who.Framed.Roger.Rabbit.1988.720p.BluRay.x264-HD4U:  83%|▊| 5/6 \u001b[A\n",
      "Processing 1988_Who.Framed.Roger.Rabbit.1988.720p.BluRay.x264-HD4U: 100%|█| 6/6 \u001b[A\n",
      "Scoring movies:   9%|██▏                     | 40/443 [13:57<2:38:44, 23.63s/it]\u001b[A"
     ]
    },
    {
     "name": "stdout",
     "output_type": "stream",
     "text": [
      "✅ Finished scoring: 1988_Who.Framed.Roger.Rabbit.1988.720p.BluRay.x264-HD4U\n",
      "🔄 2014_The.Hunger.Games.Mockingjay.Part.1.2014.720p.BluRay.x264-SPARKS partially scored, resuming...\n"
     ]
    },
    {
     "name": "stderr",
     "output_type": "stream",
     "text": [
      "\n",
      "Processing 2014_The.Hunger.Games.Mockingjay.Part.1.2014.720p.BluRay.x264-SPARKS:\u001b[A\n",
      "Processing 2014_The.Hunger.Games.Mockingjay.Part.1.2014.720p.BluRay.x264-SPARKS:\u001b[A\n",
      "Processing 2014_The.Hunger.Games.Mockingjay.Part.1.2014.720p.BluRay.x264-SPARKS:\u001b[A\n",
      "Processing 2014_The.Hunger.Games.Mockingjay.Part.1.2014.720p.BluRay.x264-SPARKS:\u001b[A\n",
      "Processing 2014_The.Hunger.Games.Mockingjay.Part.1.2014.720p.BluRay.x264-SPARKS:\u001b[A\n",
      "Processing 2014_The.Hunger.Games.Mockingjay.Part.1.2014.720p.BluRay.x264-SPARKS:\u001b[A\n",
      "Processing 2014_The.Hunger.Games.Mockingjay.Part.1.2014.720p.BluRay.x264-SPARKS:\u001b[A\n",
      "Processing 2014_The.Hunger.Games.Mockingjay.Part.1.2014.720p.BluRay.x264-SPARKS:\u001b[A\n",
      "Scoring movies:   9%|██▏                     | 41/443 [14:21<2:38:03, 23.59s/it]\u001b[A"
     ]
    },
    {
     "name": "stdout",
     "output_type": "stream",
     "text": [
      "✅ Finished scoring: 2014_The.Hunger.Games.Mockingjay.Part.1.2014.720p.BluRay.x264-SPARKS\n",
      "🔄 1987_Predator.1987.DVDRip.XviD.ShitBusters.ENG partially scored, resuming...\n"
     ]
    },
    {
     "name": "stderr",
     "output_type": "stream",
     "text": [
      "\n",
      "Processing 1987_Predator.1987.DVDRip.XviD.ShitBusters.ENG:   0%| | 0/2 [00:00<?,\u001b[A\n",
      "Processing 1987_Predator.1987.DVDRip.XviD.ShitBusters.ENG:  50%|▌| 1/2 [00:03<00\u001b[A\n",
      "Processing 1987_Predator.1987.DVDRip.XviD.ShitBusters.ENG: 100%|█| 2/2 [00:06<00\u001b[A\n",
      "Scoring movies:   9%|██▎                     | 42/443 [14:27<2:03:32, 18.48s/it]\u001b[A"
     ]
    },
    {
     "name": "stdout",
     "output_type": "stream",
     "text": [
      "✅ Finished scoring: 1987_Predator.1987.DVDRip.XviD.ShitBusters.ENG\n",
      "🔄 1989_ARG-LETHAL_WEAPON_2_1989__PALDVDRIP__XVID_MP3_ENG__A_RG partially scored, resuming...\n"
     ]
    },
    {
     "name": "stderr",
     "output_type": "stream",
     "text": [
      "\n",
      "Processing 1989_ARG-LETHAL_WEAPON_2_1989__PALDVDRIP__XVID_MP3_ENG__A_RG:   0%| |\u001b[A\n",
      "Processing 1989_ARG-LETHAL_WEAPON_2_1989__PALDVDRIP__XVID_MP3_ENG__A_RG:  17%|▏|\u001b[A\n",
      "Processing 1989_ARG-LETHAL_WEAPON_2_1989__PALDVDRIP__XVID_MP3_ENG__A_RG:  33%|▎|\u001b[A\n",
      "Processing 1989_ARG-LETHAL_WEAPON_2_1989__PALDVDRIP__XVID_MP3_ENG__A_RG:  50%|▌|\u001b[A\n",
      "Processing 1989_ARG-LETHAL_WEAPON_2_1989__PALDVDRIP__XVID_MP3_ENG__A_RG:  67%|▋|\u001b[A\n",
      "Processing 1989_ARG-LETHAL_WEAPON_2_1989__PALDVDRIP__XVID_MP3_ENG__A_RG:  83%|▊|\u001b[A\n",
      "Processing 1989_ARG-LETHAL_WEAPON_2_1989__PALDVDRIP__XVID_MP3_ENG__A_RG: 100%|█|\u001b[A\n",
      "Scoring movies:  10%|██▎                     | 43/443 [14:48<2:06:28, 18.97s/it]\u001b[A"
     ]
    },
    {
     "name": "stdout",
     "output_type": "stream",
     "text": [
      "✅ Finished scoring: 1989_ARG-LETHAL_WEAPON_2_1989__PALDVDRIP__XVID_MP3_ENG__A_RG\n",
      "🔄 1988_Crocodile. Dundee. II. 1988. 720p. BluRay. x264-PSYCHD partially scored, resuming...\n"
     ]
    },
    {
     "name": "stderr",
     "output_type": "stream",
     "text": [
      "\n",
      "Processing 1988_Crocodile. Dundee. II. 1988. 720p. BluRay. x264-PSYCHD:   0%| | \u001b[A\n",
      "Processing 1988_Crocodile. Dundee. II. 1988. 720p. BluRay. x264-PSYCHD:  20%|▏| \u001b[A\n",
      "Processing 1988_Crocodile. Dundee. II. 1988. 720p. BluRay. x264-PSYCHD:  40%|▍| \u001b[A\n",
      "Processing 1988_Crocodile. Dundee. II. 1988. 720p. BluRay. x264-PSYCHD:  60%|▌| \u001b[A\n",
      "Processing 1988_Crocodile. Dundee. II. 1988. 720p. BluRay. x264-PSYCHD:  80%|▊| \u001b[A\n",
      "Processing 1988_Crocodile. Dundee. II. 1988. 720p. BluRay. x264-PSYCHD: 100%|█| \u001b[A\n",
      "Scoring movies:  10%|██▍                     | 44/443 [15:04<2:00:39, 18.14s/it]\u001b[A"
     ]
    },
    {
     "name": "stdout",
     "output_type": "stream",
     "text": [
      "✅ Finished scoring: 1988_Crocodile. Dundee. II. 1988. 720p. BluRay. x264-PSYCHD\n",
      "🔄 2007_Tranformers.2007.1080p.BluRay.DTS.x264-ESiR.ENG partially scored, resuming...\n"
     ]
    },
    {
     "name": "stderr",
     "output_type": "stream",
     "text": [
      "\n",
      "Processing 2007_Tranformers.2007.1080p.BluRay.DTS.x264-ESiR.ENG:   0%| | 0/9 [00\u001b[A\n",
      "Processing 2007_Tranformers.2007.1080p.BluRay.DTS.x264-ESiR.ENG:  11%| | 1/9 [00\u001b[A\n",
      "Processing 2007_Tranformers.2007.1080p.BluRay.DTS.x264-ESiR.ENG:  22%|▏| 2/9 [00\u001b[A\n",
      "Processing 2007_Tranformers.2007.1080p.BluRay.DTS.x264-ESiR.ENG:  33%|▎| 3/9 [00\u001b[A\n",
      "Processing 2007_Tranformers.2007.1080p.BluRay.DTS.x264-ESiR.ENG:  44%|▍| 4/9 [00\u001b[A\n",
      "Processing 2007_Tranformers.2007.1080p.BluRay.DTS.x264-ESiR.ENG:  56%|▌| 5/9 [00\u001b[A\n",
      "Processing 2007_Tranformers.2007.1080p.BluRay.DTS.x264-ESiR.ENG:  67%|▋| 6/9 [00\u001b[A\n",
      "Processing 2007_Tranformers.2007.1080p.BluRay.DTS.x264-ESiR.ENG:  78%|▊| 7/9 [00\u001b[A\n",
      "Processing 2007_Tranformers.2007.1080p.BluRay.DTS.x264-ESiR.ENG:  89%|▉| 8/9 [00\u001b[A\n",
      "Processing 2007_Tranformers.2007.1080p.BluRay.DTS.x264-ESiR.ENG: 100%|█| 9/9 [00\u001b[A\n",
      "Scoring movies:  10%|██▍                     | 45/443 [15:33<2:22:47, 21.53s/it]\u001b[A"
     ]
    },
    {
     "name": "stdout",
     "output_type": "stream",
     "text": [
      "✅ Finished scoring: 2007_Tranformers.2007.1080p.BluRay.DTS.x264-ESiR.ENG\n",
      "🔄 2011_Fast.Five.2011.720p.BluRay.x264.DTS-WiKi.eng partially scored, resuming...\n"
     ]
    },
    {
     "name": "stderr",
     "output_type": "stream",
     "text": [
      "\n",
      "Processing 2011_Fast.Five.2011.720p.BluRay.x264.DTS-WiKi.eng:   0%| | 0/5 [00:00\u001b[A\n",
      "Processing 2011_Fast.Five.2011.720p.BluRay.x264.DTS-WiKi.eng:  20%|▏| 1/5 [00:02\u001b[A\n",
      "Processing 2011_Fast.Five.2011.720p.BluRay.x264.DTS-WiKi.eng:  40%|▍| 2/5 [00:05\u001b[A\n",
      "Processing 2011_Fast.Five.2011.720p.BluRay.x264.DTS-WiKi.eng:  60%|▌| 3/5 [00:09\u001b[A\n",
      "Processing 2011_Fast.Five.2011.720p.BluRay.x264.DTS-WiKi.eng:  80%|▊| 4/5 [00:12\u001b[A\n",
      "Processing 2011_Fast.Five.2011.720p.BluRay.x264.DTS-WiKi.eng: 100%|█| 5/5 [00:15\u001b[A\n",
      "Scoring movies:  10%|██▍                     | 46/443 [15:49<2:10:13, 19.68s/it]\u001b[A"
     ]
    },
    {
     "name": "stdout",
     "output_type": "stream",
     "text": [
      "✅ Finished scoring: 2011_Fast.Five.2011.720p.BluRay.x264.DTS-WiKi.eng\n",
      "🔄 2011_Transformers.Dark.Of.The.Moon.2011.BluRay.720p.DTS.x264-CHD.eng partially scored, resuming...\n"
     ]
    },
    {
     "name": "stderr",
     "output_type": "stream",
     "text": [
      "\n",
      "Processing 2011_Transformers.Dark.Of.The.Moon.2011.BluRay.720p.DTS.x264-CHD.eng:\u001b[A\n",
      "Processing 2011_Transformers.Dark.Of.The.Moon.2011.BluRay.720p.DTS.x264-CHD.eng:\u001b[A\n",
      "Processing 2011_Transformers.Dark.Of.The.Moon.2011.BluRay.720p.DTS.x264-CHD.eng:\u001b[A\n",
      "Processing 2011_Transformers.Dark.Of.The.Moon.2011.BluRay.720p.DTS.x264-CHD.eng:\u001b[A\n",
      "Processing 2011_Transformers.Dark.Of.The.Moon.2011.BluRay.720p.DTS.x264-CHD.eng:\u001b[A\n",
      "Processing 2011_Transformers.Dark.Of.The.Moon.2011.BluRay.720p.DTS.x264-CHD.eng:\u001b[A\n",
      "Processing 2011_Transformers.Dark.Of.The.Moon.2011.BluRay.720p.DTS.x264-CHD.eng:\u001b[A\n",
      "Processing 2011_Transformers.Dark.Of.The.Moon.2011.BluRay.720p.DTS.x264-CHD.eng:\u001b[A\n",
      "Processing 2011_Transformers.Dark.Of.The.Moon.2011.BluRay.720p.DTS.x264-CHD.eng:\u001b[A\n",
      "Processing 2011_Transformers.Dark.Of.The.Moon.2011.BluRay.720p.DTS.x264-CHD.eng:\u001b[A\n",
      "Processing 2011_Transformers.Dark.Of.The.Moon.2011.BluRay.720p.DTS.x264-CHD.eng:\u001b[A\n",
      "Processing 2011_Transformers.Dark.Of.The.Moon.2011.BluRay.720p.DTS.x264-CHD.eng:\u001b[A\n",
      "Scoring movies:  11%|██▌                     | 47/443 [16:21<2:34:53, 23.47s/it]\u001b[A"
     ]
    },
    {
     "name": "stdout",
     "output_type": "stream",
     "text": [
      "✅ Finished scoring: 2011_Transformers.Dark.Of.The.Moon.2011.BluRay.720p.DTS.x264-CHD.eng\n",
      "🔄 2000_Dinosaur.2000.PROPER.1080p.BluRay.x264-Japhson partially scored, resuming...\n"
     ]
    },
    {
     "name": "stderr",
     "output_type": "stream",
     "text": [
      "\n",
      "Processing 2000_Dinosaur.2000.PROPER.1080p.BluRay.x264-Japhson:   0%| | 0/2 [00:\u001b[A\n",
      "Processing 2000_Dinosaur.2000.PROPER.1080p.BluRay.x264-Japhson:  50%|▌| 1/2 [00:\u001b[A\n",
      "Processing 2000_Dinosaur.2000.PROPER.1080p.BluRay.x264-Japhson: 100%|█| 2/2 [00:\u001b[A\n",
      "Scoring movies:  11%|██▌                     | 48/443 [16:27<2:00:01, 18.23s/it]\u001b[A"
     ]
    },
    {
     "name": "stdout",
     "output_type": "stream",
     "text": [
      "✅ Finished scoring: 2000_Dinosaur.2000.PROPER.1080p.BluRay.x264-Japhson\n",
      "🔄 2001_Harry.Potter.and.the.Philosophers.Stone.2001.720p.HDDVD.DTS.x264-ESiR.ENG partially scored, resuming...\n"
     ]
    },
    {
     "name": "stderr",
     "output_type": "stream",
     "text": [
      "\n",
      "Processing 2001_Harry.Potter.and.the.Philosophers.Stone.2001.720p.HDDVD.DTS.x264\u001b[A\n",
      "Processing 2001_Harry.Potter.and.the.Philosophers.Stone.2001.720p.HDDVD.DTS.x264\u001b[A\n",
      "Processing 2001_Harry.Potter.and.the.Philosophers.Stone.2001.720p.HDDVD.DTS.x264\u001b[A\n",
      "Processing 2001_Harry.Potter.and.the.Philosophers.Stone.2001.720p.HDDVD.DTS.x264\u001b[A\n",
      "Processing 2001_Harry.Potter.and.the.Philosophers.Stone.2001.720p.HDDVD.DTS.x264\u001b[A\n",
      "Processing 2001_Harry.Potter.and.the.Philosophers.Stone.2001.720p.HDDVD.DTS.x264\u001b[A\n",
      "Processing 2001_Harry.Potter.and.the.Philosophers.Stone.2001.720p.HDDVD.DTS.x264\u001b[A\n",
      "Scoring movies:  11%|██▋                     | 49/443 [16:45<1:58:38, 18.07s/it]\u001b[A"
     ]
    },
    {
     "name": "stdout",
     "output_type": "stream",
     "text": [
      "✅ Finished scoring: 2001_Harry.Potter.and.the.Philosophers.Stone.2001.720p.HDDVD.DTS.x264-ESiR.ENG\n",
      "🔄 1979_Apocalypse Now Redux.en partially scored, resuming...\n"
     ]
    },
    {
     "name": "stderr",
     "output_type": "stream",
     "text": [
      "\n",
      "Processing 1979_Apocalypse Now Redux.en:   0%|           | 0/11 [00:00<?, ?it/s]\u001b[A\n",
      "Processing 1979_Apocalypse Now Redux.en:   9%|▎  | 1/11 [00:03<00:31,  3.10s/it]\u001b[A\n",
      "Processing 1979_Apocalypse Now Redux.en:  18%|▌  | 2/11 [00:06<00:28,  3.13s/it]\u001b[A\n",
      "Processing 1979_Apocalypse Now Redux.en:  27%|▊  | 3/11 [00:08<00:23,  2.89s/it]\u001b[A\n",
      "Processing 1979_Apocalypse Now Redux.en:  36%|█  | 4/11 [00:11<00:19,  2.74s/it]\u001b[A\n",
      "Processing 1979_Apocalypse Now Redux.en:  45%|█▎ | 5/11 [00:14<00:17,  2.92s/it]\u001b[A\n",
      "Processing 1979_Apocalypse Now Redux.en:  55%|█▋ | 6/11 [00:17<00:14,  2.94s/it]\u001b[A\n",
      "Processing 1979_Apocalypse Now Redux.en:  64%|█▉ | 7/11 [00:20<00:11,  2.96s/it]\u001b[A\n",
      "Processing 1979_Apocalypse Now Redux.en:  73%|██▏| 8/11 [00:23<00:08,  2.88s/it]\u001b[A\n",
      "Processing 1979_Apocalypse Now Redux.en:  82%|██▍| 9/11 [00:26<00:05,  2.98s/it]\u001b[A\n",
      "Processing 1979_Apocalypse Now Redux.en:  91%|█▊| 10/11 [00:29<00:03,  3.01s/it]\u001b[A\n",
      "Processing 1979_Apocalypse Now Redux.en: 100%|██| 11/11 [00:32<00:00,  3.09s/it]\u001b[A\n",
      "Scoring movies:  11%|██▋                     | 50/443 [17:17<2:27:24, 22.50s/it]\u001b[A"
     ]
    },
    {
     "name": "stdout",
     "output_type": "stream",
     "text": [
      "✅ Finished scoring: 1979_Apocalypse Now Redux.en\n",
      "🔄 1993_Few Good Men (1992).DVD.NonHI.pcc.en.CLMB partially scored, resuming...\n"
     ]
    },
    {
     "name": "stderr",
     "output_type": "stream",
     "text": [
      "\n",
      "Processing 1993_Few Good Men (1992).DVD.NonHI.pcc.en.CLMB:   0%| | 0/15 [00:00<?\u001b[A\n",
      "Processing 1993_Few Good Men (1992).DVD.NonHI.pcc.en.CLMB:   7%| | 1/15 [00:02<0\u001b[A\n",
      "Processing 1993_Few Good Men (1992).DVD.NonHI.pcc.en.CLMB:  13%|▏| 2/15 [00:05<0\u001b[A\n",
      "Processing 1993_Few Good Men (1992).DVD.NonHI.pcc.en.CLMB:  20%|▏| 3/15 [00:08<0\u001b[A"
     ]
    },
    {
     "name": "stdout",
     "output_type": "stream",
     "text": [
      "⚠️ Rate limit hit. Waiting 60 seconds...\n"
     ]
    },
    {
     "name": "stderr",
     "output_type": "stream",
     "text": [
      "\n",
      "Processing 1993_Few Good Men (1992).DVD.NonHI.pcc.en.CLMB:  27%|▎| 4/15 [01:11<0\u001b[A\n",
      "Processing 1993_Few Good Men (1992).DVD.NonHI.pcc.en.CLMB:  33%|▎| 5/15 [01:14<0\u001b[A\n",
      "Processing 1993_Few Good Men (1992).DVD.NonHI.pcc.en.CLMB:  40%|▍| 6/15 [01:17<0\u001b[A\n",
      "Processing 1993_Few Good Men (1992).DVD.NonHI.pcc.en.CLMB:  47%|▍| 7/15 [01:20<0\u001b[A\n",
      "Processing 1993_Few Good Men (1992).DVD.NonHI.pcc.en.CLMB:  53%|▌| 8/15 [01:23<0\u001b[A\n",
      "Processing 1993_Few Good Men (1992).DVD.NonHI.pcc.en.CLMB:  60%|▌| 9/15 [01:26<0\u001b[A\n",
      "Processing 1993_Few Good Men (1992).DVD.NonHI.pcc.en.CLMB:  67%|▋| 10/15 [01:28<\u001b[A\n",
      "Processing 1993_Few Good Men (1992).DVD.NonHI.pcc.en.CLMB:  73%|▋| 11/15 [01:31<\u001b[A\n",
      "Processing 1993_Few Good Men (1992).DVD.NonHI.pcc.en.CLMB:  80%|▊| 12/15 [01:34<\u001b[A\n",
      "Processing 1993_Few Good Men (1992).DVD.NonHI.pcc.en.CLMB:  87%|▊| 13/15 [01:36<\u001b[A\n",
      "Processing 1993_Few Good Men (1992).DVD.NonHI.pcc.en.CLMB:  93%|▉| 14/15 [01:40<\u001b[A\n",
      "Processing 1993_Few Good Men (1992).DVD.NonHI.pcc.en.CLMB: 100%|█| 15/15 [01:43<\u001b[A\n",
      "Scoring movies:  12%|██▊                     | 51/443 [19:01<5:06:12, 46.87s/it]\u001b[A"
     ]
    },
    {
     "name": "stdout",
     "output_type": "stream",
     "text": [
      "✅ Finished scoring: 1993_Few Good Men (1992).DVD.NonHI.pcc.en.CLMB\n",
      "🔄 2009_Harry.Potter.and.the.Half.Blood.Prince.2009.720p.BluRay.DTS.x264-WiKi.eng partially scored, resuming...\n"
     ]
    },
    {
     "name": "stderr",
     "output_type": "stream",
     "text": [
      "\n",
      "Processing 2009_Harry.Potter.and.the.Half.Blood.Prince.2009.720p.BluRay.DTS.x264\u001b[A\n",
      "Processing 2009_Harry.Potter.and.the.Half.Blood.Prince.2009.720p.BluRay.DTS.x264\u001b[A\n",
      "Processing 2009_Harry.Potter.and.the.Half.Blood.Prince.2009.720p.BluRay.DTS.x264\u001b[A\n",
      "Processing 2009_Harry.Potter.and.the.Half.Blood.Prince.2009.720p.BluRay.DTS.x264\u001b[A\n",
      "Processing 2009_Harry.Potter.and.the.Half.Blood.Prince.2009.720p.BluRay.DTS.x264\u001b[A\n",
      "Processing 2009_Harry.Potter.and.the.Half.Blood.Prince.2009.720p.BluRay.DTS.x264\u001b[A\n",
      "Processing 2009_Harry.Potter.and.the.Half.Blood.Prince.2009.720p.BluRay.DTS.x264\u001b[A\n",
      "Processing 2009_Harry.Potter.and.the.Half.Blood.Prince.2009.720p.BluRay.DTS.x264\u001b[A\n",
      "Processing 2009_Harry.Potter.and.the.Half.Blood.Prince.2009.720p.BluRay.DTS.x264\u001b[A\n",
      "Scoring movies:  12%|██▊                     | 52/443 [19:25<4:20:26, 39.97s/it]\u001b[A"
     ]
    },
    {
     "name": "stdout",
     "output_type": "stream",
     "text": [
      "✅ Finished scoring: 2009_Harry.Potter.and.the.Half.Blood.Prince.2009.720p.BluRay.DTS.x264-WiKi.eng\n",
      "🔄 2010_timpe-inception partially scored, resuming...\n"
     ]
    },
    {
     "name": "stderr",
     "output_type": "stream",
     "text": [
      "\n",
      "Processing 2010_timpe-inception:   0%|                    | 0/8 [00:00<?, ?it/s]\u001b[A\n",
      "Processing 2010_timpe-inception:  12%|█▌          | 1/8 [00:02<00:18,  2.64s/it]\u001b[A\n",
      "Processing 2010_timpe-inception:  25%|███         | 2/8 [00:05<00:17,  2.86s/it]\u001b[A\n",
      "Processing 2010_timpe-inception:  38%|████▌       | 3/8 [00:08<00:14,  2.94s/it]\u001b[A\n",
      "Processing 2010_timpe-inception:  50%|██████      | 4/8 [00:11<00:11,  2.83s/it]\u001b[A\n",
      "Processing 2010_timpe-inception:  62%|███████▌    | 5/8 [00:13<00:08,  2.75s/it]\u001b[A\n",
      "Processing 2010_timpe-inception:  75%|█████████   | 6/8 [00:16<00:05,  2.73s/it]\u001b[A\n",
      "Processing 2010_timpe-inception:  88%|██████████▌ | 7/8 [00:20<00:02,  2.95s/it]\u001b[A\n",
      "Processing 2010_timpe-inception: 100%|████████████| 8/8 [00:23<00:00,  3.04s/it]\u001b[A\n",
      "Scoring movies:  12%|██▊                     | 53/443 [19:48<3:47:15, 34.96s/it]\u001b[A"
     ]
    },
    {
     "name": "stdout",
     "output_type": "stream",
     "text": [
      "✅ Finished scoring: 2010_timpe-inception\n",
      "🔄 2014_Big.Hero.6.2014.720p.BluRay.x264-SPARKS partially scored, resuming...\n"
     ]
    },
    {
     "name": "stderr",
     "output_type": "stream",
     "text": [
      "\n",
      "Processing 2014_Big.Hero.6.2014.720p.BluRay.x264-SPARKS:   0%| | 0/7 [00:00<?, ?\u001b[A\n",
      "Processing 2014_Big.Hero.6.2014.720p.BluRay.x264-SPARKS:  14%|▏| 1/7 [00:02<00:1\u001b[A\n",
      "Processing 2014_Big.Hero.6.2014.720p.BluRay.x264-SPARKS:  29%|▎| 2/7 [00:05<00:1\u001b[A\n",
      "Processing 2014_Big.Hero.6.2014.720p.BluRay.x264-SPARKS:  43%|▍| 3/7 [00:08<00:1\u001b[A\n",
      "Processing 2014_Big.Hero.6.2014.720p.BluRay.x264-SPARKS:  57%|▌| 4/7 [00:10<00:0\u001b[A\n",
      "Processing 2014_Big.Hero.6.2014.720p.BluRay.x264-SPARKS:  71%|▋| 5/7 [00:13<00:0\u001b[A\n",
      "Processing 2014_Big.Hero.6.2014.720p.BluRay.x264-SPARKS:  86%|▊| 6/7 [00:16<00:0\u001b[A\n",
      "Processing 2014_Big.Hero.6.2014.720p.BluRay.x264-SPARKS: 100%|█| 7/7 [00:19<00:0\u001b[A\n",
      "Scoring movies:  12%|██▉                     | 54/443 [20:08<3:16:00, 30.23s/it]\u001b[A"
     ]
    },
    {
     "name": "stdout",
     "output_type": "stream",
     "text": [
      "✅ Finished scoring: 2014_Big.Hero.6.2014.720p.BluRay.x264-SPARKS\n",
      "🔄 1989_Honey.I.Shrunk.The.Kids.1989.DVDRip.XviD.ENG partially scored, resuming...\n"
     ]
    },
    {
     "name": "stderr",
     "output_type": "stream",
     "text": [
      "\n",
      "Processing 1989_Honey.I.Shrunk.The.Kids.1989.DVDRip.XviD.ENG:   0%| | 0/5 [00:00\u001b[A\n",
      "Processing 1989_Honey.I.Shrunk.The.Kids.1989.DVDRip.XviD.ENG:  20%|▏| 1/5 [00:02\u001b[A\n",
      "Processing 1989_Honey.I.Shrunk.The.Kids.1989.DVDRip.XviD.ENG:  40%|▍| 2/5 [00:05\u001b[A\n",
      "Processing 1989_Honey.I.Shrunk.The.Kids.1989.DVDRip.XviD.ENG:  60%|▌| 3/5 [00:08\u001b[A\n",
      "Processing 1989_Honey.I.Shrunk.The.Kids.1989.DVDRip.XviD.ENG:  80%|▊| 4/5 [00:10\u001b[A\n",
      "Processing 1989_Honey.I.Shrunk.The.Kids.1989.DVDRip.XviD.ENG: 100%|█| 5/5 [00:13\u001b[A\n",
      "Scoring movies:  12%|██▉                     | 55/443 [20:21<2:42:35, 25.14s/it]\u001b[A"
     ]
    },
    {
     "name": "stdout",
     "output_type": "stream",
     "text": [
      "✅ Finished scoring: 1989_Honey.I.Shrunk.The.Kids.1989.DVDRip.XviD.ENG\n",
      "🔄 2001_Jurassic.Park.III[2001]DvDrip-aXXo partially scored, resuming...\n"
     ]
    },
    {
     "name": "stderr",
     "output_type": "stream",
     "text": [
      "\n",
      "Processing 2001_Jurassic.Park.III[2001]DvDrip-aXXo:   0%| | 0/4 [00:00<?, ?it/s]\u001b[A\n",
      "Processing 2001_Jurassic.Park.III[2001]DvDrip-aXXo:  25%|▎| 1/4 [00:02<00:07,  2\u001b[A\n",
      "Processing 2001_Jurassic.Park.III[2001]DvDrip-aXXo:  50%|▌| 2/4 [00:05<00:05,  2\u001b[A\n",
      "Processing 2001_Jurassic.Park.III[2001]DvDrip-aXXo:  75%|▊| 3/4 [00:07<00:02,  2\u001b[A\n",
      "Processing 2001_Jurassic.Park.III[2001]DvDrip-aXXo: 100%|█| 4/4 [00:10<00:00,  2\u001b[A\n",
      "Scoring movies:  13%|███                     | 56/443 [20:31<2:14:04, 20.79s/it]\u001b[A"
     ]
    },
    {
     "name": "stdout",
     "output_type": "stream",
     "text": [
      "✅ Finished scoring: 2001_Jurassic.Park.III[2001]DvDrip-aXXo\n",
      "🔄 2018_Black.Panther.2018.720p.BluRay.x264-SPARKS partially scored, resuming...\n"
     ]
    },
    {
     "name": "stderr",
     "output_type": "stream",
     "text": [
      "\n",
      "Processing 2018_Black.Panther.2018.720p.BluRay.x264-SPARKS:   0%| | 0/8 [00:00<?\u001b[A\n",
      "Processing 2018_Black.Panther.2018.720p.BluRay.x264-SPARKS:  12%|▏| 1/8 [00:03<0\u001b[A\n",
      "Processing 2018_Black.Panther.2018.720p.BluRay.x264-SPARKS:  25%|▎| 2/8 [00:06<0\u001b[A\n",
      "Processing 2018_Black.Panther.2018.720p.BluRay.x264-SPARKS:  38%|▍| 3/8 [00:09<0\u001b[A\n",
      "Processing 2018_Black.Panther.2018.720p.BluRay.x264-SPARKS:  50%|▌| 4/8 [00:12<0\u001b[A\n",
      "Processing 2018_Black.Panther.2018.720p.BluRay.x264-SPARKS:  62%|▋| 5/8 [00:15<0\u001b[A\n",
      "Processing 2018_Black.Panther.2018.720p.BluRay.x264-SPARKS:  75%|▊| 6/8 [00:18<0\u001b[A\n",
      "Processing 2018_Black.Panther.2018.720p.BluRay.x264-SPARKS:  88%|▉| 7/8 [00:21<0\u001b[A\n",
      "Processing 2018_Black.Panther.2018.720p.BluRay.x264-SPARKS: 100%|█| 8/8 [00:24<0\u001b[A\n",
      "Scoring movies:  13%|███                     | 57/443 [20:56<2:21:26, 21.99s/it]\u001b[A"
     ]
    },
    {
     "name": "stdout",
     "output_type": "stream",
     "text": [
      "✅ Finished scoring: 2018_Black.Panther.2018.720p.BluRay.x264-SPARKS\n",
      "🔄 1995_Casper.1995.720p.BluRay.X264-AMIABLE partially scored, resuming...\n"
     ]
    },
    {
     "name": "stderr",
     "output_type": "stream",
     "text": [
      "\n",
      "Processing 1995_Casper.1995.720p.BluRay.X264-AMIABLE:   0%| | 0/5 [00:00<?, ?it/\u001b[A\n",
      "Processing 1995_Casper.1995.720p.BluRay.X264-AMIABLE:  20%|▏| 1/5 [00:03<00:12, \u001b[A\n",
      "Processing 1995_Casper.1995.720p.BluRay.X264-AMIABLE:  40%|▍| 2/5 [00:05<00:08, \u001b[A\n",
      "Processing 1995_Casper.1995.720p.BluRay.X264-AMIABLE:  60%|▌| 3/5 [00:08<00:05, \u001b[A\n",
      "Processing 1995_Casper.1995.720p.BluRay.X264-AMIABLE:  80%|▊| 4/5 [00:11<00:02, \u001b[A\n",
      "Processing 1995_Casper.1995.720p.BluRay.X264-AMIABLE: 100%|█| 5/5 [00:14<00:00, \u001b[A\n",
      "Scoring movies:  13%|███▏                    | 58/443 [21:11<2:06:56, 19.78s/it]\u001b[A"
     ]
    },
    {
     "name": "stdout",
     "output_type": "stream",
     "text": [
      "✅ Finished scoring: 1995_Casper.1995.720p.BluRay.X264-AMIABLE\n",
      "🔄 1990_Teenage.Mutant.Ninja.Turtles.1990.1080p.BluRay.x264-HDCLASSICS.ENG partially scored, resuming...\n"
     ]
    },
    {
     "name": "stderr",
     "output_type": "stream",
     "text": [
      "\n",
      "Processing 1990_Teenage.Mutant.Ninja.Turtles.1990.1080p.BluRay.x264-HDCLASSICS.E\u001b[A\n",
      "Processing 1990_Teenage.Mutant.Ninja.Turtles.1990.1080p.BluRay.x264-HDCLASSICS.E\u001b[A\n",
      "Processing 1990_Teenage.Mutant.Ninja.Turtles.1990.1080p.BluRay.x264-HDCLASSICS.E\u001b[A\n",
      "Processing 1990_Teenage.Mutant.Ninja.Turtles.1990.1080p.BluRay.x264-HDCLASSICS.E\u001b[A\n",
      "Processing 1990_Teenage.Mutant.Ninja.Turtles.1990.1080p.BluRay.x264-HDCLASSICS.E\u001b[A\n",
      "Processing 1990_Teenage.Mutant.Ninja.Turtles.1990.1080p.BluRay.x264-HDCLASSICS.E\u001b[A\n",
      "Scoring movies:  13%|███▏                    | 59/443 [21:25<1:55:34, 18.06s/it]\u001b[A"
     ]
    },
    {
     "name": "stdout",
     "output_type": "stream",
     "text": [
      "✅ Finished scoring: 1990_Teenage.Mutant.Ninja.Turtles.1990.1080p.BluRay.x264-HDCLASSICS.ENG\n",
      "🔄 2022_Doctor.Strange.in.the.Multiverse.of.Madness.2022.1080p.WEB-DL.DDP5.1.Atmos.H.264 partially scored, resuming...\n"
     ]
    },
    {
     "name": "stderr",
     "output_type": "stream",
     "text": [
      "\n",
      "Processing 2022_Doctor.Strange.in.the.Multiverse.of.Madness.2022.1080p.WEB-DL.DD\u001b[A\n",
      "Processing 2022_Doctor.Strange.in.the.Multiverse.of.Madness.2022.1080p.WEB-DL.DD\u001b[A\n",
      "Processing 2022_Doctor.Strange.in.the.Multiverse.of.Madness.2022.1080p.WEB-DL.DD\u001b[A\n",
      "Processing 2022_Doctor.Strange.in.the.Multiverse.of.Madness.2022.1080p.WEB-DL.DD\u001b[A\n",
      "Processing 2022_Doctor.Strange.in.the.Multiverse.of.Madness.2022.1080p.WEB-DL.DD\u001b[A\n",
      "Processing 2022_Doctor.Strange.in.the.Multiverse.of.Madness.2022.1080p.WEB-DL.DD\u001b[A\n",
      "Processing 2022_Doctor.Strange.in.the.Multiverse.of.Madness.2022.1080p.WEB-DL.DD\u001b[A\n",
      "Scoring movies:  14%|███▎                    | 60/443 [21:42<1:52:35, 17.64s/it]\u001b[A"
     ]
    },
    {
     "name": "stdout",
     "output_type": "stream",
     "text": [
      "✅ Finished scoring: 2022_Doctor.Strange.in.the.Multiverse.of.Madness.2022.1080p.WEB-DL.DDP5.1.Atmos.H.264\n",
      "🔄 2017_The.Fate.of.the.Furious.2017.720p.BluRay.x264-SPARKS partially scored, resuming...\n"
     ]
    },
    {
     "name": "stderr",
     "output_type": "stream",
     "text": [
      "\n",
      "Processing 2017_The.Fate.of.the.Furious.2017.720p.BluRay.x264-SPARKS:   0%| | 0/\u001b[A\n",
      "Processing 2017_The.Fate.of.the.Furious.2017.720p.BluRay.x264-SPARKS:  12%|▏| 1/\u001b[A"
     ]
    },
    {
     "name": "stdout",
     "output_type": "stream",
     "text": [
      "⚠️ Rate limit hit. Waiting 60 seconds...\n"
     ]
    },
    {
     "name": "stderr",
     "output_type": "stream",
     "text": [
      "\n",
      "Processing 2017_The.Fate.of.the.Furious.2017.720p.BluRay.x264-SPARKS:  25%|▎| 2/\u001b[A\n",
      "Processing 2017_The.Fate.of.the.Furious.2017.720p.BluRay.x264-SPARKS:  38%|▍| 3/\u001b[A\n",
      "Processing 2017_The.Fate.of.the.Furious.2017.720p.BluRay.x264-SPARKS:  50%|▌| 4/\u001b[A\n",
      "Processing 2017_The.Fate.of.the.Furious.2017.720p.BluRay.x264-SPARKS:  62%|▋| 5/\u001b[A\n",
      "Processing 2017_The.Fate.of.the.Furious.2017.720p.BluRay.x264-SPARKS:  75%|▊| 6/\u001b[A\n",
      "Processing 2017_The.Fate.of.the.Furious.2017.720p.BluRay.x264-SPARKS:  88%|▉| 7/\u001b[A\n",
      "Processing 2017_The.Fate.of.the.Furious.2017.720p.BluRay.x264-SPARKS: 100%|█| 8/\u001b[A\n",
      "Scoring movies:  14%|███▎                    | 61/443 [23:06<3:59:24, 37.60s/it]\u001b[A"
     ]
    },
    {
     "name": "stdout",
     "output_type": "stream",
     "text": [
      "✅ Finished scoring: 2017_The.Fate.of.the.Furious.2017.720p.BluRay.x264-SPARKS\n",
      "🔄 1980_Stir Crazy partially scored, resuming...\n"
     ]
    },
    {
     "name": "stderr",
     "output_type": "stream",
     "text": [
      "\n",
      "Processing 1980_Stir Crazy:   0%|                         | 0/5 [00:00<?, ?it/s]\u001b[A\n",
      "Processing 1980_Stir Crazy:  20%|███▍             | 1/5 [00:02<00:10,  2.70s/it]\u001b[A\n",
      "Processing 1980_Stir Crazy:  40%|██████▊          | 2/5 [00:05<00:08,  2.67s/it]\u001b[A\n",
      "Processing 1980_Stir Crazy:  60%|██████████▏      | 3/5 [00:08<00:05,  2.85s/it]\u001b[A\n",
      "Processing 1980_Stir Crazy:  80%|█████████████▌   | 4/5 [00:11<00:02,  2.92s/it]\u001b[A\n",
      "Processing 1980_Stir Crazy: 100%|█████████████████| 5/5 [00:13<00:00,  2.74s/it]\u001b[A\n",
      "Scoring movies:  14%|███▎                    | 62/443 [23:20<3:13:34, 30.48s/it]\u001b[A"
     ]
    },
    {
     "name": "stdout",
     "output_type": "stream",
     "text": [
      "✅ Finished scoring: 1980_Stir Crazy\n",
      "🔄 1978_Jaws.2.ENG.25FPS partially scored, resuming...\n"
     ]
    },
    {
     "name": "stderr",
     "output_type": "stream",
     "text": [
      "\n",
      "Processing 1978_Jaws.2.ENG.25FPS:   0%|                   | 0/6 [00:00<?, ?it/s]\u001b[A\n",
      "Processing 1978_Jaws.2.ENG.25FPS:  17%|█▊         | 1/6 [00:03<00:16,  3.38s/it]\u001b[A\n",
      "Processing 1978_Jaws.2.ENG.25FPS:  33%|███▋       | 2/6 [00:06<00:13,  3.32s/it]\u001b[A\n",
      "Processing 1978_Jaws.2.ENG.25FPS:  50%|█████▌     | 3/6 [00:09<00:09,  3.07s/it]\u001b[A\n",
      "Processing 1978_Jaws.2.ENG.25FPS:  67%|███████▎   | 4/6 [00:12<00:06,  3.09s/it]\u001b[A\n",
      "Processing 1978_Jaws.2.ENG.25FPS:  83%|█████████▏ | 5/6 [00:15<00:03,  3.12s/it]\u001b[A\n",
      "Processing 1978_Jaws.2.ENG.25FPS: 100%|███████████| 6/6 [00:18<00:00,  2.90s/it]\u001b[A\n",
      "Scoring movies:  14%|███▍                    | 63/443 [23:38<2:49:43, 26.80s/it]\u001b[A"
     ]
    },
    {
     "name": "stdout",
     "output_type": "stream",
     "text": [
      "✅ Finished scoring: 1978_Jaws.2.ENG.25FPS\n",
      "🔄 1994_The.Santa.Clause.1994.DVDRip.XviD.iNTERNAL-iLs partially scored, resuming...\n"
     ]
    },
    {
     "name": "stderr",
     "output_type": "stream",
     "text": [
      "\n",
      "Processing 1994_The.Santa.Clause.1994.DVDRip.XviD.iNTERNAL-iLs:   0%| | 0/6 [00:\u001b[A\n",
      "Processing 1994_The.Santa.Clause.1994.DVDRip.XviD.iNTERNAL-iLs:  17%|▏| 1/6 [00:\u001b[A\n",
      "Processing 1994_The.Santa.Clause.1994.DVDRip.XviD.iNTERNAL-iLs:  33%|▎| 2/6 [00:\u001b[A\n",
      "Processing 1994_The.Santa.Clause.1994.DVDRip.XviD.iNTERNAL-iLs:  50%|▌| 3/6 [00:\u001b[A\n",
      "Processing 1994_The.Santa.Clause.1994.DVDRip.XviD.iNTERNAL-iLs:  67%|▋| 4/6 [00:\u001b[A\n",
      "Processing 1994_The.Santa.Clause.1994.DVDRip.XviD.iNTERNAL-iLs:  83%|▊| 5/6 [00:\u001b[A\n",
      "Processing 1994_The.Santa.Clause.1994.DVDRip.XviD.iNTERNAL-iLs: 100%|█| 6/6 [00:\u001b[A\n",
      "Scoring movies:  14%|███▍                    | 64/443 [23:55<2:31:08, 23.93s/it]\u001b[A"
     ]
    },
    {
     "name": "stdout",
     "output_type": "stream",
     "text": [
      "✅ Finished scoring: 1994_The.Santa.Clause.1994.DVDRip.XviD.iNTERNAL-iLs\n",
      "🔄 1984_Gremlins. 1984. 1080p. Bluray. X264-DIMENSION. ENG partially scored, resuming...\n"
     ]
    },
    {
     "name": "stderr",
     "output_type": "stream",
     "text": [
      "\n",
      "Processing 1984_Gremlins. 1984. 1080p. Bluray. X264-DIMENSION. ENG:   0%| | 0/6 \u001b[A\n",
      "Processing 1984_Gremlins. 1984. 1080p. Bluray. X264-DIMENSION. ENG:  17%|▏| 1/6 \u001b[A\n",
      "Processing 1984_Gremlins. 1984. 1080p. Bluray. X264-DIMENSION. ENG:  33%|▎| 2/6 \u001b[A\n",
      "Processing 1984_Gremlins. 1984. 1080p. Bluray. X264-DIMENSION. ENG:  50%|▌| 3/6 \u001b[A\n",
      "Processing 1984_Gremlins. 1984. 1080p. Bluray. X264-DIMENSION. ENG:  67%|▋| 4/6 \u001b[A\n",
      "Processing 1984_Gremlins. 1984. 1080p. Bluray. X264-DIMENSION. ENG:  83%|▊| 5/6 \u001b[A\n",
      "Processing 1984_Gremlins. 1984. 1080p. Bluray. X264-DIMENSION. ENG: 100%|█| 6/6 \u001b[A\n",
      "Scoring movies:  15%|███▌                    | 65/443 [24:12<2:17:49, 21.88s/it]\u001b[A"
     ]
    },
    {
     "name": "stdout",
     "output_type": "stream",
     "text": [
      "✅ Finished scoring: 1984_Gremlins. 1984. 1080p. Bluray. X264-DIMENSION. ENG\n",
      "🔄 1999_[HDteam] Austin.Powers.La.Espia.que.me.Achucho.1999.[1080p].[BluRay].[x264].[Dual].[Subs]-by Ruben partially scored, resuming...\n"
     ]
    },
    {
     "name": "stderr",
     "output_type": "stream",
     "text": [
      "\n",
      "Processing 1999_[HDteam] Austin.Powers.La.Espia.que.me.Achucho.1999.[1080p].[Blu\u001b[A\n",
      "Processing 1999_[HDteam] Austin.Powers.La.Espia.que.me.Achucho.1999.[1080p].[Blu\u001b[A\n",
      "Processing 1999_[HDteam] Austin.Powers.La.Espia.que.me.Achucho.1999.[1080p].[Blu\u001b[A\n",
      "Processing 1999_[HDteam] Austin.Powers.La.Espia.que.me.Achucho.1999.[1080p].[Blu\u001b[A\n",
      "Processing 1999_[HDteam] Austin.Powers.La.Espia.que.me.Achucho.1999.[1080p].[Blu\u001b[A\n",
      "Processing 1999_[HDteam] Austin.Powers.La.Espia.que.me.Achucho.1999.[1080p].[Blu\u001b[A\n",
      "Processing 1999_[HDteam] Austin.Powers.La.Espia.que.me.Achucho.1999.[1080p].[Blu\u001b[A\n",
      "Processing 1999_[HDteam] Austin.Powers.La.Espia.que.me.Achucho.1999.[1080p].[Blu\u001b[A\n",
      "Scoring movies:  15%|███▌                    | 66/443 [24:33<2:16:15, 21.69s/it]\u001b[A"
     ]
    },
    {
     "name": "stdout",
     "output_type": "stream",
     "text": [
      "✅ Finished scoring: 1999_[HDteam] Austin.Powers.La.Espia.que.me.Achucho.1999.[1080p].[BluRay].[x264].[Dual].[Subs]-by Ruben\n",
      "🔄 1987_The.Witches.Of.Eastwick.1987.1080p.Bluray.X264-BRMP.ENG partially scored, resuming...\n"
     ]
    },
    {
     "name": "stderr",
     "output_type": "stream",
     "text": [
      "\n",
      "Processing 1987_The.Witches.Of.Eastwick.1987.1080p.Bluray.X264-BRMP.ENG:   0%| |\u001b[A\n",
      "Processing 1987_The.Witches.Of.Eastwick.1987.1080p.Bluray.X264-BRMP.ENG:  17%|▏|\u001b[A\n",
      "Processing 1987_The.Witches.Of.Eastwick.1987.1080p.Bluray.X264-BRMP.ENG:  33%|▎|\u001b[A\n",
      "Processing 1987_The.Witches.Of.Eastwick.1987.1080p.Bluray.X264-BRMP.ENG:  50%|▌|\u001b[A\n",
      "Processing 1987_The.Witches.Of.Eastwick.1987.1080p.Bluray.X264-BRMP.ENG:  67%|▋|\u001b[A\n",
      "Processing 1987_The.Witches.Of.Eastwick.1987.1080p.Bluray.X264-BRMP.ENG:  83%|▊|\u001b[A\n",
      "Processing 1987_The.Witches.Of.Eastwick.1987.1080p.Bluray.X264-BRMP.ENG: 100%|█|\u001b[A\n",
      "Scoring movies:  15%|███▋                    | 67/443 [24:50<2:06:15, 20.15s/it]\u001b[A"
     ]
    },
    {
     "name": "stdout",
     "output_type": "stream",
     "text": [
      "✅ Finished scoring: 1987_The.Witches.Of.Eastwick.1987.1080p.Bluray.X264-BRMP.ENG\n",
      "🔄 2015_The.Martian.2015.720p.BluRay.x264-SPARKS partially scored, resuming...\n"
     ]
    },
    {
     "name": "stderr",
     "output_type": "stream",
     "text": [
      "\n",
      "Processing 2015_The.Martian.2015.720p.BluRay.x264-SPARKS:   0%| | 0/7 [00:00<?, \u001b[A\n",
      "Processing 2015_The.Martian.2015.720p.BluRay.x264-SPARKS:  14%|▏| 1/7 [00:02<00:\u001b[A\n",
      "Processing 2015_The.Martian.2015.720p.BluRay.x264-SPARKS:  29%|▎| 2/7 [00:05<00:\u001b[A\n",
      "Processing 2015_The.Martian.2015.720p.BluRay.x264-SPARKS:  43%|▍| 3/7 [00:08<00:\u001b[A\n",
      "Processing 2015_The.Martian.2015.720p.BluRay.x264-SPARKS:  57%|▌| 4/7 [00:11<00:\u001b[A\n",
      "Processing 2015_The.Martian.2015.720p.BluRay.x264-SPARKS:  71%|▋| 5/7 [00:14<00:\u001b[A\n",
      "Processing 2015_The.Martian.2015.720p.BluRay.x264-SPARKS:  86%|▊| 6/7 [00:17<00:\u001b[A\n",
      "Processing 2015_The.Martian.2015.720p.BluRay.x264-SPARKS: 100%|█| 7/7 [00:19<00:\u001b[A\n",
      "Scoring movies:  15%|███▋                    | 68/443 [25:09<2:04:50, 19.97s/it]\u001b[A"
     ]
    },
    {
     "name": "stdout",
     "output_type": "stream",
     "text": [
      "✅ Finished scoring: 2015_The.Martian.2015.720p.BluRay.x264-SPARKS\n",
      "🔄 2008_Quantum.Of.Solace[2008]DvDrip-aXXo.en partially scored, resuming...\n"
     ]
    },
    {
     "name": "stderr",
     "output_type": "stream",
     "text": [
      "\n",
      "Processing 2008_Quantum.Of.Solace[2008]DvDrip-aXXo.en:   0%| | 0/5 [00:00<?, ?it\u001b[A\n",
      "Processing 2008_Quantum.Of.Solace[2008]DvDrip-aXXo.en:  20%|▏| 1/5 [00:02<00:10,\u001b[A\n",
      "Processing 2008_Quantum.Of.Solace[2008]DvDrip-aXXo.en:  40%|▍| 2/5 [00:06<00:09,\u001b[A\n",
      "Processing 2008_Quantum.Of.Solace[2008]DvDrip-aXXo.en:  60%|▌| 3/5 [00:08<00:05,\u001b[A\n",
      "Processing 2008_Quantum.Of.Solace[2008]DvDrip-aXXo.en:  80%|▊| 4/5 [00:11<00:02,\u001b[A\n",
      "Processing 2008_Quantum.Of.Solace[2008]DvDrip-aXXo.en: 100%|█| 5/5 [00:14<00:00,\u001b[A\n",
      "Scoring movies:  16%|███▋                    | 69/443 [25:24<1:53:49, 18.26s/it]\u001b[A"
     ]
    },
    {
     "name": "stdout",
     "output_type": "stream",
     "text": [
      "✅ Finished scoring: 2008_Quantum.Of.Solace[2008]DvDrip-aXXo.en\n",
      "✅ 1977_The Turning Point 1977 720p BRRip x264-PLAYNOW already fully scored, skipping.\n",
      "✅ 1989_Back.to.the.Future.Part.II.1989.720p.BluRay.X264-AMIABLE already fully scored, skipping.\n",
      "✅ 2019_The.Lion.King.2019.BDRip.XviD.AC3-EVO already fully scored, skipping.\n",
      "✅ 1982_Star Trek 02 Wrath Of Khan 1982 1280x528.eng already fully scored, skipping.\n",
      "✅ 1996_Mission.Impossible.1996.720p.BluRay.DD.x264-ESiR.ENG already fully scored, skipping.\n",
      "✅ 1997_Men.In.Black.1997.1080p.Blu-ray.AVC.DTS-HD.MA.5.1-CHDBits.english already fully scored, skipping.\n",
      "✅ 1998_dr_dolittle_engl already fully scored, skipping.\n",
      "✅ 2002_Star.Wars.Episode.II.Attack.of.the.Clones.(2002).DVDRip.XviD-UnSeeN already fully scored, skipping.\n",
      "✅ 2005_Hitch.2005.WS.DVDRiP.XViD-CCTV.en already fully scored, skipping.\n"
     ]
    },
    {
     "name": "stderr",
     "output_type": "stream",
     "text": [
      "\n",
      "Processing 1983_Flashdance.[Flashdance].1983.DVDRip.XviD.telumethar.eDonkers.cd1\u001b[A\n",
      "Processing 1983_Flashdance.[Flashdance].1983.DVDRip.XviD.telumethar.eDonkers.cd1\u001b[A\n",
      "Processing 1983_Flashdance.[Flashdance].1983.DVDRip.XviD.telumethar.eDonkers.cd1\u001b[A\n",
      "Processing 1983_Flashdance.[Flashdance].1983.DVDRip.XviD.telumethar.eDonkers.cd1\u001b[A\n",
      "Scoring movies:  18%|████▋                     | 79/443 [25:32<24:52,  4.10s/it]\u001b[A"
     ]
    },
    {
     "name": "stdout",
     "output_type": "stream",
     "text": [
      "✅ Finished scoring: 1983_Flashdance.[Flashdance].1983.DVDRip.XviD.telumethar.eDonkers.cd1.ENG\n"
     ]
    },
    {
     "name": "stderr",
     "output_type": "stream",
     "text": [
      "\n",
      "Processing 1990_Total.Recall.1990.BluRay.1080p.x264.DTS.dxva-xander.ENG:   0%| |\u001b[A\n",
      "Processing 1990_Total.Recall.1990.BluRay.1080p.x264.DTS.dxva-xander.ENG:  17%|▏|\u001b[A\n",
      "Processing 1990_Total.Recall.1990.BluRay.1080p.x264.DTS.dxva-xander.ENG:  33%|▎|\u001b[A\n",
      "Processing 1990_Total.Recall.1990.BluRay.1080p.x264.DTS.dxva-xander.ENG:  50%|▌|\u001b[A\n",
      "Processing 1990_Total.Recall.1990.BluRay.1080p.x264.DTS.dxva-xander.ENG:  67%|▋|\u001b[A\n",
      "Processing 1990_Total.Recall.1990.BluRay.1080p.x264.DTS.dxva-xander.ENG:  83%|▊|\u001b[A\n",
      "Processing 1990_Total.Recall.1990.BluRay.1080p.x264.DTS.dxva-xander.ENG: 100%|█|\u001b[A\n",
      "Scoring movies:  18%|████▋                     | 80/443 [25:50<33:26,  5.53s/it]\u001b[A"
     ]
    },
    {
     "name": "stdout",
     "output_type": "stream",
     "text": [
      "✅ Finished scoring: 1990_Total.Recall.1990.BluRay.1080p.x264.DTS.dxva-xander.ENG\n"
     ]
    },
    {
     "name": "stderr",
     "output_type": "stream",
     "text": [
      "\n",
      "Processing 1996_The.Nutty.Professor.1996.720p.DVD5.HDDVD.x264-hV.English:   0%| \u001b[A\n",
      "Processing 1996_The.Nutty.Professor.1996.720p.DVD5.HDDVD.x264-hV.English:   8%| \u001b[A\n",
      "Processing 1996_The.Nutty.Professor.1996.720p.DVD5.HDDVD.x264-hV.English:  17%|▏\u001b[A\n",
      "Processing 1996_The.Nutty.Professor.1996.720p.DVD5.HDDVD.x264-hV.English:  25%|▎\u001b[A\n",
      "Processing 1996_The.Nutty.Professor.1996.720p.DVD5.HDDVD.x264-hV.English:  33%|▎\u001b[A\n",
      "Processing 1996_The.Nutty.Professor.1996.720p.DVD5.HDDVD.x264-hV.English:  42%|▍\u001b[A\n",
      "Processing 1996_The.Nutty.Professor.1996.720p.DVD5.HDDVD.x264-hV.English:  50%|▌\u001b[A"
     ]
    },
    {
     "name": "stdout",
     "output_type": "stream",
     "text": [
      "⚠️ Rate limit hit. Waiting 60 seconds...\n"
     ]
    },
    {
     "name": "stderr",
     "output_type": "stream",
     "text": [
      "\n",
      "Processing 1996_The.Nutty.Professor.1996.720p.DVD5.HDDVD.x264-hV.English:  58%|▌\u001b[A\n",
      "Processing 1996_The.Nutty.Professor.1996.720p.DVD5.HDDVD.x264-hV.English:  67%|▋\u001b[A\n",
      "Processing 1996_The.Nutty.Professor.1996.720p.DVD5.HDDVD.x264-hV.English:  75%|▊\u001b[A\n",
      "Processing 1996_The.Nutty.Professor.1996.720p.DVD5.HDDVD.x264-hV.English:  83%|▊\u001b[A\n",
      "Processing 1996_The.Nutty.Professor.1996.720p.DVD5.HDDVD.x264-hV.English:  92%|▉\u001b[A\n",
      "Processing 1996_The.Nutty.Professor.1996.720p.DVD5.HDDVD.x264-hV.English: 100%|█\u001b[A\n",
      "Scoring movies:  18%|████▍                   | 81/443 [27:23<1:42:00, 16.91s/it]\u001b[A"
     ]
    },
    {
     "name": "stdout",
     "output_type": "stream",
     "text": [
      "✅ Finished scoring: 1996_The.Nutty.Professor.1996.720p.DVD5.HDDVD.x264-hV.English\n"
     ]
    },
    {
     "name": "stderr",
     "output_type": "stream",
     "text": [
      "\n",
      "Processing 1977_Star.Wars.Episode.IV.A.New.Hope.(1977).DVDRip.XviD-UnSeeN:   0%|\u001b[A\n",
      "Processing 1977_Star.Wars.Episode.IV.A.New.Hope.(1977).DVDRip.XviD-UnSeeN:  12%|\u001b[A\n",
      "Processing 1977_Star.Wars.Episode.IV.A.New.Hope.(1977).DVDRip.XviD-UnSeeN:  25%|\u001b[A\n",
      "Processing 1977_Star.Wars.Episode.IV.A.New.Hope.(1977).DVDRip.XviD-UnSeeN:  38%|\u001b[A\n",
      "Processing 1977_Star.Wars.Episode.IV.A.New.Hope.(1977).DVDRip.XviD-UnSeeN:  50%|\u001b[A\n",
      "Processing 1977_Star.Wars.Episode.IV.A.New.Hope.(1977).DVDRip.XviD-UnSeeN:  62%|\u001b[A\n",
      "Processing 1977_Star.Wars.Episode.IV.A.New.Hope.(1977).DVDRip.XviD-UnSeeN:  75%|\u001b[A\n",
      "Processing 1977_Star.Wars.Episode.IV.A.New.Hope.(1977).DVDRip.XviD-UnSeeN:  88%|\u001b[A\n",
      "Processing 1977_Star.Wars.Episode.IV.A.New.Hope.(1977).DVDRip.XviD-UnSeeN: 100%|\u001b[A\n",
      "Scoring movies:  19%|████▍                   | 82/443 [27:47<1:48:27, 18.03s/it]\u001b[A"
     ]
    },
    {
     "name": "stdout",
     "output_type": "stream",
     "text": [
      "✅ Finished scoring: 1977_Star.Wars.Episode.IV.A.New.Hope.(1977).DVDRip.XviD-UnSeeN\n"
     ]
    },
    {
     "name": "stderr",
     "output_type": "stream",
     "text": [
      "\n",
      "Processing 2010_Avatar.(2009).BDRip.AC3.XviD-D-Z0N3:   0%| | 0/8 [00:00<?, ?it/s\u001b[A\n",
      "Processing 2010_Avatar.(2009).BDRip.AC3.XviD-D-Z0N3:  12%|▏| 1/8 [00:02<00:18,  \u001b[A\n",
      "Processing 2010_Avatar.(2009).BDRip.AC3.XviD-D-Z0N3:  25%|▎| 2/8 [00:05<00:16,  \u001b[A\n",
      "Processing 2010_Avatar.(2009).BDRip.AC3.XviD-D-Z0N3:  38%|▍| 3/8 [00:08<00:13,  \u001b[A\n",
      "Processing 2010_Avatar.(2009).BDRip.AC3.XviD-D-Z0N3:  50%|▌| 4/8 [00:11<00:11,  \u001b[A\n",
      "Processing 2010_Avatar.(2009).BDRip.AC3.XviD-D-Z0N3:  62%|▋| 5/8 [00:14<00:09,  \u001b[A\n",
      "Processing 2010_Avatar.(2009).BDRip.AC3.XviD-D-Z0N3:  75%|▊| 6/8 [00:17<00:06,  \u001b[A\n",
      "Processing 2010_Avatar.(2009).BDRip.AC3.XviD-D-Z0N3:  88%|▉| 7/8 [00:20<00:03,  \u001b[A\n",
      "Processing 2010_Avatar.(2009).BDRip.AC3.XviD-D-Z0N3: 100%|█| 8/8 [00:24<00:00,  \u001b[A\n",
      "Scoring movies:  19%|████▍                   | 83/443 [28:11<1:54:47, 19.13s/it]\u001b[A"
     ]
    },
    {
     "name": "stdout",
     "output_type": "stream",
     "text": [
      "✅ Finished scoring: 2010_Avatar.(2009).BDRip.AC3.XviD-D-Z0N3\n"
     ]
    },
    {
     "name": "stderr",
     "output_type": "stream",
     "text": [
      "\n",
      "Processing 2004_H.P.3-Prisoner.Of.Azkaban[2004]DvDrip-aXXo:   0%| | 0/8 [00:00<?\u001b[A\n",
      "Processing 2004_H.P.3-Prisoner.Of.Azkaban[2004]DvDrip-aXXo:  12%|▏| 1/8 [00:03<0\u001b[A\n",
      "Processing 2004_H.P.3-Prisoner.Of.Azkaban[2004]DvDrip-aXXo:  25%|▎| 2/8 [00:06<0\u001b[A\n",
      "Processing 2004_H.P.3-Prisoner.Of.Azkaban[2004]DvDrip-aXXo:  38%|▍| 3/8 [00:10<0\u001b[A\n",
      "Processing 2004_H.P.3-Prisoner.Of.Azkaban[2004]DvDrip-aXXo:  50%|▌| 4/8 [00:13<0\u001b[A\n",
      "Processing 2004_H.P.3-Prisoner.Of.Azkaban[2004]DvDrip-aXXo:  62%|▋| 5/8 [00:16<0\u001b[A\n",
      "Processing 2004_H.P.3-Prisoner.Of.Azkaban[2004]DvDrip-aXXo:  75%|▊| 6/8 [00:20<0\u001b[A\n",
      "Processing 2004_H.P.3-Prisoner.Of.Azkaban[2004]DvDrip-aXXo:  88%|▉| 7/8 [00:23<0\u001b[A\n",
      "Processing 2004_H.P.3-Prisoner.Of.Azkaban[2004]DvDrip-aXXo: 100%|█| 8/8 [00:26<0\u001b[A\n",
      "Scoring movies:  19%|████▌                   | 84/443 [28:38<2:03:30, 20.64s/it]\u001b[A"
     ]
    },
    {
     "name": "stdout",
     "output_type": "stream",
     "text": [
      "✅ Finished scoring: 2004_H.P.3-Prisoner.Of.Azkaban[2004]DvDrip-aXXo\n"
     ]
    },
    {
     "name": "stderr",
     "output_type": "stream",
     "text": [
      "\n",
      "Processing 2013_Despicable.Me.2.2013.720p.BluRay.x264-VeDeTT:   0%| | 0/7 [00:00\u001b[A\n",
      "Processing 2013_Despicable.Me.2.2013.720p.BluRay.x264-VeDeTT:  14%|▏| 1/7 [00:03\u001b[A\n",
      "Processing 2013_Despicable.Me.2.2013.720p.BluRay.x264-VeDeTT:  29%|▎| 2/7 [00:06\u001b[A\n",
      "Processing 2013_Despicable.Me.2.2013.720p.BluRay.x264-VeDeTT:  43%|▍| 3/7 [00:09\u001b[A\n",
      "Processing 2013_Despicable.Me.2.2013.720p.BluRay.x264-VeDeTT:  57%|▌| 4/7 [00:13\u001b[A\n",
      "Processing 2013_Despicable.Me.2.2013.720p.BluRay.x264-VeDeTT:  71%|▋| 5/7 [00:16\u001b[A\n",
      "Processing 2013_Despicable.Me.2.2013.720p.BluRay.x264-VeDeTT:  86%|▊| 6/7 [00:20\u001b[A\n",
      "Processing 2013_Despicable.Me.2.2013.720p.BluRay.x264-VeDeTT: 100%|█| 7/7 [00:23\u001b[A\n",
      "Scoring movies:  19%|████▌                   | 85/443 [29:01<2:07:06, 21.30s/it]\u001b[A"
     ]
    },
    {
     "name": "stdout",
     "output_type": "stream",
     "text": [
      "✅ Finished scoring: 2013_Despicable.Me.2.2013.720p.BluRay.x264-VeDeTT\n"
     ]
    },
    {
     "name": "stderr",
     "output_type": "stream",
     "text": [
      "\n",
      "Processing 1998_Theres.Something.About.Mary.1998.Extended.1080p.BluRay.x264.Codr\u001b[A\n",
      "Processing 1998_Theres.Something.About.Mary.1998.Extended.1080p.BluRay.x264.Codr\u001b[A\n",
      "Processing 1998_Theres.Something.About.Mary.1998.Extended.1080p.BluRay.x264.Codr\u001b[A\n",
      "Processing 1998_Theres.Something.About.Mary.1998.Extended.1080p.BluRay.x264.Codr\u001b[A\n",
      "Processing 1998_Theres.Something.About.Mary.1998.Extended.1080p.BluRay.x264.Codr\u001b[A\n",
      "Processing 1998_Theres.Something.About.Mary.1998.Extended.1080p.BluRay.x264.Codr\u001b[A\n",
      "Processing 1998_Theres.Something.About.Mary.1998.Extended.1080p.BluRay.x264.Codr\u001b[A\n",
      "Processing 1998_Theres.Something.About.Mary.1998.Extended.1080p.BluRay.x264.Codr\u001b[A\n",
      "Processing 1998_Theres.Something.About.Mary.1998.Extended.1080p.BluRay.x264.Codr\u001b[A\n",
      "Processing 1998_Theres.Something.About.Mary.1998.Extended.1080p.BluRay.x264.Codr\u001b[A\n",
      "Processing 1998_Theres.Something.About.Mary.1998.Extended.1080p.BluRay.x264.Codr\u001b[A\n",
      "Scoring movies:  19%|████▋                   | 86/443 [29:32<2:20:49, 23.67s/it]\u001b[A"
     ]
    },
    {
     "name": "stdout",
     "output_type": "stream",
     "text": [
      "✅ Finished scoring: 1998_Theres.Something.About.Mary.1998.Extended.1080p.BluRay.x264.Codres.ENG\n"
     ]
    },
    {
     "name": "stderr",
     "output_type": "stream",
     "text": [
      "\n",
      "Processing 2008_Kung.Fu.Panda[2008]DvDrip-aXXo.en:   0%|  | 0/6 [00:00<?, ?it/s]\u001b[A\n",
      "Processing 2008_Kung.Fu.Panda[2008]DvDrip-aXXo.en:  17%|▏| 1/6 [00:02<00:12,  2.\u001b[A\n",
      "Processing 2008_Kung.Fu.Panda[2008]DvDrip-aXXo.en:  33%|▎| 2/6 [00:05<00:09,  2.\u001b[A\n",
      "Processing 2008_Kung.Fu.Panda[2008]DvDrip-aXXo.en:  50%|▌| 3/6 [00:08<00:08,  2.\u001b[A\n",
      "Processing 2008_Kung.Fu.Panda[2008]DvDrip-aXXo.en:  67%|▋| 4/6 [00:11<00:06,  3.\u001b[A\n",
      "Processing 2008_Kung.Fu.Panda[2008]DvDrip-aXXo.en:  83%|▊| 5/6 [00:14<00:02,  2.\u001b[A\n",
      "Processing 2008_Kung.Fu.Panda[2008]DvDrip-aXXo.en: 100%|█| 6/6 [00:17<00:00,  2.\u001b[A\n",
      "Scoring movies:  20%|████▋                   | 87/443 [29:49<2:10:17, 21.96s/it]\u001b[A"
     ]
    },
    {
     "name": "stdout",
     "output_type": "stream",
     "text": [
      "✅ Finished scoring: 2008_Kung.Fu.Panda[2008]DvDrip-aXXo.en\n"
     ]
    },
    {
     "name": "stderr",
     "output_type": "stream",
     "text": [
      "\n",
      "Processing 1982_The Best Little Whorehouse In Texas - 1982:   0%| | 0/9 [00:00<?\u001b[A\n",
      "Processing 1982_The Best Little Whorehouse In Texas - 1982:  11%| | 1/9 [00:03<0\u001b[A\n",
      "Processing 1982_The Best Little Whorehouse In Texas - 1982:  22%|▏| 2/9 [00:06<0\u001b[A\n",
      "Processing 1982_The Best Little Whorehouse In Texas - 1982:  33%|▎| 3/9 [00:10<0\u001b[A\n",
      "Processing 1982_The Best Little Whorehouse In Texas - 1982:  44%|▍| 4/9 [00:13<0\u001b[A\n",
      "Processing 1982_The Best Little Whorehouse In Texas - 1982:  56%|▌| 5/9 [00:15<0\u001b[A\n",
      "Processing 1982_The Best Little Whorehouse In Texas - 1982:  67%|▋| 6/9 [00:19<0\u001b[A\n",
      "Processing 1982_The Best Little Whorehouse In Texas - 1982:  78%|▊| 7/9 [00:22<0\u001b[A\n",
      "Processing 1982_The Best Little Whorehouse In Texas - 1982:  89%|▉| 8/9 [00:25<0\u001b[A\n",
      "Processing 1982_The Best Little Whorehouse In Texas - 1982: 100%|█| 9/9 [00:27<0\u001b[A\n",
      "Scoring movies:  20%|████▊                   | 88/443 [30:17<2:19:11, 23.52s/it]\u001b[A"
     ]
    },
    {
     "name": "stdout",
     "output_type": "stream",
     "text": [
      "✅ Finished scoring: 1982_The Best Little Whorehouse In Texas - 1982\n"
     ]
    },
    {
     "name": "stderr",
     "output_type": "stream",
     "text": [
      "\n",
      "Processing 1997_Liar Liar:   0%|                          | 0/7 [00:00<?, ?it/s]\u001b[A\n",
      "Processing 1997_Liar Liar:  14%|██▌               | 1/7 [00:02<00:16,  2.71s/it]\u001b[A\n",
      "Processing 1997_Liar Liar:  29%|█████▏            | 2/7 [00:05<00:12,  2.59s/it]\u001b[A\n",
      "Processing 1997_Liar Liar:  43%|███████▋          | 3/7 [00:07<00:10,  2.67s/it]\u001b[A\n",
      "Processing 1997_Liar Liar:  57%|██████████▎       | 4/7 [00:11<00:08,  2.82s/it]\u001b[A\n",
      "Processing 1997_Liar Liar:  71%|████████████▊     | 5/7 [00:13<00:05,  2.84s/it]\u001b[A\n",
      "Processing 1997_Liar Liar:  86%|███████████████▍  | 6/7 [00:16<00:02,  2.89s/it]\u001b[A\n",
      "Processing 1997_Liar Liar: 100%|██████████████████| 7/7 [00:19<00:00,  2.84s/it]\u001b[A\n",
      "Scoring movies:  20%|████▊                   | 89/443 [30:37<2:12:23, 22.44s/it]\u001b[A"
     ]
    },
    {
     "name": "stdout",
     "output_type": "stream",
     "text": [
      "✅ Finished scoring: 1997_Liar Liar\n"
     ]
    },
    {
     "name": "stderr",
     "output_type": "stream",
     "text": [
      "\n",
      "Processing 1999_Walt Disney Tarzan(1999) XviD avi DVDrip:   0%| | 0/5 [00:00<?, \u001b[A\n",
      "Processing 1999_Walt Disney Tarzan(1999) XviD avi DVDrip:  20%|▏| 1/5 [00:02<00:\u001b[A\n",
      "Processing 1999_Walt Disney Tarzan(1999) XviD avi DVDrip:  40%|▍| 2/5 [00:05<00:\u001b[A\n",
      "Processing 1999_Walt Disney Tarzan(1999) XviD avi DVDrip:  60%|▌| 3/5 [00:08<00:\u001b[A\n",
      "Processing 1999_Walt Disney Tarzan(1999) XviD avi DVDrip:  80%|▊| 4/5 [00:11<00:\u001b[A\n",
      "Processing 1999_Walt Disney Tarzan(1999) XviD avi DVDrip: 100%|█| 5/5 [00:14<00:\u001b[A\n",
      "Scoring movies:  20%|████▉                   | 90/443 [30:51<1:58:57, 20.22s/it]\u001b[A"
     ]
    },
    {
     "name": "stdout",
     "output_type": "stream",
     "text": [
      "✅ Finished scoring: 1999_Walt Disney Tarzan(1999) XviD avi DVDrip\n"
     ]
    },
    {
     "name": "stderr",
     "output_type": "stream",
     "text": [
      "\n",
      "Processing 1999_The.Mummy.1999.Blu-ray.720p.x264.DTS-CHD.ENG:   0%| | 0/6 [00:00\u001b[A\n",
      "Processing 1999_The.Mummy.1999.Blu-ray.720p.x264.DTS-CHD.ENG:  17%|▏| 1/6 [00:03\u001b[A\n",
      "Processing 1999_The.Mummy.1999.Blu-ray.720p.x264.DTS-CHD.ENG:  33%|▎| 2/6 [00:06\u001b[A\n",
      "Processing 1999_The.Mummy.1999.Blu-ray.720p.x264.DTS-CHD.ENG:  50%|▌| 3/6 [00:09\u001b[A\n",
      "Processing 1999_The.Mummy.1999.Blu-ray.720p.x264.DTS-CHD.ENG:  67%|▋| 4/6 [00:11\u001b[A\n",
      "Processing 1999_The.Mummy.1999.Blu-ray.720p.x264.DTS-CHD.ENG:  83%|▊| 5/6 [00:14\u001b[A\n",
      "Processing 1999_The.Mummy.1999.Blu-ray.720p.x264.DTS-CHD.ENG: 100%|█| 6/6 [00:18\u001b[A\n",
      "Scoring movies:  21%|████▉                   | 91/443 [31:10<1:55:19, 19.66s/it]\u001b[A"
     ]
    },
    {
     "name": "stdout",
     "output_type": "stream",
     "text": [
      "✅ Finished scoring: 1999_The.Mummy.1999.Blu-ray.720p.x264.DTS-CHD.ENG\n"
     ]
    },
    {
     "name": "stderr",
     "output_type": "stream",
     "text": [
      "\n",
      "Processing 2009_Star.Trek.2009.BluRay.1080p.DTS.x264.dxva-EuReKA.ENG:   0%| | 0/\u001b[A\n",
      "Processing 2009_Star.Trek.2009.BluRay.1080p.DTS.x264.dxva-EuReKA.ENG:  12%|▏| 1/\u001b[A\n",
      "Processing 2009_Star.Trek.2009.BluRay.1080p.DTS.x264.dxva-EuReKA.ENG:  25%|▎| 2/\u001b[A\n",
      "Processing 2009_Star.Trek.2009.BluRay.1080p.DTS.x264.dxva-EuReKA.ENG:  38%|▍| 3/\u001b[A\n",
      "Processing 2009_Star.Trek.2009.BluRay.1080p.DTS.x264.dxva-EuReKA.ENG:  50%|▌| 4/\u001b[A\n",
      "Processing 2009_Star.Trek.2009.BluRay.1080p.DTS.x264.dxva-EuReKA.ENG:  62%|▋| 5/\u001b[A\n",
      "Processing 2009_Star.Trek.2009.BluRay.1080p.DTS.x264.dxva-EuReKA.ENG:  75%|▊| 6/\u001b[A\n",
      "Processing 2009_Star.Trek.2009.BluRay.1080p.DTS.x264.dxva-EuReKA.ENG:  88%|▉| 7/\u001b[A\n",
      "Processing 2009_Star.Trek.2009.BluRay.1080p.DTS.x264.dxva-EuReKA.ENG: 100%|█| 8/\u001b[A\n",
      "Scoring movies:  21%|████▉                   | 92/443 [31:33<2:01:13, 20.72s/it]\u001b[A"
     ]
    },
    {
     "name": "stdout",
     "output_type": "stream",
     "text": [
      "✅ Finished scoring: 2009_Star.Trek.2009.BluRay.1080p.DTS.x264.dxva-EuReKA.ENG\n"
     ]
    },
    {
     "name": "stderr",
     "output_type": "stream",
     "text": [
      "\n",
      "Processing 2003_TLOTR.The.Return.of.the.King.2003.Extended.BluRay.1080p.DTSES6.1\u001b[A\n",
      "Processing 2003_TLOTR.The.Return.of.the.King.2003.Extended.BluRay.1080p.DTSES6.1\u001b[A\n",
      "Processing 2003_TLOTR.The.Return.of.the.King.2003.Extended.BluRay.1080p.DTSES6.1\u001b[A\n",
      "Processing 2003_TLOTR.The.Return.of.the.King.2003.Extended.BluRay.1080p.DTSES6.1\u001b[A\n",
      "Processing 2003_TLOTR.The.Return.of.the.King.2003.Extended.BluRay.1080p.DTSES6.1\u001b[A\n",
      "Processing 2003_TLOTR.The.Return.of.the.King.2003.Extended.BluRay.1080p.DTSES6.1\u001b[A\n",
      "Processing 2003_TLOTR.The.Return.of.the.King.2003.Extended.BluRay.1080p.DTSES6.1\u001b[A\n",
      "Processing 2003_TLOTR.The.Return.of.the.King.2003.Extended.BluRay.1080p.DTSES6.1\u001b[A\n",
      "Processing 2003_TLOTR.The.Return.of.the.King.2003.Extended.BluRay.1080p.DTSES6.1\u001b[A\n",
      "Processing 2003_TLOTR.The.Return.of.the.King.2003.Extended.BluRay.1080p.DTSES6.1\u001b[A\n",
      "Processing 2003_TLOTR.The.Return.of.the.King.2003.Extended.BluRay.1080p.DTSES6.1\u001b[A\n",
      "Processing 2003_TLOTR.The.Return.of.the.King.2003.Extended.BluRay.1080p.DTSES6.1\u001b[A\n",
      "Scoring movies:  21%|█████                   | 93/443 [32:07<2:24:17, 24.74s/it]\u001b[A"
     ]
    },
    {
     "name": "stdout",
     "output_type": "stream",
     "text": [
      "✅ Finished scoring: 2003_TLOTR.The.Return.of.the.King.2003.Extended.BluRay.1080p.DTSES6.1.x264-CHD.eng\n"
     ]
    },
    {
     "name": "stderr",
     "output_type": "stream",
     "text": [
      "\n",
      "Processing 2008_Hancock.720p.BluRay.x264-REFiNED.ENG:   0%| | 0/7 [00:00<?, ?it/\u001b[A\n",
      "Processing 2008_Hancock.720p.BluRay.x264-REFiNED.ENG:  14%|▏| 1/7 [00:03<00:19, \u001b[A\n",
      "Processing 2008_Hancock.720p.BluRay.x264-REFiNED.ENG:  29%|▎| 2/7 [00:06<00:16, \u001b[A\n",
      "Processing 2008_Hancock.720p.BluRay.x264-REFiNED.ENG:  43%|▍| 3/7 [00:09<00:11, \u001b[A\n",
      "Processing 2008_Hancock.720p.BluRay.x264-REFiNED.ENG:  57%|▌| 4/7 [00:12<00:09, \u001b[A\n",
      "Processing 2008_Hancock.720p.BluRay.x264-REFiNED.ENG:  71%|▋| 5/7 [00:15<00:05, \u001b[A\n",
      "Processing 2008_Hancock.720p.BluRay.x264-REFiNED.ENG:  86%|▊| 6/7 [00:18<00:03, \u001b[A"
     ]
    },
    {
     "name": "stdout",
     "output_type": "stream",
     "text": [
      "⚠️ Rate limit hit. Waiting 60 seconds...\n"
     ]
    },
    {
     "name": "stderr",
     "output_type": "stream",
     "text": [
      "\n",
      "Processing 2008_Hancock.720p.BluRay.x264-REFiNED.ENG: 100%|█| 7/7 [01:21<00:00, \u001b[A\n",
      "Scoring movies:  21%|█████                   | 94/443 [33:29<4:02:31, 41.69s/it]\u001b[A"
     ]
    },
    {
     "name": "stdout",
     "output_type": "stream",
     "text": [
      "✅ Finished scoring: 2008_Hancock.720p.BluRay.x264-REFiNED.ENG\n"
     ]
    },
    {
     "name": "stderr",
     "output_type": "stream",
     "text": [
      "\n",
      "Processing 1984_The.Karate.Kid.1984.1080p.BluRay.x264-CiNEFiLE.ENG:   0%| | 0/8 \u001b[A\n",
      "Processing 1984_The.Karate.Kid.1984.1080p.BluRay.x264-CiNEFiLE.ENG:  12%|▏| 1/8 \u001b[A\n",
      "Processing 1984_The.Karate.Kid.1984.1080p.BluRay.x264-CiNEFiLE.ENG:  25%|▎| 2/8 \u001b[A\n",
      "Processing 1984_The.Karate.Kid.1984.1080p.BluRay.x264-CiNEFiLE.ENG:  38%|▍| 3/8 \u001b[A\n",
      "Processing 1984_The.Karate.Kid.1984.1080p.BluRay.x264-CiNEFiLE.ENG:  50%|▌| 4/8 \u001b[A\n",
      "Processing 1984_The.Karate.Kid.1984.1080p.BluRay.x264-CiNEFiLE.ENG:  62%|▋| 5/8 \u001b[A\n",
      "Processing 1984_The.Karate.Kid.1984.1080p.BluRay.x264-CiNEFiLE.ENG:  75%|▊| 6/8 \u001b[A\n",
      "Processing 1984_The.Karate.Kid.1984.1080p.BluRay.x264-CiNEFiLE.ENG:  88%|▉| 7/8 \u001b[A\n",
      "Processing 1984_The.Karate.Kid.1984.1080p.BluRay.x264-CiNEFiLE.ENG: 100%|█| 8/8 \u001b[A\n",
      "Scoring movies:  21%|█████▏                  | 95/443 [33:55<3:34:45, 37.03s/it]\u001b[A"
     ]
    },
    {
     "name": "stdout",
     "output_type": "stream",
     "text": [
      "✅ Finished scoring: 1984_The.Karate.Kid.1984.1080p.BluRay.x264-CiNEFiLE.ENG\n"
     ]
    },
    {
     "name": "stderr",
     "output_type": "stream",
     "text": [
      "\n",
      "Processing 1982_Poltergeist.1982.1080p.BluRay.x264-iKA.ENG:   0%| | 0/6 [00:00<?\u001b[A\n",
      "Processing 1982_Poltergeist.1982.1080p.BluRay.x264-iKA.ENG:  17%|▏| 1/6 [00:03<0\u001b[A\n",
      "Processing 1982_Poltergeist.1982.1080p.BluRay.x264-iKA.ENG:  33%|▎| 2/6 [00:05<0\u001b[A\n",
      "Processing 1982_Poltergeist.1982.1080p.BluRay.x264-iKA.ENG:  50%|▌| 3/6 [00:08<0\u001b[A\n",
      "Processing 1982_Poltergeist.1982.1080p.BluRay.x264-iKA.ENG:  67%|▋| 4/6 [00:11<0\u001b[A\n",
      "Processing 1982_Poltergeist.1982.1080p.BluRay.x264-iKA.ENG:  83%|▊| 5/6 [00:14<0\u001b[A\n",
      "Processing 1982_Poltergeist.1982.1080p.BluRay.x264-iKA.ENG: 100%|█| 6/6 [00:16<0\u001b[A\n",
      "Scoring movies:  22%|█████▏                  | 96/443 [34:12<2:58:50, 30.92s/it]\u001b[A"
     ]
    },
    {
     "name": "stdout",
     "output_type": "stream",
     "text": [
      "✅ Finished scoring: 1982_Poltergeist.1982.1080p.BluRay.x264-iKA.ENG\n"
     ]
    },
    {
     "name": "stderr",
     "output_type": "stream",
     "text": [
      "\n",
      "Processing 2004_The.Polar.Express.2004.BluRay.1080p.DTS.x264.dxva-EuReKA.ENG:   \u001b[A\n",
      "Processing 2004_The.Polar.Express.2004.BluRay.1080p.DTS.x264.dxva-EuReKA.ENG:  2\u001b[A\n",
      "Processing 2004_The.Polar.Express.2004.BluRay.1080p.DTS.x264.dxva-EuReKA.ENG:  4\u001b[A\n",
      "Processing 2004_The.Polar.Express.2004.BluRay.1080p.DTS.x264.dxva-EuReKA.ENG:  6\u001b[A\n",
      "Processing 2004_The.Polar.Express.2004.BluRay.1080p.DTS.x264.dxva-EuReKA.ENG:  8\u001b[A\n",
      "Processing 2004_The.Polar.Express.2004.BluRay.1080p.DTS.x264.dxva-EuReKA.ENG: 10\u001b[A\n",
      "Scoring movies:  22%|█████▎                  | 97/443 [34:26<2:29:25, 25.91s/it]\u001b[A"
     ]
    },
    {
     "name": "stdout",
     "output_type": "stream",
     "text": [
      "✅ Finished scoring: 2004_The.Polar.Express.2004.BluRay.1080p.DTS.x264.dxva-EuReKA.ENG\n"
     ]
    },
    {
     "name": "stderr",
     "output_type": "stream",
     "text": [
      "\n",
      "Processing 1980_SW.Episode.5.The.Empire.Strikes.Back.1980.BluRay.1080p.DTSES6.1.\u001b[A\n",
      "Processing 1980_SW.Episode.5.The.Empire.Strikes.Back.1980.BluRay.1080p.DTSES6.1.\u001b[A\n",
      "Processing 1980_SW.Episode.5.The.Empire.Strikes.Back.1980.BluRay.1080p.DTSES6.1.\u001b[A\n",
      "Processing 1980_SW.Episode.5.The.Empire.Strikes.Back.1980.BluRay.1080p.DTSES6.1.\u001b[A\n",
      "Processing 1980_SW.Episode.5.The.Empire.Strikes.Back.1980.BluRay.1080p.DTSES6.1.\u001b[A\n",
      "Processing 1980_SW.Episode.5.The.Empire.Strikes.Back.1980.BluRay.1080p.DTSES6.1.\u001b[A\n",
      "Processing 1980_SW.Episode.5.The.Empire.Strikes.Back.1980.BluRay.1080p.DTSES6.1.\u001b[A\n",
      "Processing 1980_SW.Episode.5.The.Empire.Strikes.Back.1980.BluRay.1080p.DTSES6.1.\u001b[A\n",
      "Scoring movies:  22%|█████▎                  | 98/443 [34:45<2:16:44, 23.78s/it]\u001b[A"
     ]
    },
    {
     "name": "stdout",
     "output_type": "stream",
     "text": [
      "✅ Finished scoring: 1980_SW.Episode.5.The.Empire.Strikes.Back.1980.BluRay.1080p.DTSES6.1.x264-CHD.eng\n"
     ]
    },
    {
     "name": "stderr",
     "output_type": "stream",
     "text": [
      "\n",
      "Processing 1995_Pocahontas.1995.720p.BluRay.x264.DTS-WiKi.eng:   0%| | 0/6 [00:0\u001b[A\n",
      "Processing 1995_Pocahontas.1995.720p.BluRay.x264.DTS-WiKi.eng:  17%|▏| 1/6 [00:0\u001b[A\n",
      "Processing 1995_Pocahontas.1995.720p.BluRay.x264.DTS-WiKi.eng:  33%|▎| 2/6 [00:0\u001b[A\n",
      "Processing 1995_Pocahontas.1995.720p.BluRay.x264.DTS-WiKi.eng:  50%|▌| 3/6 [00:0\u001b[A\n",
      "Processing 1995_Pocahontas.1995.720p.BluRay.x264.DTS-WiKi.eng:  67%|▋| 4/6 [00:1\u001b[A\n",
      "Processing 1995_Pocahontas.1995.720p.BluRay.x264.DTS-WiKi.eng:  83%|▊| 5/6 [00:1\u001b[A\n",
      "Processing 1995_Pocahontas.1995.720p.BluRay.x264.DTS-WiKi.eng: 100%|█| 6/6 [00:1\u001b[A\n",
      "Scoring movies:  22%|█████▎                  | 99/443 [35:03<2:05:53, 21.96s/it]\u001b[A"
     ]
    },
    {
     "name": "stdout",
     "output_type": "stream",
     "text": [
      "✅ Finished scoring: 1995_Pocahontas.1995.720p.BluRay.x264.DTS-WiKi.eng\n"
     ]
    },
    {
     "name": "stderr",
     "output_type": "stream",
     "text": [
      "\n",
      "Processing 2005_Star.Wars.Episode.III.Revenge.of.the.Sith.(2005).DVDRip.XviD-UnS\u001b[A\n",
      "Processing 2005_Star.Wars.Episode.III.Revenge.of.the.Sith.(2005).DVDRip.XviD-UnS\u001b[A\n",
      "Processing 2005_Star.Wars.Episode.III.Revenge.of.the.Sith.(2005).DVDRip.XviD-UnS\u001b[A\n",
      "Processing 2005_Star.Wars.Episode.III.Revenge.of.the.Sith.(2005).DVDRip.XviD-UnS\u001b[A\n",
      "Processing 2005_Star.Wars.Episode.III.Revenge.of.the.Sith.(2005).DVDRip.XviD-UnS\u001b[A\n",
      "Processing 2005_Star.Wars.Episode.III.Revenge.of.the.Sith.(2005).DVDRip.XviD-UnS\u001b[A\n",
      "Processing 2005_Star.Wars.Episode.III.Revenge.of.the.Sith.(2005).DVDRip.XviD-UnS\u001b[A\n",
      "Processing 2005_Star.Wars.Episode.III.Revenge.of.the.Sith.(2005).DVDRip.XviD-UnS\u001b[A\n",
      "Scoring movies:  23%|█████▏                 | 100/443 [35:22<2:01:45, 21.30s/it]\u001b[A"
     ]
    },
    {
     "name": "stdout",
     "output_type": "stream",
     "text": [
      "✅ Finished scoring: 2005_Star.Wars.Episode.III.Revenge.of.the.Sith.(2005).DVDRip.XviD-UnSeeN\n"
     ]
    },
    {
     "name": "stderr",
     "output_type": "stream",
     "text": [
      "\n",
      "Processing 2007_Shrek.the.Third.(2007).DVDRip.AC3.XviD-UnSeeN:   0%| | 0/7 [00:0\u001b[A\n",
      "Processing 2007_Shrek.the.Third.(2007).DVDRip.AC3.XviD-UnSeeN:  14%|▏| 1/7 [00:0\u001b[A\n",
      "Processing 2007_Shrek.the.Third.(2007).DVDRip.AC3.XviD-UnSeeN:  29%|▎| 2/7 [00:0\u001b[A\n",
      "Processing 2007_Shrek.the.Third.(2007).DVDRip.AC3.XviD-UnSeeN:  43%|▍| 3/7 [00:0\u001b[A\n",
      "Processing 2007_Shrek.the.Third.(2007).DVDRip.AC3.XviD-UnSeeN:  57%|▌| 4/7 [00:1\u001b[A\n",
      "Processing 2007_Shrek.the.Third.(2007).DVDRip.AC3.XviD-UnSeeN:  71%|▋| 5/7 [00:1\u001b[A\n",
      "Processing 2007_Shrek.the.Third.(2007).DVDRip.AC3.XviD-UnSeeN:  86%|▊| 6/7 [00:1\u001b[A\n",
      "Processing 2007_Shrek.the.Third.(2007).DVDRip.AC3.XviD-UnSeeN: 100%|█| 7/7 [00:2\u001b[A\n",
      "Scoring movies:  23%|█████▏                 | 101/443 [35:43<2:00:34, 21.15s/it]\u001b[A"
     ]
    },
    {
     "name": "stdout",
     "output_type": "stream",
     "text": [
      "✅ Finished scoring: 2007_Shrek.the.Third.(2007).DVDRip.AC3.XviD-UnSeeN\n"
     ]
    },
    {
     "name": "stderr",
     "output_type": "stream",
     "text": [
      "\n",
      "Processing 1998_Saving.Private.Ryan.720p.HDTV.Premiere.DTS.x264-ESiR:   0%| | 0/\u001b[A\n",
      "Processing 1998_Saving.Private.Ryan.720p.HDTV.Premiere.DTS.x264-ESiR:  10%| | 1/\u001b[A\n",
      "Processing 1998_Saving.Private.Ryan.720p.HDTV.Premiere.DTS.x264-ESiR:  20%|▏| 2/\u001b[A\n",
      "Processing 1998_Saving.Private.Ryan.720p.HDTV.Premiere.DTS.x264-ESiR:  30%|▎| 3/\u001b[A\n",
      "Processing 1998_Saving.Private.Ryan.720p.HDTV.Premiere.DTS.x264-ESiR:  40%|▍| 4/\u001b[A\n",
      "Processing 1998_Saving.Private.Ryan.720p.HDTV.Premiere.DTS.x264-ESiR:  50%|▌| 5/\u001b[A\n",
      "Processing 1998_Saving.Private.Ryan.720p.HDTV.Premiere.DTS.x264-ESiR:  60%|▌| 6/\u001b[A\n",
      "Processing 1998_Saving.Private.Ryan.720p.HDTV.Premiere.DTS.x264-ESiR:  70%|▋| 7/\u001b[A\n",
      "Processing 1998_Saving.Private.Ryan.720p.HDTV.Premiere.DTS.x264-ESiR:  80%|▊| 8/\u001b[A\n",
      "Processing 1998_Saving.Private.Ryan.720p.HDTV.Premiere.DTS.x264-ESiR:  90%|▉| 9/\u001b[A\n",
      "Processing 1998_Saving.Private.Ryan.720p.HDTV.Premiere.DTS.x264-ESiR: 100%|█| 10\u001b[A\n",
      "Scoring movies:  23%|█████▎                 | 102/443 [36:12<2:13:54, 23.56s/it]\u001b[A"
     ]
    },
    {
     "name": "stdout",
     "output_type": "stream",
     "text": [
      "✅ Finished scoring: 1998_Saving.Private.Ryan.720p.HDTV.Premiere.DTS.x264-ESiR\n"
     ]
    },
    {
     "name": "stderr",
     "output_type": "stream",
     "text": [
      "\n",
      "Processing 2007_POTC 3 - At Worlds End (2007) 720p BluRay AC3 x264 - AdiT.englis\u001b[A\n",
      "Processing 2007_POTC 3 - At Worlds End (2007) 720p BluRay AC3 x264 - AdiT.englis\u001b[A\n",
      "Processing 2007_POTC 3 - At Worlds End (2007) 720p BluRay AC3 x264 - AdiT.englis\u001b[A\n",
      "Processing 2007_POTC 3 - At Worlds End (2007) 720p BluRay AC3 x264 - AdiT.englis\u001b[A\n",
      "Processing 2007_POTC 3 - At Worlds End (2007) 720p BluRay AC3 x264 - AdiT.englis\u001b[A\n",
      "Processing 2007_POTC 3 - At Worlds End (2007) 720p BluRay AC3 x264 - AdiT.englis\u001b[A\n",
      "Processing 2007_POTC 3 - At Worlds End (2007) 720p BluRay AC3 x264 - AdiT.englis\u001b[A\n",
      "Processing 2007_POTC 3 - At Worlds End (2007) 720p BluRay AC3 x264 - AdiT.englis\u001b[A\n",
      "Processing 2007_POTC 3 - At Worlds End (2007) 720p BluRay AC3 x264 - AdiT.englis\u001b[A\n",
      "Processing 2007_POTC 3 - At Worlds End (2007) 720p BluRay AC3 x264 - AdiT.englis\u001b[A\n",
      "Scoring movies:  23%|█████▎                 | 103/443 [36:37<2:14:47, 23.79s/it]\u001b[A"
     ]
    },
    {
     "name": "stdout",
     "output_type": "stream",
     "text": [
      "✅ Finished scoring: 2007_POTC 3 - At Worlds End (2007) 720p BluRay AC3 x264 - AdiT.english\n"
     ]
    },
    {
     "name": "stderr",
     "output_type": "stream",
     "text": [
      "\n",
      "Processing 2012_MSAR. EN2:   0%|                          | 0/7 [00:00<?, ?it/s]\u001b[A\n",
      "Processing 2012_MSAR. EN2:  14%|██▌               | 1/7 [00:03<00:18,  3.09s/it]\u001b[A\n",
      "Processing 2012_MSAR. EN2:  29%|█████▏            | 2/7 [00:06<00:15,  3.08s/it]\u001b[A\n",
      "Processing 2012_MSAR. EN2:  43%|███████▋          | 3/7 [00:09<00:13,  3.32s/it]\u001b[A\n",
      "Processing 2012_MSAR. EN2:  57%|██████████▎       | 4/7 [00:12<00:09,  3.14s/it]\u001b[A\n",
      "Processing 2012_MSAR. EN2:  71%|████████████▊     | 5/7 [00:16<00:06,  3.31s/it]\u001b[A\n",
      "Processing 2012_MSAR. EN2:  86%|███████████████▍  | 6/7 [00:18<00:03,  3.12s/it]\u001b[A\n",
      "Processing 2012_MSAR. EN2: 100%|██████████████████| 7/7 [00:21<00:00,  2.97s/it]\u001b[A\n",
      "Scoring movies:  23%|█████▍                 | 104/443 [36:58<2:10:48, 23.15s/it]\u001b[A"
     ]
    },
    {
     "name": "stdout",
     "output_type": "stream",
     "text": [
      "✅ Finished scoring: 2012_MSAR. EN2\n"
     ]
    },
    {
     "name": "stderr",
     "output_type": "stream",
     "text": [
      "\n",
      "Processing 2005_Wedding.Crashers.2005.UNRATED.1080p.BluRay.x264-CiNEFiLE.ENG:   \u001b[A\n",
      "Processing 2005_Wedding.Crashers.2005.UNRATED.1080p.BluRay.x264-CiNEFiLE.ENG:   \u001b[A\n",
      "Processing 2005_Wedding.Crashers.2005.UNRATED.1080p.BluRay.x264-CiNEFiLE.ENG:  1\u001b[A\n",
      "Processing 2005_Wedding.Crashers.2005.UNRATED.1080p.BluRay.x264-CiNEFiLE.ENG:  2\u001b[A\n",
      "Processing 2005_Wedding.Crashers.2005.UNRATED.1080p.BluRay.x264-CiNEFiLE.ENG:  3\u001b[A\n",
      "Processing 2005_Wedding.Crashers.2005.UNRATED.1080p.BluRay.x264-CiNEFiLE.ENG:  4\u001b[A\n",
      "Processing 2005_Wedding.Crashers.2005.UNRATED.1080p.BluRay.x264-CiNEFiLE.ENG:  5\u001b[A\n",
      "Processing 2005_Wedding.Crashers.2005.UNRATED.1080p.BluRay.x264-CiNEFiLE.ENG:  5\u001b[A\n",
      "Processing 2005_Wedding.Crashers.2005.UNRATED.1080p.BluRay.x264-CiNEFiLE.ENG:  6\u001b[A\n",
      "Processing 2005_Wedding.Crashers.2005.UNRATED.1080p.BluRay.x264-CiNEFiLE.ENG:  7\u001b[A\n",
      "Processing 2005_Wedding.Crashers.2005.UNRATED.1080p.BluRay.x264-CiNEFiLE.ENG:  8\u001b[A\n",
      "Processing 2005_Wedding.Crashers.2005.UNRATED.1080p.BluRay.x264-CiNEFiLE.ENG:  9\u001b[A\n",
      "Processing 2005_Wedding.Crashers.2005.UNRATED.1080p.BluRay.x264-CiNEFiLE.ENG: 10\u001b[A\n",
      "Scoring movies:  24%|█████▍                 | 105/443 [37:35<2:32:50, 27.13s/it]\u001b[A"
     ]
    },
    {
     "name": "stdout",
     "output_type": "stream",
     "text": [
      "✅ Finished scoring: 2005_Wedding.Crashers.2005.UNRATED.1080p.BluRay.x264-CiNEFiLE.ENG\n"
     ]
    },
    {
     "name": "stderr",
     "output_type": "stream",
     "text": [
      "\n",
      "Processing 2000_Meet.the.Parents.2000.HD-DVD-Rip.x264.1080p.DTS-de[42].ENG:   0%\u001b[A\n",
      "Processing 2000_Meet.the.Parents.2000.HD-DVD-Rip.x264.1080p.DTS-de[42].ENG:  11%\u001b[A"
     ]
    },
    {
     "name": "stdout",
     "output_type": "stream",
     "text": [
      "⚠️ Rate limit hit. Waiting 60 seconds...\n"
     ]
    },
    {
     "name": "stderr",
     "output_type": "stream",
     "text": [
      "\n",
      "Processing 2000_Meet.the.Parents.2000.HD-DVD-Rip.x264.1080p.DTS-de[42].ENG:  22%\u001b[A\n",
      "Processing 2000_Meet.the.Parents.2000.HD-DVD-Rip.x264.1080p.DTS-de[42].ENG:  33%\u001b[A\n",
      "Processing 2000_Meet.the.Parents.2000.HD-DVD-Rip.x264.1080p.DTS-de[42].ENG:  44%\u001b[A\n",
      "Processing 2000_Meet.the.Parents.2000.HD-DVD-Rip.x264.1080p.DTS-de[42].ENG:  56%\u001b[A\n",
      "Processing 2000_Meet.the.Parents.2000.HD-DVD-Rip.x264.1080p.DTS-de[42].ENG:  67%\u001b[A\n",
      "Processing 2000_Meet.the.Parents.2000.HD-DVD-Rip.x264.1080p.DTS-de[42].ENG:  78%\u001b[A\n",
      "Processing 2000_Meet.the.Parents.2000.HD-DVD-Rip.x264.1080p.DTS-de[42].ENG:  89%\u001b[A\n",
      "Processing 2000_Meet.the.Parents.2000.HD-DVD-Rip.x264.1080p.DTS-de[42].ENG: 100%\u001b[A\n",
      "Scoring movies:  24%|█████▌                 | 106/443 [39:00<4:11:03, 44.70s/it]\u001b[A"
     ]
    },
    {
     "name": "stdout",
     "output_type": "stream",
     "text": [
      "✅ Finished scoring: 2000_Meet.the.Parents.2000.HD-DVD-Rip.x264.1080p.DTS-de[42].ENG\n"
     ]
    },
    {
     "name": "stderr",
     "output_type": "stream",
     "text": [
      "\n",
      "Processing 1981_Excalibur:   0%|                          | 0/7 [00:00<?, ?it/s]\u001b[A\n",
      "Processing 1981_Excalibur:  14%|██▌               | 1/7 [00:03<00:18,  3.01s/it]\u001b[A\n",
      "Processing 1981_Excalibur:  29%|█████▏            | 2/7 [00:06<00:15,  3.13s/it]\u001b[A\n",
      "Processing 1981_Excalibur:  43%|███████▋          | 3/7 [00:09<00:12,  3.09s/it]\u001b[A\n",
      "Processing 1981_Excalibur:  57%|██████████▎       | 4/7 [00:11<00:08,  2.92s/it]\u001b[A\n",
      "Processing 1981_Excalibur:  71%|████████████▊     | 5/7 [00:14<00:05,  2.78s/it]\u001b[A\n",
      "Processing 1981_Excalibur:  86%|███████████████▍  | 6/7 [00:17<00:02,  2.88s/it]\u001b[A\n",
      "Processing 1981_Excalibur: 100%|██████████████████| 7/7 [00:19<00:00,  2.72s/it]\u001b[A\n",
      "Scoring movies:  24%|█████▌                 | 107/443 [39:20<3:28:43, 37.27s/it]\u001b[A"
     ]
    },
    {
     "name": "stdout",
     "output_type": "stream",
     "text": [
      "✅ Finished scoring: 1981_Excalibur\n"
     ]
    },
    {
     "name": "stderr",
     "output_type": "stream",
     "text": [
      "\n",
      "Processing 2002_[TLOTR]The.Two.Towers.CD1[2002][Special.Extended.Edition]DvDrip[\u001b[A\n",
      "Processing 2002_[TLOTR]The.Two.Towers.CD1[2002][Special.Extended.Edition]DvDrip[\u001b[A\n",
      "Processing 2002_[TLOTR]The.Two.Towers.CD1[2002][Special.Extended.Edition]DvDrip[\u001b[A\n",
      "Processing 2002_[TLOTR]The.Two.Towers.CD1[2002][Special.Extended.Edition]DvDrip[\u001b[A\n",
      "Processing 2002_[TLOTR]The.Two.Towers.CD1[2002][Special.Extended.Edition]DvDrip[\u001b[A\n",
      "Processing 2002_[TLOTR]The.Two.Towers.CD1[2002][Special.Extended.Edition]DvDrip[\u001b[A\n",
      "Processing 2002_[TLOTR]The.Two.Towers.CD1[2002][Special.Extended.Edition]DvDrip[\u001b[A\n",
      "Scoring movies:  24%|█████▌                 | 108/443 [39:38<2:54:50, 31.31s/it]\u001b[A"
     ]
    },
    {
     "name": "stdout",
     "output_type": "stream",
     "text": [
      "✅ Finished scoring: 2002_[TLOTR]The.Two.Towers.CD1[2002][Special.Extended.Edition]DvDrip[Eng]-aXXo\n"
     ]
    },
    {
     "name": "stderr",
     "output_type": "stream",
     "text": [
      "\n",
      "Processing 2021_No.Time.to.Die.1080p.AMZN.WEB-DL.DDP5.1.H.264-CMRG:   0%| | 0/10\u001b[A\n",
      "Processing 2021_No.Time.to.Die.1080p.AMZN.WEB-DL.DDP5.1.H.264-CMRG:  10%| | 1/10\u001b[A\n",
      "Processing 2021_No.Time.to.Die.1080p.AMZN.WEB-DL.DDP5.1.H.264-CMRG:  20%|▏| 2/10\u001b[A\n",
      "Processing 2021_No.Time.to.Die.1080p.AMZN.WEB-DL.DDP5.1.H.264-CMRG:  30%|▎| 3/10\u001b[A\n",
      "Processing 2021_No.Time.to.Die.1080p.AMZN.WEB-DL.DDP5.1.H.264-CMRG:  40%|▍| 4/10\u001b[A\n",
      "Processing 2021_No.Time.to.Die.1080p.AMZN.WEB-DL.DDP5.1.H.264-CMRG:  50%|▌| 5/10\u001b[A\n",
      "Processing 2021_No.Time.to.Die.1080p.AMZN.WEB-DL.DDP5.1.H.264-CMRG:  60%|▌| 6/10\u001b[A\n",
      "Processing 2021_No.Time.to.Die.1080p.AMZN.WEB-DL.DDP5.1.H.264-CMRG:  70%|▋| 7/10\u001b[A\n",
      "Processing 2021_No.Time.to.Die.1080p.AMZN.WEB-DL.DDP5.1.H.264-CMRG:  80%|▊| 8/10\u001b[A\n",
      "Processing 2021_No.Time.to.Die.1080p.AMZN.WEB-DL.DDP5.1.H.264-CMRG:  90%|▉| 9/10\u001b[A\n",
      "Processing 2021_No.Time.to.Die.1080p.AMZN.WEB-DL.DDP5.1.H.264-CMRG: 100%|█| 10/1\u001b[A\n",
      "Scoring movies:  25%|█████▋                 | 109/443 [40:08<2:51:46, 30.86s/it]\u001b[A"
     ]
    },
    {
     "name": "stdout",
     "output_type": "stream",
     "text": [
      "✅ Finished scoring: 2021_No.Time.to.Die.1080p.AMZN.WEB-DL.DDP5.1.H.264-CMRG\n"
     ]
    },
    {
     "name": "stderr",
     "output_type": "stream",
     "text": [
      "\n",
      "Processing 2007_Harry.Potter.and.the.Order.of.the.Phoenix.2007.720p.BluRay.DTS.x\u001b[A\n",
      "Processing 2007_Harry.Potter.and.the.Order.of.the.Phoenix.2007.720p.BluRay.DTS.x\u001b[A\n",
      "Processing 2007_Harry.Potter.and.the.Order.of.the.Phoenix.2007.720p.BluRay.DTS.x\u001b[A\n",
      "Processing 2007_Harry.Potter.and.the.Order.of.the.Phoenix.2007.720p.BluRay.DTS.x\u001b[A\n",
      "Processing 2007_Harry.Potter.and.the.Order.of.the.Phoenix.2007.720p.BluRay.DTS.x\u001b[A\n",
      "Processing 2007_Harry.Potter.and.the.Order.of.the.Phoenix.2007.720p.BluRay.DTS.x\u001b[A\n",
      "Processing 2007_Harry.Potter.and.the.Order.of.the.Phoenix.2007.720p.BluRay.DTS.x\u001b[A\n",
      "Processing 2007_Harry.Potter.and.the.Order.of.the.Phoenix.2007.720p.BluRay.DTS.x\u001b[A\n",
      "Processing 2007_Harry.Potter.and.the.Order.of.the.Phoenix.2007.720p.BluRay.DTS.x\u001b[A\n",
      "Scoring movies:  25%|█████▋                 | 110/443 [40:28<2:34:01, 27.75s/it]\u001b[A"
     ]
    },
    {
     "name": "stdout",
     "output_type": "stream",
     "text": [
      "✅ Finished scoring: 2007_Harry.Potter.and.the.Order.of.the.Phoenix.2007.720p.BluRay.DTS.x264-ESiR.ENG\n"
     ]
    },
    {
     "name": "stderr",
     "output_type": "stream",
     "text": [
      "\n",
      "Processing 1980_Private.Benjamin.1980.720p.HDTVRip.XviD.AC3-RARBG.eng:   0%| | 0\u001b[A\n",
      "Processing 1980_Private.Benjamin.1980.720p.HDTVRip.XviD.AC3-RARBG.eng:  14%|▏| 1\u001b[A\n",
      "Processing 1980_Private.Benjamin.1980.720p.HDTVRip.XviD.AC3-RARBG.eng:  29%|▎| 2\u001b[A\n",
      "Processing 1980_Private.Benjamin.1980.720p.HDTVRip.XviD.AC3-RARBG.eng:  43%|▍| 3\u001b[A\n",
      "Processing 1980_Private.Benjamin.1980.720p.HDTVRip.XviD.AC3-RARBG.eng:  57%|▌| 4\u001b[A\n",
      "Processing 1980_Private.Benjamin.1980.720p.HDTVRip.XviD.AC3-RARBG.eng:  71%|▋| 5\u001b[A\n",
      "Processing 1980_Private.Benjamin.1980.720p.HDTVRip.XviD.AC3-RARBG.eng:  86%|▊| 6\u001b[A\n",
      "Processing 1980_Private.Benjamin.1980.720p.HDTVRip.XviD.AC3-RARBG.eng: 100%|█| 7\u001b[A\n",
      "Scoring movies:  25%|█████▊                 | 111/443 [40:48<2:21:16, 25.53s/it]\u001b[A"
     ]
    },
    {
     "name": "stdout",
     "output_type": "stream",
     "text": [
      "✅ Finished scoring: 1980_Private.Benjamin.1980.720p.HDTVRip.XviD.AC3-RARBG.eng\n"
     ]
    },
    {
     "name": "stderr",
     "output_type": "stream",
     "text": [
      "\n",
      "Processing 2014_The.Amazing.Spider-Man.2.2014.720p.BluRay.x264-BLOW:   0%| | 0/1\u001b[A\n",
      "Processing 2014_The.Amazing.Spider-Man.2.2014.720p.BluRay.x264-BLOW:  10%| | 1/1\u001b[A\n",
      "Processing 2014_The.Amazing.Spider-Man.2.2014.720p.BluRay.x264-BLOW:  20%|▏| 2/1\u001b[A\n",
      "Processing 2014_The.Amazing.Spider-Man.2.2014.720p.BluRay.x264-BLOW:  30%|▎| 3/1\u001b[A\n",
      "Processing 2014_The.Amazing.Spider-Man.2.2014.720p.BluRay.x264-BLOW:  40%|▍| 4/1\u001b[A\n",
      "Processing 2014_The.Amazing.Spider-Man.2.2014.720p.BluRay.x264-BLOW:  50%|▌| 5/1\u001b[A\n",
      "Processing 2014_The.Amazing.Spider-Man.2.2014.720p.BluRay.x264-BLOW:  60%|▌| 6/1\u001b[A\n",
      "Processing 2014_The.Amazing.Spider-Man.2.2014.720p.BluRay.x264-BLOW:  70%|▋| 7/1\u001b[A\n",
      "Processing 2014_The.Amazing.Spider-Man.2.2014.720p.BluRay.x264-BLOW:  80%|▊| 8/1\u001b[A\n",
      "Processing 2014_The.Amazing.Spider-Man.2.2014.720p.BluRay.x264-BLOW:  90%|▉| 9/1\u001b[A\n",
      "Processing 2014_The.Amazing.Spider-Man.2.2014.720p.BluRay.x264-BLOW: 100%|█| 10/\u001b[A\n",
      "Scoring movies:  25%|█████▊                 | 112/443 [41:18<2:28:24, 26.90s/it]\u001b[A"
     ]
    },
    {
     "name": "stdout",
     "output_type": "stream",
     "text": [
      "✅ Finished scoring: 2014_The.Amazing.Spider-Man.2.2014.720p.BluRay.x264-BLOW\n"
     ]
    },
    {
     "name": "stderr",
     "output_type": "stream",
     "text": [
      "\n",
      "Processing 2021_Spider-Man_No_Way_Home.2022.1080p.Bluray.DTS-HD.MA.5.1.X264-EVO:\u001b[A\n",
      "Processing 2021_Spider-Man_No_Way_Home.2022.1080p.Bluray.DTS-HD.MA.5.1.X264-EVO:\u001b[A\n",
      "Processing 2021_Spider-Man_No_Way_Home.2022.1080p.Bluray.DTS-HD.MA.5.1.X264-EVO:\u001b[A\n",
      "Processing 2021_Spider-Man_No_Way_Home.2022.1080p.Bluray.DTS-HD.MA.5.1.X264-EVO:\u001b[A\n",
      "Processing 2021_Spider-Man_No_Way_Home.2022.1080p.Bluray.DTS-HD.MA.5.1.X264-EVO:\u001b[A\n",
      "Processing 2021_Spider-Man_No_Way_Home.2022.1080p.Bluray.DTS-HD.MA.5.1.X264-EVO:\u001b[A\n",
      "Processing 2021_Spider-Man_No_Way_Home.2022.1080p.Bluray.DTS-HD.MA.5.1.X264-EVO:\u001b[A\n",
      "Processing 2021_Spider-Man_No_Way_Home.2022.1080p.Bluray.DTS-HD.MA.5.1.X264-EVO:\u001b[A\n",
      "Processing 2021_Spider-Man_No_Way_Home.2022.1080p.Bluray.DTS-HD.MA.5.1.X264-EVO:\u001b[A\n",
      "Processing 2021_Spider-Man_No_Way_Home.2022.1080p.Bluray.DTS-HD.MA.5.1.X264-EVO:\u001b[A\n",
      "Processing 2021_Spider-Man_No_Way_Home.2022.1080p.Bluray.DTS-HD.MA.5.1.X264-EVO:\u001b[A\n",
      "Processing 2021_Spider-Man_No_Way_Home.2022.1080p.Bluray.DTS-HD.MA.5.1.X264-EVO:\u001b[A\n",
      "Processing 2021_Spider-Man_No_Way_Home.2022.1080p.Bluray.DTS-HD.MA.5.1.X264-EVO:\u001b[A\n",
      "Processing 2021_Spider-Man_No_Way_Home.2022.1080p.Bluray.DTS-HD.MA.5.1.X264-EVO:\u001b[A\n",
      "Scoring movies:  26%|█████▊                 | 113/443 [41:56<2:45:49, 30.15s/it]\u001b[A"
     ]
    },
    {
     "name": "stdout",
     "output_type": "stream",
     "text": [
      "✅ Finished scoring: 2021_Spider-Man_No_Way_Home.2022.1080p.Bluray.DTS-HD.MA.5.1.X264-EVO\n"
     ]
    },
    {
     "name": "stderr",
     "output_type": "stream",
     "text": [
      "\n",
      "Processing 1986_Star Trek 04 Voyage Home 1986 1280x544.eng:   0%| | 0/8 [00:00<?\u001b[A\n",
      "Processing 1986_Star Trek 04 Voyage Home 1986 1280x544.eng:  12%|▏| 1/8 [00:02<0\u001b[A"
     ]
    },
    {
     "name": "stdout",
     "output_type": "stream",
     "text": [
      "⚠️ Rate limit hit. Waiting 60 seconds...\n"
     ]
    },
    {
     "name": "stderr",
     "output_type": "stream",
     "text": [
      "\n",
      "Processing 1986_Star Trek 04 Voyage Home 1986 1280x544.eng:  25%|▎| 2/8 [01:06<0\u001b[A\n",
      "Processing 1986_Star Trek 04 Voyage Home 1986 1280x544.eng:  38%|▍| 3/8 [01:09<0\u001b[A\n",
      "Processing 1986_Star Trek 04 Voyage Home 1986 1280x544.eng:  50%|▌| 4/8 [01:11<0\u001b[A\n",
      "Processing 1986_Star Trek 04 Voyage Home 1986 1280x544.eng:  62%|▋| 5/8 [01:15<0\u001b[A\n",
      "Processing 1986_Star Trek 04 Voyage Home 1986 1280x544.eng:  75%|▊| 6/8 [01:19<0\u001b[A\n",
      "Processing 1986_Star Trek 04 Voyage Home 1986 1280x544.eng:  88%|▉| 7/8 [01:22<0\u001b[A\n",
      "Processing 1986_Star Trek 04 Voyage Home 1986 1280x544.eng: 100%|█| 8/8 [01:25<0\u001b[A\n",
      "Scoring movies:  26%|█████▉                 | 114/443 [43:22<4:16:28, 46.77s/it]\u001b[A"
     ]
    },
    {
     "name": "stdout",
     "output_type": "stream",
     "text": [
      "✅ Finished scoring: 1986_Star Trek 04 Voyage Home 1986 1280x544.eng\n"
     ]
    },
    {
     "name": "stderr",
     "output_type": "stream",
     "text": [
      "\n",
      "Processing 1995_Die.Hard.With.A.Vengeance.1995.1080p.BluRay.x264-WPi.ENG:   0%| \u001b[A\n",
      "Processing 1995_Die.Hard.With.A.Vengeance.1995.1080p.BluRay.x264-WPi.ENG:  11%| \u001b[A\n",
      "Processing 1995_Die.Hard.With.A.Vengeance.1995.1080p.BluRay.x264-WPi.ENG:  22%|▏\u001b[A\n",
      "Processing 1995_Die.Hard.With.A.Vengeance.1995.1080p.BluRay.x264-WPi.ENG:  33%|▎\u001b[A\n",
      "Processing 1995_Die.Hard.With.A.Vengeance.1995.1080p.BluRay.x264-WPi.ENG:  44%|▍\u001b[A\n",
      "Processing 1995_Die.Hard.With.A.Vengeance.1995.1080p.BluRay.x264-WPi.ENG:  56%|▌\u001b[A\n",
      "Processing 1995_Die.Hard.With.A.Vengeance.1995.1080p.BluRay.x264-WPi.ENG:  67%|▋\u001b[A\n",
      "Processing 1995_Die.Hard.With.A.Vengeance.1995.1080p.BluRay.x264-WPi.ENG:  78%|▊\u001b[A\n",
      "Processing 1995_Die.Hard.With.A.Vengeance.1995.1080p.BluRay.x264-WPi.ENG:  89%|▉\u001b[A\n",
      "Processing 1995_Die.Hard.With.A.Vengeance.1995.1080p.BluRay.x264-WPi.ENG: 100%|█\u001b[A\n",
      "Scoring movies:  26%|█████▉                 | 115/443 [43:48<3:42:46, 40.75s/it]\u001b[A"
     ]
    },
    {
     "name": "stdout",
     "output_type": "stream",
     "text": [
      "✅ Finished scoring: 1995_Die.Hard.With.A.Vengeance.1995.1080p.BluRay.x264-WPi.ENG\n"
     ]
    },
    {
     "name": "stderr",
     "output_type": "stream",
     "text": [
      "\n",
      "Processing 1988_Cocktail_Eng:   0%|                       | 0/7 [00:00<?, ?it/s]\u001b[A\n",
      "Processing 1988_Cocktail_Eng:  14%|██▏            | 1/7 [00:03<00:18,  3.07s/it]\u001b[A\n",
      "Processing 1988_Cocktail_Eng:  29%|████▎          | 2/7 [00:06<00:15,  3.05s/it]\u001b[A\n",
      "Processing 1988_Cocktail_Eng:  43%|██████▍        | 3/7 [00:09<00:12,  3.11s/it]\u001b[A\n",
      "Processing 1988_Cocktail_Eng:  57%|████████▌      | 4/7 [00:11<00:08,  2.91s/it]\u001b[A\n",
      "Processing 1988_Cocktail_Eng:  71%|██████████▋    | 5/7 [00:14<00:05,  2.80s/it]\u001b[A\n",
      "Processing 1988_Cocktail_Eng:  86%|████████████▊  | 6/7 [00:18<00:03,  3.04s/it]\u001b[A\n",
      "Processing 1988_Cocktail_Eng: 100%|███████████████| 7/7 [00:20<00:00,  2.93s/it]\u001b[A\n",
      "Scoring movies:  26%|██████                 | 116/443 [44:09<3:09:21, 34.75s/it]\u001b[A"
     ]
    },
    {
     "name": "stdout",
     "output_type": "stream",
     "text": [
      "✅ Finished scoring: 1988_Cocktail_Eng\n"
     ]
    },
    {
     "name": "stderr",
     "output_type": "stream",
     "text": [
      "\n",
      "Processing 1985_Witness:   0%|                            | 0/5 [00:00<?, ?it/s]\u001b[A\n",
      "Processing 1985_Witness:  20%|████                | 1/5 [00:02<00:10,  2.53s/it]\u001b[A\n",
      "Processing 1985_Witness:  40%|████████            | 2/5 [00:05<00:08,  2.72s/it]\u001b[A\n",
      "Processing 1985_Witness:  60%|████████████        | 3/5 [00:08<00:05,  2.70s/it]\u001b[A\n",
      "Processing 1985_Witness:  80%|████████████████    | 4/5 [00:11<00:02,  2.96s/it]\u001b[A\n",
      "Processing 1985_Witness: 100%|████████████████████| 5/5 [00:14<00:00,  3.03s/it]\u001b[A\n",
      "Scoring movies:  26%|██████                 | 117/443 [44:24<2:35:54, 28.70s/it]\u001b[A"
     ]
    },
    {
     "name": "stdout",
     "output_type": "stream",
     "text": [
      "✅ Finished scoring: 1985_Witness\n"
     ]
    },
    {
     "name": "stderr",
     "output_type": "stream",
     "text": [
      "\n",
      "Processing 2010_Alice.In.Wonderland.2010.Bluray.1080p.DTSHD-MA.x264.dxva-FraMeST\u001b[A\n",
      "Processing 2010_Alice.In.Wonderland.2010.Bluray.1080p.DTSHD-MA.x264.dxva-FraMeST\u001b[A\n",
      "Processing 2010_Alice.In.Wonderland.2010.Bluray.1080p.DTSHD-MA.x264.dxva-FraMeST\u001b[A\n",
      "Processing 2010_Alice.In.Wonderland.2010.Bluray.1080p.DTSHD-MA.x264.dxva-FraMeST\u001b[A\n",
      "Processing 2010_Alice.In.Wonderland.2010.Bluray.1080p.DTSHD-MA.x264.dxva-FraMeST\u001b[A\n",
      "Processing 2010_Alice.In.Wonderland.2010.Bluray.1080p.DTSHD-MA.x264.dxva-FraMeST\u001b[A\n",
      "Processing 2010_Alice.In.Wonderland.2010.Bluray.1080p.DTSHD-MA.x264.dxva-FraMeST\u001b[A\n",
      "Scoring movies:  27%|██████▏                | 118/443 [44:41<2:17:29, 25.38s/it]\u001b[A"
     ]
    },
    {
     "name": "stdout",
     "output_type": "stream",
     "text": [
      "✅ Finished scoring: 2010_Alice.In.Wonderland.2010.Bluray.1080p.DTSHD-MA.x264.dxva-FraMeSToR.ENG\n"
     ]
    },
    {
     "name": "stderr",
     "output_type": "stream",
     "text": [
      "\n",
      "Processing 2014_Dawn.of.the.Planet.of.the.Apes.2014.1080p.BluRay.x264-SPARKS:   \u001b[A\n",
      "Processing 2014_Dawn.of.the.Planet.of.the.Apes.2014.1080p.BluRay.x264-SPARKS:  2\u001b[A\n",
      "Processing 2014_Dawn.of.the.Planet.of.the.Apes.2014.1080p.BluRay.x264-SPARKS:  4\u001b[A\n",
      "Processing 2014_Dawn.of.the.Planet.of.the.Apes.2014.1080p.BluRay.x264-SPARKS:  6\u001b[A\n",
      "Processing 2014_Dawn.of.the.Planet.of.the.Apes.2014.1080p.BluRay.x264-SPARKS:  8\u001b[A\n",
      "Processing 2014_Dawn.of.the.Planet.of.the.Apes.2014.1080p.BluRay.x264-SPARKS: 10\u001b[A\n",
      "Scoring movies:  27%|██████▏                | 119/443 [44:57<2:01:50, 22.56s/it]\u001b[A"
     ]
    },
    {
     "name": "stdout",
     "output_type": "stream",
     "text": [
      "✅ Finished scoring: 2014_Dawn.of.the.Planet.of.the.Apes.2014.1080p.BluRay.x264-SPARKS\n"
     ]
    },
    {
     "name": "stderr",
     "output_type": "stream",
     "text": [
      "\n",
      "Processing 1997_Titanic.1997.720p.BluRay.X264-AMIABLE:   0%| | 0/12 [00:00<?, ?i\u001b[A\n",
      "Processing 1997_Titanic.1997.720p.BluRay.X264-AMIABLE:   8%| | 1/12 [00:03<00:33\u001b[A\n",
      "Processing 1997_Titanic.1997.720p.BluRay.X264-AMIABLE:  17%|▏| 2/12 [00:06<00:30\u001b[A\n",
      "Processing 1997_Titanic.1997.720p.BluRay.X264-AMIABLE:  25%|▎| 3/12 [00:08<00:26\u001b[A\n",
      "Processing 1997_Titanic.1997.720p.BluRay.X264-AMIABLE:  33%|▎| 4/12 [00:11<00:23\u001b[A\n",
      "Processing 1997_Titanic.1997.720p.BluRay.X264-AMIABLE:  42%|▍| 5/12 [00:14<00:19\u001b[A\n",
      "Processing 1997_Titanic.1997.720p.BluRay.X264-AMIABLE:  50%|▌| 6/12 [00:17<00:17\u001b[A\n",
      "Processing 1997_Titanic.1997.720p.BluRay.X264-AMIABLE:  58%|▌| 7/12 [00:20<00:14\u001b[A\n",
      "Processing 1997_Titanic.1997.720p.BluRay.X264-AMIABLE:  67%|▋| 8/12 [00:23<00:12\u001b[A\n",
      "Processing 1997_Titanic.1997.720p.BluRay.X264-AMIABLE:  75%|▊| 9/12 [00:27<00:09\u001b[A\n",
      "Processing 1997_Titanic.1997.720p.BluRay.X264-AMIABLE:  83%|▊| 10/12 [00:30<00:0\u001b[A\n",
      "Processing 1997_Titanic.1997.720p.BluRay.X264-AMIABLE:  92%|▉| 11/12 [00:32<00:0\u001b[A\n",
      "Processing 1997_Titanic.1997.720p.BluRay.X264-AMIABLE: 100%|█| 12/12 [00:35<00:0\u001b[A\n",
      "Scoring movies:  27%|██████▏                | 120/443 [45:33<2:21:52, 26.35s/it]\u001b[A"
     ]
    },
    {
     "name": "stdout",
     "output_type": "stream",
     "text": [
      "✅ Finished scoring: 1997_Titanic.1997.720p.BluRay.X264-AMIABLE\n"
     ]
    },
    {
     "name": "stderr",
     "output_type": "stream",
     "text": [
      "\n",
      "Processing 2010_despicable.me.dvdrip.xvid-imbt.en:   0%|  | 0/6 [00:00<?, ?it/s]\u001b[A\n",
      "Processing 2010_despicable.me.dvdrip.xvid-imbt.en:  17%|▏| 1/6 [00:02<00:13,  2.\u001b[A\n",
      "Processing 2010_despicable.me.dvdrip.xvid-imbt.en:  33%|▎| 2/6 [00:05<00:10,  2.\u001b[A\n",
      "Processing 2010_despicable.me.dvdrip.xvid-imbt.en:  50%|▌| 3/6 [00:08<00:08,  2.\u001b[A\n",
      "Processing 2010_despicable.me.dvdrip.xvid-imbt.en:  67%|▋| 4/6 [00:11<00:05,  2.\u001b[A\n",
      "Processing 2010_despicable.me.dvdrip.xvid-imbt.en:  83%|▊| 5/6 [00:14<00:03,  3.\u001b[A\n",
      "Processing 2010_despicable.me.dvdrip.xvid-imbt.en: 100%|█| 6/6 [00:17<00:00,  3.\u001b[A\n",
      "Scoring movies:  27%|██████▎                | 121/443 [45:51<2:07:51, 23.82s/it]\u001b[A"
     ]
    },
    {
     "name": "stdout",
     "output_type": "stream",
     "text": [
      "✅ Finished scoring: 2010_despicable.me.dvdrip.xvid-imbt.en\n"
     ]
    },
    {
     "name": "stderr",
     "output_type": "stream",
     "text": [
      "\n",
      "Processing 1981_The Four Seasons (1981)_aw:   0%|        | 0/13 [00:00<?, ?it/s]\u001b[A\n",
      "Processing 1981_The Four Seasons (1981)_aw:   8%| | 1/13 [00:02<00:30,  2.52s/it\u001b[A\n",
      "Processing 1981_The Four Seasons (1981)_aw:  15%|▏| 2/13 [00:05<00:33,  3.06s/it\u001b[A\n",
      "Processing 1981_The Four Seasons (1981)_aw:  23%|▏| 3/13 [00:09<00:30,  3.08s/it\u001b[A\n",
      "Processing 1981_The Four Seasons (1981)_aw:  31%|▎| 4/13 [00:12<00:28,  3.16s/it\u001b[A\n",
      "Processing 1981_The Four Seasons (1981)_aw:  38%|▍| 5/13 [00:14<00:23,  2.97s/it\u001b[A\n",
      "Processing 1981_The Four Seasons (1981)_aw:  46%|▍| 6/13 [00:17<00:20,  2.86s/it\u001b[A\n",
      "Processing 1981_The Four Seasons (1981)_aw:  54%|▌| 7/13 [00:20<00:16,  2.82s/it\u001b[A\n",
      "Processing 1981_The Four Seasons (1981)_aw:  62%|▌| 8/13 [00:23<00:14,  2.94s/it\u001b[A\n",
      "Processing 1981_The Four Seasons (1981)_aw:  69%|▋| 9/13 [00:26<00:11,  2.83s/it\u001b[A\n",
      "Processing 1981_The Four Seasons (1981)_aw:  77%|▊| 10/13 [00:29<00:08,  2.84s/i\u001b[A\n",
      "Processing 1981_The Four Seasons (1981)_aw:  85%|▊| 11/13 [00:32<00:05,  2.99s/i\u001b[A\n",
      "Processing 1981_The Four Seasons (1981)_aw:  92%|▉| 12/13 [00:34<00:02,  2.87s/i\u001b[A\n",
      "Processing 1981_The Four Seasons (1981)_aw: 100%|█| 13/13 [00:37<00:00,  2.83s/i\u001b[A\n",
      "Scoring movies:  28%|██████▎                | 122/443 [46:28<2:29:42, 27.98s/it]\u001b[A"
     ]
    },
    {
     "name": "stdout",
     "output_type": "stream",
     "text": [
      "✅ Finished scoring: 1981_The Four Seasons (1981)_aw\n"
     ]
    },
    {
     "name": "stderr",
     "output_type": "stream",
     "text": [
      "\n",
      "Processing 2019_Star.Wars.Episode.IX.The.Rise.of.Skywalker.2020.BDRip.XviD.AC3-E\u001b[A\n",
      "Processing 2019_Star.Wars.Episode.IX.The.Rise.of.Skywalker.2020.BDRip.XviD.AC3-E\u001b[A\n",
      "Processing 2019_Star.Wars.Episode.IX.The.Rise.of.Skywalker.2020.BDRip.XviD.AC3-E\u001b[A\n",
      "Processing 2019_Star.Wars.Episode.IX.The.Rise.of.Skywalker.2020.BDRip.XviD.AC3-E\u001b[A\n",
      "Processing 2019_Star.Wars.Episode.IX.The.Rise.of.Skywalker.2020.BDRip.XviD.AC3-E\u001b[A\n",
      "Processing 2019_Star.Wars.Episode.IX.The.Rise.of.Skywalker.2020.BDRip.XviD.AC3-E\u001b[A\n",
      "Processing 2019_Star.Wars.Episode.IX.The.Rise.of.Skywalker.2020.BDRip.XviD.AC3-E\u001b[A\n",
      "Processing 2019_Star.Wars.Episode.IX.The.Rise.of.Skywalker.2020.BDRip.XviD.AC3-E\u001b[A\n",
      "Processing 2019_Star.Wars.Episode.IX.The.Rise.of.Skywalker.2020.BDRip.XviD.AC3-E\u001b[A\n",
      "Processing 2019_Star.Wars.Episode.IX.The.Rise.of.Skywalker.2020.BDRip.XviD.AC3-E\u001b[A\n",
      "Scoring movies:  28%|██████▍                | 123/443 [46:54<2:25:20, 27.25s/it]\u001b[A"
     ]
    },
    {
     "name": "stdout",
     "output_type": "stream",
     "text": [
      "✅ Finished scoring: 2019_Star.Wars.Episode.IX.The.Rise.of.Skywalker.2020.BDRip.XviD.AC3-EVO\n"
     ]
    },
    {
     "name": "stderr",
     "output_type": "stream",
     "text": [
      "\n",
      "Processing 1996_101_dalmatians-en:   0%|                  | 0/5 [00:00<?, ?it/s]\u001b[A\n",
      "Processing 1996_101_dalmatians-en:  20%|██        | 1/5 [00:02<00:09,  2.45s/it]\u001b[A\n",
      "Processing 1996_101_dalmatians-en:  40%|████      | 2/5 [00:05<00:08,  2.98s/it]\u001b[A\n",
      "Processing 1996_101_dalmatians-en:  60%|██████    | 3/5 [00:08<00:06,  3.00s/it]\u001b[A\n",
      "Processing 1996_101_dalmatians-en:  80%|████████  | 4/5 [00:11<00:02,  2.79s/it]\u001b[A\n",
      "Processing 1996_101_dalmatians-en: 100%|██████████| 5/5 [00:14<00:00,  2.78s/it]\u001b[A\n",
      "Scoring movies:  28%|██████▍                | 124/443 [47:08<2:03:49, 23.29s/it]\u001b[A"
     ]
    },
    {
     "name": "stdout",
     "output_type": "stream",
     "text": [
      "✅ Finished scoring: 1996_101_dalmatians-en\n"
     ]
    },
    {
     "name": "stderr",
     "output_type": "stream",
     "text": [
      "\n",
      "Processing 2005_War.of.the.Worlds.2005.mHD.Bluray.DD5.1.x264-EPiK.eng:   0%| | 0\u001b[A\n",
      "Processing 2005_War.of.the.Worlds.2005.mHD.Bluray.DD5.1.x264-EPiK.eng:  14%|▏| 1\u001b[A\n",
      "Processing 2005_War.of.the.Worlds.2005.mHD.Bluray.DD5.1.x264-EPiK.eng:  29%|▎| 2\u001b[A\n",
      "Processing 2005_War.of.the.Worlds.2005.mHD.Bluray.DD5.1.x264-EPiK.eng:  43%|▍| 3\u001b[A\n",
      "Processing 2005_War.of.the.Worlds.2005.mHD.Bluray.DD5.1.x264-EPiK.eng:  57%|▌| 4\u001b[A\n",
      "Processing 2005_War.of.the.Worlds.2005.mHD.Bluray.DD5.1.x264-EPiK.eng:  71%|▋| 5\u001b[A\n",
      "Processing 2005_War.of.the.Worlds.2005.mHD.Bluray.DD5.1.x264-EPiK.eng:  86%|▊| 6\u001b[A\n",
      "Processing 2005_War.of.the.Worlds.2005.mHD.Bluray.DD5.1.x264-EPiK.eng: 100%|█| 7\u001b[A\n",
      "Scoring movies:  28%|██████▍                | 125/443 [47:29<2:00:46, 22.79s/it]\u001b[A"
     ]
    },
    {
     "name": "stdout",
     "output_type": "stream",
     "text": [
      "✅ Finished scoring: 2005_War.of.the.Worlds.2005.mHD.Bluray.DD5.1.x264-EPiK.eng\n"
     ]
    },
    {
     "name": "stderr",
     "output_type": "stream",
     "text": [
      "\n",
      "Processing 2012_Skyfall.2012.720p.BluRay.x264-DAA.eng:   0%| | 0/7 [00:00<?, ?it\u001b[A\n",
      "Processing 2012_Skyfall.2012.720p.BluRay.x264-DAA.eng:  14%|▏| 1/7 [00:02<00:17,\u001b[A\n",
      "Processing 2012_Skyfall.2012.720p.BluRay.x264-DAA.eng:  29%|▎| 2/7 [00:06<00:16,\u001b[A\n",
      "Processing 2012_Skyfall.2012.720p.BluRay.x264-DAA.eng:  43%|▍| 3/7 [00:09<00:12,\u001b[A\n",
      "Processing 2012_Skyfall.2012.720p.BluRay.x264-DAA.eng:  57%|▌| 4/7 [00:12<00:09,\u001b[A\n",
      "Processing 2012_Skyfall.2012.720p.BluRay.x264-DAA.eng:  71%|▋| 5/7 [00:14<00:05,\u001b[A\n",
      "Processing 2012_Skyfall.2012.720p.BluRay.x264-DAA.eng:  86%|▊| 6/7 [00:17<00:02,\u001b[A\n",
      "Processing 2012_Skyfall.2012.720p.BluRay.x264-DAA.eng: 100%|█| 7/7 [00:20<00:00,\u001b[A\n",
      "Scoring movies:  28%|██████▌                | 126/443 [47:50<1:56:07, 21.98s/it]\u001b[A"
     ]
    },
    {
     "name": "stdout",
     "output_type": "stream",
     "text": [
      "✅ Finished scoring: 2012_Skyfall.2012.720p.BluRay.x264-DAA.eng\n"
     ]
    },
    {
     "name": "stderr",
     "output_type": "stream",
     "text": [
      "\n",
      "Processing 1999_Star Wars Episode I The Phantom Menace eng:   0%| | 0/8 [00:00<?\u001b[A\n",
      "Processing 1999_Star Wars Episode I The Phantom Menace eng:  12%|▏| 1/8 [00:03<0\u001b[A\n",
      "Processing 1999_Star Wars Episode I The Phantom Menace eng:  25%|▎| 2/8 [00:06<0\u001b[A\n",
      "Processing 1999_Star Wars Episode I The Phantom Menace eng:  38%|▍| 3/8 [00:09<0\u001b[A\n",
      "Processing 1999_Star Wars Episode I The Phantom Menace eng:  50%|▌| 4/8 [00:12<0\u001b[A\n",
      "Processing 1999_Star Wars Episode I The Phantom Menace eng:  62%|▋| 5/8 [00:15<0\u001b[A\n",
      "Processing 1999_Star Wars Episode I The Phantom Menace eng:  75%|▊| 6/8 [00:18<0\u001b[A\n",
      "Processing 1999_Star Wars Episode I The Phantom Menace eng:  88%|▉| 7/8 [00:21<0\u001b[A\n",
      "Processing 1999_Star Wars Episode I The Phantom Menace eng: 100%|█| 8/8 [00:24<0\u001b[A\n",
      "Scoring movies:  29%|██████▌                | 127/443 [48:14<1:59:55, 22.77s/it]\u001b[A"
     ]
    },
    {
     "name": "stdout",
     "output_type": "stream",
     "text": [
      "✅ Finished scoring: 1999_Star Wars Episode I The Phantom Menace eng\n"
     ]
    },
    {
     "name": "stderr",
     "output_type": "stream",
     "text": [
      "\n",
      "Processing 1985_Rambo Acorralado II (1985)1080p-Dual-momos-[.HDG].ENG:   0%| | 0\u001b[A\n",
      "Processing 1985_Rambo Acorralado II (1985)1080p-Dual-momos-[.HDG].ENG:  33%|▎| 1\u001b[A"
     ]
    },
    {
     "name": "stdout",
     "output_type": "stream",
     "text": [
      "⚠️ Rate limit hit. Waiting 60 seconds...\n"
     ]
    },
    {
     "name": "stderr",
     "output_type": "stream",
     "text": [
      "\n",
      "Processing 1985_Rambo Acorralado II (1985)1080p-Dual-momos-[.HDG].ENG:  67%|▋| 2\u001b[A\n",
      "Processing 1985_Rambo Acorralado II (1985)1080p-Dual-momos-[.HDG].ENG: 100%|█| 3\u001b[A\n",
      "Scoring movies:  29%|██████▋                | 128/443 [49:23<3:12:45, 36.72s/it]\u001b[A"
     ]
    },
    {
     "name": "stdout",
     "output_type": "stream",
     "text": [
      "✅ Finished scoring: 1985_Rambo Acorralado II (1985)1080p-Dual-momos-[.HDG].ENG\n"
     ]
    },
    {
     "name": "stderr",
     "output_type": "stream",
     "text": [
      "\n",
      "Processing 1990_Die.Hard.2.1990.1080p.BluRay.x264-WPi.ENG:   0%| | 0/12 [00:00<?\u001b[A\n",
      "Processing 1990_Die.Hard.2.1990.1080p.BluRay.x264-WPi.ENG:   8%| | 1/12 [00:03<0\u001b[A\n",
      "Processing 1990_Die.Hard.2.1990.1080p.BluRay.x264-WPi.ENG:  17%|▏| 2/12 [00:05<0\u001b[A\n",
      "Processing 1990_Die.Hard.2.1990.1080p.BluRay.x264-WPi.ENG:  25%|▎| 3/12 [00:08<0\u001b[A\n",
      "Processing 1990_Die.Hard.2.1990.1080p.BluRay.x264-WPi.ENG:  33%|▎| 4/12 [00:10<0\u001b[A\n",
      "Processing 1990_Die.Hard.2.1990.1080p.BluRay.x264-WPi.ENG:  42%|▍| 5/12 [00:13<0\u001b[A\n",
      "Processing 1990_Die.Hard.2.1990.1080p.BluRay.x264-WPi.ENG:  50%|▌| 6/12 [00:16<0\u001b[A\n",
      "Processing 1990_Die.Hard.2.1990.1080p.BluRay.x264-WPi.ENG:  58%|▌| 7/12 [00:20<0\u001b[A\n",
      "Processing 1990_Die.Hard.2.1990.1080p.BluRay.x264-WPi.ENG:  67%|▋| 8/12 [00:23<0\u001b[A\n",
      "Processing 1990_Die.Hard.2.1990.1080p.BluRay.x264-WPi.ENG:  75%|▊| 9/12 [00:26<0\u001b[A\n",
      "Processing 1990_Die.Hard.2.1990.1080p.BluRay.x264-WPi.ENG:  83%|▊| 10/12 [00:30<\u001b[A\n",
      "Processing 1990_Die.Hard.2.1990.1080p.BluRay.x264-WPi.ENG:  92%|▉| 11/12 [00:33<\u001b[A\n",
      "Processing 1990_Die.Hard.2.1990.1080p.BluRay.x264-WPi.ENG: 100%|█| 12/12 [00:36<\u001b[A\n",
      "Scoring movies:  29%|██████▋                | 129/443 [50:00<3:12:14, 36.73s/it]\u001b[A"
     ]
    },
    {
     "name": "stdout",
     "output_type": "stream",
     "text": [
      "✅ Finished scoring: 1990_Die.Hard.2.1990.1080p.BluRay.x264-WPi.ENG\n"
     ]
    },
    {
     "name": "stderr",
     "output_type": "stream",
     "text": [
      "\n",
      "Processing 1998_Rush Hour 1:   0%|                        | 0/8 [00:00<?, ?it/s]\u001b[A\n",
      "Processing 1998_Rush Hour 1:  12%|██              | 1/8 [00:03<00:24,  3.43s/it]\u001b[A\n",
      "Processing 1998_Rush Hour 1:  25%|████            | 2/8 [00:06<00:19,  3.24s/it]\u001b[A\n",
      "Processing 1998_Rush Hour 1:  38%|██████          | 3/8 [00:09<00:16,  3.29s/it]\u001b[A\n",
      "Processing 1998_Rush Hour 1:  50%|████████        | 4/8 [00:12<00:12,  3.09s/it]\u001b[A\n",
      "Processing 1998_Rush Hour 1:  62%|██████████      | 5/8 [00:15<00:09,  3.13s/it]\u001b[A\n",
      "Processing 1998_Rush Hour 1:  75%|████████████    | 6/8 [00:19<00:06,  3.14s/it]\u001b[A\n",
      "Processing 1998_Rush Hour 1:  88%|██████████████  | 7/8 [00:21<00:02,  2.99s/it]\u001b[A\n",
      "Processing 1998_Rush Hour 1: 100%|████████████████| 8/8 [00:25<00:00,  3.10s/it]\u001b[A\n",
      "Scoring movies:  29%|██████▋                | 130/443 [50:25<2:53:23, 33.24s/it]\u001b[A"
     ]
    },
    {
     "name": "stdout",
     "output_type": "stream",
     "text": [
      "✅ Finished scoring: 1998_Rush Hour 1\n"
     ]
    },
    {
     "name": "stderr",
     "output_type": "stream",
     "text": [
      "\n",
      "Processing 2001_The.Lord.of.the.Rings.The.Fellowship.of.the.Ring.Extended.Editio\u001b[A\n",
      "Processing 2001_The.Lord.of.the.Rings.The.Fellowship.of.the.Ring.Extended.Editio\u001b[A\n",
      "Processing 2001_The.Lord.of.the.Rings.The.Fellowship.of.the.Ring.Extended.Editio\u001b[A\n",
      "Processing 2001_The.Lord.of.the.Rings.The.Fellowship.of.the.Ring.Extended.Editio\u001b[A\n",
      "Processing 2001_The.Lord.of.the.Rings.The.Fellowship.of.the.Ring.Extended.Editio\u001b[A\n",
      "Processing 2001_The.Lord.of.the.Rings.The.Fellowship.of.the.Ring.Extended.Editio\u001b[A\n",
      "Processing 2001_The.Lord.of.the.Rings.The.Fellowship.of.the.Ring.Extended.Editio\u001b[A\n",
      "Processing 2001_The.Lord.of.the.Rings.The.Fellowship.of.the.Ring.Extended.Editio\u001b[A\n",
      "Processing 2001_The.Lord.of.the.Rings.The.Fellowship.of.the.Ring.Extended.Editio\u001b[A\n",
      "Processing 2001_The.Lord.of.the.Rings.The.Fellowship.of.the.Ring.Extended.Editio\u001b[A\n",
      "Processing 2001_The.Lord.of.the.Rings.The.Fellowship.of.the.Ring.Extended.Editio\u001b[A\n",
      "Scoring movies:  30%|██████▊                | 131/443 [50:55<2:47:03, 32.13s/it]\u001b[A"
     ]
    },
    {
     "name": "stdout",
     "output_type": "stream",
     "text": [
      "✅ Finished scoring: 2001_The.Lord.of.the.Rings.The.Fellowship.of.the.Ring.Extended.Editions.2001.1080p.BluRay.x264.\n"
     ]
    },
    {
     "name": "stderr",
     "output_type": "stream",
     "text": [
      "\n",
      "Processing 2020_Jumanji.The.Next.Level.2019.HC.720p.HDRip.800MB.x264-GalaxyRG:  \u001b[A\n",
      "Processing 2020_Jumanji.The.Next.Level.2019.HC.720p.HDRip.800MB.x264-GalaxyRG:  \u001b[A\n",
      "Processing 2020_Jumanji.The.Next.Level.2019.HC.720p.HDRip.800MB.x264-GalaxyRG:  \u001b[A\n",
      "Processing 2020_Jumanji.The.Next.Level.2019.HC.720p.HDRip.800MB.x264-GalaxyRG:  \u001b[A\n",
      "Processing 2020_Jumanji.The.Next.Level.2019.HC.720p.HDRip.800MB.x264-GalaxyRG:  \u001b[A\n",
      "Processing 2020_Jumanji.The.Next.Level.2019.HC.720p.HDRip.800MB.x264-GalaxyRG:  \u001b[A\n",
      "Processing 2020_Jumanji.The.Next.Level.2019.HC.720p.HDRip.800MB.x264-GalaxyRG:  \u001b[A\n",
      "Processing 2020_Jumanji.The.Next.Level.2019.HC.720p.HDRip.800MB.x264-GalaxyRG:  \u001b[A\n",
      "Processing 2020_Jumanji.The.Next.Level.2019.HC.720p.HDRip.800MB.x264-GalaxyRG:  \u001b[A\n",
      "Processing 2020_Jumanji.The.Next.Level.2019.HC.720p.HDRip.800MB.x264-GalaxyRG:  \u001b[A\n",
      "Processing 2020_Jumanji.The.Next.Level.2019.HC.720p.HDRip.800MB.x264-GalaxyRG: 1\u001b[A\n",
      "Scoring movies:  30%|██████▊                | 132/443 [51:24<2:42:40, 31.38s/it]\u001b[A"
     ]
    },
    {
     "name": "stdout",
     "output_type": "stream",
     "text": [
      "✅ Finished scoring: 2020_Jumanji.The.Next.Level.2019.HC.720p.HDRip.800MB.x264-GalaxyRG\n"
     ]
    },
    {
     "name": "stderr",
     "output_type": "stream",
     "text": [
      "\n",
      "Processing 2013_Monsters University:   0%|                | 0/9 [00:00<?, ?it/s]\u001b[A\n",
      "Processing 2013_Monsters University:  11%|▉       | 1/9 [00:02<00:20,  2.50s/it]\u001b[A\n",
      "Processing 2013_Monsters University:  22%|█▊      | 2/9 [00:05<00:18,  2.66s/it]\u001b[A\n",
      "Processing 2013_Monsters University:  33%|██▋     | 3/9 [00:07<00:15,  2.66s/it]\u001b[A\n",
      "Processing 2013_Monsters University:  44%|███▌    | 4/9 [00:10<00:13,  2.63s/it]\u001b[A\n",
      "Processing 2013_Monsters University:  56%|████▍   | 5/9 [00:13<00:11,  2.85s/it]\u001b[A\n",
      "Processing 2013_Monsters University:  67%|█████▎  | 6/9 [00:16<00:08,  2.84s/it]\u001b[A\n",
      "Processing 2013_Monsters University:  78%|██████▏ | 7/9 [00:19<00:05,  2.91s/it]\u001b[A\n",
      "Processing 2013_Monsters University:  89%|███████ | 8/9 [00:22<00:02,  2.91s/it]\u001b[A\n",
      "Processing 2013_Monsters University: 100%|████████| 9/9 [00:25<00:00,  3.01s/it]\u001b[A\n",
      "Scoring movies:  30%|██████▉                | 133/443 [51:50<2:33:27, 29.70s/it]\u001b[A"
     ]
    },
    {
     "name": "stdout",
     "output_type": "stream",
     "text": [
      "✅ Finished scoring: 2013_Monsters University\n"
     ]
    },
    {
     "name": "stderr",
     "output_type": "stream",
     "text": [
      "\n",
      "Processing 2014_Guardians.of.the.Galaxy.2014.DVDRip.X264.AC3.5.1-PLAYNOW:   0%| \u001b[A\n",
      "Processing 2014_Guardians.of.the.Galaxy.2014.DVDRip.X264.AC3.5.1-PLAYNOW:  12%|▏\u001b[A\n",
      "Processing 2014_Guardians.of.the.Galaxy.2014.DVDRip.X264.AC3.5.1-PLAYNOW:  25%|▎\u001b[A\n",
      "Processing 2014_Guardians.of.the.Galaxy.2014.DVDRip.X264.AC3.5.1-PLAYNOW:  38%|▍\u001b[A\n",
      "Processing 2014_Guardians.of.the.Galaxy.2014.DVDRip.X264.AC3.5.1-PLAYNOW:  50%|▌\u001b[A\n",
      "Processing 2014_Guardians.of.the.Galaxy.2014.DVDRip.X264.AC3.5.1-PLAYNOW:  62%|▋\u001b[A\n",
      "Processing 2014_Guardians.of.the.Galaxy.2014.DVDRip.X264.AC3.5.1-PLAYNOW:  75%|▊\u001b[A\n",
      "Processing 2014_Guardians.of.the.Galaxy.2014.DVDRip.X264.AC3.5.1-PLAYNOW:  88%|▉\u001b[A\n",
      "Processing 2014_Guardians.of.the.Galaxy.2014.DVDRip.X264.AC3.5.1-PLAYNOW: 100%|█\u001b[A\n",
      "Scoring movies:  30%|██████▉                | 134/443 [52:12<2:21:20, 27.45s/it]\u001b[A"
     ]
    },
    {
     "name": "stdout",
     "output_type": "stream",
     "text": [
      "✅ Finished scoring: 2014_Guardians.of.the.Galaxy.2014.DVDRip.X264.AC3.5.1-PLAYNOW\n"
     ]
    },
    {
     "name": "stderr",
     "output_type": "stream",
     "text": [
      "\n",
      "Processing 2004_The.Day.After.Tomorrow.2004.1080p.BluRay.x264-MUVI.eng:   0%| | \u001b[A\n",
      "Processing 2004_The.Day.After.Tomorrow.2004.1080p.BluRay.x264-MUVI.eng:  12%|▏| \u001b[A\n",
      "Processing 2004_The.Day.After.Tomorrow.2004.1080p.BluRay.x264-MUVI.eng:  25%|▎| \u001b[A\n",
      "Processing 2004_The.Day.After.Tomorrow.2004.1080p.BluRay.x264-MUVI.eng:  38%|▍| \u001b[A\n",
      "Processing 2004_The.Day.After.Tomorrow.2004.1080p.BluRay.x264-MUVI.eng:  50%|▌| \u001b[A\n",
      "Processing 2004_The.Day.After.Tomorrow.2004.1080p.BluRay.x264-MUVI.eng:  62%|▋| \u001b[A\n",
      "Processing 2004_The.Day.After.Tomorrow.2004.1080p.BluRay.x264-MUVI.eng:  75%|▊| \u001b[A\n",
      "Processing 2004_The.Day.After.Tomorrow.2004.1080p.BluRay.x264-MUVI.eng:  88%|▉| \u001b[A\n",
      "Processing 2004_The.Day.After.Tomorrow.2004.1080p.BluRay.x264-MUVI.eng: 100%|█| \u001b[A\n",
      "Scoring movies:  30%|███████                | 135/443 [52:35<2:13:18, 25.97s/it]\u001b[A"
     ]
    },
    {
     "name": "stdout",
     "output_type": "stream",
     "text": [
      "✅ Finished scoring: 2004_The.Day.After.Tomorrow.2004.1080p.BluRay.x264-MUVI.eng\n"
     ]
    },
    {
     "name": "stderr",
     "output_type": "stream",
     "text": [
      "\n",
      "Processing 1980_Nine to Five:   0%|                       | 0/7 [00:00<?, ?it/s]\u001b[A\n",
      "Processing 1980_Nine to Five:  14%|██▏            | 1/7 [00:02<00:15,  2.57s/it]\u001b[A\n",
      "Processing 1980_Nine to Five:  29%|████▎          | 2/7 [00:04<00:12,  2.48s/it]\u001b[A\n",
      "Processing 1980_Nine to Five:  43%|██████▍        | 3/7 [00:07<00:09,  2.45s/it]\u001b[A\n",
      "Processing 1980_Nine to Five:  57%|████████▌      | 4/7 [00:10<00:07,  2.53s/it]\u001b[A\n",
      "Processing 1980_Nine to Five:  71%|██████████▋    | 5/7 [00:12<00:04,  2.49s/it]\u001b[A\n",
      "Processing 1980_Nine to Five:  86%|████████████▊  | 6/7 [00:15<00:02,  2.52s/it]\u001b[A\n",
      "Processing 1980_Nine to Five: 100%|███████████████| 7/7 [00:17<00:00,  2.54s/it]\u001b[A\n",
      "Scoring movies:  31%|███████                | 136/443 [52:53<2:00:05, 23.47s/it]\u001b[A"
     ]
    },
    {
     "name": "stdout",
     "output_type": "stream",
     "text": [
      "✅ Finished scoring: 1980_Nine to Five\n"
     ]
    },
    {
     "name": "stderr",
     "output_type": "stream",
     "text": [
      "\n",
      "Processing 2016_Finding.Dory.2016.720p.BluRay.X264-AMIABLE:   0%| | 0/9 [00:00<?\u001b[A\n",
      "Processing 2016_Finding.Dory.2016.720p.BluRay.X264-AMIABLE:  11%| | 1/9 [00:03<0\u001b[A\n",
      "Processing 2016_Finding.Dory.2016.720p.BluRay.X264-AMIABLE:  22%|▏| 2/9 [00:06<0\u001b[A\n",
      "Processing 2016_Finding.Dory.2016.720p.BluRay.X264-AMIABLE:  33%|▎| 3/9 [00:08<0\u001b[A\n",
      "Processing 2016_Finding.Dory.2016.720p.BluRay.X264-AMIABLE:  44%|▍| 4/9 [00:11<0\u001b[A\n",
      "Processing 2016_Finding.Dory.2016.720p.BluRay.X264-AMIABLE:  56%|▌| 5/9 [00:14<0\u001b[A\n",
      "Processing 2016_Finding.Dory.2016.720p.BluRay.X264-AMIABLE:  67%|▋| 6/9 [00:16<0\u001b[A\n",
      "Processing 2016_Finding.Dory.2016.720p.BluRay.X264-AMIABLE:  78%|▊| 7/9 [00:19<0\u001b[A\n",
      "Processing 2016_Finding.Dory.2016.720p.BluRay.X264-AMIABLE:  89%|▉| 8/9 [00:22<0\u001b[A"
     ]
    },
    {
     "name": "stdout",
     "output_type": "stream",
     "text": [
      "⚠️ Rate limit hit. Waiting 60 seconds...\n"
     ]
    },
    {
     "name": "stderr",
     "output_type": "stream",
     "text": [
      "\n",
      "Processing 2016_Finding.Dory.2016.720p.BluRay.X264-AMIABLE: 100%|█| 9/9 [01:25<0\u001b[A\n",
      "Scoring movies:  31%|███████                | 137/443 [54:18<3:34:00, 41.96s/it]\u001b[A"
     ]
    },
    {
     "name": "stdout",
     "output_type": "stream",
     "text": [
      "✅ Finished scoring: 2016_Finding.Dory.2016.720p.BluRay.X264-AMIABLE\n"
     ]
    },
    {
     "name": "stderr",
     "output_type": "stream",
     "text": [
      "\n",
      "Processing 2008_Madagascar-Escape.2.Africa[2008]DvDrip-aXXo.en:   0%| | 0/8 [00:\u001b[A\n",
      "Processing 2008_Madagascar-Escape.2.Africa[2008]DvDrip-aXXo.en:  12%|▏| 1/8 [00:\u001b[A\n",
      "Processing 2008_Madagascar-Escape.2.Africa[2008]DvDrip-aXXo.en:  25%|▎| 2/8 [00:\u001b[A\n",
      "Processing 2008_Madagascar-Escape.2.Africa[2008]DvDrip-aXXo.en:  38%|▍| 3/8 [00:\u001b[A\n",
      "Processing 2008_Madagascar-Escape.2.Africa[2008]DvDrip-aXXo.en:  50%|▌| 4/8 [00:\u001b[A\n",
      "Processing 2008_Madagascar-Escape.2.Africa[2008]DvDrip-aXXo.en:  62%|▋| 5/8 [00:\u001b[A\n",
      "Processing 2008_Madagascar-Escape.2.Africa[2008]DvDrip-aXXo.en:  75%|▊| 6/8 [00:\u001b[A\n",
      "Processing 2008_Madagascar-Escape.2.Africa[2008]DvDrip-aXXo.en:  88%|▉| 7/8 [00:\u001b[A\n",
      "Processing 2008_Madagascar-Escape.2.Africa[2008]DvDrip-aXXo.en: 100%|█| 8/8 [00:\u001b[A\n",
      "Scoring movies:  31%|███████▏               | 138/443 [54:40<3:03:48, 36.16s/it]\u001b[A"
     ]
    },
    {
     "name": "stdout",
     "output_type": "stream",
     "text": [
      "✅ Finished scoring: 2008_Madagascar-Escape.2.Africa[2008]DvDrip-aXXo.en\n"
     ]
    },
    {
     "name": "stderr",
     "output_type": "stream",
     "text": [
      "\n",
      "Processing 2007_The.Simpsons.Movie[2007]DvDrip.AC3[Eng]-aXXo:   0%| | 0/6 [00:00\u001b[A\n",
      "Processing 2007_The.Simpsons.Movie[2007]DvDrip.AC3[Eng]-aXXo:  17%|▏| 1/6 [00:02\u001b[A\n",
      "Processing 2007_The.Simpsons.Movie[2007]DvDrip.AC3[Eng]-aXXo:  33%|▎| 2/6 [00:05\u001b[A\n",
      "Processing 2007_The.Simpsons.Movie[2007]DvDrip.AC3[Eng]-aXXo:  50%|▌| 3/6 [00:08\u001b[A\n",
      "Processing 2007_The.Simpsons.Movie[2007]DvDrip.AC3[Eng]-aXXo:  67%|▋| 4/6 [00:11\u001b[A\n",
      "Processing 2007_The.Simpsons.Movie[2007]DvDrip.AC3[Eng]-aXXo:  83%|▊| 5/6 [00:14\u001b[A\n",
      "Processing 2007_The.Simpsons.Movie[2007]DvDrip.AC3[Eng]-aXXo: 100%|█| 6/6 [00:18\u001b[A\n",
      "Scoring movies:  31%|███████▏               | 139/443 [54:58<2:35:46, 30.75s/it]\u001b[A"
     ]
    },
    {
     "name": "stdout",
     "output_type": "stream",
     "text": [
      "✅ Finished scoring: 2007_The.Simpsons.Movie[2007]DvDrip.AC3[Eng]-aXXo\n"
     ]
    },
    {
     "name": "stderr",
     "output_type": "stream",
     "text": [
      "\n",
      "Processing 2000_The.Perfect.Storm.2000.720p.BluRay.DDEX.x264-ESiR.ENG:   0%| | 0\u001b[A\n",
      "Processing 2000_The.Perfect.Storm.2000.720p.BluRay.DDEX.x264-ESiR.ENG:  14%|▏| 1\u001b[A\n",
      "Processing 2000_The.Perfect.Storm.2000.720p.BluRay.DDEX.x264-ESiR.ENG:  29%|▎| 2\u001b[A\n",
      "Processing 2000_The.Perfect.Storm.2000.720p.BluRay.DDEX.x264-ESiR.ENG:  43%|▍| 3\u001b[A\n",
      "Processing 2000_The.Perfect.Storm.2000.720p.BluRay.DDEX.x264-ESiR.ENG:  57%|▌| 4\u001b[A\n",
      "Processing 2000_The.Perfect.Storm.2000.720p.BluRay.DDEX.x264-ESiR.ENG:  71%|▋| 5\u001b[A\n",
      "Processing 2000_The.Perfect.Storm.2000.720p.BluRay.DDEX.x264-ESiR.ENG:  86%|▊| 6\u001b[A\n",
      "Processing 2000_The.Perfect.Storm.2000.720p.BluRay.DDEX.x264-ESiR.ENG: 100%|█| 7\u001b[A\n",
      "Scoring movies:  32%|███████▎               | 140/443 [55:17<2:17:04, 27.14s/it]\u001b[A"
     ]
    },
    {
     "name": "stdout",
     "output_type": "stream",
     "text": [
      "✅ Finished scoring: 2000_The.Perfect.Storm.2000.720p.BluRay.DDEX.x264-ESiR.ENG\n"
     ]
    },
    {
     "name": "stderr",
     "output_type": "stream",
     "text": [
      "\n",
      "Processing 1997_George Of The Jungle (1997).en:   0%|     | 0/7 [00:00<?, ?it/s]\u001b[A\n",
      "Processing 1997_George Of The Jungle (1997).en:  14%|▏| 1/7 [00:02<00:15,  2.58s\u001b[A\n",
      "Processing 1997_George Of The Jungle (1997).en:  29%|▎| 2/7 [00:05<00:12,  2.52s\u001b[A\n",
      "Processing 1997_George Of The Jungle (1997).en:  43%|▍| 3/7 [00:07<00:10,  2.66s\u001b[A\n",
      "Processing 1997_George Of The Jungle (1997).en:  57%|▌| 4/7 [00:10<00:08,  2.74s\u001b[A\n",
      "Processing 1997_George Of The Jungle (1997).en:  71%|▋| 5/7 [00:13<00:05,  2.87s\u001b[A\n",
      "Processing 1997_George Of The Jungle (1997).en:  86%|▊| 6/7 [00:16<00:02,  2.77s\u001b[A\n",
      "Processing 1997_George Of The Jungle (1997).en: 100%|█| 7/7 [00:19<00:00,  2.79s\u001b[A\n",
      "Scoring movies:  32%|███████▎               | 141/443 [55:36<2:04:43, 24.78s/it]\u001b[A"
     ]
    },
    {
     "name": "stdout",
     "output_type": "stream",
     "text": [
      "✅ Finished scoring: 1997_George Of The Jungle (1997).en\n"
     ]
    },
    {
     "name": "stderr",
     "output_type": "stream",
     "text": [
      "\n",
      "Processing 2012_The.Dark.Knight.Rises.2012.720p.BluRay.x264-SPARKS:   0%| | 0/10\u001b[A\n",
      "Processing 2012_The.Dark.Knight.Rises.2012.720p.BluRay.x264-SPARKS:  10%| | 1/10\u001b[A\n",
      "Processing 2012_The.Dark.Knight.Rises.2012.720p.BluRay.x264-SPARKS:  20%|▏| 2/10\u001b[A\n",
      "Processing 2012_The.Dark.Knight.Rises.2012.720p.BluRay.x264-SPARKS:  30%|▎| 3/10\u001b[A\n",
      "Processing 2012_The.Dark.Knight.Rises.2012.720p.BluRay.x264-SPARKS:  40%|▍| 4/10\u001b[A\n",
      "Processing 2012_The.Dark.Knight.Rises.2012.720p.BluRay.x264-SPARKS:  50%|▌| 5/10\u001b[A\n",
      "Processing 2012_The.Dark.Knight.Rises.2012.720p.BluRay.x264-SPARKS:  60%|▌| 6/10\u001b[A\n",
      "Processing 2012_The.Dark.Knight.Rises.2012.720p.BluRay.x264-SPARKS:  70%|▋| 7/10\u001b[A\n",
      "Processing 2012_The.Dark.Knight.Rises.2012.720p.BluRay.x264-SPARKS:  80%|▊| 8/10\u001b[A\n",
      "Processing 2012_The.Dark.Knight.Rises.2012.720p.BluRay.x264-SPARKS:  90%|▉| 9/10\u001b[A\n",
      "Processing 2012_The.Dark.Knight.Rises.2012.720p.BluRay.x264-SPARKS: 100%|█| 10/1\u001b[A\n",
      "Scoring movies:  32%|███████▎               | 142/443 [56:06<2:11:32, 26.22s/it]\u001b[A"
     ]
    },
    {
     "name": "stdout",
     "output_type": "stream",
     "text": [
      "✅ Finished scoring: 2012_The.Dark.Knight.Rises.2012.720p.BluRay.x264-SPARKS\n"
     ]
    },
    {
     "name": "stderr",
     "output_type": "stream",
     "text": [
      "\n",
      "Processing 1987_Lethal.Weapon.1.1987.1080p.BluRay.x264-CtrlHD.ENG:   0%| | 0/7 [\u001b[A\n",
      "Processing 1987_Lethal.Weapon.1.1987.1080p.BluRay.x264-CtrlHD.ENG:  14%|▏| 1/7 [\u001b[A\n",
      "Processing 1987_Lethal.Weapon.1.1987.1080p.BluRay.x264-CtrlHD.ENG:  29%|▎| 2/7 [\u001b[A\n",
      "Processing 1987_Lethal.Weapon.1.1987.1080p.BluRay.x264-CtrlHD.ENG:  43%|▍| 3/7 [\u001b[A\n",
      "Processing 1987_Lethal.Weapon.1.1987.1080p.BluRay.x264-CtrlHD.ENG:  57%|▌| 4/7 [\u001b[A\n",
      "Processing 1987_Lethal.Weapon.1.1987.1080p.BluRay.x264-CtrlHD.ENG:  71%|▋| 5/7 [\u001b[A\n",
      "Processing 1987_Lethal.Weapon.1.1987.1080p.BluRay.x264-CtrlHD.ENG:  86%|▊| 6/7 [\u001b[A\n",
      "Processing 1987_Lethal.Weapon.1.1987.1080p.BluRay.x264-CtrlHD.ENG: 100%|█| 7/7 [\u001b[A\n",
      "Scoring movies:  32%|███████▍               | 143/443 [56:25<2:00:12, 24.04s/it]\u001b[A"
     ]
    },
    {
     "name": "stdout",
     "output_type": "stream",
     "text": [
      "✅ Finished scoring: 1987_Lethal.Weapon.1.1987.1080p.BluRay.x264-CtrlHD.ENG\n"
     ]
    },
    {
     "name": "stderr",
     "output_type": "stream",
     "text": [
      "\n",
      "Processing 2009_Avatar.(2009).BDRip.AC3.XviD-D-Z0N3:   0%| | 0/8 [00:00<?, ?it/s\u001b[A\n",
      "Processing 2009_Avatar.(2009).BDRip.AC3.XviD-D-Z0N3:  12%|▏| 1/8 [00:02<00:18,  \u001b[A\n",
      "Processing 2009_Avatar.(2009).BDRip.AC3.XviD-D-Z0N3:  25%|▎| 2/8 [00:06<00:19,  \u001b[A\n",
      "Processing 2009_Avatar.(2009).BDRip.AC3.XviD-D-Z0N3:  38%|▍| 3/8 [00:08<00:14,  \u001b[A\n",
      "Processing 2009_Avatar.(2009).BDRip.AC3.XviD-D-Z0N3:  50%|▌| 4/8 [00:12<00:12,  \u001b[A\n",
      "Processing 2009_Avatar.(2009).BDRip.AC3.XviD-D-Z0N3:  62%|▋| 5/8 [00:14<00:08,  \u001b[A\n",
      "Processing 2009_Avatar.(2009).BDRip.AC3.XviD-D-Z0N3:  75%|▊| 6/8 [00:18<00:06,  \u001b[A\n",
      "Processing 2009_Avatar.(2009).BDRip.AC3.XviD-D-Z0N3:  88%|▉| 7/8 [00:21<00:03,  \u001b[A\n",
      "Processing 2009_Avatar.(2009).BDRip.AC3.XviD-D-Z0N3: 100%|█| 8/8 [00:23<00:00,  \u001b[A\n",
      "Scoring movies:  33%|███████▍               | 144/443 [56:49<1:59:39, 24.01s/it]\u001b[A"
     ]
    },
    {
     "name": "stdout",
     "output_type": "stream",
     "text": [
      "✅ Finished scoring: 2009_Avatar.(2009).BDRip.AC3.XviD-D-Z0N3\n"
     ]
    },
    {
     "name": "stderr",
     "output_type": "stream",
     "text": [
      "\n",
      "Processing 2011_The.Twilight.Saga.Breaking.Dawn.Part.1.2011.720p.BluRay.x264-SPA\u001b[A\n",
      "Processing 2011_The.Twilight.Saga.Breaking.Dawn.Part.1.2011.720p.BluRay.x264-SPA\u001b[A\n",
      "Processing 2011_The.Twilight.Saga.Breaking.Dawn.Part.1.2011.720p.BluRay.x264-SPA\u001b[A\n",
      "Processing 2011_The.Twilight.Saga.Breaking.Dawn.Part.1.2011.720p.BluRay.x264-SPA\u001b[A\n",
      "Processing 2011_The.Twilight.Saga.Breaking.Dawn.Part.1.2011.720p.BluRay.x264-SPA\u001b[A\n",
      "Processing 2011_The.Twilight.Saga.Breaking.Dawn.Part.1.2011.720p.BluRay.x264-SPA\u001b[A\n",
      "Processing 2011_The.Twilight.Saga.Breaking.Dawn.Part.1.2011.720p.BluRay.x264-SPA\u001b[A\n",
      "Processing 2011_The.Twilight.Saga.Breaking.Dawn.Part.1.2011.720p.BluRay.x264-SPA\u001b[A\n",
      "Processing 2011_The.Twilight.Saga.Breaking.Dawn.Part.1.2011.720p.BluRay.x264-SPA\u001b[A\n",
      "Scoring movies:  33%|███████▌               | 145/443 [57:11<1:57:04, 23.57s/it]\u001b[A"
     ]
    },
    {
     "name": "stdout",
     "output_type": "stream",
     "text": [
      "✅ Finished scoring: 2011_The.Twilight.Saga.Breaking.Dawn.Part.1.2011.720p.BluRay.x264-SPARKS English\n"
     ]
    },
    {
     "name": "stderr",
     "output_type": "stream",
     "text": [
      "\n",
      "Processing 2015_Star.Wars.Episode.VII.The.Force.Awakens.2015.720p.BluRay.x264-Re\u001b[A\n",
      "Processing 2015_Star.Wars.Episode.VII.The.Force.Awakens.2015.720p.BluRay.x264-Re\u001b[A\n",
      "Processing 2015_Star.Wars.Episode.VII.The.Force.Awakens.2015.720p.BluRay.x264-Re\u001b[A\n",
      "Processing 2015_Star.Wars.Episode.VII.The.Force.Awakens.2015.720p.BluRay.x264-Re\u001b[A\n",
      "Processing 2015_Star.Wars.Episode.VII.The.Force.Awakens.2015.720p.BluRay.x264-Re\u001b[A\n",
      "Processing 2015_Star.Wars.Episode.VII.The.Force.Awakens.2015.720p.BluRay.x264-Re\u001b[A\n",
      "Processing 2015_Star.Wars.Episode.VII.The.Force.Awakens.2015.720p.BluRay.x264-Re\u001b[A\n",
      "Processing 2015_Star.Wars.Episode.VII.The.Force.Awakens.2015.720p.BluRay.x264-Re\u001b[A\n",
      "Processing 2015_Star.Wars.Episode.VII.The.Force.Awakens.2015.720p.BluRay.x264-Re\u001b[A\n",
      "Scoring movies:  33%|███████▌               | 146/443 [57:36<1:57:25, 23.72s/it]\u001b[A"
     ]
    },
    {
     "name": "stdout",
     "output_type": "stream",
     "text": [
      "✅ Finished scoring: 2015_Star.Wars.Episode.VII.The.Force.Awakens.2015.720p.BluRay.x264-Replica\n"
     ]
    },
    {
     "name": "stderr",
     "output_type": "stream",
     "text": [
      "\n",
      "Processing 2007_300.eng:   0%|                            | 0/6 [00:00<?, ?it/s]\u001b[A\n",
      "Processing 2007_300.eng:  17%|███▎                | 1/6 [00:03<00:17,  3.44s/it]\u001b[A\n",
      "Processing 2007_300.eng:  33%|██████▋             | 2/6 [00:06<00:12,  3.17s/it]\u001b[A\n",
      "Processing 2007_300.eng:  50%|██████████          | 3/6 [00:09<00:09,  3.17s/it]\u001b[A\n",
      "Processing 2007_300.eng:  67%|█████████████▎      | 4/6 [00:12<00:06,  3.12s/it]\u001b[A\n",
      "Processing 2007_300.eng:  83%|████████████████▋   | 5/6 [00:15<00:03,  3.15s/it]\u001b[A\n",
      "Processing 2007_300.eng: 100%|████████████████████| 6/6 [00:19<00:00,  3.22s/it]\u001b[A\n",
      "Scoring movies:  33%|███████▋               | 147/443 [57:55<1:50:21, 22.37s/it]\u001b[A"
     ]
    },
    {
     "name": "stdout",
     "output_type": "stream",
     "text": [
      "✅ Finished scoring: 2007_300.eng\n"
     ]
    },
    {
     "name": "stderr",
     "output_type": "stream",
     "text": [
      "\n",
      "Processing 2017_It:   0%|                                 | 0/8 [00:00<?, ?it/s]\u001b[A\n",
      "Processing 2017_It:  12%|███▏                     | 1/8 [00:03<00:22,  3.18s/it]\u001b[A\n",
      "Processing 2017_It:  25%|██████▎                  | 2/8 [00:06<00:19,  3.19s/it]\u001b[A\n",
      "Processing 2017_It:  38%|█████████▍               | 3/8 [00:09<00:15,  3.15s/it]\u001b[A\n",
      "Processing 2017_It:  50%|████████████▌            | 4/8 [00:12<00:12,  3.07s/it]\u001b[A\n",
      "Processing 2017_It:  62%|███████████████▋         | 5/8 [00:15<00:09,  3.18s/it]\u001b[A\n",
      "Processing 2017_It:  75%|██████████████████▊      | 6/8 [00:18<00:06,  3.17s/it]\u001b[A\n",
      "Processing 2017_It:  88%|█████████████████████▉   | 7/8 [00:22<00:03,  3.15s/it]\u001b[A\n",
      "Processing 2017_It: 100%|█████████████████████████| 8/8 [00:25<00:00,  3.15s/it]\u001b[A\n",
      "Scoring movies:  33%|███████▋               | 148/443 [58:20<1:54:12, 23.23s/it]\u001b[A"
     ]
    },
    {
     "name": "stdout",
     "output_type": "stream",
     "text": [
      "✅ Finished scoring: 2017_It\n"
     ]
    },
    {
     "name": "stderr",
     "output_type": "stream",
     "text": [
      "\n",
      "Processing 1986_The Color Purple_DVDrip_aviM720_DVD1_en:   0%| | 0/4 [00:00<?, ?\u001b[A\n",
      "Processing 1986_The Color Purple_DVDrip_aviM720_DVD1_en:  25%|▎| 1/4 [00:03<00:0\u001b[A\n",
      "Processing 1986_The Color Purple_DVDrip_aviM720_DVD1_en:  50%|▌| 2/4 [00:06<00:0\u001b[A\n",
      "Processing 1986_The Color Purple_DVDrip_aviM720_DVD1_en:  75%|▊| 3/4 [00:09<00:0\u001b[A\n",
      "Processing 1986_The Color Purple_DVDrip_aviM720_DVD1_en: 100%|█| 4/4 [00:11<00:0\u001b[A\n",
      "Scoring movies:  34%|███████▋               | 149/443 [58:32<1:36:42, 19.74s/it]\u001b[A"
     ]
    },
    {
     "name": "stdout",
     "output_type": "stream",
     "text": [
      "✅ Finished scoring: 1986_The Color Purple_DVDrip_aviM720_DVD1_en\n"
     ]
    },
    {
     "name": "stderr",
     "output_type": "stream",
     "text": [
      "\n",
      "Processing 1991_City.Slickers.1991.1080p.X264.BluRay.X264-AMIABLE:   0%| | 0/9 [\u001b[A\n",
      "Processing 1991_City.Slickers.1991.1080p.X264.BluRay.X264-AMIABLE:  11%| | 1/9 [\u001b[A\n",
      "Processing 1991_City.Slickers.1991.1080p.X264.BluRay.X264-AMIABLE:  22%|▏| 2/9 [\u001b[A\n",
      "Processing 1991_City.Slickers.1991.1080p.X264.BluRay.X264-AMIABLE:  33%|▎| 3/9 [\u001b[A\n",
      "Processing 1991_City.Slickers.1991.1080p.X264.BluRay.X264-AMIABLE:  44%|▍| 4/9 [\u001b[A\n",
      "Processing 1991_City.Slickers.1991.1080p.X264.BluRay.X264-AMIABLE:  56%|▌| 5/9 [\u001b[A"
     ]
    },
    {
     "name": "stdout",
     "output_type": "stream",
     "text": [
      "⚠️ Rate limit hit. Waiting 60 seconds...\n"
     ]
    },
    {
     "name": "stderr",
     "output_type": "stream",
     "text": [
      "\n",
      "Processing 1991_City.Slickers.1991.1080p.X264.BluRay.X264-AMIABLE:  67%|▋| 6/9 [\u001b[A\n",
      "Processing 1991_City.Slickers.1991.1080p.X264.BluRay.X264-AMIABLE:  78%|▊| 7/9 [\u001b[A\n",
      "Processing 1991_City.Slickers.1991.1080p.X264.BluRay.X264-AMIABLE:  89%|▉| 8/9 [\u001b[A\n",
      "Processing 1991_City.Slickers.1991.1080p.X264.BluRay.X264-AMIABLE: 100%|█| 9/9 [\u001b[A\n",
      "Scoring movies:  34%|███████▊               | 150/443 [59:59<3:16:16, 40.19s/it]\u001b[A"
     ]
    },
    {
     "name": "stdout",
     "output_type": "stream",
     "text": [
      "✅ Finished scoring: 1991_City.Slickers.1991.1080p.X264.BluRay.X264-AMIABLE\n"
     ]
    },
    {
     "name": "stderr",
     "output_type": "stream",
     "text": [
      "\n",
      "Processing 2010_How.to.Train.Your.Dragon.(2010).BDRip.AC3.XviD-CaLLiOpeD:   0%| \u001b[A\n",
      "Processing 2010_How.to.Train.Your.Dragon.(2010).BDRip.AC3.XviD-CaLLiOpeD:  20%|▏\u001b[A\n",
      "Processing 2010_How.to.Train.Your.Dragon.(2010).BDRip.AC3.XviD-CaLLiOpeD:  40%|▍\u001b[A\n",
      "Processing 2010_How.to.Train.Your.Dragon.(2010).BDRip.AC3.XviD-CaLLiOpeD:  60%|▌\u001b[A\n",
      "Processing 2010_How.to.Train.Your.Dragon.(2010).BDRip.AC3.XviD-CaLLiOpeD:  80%|▊\u001b[A\n",
      "Processing 2010_How.to.Train.Your.Dragon.(2010).BDRip.AC3.XviD-CaLLiOpeD: 100%|█\u001b[A\n",
      "Scoring movies:  34%|███████▏             | 151/443 [1:00:12<2:35:51, 32.02s/it]\u001b[A"
     ]
    },
    {
     "name": "stdout",
     "output_type": "stream",
     "text": [
      "✅ Finished scoring: 2010_How.to.Train.Your.Dragon.(2010).BDRip.AC3.XviD-CaLLiOpeD\n"
     ]
    },
    {
     "name": "stderr",
     "output_type": "stream",
     "text": [
      "\n",
      "Processing 1996_The First Wives Club:   0%|               | 0/8 [00:00<?, ?it/s]\u001b[A\n",
      "Processing 1996_The First Wives Club:  12%|▉      | 1/8 [00:03<00:22,  3.20s/it]\u001b[A\n",
      "Processing 1996_The First Wives Club:  25%|█▊     | 2/8 [00:06<00:18,  3.15s/it]\u001b[A\n",
      "Processing 1996_The First Wives Club:  38%|██▋    | 3/8 [00:10<00:17,  3.48s/it]\u001b[A\n",
      "Processing 1996_The First Wives Club:  50%|███▌   | 4/8 [00:13<00:13,  3.35s/it]\u001b[A\n",
      "Processing 1996_The First Wives Club:  62%|████▍  | 5/8 [00:16<00:09,  3.31s/it]\u001b[A\n",
      "Processing 1996_The First Wives Club:  75%|█████▎ | 6/8 [00:19<00:06,  3.14s/it]\u001b[A\n",
      "Processing 1996_The First Wives Club:  88%|██████▏| 7/8 [00:22<00:03,  3.15s/it]\u001b[A\n",
      "Processing 1996_The First Wives Club: 100%|███████| 8/8 [00:25<00:00,  2.96s/it]\u001b[A\n",
      "Scoring movies:  34%|███████▏             | 152/443 [1:00:38<2:25:17, 29.96s/it]\u001b[A"
     ]
    },
    {
     "name": "stdout",
     "output_type": "stream",
     "text": [
      "✅ Finished scoring: 1996_The First Wives Club\n"
     ]
    },
    {
     "name": "stderr",
     "output_type": "stream",
     "text": [
      "\n",
      "Processing 1989_Batman.1989.720p.BluRay.x264-SiNNERS.ENG:   0%| | 0/6 [00:00<?, \u001b[A\n",
      "Processing 1989_Batman.1989.720p.BluRay.x264-SiNNERS.ENG:  17%|▏| 1/6 [00:03<00:\u001b[A\n",
      "Processing 1989_Batman.1989.720p.BluRay.x264-SiNNERS.ENG:  33%|▎| 2/6 [00:06<00:\u001b[A\n",
      "Processing 1989_Batman.1989.720p.BluRay.x264-SiNNERS.ENG:  50%|▌| 3/6 [00:09<00:\u001b[A\n",
      "Processing 1989_Batman.1989.720p.BluRay.x264-SiNNERS.ENG:  67%|▋| 4/6 [00:12<00:\u001b[A\n",
      "Processing 1989_Batman.1989.720p.BluRay.x264-SiNNERS.ENG:  83%|▊| 5/6 [00:15<00:\u001b[A\n",
      "Processing 1989_Batman.1989.720p.BluRay.x264-SiNNERS.ENG: 100%|█| 6/6 [00:18<00:\u001b[A\n",
      "Scoring movies:  35%|███████▎             | 153/443 [1:00:56<2:08:12, 26.53s/it]\u001b[A"
     ]
    },
    {
     "name": "stdout",
     "output_type": "stream",
     "text": [
      "✅ Finished scoring: 1989_Batman.1989.720p.BluRay.x264-SiNNERS.ENG\n"
     ]
    },
    {
     "name": "stderr",
     "output_type": "stream",
     "text": [
      "\n",
      "Processing 2003_X2 X-Men United 2003 Dvdrip Xvid Ac3.5.1Ch Cd1-Waf:   0%| | 0/3 \u001b[A\n",
      "Processing 2003_X2 X-Men United 2003 Dvdrip Xvid Ac3.5.1Ch Cd1-Waf:  33%|▎| 1/3 \u001b[A\n",
      "Processing 2003_X2 X-Men United 2003 Dvdrip Xvid Ac3.5.1Ch Cd1-Waf:  67%|▋| 2/3 \u001b[A\n",
      "Processing 2003_X2 X-Men United 2003 Dvdrip Xvid Ac3.5.1Ch Cd1-Waf: 100%|█| 3/3 \u001b[A\n",
      "Scoring movies:  35%|███████▎             | 154/443 [1:01:05<1:42:08, 21.21s/it]\u001b[A"
     ]
    },
    {
     "name": "stdout",
     "output_type": "stream",
     "text": [
      "✅ Finished scoring: 2003_X2 X-Men United 2003 Dvdrip Xvid Ac3.5.1Ch Cd1-Waf\n"
     ]
    },
    {
     "name": "stderr",
     "output_type": "stream",
     "text": [
      "\n",
      "Processing 1991_The.Addams.Family.1991.720p.BluRay.X264-AMIABLE:   0%| | 0/6 [00\u001b[A\n",
      "Processing 1991_The.Addams.Family.1991.720p.BluRay.X264-AMIABLE:  17%|▏| 1/6 [00\u001b[A\n",
      "Processing 1991_The.Addams.Family.1991.720p.BluRay.X264-AMIABLE:  33%|▎| 2/6 [00\u001b[A\n",
      "Processing 1991_The.Addams.Family.1991.720p.BluRay.X264-AMIABLE:  50%|▌| 3/6 [00\u001b[A\n",
      "Processing 1991_The.Addams.Family.1991.720p.BluRay.X264-AMIABLE:  67%|▋| 4/6 [00\u001b[A\n",
      "Processing 1991_The.Addams.Family.1991.720p.BluRay.X264-AMIABLE:  83%|▊| 5/6 [00\u001b[A\n",
      "Processing 1991_The.Addams.Family.1991.720p.BluRay.X264-AMIABLE: 100%|█| 6/6 [00\u001b[A\n",
      "Scoring movies:  35%|███████▎             | 155/443 [1:01:23<1:37:36, 20.34s/it]\u001b[A"
     ]
    },
    {
     "name": "stdout",
     "output_type": "stream",
     "text": [
      "✅ Finished scoring: 1991_The.Addams.Family.1991.720p.BluRay.X264-AMIABLE\n"
     ]
    },
    {
     "name": "stderr",
     "output_type": "stream",
     "text": [
      "\n",
      "Processing 2014_Maleficent.2014.720p.BluRay.x264-SPARKS:   0%| | 0/4 [00:00<?, ?\u001b[A\n",
      "Processing 2014_Maleficent.2014.720p.BluRay.x264-SPARKS:  25%|▎| 1/4 [00:03<00:0\u001b[A\n",
      "Processing 2014_Maleficent.2014.720p.BluRay.x264-SPARKS:  50%|▌| 2/4 [00:06<00:0\u001b[A\n",
      "Processing 2014_Maleficent.2014.720p.BluRay.x264-SPARKS:  75%|▊| 3/4 [00:09<00:0\u001b[A\n",
      "Processing 2014_Maleficent.2014.720p.BluRay.x264-SPARKS: 100%|█| 4/4 [00:12<00:0\u001b[A\n",
      "Scoring movies:  35%|███████▍             | 156/443 [1:01:36<1:26:26, 18.07s/it]\u001b[A"
     ]
    },
    {
     "name": "stdout",
     "output_type": "stream",
     "text": [
      "✅ Finished scoring: 2014_Maleficent.2014.720p.BluRay.x264-SPARKS\n"
     ]
    },
    {
     "name": "stderr",
     "output_type": "stream",
     "text": [
      "\n",
      "Processing 2002_Austin.Powers.in.Goldmember.2002.720p.BluRay.x264-REVEiLLE.ENG: \u001b[A\n",
      "Processing 2002_Austin.Powers.in.Goldmember.2002.720p.BluRay.x264-REVEiLLE.ENG: \u001b[A\n",
      "Processing 2002_Austin.Powers.in.Goldmember.2002.720p.BluRay.x264-REVEiLLE.ENG: \u001b[A\n",
      "Processing 2002_Austin.Powers.in.Goldmember.2002.720p.BluRay.x264-REVEiLLE.ENG: \u001b[A\n",
      "Processing 2002_Austin.Powers.in.Goldmember.2002.720p.BluRay.x264-REVEiLLE.ENG: \u001b[A\n",
      "Processing 2002_Austin.Powers.in.Goldmember.2002.720p.BluRay.x264-REVEiLLE.ENG: \u001b[A\n",
      "Processing 2002_Austin.Powers.in.Goldmember.2002.720p.BluRay.x264-REVEiLLE.ENG: \u001b[A\n",
      "Processing 2002_Austin.Powers.in.Goldmember.2002.720p.BluRay.x264-REVEiLLE.ENG: \u001b[A\n",
      "Processing 2002_Austin.Powers.in.Goldmember.2002.720p.BluRay.x264-REVEiLLE.ENG: \u001b[A\n",
      "Scoring movies:  35%|███████▍             | 157/443 [1:01:59<1:33:11, 19.55s/it]\u001b[A"
     ]
    },
    {
     "name": "stdout",
     "output_type": "stream",
     "text": [
      "✅ Finished scoring: 2002_Austin.Powers.in.Goldmember.2002.720p.BluRay.x264-REVEiLLE.ENG\n"
     ]
    },
    {
     "name": "stderr",
     "output_type": "stream",
     "text": [
      "\n",
      "Processing 1979_meatballs.1979.720p.bluray.x264-psychd-eng:   0%| | 0/7 [00:00<?\u001b[A\n",
      "Processing 1979_meatballs.1979.720p.bluray.x264-psychd-eng:  14%|▏| 1/7 [00:03<0\u001b[A\n",
      "Processing 1979_meatballs.1979.720p.bluray.x264-psychd-eng:  29%|▎| 2/7 [00:06<0\u001b[A\n",
      "Processing 1979_meatballs.1979.720p.bluray.x264-psychd-eng:  43%|▍| 3/7 [00:09<0\u001b[A\n",
      "Processing 1979_meatballs.1979.720p.bluray.x264-psychd-eng:  57%|▌| 4/7 [00:12<0\u001b[A\n",
      "Processing 1979_meatballs.1979.720p.bluray.x264-psychd-eng:  71%|▋| 5/7 [00:14<0\u001b[A\n",
      "Processing 1979_meatballs.1979.720p.bluray.x264-psychd-eng:  86%|▊| 6/7 [00:17<0\u001b[A\n",
      "Processing 1979_meatballs.1979.720p.bluray.x264-psychd-eng: 100%|█| 7/7 [00:20<0\u001b[A\n",
      "Scoring movies:  36%|███████▍             | 158/443 [1:02:20<1:34:43, 19.94s/it]\u001b[A"
     ]
    },
    {
     "name": "stdout",
     "output_type": "stream",
     "text": [
      "✅ Finished scoring: 1979_meatballs.1979.720p.bluray.x264-psychd-eng\n"
     ]
    },
    {
     "name": "stderr",
     "output_type": "stream",
     "text": [
      "\n",
      "Processing 2001_Monsters.Inc.2001.BluRay.1080p.DTS.x264.dxva-EuReKA.ENG:   0%| |\u001b[A\n",
      "Processing 2001_Monsters.Inc.2001.BluRay.1080p.DTS.x264.dxva-EuReKA.ENG:  17%|▏|\u001b[A\n",
      "Processing 2001_Monsters.Inc.2001.BluRay.1080p.DTS.x264.dxva-EuReKA.ENG:  33%|▎|\u001b[A\n",
      "Processing 2001_Monsters.Inc.2001.BluRay.1080p.DTS.x264.dxva-EuReKA.ENG:  50%|▌|\u001b[A\n",
      "Processing 2001_Monsters.Inc.2001.BluRay.1080p.DTS.x264.dxva-EuReKA.ENG:  67%|▋|\u001b[A\n",
      "Processing 2001_Monsters.Inc.2001.BluRay.1080p.DTS.x264.dxva-EuReKA.ENG:  83%|▊|\u001b[A\n",
      "Processing 2001_Monsters.Inc.2001.BluRay.1080p.DTS.x264.dxva-EuReKA.ENG: 100%|█|\u001b[A\n",
      "Scoring movies:  36%|███████▌             | 159/443 [1:02:40<1:34:58, 20.06s/it]\u001b[A"
     ]
    },
    {
     "name": "stdout",
     "output_type": "stream",
     "text": [
      "✅ Finished scoring: 2001_Monsters.Inc.2001.BluRay.1080p.DTS.x264.dxva-EuReKA.ENG\n"
     ]
    },
    {
     "name": "stderr",
     "output_type": "stream",
     "text": [
      "\n",
      "Processing 1993_The.Firm.1993.720p.BluRay.X264-AMIABLE:   0%| | 0/10 [00:00<?, ?\u001b[A\n",
      "Processing 1993_The.Firm.1993.720p.BluRay.X264-AMIABLE:  10%| | 1/10 [00:02<00:2\u001b[A\n",
      "Processing 1993_The.Firm.1993.720p.BluRay.X264-AMIABLE:  20%|▏| 2/10 [00:05<00:2\u001b[A\n",
      "Processing 1993_The.Firm.1993.720p.BluRay.X264-AMIABLE:  30%|▎| 3/10 [00:08<00:2\u001b[A\n",
      "Processing 1993_The.Firm.1993.720p.BluRay.X264-AMIABLE:  40%|▍| 4/10 [00:12<00:2\u001b[A\n",
      "Processing 1993_The.Firm.1993.720p.BluRay.X264-AMIABLE:  50%|▌| 5/10 [00:15<00:1\u001b[A\n",
      "Processing 1993_The.Firm.1993.720p.BluRay.X264-AMIABLE:  60%|▌| 6/10 [00:18<00:1\u001b[A\n",
      "Processing 1993_The.Firm.1993.720p.BluRay.X264-AMIABLE:  70%|▋| 7/10 [00:21<00:0\u001b[A\n",
      "Processing 1993_The.Firm.1993.720p.BluRay.X264-AMIABLE:  80%|▊| 8/10 [00:23<00:0\u001b[A\n",
      "Processing 1993_The.Firm.1993.720p.BluRay.X264-AMIABLE:  90%|▉| 9/10 [00:26<00:0\u001b[A\n",
      "Processing 1993_The.Firm.1993.720p.BluRay.X264-AMIABLE: 100%|█| 10/10 [00:28<00:\u001b[A\n",
      "Scoring movies:  36%|███████▌             | 160/443 [1:03:09<1:47:16, 22.74s/it]\u001b[A"
     ]
    },
    {
     "name": "stdout",
     "output_type": "stream",
     "text": [
      "✅ Finished scoring: 1993_The.Firm.1993.720p.BluRay.X264-AMIABLE\n"
     ]
    },
    {
     "name": "stderr",
     "output_type": "stream",
     "text": [
      "\n",
      "Processing 1984_Police.Academy.1984.720p.BluRay.X264-AMIABLE:   0%| | 0/6 [00:00\u001b[A\n",
      "Processing 1984_Police.Academy.1984.720p.BluRay.X264-AMIABLE:  17%|▏| 1/6 [00:03\u001b[A\n",
      "Processing 1984_Police.Academy.1984.720p.BluRay.X264-AMIABLE:  33%|▎| 2/6 [00:05\u001b[A\n",
      "Processing 1984_Police.Academy.1984.720p.BluRay.X264-AMIABLE:  50%|▌| 3/6 [00:08\u001b[A\n",
      "Processing 1984_Police.Academy.1984.720p.BluRay.X264-AMIABLE:  67%|▋| 4/6 [00:11\u001b[A\n",
      "Processing 1984_Police.Academy.1984.720p.BluRay.X264-AMIABLE:  83%|▊| 5/6 [00:14\u001b[A\n",
      "Processing 1984_Police.Academy.1984.720p.BluRay.X264-AMIABLE: 100%|█| 6/6 [00:17\u001b[A\n",
      "Scoring movies:  36%|███████▋             | 161/443 [1:03:27<1:39:36, 21.19s/it]\u001b[A"
     ]
    },
    {
     "name": "stdout",
     "output_type": "stream",
     "text": [
      "✅ Finished scoring: 1984_Police.Academy.1984.720p.BluRay.X264-AMIABLE\n"
     ]
    },
    {
     "name": "stderr",
     "output_type": "stream",
     "text": [
      "\n",
      "Processing 2020_Bad.Boys.for.Life.2020.1080p.HDRip.X264.AC3-EVO:   0%| | 0/10 [0\u001b[A\n",
      "Processing 2020_Bad.Boys.for.Life.2020.1080p.HDRip.X264.AC3-EVO:  10%| | 1/10 [0\u001b[A\n",
      "Processing 2020_Bad.Boys.for.Life.2020.1080p.HDRip.X264.AC3-EVO:  20%|▏| 2/10 [0\u001b[A\n",
      "Processing 2020_Bad.Boys.for.Life.2020.1080p.HDRip.X264.AC3-EVO:  30%|▎| 3/10 [0\u001b[A\n",
      "Processing 2020_Bad.Boys.for.Life.2020.1080p.HDRip.X264.AC3-EVO:  40%|▍| 4/10 [0\u001b[A\n",
      "Processing 2020_Bad.Boys.for.Life.2020.1080p.HDRip.X264.AC3-EVO:  50%|▌| 5/10 [0\u001b[A\n",
      "Processing 2020_Bad.Boys.for.Life.2020.1080p.HDRip.X264.AC3-EVO:  60%|▌| 6/10 [0\u001b[A\n",
      "Processing 2020_Bad.Boys.for.Life.2020.1080p.HDRip.X264.AC3-EVO:  70%|▋| 7/10 [0\u001b[A"
     ]
    },
    {
     "name": "stdout",
     "output_type": "stream",
     "text": [
      "⚠️ Rate limit hit. Waiting 60 seconds...\n"
     ]
    },
    {
     "name": "stderr",
     "output_type": "stream",
     "text": [
      "\n",
      "Processing 2020_Bad.Boys.for.Life.2020.1080p.HDRip.X264.AC3-EVO:  80%|▊| 8/10 [0\u001b[A\n",
      "Processing 2020_Bad.Boys.for.Life.2020.1080p.HDRip.X264.AC3-EVO:  90%|▉| 9/10 [0\u001b[A\n",
      "Processing 2020_Bad.Boys.for.Life.2020.1080p.HDRip.X264.AC3-EVO: 100%|█| 10/10 [\u001b[A\n",
      "Scoring movies:  37%|███████▋             | 162/443 [1:04:56<3:14:45, 41.59s/it]\u001b[A"
     ]
    },
    {
     "name": "stdout",
     "output_type": "stream",
     "text": [
      "✅ Finished scoring: 2020_Bad.Boys.for.Life.2020.1080p.HDRip.X264.AC3-EVO\n"
     ]
    },
    {
     "name": "stderr",
     "output_type": "stream",
     "text": [
      "\n",
      "Processing 1985_Beverly. Hills. Cop. 1984. 720p. BluRay. x264. DTS-WiKi. eng:   \u001b[A\n",
      "Processing 1985_Beverly. Hills. Cop. 1984. 720p. BluRay. x264. DTS-WiKi. eng:  1\u001b[A\n",
      "Processing 1985_Beverly. Hills. Cop. 1984. 720p. BluRay. x264. DTS-WiKi. eng:  3\u001b[A\n",
      "Processing 1985_Beverly. Hills. Cop. 1984. 720p. BluRay. x264. DTS-WiKi. eng:  5\u001b[A\n",
      "Processing 1985_Beverly. Hills. Cop. 1984. 720p. BluRay. x264. DTS-WiKi. eng:  6\u001b[A\n",
      "Processing 1985_Beverly. Hills. Cop. 1984. 720p. BluRay. x264. DTS-WiKi. eng:  8\u001b[A\n",
      "Processing 1985_Beverly. Hills. Cop. 1984. 720p. BluRay. x264. DTS-WiKi. eng: 10\u001b[A\n",
      "Scoring movies:  37%|███████▋             | 163/443 [1:05:14<2:41:12, 34.54s/it]\u001b[A"
     ]
    },
    {
     "name": "stdout",
     "output_type": "stream",
     "text": [
      "✅ Finished scoring: 1985_Beverly. Hills. Cop. 1984. 720p. BluRay. x264. DTS-WiKi. eng\n"
     ]
    },
    {
     "name": "stderr",
     "output_type": "stream",
     "text": [
      "\n",
      "Processing 2004_The.Passion.Of.The.Christ.2004.DVDRip.AC3.XviD-OS.iLUMiNADOS.ENG\u001b[A\n",
      "Processing 2004_The.Passion.Of.The.Christ.2004.DVDRip.AC3.XviD-OS.iLUMiNADOS.ENG\u001b[A\n",
      "Processing 2004_The.Passion.Of.The.Christ.2004.DVDRip.AC3.XviD-OS.iLUMiNADOS.ENG\u001b[A\n",
      "Processing 2004_The.Passion.Of.The.Christ.2004.DVDRip.AC3.XviD-OS.iLUMiNADOS.ENG\u001b[A\n",
      "Scoring movies:  37%|███████▊             | 164/443 [1:05:23<2:05:25, 26.97s/it]\u001b[A"
     ]
    },
    {
     "name": "stdout",
     "output_type": "stream",
     "text": [
      "✅ Finished scoring: 2004_The.Passion.Of.The.Christ.2004.DVDRip.AC3.XviD-OS.iLUMiNADOS.ENG\n"
     ]
    },
    {
     "name": "stderr",
     "output_type": "stream",
     "text": [
      "\n",
      "Processing 2004_Shark Tale.en:   0%|                      | 0/7 [00:00<?, ?it/s]\u001b[A\n",
      "Processing 2004_Shark Tale.en:  14%|██            | 1/7 [00:02<00:15,  2.52s/it]\u001b[A\n",
      "Processing 2004_Shark Tale.en:  29%|████          | 2/7 [00:05<00:14,  2.90s/it]\u001b[A\n",
      "Processing 2004_Shark Tale.en:  43%|██████        | 3/7 [00:08<00:10,  2.69s/it]\u001b[A\n",
      "Processing 2004_Shark Tale.en:  57%|████████      | 4/7 [00:10<00:08,  2.76s/it]\u001b[A\n",
      "Processing 2004_Shark Tale.en:  71%|██████████    | 5/7 [00:14<00:06,  3.14s/it]\u001b[A\n",
      "Processing 2004_Shark Tale.en:  86%|████████████  | 6/7 [00:17<00:03,  3.04s/it]\u001b[A\n",
      "Processing 2004_Shark Tale.en: 100%|██████████████| 7/7 [00:20<00:00,  2.90s/it]\u001b[A\n",
      "Scoring movies:  37%|███████▊             | 165/443 [1:05:44<1:55:38, 24.96s/it]\u001b[A"
     ]
    },
    {
     "name": "stdout",
     "output_type": "stream",
     "text": [
      "✅ Finished scoring: 2004_Shark Tale.en\n"
     ]
    },
    {
     "name": "stderr",
     "output_type": "stream",
     "text": [
      "\n",
      "Processing 2015_Cinderella. 2015. 720p. BluRay. x264-SPARKS:   0%| | 0/9 [00:00<\u001b[A\n",
      "Processing 2015_Cinderella. 2015. 720p. BluRay. x264-SPARKS:  11%| | 1/9 [00:03<\u001b[A\n",
      "Processing 2015_Cinderella. 2015. 720p. BluRay. x264-SPARKS:  22%|▏| 2/9 [00:05<\u001b[A\n",
      "Processing 2015_Cinderella. 2015. 720p. BluRay. x264-SPARKS:  33%|▎| 3/9 [00:08<\u001b[A\n",
      "Processing 2015_Cinderella. 2015. 720p. BluRay. x264-SPARKS:  44%|▍| 4/9 [00:10<\u001b[A\n",
      "Processing 2015_Cinderella. 2015. 720p. BluRay. x264-SPARKS:  56%|▌| 5/9 [00:13<\u001b[A\n",
      "Processing 2015_Cinderella. 2015. 720p. BluRay. x264-SPARKS:  67%|▋| 6/9 [00:17<\u001b[A\n",
      "Processing 2015_Cinderella. 2015. 720p. BluRay. x264-SPARKS:  78%|▊| 7/9 [00:20<\u001b[A\n",
      "Processing 2015_Cinderella. 2015. 720p. BluRay. x264-SPARKS:  89%|▉| 8/9 [00:23<\u001b[A\n",
      "Processing 2015_Cinderella. 2015. 720p. BluRay. x264-SPARKS: 100%|█| 9/9 [00:26<\u001b[A\n",
      "Scoring movies:  37%|███████▊             | 166/443 [1:06:10<1:56:45, 25.29s/it]\u001b[A"
     ]
    },
    {
     "name": "stdout",
     "output_type": "stream",
     "text": [
      "✅ Finished scoring: 2015_Cinderella. 2015. 720p. BluRay. x264-SPARKS\n"
     ]
    },
    {
     "name": "stderr",
     "output_type": "stream",
     "text": [
      "\n",
      "Processing 1987_Beverly.Hills.Cop.II.1987.720p.BluRay.x264.DTS-WiKi.eng:   0%| |\u001b[A\n",
      "Processing 1987_Beverly.Hills.Cop.II.1987.720p.BluRay.x264.DTS-WiKi.eng:  12%|▏|\u001b[A\n",
      "Processing 1987_Beverly.Hills.Cop.II.1987.720p.BluRay.x264.DTS-WiKi.eng:  25%|▎|\u001b[A\n",
      "Processing 1987_Beverly.Hills.Cop.II.1987.720p.BluRay.x264.DTS-WiKi.eng:  38%|▍|\u001b[A\n",
      "Processing 1987_Beverly.Hills.Cop.II.1987.720p.BluRay.x264.DTS-WiKi.eng:  50%|▌|\u001b[A\n",
      "Processing 1987_Beverly.Hills.Cop.II.1987.720p.BluRay.x264.DTS-WiKi.eng:  62%|▋|\u001b[A\n",
      "Processing 1987_Beverly.Hills.Cop.II.1987.720p.BluRay.x264.DTS-WiKi.eng:  75%|▊|\u001b[A\n",
      "Processing 1987_Beverly.Hills.Cop.II.1987.720p.BluRay.x264.DTS-WiKi.eng:  88%|▉|\u001b[A\n",
      "Processing 1987_Beverly.Hills.Cop.II.1987.720p.BluRay.x264.DTS-WiKi.eng: 100%|█|\u001b[A\n",
      "Scoring movies:  38%|███████▉             | 167/443 [1:06:36<1:58:27, 25.75s/it]\u001b[A"
     ]
    },
    {
     "name": "stdout",
     "output_type": "stream",
     "text": [
      "✅ Finished scoring: 1987_Beverly.Hills.Cop.II.1987.720p.BluRay.x264.DTS-WiKi.eng\n"
     ]
    },
    {
     "name": "stderr",
     "output_type": "stream",
     "text": [
      "\n",
      "Processing 2006_Casino.Royale.2006.DVD9.720p.BluRay.DTS.x264-REVEiLLE.ENG:   0%|\u001b[A\n",
      "Processing 2006_Casino.Royale.2006.DVD9.720p.BluRay.DTS.x264-REVEiLLE.ENG:  17%|\u001b[A\n",
      "Processing 2006_Casino.Royale.2006.DVD9.720p.BluRay.DTS.x264-REVEiLLE.ENG:  33%|\u001b[A\n",
      "Processing 2006_Casino.Royale.2006.DVD9.720p.BluRay.DTS.x264-REVEiLLE.ENG:  50%|\u001b[A\n",
      "Processing 2006_Casino.Royale.2006.DVD9.720p.BluRay.DTS.x264-REVEiLLE.ENG:  67%|\u001b[A\n",
      "Processing 2006_Casino.Royale.2006.DVD9.720p.BluRay.DTS.x264-REVEiLLE.ENG:  83%|\u001b[A\n",
      "Processing 2006_Casino.Royale.2006.DVD9.720p.BluRay.DTS.x264-REVEiLLE.ENG: 100%|\u001b[A\n",
      "Scoring movies:  38%|███████▉             | 168/443 [1:06:56<1:49:52, 23.97s/it]\u001b[A"
     ]
    },
    {
     "name": "stdout",
     "output_type": "stream",
     "text": [
      "✅ Finished scoring: 2006_Casino.Royale.2006.DVD9.720p.BluRay.DTS.x264-REVEiLLE.ENG\n"
     ]
    },
    {
     "name": "stderr",
     "output_type": "stream",
     "text": [
      "\n",
      "Processing 2021_A.Quiet.Place.Part.II.2020.PROPER.1080p.WEB-DL.DDP5.1.Atmos.H264\u001b[A\n",
      "Processing 2021_A.Quiet.Place.Part.II.2020.PROPER.1080p.WEB-DL.DDP5.1.Atmos.H264\u001b[A\n",
      "Processing 2021_A.Quiet.Place.Part.II.2020.PROPER.1080p.WEB-DL.DDP5.1.Atmos.H264\u001b[A\n",
      "Scoring movies:  38%|████████             | 169/443 [1:07:01<1:23:43, 18.33s/it]\u001b[A"
     ]
    },
    {
     "name": "stdout",
     "output_type": "stream",
     "text": [
      "✅ Finished scoring: 2021_A.Quiet.Place.Part.II.2020.PROPER.1080p.WEB-DL.DDP5.1.Atmos.H264-CMRG\n"
     ]
    },
    {
     "name": "stderr",
     "output_type": "stream",
     "text": [
      "\n",
      "Processing 2019_It.Chapter.Two.2019.HDRip.XviD.AC3-EVO:   0%| | 0/14 [00:00<?, ?\u001b[A\n",
      "Processing 2019_It.Chapter.Two.2019.HDRip.XviD.AC3-EVO:   7%| | 1/14 [00:02<00:3\u001b[A\n",
      "Processing 2019_It.Chapter.Two.2019.HDRip.XviD.AC3-EVO:  14%|▏| 2/14 [00:05<00:3\u001b[A\n",
      "Processing 2019_It.Chapter.Two.2019.HDRip.XviD.AC3-EVO:  21%|▏| 3/14 [00:07<00:2\u001b[A\n",
      "Processing 2019_It.Chapter.Two.2019.HDRip.XviD.AC3-EVO:  29%|▎| 4/14 [00:10<00:2\u001b[A\n",
      "Processing 2019_It.Chapter.Two.2019.HDRip.XviD.AC3-EVO:  36%|▎| 5/14 [00:13<00:2\u001b[A\n",
      "Processing 2019_It.Chapter.Two.2019.HDRip.XviD.AC3-EVO:  43%|▍| 6/14 [00:15<00:2\u001b[A\n",
      "Processing 2019_It.Chapter.Two.2019.HDRip.XviD.AC3-EVO:  50%|▌| 7/14 [00:19<00:1\u001b[A\n",
      "Processing 2019_It.Chapter.Two.2019.HDRip.XviD.AC3-EVO:  57%|▌| 8/14 [00:22<00:1\u001b[A\n",
      "Processing 2019_It.Chapter.Two.2019.HDRip.XviD.AC3-EVO:  64%|▋| 9/14 [00:24<00:1\u001b[A\n",
      "Processing 2019_It.Chapter.Two.2019.HDRip.XviD.AC3-EVO:  71%|▋| 10/14 [00:27<00:\u001b[A\n",
      "Processing 2019_It.Chapter.Two.2019.HDRip.XviD.AC3-EVO:  79%|▊| 11/14 [00:30<00:\u001b[A\n",
      "Processing 2019_It.Chapter.Two.2019.HDRip.XviD.AC3-EVO:  86%|▊| 12/14 [00:33<00:\u001b[A\n",
      "Processing 2019_It.Chapter.Two.2019.HDRip.XviD.AC3-EVO:  93%|▉| 13/14 [00:37<00:\u001b[A\n",
      "Processing 2019_It.Chapter.Two.2019.HDRip.XviD.AC3-EVO: 100%|█| 14/14 [00:40<00:\u001b[A\n",
      "Scoring movies:  38%|████████             | 170/443 [1:07:42<1:53:10, 24.87s/it]\u001b[A"
     ]
    },
    {
     "name": "stdout",
     "output_type": "stream",
     "text": [
      "✅ Finished scoring: 2019_It.Chapter.Two.2019.HDRip.XviD.AC3-EVO\n"
     ]
    },
    {
     "name": "stderr",
     "output_type": "stream",
     "text": [
      "\n",
      "Processing 2013_Fast.And.Furious.6.2013.1080p.WEB-DL.H264-BLUEBIRD:   0%| | 0/9 \u001b[A\n",
      "Processing 2013_Fast.And.Furious.6.2013.1080p.WEB-DL.H264-BLUEBIRD:  11%| | 1/9 \u001b[A\n",
      "Processing 2013_Fast.And.Furious.6.2013.1080p.WEB-DL.H264-BLUEBIRD:  22%|▏| 2/9 \u001b[A\n",
      "Processing 2013_Fast.And.Furious.6.2013.1080p.WEB-DL.H264-BLUEBIRD:  33%|▎| 3/9 \u001b[A\n",
      "Processing 2013_Fast.And.Furious.6.2013.1080p.WEB-DL.H264-BLUEBIRD:  44%|▍| 4/9 \u001b[A\n",
      "Processing 2013_Fast.And.Furious.6.2013.1080p.WEB-DL.H264-BLUEBIRD:  56%|▌| 5/9 \u001b[A\n",
      "Processing 2013_Fast.And.Furious.6.2013.1080p.WEB-DL.H264-BLUEBIRD:  67%|▋| 6/9 \u001b[A\n",
      "Processing 2013_Fast.And.Furious.6.2013.1080p.WEB-DL.H264-BLUEBIRD:  78%|▊| 7/9 \u001b[A\n",
      "Processing 2013_Fast.And.Furious.6.2013.1080p.WEB-DL.H264-BLUEBIRD:  89%|▉| 8/9 \u001b[A\n",
      "Processing 2013_Fast.And.Furious.6.2013.1080p.WEB-DL.H264-BLUEBIRD: 100%|█| 9/9 \u001b[A\n",
      "Scoring movies:  39%|████████             | 171/443 [1:08:10<1:57:05, 25.83s/it]\u001b[A"
     ]
    },
    {
     "name": "stdout",
     "output_type": "stream",
     "text": [
      "✅ Finished scoring: 2013_Fast.And.Furious.6.2013.1080p.WEB-DL.H264-BLUEBIRD\n"
     ]
    },
    {
     "name": "stderr",
     "output_type": "stream",
     "text": [
      "\n",
      "Processing 1981_the cannonball run eng bluray:   0%|      | 0/8 [00:00<?, ?it/s]\u001b[A\n",
      "Processing 1981_the cannonball run eng bluray:  12%|▏| 1/8 [00:03<00:23,  3.35s/\u001b[A\n",
      "Processing 1981_the cannonball run eng bluray:  25%|▎| 2/8 [00:06<00:19,  3.23s/\u001b[A\n",
      "Processing 1981_the cannonball run eng bluray:  38%|▍| 3/8 [00:09<00:16,  3.22s/\u001b[A\n",
      "Processing 1981_the cannonball run eng bluray:  50%|▌| 4/8 [00:13<00:13,  3.40s/\u001b[A\n",
      "Processing 1981_the cannonball run eng bluray:  62%|▋| 5/8 [00:16<00:09,  3.17s/\u001b[A\n",
      "Processing 1981_the cannonball run eng bluray:  75%|▊| 6/8 [00:19<00:06,  3.27s/\u001b[A\n",
      "Processing 1981_the cannonball run eng bluray:  88%|▉| 7/8 [00:22<00:03,  3.21s/\u001b[A\n",
      "Processing 1981_the cannonball run eng bluray: 100%|█| 8/8 [00:25<00:00,  3.18s/\u001b[A\n",
      "Scoring movies:  39%|████████▏            | 172/443 [1:08:36<1:56:39, 25.83s/it]\u001b[A"
     ]
    },
    {
     "name": "stdout",
     "output_type": "stream",
     "text": [
      "✅ Finished scoring: 1981_the cannonball run eng bluray\n"
     ]
    },
    {
     "name": "stderr",
     "output_type": "stream",
     "text": [
      "\n",
      "Processing 1988_Die.Hard.1988.Bluray.1080p.DTSMA.x264.dxva-FraMeSToR.ENG:   0%| \u001b[A\n",
      "Processing 1988_Die.Hard.1988.Bluray.1080p.DTSMA.x264.dxva-FraMeSToR.ENG:  11%| \u001b[A\n",
      "Processing 1988_Die.Hard.1988.Bluray.1080p.DTSMA.x264.dxva-FraMeSToR.ENG:  22%|▏\u001b[A\n",
      "Processing 1988_Die.Hard.1988.Bluray.1080p.DTSMA.x264.dxva-FraMeSToR.ENG:  33%|▎\u001b[A\n",
      "Processing 1988_Die.Hard.1988.Bluray.1080p.DTSMA.x264.dxva-FraMeSToR.ENG:  44%|▍\u001b[A\n",
      "Processing 1988_Die.Hard.1988.Bluray.1080p.DTSMA.x264.dxva-FraMeSToR.ENG:  56%|▌\u001b[A\n",
      "Processing 1988_Die.Hard.1988.Bluray.1080p.DTSMA.x264.dxva-FraMeSToR.ENG:  67%|▋\u001b[A\n",
      "Processing 1988_Die.Hard.1988.Bluray.1080p.DTSMA.x264.dxva-FraMeSToR.ENG:  78%|▊\u001b[A\n",
      "Processing 1988_Die.Hard.1988.Bluray.1080p.DTSMA.x264.dxva-FraMeSToR.ENG:  89%|▉\u001b[A\n",
      "Processing 1988_Die.Hard.1988.Bluray.1080p.DTSMA.x264.dxva-FraMeSToR.ENG: 100%|█\u001b[A\n",
      "Scoring movies:  39%|████████▏            | 173/443 [1:09:05<2:00:36, 26.80s/it]\u001b[A"
     ]
    },
    {
     "name": "stdout",
     "output_type": "stream",
     "text": [
      "✅ Finished scoring: 1988_Die.Hard.1988.Bluray.1080p.DTSMA.x264.dxva-FraMeSToR.ENG\n"
     ]
    },
    {
     "name": "stderr",
     "output_type": "stream",
     "text": [
      "\n",
      "Processing 1994_The.Mask.1994.BluRay.1080p.DTS.x264.dxva-EuReKA.ENG:   0%| | 0/6\u001b[A\n",
      "Processing 1994_The.Mask.1994.BluRay.1080p.DTS.x264.dxva-EuReKA.ENG:  17%|▏| 1/6\u001b[A\n",
      "Processing 1994_The.Mask.1994.BluRay.1080p.DTS.x264.dxva-EuReKA.ENG:  33%|▎| 2/6\u001b[A\n",
      "Processing 1994_The.Mask.1994.BluRay.1080p.DTS.x264.dxva-EuReKA.ENG:  50%|▌| 3/6\u001b[A\n",
      "Processing 1994_The.Mask.1994.BluRay.1080p.DTS.x264.dxva-EuReKA.ENG:  67%|▋| 4/6\u001b[A\n",
      "Processing 1994_The.Mask.1994.BluRay.1080p.DTS.x264.dxva-EuReKA.ENG:  83%|▊| 5/6\u001b[A\n",
      "Processing 1994_The.Mask.1994.BluRay.1080p.DTS.x264.dxva-EuReKA.ENG: 100%|█| 6/6\u001b[A\n",
      "Scoring movies:  39%|████████▏            | 174/443 [1:09:24<1:50:00, 24.54s/it]\u001b[A"
     ]
    },
    {
     "name": "stdout",
     "output_type": "stream",
     "text": [
      "✅ Finished scoring: 1994_The.Mask.1994.BluRay.1080p.DTS.x264.dxva-EuReKA.ENG\n"
     ]
    },
    {
     "name": "stderr",
     "output_type": "stream",
     "text": [
      "\n",
      "Processing 1984_Ghostbusters.1984.SE.DVDRip.XviD-UnSeeN.en:   0%| | 0/7 [00:00<?\u001b[A\n",
      "Processing 1984_Ghostbusters.1984.SE.DVDRip.XviD-UnSeeN.en:  14%|▏| 1/7 [00:03<0\u001b[A"
     ]
    },
    {
     "name": "stdout",
     "output_type": "stream",
     "text": [
      "⚠️ Rate limit hit. Waiting 60 seconds...\n"
     ]
    },
    {
     "name": "stderr",
     "output_type": "stream",
     "text": [
      "\n",
      "Processing 1984_Ghostbusters.1984.SE.DVDRip.XviD-UnSeeN.en:  29%|▎| 2/7 [01:06<0\u001b[A\n",
      "Processing 1984_Ghostbusters.1984.SE.DVDRip.XviD-UnSeeN.en:  43%|▍| 3/7 [01:09<0\u001b[A\n",
      "Processing 1984_Ghostbusters.1984.SE.DVDRip.XviD-UnSeeN.en:  57%|▌| 4/7 [01:13<0\u001b[A\n",
      "Processing 1984_Ghostbusters.1984.SE.DVDRip.XviD-UnSeeN.en:  71%|▋| 5/7 [01:16<0\u001b[A\n",
      "Processing 1984_Ghostbusters.1984.SE.DVDRip.XviD-UnSeeN.en:  86%|▊| 6/7 [01:20<0\u001b[A\n",
      "Processing 1984_Ghostbusters.1984.SE.DVDRip.XviD-UnSeeN.en: 100%|█| 7/7 [01:23<0\u001b[A\n",
      "Scoring movies:  40%|████████▎            | 175/443 [1:10:47<3:08:26, 42.19s/it]\u001b[A"
     ]
    },
    {
     "name": "stdout",
     "output_type": "stream",
     "text": [
      "✅ Finished scoring: 1984_Ghostbusters.1984.SE.DVDRip.XviD-UnSeeN.en\n"
     ]
    },
    {
     "name": "stderr",
     "output_type": "stream",
     "text": [
      "\n",
      "Processing 2002_Harry.Potter.and.the.Chamber.of.Secrets.2002.720p.HDDVD.DTS.x264\u001b[A\n",
      "Processing 2002_Harry.Potter.and.the.Chamber.of.Secrets.2002.720p.HDDVD.DTS.x264\u001b[A\n",
      "Processing 2002_Harry.Potter.and.the.Chamber.of.Secrets.2002.720p.HDDVD.DTS.x264\u001b[A\n",
      "Processing 2002_Harry.Potter.and.the.Chamber.of.Secrets.2002.720p.HDDVD.DTS.x264\u001b[A\n",
      "Processing 2002_Harry.Potter.and.the.Chamber.of.Secrets.2002.720p.HDDVD.DTS.x264\u001b[A\n",
      "Processing 2002_Harry.Potter.and.the.Chamber.of.Secrets.2002.720p.HDDVD.DTS.x264\u001b[A\n",
      "Processing 2002_Harry.Potter.and.the.Chamber.of.Secrets.2002.720p.HDDVD.DTS.x264\u001b[A\n",
      "Processing 2002_Harry.Potter.and.the.Chamber.of.Secrets.2002.720p.HDDVD.DTS.x264\u001b[A\n",
      "Processing 2002_Harry.Potter.and.the.Chamber.of.Secrets.2002.720p.HDDVD.DTS.x264\u001b[A\n",
      "Processing 2002_Harry.Potter.and.the.Chamber.of.Secrets.2002.720p.HDDVD.DTS.x264\u001b[A\n",
      "Scoring movies:  40%|████████▎            | 176/443 [1:11:15<2:48:49, 37.94s/it]\u001b[A"
     ]
    },
    {
     "name": "stdout",
     "output_type": "stream",
     "text": [
      "✅ Finished scoring: 2002_Harry.Potter.and.the.Chamber.of.Secrets.2002.720p.HDDVD.DTS.x264-ESiR.ENG\n"
     ]
    },
    {
     "name": "stderr",
     "output_type": "stream",
     "text": [
      "\n",
      "Processing 1992_Under.Siege.1992.1080p.Bluray.x264-Q.ENG:   0%| | 0/7 [00:00<?, \u001b[A\n",
      "Processing 1992_Under.Siege.1992.1080p.Bluray.x264-Q.ENG:  14%|▏| 1/7 [00:03<00:\u001b[A\n",
      "Processing 1992_Under.Siege.1992.1080p.Bluray.x264-Q.ENG:  29%|▎| 2/7 [00:05<00:\u001b[A\n",
      "Processing 1992_Under.Siege.1992.1080p.Bluray.x264-Q.ENG:  43%|▍| 3/7 [00:08<00:\u001b[A\n",
      "Processing 1992_Under.Siege.1992.1080p.Bluray.x264-Q.ENG:  57%|▌| 4/7 [00:10<00:\u001b[A\n",
      "Processing 1992_Under.Siege.1992.1080p.Bluray.x264-Q.ENG:  71%|▋| 5/7 [00:13<00:\u001b[A\n",
      "Processing 1992_Under.Siege.1992.1080p.Bluray.x264-Q.ENG:  86%|▊| 6/7 [00:16<00:\u001b[A\n",
      "Processing 1992_Under.Siege.1992.1080p.Bluray.x264-Q.ENG: 100%|█| 7/7 [00:19<00:\u001b[A\n",
      "Scoring movies:  40%|████████▍            | 177/443 [1:11:35<2:23:47, 32.43s/it]\u001b[A"
     ]
    },
    {
     "name": "stdout",
     "output_type": "stream",
     "text": [
      "✅ Finished scoring: 1992_Under.Siege.1992.1080p.Bluray.x264-Q.ENG\n"
     ]
    },
    {
     "name": "stderr",
     "output_type": "stream",
     "text": [
      "\n",
      "Processing 1983_Tootsie:   0%|                           | 0/10 [00:00<?, ?it/s]\u001b[A\n",
      "Processing 1983_Tootsie:  10%|█▉                 | 1/10 [00:02<00:22,  2.54s/it]\u001b[A\n",
      "Processing 1983_Tootsie:  20%|███▊               | 2/10 [00:05<00:21,  2.71s/it]\u001b[A\n",
      "Processing 1983_Tootsie:  30%|█████▋             | 3/10 [00:07<00:18,  2.62s/it]\u001b[A\n",
      "Processing 1983_Tootsie:  40%|███████▌           | 4/10 [00:10<00:15,  2.65s/it]\u001b[A\n",
      "Processing 1983_Tootsie:  50%|█████████▌         | 5/10 [00:13<00:13,  2.65s/it]\u001b[A\n",
      "Processing 1983_Tootsie:  60%|███████████▍       | 6/10 [00:16<00:11,  2.77s/it]\u001b[A\n",
      "Processing 1983_Tootsie:  70%|█████████████▎     | 7/10 [00:19<00:08,  2.89s/it]\u001b[A\n",
      "Processing 1983_Tootsie:  80%|███████████████▏   | 8/10 [00:22<00:05,  2.82s/it]\u001b[A\n",
      "Processing 1983_Tootsie:  90%|█████████████████  | 9/10 [00:24<00:02,  2.78s/it]\u001b[A\n",
      "Processing 1983_Tootsie: 100%|██████████████████| 10/10 [00:27<00:00,  2.70s/it]\u001b[A\n",
      "Scoring movies:  40%|████████▍            | 178/443 [1:12:02<2:16:24, 30.89s/it]\u001b[A"
     ]
    },
    {
     "name": "stdout",
     "output_type": "stream",
     "text": [
      "✅ Finished scoring: 1983_Tootsie\n"
     ]
    },
    {
     "name": "stderr",
     "output_type": "stream",
     "text": [
      "\n",
      "Processing 2021_Free.Guy.2021.BDRip.XviD.AC3-EVO.v2:   0%| | 0/11 [00:00<?, ?it/\u001b[A\n",
      "Processing 2021_Free.Guy.2021.BDRip.XviD.AC3-EVO.v2:   9%| | 1/11 [00:03<00:32, \u001b[A\n",
      "Processing 2021_Free.Guy.2021.BDRip.XviD.AC3-EVO.v2:  18%|▏| 2/11 [00:06<00:30, \u001b[A\n",
      "Processing 2021_Free.Guy.2021.BDRip.XviD.AC3-EVO.v2:  27%|▎| 3/11 [00:09<00:24, \u001b[A\n",
      "Processing 2021_Free.Guy.2021.BDRip.XviD.AC3-EVO.v2:  36%|▎| 4/11 [00:12<00:21, \u001b[A\n",
      "Processing 2021_Free.Guy.2021.BDRip.XviD.AC3-EVO.v2:  45%|▍| 5/11 [00:15<00:18, \u001b[A\n",
      "Processing 2021_Free.Guy.2021.BDRip.XviD.AC3-EVO.v2:  55%|▌| 6/11 [00:17<00:14, \u001b[A\n",
      "Processing 2021_Free.Guy.2021.BDRip.XviD.AC3-EVO.v2:  64%|▋| 7/11 [00:20<00:11, \u001b[A\n",
      "Processing 2021_Free.Guy.2021.BDRip.XviD.AC3-EVO.v2:  73%|▋| 8/11 [00:24<00:09, \u001b[A\n",
      "Processing 2021_Free.Guy.2021.BDRip.XviD.AC3-EVO.v2:  82%|▊| 9/11 [00:27<00:05, \u001b[A\n",
      "Processing 2021_Free.Guy.2021.BDRip.XviD.AC3-EVO.v2:  91%|▉| 10/11 [00:29<00:02,\u001b[A\n",
      "Processing 2021_Free.Guy.2021.BDRip.XviD.AC3-EVO.v2: 100%|█| 11/11 [00:33<00:00,\u001b[A\n",
      "Scoring movies:  40%|████████▍            | 179/443 [1:12:35<2:19:10, 31.63s/it]\u001b[A"
     ]
    },
    {
     "name": "stdout",
     "output_type": "stream",
     "text": [
      "✅ Finished scoring: 2021_Free.Guy.2021.BDRip.XviD.AC3-EVO.v2\n"
     ]
    },
    {
     "name": "stderr",
     "output_type": "stream",
     "text": [
      "\n",
      "Processing 1979_10:   0%|                                 | 0/7 [00:00<?, ?it/s]\u001b[A\n",
      "Processing 1979_10:  14%|███▌                     | 1/7 [00:03<00:18,  3.05s/it]\u001b[A\n",
      "Processing 1979_10:  29%|███████▏                 | 2/7 [00:06<00:15,  3.13s/it]\u001b[A\n",
      "Processing 1979_10:  43%|██████████▋              | 3/7 [00:09<00:12,  3.17s/it]\u001b[A\n",
      "Processing 1979_10:  57%|██████████████▎          | 4/7 [00:12<00:09,  3.04s/it]\u001b[A\n",
      "Processing 1979_10:  71%|█████████████████▊       | 5/7 [00:14<00:05,  2.88s/it]\u001b[A\n",
      "Processing 1979_10:  86%|█████████████████████▍   | 6/7 [00:18<00:02,  2.97s/it]\u001b[A\n",
      "Processing 1979_10: 100%|█████████████████████████| 7/7 [00:21<00:00,  2.99s/it]\u001b[A\n",
      "Scoring movies:  41%|████████▌            | 180/443 [1:12:57<2:04:44, 28.46s/it]\u001b[A"
     ]
    },
    {
     "name": "stdout",
     "output_type": "stream",
     "text": [
      "✅ Finished scoring: 1979_10\n"
     ]
    },
    {
     "name": "stderr",
     "output_type": "stream",
     "text": [
      "\n",
      "Processing 1992_Aladdin.1992.1080p.BluRay.X264-AMIABLE:   0%| | 0/8 [00:00<?, ?i\u001b[A\n",
      "Processing 1992_Aladdin.1992.1080p.BluRay.X264-AMIABLE:  12%|▏| 1/8 [00:02<00:19\u001b[A\n",
      "Processing 1992_Aladdin.1992.1080p.BluRay.X264-AMIABLE:  25%|▎| 2/8 [00:05<00:16\u001b[A\n",
      "Processing 1992_Aladdin.1992.1080p.BluRay.X264-AMIABLE:  38%|▍| 3/8 [00:08<00:13\u001b[A\n",
      "Processing 1992_Aladdin.1992.1080p.BluRay.X264-AMIABLE:  50%|▌| 4/8 [00:11<00:11\u001b[A\n",
      "Processing 1992_Aladdin.1992.1080p.BluRay.X264-AMIABLE:  62%|▋| 5/8 [00:14<00:08\u001b[A\n",
      "Processing 1992_Aladdin.1992.1080p.BluRay.X264-AMIABLE:  75%|▊| 6/8 [00:17<00:06\u001b[A\n",
      "Processing 1992_Aladdin.1992.1080p.BluRay.X264-AMIABLE:  88%|▉| 7/8 [00:21<00:03\u001b[A\n",
      "Processing 1992_Aladdin.1992.1080p.BluRay.X264-AMIABLE: 100%|█| 8/8 [00:24<00:00\u001b[A\n",
      "Scoring movies:  41%|████████▌            | 181/443 [1:13:21<1:58:45, 27.20s/it]\u001b[A"
     ]
    },
    {
     "name": "stdout",
     "output_type": "stream",
     "text": [
      "✅ Finished scoring: 1992_Aladdin.1992.1080p.BluRay.X264-AMIABLE\n"
     ]
    },
    {
     "name": "stderr",
     "output_type": "stream",
     "text": [
      "\n",
      "Processing 1986_Out.Of.Africa.1985.REMASTERED.720p.BluRay.DTS.x264-PublicHD:   0\u001b[A\n",
      "Processing 1986_Out.Of.Africa.1985.REMASTERED.720p.BluRay.DTS.x264-PublicHD:  12\u001b[A\n",
      "Processing 1986_Out.Of.Africa.1985.REMASTERED.720p.BluRay.DTS.x264-PublicHD:  25\u001b[A\n",
      "Processing 1986_Out.Of.Africa.1985.REMASTERED.720p.BluRay.DTS.x264-PublicHD:  38\u001b[A\n",
      "Processing 1986_Out.Of.Africa.1985.REMASTERED.720p.BluRay.DTS.x264-PublicHD:  50\u001b[A\n",
      "Processing 1986_Out.Of.Africa.1985.REMASTERED.720p.BluRay.DTS.x264-PublicHD:  62\u001b[A\n",
      "Processing 1986_Out.Of.Africa.1985.REMASTERED.720p.BluRay.DTS.x264-PublicHD:  75\u001b[A\n",
      "Processing 1986_Out.Of.Africa.1985.REMASTERED.720p.BluRay.DTS.x264-PublicHD:  88\u001b[A\n",
      "Processing 1986_Out.Of.Africa.1985.REMASTERED.720p.BluRay.DTS.x264-PublicHD: 100\u001b[A\n",
      "Scoring movies:  41%|████████▋            | 182/443 [1:13:46<1:55:58, 26.66s/it]\u001b[A"
     ]
    },
    {
     "name": "stdout",
     "output_type": "stream",
     "text": [
      "✅ Finished scoring: 1986_Out.Of.Africa.1985.REMASTERED.720p.BluRay.DTS.x264-PublicHD\n"
     ]
    },
    {
     "name": "stderr",
     "output_type": "stream",
     "text": [
      "\n",
      "Processing 2003_Elf.2003.BDRE.720p.x264.AC3-SiLUHD.ENG:   0%| | 0/10 [00:00<?, ?\u001b[A\n",
      "Processing 2003_Elf.2003.BDRE.720p.x264.AC3-SiLUHD.ENG:  10%| | 1/10 [00:02<00:2\u001b[A\n",
      "Processing 2003_Elf.2003.BDRE.720p.x264.AC3-SiLUHD.ENG:  20%|▏| 2/10 [00:05<00:2\u001b[A\n",
      "Processing 2003_Elf.2003.BDRE.720p.x264.AC3-SiLUHD.ENG:  30%|▎| 3/10 [00:08<00:1\u001b[A\n",
      "Processing 2003_Elf.2003.BDRE.720p.x264.AC3-SiLUHD.ENG:  40%|▍| 4/10 [00:10<00:1\u001b[A\n",
      "Processing 2003_Elf.2003.BDRE.720p.x264.AC3-SiLUHD.ENG:  50%|▌| 5/10 [00:13<00:1\u001b[A\n",
      "Processing 2003_Elf.2003.BDRE.720p.x264.AC3-SiLUHD.ENG:  60%|▌| 6/10 [00:16<00:1\u001b[A\n",
      "Processing 2003_Elf.2003.BDRE.720p.x264.AC3-SiLUHD.ENG:  70%|▋| 7/10 [00:19<00:0\u001b[A\n",
      "Processing 2003_Elf.2003.BDRE.720p.x264.AC3-SiLUHD.ENG:  80%|▊| 8/10 [00:22<00:0\u001b[A\n",
      "Processing 2003_Elf.2003.BDRE.720p.x264.AC3-SiLUHD.ENG:  90%|▉| 9/10 [00:24<00:0\u001b[A\n",
      "Processing 2003_Elf.2003.BDRE.720p.x264.AC3-SiLUHD.ENG: 100%|█| 10/10 [00:27<00:\u001b[A\n",
      "Scoring movies:  41%|████████▋            | 183/443 [1:14:13<1:56:18, 26.84s/it]\u001b[A"
     ]
    },
    {
     "name": "stdout",
     "output_type": "stream",
     "text": [
      "✅ Finished scoring: 2003_Elf.2003.BDRE.720p.x264.AC3-SiLUHD.ENG\n"
     ]
    },
    {
     "name": "stderr",
     "output_type": "stream",
     "text": [
      "\n",
      "Processing 1988_Big.1988.Extended.Edition.720p.BluRay.x264.YIFY.eng:   0%| | 0/9\u001b[A\n",
      "Processing 1988_Big.1988.Extended.Edition.720p.BluRay.x264.YIFY.eng:  11%| | 1/9\u001b[A\n",
      "Processing 1988_Big.1988.Extended.Edition.720p.BluRay.x264.YIFY.eng:  22%|▏| 2/9\u001b[A\n",
      "Processing 1988_Big.1988.Extended.Edition.720p.BluRay.x264.YIFY.eng:  33%|▎| 3/9\u001b[A\n",
      "Processing 1988_Big.1988.Extended.Edition.720p.BluRay.x264.YIFY.eng:  44%|▍| 4/9\u001b[A\n",
      "Processing 1988_Big.1988.Extended.Edition.720p.BluRay.x264.YIFY.eng:  56%|▌| 5/9\u001b[A\n",
      "Processing 1988_Big.1988.Extended.Edition.720p.BluRay.x264.YIFY.eng:  67%|▋| 6/9\u001b[A\n",
      "Processing 1988_Big.1988.Extended.Edition.720p.BluRay.x264.YIFY.eng:  78%|▊| 7/9\u001b[A\n",
      "Processing 1988_Big.1988.Extended.Edition.720p.BluRay.x264.YIFY.eng:  89%|▉| 8/9\u001b[A\n",
      "Processing 1988_Big.1988.Extended.Edition.720p.BluRay.x264.YIFY.eng: 100%|█| 9/9\u001b[A\n",
      "Scoring movies:  42%|████████▋            | 184/443 [1:14:43<1:59:13, 27.62s/it]\u001b[A"
     ]
    },
    {
     "name": "stdout",
     "output_type": "stream",
     "text": [
      "✅ Finished scoring: 1988_Big.1988.Extended.Edition.720p.BluRay.x264.YIFY.eng\n"
     ]
    },
    {
     "name": "stderr",
     "output_type": "stream",
     "text": [
      "\n",
      "Processing 2003_Chicago.2002.PROPER.1080p.BluRay.x264-LCHD.ENG:   0%| | 0/11 [00\u001b[A\n",
      "Processing 2003_Chicago.2002.PROPER.1080p.BluRay.x264-LCHD.ENG:   9%| | 1/11 [00\u001b[A\n",
      "Processing 2003_Chicago.2002.PROPER.1080p.BluRay.x264-LCHD.ENG:  18%|▏| 2/11 [00\u001b[A\n",
      "Processing 2003_Chicago.2002.PROPER.1080p.BluRay.x264-LCHD.ENG:  27%|▎| 3/11 [00\u001b[A\n",
      "Processing 2003_Chicago.2002.PROPER.1080p.BluRay.x264-LCHD.ENG:  36%|▎| 4/11 [00\u001b[A\n",
      "Processing 2003_Chicago.2002.PROPER.1080p.BluRay.x264-LCHD.ENG:  45%|▍| 5/11 [00\u001b[A\n",
      "Processing 2003_Chicago.2002.PROPER.1080p.BluRay.x264-LCHD.ENG:  55%|▌| 6/11 [00\u001b[A\n",
      "Processing 2003_Chicago.2002.PROPER.1080p.BluRay.x264-LCHD.ENG:  64%|▋| 7/11 [00\u001b[A\n",
      "Processing 2003_Chicago.2002.PROPER.1080p.BluRay.x264-LCHD.ENG:  73%|▋| 8/11 [00\u001b[A\n",
      "Processing 2003_Chicago.2002.PROPER.1080p.BluRay.x264-LCHD.ENG:  82%|▊| 9/11 [00\u001b[A\n",
      "Processing 2003_Chicago.2002.PROPER.1080p.BluRay.x264-LCHD.ENG:  91%|▉| 10/11 [0\u001b[A\n",
      "Processing 2003_Chicago.2002.PROPER.1080p.BluRay.x264-LCHD.ENG: 100%|█| 11/11 [0\u001b[A\n",
      "Scoring movies:  42%|████████▊            | 185/443 [1:15:18<2:08:30, 29.89s/it]\u001b[A"
     ]
    },
    {
     "name": "stdout",
     "output_type": "stream",
     "text": [
      "✅ Finished scoring: 2003_Chicago.2002.PROPER.1080p.BluRay.x264-LCHD.ENG\n"
     ]
    },
    {
     "name": "stderr",
     "output_type": "stream",
     "text": [
      "\n",
      "Processing 1981_History.Of.The.World.Part.I.1981.1080p.BluRay.x264-CiNEFiLE.ENG:\u001b[A\n",
      "Processing 1981_History.Of.The.World.Part.I.1981.1080p.BluRay.x264-CiNEFiLE.ENG:\u001b[A\n",
      "Processing 1981_History.Of.The.World.Part.I.1981.1080p.BluRay.x264-CiNEFiLE.ENG:\u001b[A\n",
      "Processing 1981_History.Of.The.World.Part.I.1981.1080p.BluRay.x264-CiNEFiLE.ENG:\u001b[A\n",
      "Processing 1981_History.Of.The.World.Part.I.1981.1080p.BluRay.x264-CiNEFiLE.ENG:\u001b[A\n",
      "Processing 1981_History.Of.The.World.Part.I.1981.1080p.BluRay.x264-CiNEFiLE.ENG:\u001b[A\n",
      "Processing 1981_History.Of.The.World.Part.I.1981.1080p.BluRay.x264-CiNEFiLE.ENG:\u001b[A\n",
      "Scoring movies:  42%|████████▊            | 186/443 [1:15:38<1:54:49, 26.81s/it]\u001b[A"
     ]
    },
    {
     "name": "stdout",
     "output_type": "stream",
     "text": [
      "✅ Finished scoring: 1981_History.Of.The.World.Part.I.1981.1080p.BluRay.x264-CiNEFiLE.ENG\n"
     ]
    },
    {
     "name": "stderr",
     "output_type": "stream",
     "text": [
      "\n",
      "Processing 2023_Guardians.of.the.Galaxy.Vol.3.2023.1080p.WEB-DL.DDP5.1.Atmos.H.2\u001b[A\n",
      "Processing 2023_Guardians.of.the.Galaxy.Vol.3.2023.1080p.WEB-DL.DDP5.1.Atmos.H.2\u001b[A\n",
      "Processing 2023_Guardians.of.the.Galaxy.Vol.3.2023.1080p.WEB-DL.DDP5.1.Atmos.H.2\u001b[A\n",
      "Processing 2023_Guardians.of.the.Galaxy.Vol.3.2023.1080p.WEB-DL.DDP5.1.Atmos.H.2\u001b[A\n",
      "Processing 2023_Guardians.of.the.Galaxy.Vol.3.2023.1080p.WEB-DL.DDP5.1.Atmos.H.2\u001b[A\n",
      "Processing 2023_Guardians.of.the.Galaxy.Vol.3.2023.1080p.WEB-DL.DDP5.1.Atmos.H.2\u001b[A\n",
      "Processing 2023_Guardians.of.the.Galaxy.Vol.3.2023.1080p.WEB-DL.DDP5.1.Atmos.H.2\u001b[A\n",
      "Processing 2023_Guardians.of.the.Galaxy.Vol.3.2023.1080p.WEB-DL.DDP5.1.Atmos.H.2\u001b[A\n",
      "Processing 2023_Guardians.of.the.Galaxy.Vol.3.2023.1080p.WEB-DL.DDP5.1.Atmos.H.2\u001b[A\n",
      "Processing 2023_Guardians.of.the.Galaxy.Vol.3.2023.1080p.WEB-DL.DDP5.1.Atmos.H.2\u001b[A\n",
      "Scoring movies:  42%|████████▊            | 187/443 [1:16:08<1:58:28, 27.77s/it]\u001b[A"
     ]
    },
    {
     "name": "stdout",
     "output_type": "stream",
     "text": [
      "✅ Finished scoring: 2023_Guardians.of.the.Galaxy.Vol.3.2023.1080p.WEB-DL.DDP5.1.Atmos.H.264-CMRG (v2)\n"
     ]
    },
    {
     "name": "stderr",
     "output_type": "stream",
     "text": [
      "\n",
      "Processing 2018_Jurassic World Fallen Kingdom (2018) 720p English HDCAM-Rip - x2\u001b[A\n",
      "Processing 2018_Jurassic World Fallen Kingdom (2018) 720p English HDCAM-Rip - x2\u001b[A\n",
      "Processing 2018_Jurassic World Fallen Kingdom (2018) 720p English HDCAM-Rip - x2\u001b[A\n",
      "Processing 2018_Jurassic World Fallen Kingdom (2018) 720p English HDCAM-Rip - x2\u001b[A\n",
      "Processing 2018_Jurassic World Fallen Kingdom (2018) 720p English HDCAM-Rip - x2\u001b[A\n",
      "Processing 2018_Jurassic World Fallen Kingdom (2018) 720p English HDCAM-Rip - x2\u001b[A\n",
      "Processing 2018_Jurassic World Fallen Kingdom (2018) 720p English HDCAM-Rip - x2\u001b[A\n",
      "Scoring movies:  42%|████████▉            | 188/443 [1:16:28<1:48:24, 25.51s/it]\u001b[A"
     ]
    },
    {
     "name": "stdout",
     "output_type": "stream",
     "text": [
      "✅ Finished scoring: 2018_Jurassic World Fallen Kingdom (2018) 720p English HDCAM-Rip - x264 - MP3 750MB\n"
     ]
    },
    {
     "name": "stderr",
     "output_type": "stream",
     "text": [
      "\n",
      "Processing 2004_The.Incredibles.2004.720p.BluRay.X264-AMIABLE.eng:   0%| | 0/8 [\u001b[A\n",
      "Processing 2004_The.Incredibles.2004.720p.BluRay.X264-AMIABLE.eng:  12%|▏| 1/8 [\u001b[A\n",
      "Processing 2004_The.Incredibles.2004.720p.BluRay.X264-AMIABLE.eng:  25%|▎| 2/8 [\u001b[A\n",
      "Processing 2004_The.Incredibles.2004.720p.BluRay.X264-AMIABLE.eng:  38%|▍| 3/8 [\u001b[A\n",
      "Processing 2004_The.Incredibles.2004.720p.BluRay.X264-AMIABLE.eng:  50%|▌| 4/8 [\u001b[A\n",
      "Processing 2004_The.Incredibles.2004.720p.BluRay.X264-AMIABLE.eng:  62%|▋| 5/8 [\u001b[A\n",
      "Processing 2004_The.Incredibles.2004.720p.BluRay.X264-AMIABLE.eng:  75%|▊| 6/8 [\u001b[A\n",
      "Processing 2004_The.Incredibles.2004.720p.BluRay.X264-AMIABLE.eng:  88%|▉| 7/8 [\u001b[A"
     ]
    },
    {
     "name": "stdout",
     "output_type": "stream",
     "text": [
      "⚠️ Rate limit hit. Waiting 60 seconds...\n"
     ]
    },
    {
     "name": "stderr",
     "output_type": "stream",
     "text": [
      "\n",
      "Processing 2004_The.Incredibles.2004.720p.BluRay.X264-AMIABLE.eng: 100%|█| 8/8 [\u001b[A\n",
      "Scoring movies:  43%|████████▉            | 189/443 [1:17:51<3:01:01, 42.76s/it]\u001b[A"
     ]
    },
    {
     "name": "stdout",
     "output_type": "stream",
     "text": [
      "✅ Finished scoring: 2004_The.Incredibles.2004.720p.BluRay.X264-AMIABLE.eng\n"
     ]
    },
    {
     "name": "stderr",
     "output_type": "stream",
     "text": [
      "\n",
      "Processing 1996_The.Birdcage.1996.720p.BluRay.X264-AMIABLE-HI:   0%| | 0/10 [00:\u001b[A\n",
      "Processing 1996_The.Birdcage.1996.720p.BluRay.X264-AMIABLE-HI:  10%| | 1/10 [00:\u001b[A\n",
      "Processing 1996_The.Birdcage.1996.720p.BluRay.X264-AMIABLE-HI:  20%|▏| 2/10 [00:\u001b[A\n",
      "Processing 1996_The.Birdcage.1996.720p.BluRay.X264-AMIABLE-HI:  30%|▎| 3/10 [00:\u001b[A\n",
      "Processing 1996_The.Birdcage.1996.720p.BluRay.X264-AMIABLE-HI:  40%|▍| 4/10 [00:\u001b[A\n",
      "Processing 1996_The.Birdcage.1996.720p.BluRay.X264-AMIABLE-HI:  50%|▌| 5/10 [00:\u001b[A\n",
      "Processing 1996_The.Birdcage.1996.720p.BluRay.X264-AMIABLE-HI:  60%|▌| 6/10 [00:\u001b[A\n",
      "Processing 1996_The.Birdcage.1996.720p.BluRay.X264-AMIABLE-HI:  70%|▋| 7/10 [00:\u001b[A\n",
      "Processing 1996_The.Birdcage.1996.720p.BluRay.X264-AMIABLE-HI:  80%|▊| 8/10 [00:\u001b[A\n",
      "Processing 1996_The.Birdcage.1996.720p.BluRay.X264-AMIABLE-HI:  90%|▉| 9/10 [00:\u001b[A\n",
      "Processing 1996_The.Birdcage.1996.720p.BluRay.X264-AMIABLE-HI: 100%|█| 10/10 [00\u001b[A\n",
      "Scoring movies:  43%|█████████            | 190/443 [1:18:18<2:40:49, 38.14s/it]\u001b[A"
     ]
    },
    {
     "name": "stdout",
     "output_type": "stream",
     "text": [
      "✅ Finished scoring: 1996_The.Birdcage.1996.720p.BluRay.X264-AMIABLE-HI\n"
     ]
    },
    {
     "name": "stderr",
     "output_type": "stream",
     "text": [
      "\n",
      "Processing 1994_Speed.1994.BluRay.1080p.DTS.x264.dxva-EuReKA.ENG:   0%| | 0/7 [0\u001b[A\n",
      "Processing 1994_Speed.1994.BluRay.1080p.DTS.x264.dxva-EuReKA.ENG:  14%|▏| 1/7 [0\u001b[A\n",
      "Processing 1994_Speed.1994.BluRay.1080p.DTS.x264.dxva-EuReKA.ENG:  29%|▎| 2/7 [0\u001b[A\n",
      "Processing 1994_Speed.1994.BluRay.1080p.DTS.x264.dxva-EuReKA.ENG:  43%|▍| 3/7 [0\u001b[A\n",
      "Processing 1994_Speed.1994.BluRay.1080p.DTS.x264.dxva-EuReKA.ENG:  57%|▌| 4/7 [0\u001b[A\n",
      "Processing 1994_Speed.1994.BluRay.1080p.DTS.x264.dxva-EuReKA.ENG:  71%|▋| 5/7 [0\u001b[A\n",
      "Processing 1994_Speed.1994.BluRay.1080p.DTS.x264.dxva-EuReKA.ENG:  86%|▊| 6/7 [0\u001b[A\n",
      "Processing 1994_Speed.1994.BluRay.1080p.DTS.x264.dxva-EuReKA.ENG: 100%|█| 7/7 [0\u001b[A\n",
      "Scoring movies:  43%|█████████            | 191/443 [1:18:39<2:18:22, 32.95s/it]\u001b[A"
     ]
    },
    {
     "name": "stdout",
     "output_type": "stream",
     "text": [
      "✅ Finished scoring: 1994_Speed.1994.BluRay.1080p.DTS.x264.dxva-EuReKA.ENG\n"
     ]
    },
    {
     "name": "stderr",
     "output_type": "stream",
     "text": [
      "\n",
      "Processing 2014_X-Men.Days.of.Future.Past.2014.720p.BluRay.X264-AMIABLE:   0%| |\u001b[A\n",
      "Processing 2014_X-Men.Days.of.Future.Past.2014.720p.BluRay.X264-AMIABLE:  12%|▏|\u001b[A\n",
      "Processing 2014_X-Men.Days.of.Future.Past.2014.720p.BluRay.X264-AMIABLE:  25%|▎|\u001b[A\n",
      "Processing 2014_X-Men.Days.of.Future.Past.2014.720p.BluRay.X264-AMIABLE:  38%|▍|\u001b[A\n",
      "Processing 2014_X-Men.Days.of.Future.Past.2014.720p.BluRay.X264-AMIABLE:  50%|▌|\u001b[A\n",
      "Processing 2014_X-Men.Days.of.Future.Past.2014.720p.BluRay.X264-AMIABLE:  62%|▋|\u001b[A\n",
      "Processing 2014_X-Men.Days.of.Future.Past.2014.720p.BluRay.X264-AMIABLE:  75%|▊|\u001b[A\n",
      "Processing 2014_X-Men.Days.of.Future.Past.2014.720p.BluRay.X264-AMIABLE:  88%|▉|\u001b[A\n",
      "Processing 2014_X-Men.Days.of.Future.Past.2014.720p.BluRay.X264-AMIABLE: 100%|█|\u001b[A\n",
      "Scoring movies:  43%|█████████            | 192/443 [1:19:01<2:04:10, 29.69s/it]\u001b[A"
     ]
    },
    {
     "name": "stdout",
     "output_type": "stream",
     "text": [
      "✅ Finished scoring: 2014_X-Men.Days.of.Future.Past.2014.720p.BluRay.X264-AMIABLE\n"
     ]
    },
    {
     "name": "stderr",
     "output_type": "stream",
     "text": [
      "\n",
      "Processing 1982_Arthur.1981.DudleyMoore(Huey):   0%|      | 0/8 [00:00<?, ?it/s]\u001b[A\n",
      "Processing 1982_Arthur.1981.DudleyMoore(Huey):  12%|▏| 1/8 [00:02<00:17,  2.45s/\u001b[A\n",
      "Processing 1982_Arthur.1981.DudleyMoore(Huey):  25%|▎| 2/8 [00:05<00:15,  2.59s/\u001b[A\n",
      "Processing 1982_Arthur.1981.DudleyMoore(Huey):  38%|▍| 3/8 [00:08<00:14,  2.91s/\u001b[A\n",
      "Processing 1982_Arthur.1981.DudleyMoore(Huey):  50%|▌| 4/8 [00:11<00:11,  3.00s/\u001b[A\n",
      "Processing 1982_Arthur.1981.DudleyMoore(Huey):  62%|▋| 5/8 [00:14<00:08,  2.94s/\u001b[A\n",
      "Processing 1982_Arthur.1981.DudleyMoore(Huey):  75%|▊| 6/8 [00:16<00:05,  2.82s/\u001b[A\n",
      "Processing 1982_Arthur.1981.DudleyMoore(Huey):  88%|▉| 7/8 [00:19<00:02,  2.74s/\u001b[A\n",
      "Processing 1982_Arthur.1981.DudleyMoore(Huey): 100%|█| 8/8 [00:22<00:00,  2.66s/\u001b[A\n",
      "Scoring movies:  44%|█████████▏           | 193/443 [1:19:23<1:54:09, 27.40s/it]\u001b[A"
     ]
    },
    {
     "name": "stdout",
     "output_type": "stream",
     "text": [
      "✅ Finished scoring: 1982_Arthur.1981.DudleyMoore(Huey)\n"
     ]
    },
    {
     "name": "stderr",
     "output_type": "stream",
     "text": [
      "\n",
      "Processing 2019_Toy.Story.4.2019.720p.HDCAM-1XBET:   0%| | 0/11 [00:00<?, ?it/s]\u001b[A\n",
      "Processing 2019_Toy.Story.4.2019.720p.HDCAM-1XBET:   9%| | 1/11 [00:02<00:25,  2\u001b[A\n",
      "Processing 2019_Toy.Story.4.2019.720p.HDCAM-1XBET:  18%|▏| 2/11 [00:05<00:27,  3\u001b[A\n",
      "Processing 2019_Toy.Story.4.2019.720p.HDCAM-1XBET:  27%|▎| 3/11 [00:08<00:22,  2\u001b[A\n",
      "Processing 2019_Toy.Story.4.2019.720p.HDCAM-1XBET:  36%|▎| 4/11 [00:12<00:22,  3\u001b[A\n",
      "Processing 2019_Toy.Story.4.2019.720p.HDCAM-1XBET:  45%|▍| 5/11 [00:14<00:17,  2\u001b[A\n",
      "Processing 2019_Toy.Story.4.2019.720p.HDCAM-1XBET:  55%|▌| 6/11 [00:17<00:13,  2\u001b[A\n",
      "Processing 2019_Toy.Story.4.2019.720p.HDCAM-1XBET:  64%|▋| 7/11 [00:19<00:11,  2\u001b[A\n",
      "Processing 2019_Toy.Story.4.2019.720p.HDCAM-1XBET:  73%|▋| 8/11 [00:22<00:08,  2\u001b[A\n",
      "Processing 2019_Toy.Story.4.2019.720p.HDCAM-1XBET:  82%|▊| 9/11 [00:25<00:05,  2\u001b[A\n",
      "Processing 2019_Toy.Story.4.2019.720p.HDCAM-1XBET:  91%|▉| 10/11 [00:28<00:02,  \u001b[A\n",
      "Processing 2019_Toy.Story.4.2019.720p.HDCAM-1XBET: 100%|█| 11/11 [00:31<00:00,  \u001b[A\n",
      "Scoring movies:  44%|█████████▏           | 194/443 [1:19:55<1:58:45, 28.62s/it]\u001b[A"
     ]
    },
    {
     "name": "stdout",
     "output_type": "stream",
     "text": [
      "✅ Finished scoring: 2019_Toy.Story.4.2019.720p.HDCAM-1XBET\n"
     ]
    },
    {
     "name": "stderr",
     "output_type": "stream",
     "text": [
      "\n",
      "Processing 1992_Home Alone 2_ Lost in New York:   0%|     | 0/6 [00:00<?, ?it/s]\u001b[A\n",
      "Processing 1992_Home Alone 2_ Lost in New York:  17%|▏| 1/6 [00:02<00:12,  2.48s\u001b[A\n",
      "Processing 1992_Home Alone 2_ Lost in New York:  33%|▎| 2/6 [00:05<00:11,  2.76s\u001b[A\n",
      "Processing 1992_Home Alone 2_ Lost in New York:  50%|▌| 3/6 [00:08<00:08,  2.88s\u001b[A\n",
      "Processing 1992_Home Alone 2_ Lost in New York:  67%|▋| 4/6 [00:11<00:05,  2.84s\u001b[A\n",
      "Processing 1992_Home Alone 2_ Lost in New York:  83%|▊| 5/6 [00:13<00:02,  2.71s\u001b[A\n",
      "Processing 1992_Home Alone 2_ Lost in New York: 100%|█| 6/6 [00:16<00:00,  2.81s\u001b[A\n",
      "Scoring movies:  44%|█████████▏           | 195/443 [1:20:11<1:43:33, 25.06s/it]\u001b[A"
     ]
    },
    {
     "name": "stdout",
     "output_type": "stream",
     "text": [
      "✅ Finished scoring: 1992_Home Alone 2_ Lost in New York\n"
     ]
    },
    {
     "name": "stderr",
     "output_type": "stream",
     "text": [
      "\n",
      "Processing 1978_Heaven.Can.Wait.1978.(El.Cielo.Puede.Esperar).DVDRip.XviD.MP3.Du\u001b[A\n",
      "Processing 1978_Heaven.Can.Wait.1978.(El.Cielo.Puede.Esperar).DVDRip.XviD.MP3.Du\u001b[A\n",
      "Processing 1978_Heaven.Can.Wait.1978.(El.Cielo.Puede.Esperar).DVDRip.XviD.MP3.Du\u001b[A\n",
      "Processing 1978_Heaven.Can.Wait.1978.(El.Cielo.Puede.Esperar).DVDRip.XviD.MP3.Du\u001b[A\n",
      "Processing 1978_Heaven.Can.Wait.1978.(El.Cielo.Puede.Esperar).DVDRip.XviD.MP3.Du\u001b[A\n",
      "Processing 1978_Heaven.Can.Wait.1978.(El.Cielo.Puede.Esperar).DVDRip.XviD.MP3.Du\u001b[A\n",
      "Processing 1978_Heaven.Can.Wait.1978.(El.Cielo.Puede.Esperar).DVDRip.XviD.MP3.Du\u001b[A\n",
      "Processing 1978_Heaven.Can.Wait.1978.(El.Cielo.Puede.Esperar).DVDRip.XviD.MP3.Du\u001b[A\n",
      "Processing 1978_Heaven.Can.Wait.1978.(El.Cielo.Puede.Esperar).DVDRip.XviD.MP3.Du\u001b[A\n",
      "Scoring movies:  44%|█████████▎           | 196/443 [1:20:34<1:40:16, 24.36s/it]\u001b[A"
     ]
    },
    {
     "name": "stdout",
     "output_type": "stream",
     "text": [
      "✅ Finished scoring: 1978_Heaven.Can.Wait.1978.(El.Cielo.Puede.Esperar).DVDRip.XviD.MP3.Dual.ENG-ESP.English\n"
     ]
    },
    {
     "name": "stderr",
     "output_type": "stream",
     "text": [
      "\n",
      "Processing 2011_Captain.America.The.First.Avenger.2011.BluRay.720p.DTS.x264-CHD.\u001b[A\n",
      "Processing 2011_Captain.America.The.First.Avenger.2011.BluRay.720p.DTS.x264-CHD.\u001b[A\n",
      "Processing 2011_Captain.America.The.First.Avenger.2011.BluRay.720p.DTS.x264-CHD.\u001b[A\n",
      "Processing 2011_Captain.America.The.First.Avenger.2011.BluRay.720p.DTS.x264-CHD.\u001b[A\n",
      "Processing 2011_Captain.America.The.First.Avenger.2011.BluRay.720p.DTS.x264-CHD.\u001b[A\n",
      "Processing 2011_Captain.America.The.First.Avenger.2011.BluRay.720p.DTS.x264-CHD.\u001b[A\n",
      "Processing 2011_Captain.America.The.First.Avenger.2011.BluRay.720p.DTS.x264-CHD.\u001b[A\n",
      "Processing 2011_Captain.America.The.First.Avenger.2011.BluRay.720p.DTS.x264-CHD.\u001b[A\n",
      "Scoring movies:  44%|█████████▎           | 197/443 [1:20:54<1:34:25, 23.03s/it]\u001b[A"
     ]
    },
    {
     "name": "stdout",
     "output_type": "stream",
     "text": [
      "✅ Finished scoring: 2011_Captain.America.The.First.Avenger.2011.BluRay.720p.DTS.x264-CHD.eng\n"
     ]
    },
    {
     "name": "stderr",
     "output_type": "stream",
     "text": [
      "\n",
      "Processing 2013_Iron.Man.3.2013.720p.BluRay.x264-SPARKS:   0%| | 0/11 [00:00<?, \u001b[A\n",
      "Processing 2013_Iron.Man.3.2013.720p.BluRay.x264-SPARKS:   9%| | 1/11 [00:02<00:\u001b[A\n",
      "Processing 2013_Iron.Man.3.2013.720p.BluRay.x264-SPARKS:  18%|▏| 2/11 [00:05<00:\u001b[A\n",
      "Processing 2013_Iron.Man.3.2013.720p.BluRay.x264-SPARKS:  27%|▎| 3/11 [00:08<00:\u001b[A\n",
      "Processing 2013_Iron.Man.3.2013.720p.BluRay.x264-SPARKS:  36%|▎| 4/11 [00:11<00:\u001b[A\n",
      "Processing 2013_Iron.Man.3.2013.720p.BluRay.x264-SPARKS:  45%|▍| 5/11 [00:13<00:\u001b[A\n",
      "Processing 2013_Iron.Man.3.2013.720p.BluRay.x264-SPARKS:  55%|▌| 6/11 [00:17<00:\u001b[A\n",
      "Processing 2013_Iron.Man.3.2013.720p.BluRay.x264-SPARKS:  64%|▋| 7/11 [00:19<00:\u001b[A\n",
      "Processing 2013_Iron.Man.3.2013.720p.BluRay.x264-SPARKS:  73%|▋| 8/11 [00:22<00:\u001b[A\n",
      "Processing 2013_Iron.Man.3.2013.720p.BluRay.x264-SPARKS:  82%|▊| 9/11 [00:25<00:\u001b[A"
     ]
    },
    {
     "name": "stdout",
     "output_type": "stream",
     "text": [
      "⚠️ Rate limit hit. Waiting 60 seconds...\n"
     ]
    },
    {
     "name": "stderr",
     "output_type": "stream",
     "text": [
      "\n",
      "Processing 2013_Iron.Man.3.2013.720p.BluRay.x264-SPARKS:  91%|▉| 10/11 [01:28<00\u001b[A\n",
      "Processing 2013_Iron.Man.3.2013.720p.BluRay.x264-SPARKS: 100%|█| 11/11 [01:30<00\u001b[A\n",
      "Scoring movies:  45%|█████████▍           | 198/443 [1:22:25<2:56:57, 43.34s/it]\u001b[A"
     ]
    },
    {
     "name": "stdout",
     "output_type": "stream",
     "text": [
      "✅ Finished scoring: 2013_Iron.Man.3.2013.720p.BluRay.x264-SPARKS\n"
     ]
    },
    {
     "name": "stderr",
     "output_type": "stream",
     "text": [
      "\n",
      "Processing 1983_Staying.Alive.1983.DVDRip.XviD.AR - ENG:   0%| | 0/4 [00:00<?, ?\u001b[A\n",
      "Processing 1983_Staying.Alive.1983.DVDRip.XviD.AR - ENG:  25%|▎| 1/4 [00:02<00:0\u001b[A\n",
      "Processing 1983_Staying.Alive.1983.DVDRip.XviD.AR - ENG:  50%|▌| 2/4 [00:05<00:0\u001b[A\n",
      "Processing 1983_Staying.Alive.1983.DVDRip.XviD.AR - ENG:  75%|▊| 3/4 [00:07<00:0\u001b[A\n",
      "Processing 1983_Staying.Alive.1983.DVDRip.XviD.AR - ENG: 100%|█| 4/4 [00:10<00:0\u001b[A\n",
      "Scoring movies:  45%|█████████▍           | 199/443 [1:22:36<2:16:46, 33.63s/it]\u001b[A"
     ]
    },
    {
     "name": "stdout",
     "output_type": "stream",
     "text": [
      "✅ Finished scoring: 1983_Staying.Alive.1983.DVDRip.XviD.AR - ENG\n"
     ]
    },
    {
     "name": "stderr",
     "output_type": "stream",
     "text": [
      "\n",
      "Processing 1991_Terminator.2.Judgement.Day.Directors.Cut.1991.1080p.HDDVD.DTS.x2\u001b[A\n",
      "Processing 1991_Terminator.2.Judgement.Day.Directors.Cut.1991.1080p.HDDVD.DTS.x2\u001b[A\n",
      "Processing 1991_Terminator.2.Judgement.Day.Directors.Cut.1991.1080p.HDDVD.DTS.x2\u001b[A\n",
      "Processing 1991_Terminator.2.Judgement.Day.Directors.Cut.1991.1080p.HDDVD.DTS.x2\u001b[A\n",
      "Processing 1991_Terminator.2.Judgement.Day.Directors.Cut.1991.1080p.HDDVD.DTS.x2\u001b[A\n",
      "Processing 1991_Terminator.2.Judgement.Day.Directors.Cut.1991.1080p.HDDVD.DTS.x2\u001b[A\n",
      "Processing 1991_Terminator.2.Judgement.Day.Directors.Cut.1991.1080p.HDDVD.DTS.x2\u001b[A\n",
      "Scoring movies:  45%|█████████▍           | 200/443 [1:22:52<1:55:26, 28.50s/it]\u001b[A"
     ]
    },
    {
     "name": "stdout",
     "output_type": "stream",
     "text": [
      "✅ Finished scoring: 1991_Terminator.2.Judgement.Day.Directors.Cut.1991.1080p.HDDVD.DTS.x264-hV.ENG\n"
     ]
    },
    {
     "name": "stderr",
     "output_type": "stream",
     "text": [
      "\n",
      "Processing 1991_The.Silence.Of.The.Lambs.1991.BluRay.1080p.DTS.x264.dxva-EuReKA.\u001b[A\n",
      "Processing 1991_The.Silence.Of.The.Lambs.1991.BluRay.1080p.DTS.x264.dxva-EuReKA.\u001b[A\n",
      "Processing 1991_The.Silence.Of.The.Lambs.1991.BluRay.1080p.DTS.x264.dxva-EuReKA.\u001b[A\n",
      "Processing 1991_The.Silence.Of.The.Lambs.1991.BluRay.1080p.DTS.x264.dxva-EuReKA.\u001b[A\n",
      "Processing 1991_The.Silence.Of.The.Lambs.1991.BluRay.1080p.DTS.x264.dxva-EuReKA.\u001b[A\n",
      "Processing 1991_The.Silence.Of.The.Lambs.1991.BluRay.1080p.DTS.x264.dxva-EuReKA.\u001b[A\n",
      "Processing 1991_The.Silence.Of.The.Lambs.1991.BluRay.1080p.DTS.x264.dxva-EuReKA.\u001b[A\n",
      "Scoring movies:  45%|█████████▌           | 201/443 [1:23:09<1:41:11, 25.09s/it]\u001b[A"
     ]
    },
    {
     "name": "stdout",
     "output_type": "stream",
     "text": [
      "✅ Finished scoring: 1991_The.Silence.Of.The.Lambs.1991.BluRay.1080p.DTS.x264.dxva-EuReKA.ENG\n"
     ]
    },
    {
     "name": "stderr",
     "output_type": "stream",
     "text": [
      "\n",
      "Processing 1990_The.Hunt.For.Red.October.1990.720p.HDDVD.x264-SiNNERS.ENG:   0%|\u001b[A\n",
      "Processing 1990_The.Hunt.For.Red.October.1990.720p.HDDVD.x264-SiNNERS.ENG:  14%|\u001b[A\n",
      "Processing 1990_The.Hunt.For.Red.October.1990.720p.HDDVD.x264-SiNNERS.ENG:  29%|\u001b[A\n",
      "Processing 1990_The.Hunt.For.Red.October.1990.720p.HDDVD.x264-SiNNERS.ENG:  43%|\u001b[A\n",
      "Processing 1990_The.Hunt.For.Red.October.1990.720p.HDDVD.x264-SiNNERS.ENG:  57%|\u001b[A\n",
      "Processing 1990_The.Hunt.For.Red.October.1990.720p.HDDVD.x264-SiNNERS.ENG:  71%|\u001b[A\n",
      "Processing 1990_The.Hunt.For.Red.October.1990.720p.HDDVD.x264-SiNNERS.ENG:  86%|\u001b[A\n",
      "Processing 1990_The.Hunt.For.Red.October.1990.720p.HDDVD.x264-SiNNERS.ENG: 100%|\u001b[A\n",
      "Scoring movies:  46%|█████████▌           | 202/443 [1:23:30<1:35:49, 23.86s/it]\u001b[A"
     ]
    },
    {
     "name": "stdout",
     "output_type": "stream",
     "text": [
      "✅ Finished scoring: 1990_The.Hunt.For.Red.October.1990.720p.HDDVD.x264-SiNNERS.ENG\n"
     ]
    },
    {
     "name": "stderr",
     "output_type": "stream",
     "text": [
      "\n",
      "Processing 1982_An.Officer.and.a.Gentleman.1982.720p.BluRay.X264-AMIABLE:   0%| \u001b[A\n",
      "Processing 1982_An.Officer.and.a.Gentleman.1982.720p.BluRay.X264-AMIABLE:  14%|▏\u001b[A\n",
      "Processing 1982_An.Officer.and.a.Gentleman.1982.720p.BluRay.X264-AMIABLE:  29%|▎\u001b[A\n",
      "Processing 1982_An.Officer.and.a.Gentleman.1982.720p.BluRay.X264-AMIABLE:  43%|▍\u001b[A\n",
      "Processing 1982_An.Officer.and.a.Gentleman.1982.720p.BluRay.X264-AMIABLE:  57%|▌\u001b[A\n",
      "Processing 1982_An.Officer.and.a.Gentleman.1982.720p.BluRay.X264-AMIABLE:  71%|▋\u001b[A\n",
      "Processing 1982_An.Officer.and.a.Gentleman.1982.720p.BluRay.X264-AMIABLE:  86%|▊\u001b[A\n",
      "Processing 1982_An.Officer.and.a.Gentleman.1982.720p.BluRay.X264-AMIABLE: 100%|█\u001b[A\n",
      "Scoring movies:  46%|█████████▌           | 203/443 [1:23:50<1:30:33, 22.64s/it]\u001b[A"
     ]
    },
    {
     "name": "stdout",
     "output_type": "stream",
     "text": [
      "✅ Finished scoring: 1982_An.Officer.and.a.Gentleman.1982.720p.BluRay.X264-AMIABLE\n"
     ]
    },
    {
     "name": "stderr",
     "output_type": "stream",
     "text": [
      "\n",
      "Processing 1979_Moonraker. 1979. BluRay. 720p. x264. AC3-CMCT:   0%| | 0/4 [00:0\u001b[A\n",
      "Processing 1979_Moonraker. 1979. BluRay. 720p. x264. AC3-CMCT:  25%|▎| 1/4 [00:0\u001b[A\n",
      "Processing 1979_Moonraker. 1979. BluRay. 720p. x264. AC3-CMCT:  50%|▌| 2/4 [00:0\u001b[A\n",
      "Processing 1979_Moonraker. 1979. BluRay. 720p. x264. AC3-CMCT:  75%|▊| 3/4 [00:0\u001b[A\n",
      "Processing 1979_Moonraker. 1979. BluRay. 720p. x264. AC3-CMCT: 100%|█| 4/4 [00:1\u001b[A\n",
      "Scoring movies:  46%|█████████▋           | 204/443 [1:24:02<1:16:35, 19.23s/it]\u001b[A"
     ]
    },
    {
     "name": "stdout",
     "output_type": "stream",
     "text": [
      "✅ Finished scoring: 1979_Moonraker. 1979. BluRay. 720p. x264. AC3-CMCT\n"
     ]
    },
    {
     "name": "stderr",
     "output_type": "stream",
     "text": [
      "\n",
      "Processing 2004_National.Treasure.2004.BluRay.1080p.DTS.x264.dxva-EuReKA.ENG:   \u001b[A\n",
      "Processing 2004_National.Treasure.2004.BluRay.1080p.DTS.x264.dxva-EuReKA.ENG:  1\u001b[A\n",
      "Processing 2004_National.Treasure.2004.BluRay.1080p.DTS.x264.dxva-EuReKA.ENG:  2\u001b[A\n",
      "Processing 2004_National.Treasure.2004.BluRay.1080p.DTS.x264.dxva-EuReKA.ENG:  3\u001b[A\n",
      "Processing 2004_National.Treasure.2004.BluRay.1080p.DTS.x264.dxva-EuReKA.ENG:  5\u001b[A\n",
      "Processing 2004_National.Treasure.2004.BluRay.1080p.DTS.x264.dxva-EuReKA.ENG:  6\u001b[A\n",
      "Processing 2004_National.Treasure.2004.BluRay.1080p.DTS.x264.dxva-EuReKA.ENG:  7\u001b[A\n",
      "Processing 2004_National.Treasure.2004.BluRay.1080p.DTS.x264.dxva-EuReKA.ENG:  8\u001b[A\n",
      "Processing 2004_National.Treasure.2004.BluRay.1080p.DTS.x264.dxva-EuReKA.ENG: 10\u001b[A\n",
      "Scoring movies:  46%|█████████▋           | 205/443 [1:24:25<1:20:59, 20.42s/it]\u001b[A"
     ]
    },
    {
     "name": "stdout",
     "output_type": "stream",
     "text": [
      "✅ Finished scoring: 2004_National.Treasure.2004.BluRay.1080p.DTS.x264.dxva-EuReKA.ENG\n"
     ]
    },
    {
     "name": "stderr",
     "output_type": "stream",
     "text": [
      "\n",
      "Processing 2000_Mission.Impossible.II.2000.720p.BluRay.DTS.x264-ESiR.ENG:   0%| \u001b[A\n",
      "Processing 2000_Mission.Impossible.II.2000.720p.BluRay.DTS.x264-ESiR.ENG:  20%|▏\u001b[A\n",
      "Processing 2000_Mission.Impossible.II.2000.720p.BluRay.DTS.x264-ESiR.ENG:  40%|▍\u001b[A\n",
      "Processing 2000_Mission.Impossible.II.2000.720p.BluRay.DTS.x264-ESiR.ENG:  60%|▌\u001b[A\n",
      "Processing 2000_Mission.Impossible.II.2000.720p.BluRay.DTS.x264-ESiR.ENG:  80%|▊\u001b[A\n",
      "Processing 2000_Mission.Impossible.II.2000.720p.BluRay.DTS.x264-ESiR.ENG: 100%|█\u001b[A\n",
      "Scoring movies:  47%|█████████▊           | 206/443 [1:24:39<1:13:03, 18.50s/it]\u001b[A"
     ]
    },
    {
     "name": "stdout",
     "output_type": "stream",
     "text": [
      "✅ Finished scoring: 2000_Mission.Impossible.II.2000.720p.BluRay.DTS.x264-ESiR.ENG\n"
     ]
    },
    {
     "name": "stderr",
     "output_type": "stream",
     "text": [
      "\n",
      "Processing 1990_Dick.Tracy.1990.DVDRip.INTERNAL.XviD-VH-PROD:   0%| | 0/8 [00:00\u001b[A\n",
      "Processing 1990_Dick.Tracy.1990.DVDRip.INTERNAL.XviD-VH-PROD:  12%|▏| 1/8 [00:02\u001b[A\n",
      "Processing 1990_Dick.Tracy.1990.DVDRip.INTERNAL.XviD-VH-PROD:  25%|▎| 2/8 [00:05\u001b[A\n",
      "Processing 1990_Dick.Tracy.1990.DVDRip.INTERNAL.XviD-VH-PROD:  38%|▍| 3/8 [00:07\u001b[A\n",
      "Processing 1990_Dick.Tracy.1990.DVDRip.INTERNAL.XviD-VH-PROD:  50%|▌| 4/8 [00:11\u001b[A\n",
      "Processing 1990_Dick.Tracy.1990.DVDRip.INTERNAL.XviD-VH-PROD:  62%|▋| 5/8 [00:14\u001b[A\n",
      "Processing 1990_Dick.Tracy.1990.DVDRip.INTERNAL.XviD-VH-PROD:  75%|▊| 6/8 [00:17\u001b[A\n",
      "Processing 1990_Dick.Tracy.1990.DVDRip.INTERNAL.XviD-VH-PROD:  88%|▉| 7/8 [00:20\u001b[A\n",
      "Processing 1990_Dick.Tracy.1990.DVDRip.INTERNAL.XviD-VH-PROD: 100%|█| 8/8 [00:23\u001b[A\n",
      "Scoring movies:  47%|█████████▊           | 207/443 [1:25:02<1:18:19, 19.91s/it]\u001b[A"
     ]
    },
    {
     "name": "stdout",
     "output_type": "stream",
     "text": [
      "✅ Finished scoring: 1990_Dick.Tracy.1990.DVDRip.INTERNAL.XviD-VH-PROD\n"
     ]
    },
    {
     "name": "stderr",
     "output_type": "stream",
     "text": [
      "\n",
      "Processing 2017_Guardians.of.the.Galaxy.Vol.2.2017.720p.BluRay.x264-SPARKS:   0%\u001b[A\n",
      "Processing 2017_Guardians.of.the.Galaxy.Vol.2.2017.720p.BluRay.x264-SPARKS:  10%\u001b[A\n",
      "Processing 2017_Guardians.of.the.Galaxy.Vol.2.2017.720p.BluRay.x264-SPARKS:  20%\u001b[A\n",
      "Processing 2017_Guardians.of.the.Galaxy.Vol.2.2017.720p.BluRay.x264-SPARKS:  30%\u001b[A\n",
      "Processing 2017_Guardians.of.the.Galaxy.Vol.2.2017.720p.BluRay.x264-SPARKS:  40%\u001b[A"
     ]
    },
    {
     "name": "stdout",
     "output_type": "stream",
     "text": [
      "⚠️ Rate limit hit. Waiting 60 seconds...\n"
     ]
    },
    {
     "name": "stderr",
     "output_type": "stream",
     "text": [
      "\n",
      "Processing 2017_Guardians.of.the.Galaxy.Vol.2.2017.720p.BluRay.x264-SPARKS:  50%\u001b[A\n",
      "Processing 2017_Guardians.of.the.Galaxy.Vol.2.2017.720p.BluRay.x264-SPARKS:  60%\u001b[A\n",
      "Processing 2017_Guardians.of.the.Galaxy.Vol.2.2017.720p.BluRay.x264-SPARKS:  70%\u001b[A\n",
      "Processing 2017_Guardians.of.the.Galaxy.Vol.2.2017.720p.BluRay.x264-SPARKS:  80%\u001b[A\n",
      "Processing 2017_Guardians.of.the.Galaxy.Vol.2.2017.720p.BluRay.x264-SPARKS:  90%\u001b[A\n",
      "Processing 2017_Guardians.of.the.Galaxy.Vol.2.2017.720p.BluRay.x264-SPARKS: 100%\u001b[A\n",
      "Scoring movies:  47%|█████████▊           | 208/443 [1:26:30<2:38:15, 40.41s/it]\u001b[A"
     ]
    },
    {
     "name": "stdout",
     "output_type": "stream",
     "text": [
      "✅ Finished scoring: 2017_Guardians.of.the.Galaxy.Vol.2.2017.720p.BluRay.x264-SPARKS\n"
     ]
    },
    {
     "name": "stderr",
     "output_type": "stream",
     "text": [
      "\n",
      "Processing 2005_Batman.Begins.2005.1080p.HDDVD.x264-hV.ENG:   0%| | 0/8 [00:00<?\u001b[A\n",
      "Processing 2005_Batman.Begins.2005.1080p.HDDVD.x264-hV.ENG:  12%|▏| 1/8 [00:02<0\u001b[A\n",
      "Processing 2005_Batman.Begins.2005.1080p.HDDVD.x264-hV.ENG:  25%|▎| 2/8 [00:05<0\u001b[A\n",
      "Processing 2005_Batman.Begins.2005.1080p.HDDVD.x264-hV.ENG:  38%|▍| 3/8 [00:07<0\u001b[A\n",
      "Processing 2005_Batman.Begins.2005.1080p.HDDVD.x264-hV.ENG:  50%|▌| 4/8 [00:10<0\u001b[A\n",
      "Processing 2005_Batman.Begins.2005.1080p.HDDVD.x264-hV.ENG:  62%|▋| 5/8 [00:12<0\u001b[A\n",
      "Processing 2005_Batman.Begins.2005.1080p.HDDVD.x264-hV.ENG:  75%|▊| 6/8 [00:15<0\u001b[A\n",
      "Processing 2005_Batman.Begins.2005.1080p.HDDVD.x264-hV.ENG:  88%|▉| 7/8 [00:18<0\u001b[A\n",
      "Processing 2005_Batman.Begins.2005.1080p.HDDVD.x264-hV.ENG: 100%|█| 8/8 [00:21<0\u001b[A\n",
      "Scoring movies:  47%|█████████▉           | 209/443 [1:26:52<2:15:44, 34.80s/it]\u001b[A"
     ]
    },
    {
     "name": "stdout",
     "output_type": "stream",
     "text": [
      "✅ Finished scoring: 2005_Batman.Begins.2005.1080p.HDDVD.x264-hV.ENG\n"
     ]
    },
    {
     "name": "stderr",
     "output_type": "stream",
     "text": [
      "\n",
      "Processing 2015_Avengers.Age.of.Ultron.2015.720p.BluRay.x264-SPARKS:   0%| | 0/1\u001b[A\n",
      "Processing 2015_Avengers.Age.of.Ultron.2015.720p.BluRay.x264-SPARKS:   9%| | 1/1\u001b[A\n",
      "Processing 2015_Avengers.Age.of.Ultron.2015.720p.BluRay.x264-SPARKS:  18%|▏| 2/1\u001b[A\n",
      "Processing 2015_Avengers.Age.of.Ultron.2015.720p.BluRay.x264-SPARKS:  27%|▎| 3/1\u001b[A\n",
      "Processing 2015_Avengers.Age.of.Ultron.2015.720p.BluRay.x264-SPARKS:  36%|▎| 4/1\u001b[A\n",
      "Processing 2015_Avengers.Age.of.Ultron.2015.720p.BluRay.x264-SPARKS:  45%|▍| 5/1\u001b[A\n",
      "Processing 2015_Avengers.Age.of.Ultron.2015.720p.BluRay.x264-SPARKS:  55%|▌| 6/1\u001b[A\n",
      "Processing 2015_Avengers.Age.of.Ultron.2015.720p.BluRay.x264-SPARKS:  64%|▋| 7/1\u001b[A\n",
      "Processing 2015_Avengers.Age.of.Ultron.2015.720p.BluRay.x264-SPARKS:  73%|▋| 8/1\u001b[A\n",
      "Processing 2015_Avengers.Age.of.Ultron.2015.720p.BluRay.x264-SPARKS:  82%|▊| 9/1\u001b[A\n",
      "Processing 2015_Avengers.Age.of.Ultron.2015.720p.BluRay.x264-SPARKS:  91%|▉| 10/\u001b[A\n",
      "Processing 2015_Avengers.Age.of.Ultron.2015.720p.BluRay.x264-SPARKS: 100%|█| 11/\u001b[A\n",
      "Scoring movies:  47%|█████████▉           | 210/443 [1:27:23<2:10:19, 33.56s/it]\u001b[A"
     ]
    },
    {
     "name": "stdout",
     "output_type": "stream",
     "text": [
      "✅ Finished scoring: 2015_Avengers.Age.of.Ultron.2015.720p.BluRay.x264-SPARKS\n"
     ]
    },
    {
     "name": "stderr",
     "output_type": "stream",
     "text": [
      "\n",
      "Processing 2016_Zootopia.2016.720p.BluRay.x264-SPARKS:   0%| | 0/10 [00:00<?, ?i\u001b[A\n",
      "Processing 2016_Zootopia.2016.720p.BluRay.x264-SPARKS:  10%| | 1/10 [00:02<00:23\u001b[A\n",
      "Processing 2016_Zootopia.2016.720p.BluRay.x264-SPARKS:  20%|▏| 2/10 [00:05<00:21\u001b[A\n",
      "Processing 2016_Zootopia.2016.720p.BluRay.x264-SPARKS:  30%|▎| 3/10 [00:08<00:18\u001b[A\n",
      "Processing 2016_Zootopia.2016.720p.BluRay.x264-SPARKS:  40%|▍| 4/10 [00:11<00:16\u001b[A\n",
      "Processing 2016_Zootopia.2016.720p.BluRay.x264-SPARKS:  50%|▌| 5/10 [00:13<00:14\u001b[A\n",
      "Processing 2016_Zootopia.2016.720p.BluRay.x264-SPARKS:  60%|▌| 6/10 [00:16<00:10\u001b[A\n",
      "Processing 2016_Zootopia.2016.720p.BluRay.x264-SPARKS:  70%|▋| 7/10 [00:19<00:08\u001b[A\n",
      "Processing 2016_Zootopia.2016.720p.BluRay.x264-SPARKS:  80%|▊| 8/10 [00:21<00:05\u001b[A\n",
      "Processing 2016_Zootopia.2016.720p.BluRay.x264-SPARKS:  90%|▉| 9/10 [00:24<00:02\u001b[A\n",
      "Processing 2016_Zootopia.2016.720p.BluRay.x264-SPARKS: 100%|█| 10/10 [00:27<00:0\u001b[A\n",
      "Scoring movies:  48%|██████████           | 211/443 [1:27:50<2:02:28, 31.67s/it]\u001b[A"
     ]
    },
    {
     "name": "stdout",
     "output_type": "stream",
     "text": [
      "✅ Finished scoring: 2016_Zootopia.2016.720p.BluRay.x264-SPARKS\n"
     ]
    },
    {
     "name": "stderr",
     "output_type": "stream",
     "text": [
      "\n",
      "Processing 1990_back.to.the.future.part.3.1990.720p.bluray.x264-nezu.eng:   0%| \u001b[A\n",
      "Processing 1990_back.to.the.future.part.3.1990.720p.bluray.x264-nezu.eng:  14%|▏\u001b[A\n",
      "Processing 1990_back.to.the.future.part.3.1990.720p.bluray.x264-nezu.eng:  29%|▎\u001b[A\n",
      "Processing 1990_back.to.the.future.part.3.1990.720p.bluray.x264-nezu.eng:  43%|▍\u001b[A\n",
      "Processing 1990_back.to.the.future.part.3.1990.720p.bluray.x264-nezu.eng:  57%|▌\u001b[A\n",
      "Processing 1990_back.to.the.future.part.3.1990.720p.bluray.x264-nezu.eng:  71%|▋\u001b[A\n",
      "Processing 1990_back.to.the.future.part.3.1990.720p.bluray.x264-nezu.eng:  86%|▊\u001b[A\n",
      "Processing 1990_back.to.the.future.part.3.1990.720p.bluray.x264-nezu.eng: 100%|█\u001b[A\n",
      "Scoring movies:  48%|██████████           | 212/443 [1:28:10<1:48:55, 28.29s/it]\u001b[A"
     ]
    },
    {
     "name": "stdout",
     "output_type": "stream",
     "text": [
      "✅ Finished scoring: 1990_back.to.the.future.part.3.1990.720p.bluray.x264-nezu.eng\n"
     ]
    },
    {
     "name": "stderr",
     "output_type": "stream",
     "text": [
      "\n",
      "Processing 2006_Pirates.of.the.Caribbean.Dead.Mans.Chest.2006.DIRFIX.DVD9.720p.B\u001b[A\n",
      "Processing 2006_Pirates.of.the.Caribbean.Dead.Mans.Chest.2006.DIRFIX.DVD9.720p.B\u001b[A\n",
      "Processing 2006_Pirates.of.the.Caribbean.Dead.Mans.Chest.2006.DIRFIX.DVD9.720p.B\u001b[A\n",
      "Processing 2006_Pirates.of.the.Caribbean.Dead.Mans.Chest.2006.DIRFIX.DVD9.720p.B\u001b[A\n",
      "Processing 2006_Pirates.of.the.Caribbean.Dead.Mans.Chest.2006.DIRFIX.DVD9.720p.B\u001b[A\n",
      "Processing 2006_Pirates.of.the.Caribbean.Dead.Mans.Chest.2006.DIRFIX.DVD9.720p.B\u001b[A\n",
      "Processing 2006_Pirates.of.the.Caribbean.Dead.Mans.Chest.2006.DIRFIX.DVD9.720p.B\u001b[A\n",
      "Processing 2006_Pirates.of.the.Caribbean.Dead.Mans.Chest.2006.DIRFIX.DVD9.720p.B\u001b[A\n",
      "Processing 2006_Pirates.of.the.Caribbean.Dead.Mans.Chest.2006.DIRFIX.DVD9.720p.B\u001b[A\n",
      "Scoring movies:  48%|██████████           | 213/443 [1:28:33<1:41:52, 26.58s/it]\u001b[A"
     ]
    },
    {
     "name": "stdout",
     "output_type": "stream",
     "text": [
      "✅ Finished scoring: 2006_Pirates.of.the.Caribbean.Dead.Mans.Chest.2006.DIRFIX.DVD9.720p.BluRay.x264-REVEiLLE.eng\n"
     ]
    },
    {
     "name": "stderr",
     "output_type": "stream",
     "text": [
      "\n",
      "Processing 1991_Robin Hood.Prince Of Thieves-DVDRip[Eng]1991: 0it [00:00, ?it/s]\u001b[A\n",
      "                                                                                \u001b[A"
     ]
    },
    {
     "name": "stdout",
     "output_type": "stream",
     "text": [
      "✅ Finished scoring: 1991_Robin Hood.Prince Of Thieves-DVDRip[Eng]1991\n"
     ]
    },
    {
     "name": "stderr",
     "output_type": "stream",
     "text": [
      "\n",
      "Processing 1989_Indiana.Jones.And.The.Last.Crusade.(1989).DVDRiP.XViD-DEiTY:   0\u001b[A\n",
      "Processing 1989_Indiana.Jones.And.The.Last.Crusade.(1989).DVDRiP.XViD-DEiTY:  12\u001b[A\n",
      "Processing 1989_Indiana.Jones.And.The.Last.Crusade.(1989).DVDRiP.XViD-DEiTY:  25\u001b[A\n",
      "Processing 1989_Indiana.Jones.And.The.Last.Crusade.(1989).DVDRiP.XViD-DEiTY:  38\u001b[A\n",
      "Processing 1989_Indiana.Jones.And.The.Last.Crusade.(1989).DVDRiP.XViD-DEiTY:  50\u001b[A\n",
      "Processing 1989_Indiana.Jones.And.The.Last.Crusade.(1989).DVDRiP.XViD-DEiTY:  62\u001b[A\n",
      "Processing 1989_Indiana.Jones.And.The.Last.Crusade.(1989).DVDRiP.XViD-DEiTY:  75\u001b[A\n",
      "Processing 1989_Indiana.Jones.And.The.Last.Crusade.(1989).DVDRiP.XViD-DEiTY:  88\u001b[A\n",
      "Processing 1989_Indiana.Jones.And.The.Last.Crusade.(1989).DVDRiP.XViD-DEiTY: 100\u001b[A\n",
      "Scoring movies:  49%|██████████▏          | 215/443 [1:28:56<1:14:44, 19.67s/it]\u001b[A"
     ]
    },
    {
     "name": "stdout",
     "output_type": "stream",
     "text": [
      "✅ Finished scoring: 1989_Indiana.Jones.And.The.Last.Crusade.(1989).DVDRiP.XViD-DEiTY\n"
     ]
    },
    {
     "name": "stderr",
     "output_type": "stream",
     "text": [
      "\n",
      "Processing 2011_Cars.2.720p.BluRay.x264.REPACK-METiS.eng:   0%| | 0/9 [00:00<?, \u001b[A\n",
      "Processing 2011_Cars.2.720p.BluRay.x264.REPACK-METiS.eng:  11%| | 1/9 [00:02<00:\u001b[A\n",
      "Processing 2011_Cars.2.720p.BluRay.x264.REPACK-METiS.eng:  22%|▏| 2/9 [00:06<00:\u001b[A\n",
      "Processing 2011_Cars.2.720p.BluRay.x264.REPACK-METiS.eng:  33%|▎| 3/9 [00:08<00:\u001b[A"
     ]
    },
    {
     "name": "stdout",
     "output_type": "stream",
     "text": [
      "⚠️ Rate limit hit. Waiting 60 seconds...\n"
     ]
    },
    {
     "name": "stderr",
     "output_type": "stream",
     "text": [
      "\n",
      "Processing 2011_Cars.2.720p.BluRay.x264.REPACK-METiS.eng:  44%|▍| 4/9 [01:12<02:\u001b[A\n",
      "Processing 2011_Cars.2.720p.BluRay.x264.REPACK-METiS.eng:  56%|▌| 5/9 [01:15<01:\u001b[A\n",
      "Processing 2011_Cars.2.720p.BluRay.x264.REPACK-METiS.eng:  67%|▋| 6/9 [01:18<00:\u001b[A\n",
      "Processing 2011_Cars.2.720p.BluRay.x264.REPACK-METiS.eng:  78%|▊| 7/9 [01:21<00:\u001b[A\n",
      "Processing 2011_Cars.2.720p.BluRay.x264.REPACK-METiS.eng:  89%|▉| 8/9 [01:24<00:\u001b[A\n",
      "Processing 2011_Cars.2.720p.BluRay.x264.REPACK-METiS.eng: 100%|█| 9/9 [01:27<00:\u001b[A\n",
      "Scoring movies:  49%|██████████▏          | 216/443 [1:30:24<2:18:21, 36.57s/it]\u001b[A"
     ]
    },
    {
     "name": "stdout",
     "output_type": "stream",
     "text": [
      "✅ Finished scoring: 2011_Cars.2.720p.BluRay.x264.REPACK-METiS.eng\n"
     ]
    },
    {
     "name": "stderr",
     "output_type": "stream",
     "text": [
      "\n",
      "Processing 1999_The.Matrix.1999.720p.HDDVD.DTS.x264-ESiR.ENG:   0%| | 0/8 [00:00\u001b[A\n",
      "Processing 1999_The.Matrix.1999.720p.HDDVD.DTS.x264-ESiR.ENG:  12%|▏| 1/8 [00:03\u001b[A\n",
      "Processing 1999_The.Matrix.1999.720p.HDDVD.DTS.x264-ESiR.ENG:  25%|▎| 2/8 [00:05\u001b[A\n",
      "Processing 1999_The.Matrix.1999.720p.HDDVD.DTS.x264-ESiR.ENG:  38%|▍| 3/8 [00:08\u001b[A\n",
      "Processing 1999_The.Matrix.1999.720p.HDDVD.DTS.x264-ESiR.ENG:  50%|▌| 4/8 [00:11\u001b[A\n",
      "Processing 1999_The.Matrix.1999.720p.HDDVD.DTS.x264-ESiR.ENG:  62%|▋| 5/8 [00:13\u001b[A\n",
      "Processing 1999_The.Matrix.1999.720p.HDDVD.DTS.x264-ESiR.ENG:  75%|▊| 6/8 [00:16\u001b[A\n",
      "Processing 1999_The.Matrix.1999.720p.HDDVD.DTS.x264-ESiR.ENG:  88%|▉| 7/8 [00:19\u001b[A\n",
      "Processing 1999_The.Matrix.1999.720p.HDDVD.DTS.x264-ESiR.ENG: 100%|█| 8/8 [00:22\u001b[A\n",
      "Scoring movies:  49%|██████████▎          | 217/443 [1:30:46<2:03:55, 32.90s/it]\u001b[A"
     ]
    },
    {
     "name": "stdout",
     "output_type": "stream",
     "text": [
      "✅ Finished scoring: 1999_The.Matrix.1999.720p.HDDVD.DTS.x264-ESiR.ENG\n"
     ]
    },
    {
     "name": "stderr",
     "output_type": "stream",
     "text": [
      "\n",
      "Processing 2005_Charlie.and.the.Chocolate.Factory.2005.BluRay.1080p.DTS.x264.dxv\u001b[A\n",
      "Processing 2005_Charlie.and.the.Chocolate.Factory.2005.BluRay.1080p.DTS.x264.dxv\u001b[A\n",
      "Processing 2005_Charlie.and.the.Chocolate.Factory.2005.BluRay.1080p.DTS.x264.dxv\u001b[A\n",
      "Processing 2005_Charlie.and.the.Chocolate.Factory.2005.BluRay.1080p.DTS.x264.dxv\u001b[A\n",
      "Processing 2005_Charlie.and.the.Chocolate.Factory.2005.BluRay.1080p.DTS.x264.dxv\u001b[A\n",
      "Processing 2005_Charlie.and.the.Chocolate.Factory.2005.BluRay.1080p.DTS.x264.dxv\u001b[A\n",
      "Processing 2005_Charlie.and.the.Chocolate.Factory.2005.BluRay.1080p.DTS.x264.dxv\u001b[A\n",
      "Processing 2005_Charlie.and.the.Chocolate.Factory.2005.BluRay.1080p.DTS.x264.dxv\u001b[A\n",
      "Scoring movies:  49%|██████████▎          | 218/443 [1:31:08<1:51:33, 29.75s/it]\u001b[A"
     ]
    },
    {
     "name": "stdout",
     "output_type": "stream",
     "text": [
      "✅ Finished scoring: 2005_Charlie.and.the.Chocolate.Factory.2005.BluRay.1080p.DTS.x264.dxva-wsp.ENG\n"
     ]
    },
    {
     "name": "stderr",
     "output_type": "stream",
     "text": [
      "\n",
      "Processing 2003_Pirates.of.the.Caribbean.The.Curse.of.the.Black.Pearl.Remastered\u001b[A\n",
      "Processing 2003_Pirates.of.the.Caribbean.The.Curse.of.the.Black.Pearl.Remastered\u001b[A\n",
      "Processing 2003_Pirates.of.the.Caribbean.The.Curse.of.the.Black.Pearl.Remastered\u001b[A\n",
      "Processing 2003_Pirates.of.the.Caribbean.The.Curse.of.the.Black.Pearl.Remastered\u001b[A\n",
      "Processing 2003_Pirates.of.the.Caribbean.The.Curse.of.the.Black.Pearl.Remastered\u001b[A\n",
      "Processing 2003_Pirates.of.the.Caribbean.The.Curse.of.the.Black.Pearl.Remastered\u001b[A\n",
      "Processing 2003_Pirates.of.the.Caribbean.The.Curse.of.the.Black.Pearl.Remastered\u001b[A\n",
      "Processing 2003_Pirates.of.the.Caribbean.The.Curse.of.the.Black.Pearl.Remastered\u001b[A\n",
      "Scoring movies:  49%|██████████▍          | 219/443 [1:31:30<1:43:17, 27.67s/it]\u001b[A"
     ]
    },
    {
     "name": "stdout",
     "output_type": "stream",
     "text": [
      "✅ Finished scoring: 2003_Pirates.of.the.Caribbean.The.Curse.of.the.Black.Pearl.Remastered.2003.720p.BluRay.DTSx264-ESiR.eng\n"
     ]
    },
    {
     "name": "stderr",
     "output_type": "stream",
     "text": [
      "\n",
      "Processing 1995_Apollo.13.1995.DVDRip.Xvid.AC3-GoRDo.ENG:   0%| | 0/11 [00:00<?,\u001b[A\n",
      "Processing 1995_Apollo.13.1995.DVDRip.Xvid.AC3-GoRDo.ENG:   9%| | 1/11 [00:03<00\u001b[A\n",
      "Processing 1995_Apollo.13.1995.DVDRip.Xvid.AC3-GoRDo.ENG:  18%|▏| 2/11 [00:05<00\u001b[A\n",
      "Processing 1995_Apollo.13.1995.DVDRip.Xvid.AC3-GoRDo.ENG:  27%|▎| 3/11 [00:08<00\u001b[A\n",
      "Processing 1995_Apollo.13.1995.DVDRip.Xvid.AC3-GoRDo.ENG:  36%|▎| 4/11 [00:11<00\u001b[A\n",
      "Processing 1995_Apollo.13.1995.DVDRip.Xvid.AC3-GoRDo.ENG:  45%|▍| 5/11 [00:14<00\u001b[A\n",
      "Processing 1995_Apollo.13.1995.DVDRip.Xvid.AC3-GoRDo.ENG:  55%|▌| 6/11 [00:16<00\u001b[A\n",
      "Processing 1995_Apollo.13.1995.DVDRip.Xvid.AC3-GoRDo.ENG:  64%|▋| 7/11 [00:19<00\u001b[A\n",
      "Processing 1995_Apollo.13.1995.DVDRip.Xvid.AC3-GoRDo.ENG:  73%|▋| 8/11 [00:22<00\u001b[A\n",
      "Processing 1995_Apollo.13.1995.DVDRip.Xvid.AC3-GoRDo.ENG:  82%|▊| 9/11 [00:25<00\u001b[A\n",
      "Processing 1995_Apollo.13.1995.DVDRip.Xvid.AC3-GoRDo.ENG:  91%|▉| 10/11 [00:28<0\u001b[A\n",
      "Processing 1995_Apollo.13.1995.DVDRip.Xvid.AC3-GoRDo.ENG: 100%|█| 11/11 [00:31<0\u001b[A\n",
      "Scoring movies:  50%|██████████▍          | 220/443 [1:32:02<1:47:06, 28.82s/it]\u001b[A"
     ]
    },
    {
     "name": "stdout",
     "output_type": "stream",
     "text": [
      "✅ Finished scoring: 1995_Apollo.13.1995.DVDRip.Xvid.AC3-GoRDo.ENG\n"
     ]
    },
    {
     "name": "stderr",
     "output_type": "stream",
     "text": [
      "\n",
      "Processing 2014_The.Lego.Movie.2014.BluRay.720p.x264.DTS-HDWinG:   0%| | 0/11 [0\u001b[A\n",
      "Processing 2014_The.Lego.Movie.2014.BluRay.720p.x264.DTS-HDWinG:   9%| | 1/11 [0\u001b[A\n",
      "Processing 2014_The.Lego.Movie.2014.BluRay.720p.x264.DTS-HDWinG:  18%|▏| 2/11 [0\u001b[A\n",
      "Processing 2014_The.Lego.Movie.2014.BluRay.720p.x264.DTS-HDWinG:  27%|▎| 3/11 [0\u001b[A\n",
      "Processing 2014_The.Lego.Movie.2014.BluRay.720p.x264.DTS-HDWinG:  36%|▎| 4/11 [0\u001b[A\n",
      "Processing 2014_The.Lego.Movie.2014.BluRay.720p.x264.DTS-HDWinG:  45%|▍| 5/11 [0\u001b[A\n",
      "Processing 2014_The.Lego.Movie.2014.BluRay.720p.x264.DTS-HDWinG:  55%|▌| 6/11 [0\u001b[A\n",
      "Processing 2014_The.Lego.Movie.2014.BluRay.720p.x264.DTS-HDWinG:  64%|▋| 7/11 [0\u001b[A\n",
      "Processing 2014_The.Lego.Movie.2014.BluRay.720p.x264.DTS-HDWinG:  73%|▋| 8/11 [0\u001b[A\n",
      "Processing 2014_The.Lego.Movie.2014.BluRay.720p.x264.DTS-HDWinG:  82%|▊| 9/11 [0\u001b[A\n",
      "Processing 2014_The.Lego.Movie.2014.BluRay.720p.x264.DTS-HDWinG:  91%|▉| 10/11 [\u001b[A\n",
      "Processing 2014_The.Lego.Movie.2014.BluRay.720p.x264.DTS-HDWinG: 100%|█| 11/11 [\u001b[A\n",
      "Scoring movies:  50%|██████████▍          | 221/443 [1:32:30<1:46:20, 28.74s/it]\u001b[A"
     ]
    },
    {
     "name": "stdout",
     "output_type": "stream",
     "text": [
      "✅ Finished scoring: 2014_The.Lego.Movie.2014.BluRay.720p.x264.DTS-HDWinG\n"
     ]
    },
    {
     "name": "stderr",
     "output_type": "stream",
     "text": [
      "\n",
      "Processing 1986_Back to School (1986).ENG:   0%|          | 0/9 [00:00<?, ?it/s]\u001b[A\n",
      "Processing 1986_Back to School (1986).ENG:  11%|▏ | 1/9 [00:02<00:21,  2.72s/it]\u001b[A\n",
      "Processing 1986_Back to School (1986).ENG:  22%|▍ | 2/9 [00:06<00:21,  3.12s/it]\u001b[A\n",
      "Processing 1986_Back to School (1986).ENG:  33%|▋ | 3/9 [00:08<00:17,  2.84s/it]\u001b[A\n",
      "Processing 1986_Back to School (1986).ENG:  44%|▉ | 4/9 [00:11<00:13,  2.80s/it]\u001b[A\n",
      "Processing 1986_Back to School (1986).ENG:  56%|█ | 5/9 [00:13<00:10,  2.74s/it]\u001b[A\n",
      "Processing 1986_Back to School (1986).ENG:  67%|█▎| 6/9 [00:16<00:08,  2.75s/it]\u001b[A\n",
      "Processing 1986_Back to School (1986).ENG:  78%|█▌| 7/9 [00:19<00:05,  2.73s/it]\u001b[A\n",
      "Processing 1986_Back to School (1986).ENG:  89%|█▊| 8/9 [00:22<00:02,  2.73s/it]\u001b[A\n",
      "Processing 1986_Back to School (1986).ENG: 100%|██| 9/9 [00:25<00:00,  2.88s/it]\u001b[A\n",
      "Scoring movies:  50%|██████████▌          | 222/443 [1:32:56<1:42:16, 27.77s/it]\u001b[A"
     ]
    },
    {
     "name": "stdout",
     "output_type": "stream",
     "text": [
      "✅ Finished scoring: 1986_Back to School (1986).ENG\n"
     ]
    },
    {
     "name": "stderr",
     "output_type": "stream",
     "text": [
      "\n",
      "Processing 2002_My.Big.Fat.Greek.Wedding.2002.DVDRip.XviD.AR - ENG:   0%| | 0/5 \u001b[A\n",
      "Processing 2002_My.Big.Fat.Greek.Wedding.2002.DVDRip.XviD.AR - ENG:  20%|▏| 1/5 \u001b[A\n",
      "Processing 2002_My.Big.Fat.Greek.Wedding.2002.DVDRip.XviD.AR - ENG:  40%|▍| 2/5 \u001b[A\n",
      "Processing 2002_My.Big.Fat.Greek.Wedding.2002.DVDRip.XviD.AR - ENG:  60%|▌| 3/5 \u001b[A\n",
      "Processing 2002_My.Big.Fat.Greek.Wedding.2002.DVDRip.XviD.AR - ENG:  80%|▊| 4/5 \u001b[A"
     ]
    },
    {
     "name": "stdout",
     "output_type": "stream",
     "text": [
      "⚠️ Rate limit hit. Waiting 60 seconds...\n"
     ]
    },
    {
     "name": "stderr",
     "output_type": "stream",
     "text": [
      "\n",
      "Processing 2002_My.Big.Fat.Greek.Wedding.2002.DVDRip.XviD.AR - ENG: 100%|█| 5/5 \u001b[A\n",
      "Scoring movies:  50%|██████████▌          | 223/443 [1:34:11<2:33:16, 41.80s/it]\u001b[A"
     ]
    },
    {
     "name": "stdout",
     "output_type": "stream",
     "text": [
      "✅ Finished scoring: 2002_My.Big.Fat.Greek.Wedding.2002.DVDRip.XviD.AR - ENG\n"
     ]
    },
    {
     "name": "stderr",
     "output_type": "stream",
     "text": [
      "\n",
      "Processing 2022_Sonic. the. Hedgehog. 2. 2022. 1080p. WEBRip. DDP5. 1. Atmos. x2\u001b[A\n",
      "Processing 2022_Sonic. the. Hedgehog. 2. 2022. 1080p. WEBRip. DDP5. 1. Atmos. x2\u001b[A\n",
      "Processing 2022_Sonic. the. Hedgehog. 2. 2022. 1080p. WEBRip. DDP5. 1. Atmos. x2\u001b[A\n",
      "Processing 2022_Sonic. the. Hedgehog. 2. 2022. 1080p. WEBRip. DDP5. 1. Atmos. x2\u001b[A\n",
      "Processing 2022_Sonic. the. Hedgehog. 2. 2022. 1080p. WEBRip. DDP5. 1. Atmos. x2\u001b[A\n",
      "Processing 2022_Sonic. the. Hedgehog. 2. 2022. 1080p. WEBRip. DDP5. 1. Atmos. x2\u001b[A\n",
      "Processing 2022_Sonic. the. Hedgehog. 2. 2022. 1080p. WEBRip. DDP5. 1. Atmos. x2\u001b[A\n",
      "Processing 2022_Sonic. the. Hedgehog. 2. 2022. 1080p. WEBRip. DDP5. 1. Atmos. x2\u001b[A\n",
      "Processing 2022_Sonic. the. Hedgehog. 2. 2022. 1080p. WEBRip. DDP5. 1. Atmos. x2\u001b[A\n",
      "Processing 2022_Sonic. the. Hedgehog. 2. 2022. 1080p. WEBRip. DDP5. 1. Atmos. x2\u001b[A\n",
      "Scoring movies:  51%|██████████▌          | 224/443 [1:34:37<2:15:27, 37.11s/it]\u001b[A"
     ]
    },
    {
     "name": "stdout",
     "output_type": "stream",
     "text": [
      "✅ Finished scoring: 2022_Sonic. the. Hedgehog. 2. 2022. 1080p. WEBRip. DDP5. 1. Atmos. x264-NOGRP\n"
     ]
    },
    {
     "name": "stderr",
     "output_type": "stream",
     "text": [
      "\n",
      "Processing 2016_Rogue.One.2016.720p.BluRay.x264-SPARKS:   0%| | 0/9 [00:00<?, ?i\u001b[A\n",
      "Processing 2016_Rogue.One.2016.720p.BluRay.x264-SPARKS:  11%| | 1/9 [00:02<00:21\u001b[A\n",
      "Processing 2016_Rogue.One.2016.720p.BluRay.x264-SPARKS:  22%|▏| 2/9 [00:05<00:18\u001b[A\n",
      "Processing 2016_Rogue.One.2016.720p.BluRay.x264-SPARKS:  33%|▎| 3/9 [00:08<00:17\u001b[A\n",
      "Processing 2016_Rogue.One.2016.720p.BluRay.x264-SPARKS:  44%|▍| 4/9 [00:11<00:13\u001b[A\n",
      "Processing 2016_Rogue.One.2016.720p.BluRay.x264-SPARKS:  56%|▌| 5/9 [00:13<00:10\u001b[A\n",
      "Processing 2016_Rogue.One.2016.720p.BluRay.x264-SPARKS:  67%|▋| 6/9 [00:16<00:08\u001b[A\n",
      "Processing 2016_Rogue.One.2016.720p.BluRay.x264-SPARKS:  78%|▊| 7/9 [00:18<00:05\u001b[A\n",
      "Processing 2016_Rogue.One.2016.720p.BluRay.x264-SPARKS:  89%|▉| 8/9 [00:22<00:02\u001b[A\n",
      "Processing 2016_Rogue.One.2016.720p.BluRay.x264-SPARKS: 100%|█| 9/9 [00:25<00:00\u001b[A\n",
      "Scoring movies:  51%|██████████▋          | 225/443 [1:35:02<2:01:52, 33.54s/it]\u001b[A"
     ]
    },
    {
     "name": "stdout",
     "output_type": "stream",
     "text": [
      "✅ Finished scoring: 2016_Rogue.One.2016.720p.BluRay.x264-SPARKS\n"
     ]
    },
    {
     "name": "stderr",
     "output_type": "stream",
     "text": [
      "\n",
      "Processing 1981_The.Great.Muppet.Caper.1981.AE.DVDRip.XviD-Shoo.ENG:   0%| | 0/8\u001b[A\n",
      "Processing 1981_The.Great.Muppet.Caper.1981.AE.DVDRip.XviD-Shoo.ENG:  12%|▏| 1/8\u001b[A\n",
      "Processing 1981_The.Great.Muppet.Caper.1981.AE.DVDRip.XviD-Shoo.ENG:  25%|▎| 2/8\u001b[A\n",
      "Processing 1981_The.Great.Muppet.Caper.1981.AE.DVDRip.XviD-Shoo.ENG:  38%|▍| 3/8\u001b[A\n",
      "Processing 1981_The.Great.Muppet.Caper.1981.AE.DVDRip.XviD-Shoo.ENG:  50%|▌| 4/8\u001b[A\n",
      "Processing 1981_The.Great.Muppet.Caper.1981.AE.DVDRip.XviD-Shoo.ENG:  62%|▋| 5/8\u001b[A\n",
      "Processing 1981_The.Great.Muppet.Caper.1981.AE.DVDRip.XviD-Shoo.ENG:  75%|▊| 6/8\u001b[A\n",
      "Processing 1981_The.Great.Muppet.Caper.1981.AE.DVDRip.XviD-Shoo.ENG:  88%|▉| 7/8\u001b[A\n",
      "Processing 1981_The.Great.Muppet.Caper.1981.AE.DVDRip.XviD-Shoo.ENG: 100%|█| 8/8\u001b[A\n",
      "Scoring movies:  51%|██████████▋          | 226/443 [1:35:25<1:49:24, 30.25s/it]\u001b[A"
     ]
    },
    {
     "name": "stdout",
     "output_type": "stream",
     "text": [
      "✅ Finished scoring: 1981_The.Great.Muppet.Caper.1981.AE.DVDRip.XviD-Shoo.ENG\n"
     ]
    },
    {
     "name": "stderr",
     "output_type": "stream",
     "text": [
      "\n",
      "Processing 1995_Batman. Forever. 1995. 1080p. BluRay. x264-CULTHD. ENG:   0%| | \u001b[A\n",
      "Processing 1995_Batman. Forever. 1995. 1080p. BluRay. x264-CULTHD. ENG:  14%|▏| \u001b[A\n",
      "Processing 1995_Batman. Forever. 1995. 1080p. BluRay. x264-CULTHD. ENG:  29%|▎| \u001b[A\n",
      "Processing 1995_Batman. Forever. 1995. 1080p. BluRay. x264-CULTHD. ENG:  43%|▍| \u001b[A\n",
      "Processing 1995_Batman. Forever. 1995. 1080p. BluRay. x264-CULTHD. ENG:  57%|▌| \u001b[A\n",
      "Processing 1995_Batman. Forever. 1995. 1080p. BluRay. x264-CULTHD. ENG:  71%|▋| \u001b[A\n",
      "Processing 1995_Batman. Forever. 1995. 1080p. BluRay. x264-CULTHD. ENG:  86%|▊| \u001b[A\n",
      "Processing 1995_Batman. Forever. 1995. 1080p. BluRay. x264-CULTHD. ENG: 100%|█| \u001b[A\n",
      "Scoring movies:  51%|██████████▊          | 227/443 [1:35:45<1:38:15, 27.29s/it]\u001b[A"
     ]
    },
    {
     "name": "stdout",
     "output_type": "stream",
     "text": [
      "✅ Finished scoring: 1995_Batman. Forever. 1995. 1080p. BluRay. x264-CULTHD. ENG\n"
     ]
    },
    {
     "name": "stderr",
     "output_type": "stream",
     "text": [
      "\n",
      "Processing 1993_Sleepless In Seattle (1993).DVD.NonHI.pcc.en.TRSTR:   0%| | 0/12\u001b[A\n",
      "Processing 1993_Sleepless In Seattle (1993).DVD.NonHI.pcc.en.TRSTR:   8%| | 1/12\u001b[A\n",
      "Processing 1993_Sleepless In Seattle (1993).DVD.NonHI.pcc.en.TRSTR:  17%|▏| 2/12\u001b[A\n",
      "Processing 1993_Sleepless In Seattle (1993).DVD.NonHI.pcc.en.TRSTR:  25%|▎| 3/12\u001b[A\n",
      "Processing 1993_Sleepless In Seattle (1993).DVD.NonHI.pcc.en.TRSTR:  33%|▎| 4/12\u001b[A\n",
      "Processing 1993_Sleepless In Seattle (1993).DVD.NonHI.pcc.en.TRSTR:  42%|▍| 5/12\u001b[A\n",
      "Processing 1993_Sleepless In Seattle (1993).DVD.NonHI.pcc.en.TRSTR:  50%|▌| 6/12\u001b[A\n",
      "Processing 1993_Sleepless In Seattle (1993).DVD.NonHI.pcc.en.TRSTR:  58%|▌| 7/12\u001b[A\n",
      "Processing 1993_Sleepless In Seattle (1993).DVD.NonHI.pcc.en.TRSTR:  67%|▋| 8/12\u001b[A\n",
      "Processing 1993_Sleepless In Seattle (1993).DVD.NonHI.pcc.en.TRSTR:  75%|▊| 9/12\u001b[A\n",
      "Processing 1993_Sleepless In Seattle (1993).DVD.NonHI.pcc.en.TRSTR:  83%|▊| 10/1\u001b[A\n",
      "Processing 1993_Sleepless In Seattle (1993).DVD.NonHI.pcc.en.TRSTR:  92%|▉| 11/1\u001b[A\n",
      "Processing 1993_Sleepless In Seattle (1993).DVD.NonHI.pcc.en.TRSTR: 100%|█| 12/1\u001b[A\n",
      "Scoring movies:  51%|██████████▊          | 228/443 [1:36:18<1:44:14, 29.09s/it]\u001b[A"
     ]
    },
    {
     "name": "stdout",
     "output_type": "stream",
     "text": [
      "✅ Finished scoring: 1993_Sleepless In Seattle (1993).DVD.NonHI.pcc.en.TRSTR\n"
     ]
    },
    {
     "name": "stderr",
     "output_type": "stream",
     "text": [
      "\n",
      "Processing 1988_Good Morning Vietnam:   0%|              | 0/10 [00:00<?, ?it/s]\u001b[A\n",
      "Processing 1988_Good Morning Vietnam:  10%|▌     | 1/10 [00:03<00:30,  3.36s/it]\u001b[A\n",
      "Processing 1988_Good Morning Vietnam:  20%|█▏    | 2/10 [00:06<00:23,  2.98s/it]\u001b[A\n",
      "Processing 1988_Good Morning Vietnam:  30%|█▊    | 3/10 [00:09<00:21,  3.04s/it]\u001b[A\n",
      "Processing 1988_Good Morning Vietnam:  40%|██▍   | 4/10 [00:11<00:17,  2.88s/it]\u001b[A\n",
      "Processing 1988_Good Morning Vietnam:  50%|███   | 5/10 [00:14<00:13,  2.76s/it]\u001b[A\n",
      "Processing 1988_Good Morning Vietnam:  60%|███▌  | 6/10 [00:17<00:11,  2.97s/it]\u001b[A\n",
      "Processing 1988_Good Morning Vietnam:  70%|████▏ | 7/10 [00:20<00:08,  2.92s/it]\u001b[A\n",
      "Processing 1988_Good Morning Vietnam:  80%|████▊ | 8/10 [00:23<00:05,  2.86s/it]\u001b[A\n",
      "Processing 1988_Good Morning Vietnam:  90%|█████▍| 9/10 [00:25<00:02,  2.80s/it]\u001b[A\n",
      "Processing 1988_Good Morning Vietnam: 100%|█████| 10/10 [00:28<00:00,  2.86s/it]\u001b[A\n",
      "Scoring movies:  52%|██████████▊          | 229/443 [1:36:47<1:43:37, 29.05s/it]\u001b[A"
     ]
    },
    {
     "name": "stdout",
     "output_type": "stream",
     "text": [
      "✅ Finished scoring: 1988_Good Morning Vietnam\n"
     ]
    },
    {
     "name": "stderr",
     "output_type": "stream",
     "text": [
      "\n",
      "Processing 1979_The.Jerk.1979.1080p.HDDVD.x264-FSiHD.ENG_HI:   0%| | 0/10 [00:00\u001b[A\n",
      "Processing 1979_The.Jerk.1979.1080p.HDDVD.x264-FSiHD.ENG_HI:  10%| | 1/10 [00:03\u001b[A\n",
      "Processing 1979_The.Jerk.1979.1080p.HDDVD.x264-FSiHD.ENG_HI:  20%|▏| 2/10 [00:06\u001b[A\n",
      "Processing 1979_The.Jerk.1979.1080p.HDDVD.x264-FSiHD.ENG_HI:  30%|▎| 3/10 [00:09\u001b[A\n",
      "Processing 1979_The.Jerk.1979.1080p.HDDVD.x264-FSiHD.ENG_HI:  40%|▍| 4/10 [00:12\u001b[A\n",
      "Processing 1979_The.Jerk.1979.1080p.HDDVD.x264-FSiHD.ENG_HI:  50%|▌| 5/10 [00:14\u001b[A\n",
      "Processing 1979_The.Jerk.1979.1080p.HDDVD.x264-FSiHD.ENG_HI:  60%|▌| 6/10 [00:17\u001b[A\n",
      "Processing 1979_The.Jerk.1979.1080p.HDDVD.x264-FSiHD.ENG_HI:  70%|▋| 7/10 [00:20\u001b[A\n",
      "Processing 1979_The.Jerk.1979.1080p.HDDVD.x264-FSiHD.ENG_HI:  80%|▊| 8/10 [00:23\u001b[A\n",
      "Processing 1979_The.Jerk.1979.1080p.HDDVD.x264-FSiHD.ENG_HI:  90%|▉| 9/10 [00:25\u001b[A\n",
      "Processing 1979_The.Jerk.1979.1080p.HDDVD.x264-FSiHD.ENG_HI: 100%|█| 10/10 [00:2\u001b[A\n",
      "Scoring movies:  52%|██████████▉          | 230/443 [1:37:16<1:42:17, 28.82s/it]\u001b[A"
     ]
    },
    {
     "name": "stdout",
     "output_type": "stream",
     "text": [
      "✅ Finished scoring: 1979_The.Jerk.1979.1080p.HDDVD.x264-FSiHD.ENG_HI\n"
     ]
    },
    {
     "name": "stderr",
     "output_type": "stream",
     "text": [
      "\n",
      "Processing 1980_The.Blues.Brothers.1980.EXTENDED.720p.BluRay.X264-AMIABLE:   0%|\u001b[A\n",
      "Processing 1980_The.Blues.Brothers.1980.EXTENDED.720p.BluRay.X264-AMIABLE:  11%|\u001b[A\n",
      "Processing 1980_The.Blues.Brothers.1980.EXTENDED.720p.BluRay.X264-AMIABLE:  22%|\u001b[A\n",
      "Processing 1980_The.Blues.Brothers.1980.EXTENDED.720p.BluRay.X264-AMIABLE:  33%|\u001b[A\n",
      "Processing 1980_The.Blues.Brothers.1980.EXTENDED.720p.BluRay.X264-AMIABLE:  44%|\u001b[A\n",
      "Processing 1980_The.Blues.Brothers.1980.EXTENDED.720p.BluRay.X264-AMIABLE:  56%|\u001b[A\n",
      "Processing 1980_The.Blues.Brothers.1980.EXTENDED.720p.BluRay.X264-AMIABLE:  67%|\u001b[A\n",
      "Processing 1980_The.Blues.Brothers.1980.EXTENDED.720p.BluRay.X264-AMIABLE:  78%|\u001b[A\n",
      "Processing 1980_The.Blues.Brothers.1980.EXTENDED.720p.BluRay.X264-AMIABLE:  89%|\u001b[A\n",
      "Processing 1980_The.Blues.Brothers.1980.EXTENDED.720p.BluRay.X264-AMIABLE: 100%|\u001b[A\n",
      "Scoring movies:  52%|██████████▉          | 231/443 [1:37:40<1:37:30, 27.60s/it]\u001b[A"
     ]
    },
    {
     "name": "stdout",
     "output_type": "stream",
     "text": [
      "✅ Finished scoring: 1980_The.Blues.Brothers.1980.EXTENDED.720p.BluRay.X264-AMIABLE\n"
     ]
    },
    {
     "name": "stderr",
     "output_type": "stream",
     "text": [
      "\n",
      "Processing 2006_Happy.Feet.2006.1080p.BD9.x264-IGUANA.ENG:   0%| | 0/8 [00:00<?,\u001b[A\n",
      "Processing 2006_Happy.Feet.2006.1080p.BD9.x264-IGUANA.ENG:  12%|▏| 1/8 [00:03<00\u001b[A\n",
      "Processing 2006_Happy.Feet.2006.1080p.BD9.x264-IGUANA.ENG:  25%|▎| 2/8 [00:05<00\u001b[A\n",
      "Processing 2006_Happy.Feet.2006.1080p.BD9.x264-IGUANA.ENG:  38%|▍| 3/8 [00:08<00\u001b[A\n",
      "Processing 2006_Happy.Feet.2006.1080p.BD9.x264-IGUANA.ENG:  50%|▌| 4/8 [00:11<00\u001b[A"
     ]
    },
    {
     "name": "stdout",
     "output_type": "stream",
     "text": [
      "⚠️ Rate limit hit. Waiting 60 seconds...\n"
     ]
    },
    {
     "name": "stderr",
     "output_type": "stream",
     "text": [
      "\n",
      "Processing 2006_Happy.Feet.2006.1080p.BD9.x264-IGUANA.ENG:  62%|▋| 5/8 [01:14<01\u001b[A\n",
      "Processing 2006_Happy.Feet.2006.1080p.BD9.x264-IGUANA.ENG:  75%|▊| 6/8 [01:16<00\u001b[A\n",
      "Processing 2006_Happy.Feet.2006.1080p.BD9.x264-IGUANA.ENG:  88%|▉| 7/8 [01:19<00\u001b[A\n",
      "Processing 2006_Happy.Feet.2006.1080p.BD9.x264-IGUANA.ENG: 100%|█| 8/8 [01:22<00\u001b[A\n",
      "Scoring movies:  52%|██████████▉          | 232/443 [1:39:03<2:34:51, 44.03s/it]\u001b[A"
     ]
    },
    {
     "name": "stdout",
     "output_type": "stream",
     "text": [
      "✅ Finished scoring: 2006_Happy.Feet.2006.1080p.BD9.x264-IGUANA.ENG\n"
     ]
    },
    {
     "name": "stderr",
     "output_type": "stream",
     "text": [
      "\n",
      "Processing 1996_Twister.1996.720p.BluRay.x264-HALCYON:   0%| | 0/8 [00:00<?, ?it\u001b[A\n",
      "Processing 1996_Twister.1996.720p.BluRay.x264-HALCYON:  12%|▏| 1/8 [00:02<00:19,\u001b[A\n",
      "Processing 1996_Twister.1996.720p.BluRay.x264-HALCYON:  25%|▎| 2/8 [00:05<00:17,\u001b[A\n",
      "Processing 1996_Twister.1996.720p.BluRay.x264-HALCYON:  38%|▍| 3/8 [00:08<00:13,\u001b[A\n",
      "Processing 1996_Twister.1996.720p.BluRay.x264-HALCYON:  50%|▌| 4/8 [00:10<00:10,\u001b[A\n",
      "Processing 1996_Twister.1996.720p.BluRay.x264-HALCYON:  62%|▋| 5/8 [00:13<00:08,\u001b[A\n",
      "Processing 1996_Twister.1996.720p.BluRay.x264-HALCYON:  75%|▊| 6/8 [00:16<00:05,\u001b[A\n",
      "Processing 1996_Twister.1996.720p.BluRay.x264-HALCYON:  88%|▉| 7/8 [00:19<00:03,\u001b[A\n",
      "Processing 1996_Twister.1996.720p.BluRay.x264-HALCYON: 100%|█| 8/8 [00:22<00:00,\u001b[A\n",
      "Scoring movies:  53%|███████████          | 233/443 [1:39:25<2:11:36, 37.60s/it]\u001b[A"
     ]
    },
    {
     "name": "stdout",
     "output_type": "stream",
     "text": [
      "✅ Finished scoring: 1996_Twister.1996.720p.BluRay.x264-HALCYON\n"
     ]
    },
    {
     "name": "stderr",
     "output_type": "stream",
     "text": [
      "\n",
      "Processing 1997_My.Best.Friends.Wedding.1997.BDRip.X264-TLF:   0%| | 0/7 [00:00<\u001b[A\n",
      "Processing 1997_My.Best.Friends.Wedding.1997.BDRip.X264-TLF:  14%|▏| 1/7 [00:02<\u001b[A\n",
      "Processing 1997_My.Best.Friends.Wedding.1997.BDRip.X264-TLF:  29%|▎| 2/7 [00:05<\u001b[A\n",
      "Processing 1997_My.Best.Friends.Wedding.1997.BDRip.X264-TLF:  43%|▍| 3/7 [00:07<\u001b[A\n",
      "Processing 1997_My.Best.Friends.Wedding.1997.BDRip.X264-TLF:  57%|▌| 4/7 [00:10<\u001b[A\n",
      "Processing 1997_My.Best.Friends.Wedding.1997.BDRip.X264-TLF:  71%|▋| 5/7 [00:13<\u001b[A\n",
      "Processing 1997_My.Best.Friends.Wedding.1997.BDRip.X264-TLF:  86%|▊| 6/7 [00:15<\u001b[A\n",
      "Processing 1997_My.Best.Friends.Wedding.1997.BDRip.X264-TLF: 100%|█| 7/7 [00:18<\u001b[A\n",
      "Scoring movies:  53%|███████████          | 234/443 [1:39:43<1:50:39, 31.77s/it]\u001b[A"
     ]
    },
    {
     "name": "stdout",
     "output_type": "stream",
     "text": [
      "✅ Finished scoring: 1997_My.Best.Friends.Wedding.1997.BDRip.X264-TLF\n"
     ]
    },
    {
     "name": "stderr",
     "output_type": "stream",
     "text": [
      "\n",
      "Processing 2016_Batman.v.Superman.Dawn.of.Justice.2016.EXTENDED.720p.BluRay.x264\u001b[A\n",
      "Processing 2016_Batman.v.Superman.Dawn.of.Justice.2016.EXTENDED.720p.BluRay.x264\u001b[A\n",
      "Processing 2016_Batman.v.Superman.Dawn.of.Justice.2016.EXTENDED.720p.BluRay.x264\u001b[A\n",
      "Processing 2016_Batman.v.Superman.Dawn.of.Justice.2016.EXTENDED.720p.BluRay.x264\u001b[A\n",
      "Processing 2016_Batman.v.Superman.Dawn.of.Justice.2016.EXTENDED.720p.BluRay.x264\u001b[A\n",
      "Processing 2016_Batman.v.Superman.Dawn.of.Justice.2016.EXTENDED.720p.BluRay.x264\u001b[A\n",
      "Processing 2016_Batman.v.Superman.Dawn.of.Justice.2016.EXTENDED.720p.BluRay.x264\u001b[A\n",
      "Processing 2016_Batman.v.Superman.Dawn.of.Justice.2016.EXTENDED.720p.BluRay.x264\u001b[A\n",
      "Processing 2016_Batman.v.Superman.Dawn.of.Justice.2016.EXTENDED.720p.BluRay.x264\u001b[A\n",
      "Processing 2016_Batman.v.Superman.Dawn.of.Justice.2016.EXTENDED.720p.BluRay.x264\u001b[A\n",
      "Scoring movies:  53%|███████████▏         | 235/443 [1:40:08<1:43:02, 29.72s/it]\u001b[A"
     ]
    },
    {
     "name": "stdout",
     "output_type": "stream",
     "text": [
      "✅ Finished scoring: 2016_Batman.v.Superman.Dawn.of.Justice.2016.EXTENDED.720p.BluRay.x264-SPARKS\n"
     ]
    },
    {
     "name": "stderr",
     "output_type": "stream",
     "text": [
      "\n",
      "Processing 2022_Jurassic World_ Dominion:   0%|          | 0/10 [00:00<?, ?it/s]\u001b[A\n",
      "Processing 2022_Jurassic World_ Dominion:  10%|▏ | 1/10 [00:02<00:22,  2.48s/it]\u001b[A\n",
      "Processing 2022_Jurassic World_ Dominion:  20%|▍ | 2/10 [00:05<00:20,  2.52s/it]\u001b[A\n",
      "Processing 2022_Jurassic World_ Dominion:  30%|▌ | 3/10 [00:07<00:17,  2.57s/it]\u001b[A\n",
      "Processing 2022_Jurassic World_ Dominion:  40%|▊ | 4/10 [00:10<00:15,  2.56s/it]\u001b[A\n",
      "Processing 2022_Jurassic World_ Dominion:  50%|█ | 5/10 [00:12<00:13,  2.61s/it]\u001b[A\n",
      "Processing 2022_Jurassic World_ Dominion:  60%|█▏| 6/10 [00:15<00:10,  2.55s/it]\u001b[A\n",
      "Processing 2022_Jurassic World_ Dominion:  70%|█▍| 7/10 [00:18<00:07,  2.63s/it]\u001b[A\n",
      "Processing 2022_Jurassic World_ Dominion:  80%|█▌| 8/10 [00:20<00:05,  2.67s/it]\u001b[A\n",
      "Processing 2022_Jurassic World_ Dominion:  90%|█▊| 9/10 [00:23<00:02,  2.71s/it]\u001b[A\n",
      "Processing 2022_Jurassic World_ Dominion: 100%|█| 10/10 [00:26<00:00,  2.68s/it]\u001b[A\n",
      "Scoring movies:  53%|███████████▏         | 236/443 [1:40:35<1:38:59, 28.69s/it]\u001b[A"
     ]
    },
    {
     "name": "stdout",
     "output_type": "stream",
     "text": [
      "✅ Finished scoring: 2022_Jurassic World_ Dominion\n"
     ]
    },
    {
     "name": "stderr",
     "output_type": "stream",
     "text": [
      "\n",
      "Processing 2016_Captain.America.Civil.War.2016.720p.BluRay.X264-AMIABLE:   0%| |\u001b[A\n",
      "Processing 2016_Captain.America.Civil.War.2016.720p.BluRay.X264-AMIABLE:   9%| |\u001b[A\n",
      "Processing 2016_Captain.America.Civil.War.2016.720p.BluRay.X264-AMIABLE:  18%|▏|\u001b[A\n",
      "Processing 2016_Captain.America.Civil.War.2016.720p.BluRay.X264-AMIABLE:  27%|▎|\u001b[A\n",
      "Processing 2016_Captain.America.Civil.War.2016.720p.BluRay.X264-AMIABLE:  36%|▎|\u001b[A\n",
      "Processing 2016_Captain.America.Civil.War.2016.720p.BluRay.X264-AMIABLE:  45%|▍|\u001b[A\n",
      "Processing 2016_Captain.America.Civil.War.2016.720p.BluRay.X264-AMIABLE:  55%|▌|\u001b[A\n",
      "Processing 2016_Captain.America.Civil.War.2016.720p.BluRay.X264-AMIABLE:  64%|▋|\u001b[A\n",
      "Processing 2016_Captain.America.Civil.War.2016.720p.BluRay.X264-AMIABLE:  73%|▋|\u001b[A\n",
      "Processing 2016_Captain.America.Civil.War.2016.720p.BluRay.X264-AMIABLE:  82%|▊|\u001b[A\n",
      "Processing 2016_Captain.America.Civil.War.2016.720p.BluRay.X264-AMIABLE:  91%|▉|\u001b[A\n",
      "Processing 2016_Captain.America.Civil.War.2016.720p.BluRay.X264-AMIABLE: 100%|█|\u001b[A\n",
      "Scoring movies:  53%|███████████▏         | 237/443 [1:41:05<1:40:35, 29.30s/it]\u001b[A"
     ]
    },
    {
     "name": "stdout",
     "output_type": "stream",
     "text": [
      "✅ Finished scoring: 2016_Captain.America.Civil.War.2016.720p.BluRay.X264-AMIABLE\n"
     ]
    },
    {
     "name": "stderr",
     "output_type": "stream",
     "text": [
      "\n",
      "Processing 1994_The.Flintstones.1994.720p.BluRay.x264-TRiPS:   0%| | 0/7 [00:00<\u001b[A\n",
      "Processing 1994_The.Flintstones.1994.720p.BluRay.x264-TRiPS:  14%|▏| 1/7 [00:02<\u001b[A\n",
      "Processing 1994_The.Flintstones.1994.720p.BluRay.x264-TRiPS:  29%|▎| 2/7 [00:05<\u001b[A\n",
      "Processing 1994_The.Flintstones.1994.720p.BluRay.x264-TRiPS:  43%|▍| 3/7 [00:08<\u001b[A\n",
      "Processing 1994_The.Flintstones.1994.720p.BluRay.x264-TRiPS:  57%|▌| 4/7 [00:11<\u001b[A\n",
      "Processing 1994_The.Flintstones.1994.720p.BluRay.x264-TRiPS:  71%|▋| 5/7 [00:13<\u001b[A\n",
      "Processing 1994_The.Flintstones.1994.720p.BluRay.x264-TRiPS:  86%|▊| 6/7 [00:16<\u001b[A\n",
      "Processing 1994_The.Flintstones.1994.720p.BluRay.x264-TRiPS: 100%|█| 7/7 [00:19<\u001b[A\n",
      "Scoring movies:  54%|███████████▎         | 238/443 [1:41:25<1:30:02, 26.35s/it]\u001b[A"
     ]
    },
    {
     "name": "stdout",
     "output_type": "stream",
     "text": [
      "✅ Finished scoring: 1994_The.Flintstones.1994.720p.BluRay.x264-TRiPS\n"
     ]
    },
    {
     "name": "stderr",
     "output_type": "stream",
     "text": [
      "\n",
      "Processing 1991_Teenage Mutant Ninja Turtles 2:   0%|     | 0/6 [00:00<?, ?it/s]\u001b[A\n",
      "Processing 1991_Teenage Mutant Ninja Turtles 2:  17%|▏| 1/6 [00:04<00:21,  4.28s\u001b[A\n",
      "Processing 1991_Teenage Mutant Ninja Turtles 2:  33%|▎| 2/6 [00:06<00:13,  3.36s\u001b[A\n",
      "Processing 1991_Teenage Mutant Ninja Turtles 2:  50%|▌| 3/6 [00:09<00:08,  3.00s\u001b[A\n",
      "Processing 1991_Teenage Mutant Ninja Turtles 2:  67%|▋| 4/6 [00:12<00:05,  2.91s\u001b[A\n",
      "Processing 1991_Teenage Mutant Ninja Turtles 2:  83%|▊| 5/6 [00:15<00:02,  2.85s\u001b[A"
     ]
    },
    {
     "name": "stdout",
     "output_type": "stream",
     "text": [
      "⚠️ Rate limit hit. Waiting 60 seconds...\n"
     ]
    },
    {
     "name": "stderr",
     "output_type": "stream",
     "text": [
      "\n",
      "Processing 1991_Teenage Mutant Ninja Turtles 2: 100%|█| 6/6 [01:18<00:00, 23.41s\u001b[A\n",
      "Scoring movies:  54%|███████████▎         | 239/443 [1:42:43<2:22:42, 41.97s/it]\u001b[A"
     ]
    },
    {
     "name": "stdout",
     "output_type": "stream",
     "text": [
      "✅ Finished scoring: 1991_Teenage Mutant Ninja Turtles 2\n"
     ]
    },
    {
     "name": "stderr",
     "output_type": "stream",
     "text": [
      "\n",
      "Processing 2021_Venom.Let.There.Be.Carnage.2021.HDRip.XviD.AC3-EVO:   0%| | 0/8 \u001b[A\n",
      "Processing 2021_Venom.Let.There.Be.Carnage.2021.HDRip.XviD.AC3-EVO:  12%|▏| 1/8 \u001b[A\n",
      "Processing 2021_Venom.Let.There.Be.Carnage.2021.HDRip.XviD.AC3-EVO:  25%|▎| 2/8 \u001b[A\n",
      "Processing 2021_Venom.Let.There.Be.Carnage.2021.HDRip.XviD.AC3-EVO:  38%|▍| 3/8 \u001b[A\n",
      "Processing 2021_Venom.Let.There.Be.Carnage.2021.HDRip.XviD.AC3-EVO:  50%|▌| 4/8 \u001b[A\n",
      "Processing 2021_Venom.Let.There.Be.Carnage.2021.HDRip.XviD.AC3-EVO:  62%|▋| 5/8 \u001b[A\n",
      "Processing 2021_Venom.Let.There.Be.Carnage.2021.HDRip.XviD.AC3-EVO:  75%|▊| 6/8 \u001b[A\n",
      "Processing 2021_Venom.Let.There.Be.Carnage.2021.HDRip.XviD.AC3-EVO:  88%|▉| 7/8 \u001b[A\n",
      "Processing 2021_Venom.Let.There.Be.Carnage.2021.HDRip.XviD.AC3-EVO: 100%|█| 8/8 \u001b[A\n",
      "Scoring movies:  54%|███████████▍         | 240/443 [1:43:05<2:01:22, 35.88s/it]\u001b[A"
     ]
    },
    {
     "name": "stdout",
     "output_type": "stream",
     "text": [
      "✅ Finished scoring: 2021_Venom.Let.There.Be.Carnage.2021.HDRip.XviD.AC3-EVO\n"
     ]
    },
    {
     "name": "stderr",
     "output_type": "stream",
     "text": [
      "\n",
      "Processing 2014_Captain.America.The.Winter.Soldier.2014.720p.BluRay.x264-SPARKS:\u001b[A\n",
      "Processing 2014_Captain.America.The.Winter.Soldier.2014.720p.BluRay.x264-SPARKS:\u001b[A\n",
      "Processing 2014_Captain.America.The.Winter.Soldier.2014.720p.BluRay.x264-SPARKS:\u001b[A\n",
      "Processing 2014_Captain.America.The.Winter.Soldier.2014.720p.BluRay.x264-SPARKS:\u001b[A\n",
      "Processing 2014_Captain.America.The.Winter.Soldier.2014.720p.BluRay.x264-SPARKS:\u001b[A\n",
      "Processing 2014_Captain.America.The.Winter.Soldier.2014.720p.BluRay.x264-SPARKS:\u001b[A\n",
      "Processing 2014_Captain.America.The.Winter.Soldier.2014.720p.BluRay.x264-SPARKS:\u001b[A\n",
      "Processing 2014_Captain.America.The.Winter.Soldier.2014.720p.BluRay.x264-SPARKS:\u001b[A\n",
      "Processing 2014_Captain.America.The.Winter.Soldier.2014.720p.BluRay.x264-SPARKS:\u001b[A\n",
      "Processing 2014_Captain.America.The.Winter.Soldier.2014.720p.BluRay.x264-SPARKS:\u001b[A\n",
      "Scoring movies:  54%|███████████▍         | 241/443 [1:43:30<1:49:25, 32.50s/it]\u001b[A"
     ]
    },
    {
     "name": "stdout",
     "output_type": "stream",
     "text": [
      "✅ Finished scoring: 2014_Captain.America.The.Winter.Soldier.2014.720p.BluRay.x264-SPARKS\n"
     ]
    },
    {
     "name": "stderr",
     "output_type": "stream",
     "text": [
      "\n",
      "Processing 1982_Rocky III:   0%|                          | 0/7 [00:00<?, ?it/s]\u001b[A\n",
      "Processing 1982_Rocky III:  14%|██▌               | 1/7 [00:02<00:16,  2.78s/it]\u001b[A\n",
      "Processing 1982_Rocky III:  29%|█████▏            | 2/7 [00:05<00:13,  2.78s/it]\u001b[A\n",
      "Processing 1982_Rocky III:  43%|███████▋          | 3/7 [00:08<00:10,  2.69s/it]\u001b[A\n",
      "Processing 1982_Rocky III:  57%|██████████▎       | 4/7 [00:11<00:08,  2.76s/it]\u001b[A\n",
      "Processing 1982_Rocky III:  71%|████████████▊     | 5/7 [00:14<00:05,  2.94s/it]\u001b[A\n",
      "Processing 1982_Rocky III:  86%|███████████████▍  | 6/7 [00:16<00:02,  2.83s/it]\u001b[A\n",
      "Processing 1982_Rocky III: 100%|██████████████████| 7/7 [00:19<00:00,  2.91s/it]\u001b[A\n",
      "Scoring movies:  55%|███████████▍         | 242/443 [1:43:50<1:36:18, 28.75s/it]\u001b[A"
     ]
    },
    {
     "name": "stdout",
     "output_type": "stream",
     "text": [
      "✅ Finished scoring: 1982_Rocky III\n"
     ]
    },
    {
     "name": "stderr",
     "output_type": "stream",
     "text": [
      "\n",
      "Processing 2013_Frozen.2013.720p.BluRay.x264-SPARKS:   0%| | 0/10 [00:00<?, ?it/\u001b[A\n",
      "Processing 2013_Frozen.2013.720p.BluRay.x264-SPARKS:  10%| | 1/10 [00:03<00:27, \u001b[A\n",
      "Processing 2013_Frozen.2013.720p.BluRay.x264-SPARKS:  20%|▏| 2/10 [00:05<00:22, \u001b[A\n",
      "Processing 2013_Frozen.2013.720p.BluRay.x264-SPARKS:  30%|▎| 3/10 [00:08<00:21, \u001b[A\n",
      "Processing 2013_Frozen.2013.720p.BluRay.x264-SPARKS:  40%|▍| 4/10 [00:11<00:16, \u001b[A\n",
      "Processing 2013_Frozen.2013.720p.BluRay.x264-SPARKS:  50%|▌| 5/10 [00:14<00:13, \u001b[A\n",
      "Processing 2013_Frozen.2013.720p.BluRay.x264-SPARKS:  60%|▌| 6/10 [00:16<00:10, \u001b[A\n",
      "Processing 2013_Frozen.2013.720p.BluRay.x264-SPARKS:  70%|▋| 7/10 [00:19<00:08, \u001b[A\n",
      "Processing 2013_Frozen.2013.720p.BluRay.x264-SPARKS:  80%|▊| 8/10 [00:22<00:05, \u001b[A\n",
      "Processing 2013_Frozen.2013.720p.BluRay.x264-SPARKS:  90%|▉| 9/10 [00:25<00:02, \u001b[A\n",
      "Processing 2013_Frozen.2013.720p.BluRay.x264-SPARKS: 100%|█| 10/10 [00:27<00:00,\u001b[A\n",
      "Scoring movies:  55%|███████████▌         | 243/443 [1:44:17<1:34:54, 28.47s/it]\u001b[A"
     ]
    },
    {
     "name": "stdout",
     "output_type": "stream",
     "text": [
      "✅ Finished scoring: 2013_Frozen.2013.720p.BluRay.x264-SPARKS\n"
     ]
    },
    {
     "name": "stderr",
     "output_type": "stream",
     "text": [
      "\n",
      "Processing 1988_Coming.To.America.1988.1080p.BluRay.x264-Japhson.ENG:   0%| | 0/\u001b[A\n",
      "Processing 1988_Coming.To.America.1988.1080p.BluRay.x264-Japhson.ENG:  17%|▏| 1/\u001b[A\n",
      "Processing 1988_Coming.To.America.1988.1080p.BluRay.x264-Japhson.ENG:  33%|▎| 2/\u001b[A\n",
      "Processing 1988_Coming.To.America.1988.1080p.BluRay.x264-Japhson.ENG:  50%|▌| 3/\u001b[A\n",
      "Processing 1988_Coming.To.America.1988.1080p.BluRay.x264-Japhson.ENG:  67%|▋| 4/\u001b[A\n",
      "Processing 1988_Coming.To.America.1988.1080p.BluRay.x264-Japhson.ENG:  83%|▊| 5/\u001b[A\n",
      "Processing 1988_Coming.To.America.1988.1080p.BluRay.x264-Japhson.ENG: 100%|█| 6/\u001b[A\n",
      "Scoring movies:  55%|███████████▌         | 244/443 [1:44:33<1:21:22, 24.54s/it]\u001b[A"
     ]
    },
    {
     "name": "stdout",
     "output_type": "stream",
     "text": [
      "✅ Finished scoring: 1988_Coming.To.America.1988.1080p.BluRay.x264-Japhson.ENG\n"
     ]
    },
    {
     "name": "stderr",
     "output_type": "stream",
     "text": [
      "\n",
      "Processing 2003_Terminator.3.2003.720p.HDDVD.x264-ESiR.ENG:   0%| | 0/5 [00:00<?\u001b[A\n",
      "Processing 2003_Terminator.3.2003.720p.HDDVD.x264-ESiR.ENG:  20%|▏| 1/5 [00:02<0\u001b[A\n",
      "Processing 2003_Terminator.3.2003.720p.HDDVD.x264-ESiR.ENG:  40%|▍| 2/5 [00:05<0\u001b[A\n",
      "Processing 2003_Terminator.3.2003.720p.HDDVD.x264-ESiR.ENG:  60%|▌| 3/5 [00:07<0\u001b[A\n",
      "Processing 2003_Terminator.3.2003.720p.HDDVD.x264-ESiR.ENG:  80%|▊| 4/5 [00:10<0\u001b[A\n",
      "Processing 2003_Terminator.3.2003.720p.HDDVD.x264-ESiR.ENG: 100%|█| 5/5 [00:12<0\u001b[A\n",
      "Scoring movies:  55%|███████████▌         | 245/443 [1:44:46<1:09:20, 21.01s/it]\u001b[A"
     ]
    },
    {
     "name": "stdout",
     "output_type": "stream",
     "text": [
      "✅ Finished scoring: 2003_Terminator.3.2003.720p.HDDVD.x264-ESiR.ENG\n"
     ]
    },
    {
     "name": "stderr",
     "output_type": "stream",
     "text": [
      "\n",
      "Processing 1996_Independence.Day.1996.1080p.BluRay.DTS.x264-HDME.ENG:   0%| | 0/\u001b[A\n",
      "Processing 1996_Independence.Day.1996.1080p.BluRay.DTS.x264-HDME.ENG:   7%| | 1/\u001b[A\n",
      "Processing 1996_Independence.Day.1996.1080p.BluRay.DTS.x264-HDME.ENG:  14%|▏| 2/\u001b[A\n",
      "Processing 1996_Independence.Day.1996.1080p.BluRay.DTS.x264-HDME.ENG:  21%|▏| 3/\u001b[A\n",
      "Processing 1996_Independence.Day.1996.1080p.BluRay.DTS.x264-HDME.ENG:  29%|▎| 4/\u001b[A\n",
      "Processing 1996_Independence.Day.1996.1080p.BluRay.DTS.x264-HDME.ENG:  36%|▎| 5/\u001b[A\n",
      "Processing 1996_Independence.Day.1996.1080p.BluRay.DTS.x264-HDME.ENG:  43%|▍| 6/\u001b[A\n",
      "Processing 1996_Independence.Day.1996.1080p.BluRay.DTS.x264-HDME.ENG:  50%|▌| 7/\u001b[A\n",
      "Processing 1996_Independence.Day.1996.1080p.BluRay.DTS.x264-HDME.ENG:  57%|▌| 8/\u001b[A\n",
      "Processing 1996_Independence.Day.1996.1080p.BluRay.DTS.x264-HDME.ENG:  64%|▋| 9/\u001b[A\n",
      "Processing 1996_Independence.Day.1996.1080p.BluRay.DTS.x264-HDME.ENG:  71%|▋| 10\u001b[A\n",
      "Processing 1996_Independence.Day.1996.1080p.BluRay.DTS.x264-HDME.ENG:  79%|▊| 11\u001b[A\n",
      "Processing 1996_Independence.Day.1996.1080p.BluRay.DTS.x264-HDME.ENG:  86%|▊| 12\u001b[A\n",
      "Processing 1996_Independence.Day.1996.1080p.BluRay.DTS.x264-HDME.ENG:  93%|▉| 13\u001b[A\n",
      "Processing 1996_Independence.Day.1996.1080p.BluRay.DTS.x264-HDME.ENG: 100%|█| 14\u001b[A\n",
      "Scoring movies:  56%|███████████▋         | 246/443 [1:45:22<1:24:08, 25.63s/it]\u001b[A"
     ]
    },
    {
     "name": "stdout",
     "output_type": "stream",
     "text": [
      "✅ Finished scoring: 1996_Independence.Day.1996.1080p.BluRay.DTS.x264-HDME.ENG\n"
     ]
    },
    {
     "name": "stderr",
     "output_type": "stream",
     "text": [
      "\n",
      "Processing 1992_Basic.Instinct.1992.720p.HDDVD.x264-ESiR:   0%| | 0/7 [00:00<?, \u001b[A\n",
      "Processing 1992_Basic.Instinct.1992.720p.HDDVD.x264-ESiR:  14%|▏| 1/7 [00:02<00:\u001b[A\n",
      "Processing 1992_Basic.Instinct.1992.720p.HDDVD.x264-ESiR:  29%|▎| 2/7 [00:04<00:\u001b[A\n",
      "Processing 1992_Basic.Instinct.1992.720p.HDDVD.x264-ESiR:  43%|▍| 3/7 [00:07<00:\u001b[A\n",
      "Processing 1992_Basic.Instinct.1992.720p.HDDVD.x264-ESiR:  57%|▌| 4/7 [00:09<00:\u001b[A\n",
      "Processing 1992_Basic.Instinct.1992.720p.HDDVD.x264-ESiR:  71%|▋| 5/7 [00:12<00:\u001b[A\n",
      "Processing 1992_Basic.Instinct.1992.720p.HDDVD.x264-ESiR:  86%|▊| 6/7 [00:14<00:\u001b[A\n",
      "Processing 1992_Basic.Instinct.1992.720p.HDDVD.x264-ESiR: 100%|█| 7/7 [00:17<00:\u001b[A\n",
      "Scoring movies:  56%|███████████▋         | 247/443 [1:45:39<1:15:38, 23.16s/it]\u001b[A"
     ]
    },
    {
     "name": "stdout",
     "output_type": "stream",
     "text": [
      "✅ Finished scoring: 1992_Basic.Instinct.1992.720p.HDDVD.x264-ESiR\n"
     ]
    },
    {
     "name": "stderr",
     "output_type": "stream",
     "text": [
      "\n",
      "Processing 1982_Porkys:   0%|                            | 0/11 [00:00<?, ?it/s]\u001b[A\n",
      "Processing 1982_Porkys:   9%|█▊                  | 1/11 [00:03<00:30,  3.08s/it]\u001b[A\n",
      "Processing 1982_Porkys:  18%|███▋                | 2/11 [00:05<00:24,  2.76s/it]\u001b[A\n",
      "Processing 1982_Porkys:  27%|█████▍              | 3/11 [00:08<00:23,  2.99s/it]\u001b[A\n",
      "Processing 1982_Porkys:  36%|███████▎            | 4/11 [00:11<00:20,  2.86s/it]\u001b[A\n",
      "Processing 1982_Porkys:  45%|█████████           | 5/11 [00:14<00:16,  2.77s/it]\u001b[A\n",
      "Processing 1982_Porkys:  55%|██████████▉         | 6/11 [00:16<00:13,  2.71s/it]\u001b[A\n",
      "Processing 1982_Porkys:  64%|████████████▋       | 7/11 [00:20<00:11,  2.96s/it]\u001b[A"
     ]
    },
    {
     "name": "stdout",
     "output_type": "stream",
     "text": [
      "⚠️ Rate limit hit. Waiting 60 seconds...\n"
     ]
    },
    {
     "name": "stderr",
     "output_type": "stream",
     "text": [
      "\n",
      "Processing 1982_Porkys:  73%|██████████████▌     | 8/11 [01:22<01:05, 21.97s/it]\u001b[A\n",
      "Processing 1982_Porkys:  82%|████████████████▎   | 9/11 [01:25<00:31, 15.92s/it]\u001b[A\n",
      "Processing 1982_Porkys:  91%|█████████████████▎ | 10/11 [01:28<00:11, 11.83s/it]\u001b[A\n",
      "Processing 1982_Porkys: 100%|███████████████████| 11/11 [01:30<00:00,  8.96s/it]\u001b[A\n",
      "Scoring movies:  56%|███████████▊         | 248/443 [1:47:10<2:21:03, 43.40s/it]\u001b[A"
     ]
    },
    {
     "name": "stdout",
     "output_type": "stream",
     "text": [
      "✅ Finished scoring: 1982_Porkys\n"
     ]
    },
    {
     "name": "stderr",
     "output_type": "stream",
     "text": [
      "\n",
      "Processing 2015_Furious.Seven.2015.EXTENDED.720p.BluRay.x264-SPARKS:   0%| | 0/9\u001b[A\n",
      "Processing 2015_Furious.Seven.2015.EXTENDED.720p.BluRay.x264-SPARKS:  11%| | 1/9\u001b[A\n",
      "Processing 2015_Furious.Seven.2015.EXTENDED.720p.BluRay.x264-SPARKS:  22%|▏| 2/9\u001b[A\n",
      "Processing 2015_Furious.Seven.2015.EXTENDED.720p.BluRay.x264-SPARKS:  33%|▎| 3/9\u001b[A\n",
      "Processing 2015_Furious.Seven.2015.EXTENDED.720p.BluRay.x264-SPARKS:  44%|▍| 4/9\u001b[A\n",
      "Processing 2015_Furious.Seven.2015.EXTENDED.720p.BluRay.x264-SPARKS:  56%|▌| 5/9\u001b[A\n",
      "Processing 2015_Furious.Seven.2015.EXTENDED.720p.BluRay.x264-SPARKS:  67%|▋| 6/9\u001b[A\n",
      "Processing 2015_Furious.Seven.2015.EXTENDED.720p.BluRay.x264-SPARKS:  78%|▊| 7/9\u001b[A\n",
      "Processing 2015_Furious.Seven.2015.EXTENDED.720p.BluRay.x264-SPARKS:  89%|▉| 8/9\u001b[A\n",
      "Processing 2015_Furious.Seven.2015.EXTENDED.720p.BluRay.x264-SPARKS: 100%|█| 9/9\u001b[A\n",
      "Scoring movies:  56%|███████████▊         | 249/443 [1:47:35<2:02:41, 37.94s/it]\u001b[A"
     ]
    },
    {
     "name": "stdout",
     "output_type": "stream",
     "text": [
      "✅ Finished scoring: 2015_Furious.Seven.2015.EXTENDED.720p.BluRay.x264-SPARKS\n"
     ]
    },
    {
     "name": "stderr",
     "output_type": "stream",
     "text": [
      "\n",
      "Processing 2009_Ice.Age.3 .R5.LINE.XviD-COALiTiON (Edited):   0%| | 0/3 [00:00<?\u001b[A\n",
      "Processing 2009_Ice.Age.3 .R5.LINE.XviD-COALiTiON (Edited):  33%|▎| 1/3 [00:02<0\u001b[A\n",
      "Processing 2009_Ice.Age.3 .R5.LINE.XviD-COALiTiON (Edited):  67%|▋| 2/3 [00:05<0\u001b[A\n",
      "Processing 2009_Ice.Age.3 .R5.LINE.XviD-COALiTiON (Edited): 100%|█| 3/3 [00:08<0\u001b[A\n",
      "Scoring movies:  56%|███████████▊         | 250/443 [1:47:44<1:34:00, 29.23s/it]\u001b[A"
     ]
    },
    {
     "name": "stdout",
     "output_type": "stream",
     "text": [
      "✅ Finished scoring: 2009_Ice.Age.3 .R5.LINE.XviD-COALiTiON (Edited)\n"
     ]
    },
    {
     "name": "stderr",
     "output_type": "stream",
     "text": [
      "\n",
      "Processing 2000_Gladiator.EXTENDED.EDITION.2000.BluRay.1080p.DTS.x264.dxva-EuReK\u001b[A\n",
      "Processing 2000_Gladiator.EXTENDED.EDITION.2000.BluRay.1080p.DTS.x264.dxva-EuReK\u001b[A\n",
      "Processing 2000_Gladiator.EXTENDED.EDITION.2000.BluRay.1080p.DTS.x264.dxva-EuReK\u001b[A\n",
      "Processing 2000_Gladiator.EXTENDED.EDITION.2000.BluRay.1080p.DTS.x264.dxva-EuReK\u001b[A\n",
      "Processing 2000_Gladiator.EXTENDED.EDITION.2000.BluRay.1080p.DTS.x264.dxva-EuReK\u001b[A\n",
      "Processing 2000_Gladiator.EXTENDED.EDITION.2000.BluRay.1080p.DTS.x264.dxva-EuReK\u001b[A\n",
      "Processing 2000_Gladiator.EXTENDED.EDITION.2000.BluRay.1080p.DTS.x264.dxva-EuReK\u001b[A\n",
      "Processing 2000_Gladiator.EXTENDED.EDITION.2000.BluRay.1080p.DTS.x264.dxva-EuReK\u001b[A\n",
      "Processing 2000_Gladiator.EXTENDED.EDITION.2000.BluRay.1080p.DTS.x264.dxva-EuReK\u001b[A\n",
      "Scoring movies:  57%|███████████▉         | 251/443 [1:48:06<1:26:34, 27.06s/it]\u001b[A"
     ]
    },
    {
     "name": "stdout",
     "output_type": "stream",
     "text": [
      "✅ Finished scoring: 2000_Gladiator.EXTENDED.EDITION.2000.BluRay.1080p.DTS.x264.dxva-EuReKA.ENG\n"
     ]
    },
    {
     "name": "stderr",
     "output_type": "stream",
     "text": [
      "\n",
      "Processing 2018_Avengers Infinity War 2018 NEW PROPER HD-CAM 720p Hindi + Englis\u001b[A\n",
      "Processing 2018_Avengers Infinity War 2018 NEW PROPER HD-CAM 720p Hindi + Englis\u001b[A\n",
      "Processing 2018_Avengers Infinity War 2018 NEW PROPER HD-CAM 720p Hindi + Englis\u001b[A\n",
      "Processing 2018_Avengers Infinity War 2018 NEW PROPER HD-CAM 720p Hindi + Englis\u001b[A\n",
      "Processing 2018_Avengers Infinity War 2018 NEW PROPER HD-CAM 720p Hindi + Englis\u001b[A\n",
      "Processing 2018_Avengers Infinity War 2018 NEW PROPER HD-CAM 720p Hindi + Englis\u001b[A\n",
      "Processing 2018_Avengers Infinity War 2018 NEW PROPER HD-CAM 720p Hindi + Englis\u001b[A\n",
      "Processing 2018_Avengers Infinity War 2018 NEW PROPER HD-CAM 720p Hindi + Englis\u001b[A\n",
      "Processing 2018_Avengers Infinity War 2018 NEW PROPER HD-CAM 720p Hindi + Englis\u001b[A\n",
      "Scoring movies:  57%|███████████▉         | 252/443 [1:48:27<1:20:37, 25.33s/it]\u001b[A"
     ]
    },
    {
     "name": "stdout",
     "output_type": "stream",
     "text": [
      "✅ Finished scoring: 2018_Avengers Infinity War 2018 NEW PROPER HD-CAM 720p Hindi + English X264 CPG - KatmovieHD.Ney\n"
     ]
    },
    {
     "name": "stderr",
     "output_type": "stream",
     "text": [
      "\n",
      "Processing 1992_ARG-LETHAL_WEAPON_3___1992__PALDVDRIP__XVID_MP3_ENG__A_RG:   0%|\u001b[A\n",
      "Processing 1992_ARG-LETHAL_WEAPON_3___1992__PALDVDRIP__XVID_MP3_ENG__A_RG:   9%|\u001b[A\n",
      "Processing 1992_ARG-LETHAL_WEAPON_3___1992__PALDVDRIP__XVID_MP3_ENG__A_RG:  18%|\u001b[A\n",
      "Processing 1992_ARG-LETHAL_WEAPON_3___1992__PALDVDRIP__XVID_MP3_ENG__A_RG:  27%|\u001b[A\n",
      "Processing 1992_ARG-LETHAL_WEAPON_3___1992__PALDVDRIP__XVID_MP3_ENG__A_RG:  36%|\u001b[A\n",
      "Processing 1992_ARG-LETHAL_WEAPON_3___1992__PALDVDRIP__XVID_MP3_ENG__A_RG:  45%|\u001b[A\n",
      "Processing 1992_ARG-LETHAL_WEAPON_3___1992__PALDVDRIP__XVID_MP3_ENG__A_RG:  55%|\u001b[A\n",
      "Processing 1992_ARG-LETHAL_WEAPON_3___1992__PALDVDRIP__XVID_MP3_ENG__A_RG:  64%|\u001b[A\n",
      "Processing 1992_ARG-LETHAL_WEAPON_3___1992__PALDVDRIP__XVID_MP3_ENG__A_RG:  73%|\u001b[A\n",
      "Processing 1992_ARG-LETHAL_WEAPON_3___1992__PALDVDRIP__XVID_MP3_ENG__A_RG:  82%|\u001b[A\n",
      "Processing 1992_ARG-LETHAL_WEAPON_3___1992__PALDVDRIP__XVID_MP3_ENG__A_RG:  91%|\u001b[A\n",
      "Processing 1992_ARG-LETHAL_WEAPON_3___1992__PALDVDRIP__XVID_MP3_ENG__A_RG: 100%|\u001b[A\n",
      "Scoring movies:  57%|███████████▉         | 253/443 [1:48:57<1:24:28, 26.67s/it]\u001b[A"
     ]
    },
    {
     "name": "stdout",
     "output_type": "stream",
     "text": [
      "✅ Finished scoring: 1992_ARG-LETHAL_WEAPON_3___1992__PALDVDRIP__XVID_MP3_ENG__A_RG\n"
     ]
    },
    {
     "name": "stderr",
     "output_type": "stream",
     "text": [
      "\n",
      "Processing 1998_Godzilla:   0%|                           | 0/7 [00:00<?, ?it/s]\u001b[A\n",
      "Processing 1998_Godzilla:  14%|██▋                | 1/7 [00:02<00:15,  2.61s/it]\u001b[A\n",
      "Processing 1998_Godzilla:  29%|█████▍             | 2/7 [00:05<00:13,  2.60s/it]\u001b[A\n",
      "Processing 1998_Godzilla:  43%|████████▏          | 3/7 [00:07<00:10,  2.55s/it]\u001b[A\n",
      "Processing 1998_Godzilla:  57%|██████████▊        | 4/7 [00:10<00:08,  2.77s/it]\u001b[A\n",
      "Processing 1998_Godzilla:  71%|█████████████▌     | 5/7 [00:13<00:05,  2.70s/it]\u001b[A\n",
      "Processing 1998_Godzilla:  86%|████████████████▎  | 6/7 [00:16<00:02,  2.77s/it]\u001b[A\n",
      "Processing 1998_Godzilla: 100%|███████████████████| 7/7 [00:18<00:00,  2.73s/it]\u001b[A\n",
      "Scoring movies:  57%|████████████         | 254/443 [1:49:16<1:16:43, 24.36s/it]\u001b[A"
     ]
    },
    {
     "name": "stdout",
     "output_type": "stream",
     "text": [
      "✅ Finished scoring: 1998_Godzilla\n"
     ]
    },
    {
     "name": "stderr",
     "output_type": "stream",
     "text": [
      "\n",
      "Processing 1983_Mr. Mom. 1983. DVDRip. x264-NoRBiT:   0%| | 0/7 [00:00<?, ?it/s]\u001b[A\n",
      "Processing 1983_Mr. Mom. 1983. DVDRip. x264-NoRBiT:  14%|▏| 1/7 [00:02<00:15,  2\u001b[A\n",
      "Processing 1983_Mr. Mom. 1983. DVDRip. x264-NoRBiT:  29%|▎| 2/7 [00:05<00:13,  2\u001b[A\n",
      "Processing 1983_Mr. Mom. 1983. DVDRip. x264-NoRBiT:  43%|▍| 3/7 [00:07<00:10,  2\u001b[A\n",
      "Processing 1983_Mr. Mom. 1983. DVDRip. x264-NoRBiT:  57%|▌| 4/7 [00:10<00:07,  2\u001b[A\n",
      "Processing 1983_Mr. Mom. 1983. DVDRip. x264-NoRBiT:  71%|▋| 5/7 [00:12<00:05,  2\u001b[A\n",
      "Processing 1983_Mr. Mom. 1983. DVDRip. x264-NoRBiT:  86%|▊| 6/7 [00:15<00:02,  2\u001b[A\n",
      "Processing 1983_Mr. Mom. 1983. DVDRip. x264-NoRBiT: 100%|█| 7/7 [00:18<00:00,  2\u001b[A\n",
      "Scoring movies:  58%|████████████         | 255/443 [1:49:35<1:10:51, 22.61s/it]\u001b[A"
     ]
    },
    {
     "name": "stdout",
     "output_type": "stream",
     "text": [
      "✅ Finished scoring: 1983_Mr. Mom. 1983. DVDRip. x264-NoRBiT\n"
     ]
    },
    {
     "name": "stderr",
     "output_type": "stream",
     "text": [
      "\n",
      "Processing 2005_Harry.Potter.and.the.Goblet.of.Fire.2005.720p.HDDVD.DTS.x264-ESi\u001b[A\n",
      "Processing 2005_Harry.Potter.and.the.Goblet.of.Fire.2005.720p.HDDVD.DTS.x264-ESi\u001b[A\n",
      "Processing 2005_Harry.Potter.and.the.Goblet.of.Fire.2005.720p.HDDVD.DTS.x264-ESi\u001b[A\n",
      "Processing 2005_Harry.Potter.and.the.Goblet.of.Fire.2005.720p.HDDVD.DTS.x264-ESi\u001b[A\n",
      "Processing 2005_Harry.Potter.and.the.Goblet.of.Fire.2005.720p.HDDVD.DTS.x264-ESi\u001b[A\n",
      "Processing 2005_Harry.Potter.and.the.Goblet.of.Fire.2005.720p.HDDVD.DTS.x264-ESi\u001b[A\n",
      "Processing 2005_Harry.Potter.and.the.Goblet.of.Fire.2005.720p.HDDVD.DTS.x264-ESi\u001b[A\n",
      "Processing 2005_Harry.Potter.and.the.Goblet.of.Fire.2005.720p.HDDVD.DTS.x264-ESi\u001b[A\n",
      "Processing 2005_Harry.Potter.and.the.Goblet.of.Fire.2005.720p.HDDVD.DTS.x264-ESi\u001b[A\n",
      "Processing 2005_Harry.Potter.and.the.Goblet.of.Fire.2005.720p.HDDVD.DTS.x264-ESi\u001b[A\n",
      "Scoring movies:  58%|████████████▏        | 256/443 [1:49:59<1:11:54, 23.07s/it]\u001b[A"
     ]
    },
    {
     "name": "stdout",
     "output_type": "stream",
     "text": [
      "✅ Finished scoring: 2005_Harry.Potter.and.the.Goblet.of.Fire.2005.720p.HDDVD.DTS.x264-ESiR.ENG\n"
     ]
    },
    {
     "name": "stderr",
     "output_type": "stream",
     "text": [
      "\n",
      "Processing 2013_Man.Of.Steel.2013.720p.BluRay.x264-Felony:   0%| | 0/8 [00:00<?,\u001b[A\n",
      "Processing 2013_Man.Of.Steel.2013.720p.BluRay.x264-Felony:  12%|▏| 1/8 [00:02<00\u001b[A\n",
      "Processing 2013_Man.Of.Steel.2013.720p.BluRay.x264-Felony:  25%|▎| 2/8 [00:04<00\u001b[A\n",
      "Processing 2013_Man.Of.Steel.2013.720p.BluRay.x264-Felony:  38%|▍| 3/8 [00:07<00\u001b[A\n",
      "Processing 2013_Man.Of.Steel.2013.720p.BluRay.x264-Felony:  50%|▌| 4/8 [00:10<00\u001b[A"
     ]
    },
    {
     "name": "stdout",
     "output_type": "stream",
     "text": [
      "⚠️ Rate limit hit. Waiting 60 seconds...\n"
     ]
    },
    {
     "name": "stderr",
     "output_type": "stream",
     "text": [
      "\n",
      "Processing 2013_Man.Of.Steel.2013.720p.BluRay.x264-Felony:  62%|▋| 5/8 [01:13<01\u001b[A\n",
      "Processing 2013_Man.Of.Steel.2013.720p.BluRay.x264-Felony:  75%|▊| 6/8 [01:16<00\u001b[A\n",
      "Processing 2013_Man.Of.Steel.2013.720p.BluRay.x264-Felony:  88%|▉| 7/8 [01:19<00\u001b[A\n",
      "Processing 2013_Man.Of.Steel.2013.720p.BluRay.x264-Felony: 100%|█| 8/8 [01:21<00\u001b[A\n",
      "Scoring movies:  58%|████████████▏        | 257/443 [1:51:21<2:06:16, 40.74s/it]\u001b[A"
     ]
    },
    {
     "name": "stdout",
     "output_type": "stream",
     "text": [
      "✅ Finished scoring: 2013_Man.Of.Steel.2013.720p.BluRay.x264-Felony\n"
     ]
    },
    {
     "name": "stderr",
     "output_type": "stream",
     "text": [
      "\n",
      "Processing 2019_Aladdin.2019.720p.WEB-DL.x264.AAC-BonsaiHD:   0%| | 0/12 [00:00<\u001b[A\n",
      "Processing 2019_Aladdin.2019.720p.WEB-DL.x264.AAC-BonsaiHD:   8%| | 1/12 [00:02<\u001b[A\n",
      "Processing 2019_Aladdin.2019.720p.WEB-DL.x264.AAC-BonsaiHD:  17%|▏| 2/12 [00:05<\u001b[A\n",
      "Processing 2019_Aladdin.2019.720p.WEB-DL.x264.AAC-BonsaiHD:  25%|▎| 3/12 [00:07<\u001b[A\n",
      "Processing 2019_Aladdin.2019.720p.WEB-DL.x264.AAC-BonsaiHD:  33%|▎| 4/12 [00:10<\u001b[A\n",
      "Processing 2019_Aladdin.2019.720p.WEB-DL.x264.AAC-BonsaiHD:  42%|▍| 5/12 [00:13<\u001b[A\n",
      "Processing 2019_Aladdin.2019.720p.WEB-DL.x264.AAC-BonsaiHD:  50%|▌| 6/12 [00:16<\u001b[A\n",
      "Processing 2019_Aladdin.2019.720p.WEB-DL.x264.AAC-BonsaiHD:  58%|▌| 7/12 [00:18<\u001b[A\n",
      "Processing 2019_Aladdin.2019.720p.WEB-DL.x264.AAC-BonsaiHD:  67%|▋| 8/12 [00:20<\u001b[A\n",
      "Processing 2019_Aladdin.2019.720p.WEB-DL.x264.AAC-BonsaiHD:  75%|▊| 9/12 [00:23<\u001b[A\n",
      "Processing 2019_Aladdin.2019.720p.WEB-DL.x264.AAC-BonsaiHD:  83%|▊| 10/12 [00:26\u001b[A\n",
      "Processing 2019_Aladdin.2019.720p.WEB-DL.x264.AAC-BonsaiHD:  92%|▉| 11/12 [00:28\u001b[A\n",
      "Processing 2019_Aladdin.2019.720p.WEB-DL.x264.AAC-BonsaiHD: 100%|█| 12/12 [00:31\u001b[A\n",
      "Scoring movies:  58%|████████████▏        | 258/443 [1:51:52<1:57:11, 38.01s/it]\u001b[A"
     ]
    },
    {
     "name": "stdout",
     "output_type": "stream",
     "text": [
      "✅ Finished scoring: 2019_Aladdin.2019.720p.WEB-DL.x264.AAC-BonsaiHD\n"
     ]
    },
    {
     "name": "stderr",
     "output_type": "stream",
     "text": [
      "\n",
      "Processing 2002_A.Beautiful.Mind.2001.BluRay.720p.DTS.x264-CHD.eng:   0%| | 0/9 \u001b[A\n",
      "Processing 2002_A.Beautiful.Mind.2001.BluRay.720p.DTS.x264-CHD.eng:  11%| | 1/9 \u001b[A\n",
      "Processing 2002_A.Beautiful.Mind.2001.BluRay.720p.DTS.x264-CHD.eng:  22%|▏| 2/9 \u001b[A\n",
      "Processing 2002_A.Beautiful.Mind.2001.BluRay.720p.DTS.x264-CHD.eng:  33%|▎| 3/9 \u001b[A\n",
      "Processing 2002_A.Beautiful.Mind.2001.BluRay.720p.DTS.x264-CHD.eng:  44%|▍| 4/9 \u001b[A\n",
      "Processing 2002_A.Beautiful.Mind.2001.BluRay.720p.DTS.x264-CHD.eng:  56%|▌| 5/9 \u001b[A\n",
      "Processing 2002_A.Beautiful.Mind.2001.BluRay.720p.DTS.x264-CHD.eng:  67%|▋| 6/9 \u001b[A\n",
      "Processing 2002_A.Beautiful.Mind.2001.BluRay.720p.DTS.x264-CHD.eng:  78%|▊| 7/9 \u001b[A\n",
      "Processing 2002_A.Beautiful.Mind.2001.BluRay.720p.DTS.x264-CHD.eng:  89%|▉| 8/9 \u001b[A\n",
      "Processing 2002_A.Beautiful.Mind.2001.BluRay.720p.DTS.x264-CHD.eng: 100%|█| 9/9 \u001b[A\n",
      "Scoring movies:  58%|████████████▎        | 259/443 [1:52:16<1:43:35, 33.78s/it]\u001b[A"
     ]
    },
    {
     "name": "stdout",
     "output_type": "stream",
     "text": [
      "✅ Finished scoring: 2002_A.Beautiful.Mind.2001.BluRay.720p.DTS.x264-CHD.eng\n"
     ]
    },
    {
     "name": "stderr",
     "output_type": "stream",
     "text": [
      "\n",
      "Processing 1996_A.Time.To.Kill.1996.1080p.BluRay.x264-VOA:   0%| | 0/12 [00:00<?\u001b[A\n",
      "Processing 1996_A.Time.To.Kill.1996.1080p.BluRay.x264-VOA:   8%| | 1/12 [00:02<0\u001b[A\n",
      "Processing 1996_A.Time.To.Kill.1996.1080p.BluRay.x264-VOA:  17%|▏| 2/12 [00:05<0\u001b[A\n",
      "Processing 1996_A.Time.To.Kill.1996.1080p.BluRay.x264-VOA:  25%|▎| 3/12 [00:08<0\u001b[A\n",
      "Processing 1996_A.Time.To.Kill.1996.1080p.BluRay.x264-VOA:  33%|▎| 4/12 [00:10<0\u001b[A\n",
      "Processing 1996_A.Time.To.Kill.1996.1080p.BluRay.x264-VOA:  42%|▍| 5/12 [00:13<0\u001b[A\n",
      "Processing 1996_A.Time.To.Kill.1996.1080p.BluRay.x264-VOA:  50%|▌| 6/12 [00:15<0\u001b[A\n",
      "Processing 1996_A.Time.To.Kill.1996.1080p.BluRay.x264-VOA:  58%|▌| 7/12 [00:18<0\u001b[A\n",
      "Processing 1996_A.Time.To.Kill.1996.1080p.BluRay.x264-VOA:  67%|▋| 8/12 [00:20<0\u001b[A\n",
      "Processing 1996_A.Time.To.Kill.1996.1080p.BluRay.x264-VOA:  75%|▊| 9/12 [00:23<0\u001b[A\n",
      "Processing 1996_A.Time.To.Kill.1996.1080p.BluRay.x264-VOA:  83%|▊| 10/12 [00:26<\u001b[A\n",
      "Processing 1996_A.Time.To.Kill.1996.1080p.BluRay.x264-VOA:  92%|▉| 11/12 [00:28<\u001b[A\n",
      "Processing 1996_A.Time.To.Kill.1996.1080p.BluRay.x264-VOA: 100%|█| 12/12 [00:31<\u001b[A\n",
      "Scoring movies:  59%|████████████▎        | 260/443 [1:52:48<1:40:40, 33.01s/it]\u001b[A"
     ]
    },
    {
     "name": "stdout",
     "output_type": "stream",
     "text": [
      "✅ Finished scoring: 1996_A.Time.To.Kill.1996.1080p.BluRay.x264-VOA\n"
     ]
    },
    {
     "name": "stderr",
     "output_type": "stream",
     "text": [
      "\n",
      "Processing 2020_1917:   0%|                               | 0/5 [00:00<?, ?it/s]\u001b[A\n",
      "Processing 2020_1917:  20%|████▌                  | 1/5 [00:02<00:09,  2.40s/it]\u001b[A\n",
      "Processing 2020_1917:  40%|█████████▏             | 2/5 [00:04<00:07,  2.38s/it]\u001b[A\n",
      "Processing 2020_1917:  60%|█████████████▊         | 3/5 [00:07<00:05,  2.57s/it]\u001b[A\n",
      "Processing 2020_1917:  80%|██████████████████▍    | 4/5 [00:10<00:02,  2.57s/it]\u001b[A\n",
      "Processing 2020_1917: 100%|███████████████████████| 5/5 [00:13<00:00,  2.75s/it]\u001b[A\n",
      "Scoring movies:  59%|████████████▎        | 261/443 [1:53:01<1:22:07, 27.07s/it]\u001b[A"
     ]
    },
    {
     "name": "stdout",
     "output_type": "stream",
     "text": [
      "✅ Finished scoring: 2020_1917\n"
     ]
    },
    {
     "name": "stderr",
     "output_type": "stream",
     "text": [
      "\n",
      "Processing 1983_National.Lampoons.Vacation.1983.720p.BluRay.DD1.0.x264-CtrlHD:  \u001b[A\n",
      "Processing 1983_National.Lampoons.Vacation.1983.720p.BluRay.DD1.0.x264-CtrlHD:  \u001b[A\n",
      "Processing 1983_National.Lampoons.Vacation.1983.720p.BluRay.DD1.0.x264-CtrlHD:  \u001b[A\n",
      "Processing 1983_National.Lampoons.Vacation.1983.720p.BluRay.DD1.0.x264-CtrlHD:  \u001b[A\n",
      "Processing 1983_National.Lampoons.Vacation.1983.720p.BluRay.DD1.0.x264-CtrlHD:  \u001b[A\n",
      "Processing 1983_National.Lampoons.Vacation.1983.720p.BluRay.DD1.0.x264-CtrlHD:  \u001b[A\n",
      "Processing 1983_National.Lampoons.Vacation.1983.720p.BluRay.DD1.0.x264-CtrlHD:  \u001b[A\n",
      "Processing 1983_National.Lampoons.Vacation.1983.720p.BluRay.DD1.0.x264-CtrlHD:  \u001b[A\n",
      "Processing 1983_National.Lampoons.Vacation.1983.720p.BluRay.DD1.0.x264-CtrlHD: 1\u001b[A\n",
      "Scoring movies:  59%|████████████▍        | 262/443 [1:53:22<1:16:11, 25.26s/it]\u001b[A"
     ]
    },
    {
     "name": "stdout",
     "output_type": "stream",
     "text": [
      "✅ Finished scoring: 1983_National.Lampoons.Vacation.1983.720p.BluRay.DD1.0.x264-CtrlHD\n"
     ]
    },
    {
     "name": "stderr",
     "output_type": "stream",
     "text": [
      "\n",
      "Processing 1994_The.Lion.King.1994.720p.BluRay.DD5.1.x264-DON:   0%| | 0/7 [00:0\u001b[A\n",
      "Processing 1994_The.Lion.King.1994.720p.BluRay.DD5.1.x264-DON:  14%|▏| 1/7 [00:0\u001b[A\n",
      "Processing 1994_The.Lion.King.1994.720p.BluRay.DD5.1.x264-DON:  29%|▎| 2/7 [00:0\u001b[A\n",
      "Processing 1994_The.Lion.King.1994.720p.BluRay.DD5.1.x264-DON:  43%|▍| 3/7 [00:0\u001b[A\n",
      "Processing 1994_The.Lion.King.1994.720p.BluRay.DD5.1.x264-DON:  57%|▌| 4/7 [00:1\u001b[A\n",
      "Processing 1994_The.Lion.King.1994.720p.BluRay.DD5.1.x264-DON:  71%|▋| 5/7 [00:1\u001b[A\n",
      "Processing 1994_The.Lion.King.1994.720p.BluRay.DD5.1.x264-DON:  86%|▊| 6/7 [00:1\u001b[A\n",
      "Processing 1994_The.Lion.King.1994.720p.BluRay.DD5.1.x264-DON: 100%|█| 7/7 [00:1\u001b[A\n",
      "Scoring movies:  59%|████████████▍        | 263/443 [1:53:41<1:09:59, 23.33s/it]\u001b[A"
     ]
    },
    {
     "name": "stdout",
     "output_type": "stream",
     "text": [
      "✅ Finished scoring: 1994_The.Lion.King.1994.720p.BluRay.DD5.1.x264-DON\n"
     ]
    },
    {
     "name": "stderr",
     "output_type": "stream",
     "text": [
      "\n",
      "Processing 2015_American.Sniper.2014.720p.BluRay.x264-SPARKS:   0%| | 0/10 [00:0\u001b[A\n",
      "Processing 2015_American.Sniper.2014.720p.BluRay.x264-SPARKS:  10%| | 1/10 [00:0\u001b[A\n",
      "Processing 2015_American.Sniper.2014.720p.BluRay.x264-SPARKS:  20%|▏| 2/10 [00:0\u001b[A\n",
      "Processing 2015_American.Sniper.2014.720p.BluRay.x264-SPARKS:  30%|▎| 3/10 [00:0\u001b[A"
     ]
    },
    {
     "name": "stdout",
     "output_type": "stream",
     "text": [
      "⚠️ Rate limit hit. Waiting 60 seconds...\n"
     ]
    },
    {
     "name": "stderr",
     "output_type": "stream",
     "text": [
      "\n",
      "Processing 2015_American.Sniper.2014.720p.BluRay.x264-SPARKS:  40%|▍| 4/10 [01:1\u001b[A\n",
      "Processing 2015_American.Sniper.2014.720p.BluRay.x264-SPARKS:  50%|▌| 5/10 [01:1\u001b[A\n",
      "Processing 2015_American.Sniper.2014.720p.BluRay.x264-SPARKS:  60%|▌| 6/10 [01:1\u001b[A\n",
      "Processing 2015_American.Sniper.2014.720p.BluRay.x264-SPARKS:  70%|▋| 7/10 [01:1\u001b[A\n",
      "Processing 2015_American.Sniper.2014.720p.BluRay.x264-SPARKS:  80%|▊| 8/10 [01:2\u001b[A\n",
      "Processing 2015_American.Sniper.2014.720p.BluRay.x264-SPARKS:  90%|▉| 9/10 [01:2\u001b[A\n",
      "Processing 2015_American.Sniper.2014.720p.BluRay.x264-SPARKS: 100%|█| 10/10 [01:\u001b[A\n",
      "Scoring movies:  60%|████████████▌        | 264/443 [1:55:08<2:06:34, 42.43s/it]\u001b[A"
     ]
    },
    {
     "name": "stdout",
     "output_type": "stream",
     "text": [
      "✅ Finished scoring: 2015_American.Sniper.2014.720p.BluRay.x264-SPARKS\n"
     ]
    },
    {
     "name": "stderr",
     "output_type": "stream",
     "text": [
      "\n",
      "Processing 2016_Deadpool:   0%|                           | 0/9 [00:00<?, ?it/s]\u001b[A\n",
      "Processing 2016_Deadpool:  11%|██                 | 1/9 [00:03<00:26,  3.26s/it]\u001b[A\n",
      "Processing 2016_Deadpool:  22%|████▏              | 2/9 [00:05<00:20,  2.92s/it]\u001b[A\n",
      "Processing 2016_Deadpool:  33%|██████▎            | 3/9 [00:08<00:16,  2.74s/it]\u001b[A\n",
      "Processing 2016_Deadpool:  44%|████████▍          | 4/9 [00:10<00:13,  2.65s/it]\u001b[A\n",
      "Processing 2016_Deadpool:  56%|██████████▌        | 5/9 [00:13<00:10,  2.68s/it]\u001b[A\n",
      "Processing 2016_Deadpool:  67%|████████████▋      | 6/9 [00:16<00:08,  2.70s/it]\u001b[A\n",
      "Processing 2016_Deadpool:  78%|██████████████▊    | 7/9 [00:19<00:05,  2.74s/it]\u001b[A\n",
      "Processing 2016_Deadpool:  89%|████████████████▉  | 8/9 [00:21<00:02,  2.73s/it]\u001b[A\n",
      "Processing 2016_Deadpool: 100%|███████████████████| 9/9 [00:24<00:00,  2.64s/it]\u001b[A\n",
      "Scoring movies:  60%|████████████▌        | 265/443 [1:55:32<1:49:51, 37.03s/it]\u001b[A"
     ]
    },
    {
     "name": "stdout",
     "output_type": "stream",
     "text": [
      "✅ Finished scoring: 2016_Deadpool\n"
     ]
    },
    {
     "name": "stderr",
     "output_type": "stream",
     "text": [
      "\n",
      "Processing 2004_Shrek.2.2004.720p.BluRay.x264-MELiTE.eng:   0%| | 0/7 [00:00<?, \u001b[A\n",
      "Processing 2004_Shrek.2.2004.720p.BluRay.x264-MELiTE.eng:  14%|▏| 1/7 [00:02<00:\u001b[A\n",
      "Processing 2004_Shrek.2.2004.720p.BluRay.x264-MELiTE.eng:  29%|▎| 2/7 [00:05<00:\u001b[A\n",
      "Processing 2004_Shrek.2.2004.720p.BluRay.x264-MELiTE.eng:  43%|▍| 3/7 [00:08<00:\u001b[A\n",
      "Processing 2004_Shrek.2.2004.720p.BluRay.x264-MELiTE.eng:  57%|▌| 4/7 [00:10<00:\u001b[A\n",
      "Processing 2004_Shrek.2.2004.720p.BluRay.x264-MELiTE.eng:  71%|▋| 5/7 [00:13<00:\u001b[A\n",
      "Processing 2004_Shrek.2.2004.720p.BluRay.x264-MELiTE.eng:  86%|▊| 6/7 [00:16<00:\u001b[A\n",
      "Processing 2004_Shrek.2.2004.720p.BluRay.x264-MELiTE.eng: 100%|█| 7/7 [00:19<00:\u001b[A\n",
      "Scoring movies:  60%|████████████▌        | 266/443 [1:55:52<1:33:42, 31.77s/it]\u001b[A"
     ]
    },
    {
     "name": "stdout",
     "output_type": "stream",
     "text": [
      "✅ Finished scoring: 2004_Shrek.2.2004.720p.BluRay.x264-MELiTE.eng\n"
     ]
    },
    {
     "name": "stderr",
     "output_type": "stream",
     "text": [
      "\n",
      "Processing 2023_Oppenheimer:   0%|                       | 0/21 [00:00<?, ?it/s]\u001b[A\n",
      "Processing 2023_Oppenheimer:   5%|▋              | 1/21 [00:02<00:48,  2.44s/it]\u001b[A\n",
      "Processing 2023_Oppenheimer:  10%|█▍             | 2/21 [00:05<00:48,  2.56s/it]\u001b[A\n",
      "Processing 2023_Oppenheimer:  14%|██▏            | 3/21 [00:07<00:45,  2.53s/it]\u001b[A\n",
      "Processing 2023_Oppenheimer:  19%|██▊            | 4/21 [00:10<00:43,  2.55s/it]\u001b[A\n",
      "Processing 2023_Oppenheimer:  24%|███▌           | 5/21 [00:12<00:40,  2.50s/it]\u001b[A\n",
      "Processing 2023_Oppenheimer:  29%|████▎          | 6/21 [00:15<00:38,  2.55s/it]\u001b[A\n",
      "Processing 2023_Oppenheimer:  33%|█████          | 7/21 [00:17<00:35,  2.53s/it]\u001b[A\n",
      "Processing 2023_Oppenheimer:  38%|█████▋         | 8/21 [00:20<00:33,  2.59s/it]\u001b[A\n",
      "Processing 2023_Oppenheimer:  43%|██████▍        | 9/21 [00:22<00:30,  2.54s/it]\u001b[A\n",
      "Processing 2023_Oppenheimer:  48%|██████▋       | 10/21 [00:25<00:28,  2.60s/it]\u001b[A\n",
      "Processing 2023_Oppenheimer:  52%|███████▎      | 11/21 [00:28<00:27,  2.75s/it]\u001b[A\n",
      "Processing 2023_Oppenheimer:  57%|████████      | 12/21 [00:31<00:25,  2.79s/it]\u001b[A\n",
      "Processing 2023_Oppenheimer:  62%|████████▋     | 13/21 [00:34<00:21,  2.73s/it]\u001b[A\n",
      "Processing 2023_Oppenheimer:  67%|█████████▎    | 14/21 [00:36<00:19,  2.72s/it]\u001b[A\n",
      "Processing 2023_Oppenheimer:  71%|██████████    | 15/21 [00:39<00:15,  2.66s/it]\u001b[A\n",
      "Processing 2023_Oppenheimer:  76%|██████████▋   | 16/21 [00:42<00:13,  2.74s/it]\u001b[A\n",
      "Processing 2023_Oppenheimer:  81%|███████████▎  | 17/21 [00:45<00:10,  2.74s/it]\u001b[A\n",
      "Processing 2023_Oppenheimer:  86%|████████████  | 18/21 [00:47<00:07,  2.64s/it]\u001b[A\n",
      "Processing 2023_Oppenheimer:  90%|████████████▋ | 19/21 [00:49<00:05,  2.58s/it]\u001b[A\n",
      "Processing 2023_Oppenheimer:  95%|█████████████▎| 20/21 [00:52<00:02,  2.72s/it]\u001b[A\n",
      "Processing 2023_Oppenheimer: 100%|██████████████| 21/21 [00:55<00:00,  2.63s/it]\u001b[A\n",
      "Scoring movies:  60%|████████████▋        | 267/443 [1:56:47<1:53:57, 38.85s/it]\u001b[A"
     ]
    },
    {
     "name": "stdout",
     "output_type": "stream",
     "text": [
      "✅ Finished scoring: 2023_Oppenheimer\n"
     ]
    },
    {
     "name": "stderr",
     "output_type": "stream",
     "text": [
      "\n",
      "Processing 1995_Ace.Ventura.When.Nature.Calls.1995.720p.BluRay.X264-AMIABLE:   0\u001b[A\n",
      "Processing 1995_Ace.Ventura.When.Nature.Calls.1995.720p.BluRay.X264-AMIABLE:  17\u001b[A\n",
      "Processing 1995_Ace.Ventura.When.Nature.Calls.1995.720p.BluRay.X264-AMIABLE:  33\u001b[A\n",
      "Processing 1995_Ace.Ventura.When.Nature.Calls.1995.720p.BluRay.X264-AMIABLE:  50\u001b[A\n",
      "Processing 1995_Ace.Ventura.When.Nature.Calls.1995.720p.BluRay.X264-AMIABLE:  67\u001b[A\n",
      "Processing 1995_Ace.Ventura.When.Nature.Calls.1995.720p.BluRay.X264-AMIABLE:  83\u001b[A\n",
      "Processing 1995_Ace.Ventura.When.Nature.Calls.1995.720p.BluRay.X264-AMIABLE: 100\u001b[A\n",
      "Scoring movies:  60%|████████████▋        | 268/443 [1:57:04<1:33:57, 32.21s/it]\u001b[A"
     ]
    },
    {
     "name": "stdout",
     "output_type": "stream",
     "text": [
      "✅ Finished scoring: 1995_Ace.Ventura.When.Nature.Calls.1995.720p.BluRay.X264-AMIABLE\n"
     ]
    },
    {
     "name": "stderr",
     "output_type": "stream",
     "text": [
      "\n",
      "Processing 2023_Ant.Man.And.The.Wasp.Quantumania.2023.1080p.WEB-DL.DDP5.1.Atmos.\u001b[A\n",
      "Processing 2023_Ant.Man.And.The.Wasp.Quantumania.2023.1080p.WEB-DL.DDP5.1.Atmos.\u001b[A\n",
      "Processing 2023_Ant.Man.And.The.Wasp.Quantumania.2023.1080p.WEB-DL.DDP5.1.Atmos.\u001b[A\n",
      "Processing 2023_Ant.Man.And.The.Wasp.Quantumania.2023.1080p.WEB-DL.DDP5.1.Atmos.\u001b[A\n",
      "Processing 2023_Ant.Man.And.The.Wasp.Quantumania.2023.1080p.WEB-DL.DDP5.1.Atmos.\u001b[A\n",
      "Processing 2023_Ant.Man.And.The.Wasp.Quantumania.2023.1080p.WEB-DL.DDP5.1.Atmos.\u001b[A\n",
      "Processing 2023_Ant.Man.And.The.Wasp.Quantumania.2023.1080p.WEB-DL.DDP5.1.Atmos.\u001b[A\n",
      "Processing 2023_Ant.Man.And.The.Wasp.Quantumania.2023.1080p.WEB-DL.DDP5.1.Atmos.\u001b[A\n",
      "Processing 2023_Ant.Man.And.The.Wasp.Quantumania.2023.1080p.WEB-DL.DDP5.1.Atmos.\u001b[A\n",
      "Processing 2023_Ant.Man.And.The.Wasp.Quantumania.2023.1080p.WEB-DL.DDP5.1.Atmos.\u001b[A\n",
      "Scoring movies:  61%|████████████▊        | 269/443 [1:57:28<1:26:23, 29.79s/it]\u001b[A"
     ]
    },
    {
     "name": "stdout",
     "output_type": "stream",
     "text": [
      "✅ Finished scoring: 2023_Ant.Man.And.The.Wasp.Quantumania.2023.1080p.WEB-DL.DDP5.1.Atmos.H.264-CMRG\n"
     ]
    },
    {
     "name": "stderr",
     "output_type": "stream",
     "text": [
      "\n",
      "Processing 1991_Dances.With.Wolves.1990.Directors.Cut.BRRip.XviD.AC3-FLAWL3SS.fi\u001b[A\n",
      "Processing 1991_Dances.With.Wolves.1990.Directors.Cut.BRRip.XviD.AC3-FLAWL3SS.fi\u001b[A\n",
      "Processing 1991_Dances.With.Wolves.1990.Directors.Cut.BRRip.XviD.AC3-FLAWL3SS.fi\u001b[A\n",
      "Processing 1991_Dances.With.Wolves.1990.Directors.Cut.BRRip.XviD.AC3-FLAWL3SS.fi\u001b[A\n",
      "Processing 1991_Dances.With.Wolves.1990.Directors.Cut.BRRip.XviD.AC3-FLAWL3SS.fi\u001b[A\n",
      "Processing 1991_Dances.With.Wolves.1990.Directors.Cut.BRRip.XviD.AC3-FLAWL3SS.fi\u001b[A\n",
      "Processing 1991_Dances.With.Wolves.1990.Directors.Cut.BRRip.XviD.AC3-FLAWL3SS.fi\u001b[A\n",
      "Processing 1991_Dances.With.Wolves.1990.Directors.Cut.BRRip.XviD.AC3-FLAWL3SS.fi\u001b[A\n",
      "Processing 1991_Dances.With.Wolves.1990.Directors.Cut.BRRip.XviD.AC3-FLAWL3SS.fi\u001b[A\n",
      "Scoring movies:  61%|████████████▊        | 270/443 [1:57:49<1:18:20, 27.17s/it]\u001b[A"
     ]
    },
    {
     "name": "stdout",
     "output_type": "stream",
     "text": [
      "✅ Finished scoring: 1991_Dances.With.Wolves.1990.Directors.Cut.BRRip.XviD.AC3-FLAWL3SS.fixed\n"
     ]
    },
    {
     "name": "stderr",
     "output_type": "stream",
     "text": [
      "\n",
      "Processing 2017_Logan:   0%|                              | 0/9 [00:00<?, ?it/s]\u001b[A\n",
      "Processing 2017_Logan:  11%|██▍                   | 1/9 [00:02<00:19,  2.48s/it]\u001b[A\n",
      "Processing 2017_Logan:  22%|████▉                 | 2/9 [00:04<00:17,  2.47s/it]\u001b[A\n",
      "Processing 2017_Logan:  33%|███████▎              | 3/9 [00:08<00:16,  2.74s/it]\u001b[A\n",
      "Processing 2017_Logan:  44%|█████████▊            | 4/9 [00:11<00:14,  2.92s/it]\u001b[A\n",
      "Processing 2017_Logan:  56%|████████████▏         | 5/9 [00:14<00:11,  2.91s/it]\u001b[A\n",
      "Processing 2017_Logan:  67%|██████████████▋       | 6/9 [00:16<00:08,  2.87s/it]\u001b[A\n",
      "Processing 2017_Logan:  78%|█████████████████     | 7/9 [00:19<00:05,  2.83s/it]\u001b[A\n",
      "Processing 2017_Logan:  89%|███████████████████▌  | 8/9 [00:22<00:02,  2.84s/it]\u001b[A\n",
      "Processing 2017_Logan: 100%|██████████████████████| 9/9 [00:25<00:00,  2.85s/it]\u001b[A\n",
      "Scoring movies:  61%|████████████▊        | 271/443 [1:58:14<1:16:20, 26.63s/it]\u001b[A"
     ]
    },
    {
     "name": "stdout",
     "output_type": "stream",
     "text": [
      "✅ Finished scoring: 2017_Logan\n"
     ]
    },
    {
     "name": "stderr",
     "output_type": "stream",
     "text": [
      "\n",
      "Processing 2015_The.Hunger.Games.Mockingjay.Part.2.2015.720p.BluRay.x264-SPARKS:\u001b[A\n",
      "Processing 2015_The.Hunger.Games.Mockingjay.Part.2.2015.720p.BluRay.x264-SPARKS:\u001b[A\n",
      "Processing 2015_The.Hunger.Games.Mockingjay.Part.2.2015.720p.BluRay.x264-SPARKS:\u001b[A\n",
      "Processing 2015_The.Hunger.Games.Mockingjay.Part.2.2015.720p.BluRay.x264-SPARKS:\u001b[A\n",
      "Processing 2015_The.Hunger.Games.Mockingjay.Part.2.2015.720p.BluRay.x264-SPARKS:\u001b[A\n",
      "Processing 2015_The.Hunger.Games.Mockingjay.Part.2.2015.720p.BluRay.x264-SPARKS:\u001b[A\n",
      "Processing 2015_The.Hunger.Games.Mockingjay.Part.2.2015.720p.BluRay.x264-SPARKS:\u001b[A\n",
      "Processing 2015_The.Hunger.Games.Mockingjay.Part.2.2015.720p.BluRay.x264-SPARKS:\u001b[A\n",
      "Processing 2015_The.Hunger.Games.Mockingjay.Part.2.2015.720p.BluRay.x264-SPARKS:\u001b[A\n",
      "Scoring movies:  61%|████████████▉        | 272/443 [1:58:35<1:10:54, 24.88s/it]\u001b[A"
     ]
    },
    {
     "name": "stdout",
     "output_type": "stream",
     "text": [
      "✅ Finished scoring: 2015_The.Hunger.Games.Mockingjay.Part.2.2015.720p.BluRay.x264-SPARKS\n"
     ]
    },
    {
     "name": "stderr",
     "output_type": "stream",
     "text": [
      "\n",
      "Processing 1998_The.Waterboy.1998.INTERNAL.DVDRip.XViD-BeRRa:   0%| | 0/7 [00:00\u001b[A\n",
      "Processing 1998_The.Waterboy.1998.INTERNAL.DVDRip.XViD-BeRRa:  14%|▏| 1/7 [00:02\u001b[A\n",
      "Processing 1998_The.Waterboy.1998.INTERNAL.DVDRip.XViD-BeRRa:  29%|▎| 2/7 [00:05\u001b[A\n",
      "Processing 1998_The.Waterboy.1998.INTERNAL.DVDRip.XViD-BeRRa:  43%|▍| 3/7 [00:08\u001b[A\n",
      "Processing 1998_The.Waterboy.1998.INTERNAL.DVDRip.XViD-BeRRa:  57%|▌| 4/7 [00:11\u001b[A"
     ]
    },
    {
     "name": "stdout",
     "output_type": "stream",
     "text": [
      "⚠️ Rate limit hit. Waiting 60 seconds...\n"
     ]
    },
    {
     "name": "stderr",
     "output_type": "stream",
     "text": [
      "\n",
      "Processing 1998_The.Waterboy.1998.INTERNAL.DVDRip.XViD-BeRRa:  71%|▋| 5/7 [01:13\u001b[A\n",
      "Processing 1998_The.Waterboy.1998.INTERNAL.DVDRip.XViD-BeRRa:  86%|▊| 6/7 [01:16\u001b[A\n",
      "Processing 1998_The.Waterboy.1998.INTERNAL.DVDRip.XViD-BeRRa: 100%|█| 7/7 [01:19\u001b[A\n",
      "Scoring movies:  62%|████████████▉        | 273/443 [1:59:54<1:56:46, 41.21s/it]\u001b[A"
     ]
    },
    {
     "name": "stdout",
     "output_type": "stream",
     "text": [
      "✅ Finished scoring: 1998_The.Waterboy.1998.INTERNAL.DVDRip.XViD-BeRRa\n"
     ]
    },
    {
     "name": "stderr",
     "output_type": "stream",
     "text": [
      "\n",
      "Processing 1989_Ghostbusters.II.1989.720p.BluRay.X264-AMIABLE-HI:   0%| | 0/10 [\u001b[A\n",
      "Processing 1989_Ghostbusters.II.1989.720p.BluRay.X264-AMIABLE-HI:  10%| | 1/10 [\u001b[A\n",
      "Processing 1989_Ghostbusters.II.1989.720p.BluRay.X264-AMIABLE-HI:  20%|▏| 2/10 [\u001b[A\n",
      "Processing 1989_Ghostbusters.II.1989.720p.BluRay.X264-AMIABLE-HI:  30%|▎| 3/10 [\u001b[A\n",
      "Processing 1989_Ghostbusters.II.1989.720p.BluRay.X264-AMIABLE-HI:  40%|▍| 4/10 [\u001b[A\n",
      "Processing 1989_Ghostbusters.II.1989.720p.BluRay.X264-AMIABLE-HI:  50%|▌| 5/10 [\u001b[A\n",
      "Processing 1989_Ghostbusters.II.1989.720p.BluRay.X264-AMIABLE-HI:  60%|▌| 6/10 [\u001b[A\n",
      "Processing 1989_Ghostbusters.II.1989.720p.BluRay.X264-AMIABLE-HI:  70%|▋| 7/10 [\u001b[A\n",
      "Processing 1989_Ghostbusters.II.1989.720p.BluRay.X264-AMIABLE-HI:  80%|▊| 8/10 [\u001b[A\n",
      "Processing 1989_Ghostbusters.II.1989.720p.BluRay.X264-AMIABLE-HI:  90%|▉| 9/10 [\u001b[A\n",
      "Processing 1989_Ghostbusters.II.1989.720p.BluRay.X264-AMIABLE-HI: 100%|█| 10/10 \u001b[A\n",
      "Scoring movies:  62%|████████████▉        | 274/443 [2:00:22<1:44:47, 37.20s/it]\u001b[A"
     ]
    },
    {
     "name": "stdout",
     "output_type": "stream",
     "text": [
      "✅ Finished scoring: 1989_Ghostbusters.II.1989.720p.BluRay.X264-AMIABLE-HI\n"
     ]
    },
    {
     "name": "stderr",
     "output_type": "stream",
     "text": [
      "\n",
      "Processing 2017_Thor.Ragnarok.2017.720p.WEB-DL.H264.AC3-EVO:   0%| | 0/9 [00:00<\u001b[A\n",
      "Processing 2017_Thor.Ragnarok.2017.720p.WEB-DL.H264.AC3-EVO:  11%| | 1/9 [00:02<\u001b[A\n",
      "Processing 2017_Thor.Ragnarok.2017.720p.WEB-DL.H264.AC3-EVO:  22%|▏| 2/9 [00:05<\u001b[A\n",
      "Processing 2017_Thor.Ragnarok.2017.720p.WEB-DL.H264.AC3-EVO:  33%|▎| 3/9 [00:08<\u001b[A\n",
      "Processing 2017_Thor.Ragnarok.2017.720p.WEB-DL.H264.AC3-EVO:  44%|▍| 4/9 [00:11<\u001b[A\n",
      "Processing 2017_Thor.Ragnarok.2017.720p.WEB-DL.H264.AC3-EVO:  56%|▌| 5/9 [00:13<\u001b[A\n",
      "Processing 2017_Thor.Ragnarok.2017.720p.WEB-DL.H264.AC3-EVO:  67%|▋| 6/9 [00:16<\u001b[A\n",
      "Processing 2017_Thor.Ragnarok.2017.720p.WEB-DL.H264.AC3-EVO:  78%|▊| 7/9 [00:19<\u001b[A\n",
      "Processing 2017_Thor.Ragnarok.2017.720p.WEB-DL.H264.AC3-EVO:  89%|▉| 8/9 [00:21<\u001b[A\n",
      "Processing 2017_Thor.Ragnarok.2017.720p.WEB-DL.H264.AC3-EVO: 100%|█| 9/9 [00:24<\u001b[A\n",
      "Scoring movies:  62%|█████████████        | 275/443 [2:00:46<1:33:08, 33.26s/it]\u001b[A"
     ]
    },
    {
     "name": "stdout",
     "output_type": "stream",
     "text": [
      "✅ Finished scoring: 2017_Thor.Ragnarok.2017.720p.WEB-DL.H264.AC3-EVO\n"
     ]
    },
    {
     "name": "stderr",
     "output_type": "stream",
     "text": [
      "\n",
      "Processing 2017_Spider-Man.Homecoming.2017.720p.BluRay.x264-SPARKS:   0%| | 0/10\u001b[A\n",
      "Processing 2017_Spider-Man.Homecoming.2017.720p.BluRay.x264-SPARKS:  10%| | 1/10\u001b[A\n",
      "Processing 2017_Spider-Man.Homecoming.2017.720p.BluRay.x264-SPARKS:  20%|▏| 2/10\u001b[A\n",
      "Processing 2017_Spider-Man.Homecoming.2017.720p.BluRay.x264-SPARKS:  30%|▎| 3/10\u001b[A\n",
      "Processing 2017_Spider-Man.Homecoming.2017.720p.BluRay.x264-SPARKS:  40%|▍| 4/10\u001b[A\n",
      "Processing 2017_Spider-Man.Homecoming.2017.720p.BluRay.x264-SPARKS:  50%|▌| 5/10\u001b[A\n",
      "Processing 2017_Spider-Man.Homecoming.2017.720p.BluRay.x264-SPARKS:  60%|▌| 6/10\u001b[A\n",
      "Processing 2017_Spider-Man.Homecoming.2017.720p.BluRay.x264-SPARKS:  70%|▋| 7/10\u001b[A\n",
      "Processing 2017_Spider-Man.Homecoming.2017.720p.BluRay.x264-SPARKS:  80%|▊| 8/10\u001b[A\n",
      "Processing 2017_Spider-Man.Homecoming.2017.720p.BluRay.x264-SPARKS:  90%|▉| 9/10\u001b[A\n",
      "Processing 2017_Spider-Man.Homecoming.2017.720p.BluRay.x264-SPARKS: 100%|█| 10/1\u001b[A\n",
      "Scoring movies:  62%|█████████████        | 276/443 [2:01:15<1:28:37, 31.84s/it]\u001b[A"
     ]
    },
    {
     "name": "stdout",
     "output_type": "stream",
     "text": [
      "✅ Finished scoring: 2017_Spider-Man.Homecoming.2017.720p.BluRay.x264-SPARKS\n"
     ]
    },
    {
     "name": "stderr",
     "output_type": "stream",
     "text": [
      "\n",
      "Processing 1985_Police.Academy.2.Their.First.Assignment.1985.720p.BluRay.FLAC.x2\u001b[A\n",
      "Processing 1985_Police.Academy.2.Their.First.Assignment.1985.720p.BluRay.FLAC.x2\u001b[A\n",
      "Processing 1985_Police.Academy.2.Their.First.Assignment.1985.720p.BluRay.FLAC.x2\u001b[A\n",
      "Processing 1985_Police.Academy.2.Their.First.Assignment.1985.720p.BluRay.FLAC.x2\u001b[A\n",
      "Processing 1985_Police.Academy.2.Their.First.Assignment.1985.720p.BluRay.FLAC.x2\u001b[A\n",
      "Processing 1985_Police.Academy.2.Their.First.Assignment.1985.720p.BluRay.FLAC.x2\u001b[A\n",
      "Processing 1985_Police.Academy.2.Their.First.Assignment.1985.720p.BluRay.FLAC.x2\u001b[A\n",
      "Scoring movies:  63%|█████████████▏       | 277/443 [2:01:31<1:14:52, 27.06s/it]\u001b[A"
     ]
    },
    {
     "name": "stdout",
     "output_type": "stream",
     "text": [
      "✅ Finished scoring: 1985_Police.Academy.2.Their.First.Assignment.1985.720p.BluRay.FLAC.x264-CtrlHD\n"
     ]
    },
    {
     "name": "stderr",
     "output_type": "stream",
     "text": [
      "\n",
      "Processing 1992_Batman.Returns.1992.1080p.BluRay.x264-CiNEFiLE.ENG:   0%| | 0/6 \u001b[A\n",
      "Processing 1992_Batman.Returns.1992.1080p.BluRay.x264-CiNEFiLE.ENG:  17%|▏| 1/6 \u001b[A\n",
      "Processing 1992_Batman.Returns.1992.1080p.BluRay.x264-CiNEFiLE.ENG:  33%|▎| 2/6 \u001b[A\n",
      "Processing 1992_Batman.Returns.1992.1080p.BluRay.x264-CiNEFiLE.ENG:  50%|▌| 3/6 \u001b[A\n",
      "Processing 1992_Batman.Returns.1992.1080p.BluRay.x264-CiNEFiLE.ENG:  67%|▋| 4/6 \u001b[A\n",
      "Processing 1992_Batman.Returns.1992.1080p.BluRay.x264-CiNEFiLE.ENG:  83%|▊| 5/6 \u001b[A\n",
      "Processing 1992_Batman.Returns.1992.1080p.BluRay.x264-CiNEFiLE.ENG: 100%|█| 6/6 \u001b[A\n",
      "Scoring movies:  63%|█████████████▏       | 278/443 [2:01:47<1:05:11, 23.71s/it]\u001b[A"
     ]
    },
    {
     "name": "stdout",
     "output_type": "stream",
     "text": [
      "✅ Finished scoring: 1992_Batman.Returns.1992.1080p.BluRay.x264-CiNEFiLE.ENG\n"
     ]
    },
    {
     "name": "stderr",
     "output_type": "stream",
     "text": [
      "\n",
      "Processing 2013_The.Hunger.Games.Catching.Fire.2013.IMAX.EDITION.720p.BluRay.x26\u001b[A"
     ]
    },
    {
     "name": "stdout",
     "output_type": "stream",
     "text": [
      "⚠️ Rate limit hit. Waiting 60 seconds...\n"
     ]
    },
    {
     "name": "stderr",
     "output_type": "stream",
     "text": [
      "\n",
      "Processing 2013_The.Hunger.Games.Catching.Fire.2013.IMAX.EDITION.720p.BluRay.x26\u001b[A\n",
      "Processing 2013_The.Hunger.Games.Catching.Fire.2013.IMAX.EDITION.720p.BluRay.x26\u001b[A\n",
      "Processing 2013_The.Hunger.Games.Catching.Fire.2013.IMAX.EDITION.720p.BluRay.x26\u001b[A\n",
      "Processing 2013_The.Hunger.Games.Catching.Fire.2013.IMAX.EDITION.720p.BluRay.x26\u001b[A\n",
      "Processing 2013_The.Hunger.Games.Catching.Fire.2013.IMAX.EDITION.720p.BluRay.x26\u001b[A\n",
      "Processing 2013_The.Hunger.Games.Catching.Fire.2013.IMAX.EDITION.720p.BluRay.x26\u001b[A\n",
      "Processing 2013_The.Hunger.Games.Catching.Fire.2013.IMAX.EDITION.720p.BluRay.x26\u001b[A\n",
      "Processing 2013_The.Hunger.Games.Catching.Fire.2013.IMAX.EDITION.720p.BluRay.x26\u001b[A\n",
      "Processing 2013_The.Hunger.Games.Catching.Fire.2013.IMAX.EDITION.720p.BluRay.x26\u001b[A\n",
      "Scoring movies:  63%|█████████████▏       | 279/443 [2:03:11<1:54:42, 41.96s/it]\u001b[A"
     ]
    },
    {
     "name": "stdout",
     "output_type": "stream",
     "text": [
      "✅ Finished scoring: 2013_The.Hunger.Games.Catching.Fire.2013.IMAX.EDITION.720p.BluRay.x264-PublicHD\n"
     ]
    },
    {
     "name": "stderr",
     "output_type": "stream",
     "text": [
      "\n",
      "Processing 1990_Pretty.Woman.1990.720p.BluRay.x264-AVS720.eng:   0%| | 0/9 [00:0\u001b[A\n",
      "Processing 1990_Pretty.Woman.1990.720p.BluRay.x264-AVS720.eng:  11%| | 1/9 [00:0\u001b[A\n",
      "Processing 1990_Pretty.Woman.1990.720p.BluRay.x264-AVS720.eng:  22%|▏| 2/9 [00:0\u001b[A\n",
      "Processing 1990_Pretty.Woman.1990.720p.BluRay.x264-AVS720.eng:  33%|▎| 3/9 [00:0\u001b[A\n",
      "Processing 1990_Pretty.Woman.1990.720p.BluRay.x264-AVS720.eng:  44%|▍| 4/9 [00:1\u001b[A\n",
      "Processing 1990_Pretty.Woman.1990.720p.BluRay.x264-AVS720.eng:  56%|▌| 5/9 [00:1\u001b[A\n",
      "Processing 1990_Pretty.Woman.1990.720p.BluRay.x264-AVS720.eng:  67%|▋| 6/9 [00:1\u001b[A\n",
      "Processing 1990_Pretty.Woman.1990.720p.BluRay.x264-AVS720.eng:  78%|▊| 7/9 [00:1\u001b[A\n",
      "Processing 1990_Pretty.Woman.1990.720p.BluRay.x264-AVS720.eng:  89%|▉| 8/9 [00:2\u001b[A\n",
      "Processing 1990_Pretty.Woman.1990.720p.BluRay.x264-AVS720.eng: 100%|█| 9/9 [00:2\u001b[A\n",
      "Scoring movies:  63%|█████████████▎       | 280/443 [2:03:36<1:39:58, 36.80s/it]\u001b[A"
     ]
    },
    {
     "name": "stdout",
     "output_type": "stream",
     "text": [
      "✅ Finished scoring: 1990_Pretty.Woman.1990.720p.BluRay.x264-AVS720.eng\n"
     ]
    },
    {
     "name": "stderr",
     "output_type": "stream",
     "text": [
      "\n",
      "Processing 1984_Terms.of.Endearment.1983.720p.BluRay.X264-AMIABLE:   0%| | 0/10 \u001b[A\n",
      "Processing 1984_Terms.of.Endearment.1983.720p.BluRay.X264-AMIABLE:  10%| | 1/10 \u001b[A\n",
      "Processing 1984_Terms.of.Endearment.1983.720p.BluRay.X264-AMIABLE:  20%|▏| 2/10 \u001b[A\n",
      "Processing 1984_Terms.of.Endearment.1983.720p.BluRay.X264-AMIABLE:  30%|▎| 3/10 \u001b[A\n",
      "Processing 1984_Terms.of.Endearment.1983.720p.BluRay.X264-AMIABLE:  40%|▍| 4/10 \u001b[A\n",
      "Processing 1984_Terms.of.Endearment.1983.720p.BluRay.X264-AMIABLE:  50%|▌| 5/10 \u001b[A\n",
      "Processing 1984_Terms.of.Endearment.1983.720p.BluRay.X264-AMIABLE:  60%|▌| 6/10 \u001b[A\n",
      "Processing 1984_Terms.of.Endearment.1983.720p.BluRay.X264-AMIABLE:  70%|▋| 7/10 \u001b[A\n",
      "Processing 1984_Terms.of.Endearment.1983.720p.BluRay.X264-AMIABLE:  80%|▊| 8/10 \u001b[A\n",
      "Processing 1984_Terms.of.Endearment.1983.720p.BluRay.X264-AMIABLE:  90%|▉| 9/10 \u001b[A\n",
      "Processing 1984_Terms.of.Endearment.1983.720p.BluRay.X264-AMIABLE: 100%|█| 10/10\u001b[A\n",
      "Scoring movies:  63%|█████████████▎       | 281/443 [2:04:02<1:30:29, 33.51s/it]\u001b[A"
     ]
    },
    {
     "name": "stdout",
     "output_type": "stream",
     "text": [
      "✅ Finished scoring: 1984_Terms.of.Endearment.1983.720p.BluRay.X264-AMIABLE\n"
     ]
    },
    {
     "name": "stderr",
     "output_type": "stream",
     "text": [
      "\n",
      "Processing 1998_Armageddon.1998.BluRay.1080p.DTSMA.x264.dxva-SuBoXoNe.ENG:   0%|\u001b[A\n",
      "Processing 1998_Armageddon.1998.BluRay.1080p.DTSMA.x264.dxva-SuBoXoNe.ENG:   8%|\u001b[A\n",
      "Processing 1998_Armageddon.1998.BluRay.1080p.DTSMA.x264.dxva-SuBoXoNe.ENG:  15%|\u001b[A\n",
      "Processing 1998_Armageddon.1998.BluRay.1080p.DTSMA.x264.dxva-SuBoXoNe.ENG:  23%|\u001b[A\n",
      "Processing 1998_Armageddon.1998.BluRay.1080p.DTSMA.x264.dxva-SuBoXoNe.ENG:  31%|\u001b[A\n",
      "Processing 1998_Armageddon.1998.BluRay.1080p.DTSMA.x264.dxva-SuBoXoNe.ENG:  38%|\u001b[A\n",
      "Processing 1998_Armageddon.1998.BluRay.1080p.DTSMA.x264.dxva-SuBoXoNe.ENG:  46%|\u001b[A\n",
      "Processing 1998_Armageddon.1998.BluRay.1080p.DTSMA.x264.dxva-SuBoXoNe.ENG:  54%|\u001b[A\n",
      "Processing 1998_Armageddon.1998.BluRay.1080p.DTSMA.x264.dxva-SuBoXoNe.ENG:  62%|\u001b[A\n",
      "Processing 1998_Armageddon.1998.BluRay.1080p.DTSMA.x264.dxva-SuBoXoNe.ENG:  69%|\u001b[A\n",
      "Processing 1998_Armageddon.1998.BluRay.1080p.DTSMA.x264.dxva-SuBoXoNe.ENG:  77%|\u001b[A\n",
      "Processing 1998_Armageddon.1998.BluRay.1080p.DTSMA.x264.dxva-SuBoXoNe.ENG:  85%|\u001b[A\n",
      "Processing 1998_Armageddon.1998.BluRay.1080p.DTSMA.x264.dxva-SuBoXoNe.ENG:  92%|\u001b[A\n",
      "Processing 1998_Armageddon.1998.BluRay.1080p.DTSMA.x264.dxva-SuBoXoNe.ENG: 100%|\u001b[A\n",
      "Scoring movies:  64%|█████████████▎       | 282/443 [2:04:38<1:31:56, 34.27s/it]\u001b[A"
     ]
    },
    {
     "name": "stdout",
     "output_type": "stream",
     "text": [
      "✅ Finished scoring: 1998_Armageddon.1998.BluRay.1080p.DTSMA.x264.dxva-SuBoXoNe.ENG\n"
     ]
    },
    {
     "name": "stderr",
     "output_type": "stream",
     "text": [
      "\n",
      "Processing 1998_Deep Impact (1998):   0%|                | 0/10 [00:00<?, ?it/s]\u001b[A\n",
      "Processing 1998_Deep Impact (1998):  10%|▊       | 1/10 [00:02<00:21,  2.39s/it]\u001b[A\n",
      "Processing 1998_Deep Impact (1998):  20%|█▌      | 2/10 [00:05<00:20,  2.59s/it]\u001b[A\n",
      "Processing 1998_Deep Impact (1998):  30%|██▍     | 3/10 [00:07<00:18,  2.61s/it]\u001b[A\n",
      "Processing 1998_Deep Impact (1998):  40%|███▏    | 4/10 [00:10<00:16,  2.79s/it]\u001b[A\n",
      "Processing 1998_Deep Impact (1998):  50%|████    | 5/10 [00:13<00:14,  2.85s/it]\u001b[A\n",
      "Processing 1998_Deep Impact (1998):  60%|████▊   | 6/10 [00:16<00:11,  2.75s/it]\u001b[A\n",
      "Processing 1998_Deep Impact (1998):  70%|█████▌  | 7/10 [00:18<00:08,  2.72s/it]\u001b[A\n",
      "Processing 1998_Deep Impact (1998):  80%|██████▍ | 8/10 [00:21<00:05,  2.72s/it]\u001b[A\n",
      "Processing 1998_Deep Impact (1998):  90%|███████▏| 9/10 [00:24<00:02,  2.63s/it]\u001b[A\n",
      "Processing 1998_Deep Impact (1998): 100%|███████| 10/10 [00:26<00:00,  2.61s/it]\u001b[A\n",
      "Scoring movies:  64%|█████████████▍       | 283/443 [2:05:04<1:25:21, 32.01s/it]\u001b[A"
     ]
    },
    {
     "name": "stdout",
     "output_type": "stream",
     "text": [
      "✅ Finished scoring: 1998_Deep Impact (1998)\n"
     ]
    },
    {
     "name": "stderr",
     "output_type": "stream",
     "text": [
      "\n",
      "Processing 2012_TED 2012 TS XViD - INSPiRAL:   0%|        | 0/8 [00:00<?, ?it/s]\u001b[A\n",
      "Processing 2012_TED 2012 TS XViD - INSPiRAL:  12%|▏| 1/8 [00:03<00:21,  3.11s/it\u001b[A\n",
      "Processing 2012_TED 2012 TS XViD - INSPiRAL:  25%|▎| 2/8 [00:06<00:18,  3.04s/it\u001b[A\n",
      "Processing 2012_TED 2012 TS XViD - INSPiRAL:  38%|▍| 3/8 [00:08<00:14,  2.90s/it\u001b[A\n",
      "Processing 2012_TED 2012 TS XViD - INSPiRAL:  50%|▌| 4/8 [00:11<00:11,  2.86s/it\u001b[A\n",
      "Processing 2012_TED 2012 TS XViD - INSPiRAL:  62%|▋| 5/8 [00:14<00:08,  2.94s/it\u001b[A\n",
      "Processing 2012_TED 2012 TS XViD - INSPiRAL:  75%|▊| 6/8 [00:17<00:05,  2.96s/it\u001b[A"
     ]
    },
    {
     "name": "stdout",
     "output_type": "stream",
     "text": [
      "⚠️ Rate limit hit. Waiting 60 seconds...\n"
     ]
    },
    {
     "name": "stderr",
     "output_type": "stream",
     "text": [
      "\n",
      "Processing 2012_TED 2012 TS XViD - INSPiRAL:  88%|▉| 7/8 [01:20<00:22, 22.67s/it\u001b[A\n",
      "Processing 2012_TED 2012 TS XViD - INSPiRAL: 100%|█| 8/8 [01:23<00:00, 16.30s/it\u001b[A\n",
      "Scoring movies:  64%|█████████████▍       | 284/443 [2:06:28<2:05:52, 47.50s/it]\u001b[A"
     ]
    },
    {
     "name": "stdout",
     "output_type": "stream",
     "text": [
      "✅ Finished scoring: 2012_TED 2012 TS XViD - INSPiRAL\n"
     ]
    },
    {
     "name": "stderr",
     "output_type": "stream",
     "text": [
      "\n",
      "Processing 1983_SW.Episode.6.Return.of.the.Jedi.1983.BluRay.1080p.DTSES6.1.x264-\u001b[A\n",
      "Processing 1983_SW.Episode.6.Return.of.the.Jedi.1983.BluRay.1080p.DTSES6.1.x264-\u001b[A\n",
      "Processing 1983_SW.Episode.6.Return.of.the.Jedi.1983.BluRay.1080p.DTSES6.1.x264-\u001b[A\n",
      "Processing 1983_SW.Episode.6.Return.of.the.Jedi.1983.BluRay.1080p.DTSES6.1.x264-\u001b[A\n",
      "Processing 1983_SW.Episode.6.Return.of.the.Jedi.1983.BluRay.1080p.DTSES6.1.x264-\u001b[A\n",
      "Processing 1983_SW.Episode.6.Return.of.the.Jedi.1983.BluRay.1080p.DTSES6.1.x264-\u001b[A\n",
      "Processing 1983_SW.Episode.6.Return.of.the.Jedi.1983.BluRay.1080p.DTSES6.1.x264-\u001b[A\n",
      "Scoring movies:  64%|█████████████▌       | 285/443 [2:06:43<1:39:38, 37.84s/it]\u001b[A"
     ]
    },
    {
     "name": "stdout",
     "output_type": "stream",
     "text": [
      "✅ Finished scoring: 1983_SW.Episode.6.Return.of.the.Jedi.1983.BluRay.1080p.DTSES6.1.x264-CHD.eng\n"
     ]
    },
    {
     "name": "stderr",
     "output_type": "stream",
     "text": [
      "\n",
      "Processing 2005_Mr.And.Mrs.Smith.2005.1080p.BluRay.x264-TiMELORDS.ENG:   0%| | 0\u001b[A\n",
      "Processing 2005_Mr.And.Mrs.Smith.2005.1080p.BluRay.x264-TiMELORDS.ENG:  17%|▏| 1\u001b[A\n",
      "Processing 2005_Mr.And.Mrs.Smith.2005.1080p.BluRay.x264-TiMELORDS.ENG:  33%|▎| 2\u001b[A\n",
      "Processing 2005_Mr.And.Mrs.Smith.2005.1080p.BluRay.x264-TiMELORDS.ENG:  50%|▌| 3\u001b[A\n",
      "Processing 2005_Mr.And.Mrs.Smith.2005.1080p.BluRay.x264-TiMELORDS.ENG:  67%|▋| 4\u001b[A\n",
      "Processing 2005_Mr.And.Mrs.Smith.2005.1080p.BluRay.x264-TiMELORDS.ENG:  83%|▊| 5\u001b[A\n",
      "Processing 2005_Mr.And.Mrs.Smith.2005.1080p.BluRay.x264-TiMELORDS.ENG: 100%|█| 6\u001b[A\n",
      "Scoring movies:  65%|█████████████▌       | 286/443 [2:06:59<1:21:29, 31.14s/it]\u001b[A"
     ]
    },
    {
     "name": "stdout",
     "output_type": "stream",
     "text": [
      "✅ Finished scoring: 2005_Mr.And.Mrs.Smith.2005.1080p.BluRay.x264-TiMELORDS.ENG\n"
     ]
    },
    {
     "name": "stderr",
     "output_type": "stream",
     "text": [
      "\n",
      "Processing 1987_The.Secret.of.My.Success.1987.720p.BluRay.X264-AMIABLE:   0%| | \u001b[A\n",
      "Processing 1987_The.Secret.of.My.Success.1987.720p.BluRay.X264-AMIABLE:  12%|▏| \u001b[A\n",
      "Processing 1987_The.Secret.of.My.Success.1987.720p.BluRay.X264-AMIABLE:  25%|▎| \u001b[A\n",
      "Processing 1987_The.Secret.of.My.Success.1987.720p.BluRay.X264-AMIABLE:  38%|▍| \u001b[A\n",
      "Processing 1987_The.Secret.of.My.Success.1987.720p.BluRay.X264-AMIABLE:  50%|▌| \u001b[A\n",
      "Processing 1987_The.Secret.of.My.Success.1987.720p.BluRay.X264-AMIABLE:  62%|▋| \u001b[A\n",
      "Processing 1987_The.Secret.of.My.Success.1987.720p.BluRay.X264-AMIABLE:  75%|▊| \u001b[A\n",
      "Processing 1987_The.Secret.of.My.Success.1987.720p.BluRay.X264-AMIABLE:  88%|▉| \u001b[A\n",
      "Processing 1987_The.Secret.of.My.Success.1987.720p.BluRay.X264-AMIABLE: 100%|█| \u001b[A\n",
      "Scoring movies:  65%|█████████████▌       | 287/443 [2:07:20<1:13:03, 28.10s/it]\u001b[A"
     ]
    },
    {
     "name": "stdout",
     "output_type": "stream",
     "text": [
      "✅ Finished scoring: 1987_The.Secret.of.My.Success.1987.720p.BluRay.X264-AMIABLE\n"
     ]
    },
    {
     "name": "stderr",
     "output_type": "stream",
     "text": [
      "\n",
      "Processing 2015_Inside.Out.2015.1080p.WEB-DL.AAC2.0.H264-RARBG:   0%| | 0/8 [00:\u001b[A\n",
      "Processing 2015_Inside.Out.2015.1080p.WEB-DL.AAC2.0.H264-RARBG:  12%|▏| 1/8 [00:\u001b[A\n",
      "Processing 2015_Inside.Out.2015.1080p.WEB-DL.AAC2.0.H264-RARBG:  25%|▎| 2/8 [00:\u001b[A\n",
      "Processing 2015_Inside.Out.2015.1080p.WEB-DL.AAC2.0.H264-RARBG:  38%|▍| 3/8 [00:\u001b[A\n",
      "Processing 2015_Inside.Out.2015.1080p.WEB-DL.AAC2.0.H264-RARBG:  50%|▌| 4/8 [00:\u001b[A\n",
      "Processing 2015_Inside.Out.2015.1080p.WEB-DL.AAC2.0.H264-RARBG:  62%|▋| 5/8 [00:\u001b[A\n",
      "Processing 2015_Inside.Out.2015.1080p.WEB-DL.AAC2.0.H264-RARBG:  75%|▊| 6/8 [00:\u001b[A\n",
      "Processing 2015_Inside.Out.2015.1080p.WEB-DL.AAC2.0.H264-RARBG:  88%|▉| 7/8 [00:\u001b[A\n",
      "Processing 2015_Inside.Out.2015.1080p.WEB-DL.AAC2.0.H264-RARBG: 100%|█| 8/8 [00:\u001b[A\n",
      "Scoring movies:  65%|█████████████▋       | 288/443 [2:07:41<1:07:02, 25.95s/it]\u001b[A"
     ]
    },
    {
     "name": "stdout",
     "output_type": "stream",
     "text": [
      "✅ Finished scoring: 2015_Inside.Out.2015.1080p.WEB-DL.AAC2.0.H264-RARBG\n"
     ]
    },
    {
     "name": "stderr",
     "output_type": "stream",
     "text": [
      "\n",
      "Processing 1985_Fletch.1985.1080p.BluRay.x264-Japhson.ENG:   0%| | 0/9 [00:00<?,\u001b[A\n",
      "Processing 1985_Fletch.1985.1080p.BluRay.x264-Japhson.ENG:  11%| | 1/9 [00:02<00\u001b[A\n",
      "Processing 1985_Fletch.1985.1080p.BluRay.x264-Japhson.ENG:  22%|▏| 2/9 [00:05<00\u001b[A\n",
      "Processing 1985_Fletch.1985.1080p.BluRay.x264-Japhson.ENG:  33%|▎| 3/9 [00:07<00\u001b[A\n",
      "Processing 1985_Fletch.1985.1080p.BluRay.x264-Japhson.ENG:  44%|▍| 4/9 [00:10<00\u001b[A\n",
      "Processing 1985_Fletch.1985.1080p.BluRay.x264-Japhson.ENG:  56%|▌| 5/9 [00:13<00\u001b[A\n",
      "Processing 1985_Fletch.1985.1080p.BluRay.x264-Japhson.ENG:  67%|▋| 6/9 [00:15<00\u001b[A\n",
      "Processing 1985_Fletch.1985.1080p.BluRay.x264-Japhson.ENG:  78%|▊| 7/9 [00:18<00\u001b[A\n",
      "Processing 1985_Fletch.1985.1080p.BluRay.x264-Japhson.ENG:  89%|▉| 8/9 [00:21<00\u001b[A\n",
      "Processing 1985_Fletch.1985.1080p.BluRay.x264-Japhson.ENG: 100%|█| 9/9 [00:23<00\u001b[A\n",
      "Scoring movies:  65%|█████████████▋       | 289/443 [2:08:04<1:04:47, 25.24s/it]\u001b[A"
     ]
    },
    {
     "name": "stdout",
     "output_type": "stream",
     "text": [
      "✅ Finished scoring: 1985_Fletch.1985.1080p.BluRay.x264-Japhson.ENG\n"
     ]
    },
    {
     "name": "stderr",
     "output_type": "stream",
     "text": [
      "\n",
      "Processing 1980_Kramer.vs.Kramer.BluRay.1080p.DTS.x264.dxva-EuReKA.ENG:   0%| | \u001b[A\n",
      "Processing 1980_Kramer.vs.Kramer.BluRay.1080p.DTS.x264.dxva-EuReKA.ENG:  12%|▏| \u001b[A\n",
      "Processing 1980_Kramer.vs.Kramer.BluRay.1080p.DTS.x264.dxva-EuReKA.ENG:  25%|▎| \u001b[A\n",
      "Processing 1980_Kramer.vs.Kramer.BluRay.1080p.DTS.x264.dxva-EuReKA.ENG:  38%|▍| \u001b[A\n",
      "Processing 1980_Kramer.vs.Kramer.BluRay.1080p.DTS.x264.dxva-EuReKA.ENG:  50%|▌| \u001b[A\n",
      "Processing 1980_Kramer.vs.Kramer.BluRay.1080p.DTS.x264.dxva-EuReKA.ENG:  62%|▋| \u001b[A\n",
      "Processing 1980_Kramer.vs.Kramer.BluRay.1080p.DTS.x264.dxva-EuReKA.ENG:  75%|▊| \u001b[A\n",
      "Processing 1980_Kramer.vs.Kramer.BluRay.1080p.DTS.x264.dxva-EuReKA.ENG:  88%|▉| \u001b[A\n",
      "Processing 1980_Kramer.vs.Kramer.BluRay.1080p.DTS.x264.dxva-EuReKA.ENG: 100%|█| \u001b[A\n",
      "Scoring movies:  65%|█████████████▋       | 290/443 [2:08:26<1:01:18, 24.04s/it]\u001b[A"
     ]
    },
    {
     "name": "stdout",
     "output_type": "stream",
     "text": [
      "✅ Finished scoring: 1980_Kramer.vs.Kramer.BluRay.1080p.DTS.x264.dxva-EuReKA.ENG\n"
     ]
    },
    {
     "name": "stderr",
     "output_type": "stream",
     "text": [
      "\n",
      "Processing 1993_Jurassic.Park.TUC.1993.DVDRip.XviD.Subs.EN-UnSeeN:   0%| | 0/7 [\u001b[A\n",
      "Processing 1993_Jurassic.Park.TUC.1993.DVDRip.XviD.Subs.EN-UnSeeN:  14%|▏| 1/7 [\u001b[A\n",
      "Processing 1993_Jurassic.Park.TUC.1993.DVDRip.XviD.Subs.EN-UnSeeN:  29%|▎| 2/7 [\u001b[A\n",
      "Processing 1993_Jurassic.Park.TUC.1993.DVDRip.XviD.Subs.EN-UnSeeN:  43%|▍| 3/7 [\u001b[A\n",
      "Processing 1993_Jurassic.Park.TUC.1993.DVDRip.XviD.Subs.EN-UnSeeN:  57%|▌| 4/7 [\u001b[A\n",
      "Processing 1993_Jurassic.Park.TUC.1993.DVDRip.XviD.Subs.EN-UnSeeN:  71%|▋| 5/7 [\u001b[A\n",
      "Processing 1993_Jurassic.Park.TUC.1993.DVDRip.XviD.Subs.EN-UnSeeN:  86%|▊| 6/7 [\u001b[A\n",
      "Processing 1993_Jurassic.Park.TUC.1993.DVDRip.XviD.Subs.EN-UnSeeN: 100%|█| 7/7 [\u001b[A\n",
      "Scoring movies:  66%|███████████████        | 291/443 [2:08:44<56:55, 22.47s/it]\u001b[A"
     ]
    },
    {
     "name": "stdout",
     "output_type": "stream",
     "text": [
      "✅ Finished scoring: 1993_Jurassic.Park.TUC.1993.DVDRip.XviD.Subs.EN-UnSeeN\n"
     ]
    },
    {
     "name": "stderr",
     "output_type": "stream",
     "text": [
      "\n",
      "Processing 1980_Any.Which.Way.You.Can.1980.XViD.5.1.AC3-ShitBusters.ENG:   0%| |\u001b[A\n",
      "Processing 1980_Any.Which.Way.You.Can.1980.XViD.5.1.AC3-ShitBusters.ENG:  20%|▏|\u001b[A\n",
      "Processing 1980_Any.Which.Way.You.Can.1980.XViD.5.1.AC3-ShitBusters.ENG:  40%|▍|\u001b[A\n",
      "Processing 1980_Any.Which.Way.You.Can.1980.XViD.5.1.AC3-ShitBusters.ENG:  60%|▌|\u001b[A"
     ]
    },
    {
     "name": "stdout",
     "output_type": "stream",
     "text": [
      "⚠️ Rate limit hit. Waiting 60 seconds...\n"
     ]
    },
    {
     "name": "stderr",
     "output_type": "stream",
     "text": [
      "\n",
      "Processing 1980_Any.Which.Way.You.Can.1980.XViD.5.1.AC3-ShitBusters.ENG:  80%|▊|\u001b[A\n",
      "Processing 1980_Any.Which.Way.You.Can.1980.XViD.5.1.AC3-ShitBusters.ENG: 100%|█|\u001b[A\n",
      "Scoring movies:  66%|█████████████▊       | 292/443 [2:09:58<1:35:13, 37.84s/it]\u001b[A"
     ]
    },
    {
     "name": "stdout",
     "output_type": "stream",
     "text": [
      "✅ Finished scoring: 1980_Any.Which.Way.You.Can.1980.XViD.5.1.AC3-ShitBusters.ENG\n"
     ]
    },
    {
     "name": "stderr",
     "output_type": "stream",
     "text": [
      "\n",
      "Processing 1985_Back.To.The.Future.1985.720p.BluRay.x264.DTS-WiKi.eng:   0%| | 0\u001b[A\n",
      "Processing 1985_Back.To.The.Future.1985.720p.BluRay.x264.DTS-WiKi.eng:  11%| | 1\u001b[A\n",
      "Processing 1985_Back.To.The.Future.1985.720p.BluRay.x264.DTS-WiKi.eng:  22%|▏| 2\u001b[A\n",
      "Processing 1985_Back.To.The.Future.1985.720p.BluRay.x264.DTS-WiKi.eng:  33%|▎| 3\u001b[A\n",
      "Processing 1985_Back.To.The.Future.1985.720p.BluRay.x264.DTS-WiKi.eng:  44%|▍| 4\u001b[A\n",
      "Processing 1985_Back.To.The.Future.1985.720p.BluRay.x264.DTS-WiKi.eng:  56%|▌| 5\u001b[A\n",
      "Processing 1985_Back.To.The.Future.1985.720p.BluRay.x264.DTS-WiKi.eng:  67%|▋| 6\u001b[A\n",
      "Processing 1985_Back.To.The.Future.1985.720p.BluRay.x264.DTS-WiKi.eng:  78%|▊| 7\u001b[A\n",
      "Processing 1985_Back.To.The.Future.1985.720p.BluRay.x264.DTS-WiKi.eng:  89%|▉| 8\u001b[A\n",
      "Processing 1985_Back.To.The.Future.1985.720p.BluRay.x264.DTS-WiKi.eng: 100%|█| 9\u001b[A\n",
      "Scoring movies:  66%|█████████████▉       | 293/443 [2:10:21<1:23:29, 33.39s/it]\u001b[A"
     ]
    },
    {
     "name": "stdout",
     "output_type": "stream",
     "text": [
      "✅ Finished scoring: 1985_Back.To.The.Future.1985.720p.BluRay.x264.DTS-WiKi.eng\n"
     ]
    },
    {
     "name": "stderr",
     "output_type": "stream",
     "text": [
      "\n",
      "Processing 2021_Black.Widow.2021.1080p.WEB.H264-TIMECUT:   0%| | 0/8 [00:00<?, ?\u001b[A\n",
      "Processing 2021_Black.Widow.2021.1080p.WEB.H264-TIMECUT:  12%|▏| 1/8 [00:02<00:1\u001b[A\n",
      "Processing 2021_Black.Widow.2021.1080p.WEB.H264-TIMECUT:  25%|▎| 2/8 [00:04<00:1\u001b[A\n",
      "Processing 2021_Black.Widow.2021.1080p.WEB.H264-TIMECUT:  38%|▍| 3/8 [00:07<00:1\u001b[A\n",
      "Processing 2021_Black.Widow.2021.1080p.WEB.H264-TIMECUT:  50%|▌| 4/8 [00:10<00:1\u001b[A\n",
      "Processing 2021_Black.Widow.2021.1080p.WEB.H264-TIMECUT:  62%|▋| 5/8 [00:13<00:0\u001b[A\n",
      "Processing 2021_Black.Widow.2021.1080p.WEB.H264-TIMECUT:  75%|▊| 6/8 [00:15<00:0\u001b[A\n",
      "Processing 2021_Black.Widow.2021.1080p.WEB.H264-TIMECUT:  88%|▉| 7/8 [00:18<00:0\u001b[A\n",
      "Processing 2021_Black.Widow.2021.1080p.WEB.H264-TIMECUT: 100%|█| 8/8 [00:20<00:0\u001b[A\n",
      "Scoring movies:  66%|█████████████▉       | 294/443 [2:10:42<1:13:35, 29.63s/it]\u001b[A"
     ]
    },
    {
     "name": "stdout",
     "output_type": "stream",
     "text": [
      "✅ Finished scoring: 2021_Black.Widow.2021.1080p.WEB.H264-TIMECUT\n"
     ]
    },
    {
     "name": "stderr",
     "output_type": "stream",
     "text": [
      "\n",
      "Processing 2010_The.Twilight.Saga.Eclipse.720p.Bluray.x264-CBGB.eng:   0%| | 0/8\u001b[A\n",
      "Processing 2010_The.Twilight.Saga.Eclipse.720p.Bluray.x264-CBGB.eng:  12%|▏| 1/8\u001b[A\n",
      "Processing 2010_The.Twilight.Saga.Eclipse.720p.Bluray.x264-CBGB.eng:  25%|▎| 2/8\u001b[A\n",
      "Processing 2010_The.Twilight.Saga.Eclipse.720p.Bluray.x264-CBGB.eng:  38%|▍| 3/8\u001b[A\n",
      "Processing 2010_The.Twilight.Saga.Eclipse.720p.Bluray.x264-CBGB.eng:  50%|▌| 4/8\u001b[A\n",
      "Processing 2010_The.Twilight.Saga.Eclipse.720p.Bluray.x264-CBGB.eng:  62%|▋| 5/8\u001b[A\n",
      "Processing 2010_The.Twilight.Saga.Eclipse.720p.Bluray.x264-CBGB.eng:  75%|▊| 6/8\u001b[A\n",
      "Processing 2010_The.Twilight.Saga.Eclipse.720p.Bluray.x264-CBGB.eng:  88%|▉| 7/8\u001b[A\n",
      "Processing 2010_The.Twilight.Saga.Eclipse.720p.Bluray.x264-CBGB.eng: 100%|█| 8/8\u001b[A\n",
      "Scoring movies:  67%|█████████████▉       | 295/443 [2:11:04<1:07:37, 27.42s/it]\u001b[A"
     ]
    },
    {
     "name": "stdout",
     "output_type": "stream",
     "text": [
      "✅ Finished scoring: 2010_The.Twilight.Saga.Eclipse.720p.Bluray.x264-CBGB.eng\n"
     ]
    },
    {
     "name": "stderr",
     "output_type": "stream",
     "text": [
      "\n",
      "Processing 2008_Wall-E[2008]DvDrip-aXXo.en:   0%|         | 0/5 [00:00<?, ?it/s]\u001b[A\n",
      "Processing 2008_Wall-E[2008]DvDrip-aXXo.en:  20%|▏| 1/5 [00:02<00:11,  2.83s/it]\u001b[A\n",
      "Processing 2008_Wall-E[2008]DvDrip-aXXo.en:  40%|▍| 2/5 [00:05<00:08,  2.71s/it]\u001b[A\n",
      "Processing 2008_Wall-E[2008]DvDrip-aXXo.en:  60%|▌| 3/5 [00:07<00:05,  2.63s/it]\u001b[A\n",
      "Processing 2008_Wall-E[2008]DvDrip-aXXo.en:  80%|▊| 4/5 [00:10<00:02,  2.69s/it]\u001b[A\n",
      "Processing 2008_Wall-E[2008]DvDrip-aXXo.en: 100%|█| 5/5 [00:13<00:00,  2.69s/it]\u001b[A\n",
      "Scoring movies:  67%|███████████████▎       | 296/443 [2:11:18<56:55, 23.23s/it]\u001b[A"
     ]
    },
    {
     "name": "stdout",
     "output_type": "stream",
     "text": [
      "✅ Finished scoring: 2008_Wall-E[2008]DvDrip-aXXo.en\n"
     ]
    },
    {
     "name": "stderr",
     "output_type": "stream",
     "text": [
      "\n",
      "Processing 2008_Horton Hears a Who![2008]DvDrip AC3[Eng]-FXG:   0%| | 0/7 [00:00\u001b[A\n",
      "Processing 2008_Horton Hears a Who![2008]DvDrip AC3[Eng]-FXG:  14%|▏| 1/7 [00:02\u001b[A\n",
      "Processing 2008_Horton Hears a Who![2008]DvDrip AC3[Eng]-FXG:  29%|▎| 2/7 [00:05\u001b[A\n",
      "Processing 2008_Horton Hears a Who![2008]DvDrip AC3[Eng]-FXG:  43%|▍| 3/7 [00:07\u001b[A\n",
      "Processing 2008_Horton Hears a Who![2008]DvDrip AC3[Eng]-FXG:  57%|▌| 4/7 [00:10\u001b[A\n",
      "Processing 2008_Horton Hears a Who![2008]DvDrip AC3[Eng]-FXG:  71%|▋| 5/7 [00:12\u001b[A\n",
      "Processing 2008_Horton Hears a Who![2008]DvDrip AC3[Eng]-FXG:  86%|▊| 6/7 [00:15\u001b[A\n",
      "Processing 2008_Horton Hears a Who![2008]DvDrip AC3[Eng]-FXG: 100%|█| 7/7 [00:17\u001b[A\n",
      "Scoring movies:  67%|███████████████▍       | 297/443 [2:11:36<52:35, 21.61s/it]\u001b[A"
     ]
    },
    {
     "name": "stdout",
     "output_type": "stream",
     "text": [
      "✅ Finished scoring: 2008_Horton Hears a Who![2008]DvDrip AC3[Eng]-FXG\n"
     ]
    },
    {
     "name": "stderr",
     "output_type": "stream",
     "text": [
      "\n",
      "Processing 2012_The.Hobbit.An.Unexpected.Journey.2012.720p.BluRay.x264-SPARKS.en\u001b[A\n",
      "Processing 2012_The.Hobbit.An.Unexpected.Journey.2012.720p.BluRay.x264-SPARKS.en\u001b[A\n",
      "Processing 2012_The.Hobbit.An.Unexpected.Journey.2012.720p.BluRay.x264-SPARKS.en\u001b[A\n",
      "Processing 2012_The.Hobbit.An.Unexpected.Journey.2012.720p.BluRay.x264-SPARKS.en\u001b[A\n",
      "Processing 2012_The.Hobbit.An.Unexpected.Journey.2012.720p.BluRay.x264-SPARKS.en\u001b[A\n",
      "Processing 2012_The.Hobbit.An.Unexpected.Journey.2012.720p.BluRay.x264-SPARKS.en\u001b[A\n",
      "Processing 2012_The.Hobbit.An.Unexpected.Journey.2012.720p.BluRay.x264-SPARKS.en\u001b[A\n",
      "Processing 2012_The.Hobbit.An.Unexpected.Journey.2012.720p.BluRay.x264-SPARKS.en\u001b[A\n",
      "Processing 2012_The.Hobbit.An.Unexpected.Journey.2012.720p.BluRay.x264-SPARKS.en\u001b[A\n",
      "Processing 2012_The.Hobbit.An.Unexpected.Journey.2012.720p.BluRay.x264-SPARKS.en\u001b[A\n",
      "Processing 2012_The.Hobbit.An.Unexpected.Journey.2012.720p.BluRay.x264-SPARKS.en\u001b[A\n",
      "Scoring movies:  67%|███████████████▍       | 298/443 [2:12:02<55:59, 23.17s/it]\u001b[A"
     ]
    },
    {
     "name": "stdout",
     "output_type": "stream",
     "text": [
      "✅ Finished scoring: 2012_The.Hobbit.An.Unexpected.Journey.2012.720p.BluRay.x264-SPARKS.eng\n"
     ]
    },
    {
     "name": "stderr",
     "output_type": "stream",
     "text": [
      "\n",
      "Processing 2023_Spider Man Across the Spider Verse 2023 1080p V3 NEW No Chew Edi\u001b[A\n",
      "Processing 2023_Spider Man Across the Spider Verse 2023 1080p V3 NEW No Chew Edi\u001b[A\n",
      "Processing 2023_Spider Man Across the Spider Verse 2023 1080p V3 NEW No Chew Edi\u001b[A\n",
      "Processing 2023_Spider Man Across the Spider Verse 2023 1080p V3 NEW No Chew Edi\u001b[A\n",
      "Processing 2023_Spider Man Across the Spider Verse 2023 1080p V3 NEW No Chew Edi\u001b[A\n",
      "Processing 2023_Spider Man Across the Spider Verse 2023 1080p V3 NEW No Chew Edi\u001b[A\n",
      "Processing 2023_Spider Man Across the Spider Verse 2023 1080p V3 NEW No Chew Edi\u001b[A\n",
      "Processing 2023_Spider Man Across the Spider Verse 2023 1080p V3 NEW No Chew Edi\u001b[A"
     ]
    },
    {
     "name": "stdout",
     "output_type": "stream",
     "text": [
      "⚠️ Rate limit hit. Waiting 60 seconds...\n"
     ]
    },
    {
     "name": "stderr",
     "output_type": "stream",
     "text": [
      "\n",
      "Processing 2023_Spider Man Across the Spider Verse 2023 1080p V3 NEW No Chew Edi\u001b[A\n",
      "Processing 2023_Spider Man Across the Spider Verse 2023 1080p V3 NEW No Chew Edi\u001b[A\n",
      "Processing 2023_Spider Man Across the Spider Verse 2023 1080p V3 NEW No Chew Edi\u001b[A\n",
      "Processing 2023_Spider Man Across the Spider Verse 2023 1080p V3 NEW No Chew Edi\u001b[A\n",
      "Processing 2023_Spider Man Across the Spider Verse 2023 1080p V3 NEW No Chew Edi\u001b[A\n",
      "Processing 2023_Spider Man Across the Spider Verse 2023 1080p V3 NEW No Chew Edi\u001b[A\n",
      "Processing 2023_Spider Man Across the Spider Verse 2023 1080p V3 NEW No Chew Edi\u001b[A\n",
      "Processing 2023_Spider Man Across the Spider Verse 2023 1080p V3 NEW No Chew Edi\u001b[A\n",
      "Scoring movies:  67%|██████████████▏      | 299/443 [2:13:41<1:49:55, 45.80s/it]\u001b[A"
     ]
    },
    {
     "name": "stdout",
     "output_type": "stream",
     "text": [
      "✅ Finished scoring: 2023_Spider Man Across the Spider Verse 2023 1080p V3 NEW No Chew Edition HDTS Video X264 Will1869\n"
     ]
    },
    {
     "name": "stderr",
     "output_type": "stream",
     "text": [
      "\n",
      "Processing 1987_Three Men and a Baby_(1987)_CtB:   0%|    | 0/8 [00:00<?, ?it/s]\u001b[A\n",
      "Processing 1987_Three Men and a Baby_(1987)_CtB:  12%|▏| 1/8 [00:02<00:17,  2.55\u001b[A\n",
      "Processing 1987_Three Men and a Baby_(1987)_CtB:  25%|▎| 2/8 [00:05<00:15,  2.54\u001b[A\n",
      "Processing 1987_Three Men and a Baby_(1987)_CtB:  38%|▍| 3/8 [00:07<00:12,  2.54\u001b[A\n",
      "Processing 1987_Three Men and a Baby_(1987)_CtB:  50%|▌| 4/8 [00:10<00:10,  2.56\u001b[A\n",
      "Processing 1987_Three Men and a Baby_(1987)_CtB:  62%|▋| 5/8 [00:12<00:07,  2.57\u001b[A\n",
      "Processing 1987_Three Men and a Baby_(1987)_CtB:  75%|▊| 6/8 [00:15<00:05,  2.67\u001b[A\n",
      "Processing 1987_Three Men and a Baby_(1987)_CtB:  88%|▉| 7/8 [00:18<00:02,  2.82\u001b[A\n",
      "Processing 1987_Three Men and a Baby_(1987)_CtB: 100%|█| 8/8 [00:22<00:00,  3.07\u001b[A\n",
      "Scoring movies:  68%|██████████████▏      | 300/443 [2:14:03<1:32:26, 38.78s/it]\u001b[A"
     ]
    },
    {
     "name": "stdout",
     "output_type": "stream",
     "text": [
      "✅ Finished scoring: 1987_Three Men and a Baby_(1987)_CtB\n"
     ]
    },
    {
     "name": "stderr",
     "output_type": "stream",
     "text": [
      "\n",
      "Processing 2006_Superman.Returns.2006.1080p.BluRay.x264-HANGOVER.ENG:   0%| | 0/\u001b[A\n",
      "Processing 2006_Superman.Returns.2006.1080p.BluRay.x264-HANGOVER.ENG:  17%|▏| 1/\u001b[A\n",
      "Processing 2006_Superman.Returns.2006.1080p.BluRay.x264-HANGOVER.ENG:  33%|▎| 2/\u001b[A\n",
      "Processing 2006_Superman.Returns.2006.1080p.BluRay.x264-HANGOVER.ENG:  50%|▌| 3/\u001b[A\n",
      "Processing 2006_Superman.Returns.2006.1080p.BluRay.x264-HANGOVER.ENG:  67%|▋| 4/\u001b[A\n",
      "Processing 2006_Superman.Returns.2006.1080p.BluRay.x264-HANGOVER.ENG:  83%|▊| 5/\u001b[A\n",
      "Processing 2006_Superman.Returns.2006.1080p.BluRay.x264-HANGOVER.ENG: 100%|█| 6/\u001b[A\n",
      "Scoring movies:  68%|██████████████▎      | 301/443 [2:14:19<1:15:36, 31.95s/it]\u001b[A"
     ]
    },
    {
     "name": "stdout",
     "output_type": "stream",
     "text": [
      "✅ Finished scoring: 2006_Superman.Returns.2006.1080p.BluRay.x264-HANGOVER.ENG\n"
     ]
    },
    {
     "name": "stderr",
     "output_type": "stream",
     "text": [
      "\n",
      "Processing 1980_Coal Miners Daughter (1980) HDTV 2h 4m 8s @23.976fps.ENG-Hi:   0\u001b[A\n",
      "Processing 1980_Coal Miners Daughter (1980) HDTV 2h 4m 8s @23.976fps.ENG-Hi:  11\u001b[A\n",
      "Processing 1980_Coal Miners Daughter (1980) HDTV 2h 4m 8s @23.976fps.ENG-Hi:  22\u001b[A\n",
      "Processing 1980_Coal Miners Daughter (1980) HDTV 2h 4m 8s @23.976fps.ENG-Hi:  33\u001b[A\n",
      "Processing 1980_Coal Miners Daughter (1980) HDTV 2h 4m 8s @23.976fps.ENG-Hi:  44\u001b[A\n",
      "Processing 1980_Coal Miners Daughter (1980) HDTV 2h 4m 8s @23.976fps.ENG-Hi:  56\u001b[A\n",
      "Processing 1980_Coal Miners Daughter (1980) HDTV 2h 4m 8s @23.976fps.ENG-Hi:  67\u001b[A\n",
      "Processing 1980_Coal Miners Daughter (1980) HDTV 2h 4m 8s @23.976fps.ENG-Hi:  78\u001b[A\n",
      "Processing 1980_Coal Miners Daughter (1980) HDTV 2h 4m 8s @23.976fps.ENG-Hi:  89\u001b[A\n",
      "Processing 1980_Coal Miners Daughter (1980) HDTV 2h 4m 8s @23.976fps.ENG-Hi: 100\u001b[A\n",
      "Scoring movies:  68%|██████████████▎      | 302/443 [2:14:46<1:11:30, 30.43s/it]\u001b[A"
     ]
    },
    {
     "name": "stdout",
     "output_type": "stream",
     "text": [
      "✅ Finished scoring: 1980_Coal Miners Daughter (1980) HDTV 2h 4m 8s @23.976fps.ENG-Hi\n"
     ]
    },
    {
     "name": "stderr",
     "output_type": "stream",
     "text": [
      "\n",
      "Processing 2010_Iron.Man.2.(2010).BDRip.AC3.XviD-CaLLiOpeD:   0%| | 0/9 [00:00<?\u001b[A\n",
      "Processing 2010_Iron.Man.2.(2010).BDRip.AC3.XviD-CaLLiOpeD:  11%| | 1/9 [00:02<0\u001b[A\n",
      "Processing 2010_Iron.Man.2.(2010).BDRip.AC3.XviD-CaLLiOpeD:  22%|▏| 2/9 [00:05<0\u001b[A\n",
      "Processing 2010_Iron.Man.2.(2010).BDRip.AC3.XviD-CaLLiOpeD:  33%|▎| 3/9 [00:08<0\u001b[A\n",
      "Processing 2010_Iron.Man.2.(2010).BDRip.AC3.XviD-CaLLiOpeD:  44%|▍| 4/9 [00:11<0\u001b[A\n",
      "Processing 2010_Iron.Man.2.(2010).BDRip.AC3.XviD-CaLLiOpeD:  56%|▌| 5/9 [00:13<0\u001b[A\n",
      "Processing 2010_Iron.Man.2.(2010).BDRip.AC3.XviD-CaLLiOpeD:  67%|▋| 6/9 [00:16<0\u001b[A\n",
      "Processing 2010_Iron.Man.2.(2010).BDRip.AC3.XviD-CaLLiOpeD:  78%|▊| 7/9 [00:19<0\u001b[A\n",
      "Processing 2010_Iron.Man.2.(2010).BDRip.AC3.XviD-CaLLiOpeD:  89%|▉| 8/9 [00:22<0\u001b[A\n",
      "Processing 2010_Iron.Man.2.(2010).BDRip.AC3.XviD-CaLLiOpeD: 100%|█| 9/9 [00:24<0\u001b[A\n",
      "Scoring movies:  68%|██████████████▎      | 303/443 [2:15:11<1:07:02, 28.73s/it]\u001b[A"
     ]
    },
    {
     "name": "stdout",
     "output_type": "stream",
     "text": [
      "✅ Finished scoring: 2010_Iron.Man.2.(2010).BDRip.AC3.XviD-CaLLiOpeD\n"
     ]
    },
    {
     "name": "stderr",
     "output_type": "stream",
     "text": [
      "\n",
      "Processing 1977_Close.Encounters.of.the.Third.Kind.Collectors.Edition.1977.720p.\u001b[A\n",
      "Processing 1977_Close.Encounters.of.the.Third.Kind.Collectors.Edition.1977.720p.\u001b[A\n",
      "Processing 1977_Close.Encounters.of.the.Third.Kind.Collectors.Edition.1977.720p.\u001b[A\n",
      "Processing 1977_Close.Encounters.of.the.Third.Kind.Collectors.Edition.1977.720p.\u001b[A\n",
      "Processing 1977_Close.Encounters.of.the.Third.Kind.Collectors.Edition.1977.720p.\u001b[A"
     ]
    },
    {
     "name": "stdout",
     "output_type": "stream",
     "text": [
      "⚠️ Rate limit hit. Waiting 60 seconds...\n"
     ]
    },
    {
     "name": "stderr",
     "output_type": "stream",
     "text": [
      "\n",
      "Processing 1977_Close.Encounters.of.the.Third.Kind.Collectors.Edition.1977.720p.\u001b[A\n",
      "Processing 1977_Close.Encounters.of.the.Third.Kind.Collectors.Edition.1977.720p.\u001b[A\n",
      "Scoring movies:  69%|██████████████▍      | 304/443 [2:16:28<1:40:01, 43.17s/it]\u001b[A"
     ]
    },
    {
     "name": "stdout",
     "output_type": "stream",
     "text": [
      "✅ Finished scoring: 1977_Close.Encounters.of.the.Third.Kind.Collectors.Edition.1977.720p.BluRay.DTS.x264-ESiR.ENG\n"
     ]
    },
    {
     "name": "stderr",
     "output_type": "stream",
     "text": [
      "\n",
      "Processing 2019_Spider-Man.Far.From.Home.2019.V3.1080p.NEW.HDTC.H264.AC3.ADDS.CU\u001b[A\n",
      "Processing 2019_Spider-Man.Far.From.Home.2019.V3.1080p.NEW.HDTC.H264.AC3.ADDS.CU\u001b[A\n",
      "Processing 2019_Spider-Man.Far.From.Home.2019.V3.1080p.NEW.HDTC.H264.AC3.ADDS.CU\u001b[A\n",
      "Processing 2019_Spider-Man.Far.From.Home.2019.V3.1080p.NEW.HDTC.H264.AC3.ADDS.CU\u001b[A\n",
      "Processing 2019_Spider-Man.Far.From.Home.2019.V3.1080p.NEW.HDTC.H264.AC3.ADDS.CU\u001b[A\n",
      "Processing 2019_Spider-Man.Far.From.Home.2019.V3.1080p.NEW.HDTC.H264.AC3.ADDS.CU\u001b[A\n",
      "Processing 2019_Spider-Man.Far.From.Home.2019.V3.1080p.NEW.HDTC.H264.AC3.ADDS.CU\u001b[A\n",
      "Processing 2019_Spider-Man.Far.From.Home.2019.V3.1080p.NEW.HDTC.H264.AC3.ADDS.CU\u001b[A\n",
      "Processing 2019_Spider-Man.Far.From.Home.2019.V3.1080p.NEW.HDTC.H264.AC3.ADDS.CU\u001b[A\n",
      "Processing 2019_Spider-Man.Far.From.Home.2019.V3.1080p.NEW.HDTC.H264.AC3.ADDS.CU\u001b[A\n",
      "Processing 2019_Spider-Man.Far.From.Home.2019.V3.1080p.NEW.HDTC.H264.AC3.ADDS.CU\u001b[A\n",
      "Scoring movies:  69%|██████████████▍      | 305/443 [2:16:55<1:28:15, 38.37s/it]\u001b[A"
     ]
    },
    {
     "name": "stdout",
     "output_type": "stream",
     "text": [
      "✅ Finished scoring: 2019_Spider-Man.Far.From.Home.2019.V3.1080p.NEW.HDTC.H264.AC3.ADDS.CUT.BLURRED.Will1869\n"
     ]
    },
    {
     "name": "stderr",
     "output_type": "stream",
     "text": [
      "\n",
      "Processing 2018_The.Incredibles.2.2018.HDTC.Versions:   0%| | 0/9 [00:00<?, ?it/\u001b[A\n",
      "Processing 2018_The.Incredibles.2.2018.HDTC.Versions:  11%| | 1/9 [00:02<00:23, \u001b[A\n",
      "Processing 2018_The.Incredibles.2.2018.HDTC.Versions:  22%|▏| 2/9 [00:05<00:19, \u001b[A\n",
      "Processing 2018_The.Incredibles.2.2018.HDTC.Versions:  33%|▎| 3/9 [00:08<00:15, \u001b[A\n",
      "Processing 2018_The.Incredibles.2.2018.HDTC.Versions:  44%|▍| 4/9 [00:10<00:13, \u001b[A\n",
      "Processing 2018_The.Incredibles.2.2018.HDTC.Versions:  56%|▌| 5/9 [00:13<00:10, \u001b[A\n",
      "Processing 2018_The.Incredibles.2.2018.HDTC.Versions:  67%|▋| 6/9 [00:15<00:07, \u001b[A\n",
      "Processing 2018_The.Incredibles.2.2018.HDTC.Versions:  78%|▊| 7/9 [00:18<00:05, \u001b[A\n",
      "Processing 2018_The.Incredibles.2.2018.HDTC.Versions:  89%|▉| 8/9 [00:20<00:02, \u001b[A\n",
      "Processing 2018_The.Incredibles.2.2018.HDTC.Versions: 100%|█| 9/9 [00:23<00:00, \u001b[A\n",
      "Scoring movies:  69%|██████████████▌      | 306/443 [2:17:18<1:17:19, 33.86s/it]\u001b[A"
     ]
    },
    {
     "name": "stdout",
     "output_type": "stream",
     "text": [
      "✅ Finished scoring: 2018_The.Incredibles.2.2018.HDTC.Versions\n"
     ]
    },
    {
     "name": "stderr",
     "output_type": "stream",
     "text": [
      "\n",
      "Processing 1977_Saturday.Night.Fever.1977.720p.BluRay.x264-CiNEFiLE.ENG:   0%| |\u001b[A\n",
      "Processing 1977_Saturday.Night.Fever.1977.720p.BluRay.x264-CiNEFiLE.ENG:  11%| |\u001b[A\n",
      "Processing 1977_Saturday.Night.Fever.1977.720p.BluRay.x264-CiNEFiLE.ENG:  22%|▏|\u001b[A\n",
      "Processing 1977_Saturday.Night.Fever.1977.720p.BluRay.x264-CiNEFiLE.ENG:  33%|▎|\u001b[A\n",
      "Processing 1977_Saturday.Night.Fever.1977.720p.BluRay.x264-CiNEFiLE.ENG:  44%|▍|\u001b[A\n",
      "Processing 1977_Saturday.Night.Fever.1977.720p.BluRay.x264-CiNEFiLE.ENG:  56%|▌|\u001b[A\n",
      "Processing 1977_Saturday.Night.Fever.1977.720p.BluRay.x264-CiNEFiLE.ENG:  67%|▋|\u001b[A\n",
      "Processing 1977_Saturday.Night.Fever.1977.720p.BluRay.x264-CiNEFiLE.ENG:  78%|▊|\u001b[A\n",
      "Processing 1977_Saturday.Night.Fever.1977.720p.BluRay.x264-CiNEFiLE.ENG:  89%|▉|\u001b[A\n",
      "Processing 1977_Saturday.Night.Fever.1977.720p.BluRay.x264-CiNEFiLE.ENG: 100%|█|\u001b[A\n",
      "Scoring movies:  69%|██████████████▌      | 307/443 [2:17:42<1:09:41, 30.75s/it]\u001b[A"
     ]
    },
    {
     "name": "stdout",
     "output_type": "stream",
     "text": [
      "✅ Finished scoring: 1977_Saturday.Night.Fever.1977.720p.BluRay.x264-CiNEFiLE.ENG\n"
     ]
    },
    {
     "name": "stderr",
     "output_type": "stream",
     "text": [
      "\n",
      "Processing 2016_The. Jungle. Book. 2016. 720p. BluRay. x264-AN0NYM0US:   0%| | 0\u001b[A\n",
      "Processing 2016_The. Jungle. Book. 2016. 720p. BluRay. x264-AN0NYM0US:  14%|▏| 1\u001b[A\n",
      "Processing 2016_The. Jungle. Book. 2016. 720p. BluRay. x264-AN0NYM0US:  29%|▎| 2\u001b[A\n",
      "Processing 2016_The. Jungle. Book. 2016. 720p. BluRay. x264-AN0NYM0US:  43%|▍| 3\u001b[A\n",
      "Processing 2016_The. Jungle. Book. 2016. 720p. BluRay. x264-AN0NYM0US:  57%|▌| 4\u001b[A\n",
      "Processing 2016_The. Jungle. Book. 2016. 720p. BluRay. x264-AN0NYM0US:  71%|▋| 5\u001b[A\n",
      "Processing 2016_The. Jungle. Book. 2016. 720p. BluRay. x264-AN0NYM0US:  86%|▊| 6\u001b[A\n",
      "Processing 2016_The. Jungle. Book. 2016. 720p. BluRay. x264-AN0NYM0US: 100%|█| 7\u001b[A\n",
      "Scoring movies:  70%|██████████████▌      | 308/443 [2:18:00<1:00:36, 26.94s/it]\u001b[A"
     ]
    },
    {
     "name": "stdout",
     "output_type": "stream",
     "text": [
      "✅ Finished scoring: 2016_The. Jungle. Book. 2016. 720p. BluRay. x264-AN0NYM0US\n"
     ]
    },
    {
     "name": "stderr",
     "output_type": "stream",
     "text": [
      "\n",
      "Processing 1979_Alien.1979.Directors.Cut.720p.BluRay.x264.DTS-WiKi.EN:   0%| | 0\u001b[A\n",
      "Processing 1979_Alien.1979.Directors.Cut.720p.BluRay.x264.DTS-WiKi.EN:  17%|▏| 1\u001b[A\n",
      "Processing 1979_Alien.1979.Directors.Cut.720p.BluRay.x264.DTS-WiKi.EN:  33%|▎| 2\u001b[A\n",
      "Processing 1979_Alien.1979.Directors.Cut.720p.BluRay.x264.DTS-WiKi.EN:  50%|▌| 3\u001b[A\n",
      "Processing 1979_Alien.1979.Directors.Cut.720p.BluRay.x264.DTS-WiKi.EN:  67%|▋| 4\u001b[A\n",
      "Processing 1979_Alien.1979.Directors.Cut.720p.BluRay.x264.DTS-WiKi.EN:  83%|▊| 5\u001b[A\n",
      "Processing 1979_Alien.1979.Directors.Cut.720p.BluRay.x264.DTS-WiKi.EN: 100%|█| 6\u001b[A\n",
      "Scoring movies:  70%|████████████████       | 309/443 [2:18:15<52:29, 23.50s/it]\u001b[A"
     ]
    },
    {
     "name": "stdout",
     "output_type": "stream",
     "text": [
      "✅ Finished scoring: 1979_Alien.1979.Directors.Cut.720p.BluRay.x264.DTS-WiKi.EN\n"
     ]
    },
    {
     "name": "stderr",
     "output_type": "stream",
     "text": [
      "\n",
      "Processing 1997_Air.Force.One.1997.720p.BRrip.x264.YIFY:   0%| | 0/7 [00:00<?, ?\u001b[A\n",
      "Processing 1997_Air.Force.One.1997.720p.BRrip.x264.YIFY:  14%|▏| 1/7 [00:02<00:1\u001b[A\n",
      "Processing 1997_Air.Force.One.1997.720p.BRrip.x264.YIFY:  29%|▎| 2/7 [00:05<00:1\u001b[A\n",
      "Processing 1997_Air.Force.One.1997.720p.BRrip.x264.YIFY:  43%|▍| 3/7 [00:08<00:1\u001b[A\n",
      "Processing 1997_Air.Force.One.1997.720p.BRrip.x264.YIFY:  57%|▌| 4/7 [00:10<00:0\u001b[A\n",
      "Processing 1997_Air.Force.One.1997.720p.BRrip.x264.YIFY:  71%|▋| 5/7 [00:13<00:0\u001b[A\n",
      "Processing 1997_Air.Force.One.1997.720p.BRrip.x264.YIFY:  86%|▊| 6/7 [00:15<00:0\u001b[A\n",
      "Processing 1997_Air.Force.One.1997.720p.BRrip.x264.YIFY: 100%|█| 7/7 [00:18<00:0\u001b[A\n",
      "Scoring movies:  70%|████████████████       | 310/443 [2:18:34<48:40, 21.96s/it]\u001b[A"
     ]
    },
    {
     "name": "stdout",
     "output_type": "stream",
     "text": [
      "✅ Finished scoring: 1997_Air.Force.One.1997.720p.BRrip.x264.YIFY\n"
     ]
    },
    {
     "name": "stderr",
     "output_type": "stream",
     "text": [
      "\n",
      "Processing 1977_The.Spy.Who.Loved.Me.1977.DVD5.720p.HDTV.x264-NBS.eng:   0%| | 0\u001b[A\n",
      "Processing 1977_The.Spy.Who.Loved.Me.1977.DVD5.720p.HDTV.x264-NBS.eng:  20%|▏| 1\u001b[A\n",
      "Processing 1977_The.Spy.Who.Loved.Me.1977.DVD5.720p.HDTV.x264-NBS.eng:  40%|▍| 2\u001b[A\n",
      "Processing 1977_The.Spy.Who.Loved.Me.1977.DVD5.720p.HDTV.x264-NBS.eng:  60%|▌| 3\u001b[A"
     ]
    },
    {
     "name": "stdout",
     "output_type": "stream",
     "text": [
      "⚠️ Rate limit hit. Waiting 60 seconds...\n"
     ]
    },
    {
     "name": "stderr",
     "output_type": "stream",
     "text": [
      "\n",
      "Processing 1977_The.Spy.Who.Loved.Me.1977.DVD5.720p.HDTV.x264-NBS.eng:  80%|▊| 4\u001b[A\n",
      "Processing 1977_The.Spy.Who.Loved.Me.1977.DVD5.720p.HDTV.x264-NBS.eng: 100%|█| 5\u001b[A\n",
      "Scoring movies:  70%|██████████████▋      | 311/443 [2:19:47<1:22:09, 37.35s/it]\u001b[A"
     ]
    },
    {
     "name": "stdout",
     "output_type": "stream",
     "text": [
      "✅ Finished scoring: 1977_The.Spy.Who.Loved.Me.1977.DVD5.720p.HDTV.x264-NBS.eng\n"
     ]
    },
    {
     "name": "stderr",
     "output_type": "stream",
     "text": [
      "\n",
      "Processing 2000_Erin Brokovich.2000.BluRay.1080p.x264-HQF.ENG:   0%| | 0/9 [00:0\u001b[A\n",
      "Processing 2000_Erin Brokovich.2000.BluRay.1080p.x264-HQF.ENG:  11%| | 1/9 [00:0\u001b[A\n",
      "Processing 2000_Erin Brokovich.2000.BluRay.1080p.x264-HQF.ENG:  22%|▏| 2/9 [00:0\u001b[A\n",
      "Processing 2000_Erin Brokovich.2000.BluRay.1080p.x264-HQF.ENG:  33%|▎| 3/9 [00:0\u001b[A\n",
      "Processing 2000_Erin Brokovich.2000.BluRay.1080p.x264-HQF.ENG:  44%|▍| 4/9 [00:1\u001b[A\n",
      "Processing 2000_Erin Brokovich.2000.BluRay.1080p.x264-HQF.ENG:  56%|▌| 5/9 [00:1\u001b[A\n",
      "Processing 2000_Erin Brokovich.2000.BluRay.1080p.x264-HQF.ENG:  67%|▋| 6/9 [00:1\u001b[A\n",
      "Processing 2000_Erin Brokovich.2000.BluRay.1080p.x264-HQF.ENG:  78%|▊| 7/9 [00:1\u001b[A\n",
      "Processing 2000_Erin Brokovich.2000.BluRay.1080p.x264-HQF.ENG:  89%|▉| 8/9 [00:2\u001b[A\n",
      "Processing 2000_Erin Brokovich.2000.BluRay.1080p.x264-HQF.ENG: 100%|█| 9/9 [00:2\u001b[A\n",
      "Scoring movies:  70%|██████████████▊      | 312/443 [2:20:11<1:12:59, 33.43s/it]\u001b[A"
     ]
    },
    {
     "name": "stdout",
     "output_type": "stream",
     "text": [
      "✅ Finished scoring: 2000_Erin Brokovich.2000.BluRay.1080p.x264-HQF.ENG\n"
     ]
    },
    {
     "name": "stderr",
     "output_type": "stream",
     "text": [
      "\n",
      "Processing 1984_Footloose dvd rip[eng]XviD.Rets.en:   0%| | 0/7 [00:00<?, ?it/s]\u001b[A\n",
      "Processing 1984_Footloose dvd rip[eng]XviD.Rets.en:  14%|▏| 1/7 [00:02<00:16,  2\u001b[A\n",
      "Processing 1984_Footloose dvd rip[eng]XviD.Rets.en:  29%|▎| 2/7 [00:05<00:13,  2\u001b[A\n",
      "Processing 1984_Footloose dvd rip[eng]XviD.Rets.en:  43%|▍| 3/7 [00:07<00:10,  2\u001b[A\n",
      "Processing 1984_Footloose dvd rip[eng]XviD.Rets.en:  57%|▌| 4/7 [00:10<00:07,  2\u001b[A\n",
      "Processing 1984_Footloose dvd rip[eng]XviD.Rets.en:  71%|▋| 5/7 [00:13<00:05,  2\u001b[A\n",
      "Processing 1984_Footloose dvd rip[eng]XviD.Rets.en:  86%|▊| 6/7 [00:15<00:02,  2\u001b[A\n",
      "Processing 1984_Footloose dvd rip[eng]XviD.Rets.en: 100%|█| 7/7 [00:18<00:00,  2\u001b[A\n",
      "Scoring movies:  71%|██████████████▊      | 313/443 [2:20:30<1:02:30, 28.85s/it]\u001b[A"
     ]
    },
    {
     "name": "stdout",
     "output_type": "stream",
     "text": [
      "✅ Finished scoring: 1984_Footloose dvd rip[eng]XviD.Rets.en\n"
     ]
    },
    {
     "name": "stderr",
     "output_type": "stream",
     "text": [
      "\n",
      "Processing 2018_Jumanji.Welcome.to.the.Jungle.2017.1080p.WEB-DL.DD5.1.H264-FGT: \u001b[A\n",
      "Processing 2018_Jumanji.Welcome.to.the.Jungle.2017.1080p.WEB-DL.DD5.1.H264-FGT: \u001b[A\n",
      "Processing 2018_Jumanji.Welcome.to.the.Jungle.2017.1080p.WEB-DL.DD5.1.H264-FGT: \u001b[A\n",
      "Processing 2018_Jumanji.Welcome.to.the.Jungle.2017.1080p.WEB-DL.DD5.1.H264-FGT: \u001b[A\n",
      "Processing 2018_Jumanji.Welcome.to.the.Jungle.2017.1080p.WEB-DL.DD5.1.H264-FGT: \u001b[A\n",
      "Processing 2018_Jumanji.Welcome.to.the.Jungle.2017.1080p.WEB-DL.DD5.1.H264-FGT: \u001b[A\n",
      "Processing 2018_Jumanji.Welcome.to.the.Jungle.2017.1080p.WEB-DL.DD5.1.H264-FGT: \u001b[A\n",
      "Processing 2018_Jumanji.Welcome.to.the.Jungle.2017.1080p.WEB-DL.DD5.1.H264-FGT: \u001b[A\n",
      "Processing 2018_Jumanji.Welcome.to.the.Jungle.2017.1080p.WEB-DL.DD5.1.H264-FGT: \u001b[A\n",
      "Processing 2018_Jumanji.Welcome.to.the.Jungle.2017.1080p.WEB-DL.DD5.1.H264-FGT: \u001b[A\n",
      "Processing 2018_Jumanji.Welcome.to.the.Jungle.2017.1080p.WEB-DL.DD5.1.H264-FGT: \u001b[A\n",
      "Processing 2018_Jumanji.Welcome.to.the.Jungle.2017.1080p.WEB-DL.DD5.1.H264-FGT: \u001b[A\n",
      "Scoring movies:  71%|██████████████▉      | 314/443 [2:20:59<1:02:38, 29.14s/it]\u001b[A"
     ]
    },
    {
     "name": "stdout",
     "output_type": "stream",
     "text": [
      "✅ Finished scoring: 2018_Jumanji.Welcome.to.the.Jungle.2017.1080p.WEB-DL.DD5.1.H264-FGT\n"
     ]
    },
    {
     "name": "stderr",
     "output_type": "stream",
     "text": [
      "\n",
      "Processing 1994_Interview.with.the.Vampire.2008.720p.BluRay.x264-ESiR.ENG:   0%|\u001b[A\n",
      "Processing 1994_Interview.with.the.Vampire.2008.720p.BluRay.x264-ESiR.ENG:  14%|\u001b[A\n",
      "Processing 1994_Interview.with.the.Vampire.2008.720p.BluRay.x264-ESiR.ENG:  29%|\u001b[A\n",
      "Processing 1994_Interview.with.the.Vampire.2008.720p.BluRay.x264-ESiR.ENG:  43%|\u001b[A\n",
      "Processing 1994_Interview.with.the.Vampire.2008.720p.BluRay.x264-ESiR.ENG:  57%|\u001b[A\n",
      "Processing 1994_Interview.with.the.Vampire.2008.720p.BluRay.x264-ESiR.ENG:  71%|\u001b[A\n",
      "Processing 1994_Interview.with.the.Vampire.2008.720p.BluRay.x264-ESiR.ENG:  86%|\u001b[A\n",
      "Processing 1994_Interview.with.the.Vampire.2008.720p.BluRay.x264-ESiR.ENG: 100%|\u001b[A\n",
      "Scoring movies:  71%|████████████████▎      | 315/443 [2:21:18<55:20, 25.94s/it]\u001b[A"
     ]
    },
    {
     "name": "stdout",
     "output_type": "stream",
     "text": [
      "✅ Finished scoring: 1994_Interview.with.the.Vampire.2008.720p.BluRay.x264-ESiR.ENG\n"
     ]
    },
    {
     "name": "stderr",
     "output_type": "stream",
     "text": [
      "\n",
      "Processing 2018_Deadpool 2:   0%|                        | 0/11 [00:00<?, ?it/s]\u001b[A\n",
      "Processing 2018_Deadpool 2:   9%|█▍              | 1/11 [00:03<00:33,  3.38s/it]\u001b[A\n",
      "Processing 2018_Deadpool 2:  18%|██▉             | 2/11 [00:05<00:25,  2.87s/it]\u001b[A\n",
      "Processing 2018_Deadpool 2:  27%|████▎           | 3/11 [00:08<00:21,  2.69s/it]\u001b[A\n",
      "Processing 2018_Deadpool 2:  36%|█████▊          | 4/11 [00:10<00:18,  2.63s/it]\u001b[A\n",
      "Processing 2018_Deadpool 2:  45%|███████▎        | 5/11 [00:13<00:16,  2.67s/it]\u001b[A\n",
      "Processing 2018_Deadpool 2:  55%|████████▋       | 6/11 [00:16<00:13,  2.65s/it]\u001b[A\n",
      "Processing 2018_Deadpool 2:  64%|██████████▏     | 7/11 [00:18<00:10,  2.59s/it]\u001b[A\n",
      "Processing 2018_Deadpool 2:  73%|███████████▋    | 8/11 [00:21<00:07,  2.65s/it]\u001b[A\n",
      "Processing 2018_Deadpool 2:  82%|█████████████   | 9/11 [00:24<00:05,  2.65s/it]\u001b[A\n",
      "Processing 2018_Deadpool 2:  91%|█████████████▋ | 10/11 [00:26<00:02,  2.63s/it]\u001b[A\n",
      "Processing 2018_Deadpool 2: 100%|███████████████| 11/11 [00:29<00:00,  2.60s/it]\u001b[A\n",
      "Scoring movies:  71%|████████████████▍      | 316/443 [2:21:47<57:01, 26.94s/it]\u001b[A"
     ]
    },
    {
     "name": "stdout",
     "output_type": "stream",
     "text": [
      "✅ Finished scoring: 2018_Deadpool 2\n"
     ]
    },
    {
     "name": "stderr",
     "output_type": "stream",
     "text": [
      "\n",
      "Processing 1991_The.Naked.Gun.2.1.2.The.Smell.of.Fear.1991.BluRay.720p.DTS.x264-\u001b[A\n",
      "Processing 1991_The.Naked.Gun.2.1.2.The.Smell.of.Fear.1991.BluRay.720p.DTS.x264-\u001b[A\n",
      "Processing 1991_The.Naked.Gun.2.1.2.The.Smell.of.Fear.1991.BluRay.720p.DTS.x264-\u001b[A\n",
      "Processing 1991_The.Naked.Gun.2.1.2.The.Smell.of.Fear.1991.BluRay.720p.DTS.x264-\u001b[A\n",
      "Processing 1991_The.Naked.Gun.2.1.2.The.Smell.of.Fear.1991.BluRay.720p.DTS.x264-\u001b[A\n",
      "Processing 1991_The.Naked.Gun.2.1.2.The.Smell.of.Fear.1991.BluRay.720p.DTS.x264-\u001b[A\n",
      "Scoring movies:  72%|████████████████▍      | 317/443 [2:22:01<48:08, 22.93s/it]\u001b[A"
     ]
    },
    {
     "name": "stdout",
     "output_type": "stream",
     "text": [
      "✅ Finished scoring: 1991_The.Naked.Gun.2.1.2.The.Smell.of.Fear.1991.BluRay.720p.DTS.x264-beAst.eng\n"
     ]
    },
    {
     "name": "stderr",
     "output_type": "stream",
     "text": [
      "\n",
      "Processing 2006_Ice.Age.2.The.Meltdown.1080p.BluRay.DTS.x264-ESiR.ENG:   0%| | 0\u001b[A\n",
      "Processing 2006_Ice.Age.2.The.Meltdown.1080p.BluRay.DTS.x264-ESiR.ENG:  25%|▎| 1\u001b[A\n",
      "Processing 2006_Ice.Age.2.The.Meltdown.1080p.BluRay.DTS.x264-ESiR.ENG:  50%|▌| 2\u001b[A\n",
      "Processing 2006_Ice.Age.2.The.Meltdown.1080p.BluRay.DTS.x264-ESiR.ENG:  75%|▊| 3\u001b[A\n",
      "Processing 2006_Ice.Age.2.The.Meltdown.1080p.BluRay.DTS.x264-ESiR.ENG: 100%|█| 4\u001b[A\n",
      "Scoring movies:  72%|████████████████▌      | 318/443 [2:22:11<39:51, 19.13s/it]\u001b[A"
     ]
    },
    {
     "name": "stdout",
     "output_type": "stream",
     "text": [
      "✅ Finished scoring: 2006_Ice.Age.2.The.Meltdown.1080p.BluRay.DTS.x264-ESiR.ENG\n"
     ]
    },
    {
     "name": "stderr",
     "output_type": "stream",
     "text": [
      "\n",
      "Processing 2006_Talladega.Nights.1080p.BluRay.WMV-HD.BD9-KOADIC.ENG:   0%| | 0/1\u001b[A\n",
      "Processing 2006_Talladega.Nights.1080p.BluRay.WMV-HD.BD9-KOADIC.ENG:   9%| | 1/1\u001b[A\n",
      "Processing 2006_Talladega.Nights.1080p.BluRay.WMV-HD.BD9-KOADIC.ENG:  18%|▏| 2/1\u001b[A\n",
      "Processing 2006_Talladega.Nights.1080p.BluRay.WMV-HD.BD9-KOADIC.ENG:  27%|▎| 3/1\u001b[A\n",
      "Processing 2006_Talladega.Nights.1080p.BluRay.WMV-HD.BD9-KOADIC.ENG:  36%|▎| 4/1\u001b[A\n",
      "Processing 2006_Talladega.Nights.1080p.BluRay.WMV-HD.BD9-KOADIC.ENG:  45%|▍| 5/1\u001b[A\n",
      "Processing 2006_Talladega.Nights.1080p.BluRay.WMV-HD.BD9-KOADIC.ENG:  55%|▌| 6/1\u001b[A\n",
      "Processing 2006_Talladega.Nights.1080p.BluRay.WMV-HD.BD9-KOADIC.ENG:  64%|▋| 7/1\u001b[A\n",
      "Processing 2006_Talladega.Nights.1080p.BluRay.WMV-HD.BD9-KOADIC.ENG:  73%|▋| 8/1\u001b[A"
     ]
    },
    {
     "name": "stdout",
     "output_type": "stream",
     "text": [
      "⚠️ Rate limit hit. Waiting 60 seconds...\n"
     ]
    },
    {
     "name": "stderr",
     "output_type": "stream",
     "text": [
      "\n",
      "Processing 2006_Talladega.Nights.1080p.BluRay.WMV-HD.BD9-KOADIC.ENG:  82%|▊| 9/1\u001b[A\n",
      "Processing 2006_Talladega.Nights.1080p.BluRay.WMV-HD.BD9-KOADIC.ENG:  91%|▉| 10/\u001b[A\n",
      "Processing 2006_Talladega.Nights.1080p.BluRay.WMV-HD.BD9-KOADIC.ENG: 100%|█| 11/\u001b[A\n",
      "Scoring movies:  72%|███████████████      | 319/443 [2:23:40<1:22:45, 40.04s/it]\u001b[A"
     ]
    },
    {
     "name": "stdout",
     "output_type": "stream",
     "text": [
      "✅ Finished scoring: 2006_Talladega.Nights.1080p.BluRay.WMV-HD.BD9-KOADIC.ENG\n"
     ]
    },
    {
     "name": "stderr",
     "output_type": "stream",
     "text": [
      "\n",
      "Processing 1983_Risky.Business.1983.PROPER.1080p.BluRay.x264-TFiN.ENG:   0%| | 0\u001b[A\n",
      "Processing 1983_Risky.Business.1983.PROPER.1080p.BluRay.x264-TFiN.ENG:  14%|▏| 1\u001b[A\n",
      "Processing 1983_Risky.Business.1983.PROPER.1080p.BluRay.x264-TFiN.ENG:  29%|▎| 2\u001b[A\n",
      "Processing 1983_Risky.Business.1983.PROPER.1080p.BluRay.x264-TFiN.ENG:  43%|▍| 3\u001b[A\n",
      "Processing 1983_Risky.Business.1983.PROPER.1080p.BluRay.x264-TFiN.ENG:  57%|▌| 4\u001b[A\n",
      "Processing 1983_Risky.Business.1983.PROPER.1080p.BluRay.x264-TFiN.ENG:  71%|▋| 5\u001b[A\n",
      "Processing 1983_Risky.Business.1983.PROPER.1080p.BluRay.x264-TFiN.ENG:  86%|▊| 6\u001b[A\n",
      "Processing 1983_Risky.Business.1983.PROPER.1080p.BluRay.x264-TFiN.ENG: 100%|█| 7\u001b[A\n",
      "Scoring movies:  72%|███████████████▏     | 320/443 [2:23:58<1:08:28, 33.40s/it]\u001b[A"
     ]
    },
    {
     "name": "stdout",
     "output_type": "stream",
     "text": [
      "✅ Finished scoring: 1983_Risky.Business.1983.PROPER.1080p.BluRay.x264-TFiN.ENG\n"
     ]
    },
    {
     "name": "stderr",
     "output_type": "stream",
     "text": [
      "\n",
      "Processing 2008_TheDarkKnight_2008_DVD-NikonXp.EN:   0%| | 0/12 [00:00<?, ?it/s]\u001b[A\n",
      "Processing 2008_TheDarkKnight_2008_DVD-NikonXp.EN:   8%| | 1/12 [00:03<00:39,  3\u001b[A\n",
      "Processing 2008_TheDarkKnight_2008_DVD-NikonXp.EN:  17%|▏| 2/12 [00:06<00:30,  3\u001b[A\n",
      "Processing 2008_TheDarkKnight_2008_DVD-NikonXp.EN:  25%|▎| 3/12 [00:09<00:26,  2\u001b[A\n",
      "Processing 2008_TheDarkKnight_2008_DVD-NikonXp.EN:  33%|▎| 4/12 [00:11<00:22,  2\u001b[A\n",
      "Processing 2008_TheDarkKnight_2008_DVD-NikonXp.EN:  42%|▍| 5/12 [00:14<00:18,  2\u001b[A\n",
      "Processing 2008_TheDarkKnight_2008_DVD-NikonXp.EN:  50%|▌| 6/12 [00:16<00:15,  2\u001b[A\n",
      "Processing 2008_TheDarkKnight_2008_DVD-NikonXp.EN:  58%|▌| 7/12 [00:19<00:13,  2\u001b[A\n",
      "Processing 2008_TheDarkKnight_2008_DVD-NikonXp.EN:  67%|▋| 8/12 [00:22<00:10,  2\u001b[A\n",
      "Processing 2008_TheDarkKnight_2008_DVD-NikonXp.EN:  75%|▊| 9/12 [00:25<00:08,  2\u001b[A\n",
      "Processing 2008_TheDarkKnight_2008_DVD-NikonXp.EN:  83%|▊| 10/12 [00:27<00:05,  \u001b[A\n",
      "Processing 2008_TheDarkKnight_2008_DVD-NikonXp.EN:  92%|▉| 11/12 [00:30<00:02,  \u001b[A\n",
      "Processing 2008_TheDarkKnight_2008_DVD-NikonXp.EN: 100%|█| 12/12 [00:32<00:00,  \u001b[A\n",
      "Scoring movies:  72%|███████████████▏     | 321/443 [2:24:31<1:07:34, 33.23s/it]\u001b[A"
     ]
    },
    {
     "name": "stdout",
     "output_type": "stream",
     "text": [
      "✅ Finished scoring: 2008_TheDarkKnight_2008_DVD-NikonXp.EN\n"
     ]
    },
    {
     "name": "stderr",
     "output_type": "stream",
     "text": [
      "\n",
      "Processing 2020_Sonic.The.Hedgehog.2020.720p.WEBRip.x264.AAC-.YTS.MX:   0%| | 0/\u001b[A\n",
      "Processing 2020_Sonic.The.Hedgehog.2020.720p.WEBRip.x264.AAC-.YTS.MX:  12%|▏| 1/\u001b[A\n",
      "Processing 2020_Sonic.The.Hedgehog.2020.720p.WEBRip.x264.AAC-.YTS.MX:  25%|▎| 2/\u001b[A\n",
      "Processing 2020_Sonic.The.Hedgehog.2020.720p.WEBRip.x264.AAC-.YTS.MX:  38%|▍| 3/\u001b[A\n",
      "Processing 2020_Sonic.The.Hedgehog.2020.720p.WEBRip.x264.AAC-.YTS.MX:  50%|▌| 4/\u001b[A\n",
      "Processing 2020_Sonic.The.Hedgehog.2020.720p.WEBRip.x264.AAC-.YTS.MX:  62%|▋| 5/\u001b[A\n",
      "Processing 2020_Sonic.The.Hedgehog.2020.720p.WEBRip.x264.AAC-.YTS.MX:  75%|▊| 6/\u001b[A\n",
      "Processing 2020_Sonic.The.Hedgehog.2020.720p.WEBRip.x264.AAC-.YTS.MX:  88%|▉| 7/\u001b[A\n",
      "Processing 2020_Sonic.The.Hedgehog.2020.720p.WEBRip.x264.AAC-.YTS.MX: 100%|█| 8/\u001b[A\n",
      "Scoring movies:  73%|████████████████▋      | 322/443 [2:24:51<59:23, 29.45s/it]\u001b[A"
     ]
    },
    {
     "name": "stdout",
     "output_type": "stream",
     "text": [
      "✅ Finished scoring: 2020_Sonic.The.Hedgehog.2020.720p.WEBRip.x264.AAC-.YTS.MX\n"
     ]
    },
    {
     "name": "stderr",
     "output_type": "stream",
     "text": [
      "\n",
      "Processing 1991_Home.Alone.1990.1080p.BluRay.x264-HD1080.ENG:   0%| | 0/6 [00:00\u001b[A\n",
      "Processing 1991_Home.Alone.1990.1080p.BluRay.x264-HD1080.ENG:  17%|▏| 1/6 [00:02\u001b[A\n",
      "Processing 1991_Home.Alone.1990.1080p.BluRay.x264-HD1080.ENG:  33%|▎| 2/6 [00:04\u001b[A\n",
      "Processing 1991_Home.Alone.1990.1080p.BluRay.x264-HD1080.ENG:  50%|▌| 3/6 [00:07\u001b[A\n",
      "Processing 1991_Home.Alone.1990.1080p.BluRay.x264-HD1080.ENG:  67%|▋| 4/6 [00:10\u001b[A\n",
      "Processing 1991_Home.Alone.1990.1080p.BluRay.x264-HD1080.ENG:  83%|▊| 5/6 [00:12\u001b[A\n",
      "Processing 1991_Home.Alone.1990.1080p.BluRay.x264-HD1080.ENG: 100%|█| 6/6 [00:15\u001b[A\n",
      "Scoring movies:  73%|████████████████▊      | 323/443 [2:25:07<50:35, 25.30s/it]\u001b[A"
     ]
    },
    {
     "name": "stdout",
     "output_type": "stream",
     "text": [
      "✅ Finished scoring: 1991_Home.Alone.1990.1080p.BluRay.x264-HD1080.ENG\n"
     ]
    },
    {
     "name": "stderr",
     "output_type": "stream",
     "text": [
      "\n",
      "Processing 1985_The.Goonies.1985.720p.BluRay.DTS.x264-ESiR.ENG:   0%| | 0/8 [00:\u001b[A\n",
      "Processing 1985_The.Goonies.1985.720p.BluRay.DTS.x264-ESiR.ENG:  12%|▏| 1/8 [00:\u001b[A\n",
      "Processing 1985_The.Goonies.1985.720p.BluRay.DTS.x264-ESiR.ENG:  25%|▎| 2/8 [00:\u001b[A\n",
      "Processing 1985_The.Goonies.1985.720p.BluRay.DTS.x264-ESiR.ENG:  38%|▍| 3/8 [00:\u001b[A\n",
      "Processing 1985_The.Goonies.1985.720p.BluRay.DTS.x264-ESiR.ENG:  50%|▌| 4/8 [00:\u001b[A\n",
      "Processing 1985_The.Goonies.1985.720p.BluRay.DTS.x264-ESiR.ENG:  62%|▋| 5/8 [00:\u001b[A\n",
      "Processing 1985_The.Goonies.1985.720p.BluRay.DTS.x264-ESiR.ENG:  75%|▊| 6/8 [00:\u001b[A\n",
      "Processing 1985_The.Goonies.1985.720p.BluRay.DTS.x264-ESiR.ENG:  88%|▉| 7/8 [00:\u001b[A\n",
      "Processing 1985_The.Goonies.1985.720p.BluRay.DTS.x264-ESiR.ENG: 100%|█| 8/8 [00:\u001b[A\n",
      "Scoring movies:  73%|████████████████▊      | 324/443 [2:25:28<47:41, 24.04s/it]\u001b[A"
     ]
    },
    {
     "name": "stdout",
     "output_type": "stream",
     "text": [
      "✅ Finished scoring: 1985_The.Goonies.1985.720p.BluRay.DTS.x264-ESiR.ENG\n"
     ]
    },
    {
     "name": "stderr",
     "output_type": "stream",
     "text": [
      "\n",
      "Processing 1996_The.Rock.1996.CRiTERiON.DVDRip.XviD.AC3-UnSeeN:   0%| | 0/9 [00:\u001b[A\n",
      "Processing 1996_The.Rock.1996.CRiTERiON.DVDRip.XviD.AC3-UnSeeN:  11%| | 1/9 [00:\u001b[A\n",
      "Processing 1996_The.Rock.1996.CRiTERiON.DVDRip.XviD.AC3-UnSeeN:  22%|▏| 2/9 [00:\u001b[A\n",
      "Processing 1996_The.Rock.1996.CRiTERiON.DVDRip.XviD.AC3-UnSeeN:  33%|▎| 3/9 [00:\u001b[A\n",
      "Processing 1996_The.Rock.1996.CRiTERiON.DVDRip.XviD.AC3-UnSeeN:  44%|▍| 4/9 [00:\u001b[A\n",
      "Processing 1996_The.Rock.1996.CRiTERiON.DVDRip.XviD.AC3-UnSeeN:  56%|▌| 5/9 [00:\u001b[A\n",
      "Processing 1996_The.Rock.1996.CRiTERiON.DVDRip.XviD.AC3-UnSeeN:  67%|▋| 6/9 [00:\u001b[A"
     ]
    },
    {
     "name": "stdout",
     "output_type": "stream",
     "text": [
      "⚠️ Rate limit hit. Waiting 60 seconds...\n"
     ]
    },
    {
     "name": "stderr",
     "output_type": "stream",
     "text": [
      "\n",
      "Processing 1996_The.Rock.1996.CRiTERiON.DVDRip.XviD.AC3-UnSeeN:  78%|▊| 7/9 [01:\u001b[A\n",
      "Processing 1996_The.Rock.1996.CRiTERiON.DVDRip.XviD.AC3-UnSeeN:  89%|▉| 8/9 [01:\u001b[A\n",
      "Processing 1996_The.Rock.1996.CRiTERiON.DVDRip.XviD.AC3-UnSeeN: 100%|█| 9/9 [01:\u001b[A\n",
      "Scoring movies:  73%|███████████████▍     | 325/443 [2:26:52<1:22:53, 42.15s/it]\u001b[A"
     ]
    },
    {
     "name": "stdout",
     "output_type": "stream",
     "text": [
      "✅ Finished scoring: 1996_The.Rock.1996.CRiTERiON.DVDRip.XviD.AC3-UnSeeN\n"
     ]
    },
    {
     "name": "stderr",
     "output_type": "stream",
     "text": [
      "\n",
      "Processing 1987_Platoon 1986 H264 Special Edition DVDRip:   0%| | 0/7 [00:00<?, \u001b[A\n",
      "Processing 1987_Platoon 1986 H264 Special Edition DVDRip:  14%|▏| 1/7 [00:02<00:\u001b[A\n",
      "Processing 1987_Platoon 1986 H264 Special Edition DVDRip:  29%|▎| 2/7 [00:04<00:\u001b[A\n",
      "Processing 1987_Platoon 1986 H264 Special Edition DVDRip:  43%|▍| 3/7 [00:07<00:\u001b[A\n",
      "Processing 1987_Platoon 1986 H264 Special Edition DVDRip:  57%|▌| 4/7 [00:10<00:\u001b[A\n",
      "Processing 1987_Platoon 1986 H264 Special Edition DVDRip:  71%|▋| 5/7 [00:13<00:\u001b[A\n",
      "Processing 1987_Platoon 1986 H264 Special Edition DVDRip:  86%|▊| 6/7 [00:16<00:\u001b[A\n",
      "Processing 1987_Platoon 1986 H264 Special Edition DVDRip: 100%|█| 7/7 [00:18<00:\u001b[A\n",
      "Scoring movies:  74%|███████████████▍     | 326/443 [2:27:11<1:08:36, 35.18s/it]\u001b[A"
     ]
    },
    {
     "name": "stdout",
     "output_type": "stream",
     "text": [
      "✅ Finished scoring: 1987_Platoon 1986 H264 Special Edition DVDRip\n"
     ]
    },
    {
     "name": "stderr",
     "output_type": "stream",
     "text": [
      "\n",
      "Processing 2018_The.Grinch.2018.1080p.WEB-DL.X264.DD5.1-SeeHD:   0%| | 0/8 [00:0\u001b[A\n",
      "Processing 2018_The.Grinch.2018.1080p.WEB-DL.X264.DD5.1-SeeHD:  12%|▏| 1/8 [00:0\u001b[A\n",
      "Processing 2018_The.Grinch.2018.1080p.WEB-DL.X264.DD5.1-SeeHD:  25%|▎| 2/8 [00:0\u001b[A\n",
      "Processing 2018_The.Grinch.2018.1080p.WEB-DL.X264.DD5.1-SeeHD:  38%|▍| 3/8 [00:0\u001b[A\n",
      "Processing 2018_The.Grinch.2018.1080p.WEB-DL.X264.DD5.1-SeeHD:  50%|▌| 4/8 [00:1\u001b[A\n",
      "Processing 2018_The.Grinch.2018.1080p.WEB-DL.X264.DD5.1-SeeHD:  62%|▋| 5/8 [00:1\u001b[A\n",
      "Processing 2018_The.Grinch.2018.1080p.WEB-DL.X264.DD5.1-SeeHD:  75%|▊| 6/8 [00:1\u001b[A\n",
      "Processing 2018_The.Grinch.2018.1080p.WEB-DL.X264.DD5.1-SeeHD:  88%|▉| 7/8 [00:1\u001b[A\n",
      "Processing 2018_The.Grinch.2018.1080p.WEB-DL.X264.DD5.1-SeeHD: 100%|█| 8/8 [00:2\u001b[A\n",
      "Scoring movies:  74%|████████████████▉      | 327/443 [2:27:32<59:43, 30.90s/it]\u001b[A"
     ]
    },
    {
     "name": "stdout",
     "output_type": "stream",
     "text": [
      "✅ Finished scoring: 2018_The.Grinch.2018.1080p.WEB-DL.X264.DD5.1-SeeHD\n"
     ]
    },
    {
     "name": "stderr",
     "output_type": "stream",
     "text": [
      "\n",
      "Processing 1986_Crocodile.Dundee.1986.720p.BluRay.X264-AMIABLE:   0%| | 0/6 [00:\u001b[A\n",
      "Processing 1986_Crocodile.Dundee.1986.720p.BluRay.X264-AMIABLE:  17%|▏| 1/6 [00:\u001b[A\n",
      "Processing 1986_Crocodile.Dundee.1986.720p.BluRay.X264-AMIABLE:  33%|▎| 2/6 [00:\u001b[A\n",
      "Processing 1986_Crocodile.Dundee.1986.720p.BluRay.X264-AMIABLE:  50%|▌| 3/6 [00:\u001b[A\n",
      "Processing 1986_Crocodile.Dundee.1986.720p.BluRay.X264-AMIABLE:  67%|▋| 4/6 [00:\u001b[A\n",
      "Processing 1986_Crocodile.Dundee.1986.720p.BluRay.X264-AMIABLE:  83%|▊| 5/6 [00:\u001b[A\n",
      "Processing 1986_Crocodile.Dundee.1986.720p.BluRay.X264-AMIABLE: 100%|█| 6/6 [00:\u001b[A\n",
      "Scoring movies:  74%|█████████████████      | 328/443 [2:27:48<50:40, 26.44s/it]\u001b[A"
     ]
    },
    {
     "name": "stdout",
     "output_type": "stream",
     "text": [
      "✅ Finished scoring: 1986_Crocodile.Dundee.1986.720p.BluRay.X264-AMIABLE\n"
     ]
    },
    {
     "name": "stderr",
     "output_type": "stream",
     "text": [
      "\n",
      "Processing 1994_Forrest Gump_1994_DVDrip_aviM720_en:   0%| | 0/12 [00:00<?, ?it/\u001b[A\n",
      "Processing 1994_Forrest Gump_1994_DVDrip_aviM720_en:   8%| | 1/12 [00:02<00:31, \u001b[A\n",
      "Processing 1994_Forrest Gump_1994_DVDrip_aviM720_en:  17%|▏| 2/12 [00:05<00:26, \u001b[A\n",
      "Processing 1994_Forrest Gump_1994_DVDrip_aviM720_en:  25%|▎| 3/12 [00:08<00:24, \u001b[A\n",
      "Processing 1994_Forrest Gump_1994_DVDrip_aviM720_en:  33%|▎| 4/12 [00:10<00:21, \u001b[A\n",
      "Processing 1994_Forrest Gump_1994_DVDrip_aviM720_en:  42%|▍| 5/12 [00:13<00:17, \u001b[A\n",
      "Processing 1994_Forrest Gump_1994_DVDrip_aviM720_en:  50%|▌| 6/12 [00:15<00:15, \u001b[A\n",
      "Processing 1994_Forrest Gump_1994_DVDrip_aviM720_en:  58%|▌| 7/12 [00:18<00:12, \u001b[A\n",
      "Processing 1994_Forrest Gump_1994_DVDrip_aviM720_en:  67%|▋| 8/12 [00:20<00:10, \u001b[A\n",
      "Processing 1994_Forrest Gump_1994_DVDrip_aviM720_en:  75%|▊| 9/12 [00:23<00:07, \u001b[A\n",
      "Processing 1994_Forrest Gump_1994_DVDrip_aviM720_en:  83%|▊| 10/12 [00:26<00:05,\u001b[A\n",
      "Processing 1994_Forrest Gump_1994_DVDrip_aviM720_en:  92%|▉| 11/12 [00:28<00:02,\u001b[A\n",
      "Processing 1994_Forrest Gump_1994_DVDrip_aviM720_en: 100%|█| 12/12 [00:31<00:00,\u001b[A\n",
      "Scoring movies:  74%|█████████████████      | 329/443 [2:28:19<52:53, 27.84s/it]\u001b[A"
     ]
    },
    {
     "name": "stdout",
     "output_type": "stream",
     "text": [
      "✅ Finished scoring: 1994_Forrest Gump_1994_DVDrip_aviM720_en\n"
     ]
    },
    {
     "name": "stderr",
     "output_type": "stream",
     "text": [
      "\n",
      "Processing 2009_Monsters Vs Aliens[2009]DvDrip-aXXo:   0%| | 0/6 [00:00<?, ?it/s\u001b[A\n",
      "Processing 2009_Monsters Vs Aliens[2009]DvDrip-aXXo:  17%|▏| 1/6 [00:02<00:13,  \u001b[A\n",
      "Processing 2009_Monsters Vs Aliens[2009]DvDrip-aXXo:  33%|▎| 2/6 [00:05<00:10,  \u001b[A\n",
      "Processing 2009_Monsters Vs Aliens[2009]DvDrip-aXXo:  50%|▌| 3/6 [00:07<00:07,  \u001b[A\n",
      "Processing 2009_Monsters Vs Aliens[2009]DvDrip-aXXo:  67%|▋| 4/6 [00:10<00:05,  \u001b[A\n",
      "Processing 2009_Monsters Vs Aliens[2009]DvDrip-aXXo:  83%|▊| 5/6 [00:13<00:02,  \u001b[A\n",
      "Processing 2009_Monsters Vs Aliens[2009]DvDrip-aXXo: 100%|█| 6/6 [00:15<00:00,  \u001b[A\n",
      "Scoring movies:  74%|█████████████████▏     | 330/443 [2:28:35<45:33, 24.19s/it]\u001b[A"
     ]
    },
    {
     "name": "stdout",
     "output_type": "stream",
     "text": [
      "✅ Finished scoring: 2009_Monsters Vs Aliens[2009]DvDrip-aXXo\n"
     ]
    },
    {
     "name": "stderr",
     "output_type": "stream",
     "text": [
      "\n",
      "Processing 1981_For.Your.Eyes.Only.1981.REAL.REPACK.1080p.BluRay.x264-RoCKRioT.E\u001b[A\n",
      "Processing 1981_For.Your.Eyes.Only.1981.REAL.REPACK.1080p.BluRay.x264-RoCKRioT.E\u001b[A\n",
      "Processing 1981_For.Your.Eyes.Only.1981.REAL.REPACK.1080p.BluRay.x264-RoCKRioT.E\u001b[A\n",
      "Processing 1981_For.Your.Eyes.Only.1981.REAL.REPACK.1080p.BluRay.x264-RoCKRioT.E\u001b[A\n",
      "Processing 1981_For.Your.Eyes.Only.1981.REAL.REPACK.1080p.BluRay.x264-RoCKRioT.E\u001b[A\n",
      "Processing 1981_For.Your.Eyes.Only.1981.REAL.REPACK.1080p.BluRay.x264-RoCKRioT.E\u001b[A\n",
      "Scoring movies:  75%|█████████████████▏     | 331/443 [2:28:49<39:24, 21.11s/it]\u001b[A"
     ]
    },
    {
     "name": "stdout",
     "output_type": "stream",
     "text": [
      "✅ Finished scoring: 1981_For.Your.Eyes.Only.1981.REAL.REPACK.1080p.BluRay.x264-RoCKRioT.ENG\n"
     ]
    },
    {
     "name": "stderr",
     "output_type": "stream",
     "text": [
      "\n",
      "Processing 2011_The. Hangover. Part. II. 2011. 720p. BrRip. x264. YIFY:   0%| | \u001b[A\n",
      "Processing 2011_The. Hangover. Part. II. 2011. 720p. BrRip. x264. YIFY:  11%| | \u001b[A\n",
      "Processing 2011_The. Hangover. Part. II. 2011. 720p. BrRip. x264. YIFY:  22%|▏| \u001b[A\n",
      "Processing 2011_The. Hangover. Part. II. 2011. 720p. BrRip. x264. YIFY:  33%|▎| \u001b[A\n",
      "Processing 2011_The. Hangover. Part. II. 2011. 720p. BrRip. x264. YIFY:  44%|▍| \u001b[A\n",
      "Processing 2011_The. Hangover. Part. II. 2011. 720p. BrRip. x264. YIFY:  56%|▌| \u001b[A\n",
      "Processing 2011_The. Hangover. Part. II. 2011. 720p. BrRip. x264. YIFY:  67%|▋| \u001b[A\n",
      "Processing 2011_The. Hangover. Part. II. 2011. 720p. BrRip. x264. YIFY:  78%|▊| \u001b[A\n",
      "Processing 2011_The. Hangover. Part. II. 2011. 720p. BrRip. x264. YIFY:  89%|▉| \u001b[A\n",
      "Processing 2011_The. Hangover. Part. II. 2011. 720p. BrRip. x264. YIFY: 100%|█| \u001b[A\n",
      "Scoring movies:  75%|█████████████████▏     | 332/443 [2:29:13<40:58, 22.15s/it]\u001b[A"
     ]
    },
    {
     "name": "stdout",
     "output_type": "stream",
     "text": [
      "✅ Finished scoring: 2011_The. Hangover. Part. II. 2011. 720p. BrRip. x264. YIFY\n"
     ]
    },
    {
     "name": "stderr",
     "output_type": "stream",
     "text": [
      "\n",
      "Processing 1979_Star Trek - The Motion Picture:   0%|     | 0/7 [00:00<?, ?it/s]\u001b[A\n",
      "Processing 1979_Star Trek - The Motion Picture:  14%|▏| 1/7 [00:02<00:14,  2.50s\u001b[A\n",
      "Processing 1979_Star Trek - The Motion Picture:  29%|▎| 2/7 [00:05<00:12,  2.53s\u001b[A\n",
      "Processing 1979_Star Trek - The Motion Picture:  43%|▍| 3/7 [00:07<00:10,  2.57s\u001b[A\n",
      "Processing 1979_Star Trek - The Motion Picture:  57%|▌| 4/7 [00:10<00:07,  2.65s\u001b[A\n",
      "Processing 1979_Star Trek - The Motion Picture:  71%|▋| 5/7 [00:12<00:05,  2.58s\u001b[A\n",
      "Processing 1979_Star Trek - The Motion Picture:  86%|▊| 6/7 [00:15<00:02,  2.54s\u001b[A\n",
      "Processing 1979_Star Trek - The Motion Picture: 100%|█| 7/7 [00:17<00:00,  2.49s\u001b[A\n",
      "Scoring movies:  75%|█████████████████▎     | 333/443 [2:29:31<38:11, 20.83s/it]\u001b[A"
     ]
    },
    {
     "name": "stdout",
     "output_type": "stream",
     "text": [
      "✅ Finished scoring: 1979_Star Trek - The Motion Picture\n"
     ]
    },
    {
     "name": "stderr",
     "output_type": "stream",
     "text": [
      "\n",
      "Processing 2004_Spider-Man.2.1.2004.720p.BluRay.DTS.x264-ESiR.ENG:   0%| | 0/7 [\u001b[A\n",
      "Processing 2004_Spider-Man.2.1.2004.720p.BluRay.DTS.x264-ESiR.ENG:  14%|▏| 1/7 [\u001b[A\n",
      "Processing 2004_Spider-Man.2.1.2004.720p.BluRay.DTS.x264-ESiR.ENG:  29%|▎| 2/7 [\u001b[A\n",
      "Processing 2004_Spider-Man.2.1.2004.720p.BluRay.DTS.x264-ESiR.ENG:  43%|▍| 3/7 [\u001b[A"
     ]
    },
    {
     "name": "stdout",
     "output_type": "stream",
     "text": [
      "⚠️ Rate limit hit. Waiting 60 seconds...\n"
     ]
    },
    {
     "name": "stderr",
     "output_type": "stream",
     "text": [
      "\n",
      "Processing 2004_Spider-Man.2.1.2004.720p.BluRay.DTS.x264-ESiR.ENG:  57%|▌| 4/7 [\u001b[A\n",
      "Processing 2004_Spider-Man.2.1.2004.720p.BluRay.DTS.x264-ESiR.ENG:  71%|▋| 5/7 [\u001b[A\n",
      "Processing 2004_Spider-Man.2.1.2004.720p.BluRay.DTS.x264-ESiR.ENG:  86%|▊| 6/7 [\u001b[A\n",
      "Processing 2004_Spider-Man.2.1.2004.720p.BluRay.DTS.x264-ESiR.ENG: 100%|█| 7/7 [\u001b[A\n",
      "Scoring movies:  75%|███████████████▊     | 334/443 [2:30:50<1:09:20, 38.17s/it]\u001b[A"
     ]
    },
    {
     "name": "stdout",
     "output_type": "stream",
     "text": [
      "✅ Finished scoring: 2004_Spider-Man.2.1.2004.720p.BluRay.DTS.x264-ESiR.ENG\n"
     ]
    },
    {
     "name": "stderr",
     "output_type": "stream",
     "text": [
      "\n",
      "Processing 2007_Spider.Man.3.2007.1080p.BluRay.x264.YIFY:   0%| | 0/7 [00:00<?, \u001b[A\n",
      "Processing 2007_Spider.Man.3.2007.1080p.BluRay.x264.YIFY:  14%|▏| 1/7 [00:02<00:\u001b[A\n",
      "Processing 2007_Spider.Man.3.2007.1080p.BluRay.x264.YIFY:  29%|▎| 2/7 [00:06<00:\u001b[A\n",
      "Processing 2007_Spider.Man.3.2007.1080p.BluRay.x264.YIFY:  43%|▍| 3/7 [00:08<00:\u001b[A\n",
      "Processing 2007_Spider.Man.3.2007.1080p.BluRay.x264.YIFY:  57%|▌| 4/7 [00:11<00:\u001b[A\n",
      "Processing 2007_Spider.Man.3.2007.1080p.BluRay.x264.YIFY:  71%|▋| 5/7 [00:13<00:\u001b[A\n",
      "Processing 2007_Spider.Man.3.2007.1080p.BluRay.x264.YIFY:  86%|▊| 6/7 [00:16<00:\u001b[A\n",
      "Processing 2007_Spider.Man.3.2007.1080p.BluRay.x264.YIFY: 100%|█| 7/7 [00:18<00:\u001b[A\n",
      "Scoring movies:  76%|█████████████████▍     | 335/443 [2:31:09<58:19, 32.40s/it]\u001b[A"
     ]
    },
    {
     "name": "stdout",
     "output_type": "stream",
     "text": [
      "✅ Finished scoring: 2007_Spider.Man.3.2007.1080p.BluRay.x264.YIFY\n"
     ]
    },
    {
     "name": "stderr",
     "output_type": "stream",
     "text": [
      "\n",
      "Processing 2022_Minions.The.Rise.Of.Gru.2022.1080p.AMZN.WEB-DL.DDP5.1.H.264-CMRG\u001b[A\n",
      "Processing 2022_Minions.The.Rise.Of.Gru.2022.1080p.AMZN.WEB-DL.DDP5.1.H.264-CMRG\u001b[A\n",
      "Processing 2022_Minions.The.Rise.Of.Gru.2022.1080p.AMZN.WEB-DL.DDP5.1.H.264-CMRG\u001b[A\n",
      "Processing 2022_Minions.The.Rise.Of.Gru.2022.1080p.AMZN.WEB-DL.DDP5.1.H.264-CMRG\u001b[A\n",
      "Processing 2022_Minions.The.Rise.Of.Gru.2022.1080p.AMZN.WEB-DL.DDP5.1.H.264-CMRG\u001b[A\n",
      "Processing 2022_Minions.The.Rise.Of.Gru.2022.1080p.AMZN.WEB-DL.DDP5.1.H.264-CMRG\u001b[A\n",
      "Processing 2022_Minions.The.Rise.Of.Gru.2022.1080p.AMZN.WEB-DL.DDP5.1.H.264-CMRG\u001b[A\n",
      "Scoring movies:  76%|█████████████████▍     | 336/443 [2:31:24<48:38, 27.27s/it]\u001b[A"
     ]
    },
    {
     "name": "stdout",
     "output_type": "stream",
     "text": [
      "✅ Finished scoring: 2022_Minions.The.Rise.Of.Gru.2022.1080p.AMZN.WEB-DL.DDP5.1.H.264-CMRG\n"
     ]
    },
    {
     "name": "stderr",
     "output_type": "stream",
     "text": [
      "\n",
      "Processing 2006_X-Men.The.Last.Stand.PROPER.DVDRip.XviD-DoNEINGLES:   0%| | 0/5 \u001b[A\n",
      "Processing 2006_X-Men.The.Last.Stand.PROPER.DVDRip.XviD-DoNEINGLES:  20%|▏| 1/5 \u001b[A\n",
      "Processing 2006_X-Men.The.Last.Stand.PROPER.DVDRip.XviD-DoNEINGLES:  40%|▍| 2/5 \u001b[A\n",
      "Processing 2006_X-Men.The.Last.Stand.PROPER.DVDRip.XviD-DoNEINGLES:  60%|▌| 3/5 \u001b[A\n",
      "Processing 2006_X-Men.The.Last.Stand.PROPER.DVDRip.XviD-DoNEINGLES:  80%|▊| 4/5 \u001b[A\n",
      "Processing 2006_X-Men.The.Last.Stand.PROPER.DVDRip.XviD-DoNEINGLES: 100%|█| 5/5 \u001b[A\n",
      "Scoring movies:  76%|█████████████████▍     | 337/443 [2:31:37<40:27, 22.90s/it]\u001b[A"
     ]
    },
    {
     "name": "stdout",
     "output_type": "stream",
     "text": [
      "✅ Finished scoring: 2006_X-Men.The.Last.Stand.PROPER.DVDRip.XviD-DoNEINGLES\n"
     ]
    },
    {
     "name": "stderr",
     "output_type": "stream",
     "text": [
      "\n",
      "Processing 1997_Batman.and.Robin.1997.1080p.BluRay.x264-CULTHD.ENG:   0%| | 0/7 \u001b[A\n",
      "Processing 1997_Batman.and.Robin.1997.1080p.BluRay.x264-CULTHD.ENG:  14%|▏| 1/7 \u001b[A\n",
      "Processing 1997_Batman.and.Robin.1997.1080p.BluRay.x264-CULTHD.ENG:  29%|▎| 2/7 \u001b[A\n",
      "Processing 1997_Batman.and.Robin.1997.1080p.BluRay.x264-CULTHD.ENG:  43%|▍| 3/7 \u001b[A\n",
      "Processing 1997_Batman.and.Robin.1997.1080p.BluRay.x264-CULTHD.ENG:  57%|▌| 4/7 \u001b[A\n",
      "Processing 1997_Batman.and.Robin.1997.1080p.BluRay.x264-CULTHD.ENG:  71%|▋| 5/7 \u001b[A\n",
      "Processing 1997_Batman.and.Robin.1997.1080p.BluRay.x264-CULTHD.ENG:  86%|▊| 6/7 \u001b[A\n",
      "Processing 1997_Batman.and.Robin.1997.1080p.BluRay.x264-CULTHD.ENG: 100%|█| 7/7 \u001b[A\n",
      "Scoring movies:  76%|█████████████████▌     | 338/443 [2:31:55<37:25, 21.39s/it]\u001b[A"
     ]
    },
    {
     "name": "stdout",
     "output_type": "stream",
     "text": [
      "✅ Finished scoring: 1997_Batman.and.Robin.1997.1080p.BluRay.x264-CULTHD.ENG\n"
     ]
    },
    {
     "name": "stderr",
     "output_type": "stream",
     "text": [
      "\n",
      "Processing 1986_Aliens.1986.Special.Edition.720p.BluRay.x264.DTS-WiKi.EN:   0%| \u001b[A\n",
      "Processing 1986_Aliens.1986.Special.Edition.720p.BluRay.x264.DTS-WiKi.EN:  11%| \u001b[A\n",
      "Processing 1986_Aliens.1986.Special.Edition.720p.BluRay.x264.DTS-WiKi.EN:  22%|▏\u001b[A\n",
      "Processing 1986_Aliens.1986.Special.Edition.720p.BluRay.x264.DTS-WiKi.EN:  33%|▎\u001b[A\n",
      "Processing 1986_Aliens.1986.Special.Edition.720p.BluRay.x264.DTS-WiKi.EN:  44%|▍\u001b[A\n",
      "Processing 1986_Aliens.1986.Special.Edition.720p.BluRay.x264.DTS-WiKi.EN:  56%|▌\u001b[A\n",
      "Processing 1986_Aliens.1986.Special.Edition.720p.BluRay.x264.DTS-WiKi.EN:  67%|▋\u001b[A\n",
      "Processing 1986_Aliens.1986.Special.Edition.720p.BluRay.x264.DTS-WiKi.EN:  78%|▊\u001b[A\n",
      "Processing 1986_Aliens.1986.Special.Edition.720p.BluRay.x264.DTS-WiKi.EN:  89%|▉\u001b[A\n",
      "Processing 1986_Aliens.1986.Special.Edition.720p.BluRay.x264.DTS-WiKi.EN: 100%|█\u001b[A\n",
      "Scoring movies:  77%|█████████████████▌     | 339/443 [2:32:19<38:26, 22.18s/it]\u001b[A"
     ]
    },
    {
     "name": "stdout",
     "output_type": "stream",
     "text": [
      "✅ Finished scoring: 1986_Aliens.1986.Special.Edition.720p.BluRay.x264.DTS-WiKi.EN\n"
     ]
    },
    {
     "name": "stderr",
     "output_type": "stream",
     "text": [
      "\n",
      "Processing 1984_Beverly.Hills.Cop.1984.720p.BluRay.x264.DTS-WiKi.eng:   0%| | 0/\u001b[A\n",
      "Processing 1984_Beverly.Hills.Cop.1984.720p.BluRay.x264.DTS-WiKi.eng:  17%|▏| 1/\u001b[A\n",
      "Processing 1984_Beverly.Hills.Cop.1984.720p.BluRay.x264.DTS-WiKi.eng:  33%|▎| 2/\u001b[A\n",
      "Processing 1984_Beverly.Hills.Cop.1984.720p.BluRay.x264.DTS-WiKi.eng:  50%|▌| 3/\u001b[A\n",
      "Processing 1984_Beverly.Hills.Cop.1984.720p.BluRay.x264.DTS-WiKi.eng:  67%|▋| 4/\u001b[A\n",
      "Processing 1984_Beverly.Hills.Cop.1984.720p.BluRay.x264.DTS-WiKi.eng:  83%|▊| 5/\u001b[A\n",
      "Processing 1984_Beverly.Hills.Cop.1984.720p.BluRay.x264.DTS-WiKi.eng: 100%|█| 6/\u001b[A\n",
      "Scoring movies:  77%|█████████████████▋     | 340/443 [2:32:35<35:09, 20.48s/it]\u001b[A"
     ]
    },
    {
     "name": "stdout",
     "output_type": "stream",
     "text": [
      "✅ Finished scoring: 1984_Beverly.Hills.Cop.1984.720p.BluRay.x264.DTS-WiKi.eng\n"
     ]
    },
    {
     "name": "stderr",
     "output_type": "stream",
     "text": [
      "\n",
      "Processing 2000_X-Men ;[2000];[1080p];[Shadowl0rd].ENG:   0%| | 0/4 [00:00<?, ?i\u001b[A\n",
      "Processing 2000_X-Men ;[2000];[1080p];[Shadowl0rd].ENG:  25%|▎| 1/4 [00:02<00:07\u001b[A\n",
      "Processing 2000_X-Men ;[2000];[1080p];[Shadowl0rd].ENG:  50%|▌| 2/4 [00:05<00:05\u001b[A\n",
      "Processing 2000_X-Men ;[2000];[1080p];[Shadowl0rd].ENG:  75%|▊| 3/4 [00:07<00:02\u001b[A\n",
      "Processing 2000_X-Men ;[2000];[1080p];[Shadowl0rd].ENG: 100%|█| 4/4 [00:10<00:00\u001b[A\n",
      "Scoring movies:  77%|█████████████████▋     | 341/443 [2:32:45<29:35, 17.41s/it]\u001b[A"
     ]
    },
    {
     "name": "stdout",
     "output_type": "stream",
     "text": [
      "✅ Finished scoring: 2000_X-Men ;[2000];[1080p];[Shadowl0rd].ENG\n"
     ]
    },
    {
     "name": "stderr",
     "output_type": "stream",
     "text": [
      "\n",
      "Processing 1999_big. daddy. 1999. 720p. bluray. x264-amiable. EN:   0%| | 0/9 [0\u001b[A\n",
      "Processing 1999_big. daddy. 1999. 720p. bluray. x264-amiable. EN:  11%| | 1/9 [0\u001b[A\n",
      "Processing 1999_big. daddy. 1999. 720p. bluray. x264-amiable. EN:  22%|▏| 2/9 [0\u001b[A\n",
      "Processing 1999_big. daddy. 1999. 720p. bluray. x264-amiable. EN:  33%|▎| 3/9 [0\u001b[A\n",
      "Processing 1999_big. daddy. 1999. 720p. bluray. x264-amiable. EN:  44%|▍| 4/9 [0\u001b[A\n",
      "Processing 1999_big. daddy. 1999. 720p. bluray. x264-amiable. EN:  56%|▌| 5/9 [0\u001b[A\n",
      "Processing 1999_big. daddy. 1999. 720p. bluray. x264-amiable. EN:  67%|▋| 6/9 [0\u001b[A\n",
      "Processing 1999_big. daddy. 1999. 720p. bluray. x264-amiable. EN:  78%|▊| 7/9 [0\u001b[A\n",
      "Processing 1999_big. daddy. 1999. 720p. bluray. x264-amiable. EN:  89%|▉| 8/9 [0\u001b[A\n",
      "Processing 1999_big. daddy. 1999. 720p. bluray. x264-amiable. EN: 100%|█| 9/9 [0\u001b[A\n",
      "Scoring movies:  77%|█████████████████▊     | 342/443 [2:33:09<32:29, 19.31s/it]\u001b[A"
     ]
    },
    {
     "name": "stdout",
     "output_type": "stream",
     "text": [
      "✅ Finished scoring: 1999_big. daddy. 1999. 720p. bluray. x264-amiable. EN\n"
     ]
    },
    {
     "name": "stderr",
     "output_type": "stream",
     "text": [
      "\n",
      "Processing 1992_Sister Act (1992)(includes lyrics):   0%| | 0/10 [00:00<?, ?it/s\u001b[A\n",
      "Processing 1992_Sister Act (1992)(includes lyrics):  10%| | 1/10 [00:02<00:24,  \u001b[A\n",
      "Processing 1992_Sister Act (1992)(includes lyrics):  20%|▏| 2/10 [00:05<00:21,  \u001b[A"
     ]
    },
    {
     "name": "stdout",
     "output_type": "stream",
     "text": [
      "⚠️ Rate limit hit. Waiting 60 seconds...\n"
     ]
    },
    {
     "name": "stderr",
     "output_type": "stream",
     "text": [
      "\n",
      "Processing 1992_Sister Act (1992)(includes lyrics):  30%|▎| 3/10 [01:08<03:31, 3\u001b[A\n",
      "Processing 1992_Sister Act (1992)(includes lyrics):  40%|▍| 4/10 [01:10<01:55, 1\u001b[A\n",
      "Processing 1992_Sister Act (1992)(includes lyrics):  50%|▌| 5/10 [01:13<01:06, 1\u001b[A\n",
      "Processing 1992_Sister Act (1992)(includes lyrics):  60%|▌| 6/10 [01:16<00:38,  \u001b[A\n",
      "Processing 1992_Sister Act (1992)(includes lyrics):  70%|▋| 7/10 [01:19<00:22,  \u001b[A\n",
      "Processing 1992_Sister Act (1992)(includes lyrics):  80%|▊| 8/10 [01:21<00:11,  \u001b[A\n",
      "Processing 1992_Sister Act (1992)(includes lyrics):  90%|▉| 9/10 [01:25<00:05,  \u001b[A\n",
      "Processing 1992_Sister Act (1992)(includes lyrics): 100%|█| 10/10 [01:27<00:00, \u001b[A\n",
      "Scoring movies:  77%|████████████████▎    | 343/443 [2:34:37<1:06:23, 39.84s/it]\u001b[A"
     ]
    },
    {
     "name": "stdout",
     "output_type": "stream",
     "text": [
      "✅ Finished scoring: 1992_Sister Act (1992)(includes lyrics)\n"
     ]
    },
    {
     "name": "stderr",
     "output_type": "stream",
     "text": [
      "\n",
      "Processing 2020_The.Invisible.Man.2020.HDRip.XviD.AC3-EVO:   0%| | 0/6 [00:00<?,\u001b[A\n",
      "Processing 2020_The.Invisible.Man.2020.HDRip.XviD.AC3-EVO:  17%|▏| 1/6 [00:02<00\u001b[A\n",
      "Processing 2020_The.Invisible.Man.2020.HDRip.XviD.AC3-EVO:  33%|▎| 2/6 [00:05<00\u001b[A\n",
      "Processing 2020_The.Invisible.Man.2020.HDRip.XviD.AC3-EVO:  50%|▌| 3/6 [00:07<00\u001b[A\n",
      "Processing 2020_The.Invisible.Man.2020.HDRip.XviD.AC3-EVO:  67%|▋| 4/6 [00:10<00\u001b[A\n",
      "Processing 2020_The.Invisible.Man.2020.HDRip.XviD.AC3-EVO:  83%|▊| 5/6 [00:12<00\u001b[A\n",
      "Processing 2020_The.Invisible.Man.2020.HDRip.XviD.AC3-EVO: 100%|█| 6/6 [00:15<00\u001b[A\n",
      "Scoring movies:  78%|█████████████████▊     | 344/443 [2:34:52<53:37, 32.50s/it]\u001b[A"
     ]
    },
    {
     "name": "stdout",
     "output_type": "stream",
     "text": [
      "✅ Finished scoring: 2020_The.Invisible.Man.2020.HDRip.XviD.AC3-EVO\n"
     ]
    },
    {
     "name": "stderr",
     "output_type": "stream",
     "text": [
      "\n",
      "Processing 1995_Waterworld.en:   0%|                      | 0/7 [00:00<?, ?it/s]\u001b[A\n",
      "Processing 1995_Waterworld.en:  14%|██            | 1/7 [00:02<00:15,  2.62s/it]\u001b[A\n",
      "Processing 1995_Waterworld.en:  29%|████          | 2/7 [00:05<00:12,  2.55s/it]\u001b[A\n",
      "Processing 1995_Waterworld.en:  43%|██████        | 3/7 [00:08<00:11,  2.93s/it]\u001b[A\n",
      "Processing 1995_Waterworld.en:  57%|████████      | 4/7 [00:11<00:08,  2.90s/it]\u001b[A\n",
      "Processing 1995_Waterworld.en:  71%|██████████    | 5/7 [00:14<00:05,  2.87s/it]\u001b[A\n",
      "Processing 1995_Waterworld.en:  86%|████████████  | 6/7 [00:16<00:02,  2.74s/it]\u001b[A\n",
      "Processing 1995_Waterworld.en: 100%|██████████████| 7/7 [00:19<00:00,  2.66s/it]\u001b[A\n",
      "Scoring movies:  78%|█████████████████▉     | 345/443 [2:35:11<46:32, 28.50s/it]\u001b[A"
     ]
    },
    {
     "name": "stdout",
     "output_type": "stream",
     "text": [
      "✅ Finished scoring: 1995_Waterworld.en\n"
     ]
    },
    {
     "name": "stderr",
     "output_type": "stream",
     "text": [
      "\n",
      "Processing 1989_Rain Man (1988).eng:   0%|               | 0/11 [00:00<?, ?it/s]\u001b[A\n",
      "Processing 1989_Rain Man (1988).eng:   9%|▋      | 1/11 [00:02<00:26,  2.67s/it]\u001b[A\n",
      "Processing 1989_Rain Man (1988).eng:  18%|█▎     | 2/11 [00:05<00:23,  2.61s/it]\u001b[A\n",
      "Processing 1989_Rain Man (1988).eng:  27%|█▉     | 3/11 [00:08<00:21,  2.72s/it]\u001b[A\n",
      "Processing 1989_Rain Man (1988).eng:  36%|██▌    | 4/11 [00:10<00:19,  2.77s/it]\u001b[A\n",
      "Processing 1989_Rain Man (1988).eng:  45%|███▏   | 5/11 [00:13<00:16,  2.69s/it]\u001b[A\n",
      "Processing 1989_Rain Man (1988).eng:  55%|███▊   | 6/11 [00:16<00:13,  2.64s/it]\u001b[A\n",
      "Processing 1989_Rain Man (1988).eng:  64%|████▍  | 7/11 [00:18<00:10,  2.57s/it]\u001b[A\n",
      "Processing 1989_Rain Man (1988).eng:  73%|█████  | 8/11 [00:21<00:08,  2.67s/it]\u001b[A\n",
      "Processing 1989_Rain Man (1988).eng:  82%|█████▋ | 9/11 [00:24<00:05,  2.73s/it]\u001b[A\n",
      "Processing 1989_Rain Man (1988).eng:  91%|█████▍| 10/11 [00:27<00:02,  2.76s/it]\u001b[A\n",
      "Processing 1989_Rain Man (1988).eng: 100%|██████| 11/11 [00:29<00:00,  2.66s/it]\u001b[A\n",
      "Scoring movies:  78%|█████████████████▉     | 346/443 [2:35:41<46:32, 28.79s/it]\u001b[A"
     ]
    },
    {
     "name": "stdout",
     "output_type": "stream",
     "text": [
      "✅ Finished scoring: 1989_Rain Man (1988).eng\n"
     ]
    },
    {
     "name": "stderr",
     "output_type": "stream",
     "text": [
      "\n",
      "Processing 1977_The.exorcist.II.-.the.heretic.[shareprovider.com]:   0%| | 0/5 [\u001b[A\n",
      "Processing 1977_The.exorcist.II.-.the.heretic.[shareprovider.com]:  20%|▏| 1/5 [\u001b[A\n",
      "Processing 1977_The.exorcist.II.-.the.heretic.[shareprovider.com]:  40%|▍| 2/5 [\u001b[A\n",
      "Processing 1977_The.exorcist.II.-.the.heretic.[shareprovider.com]:  60%|▌| 3/5 [\u001b[A\n",
      "Processing 1977_The.exorcist.II.-.the.heretic.[shareprovider.com]:  80%|▊| 4/5 [\u001b[A\n",
      "Processing 1977_The.exorcist.II.-.the.heretic.[shareprovider.com]: 100%|█| 5/5 [\u001b[A\n",
      "Scoring movies:  78%|██████████████████     | 347/443 [2:35:54<38:22, 23.98s/it]\u001b[A"
     ]
    },
    {
     "name": "stdout",
     "output_type": "stream",
     "text": [
      "✅ Finished scoring: 1977_The.exorcist.II.-.the.heretic.[shareprovider.com]\n"
     ]
    },
    {
     "name": "stderr",
     "output_type": "stream",
     "text": [
      "\n",
      "Processing 2000_What.Lies.Beneath.2000.720p.WEB-DL.DD5.1.H.264-ViGi:   0%| | 0/6\u001b[A\n",
      "Processing 2000_What.Lies.Beneath.2000.720p.WEB-DL.DD5.1.H.264-ViGi:  17%|▏| 1/6\u001b[A\n",
      "Processing 2000_What.Lies.Beneath.2000.720p.WEB-DL.DD5.1.H.264-ViGi:  33%|▎| 2/6\u001b[A\n",
      "Processing 2000_What.Lies.Beneath.2000.720p.WEB-DL.DD5.1.H.264-ViGi:  50%|▌| 3/6\u001b[A\n",
      "Processing 2000_What.Lies.Beneath.2000.720p.WEB-DL.DD5.1.H.264-ViGi:  67%|▋| 4/6\u001b[A\n",
      "Processing 2000_What.Lies.Beneath.2000.720p.WEB-DL.DD5.1.H.264-ViGi:  83%|▊| 5/6\u001b[A\n",
      "Processing 2000_What.Lies.Beneath.2000.720p.WEB-DL.DD5.1.H.264-ViGi: 100%|█| 6/6\u001b[A\n",
      "Scoring movies:  79%|██████████████████     | 348/443 [2:36:12<35:07, 22.19s/it]\u001b[A"
     ]
    },
    {
     "name": "stdout",
     "output_type": "stream",
     "text": [
      "✅ Finished scoring: 2000_What.Lies.Beneath.2000.720p.WEB-DL.DD5.1.H.264-ViGi\n"
     ]
    },
    {
     "name": "stderr",
     "output_type": "stream",
     "text": [
      "\n",
      "Processing 2022_Black.Panther.Wakanda.Forever.2022.1080p.BluRay.x264.DTS-HD.MA.7\u001b[A\n",
      "Processing 2022_Black.Panther.Wakanda.Forever.2022.1080p.BluRay.x264.DTS-HD.MA.7\u001b[A\n",
      "Processing 2022_Black.Panther.Wakanda.Forever.2022.1080p.BluRay.x264.DTS-HD.MA.7\u001b[A\n",
      "Processing 2022_Black.Panther.Wakanda.Forever.2022.1080p.BluRay.x264.DTS-HD.MA.7\u001b[A\n",
      "Processing 2022_Black.Panther.Wakanda.Forever.2022.1080p.BluRay.x264.DTS-HD.MA.7\u001b[A\n",
      "Processing 2022_Black.Panther.Wakanda.Forever.2022.1080p.BluRay.x264.DTS-HD.MA.7\u001b[A\n",
      "Processing 2022_Black.Panther.Wakanda.Forever.2022.1080p.BluRay.x264.DTS-HD.MA.7\u001b[A\n",
      "Processing 2022_Black.Panther.Wakanda.Forever.2022.1080p.BluRay.x264.DTS-HD.MA.7\u001b[A\n",
      "Processing 2022_Black.Panther.Wakanda.Forever.2022.1080p.BluRay.x264.DTS-HD.MA.7\u001b[A\n",
      "Processing 2022_Black.Panther.Wakanda.Forever.2022.1080p.BluRay.x264.DTS-HD.MA.7\u001b[A"
     ]
    },
    {
     "name": "stdout",
     "output_type": "stream",
     "text": [
      "⚠️ Rate limit hit. Waiting 60 seconds...\n"
     ]
    },
    {
     "name": "stderr",
     "output_type": "stream",
     "text": [
      "\n",
      "Processing 2022_Black.Panther.Wakanda.Forever.2022.1080p.BluRay.x264.DTS-HD.MA.7\u001b[A\n",
      "Processing 2022_Black.Panther.Wakanda.Forever.2022.1080p.BluRay.x264.DTS-HD.MA.7\u001b[A\n",
      "Scoring movies:  79%|████████████████▌    | 349/443 [2:37:41<1:06:23, 42.38s/it]\u001b[A"
     ]
    },
    {
     "name": "stdout",
     "output_type": "stream",
     "text": [
      "✅ Finished scoring: 2022_Black.Panther.Wakanda.Forever.2022.1080p.BluRay.x264.DTS-HD.MA.7.1-MT\n"
     ]
    },
    {
     "name": "stderr",
     "output_type": "stream",
     "text": [
      "\n",
      "Processing 2016_The.Secret.Life.of.Pets.2016.720p.BluRay.x264-SPARKS:   0%| | 0/\u001b[A\n",
      "Processing 2016_The.Secret.Life.of.Pets.2016.720p.BluRay.x264-SPARKS:  12%|▏| 1/\u001b[A\n",
      "Processing 2016_The.Secret.Life.of.Pets.2016.720p.BluRay.x264-SPARKS:  25%|▎| 2/\u001b[A\n",
      "Processing 2016_The.Secret.Life.of.Pets.2016.720p.BluRay.x264-SPARKS:  38%|▍| 3/\u001b[A\n",
      "Processing 2016_The.Secret.Life.of.Pets.2016.720p.BluRay.x264-SPARKS:  50%|▌| 4/\u001b[A\n",
      "Processing 2016_The.Secret.Life.of.Pets.2016.720p.BluRay.x264-SPARKS:  62%|▋| 5/\u001b[A\n",
      "Processing 2016_The.Secret.Life.of.Pets.2016.720p.BluRay.x264-SPARKS:  75%|▊| 6/\u001b[A\n",
      "Processing 2016_The.Secret.Life.of.Pets.2016.720p.BluRay.x264-SPARKS:  88%|▉| 7/\u001b[A\n",
      "Processing 2016_The.Secret.Life.of.Pets.2016.720p.BluRay.x264-SPARKS: 100%|█| 8/\u001b[A\n",
      "Scoring movies:  79%|██████████████████▏    | 350/443 [2:38:04<56:29, 36.45s/it]\u001b[A"
     ]
    },
    {
     "name": "stdout",
     "output_type": "stream",
     "text": [
      "✅ Finished scoring: 2016_The.Secret.Life.of.Pets.2016.720p.BluRay.x264-SPARKS\n"
     ]
    },
    {
     "name": "stderr",
     "output_type": "stream",
     "text": [
      "\n",
      "Processing 2020_The Call of the Wild.2020.HDRip.XviD.AC3-EVO:   0%| | 0/5 [00:00\u001b[A\n",
      "Processing 2020_The Call of the Wild.2020.HDRip.XviD.AC3-EVO:  20%|▏| 1/5 [00:02\u001b[A\n",
      "Processing 2020_The Call of the Wild.2020.HDRip.XviD.AC3-EVO:  40%|▍| 2/5 [00:05\u001b[A\n",
      "Processing 2020_The Call of the Wild.2020.HDRip.XviD.AC3-EVO:  60%|▌| 3/5 [00:07\u001b[A\n",
      "Processing 2020_The Call of the Wild.2020.HDRip.XviD.AC3-EVO:  80%|▊| 4/5 [00:10\u001b[A\n",
      "Processing 2020_The Call of the Wild.2020.HDRip.XviD.AC3-EVO: 100%|█| 5/5 [00:12\u001b[A\n",
      "Scoring movies:  79%|██████████████████▏    | 351/443 [2:38:16<44:55, 29.30s/it]\u001b[A"
     ]
    },
    {
     "name": "stdout",
     "output_type": "stream",
     "text": [
      "✅ Finished scoring: 2020_The Call of the Wild.2020.HDRip.XviD.AC3-EVO\n"
     ]
    },
    {
     "name": "stderr",
     "output_type": "stream",
     "text": [
      "\n",
      "Processing 2022_Top.Gun.Maverick.2022.KORSUB.IMAX.1080p.WEBRip.AAC2.0.x264-SHITB\u001b[A\n",
      "Processing 2022_Top.Gun.Maverick.2022.KORSUB.IMAX.1080p.WEBRip.AAC2.0.x264-SHITB\u001b[A\n",
      "Processing 2022_Top.Gun.Maverick.2022.KORSUB.IMAX.1080p.WEBRip.AAC2.0.x264-SHITB\u001b[A\n",
      "Processing 2022_Top.Gun.Maverick.2022.KORSUB.IMAX.1080p.WEBRip.AAC2.0.x264-SHITB\u001b[A\n",
      "Processing 2022_Top.Gun.Maverick.2022.KORSUB.IMAX.1080p.WEBRip.AAC2.0.x264-SHITB\u001b[A\n",
      "Processing 2022_Top.Gun.Maverick.2022.KORSUB.IMAX.1080p.WEBRip.AAC2.0.x264-SHITB\u001b[A\n",
      "Processing 2022_Top.Gun.Maverick.2022.KORSUB.IMAX.1080p.WEBRip.AAC2.0.x264-SHITB\u001b[A\n",
      "Processing 2022_Top.Gun.Maverick.2022.KORSUB.IMAX.1080p.WEBRip.AAC2.0.x264-SHITB\u001b[A\n",
      "Processing 2022_Top.Gun.Maverick.2022.KORSUB.IMAX.1080p.WEBRip.AAC2.0.x264-SHITB\u001b[A\n",
      "Processing 2022_Top.Gun.Maverick.2022.KORSUB.IMAX.1080p.WEBRip.AAC2.0.x264-SHITB\u001b[A\n",
      "Scoring movies:  79%|██████████████████▎    | 352/443 [2:38:41<42:11, 27.82s/it]\u001b[A"
     ]
    },
    {
     "name": "stdout",
     "output_type": "stream",
     "text": [
      "✅ Finished scoring: 2022_Top.Gun.Maverick.2022.KORSUB.IMAX.1080p.WEBRip.AAC2.0.x264-SHITBOX\n"
     ]
    },
    {
     "name": "stderr",
     "output_type": "stream",
     "text": [
      "\n",
      "Processing 1981_Endless.Love:   0%|                       | 0/6 [00:00<?, ?it/s]\u001b[A\n",
      "Processing 1981_Endless.Love:  17%|██▌            | 1/6 [00:02<00:13,  2.66s/it]\u001b[A\n",
      "Processing 1981_Endless.Love:  33%|█████          | 2/6 [00:05<00:10,  2.61s/it]\u001b[A\n",
      "Processing 1981_Endless.Love:  50%|███████▌       | 3/6 [00:08<00:08,  2.76s/it]\u001b[A\n",
      "Processing 1981_Endless.Love:  67%|██████████     | 4/6 [00:10<00:05,  2.66s/it]\u001b[A\n",
      "Processing 1981_Endless.Love:  83%|████████████▌  | 5/6 [00:13<00:02,  2.73s/it]\u001b[A\n",
      "Processing 1981_Endless.Love: 100%|███████████████| 6/6 [00:16<00:00,  2.65s/it]\u001b[A\n",
      "Scoring movies:  80%|██████████████████▎    | 353/443 [2:38:57<36:25, 24.29s/it]\u001b[A"
     ]
    },
    {
     "name": "stdout",
     "output_type": "stream",
     "text": [
      "✅ Finished scoring: 1981_Endless.Love\n"
     ]
    },
    {
     "name": "stderr",
     "output_type": "stream",
     "text": [
      "\n",
      "Processing 1978_Superman.1978.Special.Edition.720p.BluRay.x264.DTS-WiKi.eng:   0\u001b[A\n",
      "Processing 1978_Superman.1978.Special.Edition.720p.BluRay.x264.DTS-WiKi.eng:  12\u001b[A\n",
      "Processing 1978_Superman.1978.Special.Edition.720p.BluRay.x264.DTS-WiKi.eng:  25\u001b[A\n",
      "Processing 1978_Superman.1978.Special.Edition.720p.BluRay.x264.DTS-WiKi.eng:  38\u001b[A\n",
      "Processing 1978_Superman.1978.Special.Edition.720p.BluRay.x264.DTS-WiKi.eng:  50\u001b[A\n",
      "Processing 1978_Superman.1978.Special.Edition.720p.BluRay.x264.DTS-WiKi.eng:  62\u001b[A\n",
      "Processing 1978_Superman.1978.Special.Edition.720p.BluRay.x264.DTS-WiKi.eng:  75\u001b[A\n",
      "Processing 1978_Superman.1978.Special.Edition.720p.BluRay.x264.DTS-WiKi.eng:  88\u001b[A\n",
      "Processing 1978_Superman.1978.Special.Edition.720p.BluRay.x264.DTS-WiKi.eng: 100\u001b[A\n",
      "Scoring movies:  80%|██████████████████▍    | 354/443 [2:39:19<35:10, 23.72s/it]\u001b[A"
     ]
    },
    {
     "name": "stdout",
     "output_type": "stream",
     "text": [
      "✅ Finished scoring: 1978_Superman.1978.Special.Edition.720p.BluRay.x264.DTS-WiKi.eng\n"
     ]
    },
    {
     "name": "stderr",
     "output_type": "stream",
     "text": [
      "\n",
      "Processing 1986_Ruthless.People.1986.German.DL.720p.HDTV.DD5.1.x264.eng:   0%| |\u001b[A\n",
      "Processing 1986_Ruthless.People.1986.German.DL.720p.HDTV.DD5.1.x264.eng:  14%|▏|\u001b[A\n",
      "Processing 1986_Ruthless.People.1986.German.DL.720p.HDTV.DD5.1.x264.eng:  29%|▎|\u001b[A\n",
      "Processing 1986_Ruthless.People.1986.German.DL.720p.HDTV.DD5.1.x264.eng:  43%|▍|\u001b[A\n",
      "Processing 1986_Ruthless.People.1986.German.DL.720p.HDTV.DD5.1.x264.eng:  57%|▌|\u001b[A\n",
      "Processing 1986_Ruthless.People.1986.German.DL.720p.HDTV.DD5.1.x264.eng:  71%|▋|\u001b[A\n",
      "Processing 1986_Ruthless.People.1986.German.DL.720p.HDTV.DD5.1.x264.eng:  86%|▊|\u001b[A\n",
      "Processing 1986_Ruthless.People.1986.German.DL.720p.HDTV.DD5.1.x264.eng: 100%|█|\u001b[A\n",
      "Scoring movies:  80%|██████████████████▍    | 355/443 [2:39:38<32:27, 22.13s/it]\u001b[A"
     ]
    },
    {
     "name": "stdout",
     "output_type": "stream",
     "text": [
      "✅ Finished scoring: 1986_Ruthless.People.1986.German.DL.720p.HDTV.DD5.1.x264.eng\n"
     ]
    },
    {
     "name": "stderr",
     "output_type": "stream",
     "text": [
      "\n",
      "Processing 1998_Good.Will.Hunting.1997.BluRay.1080p.DTS.h264.REMUX.dxva-EuReKA.E\u001b[A\n",
      "Processing 1998_Good.Will.Hunting.1997.BluRay.1080p.DTS.h264.REMUX.dxva-EuReKA.E\u001b[A\n",
      "Processing 1998_Good.Will.Hunting.1997.BluRay.1080p.DTS.h264.REMUX.dxva-EuReKA.E\u001b[A\n",
      "Processing 1998_Good.Will.Hunting.1997.BluRay.1080p.DTS.h264.REMUX.dxva-EuReKA.E\u001b[A\n",
      "Processing 1998_Good.Will.Hunting.1997.BluRay.1080p.DTS.h264.REMUX.dxva-EuReKA.E\u001b[A\n",
      "Processing 1998_Good.Will.Hunting.1997.BluRay.1080p.DTS.h264.REMUX.dxva-EuReKA.E\u001b[A\n",
      "Processing 1998_Good.Will.Hunting.1997.BluRay.1080p.DTS.h264.REMUX.dxva-EuReKA.E\u001b[A\n",
      "Processing 1998_Good.Will.Hunting.1997.BluRay.1080p.DTS.h264.REMUX.dxva-EuReKA.E\u001b[A\n",
      "Processing 1998_Good.Will.Hunting.1997.BluRay.1080p.DTS.h264.REMUX.dxva-EuReKA.E\u001b[A\n",
      "Processing 1998_Good.Will.Hunting.1997.BluRay.1080p.DTS.h264.REMUX.dxva-EuReKA.E\u001b[A\n",
      "Processing 1998_Good.Will.Hunting.1997.BluRay.1080p.DTS.h264.REMUX.dxva-EuReKA.E\u001b[A\n",
      "Scoring movies:  80%|██████████████████▍    | 356/443 [2:40:04<33:47, 23.30s/it]\u001b[A"
     ]
    },
    {
     "name": "stdout",
     "output_type": "stream",
     "text": [
      "✅ Finished scoring: 1998_Good.Will.Hunting.1997.BluRay.1080p.DTS.h264.REMUX.dxva-EuReKA.ENG\n"
     ]
    },
    {
     "name": "stderr",
     "output_type": "stream",
     "text": [
      "\n",
      "Processing 2004_The.Bourne.Supremacy.2004.720p.BluRay.DTS.x264-ESiR:   0%| | 0/5\u001b[A\n",
      "Processing 2004_The.Bourne.Supremacy.2004.720p.BluRay.DTS.x264-ESiR:  20%|▏| 1/5\u001b[A\n",
      "Processing 2004_The.Bourne.Supremacy.2004.720p.BluRay.DTS.x264-ESiR:  40%|▍| 2/5\u001b[A\n",
      "Processing 2004_The.Bourne.Supremacy.2004.720p.BluRay.DTS.x264-ESiR:  60%|▌| 3/5\u001b[A\n",
      "Processing 2004_The.Bourne.Supremacy.2004.720p.BluRay.DTS.x264-ESiR:  80%|▊| 4/5\u001b[A"
     ]
    },
    {
     "name": "stdout",
     "output_type": "stream",
     "text": [
      "⚠️ Rate limit hit. Waiting 60 seconds...\n"
     ]
    },
    {
     "name": "stderr",
     "output_type": "stream",
     "text": [
      "\n",
      "Processing 2004_The.Bourne.Supremacy.2004.720p.BluRay.DTS.x264-ESiR: 100%|█| 5/5\u001b[A\n",
      "Scoring movies:  81%|██████████████████▌    | 357/443 [2:41:17<54:59, 38.37s/it]\u001b[A"
     ]
    },
    {
     "name": "stdout",
     "output_type": "stream",
     "text": [
      "✅ Finished scoring: 2004_The.Bourne.Supremacy.2004.720p.BluRay.DTS.x264-ESiR\n"
     ]
    },
    {
     "name": "stderr",
     "output_type": "stream",
     "text": [
      "\n",
      "Processing 2017_Wonder.Woman.2017.720p.BluRay.x264-SPARKS:   0%| | 0/9 [00:00<?,\u001b[A\n",
      "Processing 2017_Wonder.Woman.2017.720p.BluRay.x264-SPARKS:  11%| | 1/9 [00:02<00\u001b[A\n",
      "Processing 2017_Wonder.Woman.2017.720p.BluRay.x264-SPARKS:  22%|▏| 2/9 [00:04<00\u001b[A\n",
      "Processing 2017_Wonder.Woman.2017.720p.BluRay.x264-SPARKS:  33%|▎| 3/9 [00:07<00\u001b[A\n",
      "Processing 2017_Wonder.Woman.2017.720p.BluRay.x264-SPARKS:  44%|▍| 4/9 [00:10<00\u001b[A\n",
      "Processing 2017_Wonder.Woman.2017.720p.BluRay.x264-SPARKS:  56%|▌| 5/9 [00:12<00\u001b[A\n",
      "Processing 2017_Wonder.Woman.2017.720p.BluRay.x264-SPARKS:  67%|▋| 6/9 [00:15<00\u001b[A\n",
      "Processing 2017_Wonder.Woman.2017.720p.BluRay.x264-SPARKS:  78%|▊| 7/9 [00:18<00\u001b[A\n",
      "Processing 2017_Wonder.Woman.2017.720p.BluRay.x264-SPARKS:  89%|▉| 8/9 [00:20<00\u001b[A\n",
      "Processing 2017_Wonder.Woman.2017.720p.BluRay.x264-SPARKS: 100%|█| 9/9 [00:23<00\u001b[A\n",
      "Scoring movies:  81%|██████████████████▌    | 358/443 [2:41:41<47:59, 33.88s/it]\u001b[A"
     ]
    },
    {
     "name": "stdout",
     "output_type": "stream",
     "text": [
      "✅ Finished scoring: 2017_Wonder.Woman.2017.720p.BluRay.x264-SPARKS\n"
     ]
    },
    {
     "name": "stderr",
     "output_type": "stream",
     "text": [
      "\n",
      "Processing 1978_Grease:   0%|                             | 0/9 [00:00<?, ?it/s]\u001b[A\n",
      "Processing 1978_Grease:  11%|██▎                  | 1/9 [00:02<00:20,  2.56s/it]\u001b[A\n",
      "Processing 1978_Grease:  22%|████▋                | 2/9 [00:05<00:17,  2.51s/it]\u001b[A\n",
      "Processing 1978_Grease:  33%|███████              | 3/9 [00:07<00:15,  2.60s/it]\u001b[A\n",
      "Processing 1978_Grease:  44%|█████████▎           | 4/9 [00:10<00:13,  2.77s/it]\u001b[A\n",
      "Processing 1978_Grease:  56%|███████████▋         | 5/9 [00:13<00:11,  2.80s/it]\u001b[A\n",
      "Processing 1978_Grease:  67%|██████████████       | 6/9 [00:16<00:08,  2.79s/it]\u001b[A\n",
      "Processing 1978_Grease:  78%|████████████████▎    | 7/9 [00:19<00:05,  2.79s/it]\u001b[A\n",
      "Processing 1978_Grease:  89%|██████████████████▋  | 8/9 [00:21<00:02,  2.71s/it]\u001b[A\n",
      "Processing 1978_Grease: 100%|█████████████████████| 9/9 [00:24<00:00,  2.64s/it]\u001b[A\n",
      "Scoring movies:  81%|██████████████████▋    | 359/443 [2:42:05<43:22, 30.98s/it]\u001b[A"
     ]
    },
    {
     "name": "stdout",
     "output_type": "stream",
     "text": [
      "✅ Finished scoring: 1978_Grease\n"
     ]
    },
    {
     "name": "stderr",
     "output_type": "stream",
     "text": [
      "\n",
      "Processing 1995_Crimson.Tide.1995.1080p.Bluray.x264-FSiHD.ENG:   0%| | 0/8 [00:0\u001b[A\n",
      "Processing 1995_Crimson.Tide.1995.1080p.Bluray.x264-FSiHD.ENG:  12%|▏| 1/8 [00:0\u001b[A\n",
      "Processing 1995_Crimson.Tide.1995.1080p.Bluray.x264-FSiHD.ENG:  25%|▎| 2/8 [00:0\u001b[A\n",
      "Processing 1995_Crimson.Tide.1995.1080p.Bluray.x264-FSiHD.ENG:  38%|▍| 3/8 [00:0\u001b[A\n",
      "Processing 1995_Crimson.Tide.1995.1080p.Bluray.x264-FSiHD.ENG:  50%|▌| 4/8 [00:1\u001b[A\n",
      "Processing 1995_Crimson.Tide.1995.1080p.Bluray.x264-FSiHD.ENG:  62%|▋| 5/8 [00:1\u001b[A\n",
      "Processing 1995_Crimson.Tide.1995.1080p.Bluray.x264-FSiHD.ENG:  75%|▊| 6/8 [00:1\u001b[A\n",
      "Processing 1995_Crimson.Tide.1995.1080p.Bluray.x264-FSiHD.ENG:  88%|▉| 7/8 [00:1\u001b[A\n",
      "Processing 1995_Crimson.Tide.1995.1080p.Bluray.x264-FSiHD.ENG: 100%|█| 8/8 [00:2\u001b[A\n",
      "Scoring movies:  81%|██████████████████▋    | 360/443 [2:42:26<38:38, 27.94s/it]\u001b[A"
     ]
    },
    {
     "name": "stdout",
     "output_type": "stream",
     "text": [
      "✅ Finished scoring: 1995_Crimson.Tide.1995.1080p.Bluray.x264-FSiHD.ENG\n"
     ]
    },
    {
     "name": "stderr",
     "output_type": "stream",
     "text": [
      "\n",
      "Processing 1997_Face.Off.1997.1080p.BD9.OXiDE.ENG:   0%|  | 0/6 [00:00<?, ?it/s]\u001b[A\n",
      "Processing 1997_Face.Off.1997.1080p.BD9.OXiDE.ENG:  17%|▏| 1/6 [00:02<00:12,  2.\u001b[A\n",
      "Processing 1997_Face.Off.1997.1080p.BD9.OXiDE.ENG:  33%|▎| 2/6 [00:06<00:12,  3.\u001b[A\n",
      "Processing 1997_Face.Off.1997.1080p.BD9.OXiDE.ENG:  50%|▌| 3/6 [00:08<00:08,  2.\u001b[A\n",
      "Processing 1997_Face.Off.1997.1080p.BD9.OXiDE.ENG:  67%|▋| 4/6 [00:11<00:06,  3.\u001b[A\n",
      "Processing 1997_Face.Off.1997.1080p.BD9.OXiDE.ENG:  83%|▊| 5/6 [00:14<00:02,  2.\u001b[A\n",
      "Processing 1997_Face.Off.1997.1080p.BD9.OXiDE.ENG: 100%|█| 6/6 [00:16<00:00,  2.\u001b[A\n",
      "Scoring movies:  81%|██████████████████▋    | 361/443 [2:42:43<33:41, 24.66s/it]\u001b[A"
     ]
    },
    {
     "name": "stdout",
     "output_type": "stream",
     "text": [
      "✅ Finished scoring: 1997_Face.Off.1997.1080p.BD9.OXiDE.ENG\n"
     ]
    },
    {
     "name": "stderr",
     "output_type": "stream",
     "text": [
      "\n",
      "Processing 1986_Top Gun:   0%|                            | 0/5 [00:00<?, ?it/s]\u001b[A\n",
      "Processing 1986_Top Gun:  20%|████                | 1/5 [00:03<00:12,  3.01s/it]\u001b[A\n",
      "Processing 1986_Top Gun:  40%|████████            | 2/5 [00:05<00:08,  2.74s/it]\u001b[A\n",
      "Processing 1986_Top Gun:  60%|████████████        | 3/5 [00:08<00:05,  2.66s/it]\u001b[A\n",
      "Processing 1986_Top Gun:  80%|████████████████    | 4/5 [00:10<00:02,  2.60s/it]\u001b[A\n",
      "Processing 1986_Top Gun: 100%|████████████████████| 5/5 [00:13<00:00,  2.71s/it]\u001b[A\n",
      "Scoring movies:  82%|██████████████████▊    | 362/443 [2:42:56<28:47, 21.32s/it]\u001b[A"
     ]
    },
    {
     "name": "stdout",
     "output_type": "stream",
     "text": [
      "✅ Finished scoring: 1986_Top Gun\n"
     ]
    },
    {
     "name": "stderr",
     "output_type": "stream",
     "text": [
      "\n",
      "Processing 1995_Toy Story:   0%|                          | 0/7 [00:00<?, ?it/s]\u001b[A\n",
      "Processing 1995_Toy Story:  14%|██▌               | 1/7 [00:02<00:17,  2.84s/it]\u001b[A\n",
      "Processing 1995_Toy Story:  29%|█████▏            | 2/7 [00:05<00:13,  2.66s/it]\u001b[A\n",
      "Processing 1995_Toy Story:  43%|███████▋          | 3/7 [00:08<00:10,  2.74s/it]\u001b[A\n",
      "Processing 1995_Toy Story:  57%|██████████▎       | 4/7 [00:10<00:07,  2.65s/it]\u001b[A\n",
      "Processing 1995_Toy Story:  71%|████████████▊     | 5/7 [00:13<00:05,  2.66s/it]\u001b[A\n",
      "Processing 1995_Toy Story:  86%|███████████████▍  | 6/7 [00:16<00:02,  2.68s/it]\u001b[A\n",
      "Processing 1995_Toy Story: 100%|██████████████████| 7/7 [00:18<00:00,  2.71s/it]\u001b[A\n",
      "Scoring movies:  82%|██████████████████▊    | 363/443 [2:43:15<27:28, 20.60s/it]\u001b[A"
     ]
    },
    {
     "name": "stdout",
     "output_type": "stream",
     "text": [
      "✅ Finished scoring: 1995_Toy Story\n"
     ]
    },
    {
     "name": "stderr",
     "output_type": "stream",
     "text": [
      "\n",
      "Processing 1977_Oh God  Dvdrip Xvid-OlFa_English:   0%|   | 0/8 [00:00<?, ?it/s]\u001b[A\n",
      "Processing 1977_Oh God  Dvdrip Xvid-OlFa_English:  12%|▏| 1/8 [00:02<00:18,  2.6\u001b[A\n",
      "Processing 1977_Oh God  Dvdrip Xvid-OlFa_English:  25%|▎| 2/8 [00:05<00:16,  2.8\u001b[A\n",
      "Processing 1977_Oh God  Dvdrip Xvid-OlFa_English:  38%|▍| 3/8 [00:08<00:13,  2.6\u001b[A\n",
      "Processing 1977_Oh God  Dvdrip Xvid-OlFa_English:  50%|▌| 4/8 [00:11<00:11,  2.9\u001b[A\n",
      "Processing 1977_Oh God  Dvdrip Xvid-OlFa_English:  62%|▋| 5/8 [00:13<00:08,  2.8\u001b[A"
     ]
    },
    {
     "name": "stdout",
     "output_type": "stream",
     "text": [
      "⚠️ Rate limit hit. Waiting 60 seconds...\n"
     ]
    },
    {
     "name": "stderr",
     "output_type": "stream",
     "text": [
      "\n",
      "Processing 1977_Oh God  Dvdrip Xvid-OlFa_English:  75%|▊| 6/8 [01:16<00:46, 23.1\u001b[A\n",
      "Processing 1977_Oh God  Dvdrip Xvid-OlFa_English:  88%|▉| 7/8 [01:19<00:16, 16.4\u001b[A\n",
      "Processing 1977_Oh God  Dvdrip Xvid-OlFa_English: 100%|█| 8/8 [01:21<00:00, 11.9\u001b[A\n",
      "Scoring movies:  82%|██████████████████▉    | 364/443 [2:44:37<51:12, 38.89s/it]\u001b[A"
     ]
    },
    {
     "name": "stdout",
     "output_type": "stream",
     "text": [
      "✅ Finished scoring: 1977_Oh God  Dvdrip Xvid-OlFa_English\n"
     ]
    },
    {
     "name": "stderr",
     "output_type": "stream",
     "text": [
      "\n",
      "Processing 2019_Captain Marvel (2019).[720p HQ DVDScr - HQ Line Audios - [Hindi \u001b[A\n",
      "Processing 2019_Captain Marvel (2019).[720p HQ DVDScr - HQ Line Audios - [Hindi \u001b[A\n",
      "Processing 2019_Captain Marvel (2019).[720p HQ DVDScr - HQ Line Audios - [Hindi \u001b[A\n",
      "Processing 2019_Captain Marvel (2019).[720p HQ DVDScr - HQ Line Audios - [Hindi \u001b[A\n",
      "Processing 2019_Captain Marvel (2019).[720p HQ DVDScr - HQ Line Audios - [Hindi \u001b[A\n",
      "Processing 2019_Captain Marvel (2019).[720p HQ DVDScr - HQ Line Audios - [Hindi \u001b[A\n",
      "Processing 2019_Captain Marvel (2019).[720p HQ DVDScr - HQ Line Audios - [Hindi \u001b[A\n",
      "Processing 2019_Captain Marvel (2019).[720p HQ DVDScr - HQ Line Audios - [Hindi \u001b[A\n",
      "Scoring movies:  82%|██████████████████▉    | 365/443 [2:44:56<42:45, 32.89s/it]\u001b[A"
     ]
    },
    {
     "name": "stdout",
     "output_type": "stream",
     "text": [
      "✅ Finished scoring: 2019_Captain Marvel (2019).[720p HQ DVDScr - HQ Line Audios - [Hindi + Eng] - x264 - 950MB]\n"
     ]
    },
    {
     "name": "stderr",
     "output_type": "stream",
     "text": [
      "\n",
      "Processing 1987_The.Untouchables.1987.720p.BluRay.DTS.x264-ESiR.ENG:   0%| | 0/6\u001b[A\n",
      "Processing 1987_The.Untouchables.1987.720p.BluRay.DTS.x264-ESiR.ENG:  17%|▏| 1/6\u001b[A\n",
      "Processing 1987_The.Untouchables.1987.720p.BluRay.DTS.x264-ESiR.ENG:  33%|▎| 2/6\u001b[A\n",
      "Processing 1987_The.Untouchables.1987.720p.BluRay.DTS.x264-ESiR.ENG:  50%|▌| 3/6\u001b[A\n",
      "Processing 1987_The.Untouchables.1987.720p.BluRay.DTS.x264-ESiR.ENG:  67%|▋| 4/6\u001b[A\n",
      "Processing 1987_The.Untouchables.1987.720p.BluRay.DTS.x264-ESiR.ENG:  83%|▊| 5/6\u001b[A\n",
      "Processing 1987_The.Untouchables.1987.720p.BluRay.DTS.x264-ESiR.ENG: 100%|█| 6/6\u001b[A\n",
      "Scoring movies:  83%|███████████████████    | 366/443 [2:45:12<35:47, 27.89s/it]\u001b[A"
     ]
    },
    {
     "name": "stdout",
     "output_type": "stream",
     "text": [
      "✅ Finished scoring: 1987_The.Untouchables.1987.720p.BluRay.DTS.x264-ESiR.ENG\n"
     ]
    },
    {
     "name": "stderr",
     "output_type": "stream",
     "text": [
      "\n",
      "Processing 1991_Sleeping.with.the.Enemy.1991.720p.BluRay.x264-HD4U-eng:   0%| | \u001b[A\n",
      "Processing 1991_Sleeping.with.the.Enemy.1991.720p.BluRay.x264-HD4U-eng:  20%|▏| \u001b[A\n",
      "Processing 1991_Sleeping.with.the.Enemy.1991.720p.BluRay.x264-HD4U-eng:  40%|▍| \u001b[A\n",
      "Processing 1991_Sleeping.with.the.Enemy.1991.720p.BluRay.x264-HD4U-eng:  60%|▌| \u001b[A\n",
      "Processing 1991_Sleeping.with.the.Enemy.1991.720p.BluRay.x264-HD4U-eng:  80%|▊| \u001b[A\n",
      "Processing 1991_Sleeping.with.the.Enemy.1991.720p.BluRay.x264-HD4U-eng: 100%|█| \u001b[A\n",
      "Scoring movies:  83%|███████████████████    | 367/443 [2:45:25<29:47, 23.52s/it]\u001b[A"
     ]
    },
    {
     "name": "stdout",
     "output_type": "stream",
     "text": [
      "✅ Finished scoring: 1991_Sleeping.with.the.Enemy.1991.720p.BluRay.x264-HD4U-eng\n"
     ]
    },
    {
     "name": "stderr",
     "output_type": "stream",
     "text": [
      "\n",
      "Processing 2007_I.Am.Legend[2007]DvDrip[Eng]-aXXo.en:   0%| | 0/4 [00:00<?, ?it/\u001b[A\n",
      "Processing 2007_I.Am.Legend[2007]DvDrip[Eng]-aXXo.en:  25%|▎| 1/4 [00:02<00:07, \u001b[A\n",
      "Processing 2007_I.Am.Legend[2007]DvDrip[Eng]-aXXo.en:  50%|▌| 2/4 [00:05<00:05, \u001b[A\n",
      "Processing 2007_I.Am.Legend[2007]DvDrip[Eng]-aXXo.en:  75%|▊| 3/4 [00:07<00:02, \u001b[A\n",
      "Processing 2007_I.Am.Legend[2007]DvDrip[Eng]-aXXo.en: 100%|█| 4/4 [00:11<00:00, \u001b[A\n",
      "Scoring movies:  83%|███████████████████    | 368/443 [2:45:36<24:48, 19.85s/it]\u001b[A"
     ]
    },
    {
     "name": "stdout",
     "output_type": "stream",
     "text": [
      "✅ Finished scoring: 2007_I.Am.Legend[2007]DvDrip[Eng]-aXXo.en\n"
     ]
    },
    {
     "name": "stderr",
     "output_type": "stream",
     "text": [
      "\n",
      "Processing 1992_The Hand That Rocks the Cradle [1992]:   0%| | 0/6 [00:00<?, ?it\u001b[A\n",
      "Processing 1992_The Hand That Rocks the Cradle [1992]:  17%|▏| 1/6 [00:02<00:12,\u001b[A\n",
      "Processing 1992_The Hand That Rocks the Cradle [1992]:  33%|▎| 2/6 [00:04<00:09,\u001b[A\n",
      "Processing 1992_The Hand That Rocks the Cradle [1992]:  50%|▌| 3/6 [00:07<00:07,\u001b[A\n",
      "Processing 1992_The Hand That Rocks the Cradle [1992]:  67%|▋| 4/6 [00:10<00:05,\u001b[A\n",
      "Processing 1992_The Hand That Rocks the Cradle [1992]:  83%|▊| 5/6 [00:13<00:02,\u001b[A\n",
      "Processing 1992_The Hand That Rocks the Cradle [1992]: 100%|█| 6/6 [00:15<00:00,\u001b[A\n",
      "Scoring movies:  83%|███████████████████▏   | 369/443 [2:45:52<22:53, 18.55s/it]\u001b[A"
     ]
    },
    {
     "name": "stdout",
     "output_type": "stream",
     "text": [
      "✅ Finished scoring: 1992_The Hand That Rocks the Cradle [1992]\n"
     ]
    },
    {
     "name": "stderr",
     "output_type": "stream",
     "text": [
      "\n",
      "Processing 1990_Driving Miss Daisy:   0%|                 | 0/6 [00:00<?, ?it/s]\u001b[A\n",
      "Processing 1990_Driving Miss Daisy:  17%|█▌       | 1/6 [00:02<00:12,  2.48s/it]\u001b[A\n",
      "Processing 1990_Driving Miss Daisy:  33%|███      | 2/6 [00:04<00:09,  2.47s/it]\u001b[A\n",
      "Processing 1990_Driving Miss Daisy:  50%|████▌    | 3/6 [00:07<00:07,  2.51s/it]\u001b[A\n",
      "Processing 1990_Driving Miss Daisy:  67%|██████   | 4/6 [00:10<00:05,  2.63s/it]\u001b[A\n",
      "Processing 1990_Driving Miss Daisy:  83%|███████▌ | 5/6 [00:12<00:02,  2.56s/it]\u001b[A\n",
      "Processing 1990_Driving Miss Daisy: 100%|█████████| 6/6 [00:15<00:00,  2.56s/it]\u001b[A\n",
      "Scoring movies:  84%|███████████████████▏   | 370/443 [2:46:07<21:23, 17.58s/it]\u001b[A"
     ]
    },
    {
     "name": "stdout",
     "output_type": "stream",
     "text": [
      "✅ Finished scoring: 1990_Driving Miss Daisy\n"
     ]
    },
    {
     "name": "stderr",
     "output_type": "stream",
     "text": [
      "\n",
      "Processing 2009_The.Hangover.DVDRip.XviD-DoNE:   0%|      | 0/9 [00:00<?, ?it/s]\u001b[A\n",
      "Processing 2009_The.Hangover.DVDRip.XviD-DoNE:  11%| | 1/9 [00:02<00:23,  2.99s/\u001b[A\n",
      "Processing 2009_The.Hangover.DVDRip.XviD-DoNE:  22%|▏| 2/9 [00:05<00:19,  2.75s/\u001b[A\n",
      "Processing 2009_The.Hangover.DVDRip.XviD-DoNE:  33%|▎| 3/9 [00:08<00:15,  2.62s/\u001b[A\n",
      "Processing 2009_The.Hangover.DVDRip.XviD-DoNE:  44%|▍| 4/9 [00:11<00:14,  2.85s/\u001b[A\n",
      "Processing 2009_The.Hangover.DVDRip.XviD-DoNE:  56%|▌| 5/9 [00:13<00:10,  2.75s/\u001b[A\n",
      "Processing 2009_The.Hangover.DVDRip.XviD-DoNE:  67%|▋| 6/9 [00:16<00:07,  2.66s/\u001b[A\n",
      "Processing 2009_The.Hangover.DVDRip.XviD-DoNE:  78%|▊| 7/9 [00:18<00:05,  2.62s/\u001b[A\n",
      "Processing 2009_The.Hangover.DVDRip.XviD-DoNE:  89%|▉| 8/9 [00:21<00:02,  2.66s/\u001b[A\n",
      "Processing 2009_The.Hangover.DVDRip.XviD-DoNE: 100%|█| 9/9 [00:24<00:00,  2.68s/\u001b[A\n",
      "Scoring movies:  84%|███████████████████▎   | 371/443 [2:46:32<23:31, 19.60s/it]\u001b[A"
     ]
    },
    {
     "name": "stdout",
     "output_type": "stream",
     "text": [
      "✅ Finished scoring: 2009_The.Hangover.DVDRip.XviD-DoNE\n"
     ]
    },
    {
     "name": "stderr",
     "output_type": "stream",
     "text": [
      "\n",
      "Processing 2012_amazingspiderman:   0%|                   | 0/9 [00:00<?, ?it/s]\u001b[A\n",
      "Processing 2012_amazingspiderman:  11%|█▏         | 1/9 [00:02<00:22,  2.77s/it]\u001b[A\n",
      "Processing 2012_amazingspiderman:  22%|██▍        | 2/9 [00:05<00:20,  2.95s/it]\u001b[A\n",
      "Processing 2012_amazingspiderman:  33%|███▋       | 3/9 [00:08<00:16,  2.73s/it]\u001b[A\n",
      "Processing 2012_amazingspiderman:  44%|████▉      | 4/9 [00:11<00:13,  2.73s/it]\u001b[A\n",
      "Processing 2012_amazingspiderman:  56%|██████     | 5/9 [00:13<00:10,  2.68s/it]\u001b[A\n",
      "Processing 2012_amazingspiderman:  67%|███████▎   | 6/9 [00:16<00:08,  2.78s/it]\u001b[A\n",
      "Processing 2012_amazingspiderman:  78%|████████▌  | 7/9 [00:19<00:05,  2.75s/it]\u001b[A\n",
      "Processing 2012_amazingspiderman:  89%|█████████▊ | 8/9 [00:21<00:02,  2.64s/it]\u001b[A\n",
      "Processing 2012_amazingspiderman: 100%|███████████| 9/9 [00:24<00:00,  2.61s/it]\u001b[A\n",
      "Scoring movies:  84%|███████████████████▎   | 372/443 [2:46:56<24:50, 21.00s/it]\u001b[A"
     ]
    },
    {
     "name": "stdout",
     "output_type": "stream",
     "text": [
      "✅ Finished scoring: 2012_amazingspiderman\n"
     ]
    },
    {
     "name": "stderr",
     "output_type": "stream",
     "text": [
      "\n",
      "Processing 2018_Solo.A.Star.Wars.Story.2018.720p.BluRay.x264.DTS-HDC:   0%| | 0/\u001b[A\n",
      "Processing 2018_Solo.A.Star.Wars.Story.2018.720p.BluRay.x264.DTS-HDC:   9%| | 1/\u001b[A\n",
      "Processing 2018_Solo.A.Star.Wars.Story.2018.720p.BluRay.x264.DTS-HDC:  18%|▏| 2/\u001b[A"
     ]
    },
    {
     "name": "stdout",
     "output_type": "stream",
     "text": [
      "⚠️ Rate limit hit. Waiting 60 seconds...\n"
     ]
    },
    {
     "name": "stderr",
     "output_type": "stream",
     "text": [
      "\n",
      "Processing 2018_Solo.A.Star.Wars.Story.2018.720p.BluRay.x264.DTS-HDC:  27%|▎| 3/\u001b[A\n",
      "Processing 2018_Solo.A.Star.Wars.Story.2018.720p.BluRay.x264.DTS-HDC:  36%|▎| 4/\u001b[A\n",
      "Processing 2018_Solo.A.Star.Wars.Story.2018.720p.BluRay.x264.DTS-HDC:  45%|▍| 5/\u001b[A\n",
      "Processing 2018_Solo.A.Star.Wars.Story.2018.720p.BluRay.x264.DTS-HDC:  55%|▌| 6/\u001b[A\n",
      "Processing 2018_Solo.A.Star.Wars.Story.2018.720p.BluRay.x264.DTS-HDC:  64%|▋| 7/\u001b[A\n",
      "Processing 2018_Solo.A.Star.Wars.Story.2018.720p.BluRay.x264.DTS-HDC:  73%|▋| 8/\u001b[A\n",
      "Processing 2018_Solo.A.Star.Wars.Story.2018.720p.BluRay.x264.DTS-HDC:  82%|▊| 9/\u001b[A\n",
      "Processing 2018_Solo.A.Star.Wars.Story.2018.720p.BluRay.x264.DTS-HDC:  91%|▉| 10\u001b[A\n",
      "Processing 2018_Solo.A.Star.Wars.Story.2018.720p.BluRay.x264.DTS-HDC: 100%|█| 11\u001b[A\n",
      "Scoring movies:  84%|███████████████████▎   | 373/443 [2:48:25<48:33, 41.62s/it]\u001b[A"
     ]
    },
    {
     "name": "stdout",
     "output_type": "stream",
     "text": [
      "✅ Finished scoring: 2018_Solo.A.Star.Wars.Story.2018.720p.BluRay.x264.DTS-HDC\n"
     ]
    },
    {
     "name": "stderr",
     "output_type": "stream",
     "text": [
      "\n",
      "Processing 1982_Indiana.Jones.And.The.Raiders.Of.The.Lost.Ark.(1981).DVDrip.Xvid\u001b[A\n",
      "Processing 1982_Indiana.Jones.And.The.Raiders.Of.The.Lost.Ark.(1981).DVDrip.Xvid\u001b[A\n",
      "Processing 1982_Indiana.Jones.And.The.Raiders.Of.The.Lost.Ark.(1981).DVDrip.Xvid\u001b[A\n",
      "Processing 1982_Indiana.Jones.And.The.Raiders.Of.The.Lost.Ark.(1981).DVDrip.Xvid\u001b[A\n",
      "Processing 1982_Indiana.Jones.And.The.Raiders.Of.The.Lost.Ark.(1981).DVDrip.Xvid\u001b[A\n",
      "Processing 1982_Indiana.Jones.And.The.Raiders.Of.The.Lost.Ark.(1981).DVDrip.Xvid\u001b[A\n",
      "Processing 1982_Indiana.Jones.And.The.Raiders.Of.The.Lost.Ark.(1981).DVDrip.Xvid\u001b[A\n",
      "Scoring movies:  84%|███████████████████▍   | 374/443 [2:48:42<39:04, 33.98s/it]\u001b[A"
     ]
    },
    {
     "name": "stdout",
     "output_type": "stream",
     "text": [
      "✅ Finished scoring: 1982_Indiana.Jones.And.The.Raiders.Of.The.Lost.Ark.(1981).DVDrip.Xvid-DEiTY\n"
     ]
    },
    {
     "name": "stderr",
     "output_type": "stream",
     "text": [
      "\n",
      "Processing 2006_The.Da.Vinci.Code.2006.Extended.720p.BluRay.x264-BestHD.eng:   0\u001b[A\n",
      "Processing 2006_The.Da.Vinci.Code.2006.Extended.720p.BluRay.x264-BestHD.eng:   9\u001b[A\n",
      "Processing 2006_The.Da.Vinci.Code.2006.Extended.720p.BluRay.x264-BestHD.eng:  18\u001b[A\n",
      "Processing 2006_The.Da.Vinci.Code.2006.Extended.720p.BluRay.x264-BestHD.eng:  27\u001b[A\n",
      "Processing 2006_The.Da.Vinci.Code.2006.Extended.720p.BluRay.x264-BestHD.eng:  36\u001b[A\n",
      "Processing 2006_The.Da.Vinci.Code.2006.Extended.720p.BluRay.x264-BestHD.eng:  45\u001b[A\n",
      "Processing 2006_The.Da.Vinci.Code.2006.Extended.720p.BluRay.x264-BestHD.eng:  55\u001b[A\n",
      "Processing 2006_The.Da.Vinci.Code.2006.Extended.720p.BluRay.x264-BestHD.eng:  64\u001b[A\n",
      "Processing 2006_The.Da.Vinci.Code.2006.Extended.720p.BluRay.x264-BestHD.eng:  73\u001b[A\n",
      "Processing 2006_The.Da.Vinci.Code.2006.Extended.720p.BluRay.x264-BestHD.eng:  82\u001b[A\n",
      "Processing 2006_The.Da.Vinci.Code.2006.Extended.720p.BluRay.x264-BestHD.eng:  91\u001b[A\n",
      "Processing 2006_The.Da.Vinci.Code.2006.Extended.720p.BluRay.x264-BestHD.eng: 100\u001b[A\n",
      "Scoring movies:  85%|███████████████████▍   | 375/443 [2:49:12<37:22, 32.98s/it]\u001b[A"
     ]
    },
    {
     "name": "stdout",
     "output_type": "stream",
     "text": [
      "✅ Finished scoring: 2006_The.Da.Vinci.Code.2006.Extended.720p.BluRay.x264-BestHD.eng\n"
     ]
    },
    {
     "name": "stderr",
     "output_type": "stream",
     "text": [
      "\n",
      "Processing 2010_dmd-ts3:   0%|                            | 0/7 [00:00<?, ?it/s]\u001b[A\n",
      "Processing 2010_dmd-ts3:  14%|██▊                 | 1/7 [00:02<00:17,  2.95s/it]\u001b[A\n",
      "Processing 2010_dmd-ts3:  29%|█████▋              | 2/7 [00:05<00:13,  2.69s/it]\u001b[A\n",
      "Processing 2010_dmd-ts3:  43%|████████▌           | 3/7 [00:07<00:10,  2.59s/it]\u001b[A\n",
      "Processing 2010_dmd-ts3:  57%|███████████▍        | 4/7 [00:10<00:07,  2.53s/it]\u001b[A\n",
      "Processing 2010_dmd-ts3:  71%|██████████████▎     | 5/7 [00:13<00:05,  2.60s/it]\u001b[A\n",
      "Processing 2010_dmd-ts3:  86%|█████████████████▏  | 6/7 [00:15<00:02,  2.68s/it]\u001b[A\n",
      "Processing 2010_dmd-ts3: 100%|████████████████████| 7/7 [00:18<00:00,  2.61s/it]\u001b[A\n",
      "Scoring movies:  85%|███████████████████▌   | 376/443 [2:49:31<31:57, 28.61s/it]\u001b[A"
     ]
    },
    {
     "name": "stdout",
     "output_type": "stream",
     "text": [
      "✅ Finished scoring: 2010_dmd-ts3\n"
     ]
    },
    {
     "name": "stderr",
     "output_type": "stream",
     "text": [
      "\n",
      "Processing 2019_Joker.2019.720p.HC.HDRip.XviD.AC3-EVO:   0%| | 0/7 [00:00<?, ?it\u001b[A\n",
      "Processing 2019_Joker.2019.720p.HC.HDRip.XviD.AC3-EVO:  14%|▏| 1/7 [00:02<00:16,\u001b[A\n",
      "Processing 2019_Joker.2019.720p.HC.HDRip.XviD.AC3-EVO:  29%|▎| 2/7 [00:05<00:14,\u001b[A\n",
      "Processing 2019_Joker.2019.720p.HC.HDRip.XviD.AC3-EVO:  43%|▍| 3/7 [00:08<00:11,\u001b[A\n",
      "Processing 2019_Joker.2019.720p.HC.HDRip.XviD.AC3-EVO:  57%|▌| 4/7 [00:11<00:08,\u001b[A\n",
      "Processing 2019_Joker.2019.720p.HC.HDRip.XviD.AC3-EVO:  71%|▋| 5/7 [00:13<00:05,\u001b[A\n",
      "Processing 2019_Joker.2019.720p.HC.HDRip.XviD.AC3-EVO:  86%|▊| 6/7 [00:16<00:02,\u001b[A\n",
      "Processing 2019_Joker.2019.720p.HC.HDRip.XviD.AC3-EVO: 100%|█| 7/7 [00:18<00:00,\u001b[A\n",
      "Scoring movies:  85%|███████████████████▌   | 377/443 [2:49:50<28:13, 25.66s/it]\u001b[A"
     ]
    },
    {
     "name": "stdout",
     "output_type": "stream",
     "text": [
      "✅ Finished scoring: 2019_Joker.2019.720p.HC.HDRip.XviD.AC3-EVO\n"
     ]
    },
    {
     "name": "stderr",
     "output_type": "stream",
     "text": [
      "\n",
      "Processing 1993_Mrs.Doubtfire.1993.720p.BluRay.x264-SiNNERS:   0%| | 0/9 [00:00<\u001b[A\n",
      "Processing 1993_Mrs.Doubtfire.1993.720p.BluRay.x264-SiNNERS:  11%| | 1/9 [00:02<\u001b[A\n",
      "Processing 1993_Mrs.Doubtfire.1993.720p.BluRay.x264-SiNNERS:  22%|▏| 2/9 [00:05<\u001b[A\n",
      "Processing 1993_Mrs.Doubtfire.1993.720p.BluRay.x264-SiNNERS:  33%|▎| 3/9 [00:07<\u001b[A\n",
      "Processing 1993_Mrs.Doubtfire.1993.720p.BluRay.x264-SiNNERS:  44%|▍| 4/9 [00:10<\u001b[A\n",
      "Processing 1993_Mrs.Doubtfire.1993.720p.BluRay.x264-SiNNERS:  56%|▌| 5/9 [00:13<\u001b[A\n",
      "Processing 1993_Mrs.Doubtfire.1993.720p.BluRay.x264-SiNNERS:  67%|▋| 6/9 [00:15<\u001b[A"
     ]
    },
    {
     "name": "stdout",
     "output_type": "stream",
     "text": [
      "⚠️ Rate limit hit. Waiting 60 seconds...\n"
     ]
    },
    {
     "name": "stderr",
     "output_type": "stream",
     "text": [
      "\n",
      "Processing 1993_Mrs.Doubtfire.1993.720p.BluRay.x264-SiNNERS:  78%|▊| 7/9 [01:19<\u001b[A\n",
      "Processing 1993_Mrs.Doubtfire.1993.720p.BluRay.x264-SiNNERS:  89%|▉| 8/9 [01:21<\u001b[A\n",
      "Processing 1993_Mrs.Doubtfire.1993.720p.BluRay.x264-SiNNERS: 100%|█| 9/9 [01:24<\u001b[A\n",
      "Scoring movies:  85%|███████████████████▋   | 378/443 [2:51:14<46:59, 43.38s/it]\u001b[A"
     ]
    },
    {
     "name": "stdout",
     "output_type": "stream",
     "text": [
      "✅ Finished scoring: 1993_Mrs.Doubtfire.1993.720p.BluRay.x264-SiNNERS\n"
     ]
    },
    {
     "name": "stderr",
     "output_type": "stream",
     "text": [
      "\n",
      "Processing 1988_Beetle.Juice.1988.720p.BluRay.x264-REVEiLLE.ENG:   0%| | 0/6 [00\u001b[A\n",
      "Processing 1988_Beetle.Juice.1988.720p.BluRay.x264-REVEiLLE.ENG:  17%|▏| 1/6 [00\u001b[A\n",
      "Processing 1988_Beetle.Juice.1988.720p.BluRay.x264-REVEiLLE.ENG:  33%|▎| 2/6 [00\u001b[A\n",
      "Processing 1988_Beetle.Juice.1988.720p.BluRay.x264-REVEiLLE.ENG:  50%|▌| 3/6 [00\u001b[A\n",
      "Processing 1988_Beetle.Juice.1988.720p.BluRay.x264-REVEiLLE.ENG:  67%|▋| 4/6 [00\u001b[A\n",
      "Processing 1988_Beetle.Juice.1988.720p.BluRay.x264-REVEiLLE.ENG:  83%|▊| 5/6 [00\u001b[A\n",
      "Processing 1988_Beetle.Juice.1988.720p.BluRay.x264-REVEiLLE.ENG: 100%|█| 6/6 [00\u001b[A\n",
      "Scoring movies:  86%|███████████████████▋   | 379/443 [2:51:30<37:19, 35.00s/it]\u001b[A"
     ]
    },
    {
     "name": "stdout",
     "output_type": "stream",
     "text": [
      "✅ Finished scoring: 1988_Beetle.Juice.1988.720p.BluRay.x264-REVEiLLE.ENG\n"
     ]
    },
    {
     "name": "stderr",
     "output_type": "stream",
     "text": [
      "\n",
      "Processing 1981_Superman.II.The.Richard.Donner.Cut.1980.720p.BluRay.x264.DTS-WiK\u001b[A\n",
      "Processing 1981_Superman.II.The.Richard.Donner.Cut.1980.720p.BluRay.x264.DTS-WiK\u001b[A\n",
      "Processing 1981_Superman.II.The.Richard.Donner.Cut.1980.720p.BluRay.x264.DTS-WiK\u001b[A\n",
      "Processing 1981_Superman.II.The.Richard.Donner.Cut.1980.720p.BluRay.x264.DTS-WiK\u001b[A\n",
      "Processing 1981_Superman.II.The.Richard.Donner.Cut.1980.720p.BluRay.x264.DTS-WiK\u001b[A\n",
      "Processing 1981_Superman.II.The.Richard.Donner.Cut.1980.720p.BluRay.x264.DTS-WiK\u001b[A\n",
      "Processing 1981_Superman.II.The.Richard.Donner.Cut.1980.720p.BluRay.x264.DTS-WiK\u001b[A\n",
      "Processing 1981_Superman.II.The.Richard.Donner.Cut.1980.720p.BluRay.x264.DTS-WiK\u001b[A\n",
      "Scoring movies:  86%|███████████████████▋   | 380/443 [2:51:49<31:51, 30.34s/it]\u001b[A"
     ]
    },
    {
     "name": "stdout",
     "output_type": "stream",
     "text": [
      "✅ Finished scoring: 1981_Superman.II.The.Richard.Donner.Cut.1980.720p.BluRay.x264.DTS-WiKi.eng\n"
     ]
    },
    {
     "name": "stderr",
     "output_type": "stream",
     "text": [
      "\n",
      "Processing 2007_[HDTeam]El Ultimatum De Bourne[1080p-Bluray][Dual+Subs][By Devil\u001b[A\n",
      "Processing 2007_[HDTeam]El Ultimatum De Bourne[1080p-Bluray][Dual+Subs][By Devil\u001b[A\n",
      "Processing 2007_[HDTeam]El Ultimatum De Bourne[1080p-Bluray][Dual+Subs][By Devil\u001b[A\n",
      "Processing 2007_[HDTeam]El Ultimatum De Bourne[1080p-Bluray][Dual+Subs][By Devil\u001b[A\n",
      "Processing 2007_[HDTeam]El Ultimatum De Bourne[1080p-Bluray][Dual+Subs][By Devil\u001b[A\n",
      "Processing 2007_[HDTeam]El Ultimatum De Bourne[1080p-Bluray][Dual+Subs][By Devil\u001b[A\n",
      "Processing 2007_[HDTeam]El Ultimatum De Bourne[1080p-Bluray][Dual+Subs][By Devil\u001b[A\n",
      "Scoring movies:  86%|███████████████████▊   | 381/443 [2:52:04<26:41, 25.84s/it]\u001b[A"
     ]
    },
    {
     "name": "stdout",
     "output_type": "stream",
     "text": [
      "✅ Finished scoring: 2007_[HDTeam]El Ultimatum De Bourne[1080p-Bluray][Dual+Subs][By Devilmort].ENG\n"
     ]
    },
    {
     "name": "stderr",
     "output_type": "stream",
     "text": [
      "\n",
      "Processing 1987_Stakeout (ENG):   0%|                     | 0/7 [00:00<?, ?it/s]\u001b[A\n",
      "Processing 1987_Stakeout (ENG):  14%|█▊           | 1/7 [00:02<00:14,  2.46s/it]\u001b[A\n",
      "Processing 1987_Stakeout (ENG):  29%|███▋         | 2/7 [00:04<00:12,  2.44s/it]\u001b[A\n",
      "Processing 1987_Stakeout (ENG):  43%|█████▌       | 3/7 [00:07<00:09,  2.43s/it]\u001b[A\n",
      "Processing 1987_Stakeout (ENG):  57%|███████▍     | 4/7 [00:09<00:07,  2.46s/it]\u001b[A\n",
      "Processing 1987_Stakeout (ENG):  71%|█████████▎   | 5/7 [00:12<00:04,  2.46s/it]\u001b[A\n",
      "Processing 1987_Stakeout (ENG):  86%|███████████▏ | 6/7 [00:14<00:02,  2.45s/it]\u001b[A\n",
      "Processing 1987_Stakeout (ENG): 100%|█████████████| 7/7 [00:17<00:00,  2.42s/it]\u001b[A\n",
      "Scoring movies:  86%|███████████████████▊   | 382/443 [2:52:22<23:35, 23.20s/it]\u001b[A"
     ]
    },
    {
     "name": "stdout",
     "output_type": "stream",
     "text": [
      "✅ Finished scoring: 1987_Stakeout (ENG)\n"
     ]
    },
    {
     "name": "stderr",
     "output_type": "stream",
     "text": [
      "\n",
      "Processing 1984_Star Trek 03 Search For Spock 1984 1280x544.eng:   0%| | 0/7 [00\u001b[A\n",
      "Processing 1984_Star Trek 03 Search For Spock 1984 1280x544.eng:  14%|▏| 1/7 [00\u001b[A\n",
      "Processing 1984_Star Trek 03 Search For Spock 1984 1280x544.eng:  29%|▎| 2/7 [00\u001b[A\n",
      "Processing 1984_Star Trek 03 Search For Spock 1984 1280x544.eng:  43%|▍| 3/7 [00\u001b[A\n",
      "Processing 1984_Star Trek 03 Search For Spock 1984 1280x544.eng:  57%|▌| 4/7 [00\u001b[A\n",
      "Processing 1984_Star Trek 03 Search For Spock 1984 1280x544.eng:  71%|▋| 5/7 [00\u001b[A\n",
      "Processing 1984_Star Trek 03 Search For Spock 1984 1280x544.eng:  86%|▊| 6/7 [00\u001b[A\n",
      "Processing 1984_Star Trek 03 Search For Spock 1984 1280x544.eng: 100%|█| 7/7 [00\u001b[A\n",
      "Scoring movies:  86%|███████████████████▉   | 383/443 [2:52:40<21:53, 21.89s/it]\u001b[A"
     ]
    },
    {
     "name": "stdout",
     "output_type": "stream",
     "text": [
      "✅ Finished scoring: 1984_Star Trek 03 Search For Spock 1984 1280x544.eng\n"
     ]
    },
    {
     "name": "stderr",
     "output_type": "stream",
     "text": [
      "\n",
      "Processing 1989_Dead Poets Society 1989 ENG 25fps SDH utf-8:   0%| | 0/10 [00:00\u001b[A\n",
      "Processing 1989_Dead Poets Society 1989 ENG 25fps SDH utf-8:  10%| | 1/10 [00:02\u001b[A\n",
      "Processing 1989_Dead Poets Society 1989 ENG 25fps SDH utf-8:  20%|▏| 2/10 [00:05\u001b[A\n",
      "Processing 1989_Dead Poets Society 1989 ENG 25fps SDH utf-8:  30%|▎| 3/10 [00:08\u001b[A\n",
      "Processing 1989_Dead Poets Society 1989 ENG 25fps SDH utf-8:  40%|▍| 4/10 [00:11\u001b[A\n",
      "Processing 1989_Dead Poets Society 1989 ENG 25fps SDH utf-8:  50%|▌| 5/10 [00:13\u001b[A\n",
      "Processing 1989_Dead Poets Society 1989 ENG 25fps SDH utf-8:  60%|▌| 6/10 [00:16\u001b[A\n",
      "Processing 1989_Dead Poets Society 1989 ENG 25fps SDH utf-8:  70%|▋| 7/10 [00:18\u001b[A\n",
      "Processing 1989_Dead Poets Society 1989 ENG 25fps SDH utf-8:  80%|▊| 8/10 [00:21\u001b[A\n",
      "Processing 1989_Dead Poets Society 1989 ENG 25fps SDH utf-8:  90%|▉| 9/10 [00:24\u001b[A\n",
      "Processing 1989_Dead Poets Society 1989 ENG 25fps SDH utf-8: 100%|█| 10/10 [00:2\u001b[A\n",
      "Scoring movies:  87%|███████████████████▉   | 384/443 [2:53:07<23:03, 23.45s/it]\u001b[A"
     ]
    },
    {
     "name": "stdout",
     "output_type": "stream",
     "text": [
      "✅ Finished scoring: 1989_Dead Poets Society 1989 ENG 25fps SDH utf-8\n"
     ]
    },
    {
     "name": "stderr",
     "output_type": "stream",
     "text": [
      "\n",
      "Processing 2010_nedivx-shrek4.en:   0%|                   | 0/6 [00:00<?, ?it/s]\u001b[A\n",
      "Processing 2010_nedivx-shrek4.en:  17%|█▊         | 1/6 [00:02<00:13,  2.64s/it]\u001b[A\n",
      "Processing 2010_nedivx-shrek4.en:  33%|███▋       | 2/6 [00:05<00:10,  2.57s/it]\u001b[A\n",
      "Processing 2010_nedivx-shrek4.en:  50%|█████▌     | 3/6 [00:07<00:07,  2.52s/it]\u001b[A\n",
      "Processing 2010_nedivx-shrek4.en:  67%|███████▎   | 4/6 [00:10<00:05,  2.62s/it]\u001b[A"
     ]
    },
    {
     "name": "stdout",
     "output_type": "stream",
     "text": [
      "⚠️ Rate limit hit. Waiting 60 seconds...\n"
     ]
    },
    {
     "name": "stderr",
     "output_type": "stream",
     "text": [
      "\n",
      "Processing 2010_nedivx-shrek4.en:  83%|█████████▏ | 5/6 [01:13<00:24, 24.30s/it]\u001b[A\n",
      "Processing 2010_nedivx-shrek4.en: 100%|███████████| 6/6 [01:15<00:00, 16.96s/it]\u001b[A\n",
      "Scoring movies:  87%|███████████████████▉   | 385/443 [2:54:23<37:51, 39.17s/it]\u001b[A"
     ]
    },
    {
     "name": "stdout",
     "output_type": "stream",
     "text": [
      "✅ Finished scoring: 2010_nedivx-shrek4.en\n"
     ]
    },
    {
     "name": "stderr",
     "output_type": "stream",
     "text": [
      "\n",
      "Processing 2008_devise-twilight.en:   0%|                 | 0/9 [00:00<?, ?it/s]\u001b[A\n",
      "Processing 2008_devise-twilight.en:  11%|█        | 1/9 [00:02<00:22,  2.85s/it]\u001b[A\n",
      "Processing 2008_devise-twilight.en:  22%|██       | 2/9 [00:05<00:20,  2.95s/it]\u001b[A\n",
      "Processing 2008_devise-twilight.en:  33%|███      | 3/9 [00:08<00:16,  2.77s/it]\u001b[A\n",
      "Processing 2008_devise-twilight.en:  44%|████     | 4/9 [00:11<00:13,  2.73s/it]\u001b[A\n",
      "Processing 2008_devise-twilight.en:  56%|█████    | 5/9 [00:13<00:10,  2.62s/it]\u001b[A\n",
      "Processing 2008_devise-twilight.en:  67%|██████   | 6/9 [00:16<00:07,  2.58s/it]\u001b[A\n",
      "Processing 2008_devise-twilight.en:  78%|███████  | 7/9 [00:18<00:05,  2.58s/it]\u001b[A\n",
      "Processing 2008_devise-twilight.en:  89%|████████ | 8/9 [00:21<00:02,  2.58s/it]\u001b[A\n",
      "Processing 2008_devise-twilight.en: 100%|█████████| 9/9 [00:23<00:00,  2.65s/it]\u001b[A\n",
      "Scoring movies:  87%|████████████████████   | 386/443 [2:54:47<32:53, 34.62s/it]\u001b[A"
     ]
    },
    {
     "name": "stdout",
     "output_type": "stream",
     "text": [
      "✅ Finished scoring: 2008_devise-twilight.en\n"
     ]
    },
    {
     "name": "stderr",
     "output_type": "stream",
     "text": [
      "\n",
      "Processing 2008_Indiana.Jones.And.The.Kingdom.Of.The.Crystal.Skull[2008]DvDrip-a\u001b[A\n",
      "Processing 2008_Indiana.Jones.And.The.Kingdom.Of.The.Crystal.Skull[2008]DvDrip-a\u001b[A\n",
      "Processing 2008_Indiana.Jones.And.The.Kingdom.Of.The.Crystal.Skull[2008]DvDrip-a\u001b[A\n",
      "Processing 2008_Indiana.Jones.And.The.Kingdom.Of.The.Crystal.Skull[2008]DvDrip-a\u001b[A\n",
      "Processing 2008_Indiana.Jones.And.The.Kingdom.Of.The.Crystal.Skull[2008]DvDrip-a\u001b[A\n",
      "Processing 2008_Indiana.Jones.And.The.Kingdom.Of.The.Crystal.Skull[2008]DvDrip-a\u001b[A\n",
      "Processing 2008_Indiana.Jones.And.The.Kingdom.Of.The.Crystal.Skull[2008]DvDrip-a\u001b[A\n",
      "Scoring movies:  87%|████████████████████   | 387/443 [2:55:03<27:05, 29.02s/it]\u001b[A"
     ]
    },
    {
     "name": "stdout",
     "output_type": "stream",
     "text": [
      "✅ Finished scoring: 2008_Indiana.Jones.And.The.Kingdom.Of.The.Crystal.Skull[2008]DvDrip-aXXo.en\n"
     ]
    },
    {
     "name": "stderr",
     "output_type": "stream",
     "text": [
      "\n",
      "Processing 1994_True.Lies.1994.720p.DTheater.DD5.1.x264-EbP:   0%| | 0/10 [00:00\u001b[A\n",
      "Processing 1994_True.Lies.1994.720p.DTheater.DD5.1.x264-EbP:  10%| | 1/10 [00:03\u001b[A\n",
      "Processing 1994_True.Lies.1994.720p.DTheater.DD5.1.x264-EbP:  20%|▏| 2/10 [00:06\u001b[A\n",
      "Processing 1994_True.Lies.1994.720p.DTheater.DD5.1.x264-EbP:  30%|▎| 3/10 [00:09\u001b[A\n",
      "Processing 1994_True.Lies.1994.720p.DTheater.DD5.1.x264-EbP:  40%|▍| 4/10 [00:11\u001b[A\n",
      "Processing 1994_True.Lies.1994.720p.DTheater.DD5.1.x264-EbP:  50%|▌| 5/10 [00:14\u001b[A\n",
      "Processing 1994_True.Lies.1994.720p.DTheater.DD5.1.x264-EbP:  60%|▌| 6/10 [00:16\u001b[A\n",
      "Processing 1994_True.Lies.1994.720p.DTheater.DD5.1.x264-EbP:  70%|▋| 7/10 [00:20\u001b[A\n",
      "Processing 1994_True.Lies.1994.720p.DTheater.DD5.1.x264-EbP:  80%|▊| 8/10 [00:22\u001b[A\n",
      "Processing 1994_True.Lies.1994.720p.DTheater.DD5.1.x264-EbP:  90%|▉| 9/10 [00:25\u001b[A\n",
      "Processing 1994_True.Lies.1994.720p.DTheater.DD5.1.x264-EbP: 100%|█| 10/10 [00:2\u001b[A\n",
      "Scoring movies:  88%|████████████████████▏  | 388/443 [2:55:31<26:21, 28.76s/it]\u001b[A"
     ]
    },
    {
     "name": "stdout",
     "output_type": "stream",
     "text": [
      "✅ Finished scoring: 1994_True.Lies.1994.720p.DTheater.DD5.1.x264-EbP\n"
     ]
    },
    {
     "name": "stderr",
     "output_type": "stream",
     "text": [
      "\n",
      "Processing 2000_How.the.Grinch.Stole.Christmas.2000.REMASTERED.720p.BluRay.X264-\u001b[A\n",
      "Processing 2000_How.the.Grinch.Stole.Christmas.2000.REMASTERED.720p.BluRay.X264-\u001b[A\n",
      "Processing 2000_How.the.Grinch.Stole.Christmas.2000.REMASTERED.720p.BluRay.X264-\u001b[A\n",
      "Processing 2000_How.the.Grinch.Stole.Christmas.2000.REMASTERED.720p.BluRay.X264-\u001b[A\n",
      "Processing 2000_How.the.Grinch.Stole.Christmas.2000.REMASTERED.720p.BluRay.X264-\u001b[A\n",
      "Processing 2000_How.the.Grinch.Stole.Christmas.2000.REMASTERED.720p.BluRay.X264-\u001b[A\n",
      "Processing 2000_How.the.Grinch.Stole.Christmas.2000.REMASTERED.720p.BluRay.X264-\u001b[A\n",
      "Processing 2000_How.the.Grinch.Stole.Christmas.2000.REMASTERED.720p.BluRay.X264-\u001b[A\n",
      "Scoring movies:  88%|████████████████████▏  | 389/443 [2:55:49<22:59, 25.54s/it]\u001b[A"
     ]
    },
    {
     "name": "stdout",
     "output_type": "stream",
     "text": [
      "✅ Finished scoring: 2000_How.the.Grinch.Stole.Christmas.2000.REMASTERED.720p.BluRay.X264-AMIABLE\n"
     ]
    },
    {
     "name": "stderr",
     "output_type": "stream",
     "text": [
      "\n",
      "Processing 1984_Indiana Jones and the Temple of Doom 1984 1080p Blu-ray AVC DTS-\u001b[A\n",
      "Processing 1984_Indiana Jones and the Temple of Doom 1984 1080p Blu-ray AVC DTS-\u001b[A\n",
      "Processing 1984_Indiana Jones and the Temple of Doom 1984 1080p Blu-ray AVC DTS-\u001b[A\n",
      "Processing 1984_Indiana Jones and the Temple of Doom 1984 1080p Blu-ray AVC DTS-\u001b[A\n",
      "Processing 1984_Indiana Jones and the Temple of Doom 1984 1080p Blu-ray AVC DTS-\u001b[A\n",
      "Processing 1984_Indiana Jones and the Temple of Doom 1984 1080p Blu-ray AVC DTS-\u001b[A\n",
      "Scoring movies:  88%|████████████████████▏  | 390/443 [2:56:03<19:17, 21.83s/it]\u001b[A"
     ]
    },
    {
     "name": "stdout",
     "output_type": "stream",
     "text": [
      "✅ Finished scoring: 1984_Indiana Jones and the Temple of Doom 1984 1080p Blu-ray AVC DTS-HD\n"
     ]
    },
    {
     "name": "stderr",
     "output_type": "stream",
     "text": [
      "\n",
      "Processing 1993_The.Fugitive.1993.Blu-ray.Re.x264.1080p.DTS-HDS.ENG:   0%| | 0/7\u001b[A\n",
      "Processing 1993_The.Fugitive.1993.Blu-ray.Re.x264.1080p.DTS-HDS.ENG:  14%|▏| 1/7\u001b[A\n",
      "Processing 1993_The.Fugitive.1993.Blu-ray.Re.x264.1080p.DTS-HDS.ENG:  29%|▎| 2/7\u001b[A\n",
      "Processing 1993_The.Fugitive.1993.Blu-ray.Re.x264.1080p.DTS-HDS.ENG:  43%|▍| 3/7\u001b[A\n",
      "Processing 1993_The.Fugitive.1993.Blu-ray.Re.x264.1080p.DTS-HDS.ENG:  57%|▌| 4/7\u001b[A\n",
      "Processing 1993_The.Fugitive.1993.Blu-ray.Re.x264.1080p.DTS-HDS.ENG:  71%|▋| 5/7\u001b[A\n",
      "Processing 1993_The.Fugitive.1993.Blu-ray.Re.x264.1080p.DTS-HDS.ENG:  86%|▊| 6/7\u001b[A\n",
      "Processing 1993_The.Fugitive.1993.Blu-ray.Re.x264.1080p.DTS-HDS.ENG: 100%|█| 7/7\u001b[A\n",
      "Scoring movies:  88%|████████████████████▎  | 391/443 [2:56:22<18:13, 21.02s/it]\u001b[A"
     ]
    },
    {
     "name": "stdout",
     "output_type": "stream",
     "text": [
      "✅ Finished scoring: 1993_The.Fugitive.1993.Blu-ray.Re.x264.1080p.DTS-HDS.ENG\n"
     ]
    },
    {
     "name": "stderr",
     "output_type": "stream",
     "text": [
      "\n",
      "Processing 2003_The.Matrix.Reloaded.2003.720p.HDDVD.DTS.x264-ESiR.ENG:   0%| | 0\u001b[A\n",
      "Processing 2003_The.Matrix.Reloaded.2003.720p.HDDVD.DTS.x264-ESiR.ENG:  14%|▏| 1\u001b[A\n",
      "Processing 2003_The.Matrix.Reloaded.2003.720p.HDDVD.DTS.x264-ESiR.ENG:  29%|▎| 2\u001b[A\n",
      "Processing 2003_The.Matrix.Reloaded.2003.720p.HDDVD.DTS.x264-ESiR.ENG:  43%|▍| 3\u001b[A\n",
      "Processing 2003_The.Matrix.Reloaded.2003.720p.HDDVD.DTS.x264-ESiR.ENG:  57%|▌| 4\u001b[A\n",
      "Processing 2003_The.Matrix.Reloaded.2003.720p.HDDVD.DTS.x264-ESiR.ENG:  71%|▋| 5\u001b[A\n",
      "Processing 2003_The.Matrix.Reloaded.2003.720p.HDDVD.DTS.x264-ESiR.ENG:  86%|▊| 6\u001b[A\n",
      "Processing 2003_The.Matrix.Reloaded.2003.720p.HDDVD.DTS.x264-ESiR.ENG: 100%|█| 7\u001b[A\n",
      "Scoring movies:  88%|████████████████████▎  | 392/443 [2:56:41<17:30, 20.59s/it]\u001b[A"
     ]
    },
    {
     "name": "stdout",
     "output_type": "stream",
     "text": [
      "✅ Finished scoring: 2003_The.Matrix.Reloaded.2003.720p.HDDVD.DTS.x264-ESiR.ENG\n"
     ]
    },
    {
     "name": "stderr",
     "output_type": "stream",
     "text": [
      "\n",
      "Processing 1983_Trading.Places.1983.BluRay.1080p.DTS.x264.dxva-FTW-HD.ENG:   0%|\u001b[A\n",
      "Processing 1983_Trading.Places.1983.BluRay.1080p.DTS.x264.dxva-FTW-HD.ENG:  14%|\u001b[A\n",
      "Processing 1983_Trading.Places.1983.BluRay.1080p.DTS.x264.dxva-FTW-HD.ENG:  29%|\u001b[A\n",
      "Processing 1983_Trading.Places.1983.BluRay.1080p.DTS.x264.dxva-FTW-HD.ENG:  43%|\u001b[A\n",
      "Processing 1983_Trading.Places.1983.BluRay.1080p.DTS.x264.dxva-FTW-HD.ENG:  57%|\u001b[A\n",
      "Processing 1983_Trading.Places.1983.BluRay.1080p.DTS.x264.dxva-FTW-HD.ENG:  71%|\u001b[A\n",
      "Processing 1983_Trading.Places.1983.BluRay.1080p.DTS.x264.dxva-FTW-HD.ENG:  86%|\u001b[A\n",
      "Processing 1983_Trading.Places.1983.BluRay.1080p.DTS.x264.dxva-FTW-HD.ENG: 100%|\u001b[A\n",
      "Scoring movies:  89%|████████████████████▍  | 393/443 [2:57:00<16:41, 20.04s/it]\u001b[A"
     ]
    },
    {
     "name": "stdout",
     "output_type": "stream",
     "text": [
      "✅ Finished scoring: 1983_Trading.Places.1983.BluRay.1080p.DTS.x264.dxva-FTW-HD.ENG\n"
     ]
    },
    {
     "name": "stderr",
     "output_type": "stream",
     "text": [
      "\n",
      "Processing 2021_Eternals.2021.1080p.WEB-DL.DDP5.1.H.264-EVO.v2:   0%| | 0/9 [00:\u001b[A\n",
      "Processing 2021_Eternals.2021.1080p.WEB-DL.DDP5.1.H.264-EVO.v2:  11%| | 1/9 [00:\u001b[A\n",
      "Processing 2021_Eternals.2021.1080p.WEB-DL.DDP5.1.H.264-EVO.v2:  22%|▏| 2/9 [00:\u001b[A\n",
      "Processing 2021_Eternals.2021.1080p.WEB-DL.DDP5.1.H.264-EVO.v2:  33%|▎| 3/9 [00:\u001b[A\n",
      "Processing 2021_Eternals.2021.1080p.WEB-DL.DDP5.1.H.264-EVO.v2:  44%|▍| 4/9 [00:\u001b[A\n",
      "Processing 2021_Eternals.2021.1080p.WEB-DL.DDP5.1.H.264-EVO.v2:  56%|▌| 5/9 [00:\u001b[A\n",
      "Processing 2021_Eternals.2021.1080p.WEB-DL.DDP5.1.H.264-EVO.v2:  67%|▋| 6/9 [00:\u001b[A\n",
      "Processing 2021_Eternals.2021.1080p.WEB-DL.DDP5.1.H.264-EVO.v2:  78%|▊| 7/9 [00:\u001b[A\n",
      "Processing 2021_Eternals.2021.1080p.WEB-DL.DDP5.1.H.264-EVO.v2:  89%|▉| 8/9 [00:\u001b[A\n",
      "Processing 2021_Eternals.2021.1080p.WEB-DL.DDP5.1.H.264-EVO.v2: 100%|█| 9/9 [00:\u001b[A\n",
      "Scoring movies:  89%|████████████████████▍  | 394/443 [2:57:23<17:09, 21.02s/it]\u001b[A"
     ]
    },
    {
     "name": "stdout",
     "output_type": "stream",
     "text": [
      "✅ Finished scoring: 2021_Eternals.2021.1080p.WEB-DL.DDP5.1.H.264-EVO.v2\n"
     ]
    },
    {
     "name": "stderr",
     "output_type": "stream",
     "text": [
      "\n",
      "Processing 2020_Dolittle.2020.HDRip.800MB.x264-GalaxyRG:   0%| | 0/9 [00:00<?, ?\u001b[A\n",
      "Processing 2020_Dolittle.2020.HDRip.800MB.x264-GalaxyRG:  11%| | 1/9 [00:02<00:1\u001b[A\n",
      "Processing 2020_Dolittle.2020.HDRip.800MB.x264-GalaxyRG:  22%|▏| 2/9 [00:04<00:1\u001b[A"
     ]
    },
    {
     "name": "stdout",
     "output_type": "stream",
     "text": [
      "⚠️ Rate limit hit. Waiting 60 seconds...\n"
     ]
    },
    {
     "name": "stderr",
     "output_type": "stream",
     "text": [
      "\n",
      "Processing 2020_Dolittle.2020.HDRip.800MB.x264-GalaxyRG:  33%|▎| 3/9 [01:07<03:0\u001b[A\n",
      "Processing 2020_Dolittle.2020.HDRip.800MB.x264-GalaxyRG:  44%|▍| 4/9 [01:10<01:3\u001b[A\n",
      "Processing 2020_Dolittle.2020.HDRip.800MB.x264-GalaxyRG:  56%|▌| 5/9 [01:13<00:5\u001b[A\n",
      "Processing 2020_Dolittle.2020.HDRip.800MB.x264-GalaxyRG:  67%|▋| 6/9 [01:15<00:2\u001b[A\n",
      "Processing 2020_Dolittle.2020.HDRip.800MB.x264-GalaxyRG:  78%|▊| 7/9 [01:18<00:1\u001b[A\n",
      "Processing 2020_Dolittle.2020.HDRip.800MB.x264-GalaxyRG:  89%|▉| 8/9 [01:21<00:0\u001b[A\n",
      "Processing 2020_Dolittle.2020.HDRip.800MB.x264-GalaxyRG: 100%|█| 9/9 [01:23<00:0\u001b[A\n",
      "Scoring movies:  89%|████████████████████▌  | 395/443 [2:58:47<31:48, 39.76s/it]\u001b[A"
     ]
    },
    {
     "name": "stdout",
     "output_type": "stream",
     "text": [
      "✅ Finished scoring: 2020_Dolittle.2020.HDRip.800MB.x264-GalaxyRG\n"
     ]
    },
    {
     "name": "stderr",
     "output_type": "stream",
     "text": [
      "\n",
      "Processing 2001_Shrek:   0%|                              | 0/6 [00:00<?, ?it/s]\u001b[A\n",
      "Processing 2001_Shrek:  17%|███▋                  | 1/6 [00:03<00:16,  3.21s/it]\u001b[A\n",
      "Processing 2001_Shrek:  33%|███████▎              | 2/6 [00:05<00:11,  2.75s/it]\u001b[A\n",
      "Processing 2001_Shrek:  50%|███████████           | 3/6 [00:08<00:07,  2.61s/it]\u001b[A\n",
      "Processing 2001_Shrek:  67%|██████████████▋       | 4/6 [00:11<00:05,  2.87s/it]\u001b[A\n",
      "Processing 2001_Shrek:  83%|██████████████████▎   | 5/6 [00:14<00:02,  2.90s/it]\u001b[A\n",
      "Processing 2001_Shrek: 100%|██████████████████████| 6/6 [00:16<00:00,  2.75s/it]\u001b[A\n",
      "Scoring movies:  89%|████████████████████▌  | 396/443 [2:59:04<25:44, 32.87s/it]\u001b[A"
     ]
    },
    {
     "name": "stdout",
     "output_type": "stream",
     "text": [
      "✅ Finished scoring: 2001_Shrek\n"
     ]
    },
    {
     "name": "stderr",
     "output_type": "stream",
     "text": [
      "\n",
      "Processing 2001_The.Mummy.Returns.2001.720p.Blu-ray.x264.AC3-CHD.ENG:   0%| | 0/\u001b[A\n",
      "Processing 2001_The.Mummy.Returns.2001.720p.Blu-ray.x264.AC3-CHD.ENG:  20%|▏| 1/\u001b[A\n",
      "Processing 2001_The.Mummy.Returns.2001.720p.Blu-ray.x264.AC3-CHD.ENG:  40%|▍| 2/\u001b[A\n",
      "Processing 2001_The.Mummy.Returns.2001.720p.Blu-ray.x264.AC3-CHD.ENG:  60%|▌| 3/\u001b[A\n",
      "Processing 2001_The.Mummy.Returns.2001.720p.Blu-ray.x264.AC3-CHD.ENG:  80%|▊| 4/\u001b[A\n",
      "Processing 2001_The.Mummy.Returns.2001.720p.Blu-ray.x264.AC3-CHD.ENG: 100%|█| 5/\u001b[A\n",
      "Scoring movies:  90%|████████████████████▌  | 397/443 [2:59:16<20:35, 26.85s/it]\u001b[A"
     ]
    },
    {
     "name": "stdout",
     "output_type": "stream",
     "text": [
      "✅ Finished scoring: 2001_The.Mummy.Returns.2001.720p.Blu-ray.x264.AC3-CHD.ENG\n"
     ]
    },
    {
     "name": "stderr",
     "output_type": "stream",
     "text": [
      "\n",
      "Processing 2003_Bad.Boys.II.2003.720p.BluRay.X264-AMIABLE:   0%| | 0/11 [00:00<?\u001b[A\n",
      "Processing 2003_Bad.Boys.II.2003.720p.BluRay.X264-AMIABLE:   9%| | 1/11 [00:03<0\u001b[A\n",
      "Processing 2003_Bad.Boys.II.2003.720p.BluRay.X264-AMIABLE:  18%|▏| 2/11 [00:05<0\u001b[A\n",
      "Processing 2003_Bad.Boys.II.2003.720p.BluRay.X264-AMIABLE:  27%|▎| 3/11 [00:09<0\u001b[A\n",
      "Processing 2003_Bad.Boys.II.2003.720p.BluRay.X264-AMIABLE:  36%|▎| 4/11 [00:12<0\u001b[A\n",
      "Processing 2003_Bad.Boys.II.2003.720p.BluRay.X264-AMIABLE:  45%|▍| 5/11 [00:14<0\u001b[A\n",
      "Processing 2003_Bad.Boys.II.2003.720p.BluRay.X264-AMIABLE:  55%|▌| 6/11 [00:17<0\u001b[A\n",
      "Processing 2003_Bad.Boys.II.2003.720p.BluRay.X264-AMIABLE:  64%|▋| 7/11 [00:20<0\u001b[A\n",
      "Processing 2003_Bad.Boys.II.2003.720p.BluRay.X264-AMIABLE:  73%|▋| 8/11 [00:22<0\u001b[A\n",
      "Processing 2003_Bad.Boys.II.2003.720p.BluRay.X264-AMIABLE:  82%|▊| 9/11 [00:25<0\u001b[A\n",
      "Processing 2003_Bad.Boys.II.2003.720p.BluRay.X264-AMIABLE:  91%|▉| 10/11 [00:28<\u001b[A\n",
      "Processing 2003_Bad.Boys.II.2003.720p.BluRay.X264-AMIABLE: 100%|█| 11/11 [00:30<\u001b[A\n",
      "Scoring movies:  90%|████████████████████▋  | 398/443 [2:59:47<21:03, 28.07s/it]\u001b[A"
     ]
    },
    {
     "name": "stdout",
     "output_type": "stream",
     "text": [
      "✅ Finished scoring: 2003_Bad.Boys.II.2003.720p.BluRay.X264-AMIABLE\n"
     ]
    },
    {
     "name": "stderr",
     "output_type": "stream",
     "text": [
      "\n",
      "Processing 1989_Parenthood (1989):   0%|                 | 0/10 [00:00<?, ?it/s]\u001b[A\n",
      "Processing 1989_Parenthood (1989):  10%|▉        | 1/10 [00:02<00:23,  2.59s/it]\u001b[A\n",
      "Processing 1989_Parenthood (1989):  20%|█▊       | 2/10 [00:05<00:21,  2.72s/it]\u001b[A\n",
      "Processing 1989_Parenthood (1989):  30%|██▋      | 3/10 [00:08<00:19,  2.84s/it]\u001b[A\n",
      "Processing 1989_Parenthood (1989):  40%|███▌     | 4/10 [00:10<00:15,  2.66s/it]\u001b[A\n",
      "Processing 1989_Parenthood (1989):  50%|████▌    | 5/10 [00:13<00:13,  2.67s/it]\u001b[A\n",
      "Processing 1989_Parenthood (1989):  60%|█████▍   | 6/10 [00:17<00:11,  2.97s/it]\u001b[A\n",
      "Processing 1989_Parenthood (1989):  70%|██████▎  | 7/10 [00:19<00:08,  2.91s/it]\u001b[A\n",
      "Processing 1989_Parenthood (1989):  80%|███████▏ | 8/10 [00:22<00:05,  2.92s/it]\u001b[A\n",
      "Processing 1989_Parenthood (1989):  90%|████████ | 9/10 [00:25<00:02,  2.76s/it]\u001b[A\n",
      "Processing 1989_Parenthood (1989): 100%|████████| 10/10 [00:27<00:00,  2.73s/it]\u001b[A\n",
      "Scoring movies:  90%|████████████████████▋  | 399/443 [3:00:15<20:32, 28.00s/it]\u001b[A"
     ]
    },
    {
     "name": "stdout",
     "output_type": "stream",
     "text": [
      "✅ Finished scoring: 1989_Parenthood (1989)\n"
     ]
    },
    {
     "name": "stderr",
     "output_type": "stream",
     "text": [
      "\n",
      "Processing 2013_Oz.the.Great.and.Powerful.2013.720p.BluRay.x264-SPARKS:   0%| | \u001b[A\n",
      "Processing 2013_Oz.the.Great.and.Powerful.2013.720p.BluRay.x264-SPARKS:  10%| | \u001b[A\n",
      "Processing 2013_Oz.the.Great.and.Powerful.2013.720p.BluRay.x264-SPARKS:  20%|▏| \u001b[A\n",
      "Processing 2013_Oz.the.Great.and.Powerful.2013.720p.BluRay.x264-SPARKS:  30%|▎| \u001b[A\n",
      "Processing 2013_Oz.the.Great.and.Powerful.2013.720p.BluRay.x264-SPARKS:  40%|▍| \u001b[A\n",
      "Processing 2013_Oz.the.Great.and.Powerful.2013.720p.BluRay.x264-SPARKS:  50%|▌| \u001b[A\n",
      "Processing 2013_Oz.the.Great.and.Powerful.2013.720p.BluRay.x264-SPARKS:  60%|▌| \u001b[A\n",
      "Processing 2013_Oz.the.Great.and.Powerful.2013.720p.BluRay.x264-SPARKS:  70%|▋| \u001b[A\n",
      "Processing 2013_Oz.the.Great.and.Powerful.2013.720p.BluRay.x264-SPARKS:  80%|▊| \u001b[A\n",
      "Processing 2013_Oz.the.Great.and.Powerful.2013.720p.BluRay.x264-SPARKS:  90%|▉| \u001b[A\n",
      "Processing 2013_Oz.the.Great.and.Powerful.2013.720p.BluRay.x264-SPARKS: 100%|█| \u001b[A\n",
      "Scoring movies:  90%|████████████████████▊  | 400/443 [3:00:41<19:41, 27.48s/it]\u001b[A"
     ]
    },
    {
     "name": "stdout",
     "output_type": "stream",
     "text": [
      "✅ Finished scoring: 2013_Oz.the.Great.and.Powerful.2013.720p.BluRay.x264-SPARKS\n"
     ]
    },
    {
     "name": "stderr",
     "output_type": "stream",
     "text": [
      "\n",
      "Processing 2005_Madagascar[2005]DvDrip-aXXo.en:   0%|     | 0/7 [00:00<?, ?it/s]\u001b[A\n",
      "Processing 2005_Madagascar[2005]DvDrip-aXXo.en:  14%|▏| 1/7 [00:02<00:14,  2.40s\u001b[A\n",
      "Processing 2005_Madagascar[2005]DvDrip-aXXo.en:  29%|▎| 2/7 [00:05<00:14,  2.85s\u001b[A\n",
      "Processing 2005_Madagascar[2005]DvDrip-aXXo.en:  43%|▍| 3/7 [00:08<00:10,  2.69s\u001b[A\n",
      "Processing 2005_Madagascar[2005]DvDrip-aXXo.en:  57%|▌| 4/7 [00:10<00:07,  2.63s\u001b[A"
     ]
    },
    {
     "name": "stdout",
     "output_type": "stream",
     "text": [
      "⚠️ Rate limit hit. Waiting 60 seconds...\n"
     ]
    },
    {
     "name": "stderr",
     "output_type": "stream",
     "text": [
      "\n",
      "Processing 2005_Madagascar[2005]DvDrip-aXXo.en:  71%|▋| 5/7 [01:13<00:48, 24.44s\u001b[A\n",
      "Processing 2005_Madagascar[2005]DvDrip-aXXo.en:  86%|▊| 6/7 [01:16<00:16, 16.98s\u001b[A\n",
      "Processing 2005_Madagascar[2005]DvDrip-aXXo.en: 100%|█| 7/7 [01:18<00:00, 12.22s\u001b[A\n",
      "Scoring movies:  91%|████████████████████▊  | 401/443 [3:02:00<29:58, 42.83s/it]\u001b[A"
     ]
    },
    {
     "name": "stdout",
     "output_type": "stream",
     "text": [
      "✅ Finished scoring: 2005_Madagascar[2005]DvDrip-aXXo.en\n"
     ]
    },
    {
     "name": "stderr",
     "output_type": "stream",
     "text": [
      "\n",
      "Processing 2001_Pearl.Harbor.2001.DVD9.720p.BluRay.x264-hV:   0%| | 0/14 [00:00<\u001b[A\n",
      "Processing 2001_Pearl.Harbor.2001.DVD9.720p.BluRay.x264-hV:   7%| | 1/14 [00:02<\u001b[A\n",
      "Processing 2001_Pearl.Harbor.2001.DVD9.720p.BluRay.x264-hV:  14%|▏| 2/14 [00:05<\u001b[A\n",
      "Processing 2001_Pearl.Harbor.2001.DVD9.720p.BluRay.x264-hV:  21%|▏| 3/14 [00:07<\u001b[A\n",
      "Processing 2001_Pearl.Harbor.2001.DVD9.720p.BluRay.x264-hV:  29%|▎| 4/14 [00:10<\u001b[A\n",
      "Processing 2001_Pearl.Harbor.2001.DVD9.720p.BluRay.x264-hV:  36%|▎| 5/14 [00:13<\u001b[A\n",
      "Processing 2001_Pearl.Harbor.2001.DVD9.720p.BluRay.x264-hV:  43%|▍| 6/14 [00:16<\u001b[A\n",
      "Processing 2001_Pearl.Harbor.2001.DVD9.720p.BluRay.x264-hV:  50%|▌| 7/14 [00:18<\u001b[A\n",
      "Processing 2001_Pearl.Harbor.2001.DVD9.720p.BluRay.x264-hV:  57%|▌| 8/14 [00:21<\u001b[A\n",
      "Processing 2001_Pearl.Harbor.2001.DVD9.720p.BluRay.x264-hV:  64%|▋| 9/14 [00:24<\u001b[A\n",
      "Processing 2001_Pearl.Harbor.2001.DVD9.720p.BluRay.x264-hV:  71%|▋| 10/14 [00:26\u001b[A\n",
      "Processing 2001_Pearl.Harbor.2001.DVD9.720p.BluRay.x264-hV:  79%|▊| 11/14 [00:29\u001b[A\n",
      "Processing 2001_Pearl.Harbor.2001.DVD9.720p.BluRay.x264-hV:  86%|▊| 12/14 [00:32\u001b[A\n",
      "Processing 2001_Pearl.Harbor.2001.DVD9.720p.BluRay.x264-hV:  93%|▉| 13/14 [00:35\u001b[A\n",
      "Processing 2001_Pearl.Harbor.2001.DVD9.720p.BluRay.x264-hV: 100%|█| 14/14 [00:37\u001b[A\n",
      "Scoring movies:  91%|████████████████████▊  | 402/443 [3:02:38<28:16, 41.37s/it]\u001b[A"
     ]
    },
    {
     "name": "stdout",
     "output_type": "stream",
     "text": [
      "✅ Finished scoring: 2001_Pearl.Harbor.2001.DVD9.720p.BluRay.x264-hV\n"
     ]
    },
    {
     "name": "stderr",
     "output_type": "stream",
     "text": [
      "\n",
      "Processing 1993_In.the.Line.of.Fire.1993.Blu-ray.720p.x264.DD51-HiS@SiLUHD.ENG: \u001b[A\n",
      "Processing 1993_In.the.Line.of.Fire.1993.Blu-ray.720p.x264.DD51-HiS@SiLUHD.ENG: \u001b[A\n",
      "Processing 1993_In.the.Line.of.Fire.1993.Blu-ray.720p.x264.DD51-HiS@SiLUHD.ENG: \u001b[A\n",
      "Processing 1993_In.the.Line.of.Fire.1993.Blu-ray.720p.x264.DD51-HiS@SiLUHD.ENG: \u001b[A\n",
      "Processing 1993_In.the.Line.of.Fire.1993.Blu-ray.720p.x264.DD51-HiS@SiLUHD.ENG: \u001b[A\n",
      "Processing 1993_In.the.Line.of.Fire.1993.Blu-ray.720p.x264.DD51-HiS@SiLUHD.ENG: \u001b[A\n",
      "Scoring movies:  91%|████████████████████▉  | 403/443 [3:02:52<22:07, 33.19s/it]\u001b[A"
     ]
    },
    {
     "name": "stdout",
     "output_type": "stream",
     "text": [
      "✅ Finished scoring: 1993_In.the.Line.of.Fire.1993.Blu-ray.720p.x264.DD51-HiS@SiLUHD.ENG\n"
     ]
    },
    {
     "name": "stderr",
     "output_type": "stream",
     "text": [
      "\n",
      "Processing 2021_Shang-Chi. And. The. Legend. Of. The. Ten. Rings. 2021. 1080p. B\u001b[A\n",
      "Processing 2021_Shang-Chi. And. The. Legend. Of. The. Ten. Rings. 2021. 1080p. B\u001b[A\n",
      "Processing 2021_Shang-Chi. And. The. Legend. Of. The. Ten. Rings. 2021. 1080p. B\u001b[A\n",
      "Processing 2021_Shang-Chi. And. The. Legend. Of. The. Ten. Rings. 2021. 1080p. B\u001b[A\n",
      "Processing 2021_Shang-Chi. And. The. Legend. Of. The. Ten. Rings. 2021. 1080p. B\u001b[A\n",
      "Processing 2021_Shang-Chi. And. The. Legend. Of. The. Ten. Rings. 2021. 1080p. B\u001b[A\n",
      "Processing 2021_Shang-Chi. And. The. Legend. Of. The. Ten. Rings. 2021. 1080p. B\u001b[A\n",
      "Processing 2021_Shang-Chi. And. The. Legend. Of. The. Ten. Rings. 2021. 1080p. B\u001b[A\n",
      "Processing 2021_Shang-Chi. And. The. Legend. Of. The. Ten. Rings. 2021. 1080p. B\u001b[A\n",
      "Scoring movies:  91%|████████████████████▉  | 404/443 [3:03:14<19:17, 29.67s/it]\u001b[A"
     ]
    },
    {
     "name": "stdout",
     "output_type": "stream",
     "text": [
      "✅ Finished scoring: 2021_Shang-Chi. And. The. Legend. Of. The. Ten. Rings. 2021. 1080p. BluRay. x264-VETO\n"
     ]
    },
    {
     "name": "stderr",
     "output_type": "stream",
     "text": [
      "\n",
      "Processing 1999_The Blair Witch Project.DVDRip.Occor:   0%| | 0/8 [00:00<?, ?it/\u001b[A\n",
      "Processing 1999_The Blair Witch Project.DVDRip.Occor:  12%|▏| 1/8 [00:02<00:18, \u001b[A\n",
      "Processing 1999_The Blair Witch Project.DVDRip.Occor:  25%|▎| 2/8 [00:05<00:15, \u001b[A\n",
      "Processing 1999_The Blair Witch Project.DVDRip.Occor:  38%|▍| 3/8 [00:07<00:12, \u001b[A\n",
      "Processing 1999_The Blair Witch Project.DVDRip.Occor:  50%|▌| 4/8 [00:10<00:10, \u001b[A\n",
      "Processing 1999_The Blair Witch Project.DVDRip.Occor:  62%|▋| 5/8 [00:13<00:07, \u001b[A\n",
      "Processing 1999_The Blair Witch Project.DVDRip.Occor:  75%|▊| 6/8 [00:16<00:05, \u001b[A\n",
      "Processing 1999_The Blair Witch Project.DVDRip.Occor:  88%|▉| 7/8 [00:18<00:02, \u001b[A\n",
      "Processing 1999_The Blair Witch Project.DVDRip.Occor: 100%|█| 8/8 [00:21<00:00, \u001b[A\n",
      "Scoring movies:  91%|█████████████████████  | 405/443 [3:03:35<17:11, 27.14s/it]\u001b[A"
     ]
    },
    {
     "name": "stdout",
     "output_type": "stream",
     "text": [
      "✅ Finished scoring: 1999_The Blair Witch Project.DVDRip.Occor\n"
     ]
    },
    {
     "name": "stderr",
     "output_type": "stream",
     "text": [
      "\n",
      "Processing 2009_Up.2009.480p.BRRip.XviD.AC3-ViSiON:   0%| | 0/6 [00:00<?, ?it/s]\u001b[A\n",
      "Processing 2009_Up.2009.480p.BRRip.XviD.AC3-ViSiON:  17%|▏| 1/6 [00:02<00:12,  2\u001b[A\n",
      "Processing 2009_Up.2009.480p.BRRip.XviD.AC3-ViSiON:  33%|▎| 2/6 [00:05<00:10,  2\u001b[A\n",
      "Processing 2009_Up.2009.480p.BRRip.XviD.AC3-ViSiON:  50%|▌| 3/6 [00:07<00:07,  2\u001b[A\n",
      "Processing 2009_Up.2009.480p.BRRip.XviD.AC3-ViSiON:  67%|▋| 4/6 [00:10<00:05,  2\u001b[A\n",
      "Processing 2009_Up.2009.480p.BRRip.XviD.AC3-ViSiON:  83%|▊| 5/6 [00:12<00:02,  2\u001b[A\n",
      "Processing 2009_Up.2009.480p.BRRip.XviD.AC3-ViSiON: 100%|█| 6/6 [00:15<00:00,  2\u001b[A\n",
      "Scoring movies:  92%|█████████████████████  | 406/443 [3:03:50<14:35, 23.65s/it]\u001b[A"
     ]
    },
    {
     "name": "stdout",
     "output_type": "stream",
     "text": [
      "✅ Finished scoring: 2009_Up.2009.480p.BRRip.XviD.AC3-ViSiON\n"
     ]
    },
    {
     "name": "stderr",
     "output_type": "stream",
     "text": [
      "\n",
      "Processing 1985_Cocoon.1985.1080p.BluRay.x264-CiNEFiLE.ENG:   0%| | 0/7 [00:00<?\u001b[A\n",
      "Processing 1985_Cocoon.1985.1080p.BluRay.x264-CiNEFiLE.ENG:  14%|▏| 1/7 [00:03<0\u001b[A\n",
      "Processing 1985_Cocoon.1985.1080p.BluRay.x264-CiNEFiLE.ENG:  29%|▎| 2/7 [00:05<0\u001b[A\n",
      "Processing 1985_Cocoon.1985.1080p.BluRay.x264-CiNEFiLE.ENG:  43%|▍| 3/7 [00:08<0\u001b[A\n",
      "Processing 1985_Cocoon.1985.1080p.BluRay.x264-CiNEFiLE.ENG:  57%|▌| 4/7 [00:10<0\u001b[A\n",
      "Processing 1985_Cocoon.1985.1080p.BluRay.x264-CiNEFiLE.ENG:  71%|▋| 5/7 [00:13<0\u001b[A\n",
      "Processing 1985_Cocoon.1985.1080p.BluRay.x264-CiNEFiLE.ENG:  86%|▊| 6/7 [00:15<0\u001b[A\n",
      "Processing 1985_Cocoon.1985.1080p.BluRay.x264-CiNEFiLE.ENG: 100%|█| 7/7 [00:18<0\u001b[A\n",
      "Scoring movies:  92%|█████████████████████▏ | 407/443 [3:04:09<13:15, 22.09s/it]\u001b[A"
     ]
    },
    {
     "name": "stdout",
     "output_type": "stream",
     "text": [
      "✅ Finished scoring: 1985_Cocoon.1985.1080p.BluRay.x264-CiNEFiLE.ENG\n"
     ]
    },
    {
     "name": "stderr",
     "output_type": "stream",
     "text": [
      "\n",
      "Processing 2003_Finding.Nemo.720p.HDTV.DTS.x264-CtrlHD:   0%| | 0/10 [00:00<?, ?\u001b[A\n",
      "Processing 2003_Finding.Nemo.720p.HDTV.DTS.x264-CtrlHD:  10%| | 1/10 [00:02<00:2\u001b[A\n",
      "Processing 2003_Finding.Nemo.720p.HDTV.DTS.x264-CtrlHD:  20%|▏| 2/10 [00:05<00:2\u001b[A\n",
      "Processing 2003_Finding.Nemo.720p.HDTV.DTS.x264-CtrlHD:  30%|▎| 3/10 [00:08<00:2\u001b[A\n",
      "Processing 2003_Finding.Nemo.720p.HDTV.DTS.x264-CtrlHD:  40%|▍| 4/10 [00:10<00:1\u001b[A\n",
      "Processing 2003_Finding.Nemo.720p.HDTV.DTS.x264-CtrlHD:  50%|▌| 5/10 [00:13<00:1\u001b[A\n",
      "Processing 2003_Finding.Nemo.720p.HDTV.DTS.x264-CtrlHD:  60%|▌| 6/10 [00:16<00:1\u001b[A\n",
      "Processing 2003_Finding.Nemo.720p.HDTV.DTS.x264-CtrlHD:  70%|▋| 7/10 [00:18<00:0\u001b[A\n",
      "Processing 2003_Finding.Nemo.720p.HDTV.DTS.x264-CtrlHD:  80%|▊| 8/10 [00:21<00:0\u001b[A\n",
      "Processing 2003_Finding.Nemo.720p.HDTV.DTS.x264-CtrlHD:  90%|▉| 9/10 [00:24<00:0\u001b[A\n",
      "Processing 2003_Finding.Nemo.720p.HDTV.DTS.x264-CtrlHD: 100%|█| 10/10 [00:26<00:\u001b[A\n",
      "Scoring movies:  92%|█████████████████████▏ | 408/443 [3:04:36<13:41, 23.46s/it]\u001b[A"
     ]
    },
    {
     "name": "stdout",
     "output_type": "stream",
     "text": [
      "✅ Finished scoring: 2003_Finding.Nemo.720p.HDTV.DTS.x264-CtrlHD\n"
     ]
    },
    {
     "name": "stderr",
     "output_type": "stream",
     "text": [
      "\n",
      "Processing 2022_Thor.Love.and.Thunder.2022.1080p.WEB-DL.DDP5.1.Atmos.H.264-EVO: \u001b[A\n",
      "Processing 2022_Thor.Love.and.Thunder.2022.1080p.WEB-DL.DDP5.1.Atmos.H.264-EVO: \u001b[A\n",
      "Processing 2022_Thor.Love.and.Thunder.2022.1080p.WEB-DL.DDP5.1.Atmos.H.264-EVO: \u001b[A\n",
      "Processing 2022_Thor.Love.and.Thunder.2022.1080p.WEB-DL.DDP5.1.Atmos.H.264-EVO: \u001b[A\n",
      "Processing 2022_Thor.Love.and.Thunder.2022.1080p.WEB-DL.DDP5.1.Atmos.H.264-EVO: \u001b[A\n",
      "Processing 2022_Thor.Love.and.Thunder.2022.1080p.WEB-DL.DDP5.1.Atmos.H.264-EVO: \u001b[A\n",
      "Processing 2022_Thor.Love.and.Thunder.2022.1080p.WEB-DL.DDP5.1.Atmos.H.264-EVO: \u001b[A\n",
      "Processing 2022_Thor.Love.and.Thunder.2022.1080p.WEB-DL.DDP5.1.Atmos.H.264-EVO: \u001b[A"
     ]
    },
    {
     "name": "stdout",
     "output_type": "stream",
     "text": [
      "⚠️ Rate limit hit. Waiting 60 seconds...\n"
     ]
    },
    {
     "name": "stderr",
     "output_type": "stream",
     "text": [
      "\n",
      "Processing 2022_Thor.Love.and.Thunder.2022.1080p.WEB-DL.DDP5.1.Atmos.H.264-EVO: \u001b[A\n",
      "Processing 2022_Thor.Love.and.Thunder.2022.1080p.WEB-DL.DDP5.1.Atmos.H.264-EVO: \u001b[A\n",
      "Scoring movies:  92%|█████████████████████▏ | 409/443 [3:05:59<23:32, 41.55s/it]\u001b[A"
     ]
    },
    {
     "name": "stdout",
     "output_type": "stream",
     "text": [
      "✅ Finished scoring: 2022_Thor.Love.and.Thunder.2022.1080p.WEB-DL.DDP5.1.Atmos.H.264-EVO\n"
     ]
    },
    {
     "name": "stderr",
     "output_type": "stream",
     "text": [
      "\n",
      "Processing 2011_POTC 4 - On Stranger Tides (2011) 720p BluRay AC3 x264 - AdiT.en\u001b[A\n",
      "Processing 2011_POTC 4 - On Stranger Tides (2011) 720p BluRay AC3 x264 - AdiT.en\u001b[A\n",
      "Processing 2011_POTC 4 - On Stranger Tides (2011) 720p BluRay AC3 x264 - AdiT.en\u001b[A\n",
      "Processing 2011_POTC 4 - On Stranger Tides (2011) 720p BluRay AC3 x264 - AdiT.en\u001b[A\n",
      "Processing 2011_POTC 4 - On Stranger Tides (2011) 720p BluRay AC3 x264 - AdiT.en\u001b[A\n",
      "Processing 2011_POTC 4 - On Stranger Tides (2011) 720p BluRay AC3 x264 - AdiT.en\u001b[A\n",
      "Processing 2011_POTC 4 - On Stranger Tides (2011) 720p BluRay AC3 x264 - AdiT.en\u001b[A\n",
      "Processing 2011_POTC 4 - On Stranger Tides (2011) 720p BluRay AC3 x264 - AdiT.en\u001b[A\n",
      "Scoring movies:  93%|█████████████████████▎ | 410/443 [3:06:17<19:00, 34.55s/it]\u001b[A"
     ]
    },
    {
     "name": "stdout",
     "output_type": "stream",
     "text": [
      "✅ Finished scoring: 2011_POTC 4 - On Stranger Tides (2011) 720p BluRay AC3 x264 - AdiT.english\n"
     ]
    },
    {
     "name": "stderr",
     "output_type": "stream",
     "text": [
      "\n",
      "Processing 1986_The. Karate. Kid. Part. II. 1986. 1080p. BluRay. x264-LCHD. ENG:\u001b[A\n",
      "Processing 1986_The. Karate. Kid. Part. II. 1986. 1080p. BluRay. x264-LCHD. ENG:\u001b[A\n",
      "Processing 1986_The. Karate. Kid. Part. II. 1986. 1080p. BluRay. x264-LCHD. ENG:\u001b[A\n",
      "Processing 1986_The. Karate. Kid. Part. II. 1986. 1080p. BluRay. x264-LCHD. ENG:\u001b[A\n",
      "Processing 1986_The. Karate. Kid. Part. II. 1986. 1080p. BluRay. x264-LCHD. ENG:\u001b[A\n",
      "Processing 1986_The. Karate. Kid. Part. II. 1986. 1080p. BluRay. x264-LCHD. ENG:\u001b[A\n",
      "Processing 1986_The. Karate. Kid. Part. II. 1986. 1080p. BluRay. x264-LCHD. ENG:\u001b[A\n",
      "Scoring movies:  93%|█████████████████████▎ | 411/443 [3:06:35<15:42, 29.47s/it]\u001b[A"
     ]
    },
    {
     "name": "stdout",
     "output_type": "stream",
     "text": [
      "✅ Finished scoring: 1986_The. Karate. Kid. Part. II. 1986. 1080p. BluRay. x264-LCHD. ENG\n"
     ]
    },
    {
     "name": "stderr",
     "output_type": "stream",
     "text": [
      "\n",
      "Processing 2002_Men.In.Black.II.2002.1080p.Blu-ray.AVC.DTS-HD.MA.5:   0%| | 0/6 \u001b[A\n",
      "Processing 2002_Men.In.Black.II.2002.1080p.Blu-ray.AVC.DTS-HD.MA.5:  17%|▏| 1/6 \u001b[A\n",
      "Processing 2002_Men.In.Black.II.2002.1080p.Blu-ray.AVC.DTS-HD.MA.5:  33%|▎| 2/6 \u001b[A\n",
      "Processing 2002_Men.In.Black.II.2002.1080p.Blu-ray.AVC.DTS-HD.MA.5:  50%|▌| 3/6 \u001b[A\n",
      "Processing 2002_Men.In.Black.II.2002.1080p.Blu-ray.AVC.DTS-HD.MA.5:  67%|▋| 4/6 \u001b[A\n",
      "Processing 2002_Men.In.Black.II.2002.1080p.Blu-ray.AVC.DTS-HD.MA.5:  83%|▊| 5/6 \u001b[A\n",
      "Processing 2002_Men.In.Black.II.2002.1080p.Blu-ray.AVC.DTS-HD.MA.5: 100%|█| 6/6 \u001b[A\n",
      "Scoring movies:  93%|█████████████████████▍ | 412/443 [3:06:52<13:12, 25.56s/it]\u001b[A"
     ]
    },
    {
     "name": "stdout",
     "output_type": "stream",
     "text": [
      "✅ Finished scoring: 2002_Men.In.Black.II.2002.1080p.Blu-ray.AVC.DTS-HD.MA.5\n"
     ]
    },
    {
     "name": "stderr",
     "output_type": "stream",
     "text": [
      "\n",
      "Processing 2012_The.Avengers.2012.DVDRip.X264.AC3-NYDIC:   0%| | 0/10 [00:00<?, \u001b[A\n",
      "Processing 2012_The.Avengers.2012.DVDRip.X264.AC3-NYDIC:  10%| | 1/10 [00:02<00:\u001b[A\n",
      "Processing 2012_The.Avengers.2012.DVDRip.X264.AC3-NYDIC:  20%|▏| 2/10 [00:05<00:\u001b[A\n",
      "Processing 2012_The.Avengers.2012.DVDRip.X264.AC3-NYDIC:  30%|▎| 3/10 [00:08<00:\u001b[A\n",
      "Processing 2012_The.Avengers.2012.DVDRip.X264.AC3-NYDIC:  40%|▍| 4/10 [00:10<00:\u001b[A\n",
      "Processing 2012_The.Avengers.2012.DVDRip.X264.AC3-NYDIC:  50%|▌| 5/10 [00:13<00:\u001b[A\n",
      "Processing 2012_The.Avengers.2012.DVDRip.X264.AC3-NYDIC:  60%|▌| 6/10 [00:16<00:\u001b[A\n",
      "Processing 2012_The.Avengers.2012.DVDRip.X264.AC3-NYDIC:  70%|▋| 7/10 [00:19<00:\u001b[A\n",
      "Processing 2012_The.Avengers.2012.DVDRip.X264.AC3-NYDIC:  80%|▊| 8/10 [00:22<00:\u001b[A\n",
      "Processing 2012_The.Avengers.2012.DVDRip.X264.AC3-NYDIC:  90%|▉| 9/10 [00:24<00:\u001b[A\n",
      "Processing 2012_The.Avengers.2012.DVDRip.X264.AC3-NYDIC: 100%|█| 10/10 [00:27<00\u001b[A\n",
      "Scoring movies:  93%|█████████████████████▍ | 413/443 [3:07:19<13:05, 26.20s/it]\u001b[A"
     ]
    },
    {
     "name": "stdout",
     "output_type": "stream",
     "text": [
      "✅ Finished scoring: 2012_The.Avengers.2012.DVDRip.X264.AC3-NYDIC\n"
     ]
    },
    {
     "name": "stderr",
     "output_type": "stream",
     "text": [
      "\n",
      "Processing 1994_Clear.And.Present.Danger.1994.1080p.HDDVD.x264-hV.ENG:   0%| | 0\u001b[A\n",
      "Processing 1994_Clear.And.Present.Danger.1994.1080p.HDDVD.x264-hV.ENG:  14%|▏| 1\u001b[A\n",
      "Processing 1994_Clear.And.Present.Danger.1994.1080p.HDDVD.x264-hV.ENG:  29%|▎| 2\u001b[A\n",
      "Processing 1994_Clear.And.Present.Danger.1994.1080p.HDDVD.x264-hV.ENG:  43%|▍| 3\u001b[A\n",
      "Processing 1994_Clear.And.Present.Danger.1994.1080p.HDDVD.x264-hV.ENG:  57%|▌| 4\u001b[A\n",
      "Processing 1994_Clear.And.Present.Danger.1994.1080p.HDDVD.x264-hV.ENG:  71%|▋| 5\u001b[A\n",
      "Processing 1994_Clear.And.Present.Danger.1994.1080p.HDDVD.x264-hV.ENG:  86%|▊| 6\u001b[A\n",
      "Processing 1994_Clear.And.Present.Danger.1994.1080p.HDDVD.x264-hV.ENG: 100%|█| 7\u001b[A\n",
      "Scoring movies:  93%|█████████████████████▍ | 414/443 [3:07:38<11:36, 24.03s/it]\u001b[A"
     ]
    },
    {
     "name": "stdout",
     "output_type": "stream",
     "text": [
      "✅ Finished scoring: 1994_Clear.And.Present.Danger.1994.1080p.HDDVD.x264-hV.ENG\n"
     ]
    },
    {
     "name": "stderr",
     "output_type": "stream",
     "text": [
      "\n",
      "Processing 2012_Brave.2012.720p.BluRay.x264.AC3-HDChina:   0%| | 0/5 [00:00<?, ?\u001b[A\n",
      "Processing 2012_Brave.2012.720p.BluRay.x264.AC3-HDChina:  20%|▏| 1/5 [00:02<00:1\u001b[A\n",
      "Processing 2012_Brave.2012.720p.BluRay.x264.AC3-HDChina:  40%|▍| 2/5 [00:05<00:0\u001b[A\n",
      "Processing 2012_Brave.2012.720p.BluRay.x264.AC3-HDChina:  60%|▌| 3/5 [00:08<00:0\u001b[A\n",
      "Processing 2012_Brave.2012.720p.BluRay.x264.AC3-HDChina:  80%|▊| 4/5 [00:10<00:0\u001b[A\n",
      "Processing 2012_Brave.2012.720p.BluRay.x264.AC3-HDChina: 100%|█| 5/5 [00:13<00:0\u001b[A\n",
      "Scoring movies:  94%|█████████████████████▌ | 415/443 [3:07:52<09:48, 21.01s/it]\u001b[A"
     ]
    },
    {
     "name": "stdout",
     "output_type": "stream",
     "text": [
      "✅ Finished scoring: 2012_Brave.2012.720p.BluRay.x264.AC3-HDChina\n"
     ]
    },
    {
     "name": "stderr",
     "output_type": "stream",
     "text": [
      "\n",
      "Processing 2011_Rise.of.the.Planet.of.the.Apes.2011.BluRay.1080p.DTS.x264-CHD:  \u001b[A\n",
      "Processing 2011_Rise.of.the.Planet.of.the.Apes.2011.BluRay.1080p.DTS.x264-CHD:  \u001b[A\n",
      "Processing 2011_Rise.of.the.Planet.of.the.Apes.2011.BluRay.1080p.DTS.x264-CHD:  \u001b[A\n",
      "Processing 2011_Rise.of.the.Planet.of.the.Apes.2011.BluRay.1080p.DTS.x264-CHD:  \u001b[A\n",
      "Processing 2011_Rise.of.the.Planet.of.the.Apes.2011.BluRay.1080p.DTS.x264-CHD:  \u001b[A\n",
      "Processing 2011_Rise.of.the.Planet.of.the.Apes.2011.BluRay.1080p.DTS.x264-CHD: 1\u001b[A\n",
      "Scoring movies:  94%|█████████████████████▌ | 416/443 [3:08:05<08:24, 18.68s/it]\u001b[A"
     ]
    },
    {
     "name": "stdout",
     "output_type": "stream",
     "text": [
      "✅ Finished scoring: 2011_Rise.of.the.Planet.of.the.Apes.2011.BluRay.1080p.DTS.x264-CHD\n"
     ]
    },
    {
     "name": "stderr",
     "output_type": "stream",
     "text": [
      "\n",
      "Processing 2016_Suicide.Squad.2016.EXTENDED.720p.BluRay.x264-SPARKS:   0%| | 0/9\u001b[A\n",
      "Processing 2016_Suicide.Squad.2016.EXTENDED.720p.BluRay.x264-SPARKS:  11%| | 1/9\u001b[A\n",
      "Processing 2016_Suicide.Squad.2016.EXTENDED.720p.BluRay.x264-SPARKS:  22%|▏| 2/9\u001b[A\n",
      "Processing 2016_Suicide.Squad.2016.EXTENDED.720p.BluRay.x264-SPARKS:  33%|▎| 3/9\u001b[A\n",
      "Processing 2016_Suicide.Squad.2016.EXTENDED.720p.BluRay.x264-SPARKS:  44%|▍| 4/9\u001b[A\n",
      "Processing 2016_Suicide.Squad.2016.EXTENDED.720p.BluRay.x264-SPARKS:  56%|▌| 5/9\u001b[A\n",
      "Processing 2016_Suicide.Squad.2016.EXTENDED.720p.BluRay.x264-SPARKS:  67%|▋| 6/9\u001b[A\n",
      "Processing 2016_Suicide.Squad.2016.EXTENDED.720p.BluRay.x264-SPARKS:  78%|▊| 7/9\u001b[A\n",
      "Processing 2016_Suicide.Squad.2016.EXTENDED.720p.BluRay.x264-SPARKS:  89%|▉| 8/9\u001b[A\n",
      "Processing 2016_Suicide.Squad.2016.EXTENDED.720p.BluRay.x264-SPARKS: 100%|█| 9/9\u001b[A\n",
      "Scoring movies:  94%|█████████████████████▋ | 417/443 [3:08:30<08:54, 20.56s/it]\u001b[A"
     ]
    },
    {
     "name": "stdout",
     "output_type": "stream",
     "text": [
      "✅ Finished scoring: 2016_Suicide.Squad.2016.EXTENDED.720p.BluRay.x264-SPARKS\n"
     ]
    },
    {
     "name": "stderr",
     "output_type": "stream",
     "text": [
      "\n",
      "Processing 1985_Rocky IV:   0%|                           | 0/6 [00:00<?, ?it/s]\u001b[A\n",
      "Processing 1985_Rocky IV:  17%|███▏               | 1/6 [00:02<00:13,  2.73s/it]\u001b[A\n",
      "Processing 1985_Rocky IV:  33%|██████▎            | 2/6 [00:05<00:11,  2.75s/it]\u001b[A\n",
      "Processing 1985_Rocky IV:  50%|█████████▌         | 3/6 [00:08<00:08,  2.91s/it]\u001b[A\n",
      "Processing 1985_Rocky IV:  67%|████████████▋      | 4/6 [00:11<00:05,  2.78s/it]\u001b[A\n",
      "Processing 1985_Rocky IV:  83%|███████████████▊   | 5/6 [00:13<00:02,  2.73s/it]\u001b[A\n",
      "Processing 1985_Rocky IV: 100%|███████████████████| 6/6 [00:16<00:00,  2.61s/it]\u001b[A\n",
      "Scoring movies:  94%|█████████████████████▋ | 418/443 [3:08:47<08:01, 19.26s/it]\u001b[A"
     ]
    },
    {
     "name": "stdout",
     "output_type": "stream",
     "text": [
      "✅ Finished scoring: 1985_Rocky IV\n"
     ]
    },
    {
     "name": "stderr",
     "output_type": "stream",
     "text": [
      "\n",
      "Processing 2012_The.Hunger.Games.2012.720p.BluRay.x264.DTS-HDChina.eng:   0%| | \u001b[A\n",
      "Processing 2012_The.Hunger.Games.2012.720p.BluRay.x264.DTS-HDChina.eng:  14%|▏| \u001b[A\n",
      "Processing 2012_The.Hunger.Games.2012.720p.BluRay.x264.DTS-HDChina.eng:  29%|▎| \u001b[A\n",
      "Processing 2012_The.Hunger.Games.2012.720p.BluRay.x264.DTS-HDChina.eng:  43%|▍| \u001b[A\n",
      "Processing 2012_The.Hunger.Games.2012.720p.BluRay.x264.DTS-HDChina.eng:  57%|▌| \u001b[A\n",
      "Processing 2012_The.Hunger.Games.2012.720p.BluRay.x264.DTS-HDChina.eng:  71%|▋| \u001b[A\n",
      "Processing 2012_The.Hunger.Games.2012.720p.BluRay.x264.DTS-HDChina.eng:  86%|▊| \u001b[A\n",
      "Processing 2012_The.Hunger.Games.2012.720p.BluRay.x264.DTS-HDChina.eng: 100%|█| \u001b[A\n",
      "Scoring movies:  95%|█████████████████████▊ | 419/443 [3:09:05<07:37, 19.05s/it]\u001b[A"
     ]
    },
    {
     "name": "stdout",
     "output_type": "stream",
     "text": [
      "✅ Finished scoring: 2012_The.Hunger.Games.2012.720p.BluRay.x264.DTS-HDChina.eng\n"
     ]
    },
    {
     "name": "stderr",
     "output_type": "stream",
     "text": [
      "\n",
      "Processing 2001_Planet.of.the.Apes.2001.BluRay.720p.x264.DTS-MySiLU.eng:   0%| |\u001b[A\n",
      "Processing 2001_Planet.of.the.Apes.2001.BluRay.720p.x264.DTS-MySiLU.eng:  20%|▏|\u001b[A\n",
      "Processing 2001_Planet.of.the.Apes.2001.BluRay.720p.x264.DTS-MySiLU.eng:  40%|▍|\u001b[A\n",
      "Processing 2001_Planet.of.the.Apes.2001.BluRay.720p.x264.DTS-MySiLU.eng:  60%|▌|\u001b[A\n",
      "Processing 2001_Planet.of.the.Apes.2001.BluRay.720p.x264.DTS-MySiLU.eng:  80%|▊|\u001b[A\n",
      "Processing 2001_Planet.of.the.Apes.2001.BluRay.720p.x264.DTS-MySiLU.eng: 100%|█|\u001b[A\n",
      "Scoring movies:  95%|█████████████████████▊ | 420/443 [3:09:18<06:36, 17.25s/it]\u001b[A"
     ]
    },
    {
     "name": "stdout",
     "output_type": "stream",
     "text": [
      "✅ Finished scoring: 2001_Planet.of.the.Apes.2001.BluRay.720p.x264.DTS-MySiLU.eng\n"
     ]
    },
    {
     "name": "stderr",
     "output_type": "stream",
     "text": [
      "\n",
      "Processing 1988_Moonstruck.1987.DVDRip.XviD-Shoo.ENG:   0%| | 0/7 [00:00<?, ?it/\u001b[A\n",
      "Processing 1988_Moonstruck.1987.DVDRip.XviD-Shoo.ENG:  14%|▏| 1/7 [00:02<00:16, \u001b[A\n",
      "Processing 1988_Moonstruck.1987.DVDRip.XviD-Shoo.ENG:  29%|▎| 2/7 [00:05<00:12, \u001b[A\n",
      "Processing 1988_Moonstruck.1987.DVDRip.XviD-Shoo.ENG:  43%|▍| 3/7 [00:07<00:10, \u001b[A\n",
      "Processing 1988_Moonstruck.1987.DVDRip.XviD-Shoo.ENG:  57%|▌| 4/7 [00:10<00:07, \u001b[A\n",
      "Processing 1988_Moonstruck.1987.DVDRip.XviD-Shoo.ENG:  71%|▋| 5/7 [00:13<00:05, \u001b[A\n",
      "Processing 1988_Moonstruck.1987.DVDRip.XviD-Shoo.ENG:  86%|▊| 6/7 [00:16<00:02, \u001b[A\n",
      "Processing 1988_Moonstruck.1987.DVDRip.XviD-Shoo.ENG: 100%|█| 7/7 [00:18<00:00, \u001b[A\n",
      "Scoring movies:  95%|█████████████████████▊ | 421/443 [3:09:37<06:29, 17.70s/it]\u001b[A"
     ]
    },
    {
     "name": "stdout",
     "output_type": "stream",
     "text": [
      "✅ Finished scoring: 1988_Moonstruck.1987.DVDRip.XviD-Shoo.ENG\n"
     ]
    },
    {
     "name": "stderr",
     "output_type": "stream",
     "text": [
      "\n",
      "Processing 1990_Home.Alone.1990.1080p.BluRay.x264-HD1080.ENG:   0%| | 0/6 [00:00\u001b[A\n",
      "Processing 1990_Home.Alone.1990.1080p.BluRay.x264-HD1080.ENG:  17%|▏| 1/6 [00:02\u001b[A"
     ]
    },
    {
     "name": "stdout",
     "output_type": "stream",
     "text": [
      "⚠️ Rate limit hit. Waiting 60 seconds...\n"
     ]
    },
    {
     "name": "stderr",
     "output_type": "stream",
     "text": [
      "\n",
      "Processing 1990_Home.Alone.1990.1080p.BluRay.x264-HD1080.ENG:  33%|▎| 2/6 [01:05\u001b[A\n",
      "Processing 1990_Home.Alone.1990.1080p.BluRay.x264-HD1080.ENG:  50%|▌| 3/6 [01:08\u001b[A\n",
      "Processing 1990_Home.Alone.1990.1080p.BluRay.x264-HD1080.ENG:  67%|▋| 4/6 [01:11\u001b[A\n",
      "Processing 1990_Home.Alone.1990.1080p.BluRay.x264-HD1080.ENG:  83%|▊| 5/6 [01:13\u001b[A\n",
      "Processing 1990_Home.Alone.1990.1080p.BluRay.x264-HD1080.ENG: 100%|█| 6/6 [01:16\u001b[A\n",
      "Scoring movies:  95%|█████████████████████▉ | 422/443 [3:10:53<12:22, 35.35s/it]\u001b[A"
     ]
    },
    {
     "name": "stdout",
     "output_type": "stream",
     "text": [
      "✅ Finished scoring: 1990_Home.Alone.1990.1080p.BluRay.x264-HD1080.ENG\n"
     ]
    },
    {
     "name": "stderr",
     "output_type": "stream",
     "text": [
      "\n",
      "Processing 1999_Toy.Story.2.1999.DVDRip.XviD-ShitBusters:   0%| | 0/7 [00:00<?, \u001b[A\n",
      "Processing 1999_Toy.Story.2.1999.DVDRip.XviD-ShitBusters:  14%|▏| 1/7 [00:02<00:\u001b[A\n",
      "Processing 1999_Toy.Story.2.1999.DVDRip.XviD-ShitBusters:  29%|▎| 2/7 [00:05<00:\u001b[A\n",
      "Processing 1999_Toy.Story.2.1999.DVDRip.XviD-ShitBusters:  43%|▍| 3/7 [00:08<00:\u001b[A\n",
      "Processing 1999_Toy.Story.2.1999.DVDRip.XviD-ShitBusters:  57%|▌| 4/7 [00:10<00:\u001b[A\n",
      "Processing 1999_Toy.Story.2.1999.DVDRip.XviD-ShitBusters:  71%|▋| 5/7 [00:13<00:\u001b[A\n",
      "Processing 1999_Toy.Story.2.1999.DVDRip.XviD-ShitBusters:  86%|▊| 6/7 [00:16<00:\u001b[A\n",
      "Processing 1999_Toy.Story.2.1999.DVDRip.XviD-ShitBusters: 100%|█| 7/7 [00:19<00:\u001b[A\n",
      "Scoring movies:  95%|█████████████████████▉ | 423/443 [3:11:13<10:09, 30.48s/it]\u001b[A"
     ]
    },
    {
     "name": "stdout",
     "output_type": "stream",
     "text": [
      "✅ Finished scoring: 1999_Toy.Story.2.1999.DVDRip.XviD-ShitBusters\n"
     ]
    },
    {
     "name": "stderr",
     "output_type": "stream",
     "text": [
      "\n",
      "Processing 1992_waynes.world.1992.DVDRip.XviD.FBM.ENG:   0%| | 0/7 [00:00<?, ?it\u001b[A\n",
      "Processing 1992_waynes.world.1992.DVDRip.XviD.FBM.ENG:  14%|▏| 1/7 [00:02<00:14,\u001b[A\n",
      "Processing 1992_waynes.world.1992.DVDRip.XviD.FBM.ENG:  29%|▎| 2/7 [00:05<00:12,\u001b[A\n",
      "Processing 1992_waynes.world.1992.DVDRip.XviD.FBM.ENG:  43%|▍| 3/7 [00:07<00:10,\u001b[A\n",
      "Processing 1992_waynes.world.1992.DVDRip.XviD.FBM.ENG:  57%|▌| 4/7 [00:10<00:07,\u001b[A\n",
      "Processing 1992_waynes.world.1992.DVDRip.XviD.FBM.ENG:  71%|▋| 5/7 [00:13<00:05,\u001b[A\n",
      "Processing 1992_waynes.world.1992.DVDRip.XviD.FBM.ENG:  86%|▊| 6/7 [00:16<00:02,\u001b[A\n",
      "Processing 1992_waynes.world.1992.DVDRip.XviD.FBM.ENG: 100%|█| 7/7 [00:18<00:00,\u001b[A\n",
      "Scoring movies:  96%|██████████████████████ | 424/443 [3:11:31<08:31, 26.92s/it]\u001b[A"
     ]
    },
    {
     "name": "stdout",
     "output_type": "stream",
     "text": [
      "✅ Finished scoring: 1992_waynes.world.1992.DVDRip.XviD.FBM.ENG\n"
     ]
    },
    {
     "name": "stderr",
     "output_type": "stream",
     "text": [
      "\n",
      "Processing 1977_The.Deep.1977.1080p.BluRay.4xRus.Eng.HDCLUB.ENG:   0%| | 0/5 [00\u001b[A\n",
      "Processing 1977_The.Deep.1977.1080p.BluRay.4xRus.Eng.HDCLUB.ENG:  20%|▏| 1/5 [00\u001b[A\n",
      "Processing 1977_The.Deep.1977.1080p.BluRay.4xRus.Eng.HDCLUB.ENG:  40%|▍| 2/5 [00\u001b[A\n",
      "Processing 1977_The.Deep.1977.1080p.BluRay.4xRus.Eng.HDCLUB.ENG:  60%|▌| 3/5 [00\u001b[A\n",
      "Processing 1977_The.Deep.1977.1080p.BluRay.4xRus.Eng.HDCLUB.ENG:  80%|▊| 4/5 [00\u001b[A\n",
      "Processing 1977_The.Deep.1977.1080p.BluRay.4xRus.Eng.HDCLUB.ENG: 100%|█| 5/5 [00\u001b[A\n",
      "Scoring movies:  96%|██████████████████████ | 425/443 [3:11:43<06:45, 22.53s/it]\u001b[A"
     ]
    },
    {
     "name": "stdout",
     "output_type": "stream",
     "text": [
      "✅ Finished scoring: 1977_The.Deep.1977.1080p.BluRay.4xRus.Eng.HDCLUB.ENG\n"
     ]
    },
    {
     "name": "stderr",
     "output_type": "stream",
     "text": [
      "\n",
      "Processing 2001_Rush.Hour.2.2001.720p.BluRay.X264-AMIABLE:   0%| | 0/6 [00:00<?,\u001b[A\n",
      "Processing 2001_Rush.Hour.2.2001.720p.BluRay.X264-AMIABLE:  17%|▏| 1/6 [00:02<00\u001b[A\n",
      "Processing 2001_Rush.Hour.2.2001.720p.BluRay.X264-AMIABLE:  33%|▎| 2/6 [00:05<00\u001b[A\n",
      "Processing 2001_Rush.Hour.2.2001.720p.BluRay.X264-AMIABLE:  50%|▌| 3/6 [00:07<00\u001b[A\n",
      "Processing 2001_Rush.Hour.2.2001.720p.BluRay.X264-AMIABLE:  67%|▋| 4/6 [00:10<00\u001b[A\n",
      "Processing 2001_Rush.Hour.2.2001.720p.BluRay.X264-AMIABLE:  83%|▊| 5/6 [00:13<00\u001b[A\n",
      "Processing 2001_Rush.Hour.2.2001.720p.BluRay.X264-AMIABLE: 100%|█| 6/6 [00:15<00\u001b[A\n",
      "Scoring movies:  96%|██████████████████████ | 426/443 [3:11:59<05:48, 20.51s/it]\u001b[A"
     ]
    },
    {
     "name": "stdout",
     "output_type": "stream",
     "text": [
      "✅ Finished scoring: 2001_Rush.Hour.2.2001.720p.BluRay.X264-AMIABLE\n"
     ]
    },
    {
     "name": "stderr",
     "output_type": "stream",
     "text": [
      "\n",
      "Processing 2014_Transformers.Age.of.Extinction.2014.720p.BluRay.x264-BLOW:   0%|\u001b[A\n",
      "Processing 2014_Transformers.Age.of.Extinction.2014.720p.BluRay.x264-BLOW:   8%|\u001b[A\n",
      "Processing 2014_Transformers.Age.of.Extinction.2014.720p.BluRay.x264-BLOW:  15%|\u001b[A\n",
      "Processing 2014_Transformers.Age.of.Extinction.2014.720p.BluRay.x264-BLOW:  23%|\u001b[A\n",
      "Processing 2014_Transformers.Age.of.Extinction.2014.720p.BluRay.x264-BLOW:  31%|\u001b[A\n",
      "Processing 2014_Transformers.Age.of.Extinction.2014.720p.BluRay.x264-BLOW:  38%|\u001b[A\n",
      "Processing 2014_Transformers.Age.of.Extinction.2014.720p.BluRay.x264-BLOW:  46%|\u001b[A\n",
      "Processing 2014_Transformers.Age.of.Extinction.2014.720p.BluRay.x264-BLOW:  54%|\u001b[A\n",
      "Processing 2014_Transformers.Age.of.Extinction.2014.720p.BluRay.x264-BLOW:  62%|\u001b[A\n",
      "Processing 2014_Transformers.Age.of.Extinction.2014.720p.BluRay.x264-BLOW:  69%|\u001b[A\n",
      "Processing 2014_Transformers.Age.of.Extinction.2014.720p.BluRay.x264-BLOW:  77%|\u001b[A\n",
      "Processing 2014_Transformers.Age.of.Extinction.2014.720p.BluRay.x264-BLOW:  85%|\u001b[A\n",
      "Processing 2014_Transformers.Age.of.Extinction.2014.720p.BluRay.x264-BLOW:  92%|\u001b[A\n",
      "Processing 2014_Transformers.Age.of.Extinction.2014.720p.BluRay.x264-BLOW: 100%|\u001b[A\n",
      "Scoring movies:  96%|██████████████████████▏| 427/443 [3:12:33<06:29, 24.35s/it]\u001b[A"
     ]
    },
    {
     "name": "stdout",
     "output_type": "stream",
     "text": [
      "✅ Finished scoring: 2014_Transformers.Age.of.Extinction.2014.720p.BluRay.x264-BLOW\n"
     ]
    },
    {
     "name": "stderr",
     "output_type": "stream",
     "text": [
      "\n",
      "Processing 1981_Bustin Loose (1981) - LordSadler:   0%|   | 0/8 [00:00<?, ?it/s]\u001b[A\n",
      "Processing 1981_Bustin Loose (1981) - LordSadler:  12%|▏| 1/8 [00:02<00:18,  2.5\u001b[A"
     ]
    },
    {
     "name": "stdout",
     "output_type": "stream",
     "text": [
      "⚠️ Rate limit hit. Waiting 60 seconds...\n"
     ]
    },
    {
     "name": "stderr",
     "output_type": "stream",
     "text": [
      "\n",
      "Processing 1981_Bustin Loose (1981) - LordSadler:  25%|▎| 2/8 [01:05<03:48, 38.1\u001b[A\n",
      "Processing 1981_Bustin Loose (1981) - LordSadler:  38%|▍| 3/8 [01:08<01:49, 21.9\u001b[A\n",
      "Processing 1981_Bustin Loose (1981) - LordSadler:  50%|▌| 4/8 [01:11<00:58, 14.6\u001b[A\n",
      "Processing 1981_Bustin Loose (1981) - LordSadler:  62%|▋| 5/8 [01:14<00:30, 10.3\u001b[A\n",
      "Processing 1981_Bustin Loose (1981) - LordSadler:  75%|▊| 6/8 [01:16<00:15,  7.6\u001b[A\n",
      "Processing 1981_Bustin Loose (1981) - LordSadler:  88%|▉| 7/8 [01:20<00:06,  6.3\u001b[A\n",
      "Processing 1981_Bustin Loose (1981) - LordSadler: 100%|█| 8/8 [01:22<00:00,  5.1\u001b[A\n",
      "Scoring movies:  97%|██████████████████████▏| 428/443 [3:13:56<10:29, 41.94s/it]\u001b[A"
     ]
    },
    {
     "name": "stdout",
     "output_type": "stream",
     "text": [
      "✅ Finished scoring: 1981_Bustin Loose (1981) - LordSadler\n"
     ]
    },
    {
     "name": "stderr",
     "output_type": "stream",
     "text": [
      "\n",
      "Processing 2006_Cars.2006.BRRip.XviD.AC3.D-Z0N3:   0%|    | 0/9 [00:00<?, ?it/s]\u001b[A\n",
      "Processing 2006_Cars.2006.BRRip.XviD.AC3.D-Z0N3:  11%| | 1/9 [00:02<00:21,  2.70\u001b[A\n",
      "Processing 2006_Cars.2006.BRRip.XviD.AC3.D-Z0N3:  22%|▏| 2/9 [00:05<00:19,  2.75\u001b[A\n",
      "Processing 2006_Cars.2006.BRRip.XviD.AC3.D-Z0N3:  33%|▎| 3/9 [00:07<00:15,  2.60\u001b[A\n",
      "Processing 2006_Cars.2006.BRRip.XviD.AC3.D-Z0N3:  44%|▍| 4/9 [00:10<00:12,  2.56\u001b[A\n",
      "Processing 2006_Cars.2006.BRRip.XviD.AC3.D-Z0N3:  56%|▌| 5/9 [00:12<00:10,  2.51\u001b[A\n",
      "Processing 2006_Cars.2006.BRRip.XviD.AC3.D-Z0N3:  67%|▋| 6/9 [00:15<00:07,  2.59\u001b[A\n",
      "Processing 2006_Cars.2006.BRRip.XviD.AC3.D-Z0N3:  78%|▊| 7/9 [00:18<00:05,  2.60\u001b[A\n",
      "Processing 2006_Cars.2006.BRRip.XviD.AC3.D-Z0N3:  89%|▉| 8/9 [00:20<00:02,  2.57\u001b[A\n",
      "Processing 2006_Cars.2006.BRRip.XviD.AC3.D-Z0N3: 100%|█| 9/9 [00:23<00:00,  2.52\u001b[A\n",
      "Scoring movies:  97%|██████████████████████▎| 429/443 [3:14:19<08:28, 36.30s/it]\u001b[A"
     ]
    },
    {
     "name": "stdout",
     "output_type": "stream",
     "text": [
      "✅ Finished scoring: 2006_Cars.2006.BRRip.XviD.AC3.D-Z0N3\n"
     ]
    },
    {
     "name": "stderr",
     "output_type": "stream",
     "text": [
      "\n",
      "Processing 2012_The.Twilight.Saga.Breaking.Dawn.Part.2.2012.NEW.TS.XviD.AC3-ADTR\u001b[A\n",
      "Processing 2012_The.Twilight.Saga.Breaking.Dawn.Part.2.2012.NEW.TS.XviD.AC3-ADTR\u001b[A\n",
      "Processing 2012_The.Twilight.Saga.Breaking.Dawn.Part.2.2012.NEW.TS.XviD.AC3-ADTR\u001b[A\n",
      "Processing 2012_The.Twilight.Saga.Breaking.Dawn.Part.2.2012.NEW.TS.XviD.AC3-ADTR\u001b[A\n",
      "Processing 2012_The.Twilight.Saga.Breaking.Dawn.Part.2.2012.NEW.TS.XviD.AC3-ADTR\u001b[A\n",
      "Processing 2012_The.Twilight.Saga.Breaking.Dawn.Part.2.2012.NEW.TS.XviD.AC3-ADTR\u001b[A\n",
      "Scoring movies:  97%|██████████████████████▎| 430/443 [3:14:33<06:26, 29.72s/it]\u001b[A"
     ]
    },
    {
     "name": "stdout",
     "output_type": "stream",
     "text": [
      "✅ Finished scoring: 2012_The.Twilight.Saga.Breaking.Dawn.Part.2.2012.NEW.TS.XviD.AC3-ADTRG\n"
     ]
    },
    {
     "name": "stderr",
     "output_type": "stream",
     "text": [
      "\n",
      "Processing 2013_Gravity.2013.BluRay.720p.x264.DTS-HDWinG:   0%| | 0/5 [00:00<?, \u001b[A\n",
      "Processing 2013_Gravity.2013.BluRay.720p.x264.DTS-HDWinG:  20%|▏| 1/5 [00:02<00:\u001b[A\n",
      "Processing 2013_Gravity.2013.BluRay.720p.x264.DTS-HDWinG:  40%|▍| 2/5 [00:05<00:\u001b[A\n",
      "Processing 2013_Gravity.2013.BluRay.720p.x264.DTS-HDWinG:  60%|▌| 3/5 [00:08<00:\u001b[A\n",
      "Processing 2013_Gravity.2013.BluRay.720p.x264.DTS-HDWinG:  80%|▊| 4/5 [00:11<00:\u001b[A\n",
      "Processing 2013_Gravity.2013.BluRay.720p.x264.DTS-HDWinG: 100%|█| 5/5 [00:14<00:\u001b[A\n",
      "Scoring movies:  97%|██████████████████████▍| 431/443 [3:14:47<05:00, 25.08s/it]\u001b[A"
     ]
    },
    {
     "name": "stdout",
     "output_type": "stream",
     "text": [
      "✅ Finished scoring: 2013_Gravity.2013.BluRay.720p.x264.DTS-HDWinG\n"
     ]
    },
    {
     "name": "stderr",
     "output_type": "stream",
     "text": [
      "\n",
      "Processing 2021_F9. The. Fast. Saga. 2021. THEATRICAL. 1080p. BluRay. x264-RUSTE\u001b[A\n",
      "Processing 2021_F9. The. Fast. Saga. 2021. THEATRICAL. 1080p. BluRay. x264-RUSTE\u001b[A\n",
      "Processing 2021_F9. The. Fast. Saga. 2021. THEATRICAL. 1080p. BluRay. x264-RUSTE\u001b[A\n",
      "Processing 2021_F9. The. Fast. Saga. 2021. THEATRICAL. 1080p. BluRay. x264-RUSTE\u001b[A\n",
      "Processing 2021_F9. The. Fast. Saga. 2021. THEATRICAL. 1080p. BluRay. x264-RUSTE\u001b[A\n",
      "Processing 2021_F9. The. Fast. Saga. 2021. THEATRICAL. 1080p. BluRay. x264-RUSTE\u001b[A\n",
      "Processing 2021_F9. The. Fast. Saga. 2021. THEATRICAL. 1080p. BluRay. x264-RUSTE\u001b[A\n",
      "Processing 2021_F9. The. Fast. Saga. 2021. THEATRICAL. 1080p. BluRay. x264-RUSTE\u001b[A\n",
      "Processing 2021_F9. The. Fast. Saga. 2021. THEATRICAL. 1080p. BluRay. x264-RUSTE\u001b[A\n",
      "Processing 2021_F9. The. Fast. Saga. 2021. THEATRICAL. 1080p. BluRay. x264-RUSTE\u001b[A\n",
      "Scoring movies:  98%|██████████████████████▍| 432/443 [3:15:14<04:39, 25.41s/it]\u001b[A"
     ]
    },
    {
     "name": "stdout",
     "output_type": "stream",
     "text": [
      "✅ Finished scoring: 2021_F9. The. Fast. Saga. 2021. THEATRICAL. 1080p. BluRay. x264-RUSTED\n"
     ]
    },
    {
     "name": "stderr",
     "output_type": "stream",
     "text": [
      "\n",
      "Processing 2009_The.Twilight.Saga.New.Moon.2009.Bluray.1080p.DTSMA.x264.dxva-Fra\u001b[A\n",
      "Processing 2009_The.Twilight.Saga.New.Moon.2009.Bluray.1080p.DTSMA.x264.dxva-Fra\u001b[A\n",
      "Processing 2009_The.Twilight.Saga.New.Moon.2009.Bluray.1080p.DTSMA.x264.dxva-Fra\u001b[A\n",
      "Processing 2009_The.Twilight.Saga.New.Moon.2009.Bluray.1080p.DTSMA.x264.dxva-Fra\u001b[A\n",
      "Processing 2009_The.Twilight.Saga.New.Moon.2009.Bluray.1080p.DTSMA.x264.dxva-Fra\u001b[A\n",
      "Processing 2009_The.Twilight.Saga.New.Moon.2009.Bluray.1080p.DTSMA.x264.dxva-Fra\u001b[A\n",
      "Processing 2009_The.Twilight.Saga.New.Moon.2009.Bluray.1080p.DTSMA.x264.dxva-Fra\u001b[A\n",
      "Processing 2009_The.Twilight.Saga.New.Moon.2009.Bluray.1080p.DTSMA.x264.dxva-Fra\u001b[A\n",
      "Processing 2009_The.Twilight.Saga.New.Moon.2009.Bluray.1080p.DTSMA.x264.dxva-Fra\u001b[A\n",
      "Scoring movies:  98%|██████████████████████▍| 433/443 [3:15:34<03:59, 23.96s/it]\u001b[A"
     ]
    },
    {
     "name": "stdout",
     "output_type": "stream",
     "text": [
      "✅ Finished scoring: 2009_The.Twilight.Saga.New.Moon.2009.Bluray.1080p.DTSMA.x264.dxva-FraMeSToR.ENG\n"
     ]
    },
    {
     "name": "stderr",
     "output_type": "stream",
     "text": [
      "\n",
      "Processing 1992_A LEAGUE OF THEIR OWN [1992][MP3][DVDRIP-M333]-FLAWL3SS:   0%| |\u001b[A\n",
      "Processing 1992_A LEAGUE OF THEIR OWN [1992][MP3][DVDRIP-M333]-FLAWL3SS:  10%| |\u001b[A\n",
      "Processing 1992_A LEAGUE OF THEIR OWN [1992][MP3][DVDRIP-M333]-FLAWL3SS:  20%|▏|\u001b[A"
     ]
    },
    {
     "name": "stdout",
     "output_type": "stream",
     "text": [
      "⚠️ Rate limit hit. Waiting 60 seconds...\n"
     ]
    },
    {
     "name": "stderr",
     "output_type": "stream",
     "text": [
      "\n",
      "Processing 1992_A LEAGUE OF THEIR OWN [1992][MP3][DVDRIP-M333]-FLAWL3SS:  30%|▎|\u001b[A\n",
      "Processing 1992_A LEAGUE OF THEIR OWN [1992][MP3][DVDRIP-M333]-FLAWL3SS:  40%|▍|\u001b[A\n",
      "Processing 1992_A LEAGUE OF THEIR OWN [1992][MP3][DVDRIP-M333]-FLAWL3SS:  50%|▌|\u001b[A\n",
      "Processing 1992_A LEAGUE OF THEIR OWN [1992][MP3][DVDRIP-M333]-FLAWL3SS:  60%|▌|\u001b[A\n",
      "Processing 1992_A LEAGUE OF THEIR OWN [1992][MP3][DVDRIP-M333]-FLAWL3SS:  70%|▋|\u001b[A\n",
      "Processing 1992_A LEAGUE OF THEIR OWN [1992][MP3][DVDRIP-M333]-FLAWL3SS:  80%|▊|\u001b[A\n",
      "Processing 1992_A LEAGUE OF THEIR OWN [1992][MP3][DVDRIP-M333]-FLAWL3SS:  90%|▉|\u001b[A\n",
      "Processing 1992_A LEAGUE OF THEIR OWN [1992][MP3][DVDRIP-M333]-FLAWL3SS: 100%|█|\u001b[A\n",
      "Scoring movies:  98%|██████████████████████▌| 434/443 [3:17:01<06:25, 42.83s/it]\u001b[A"
     ]
    },
    {
     "name": "stdout",
     "output_type": "stream",
     "text": [
      "✅ Finished scoring: 1992_A LEAGUE OF THEIR OWN [1992][MP3][DVDRIP-M333]-FLAWL3SS\n"
     ]
    },
    {
     "name": "stderr",
     "output_type": "stream",
     "text": [
      "\n",
      "Processing 1997_The.Lost.World.Jurassic.Park.1997.m-HD.AAC.Roboris.eng:   0%| | \u001b[A\n",
      "Processing 1997_The.Lost.World.Jurassic.Park.1997.m-HD.AAC.Roboris.eng:  17%|▏| \u001b[A\n",
      "Processing 1997_The.Lost.World.Jurassic.Park.1997.m-HD.AAC.Roboris.eng:  33%|▎| \u001b[A\n",
      "Processing 1997_The.Lost.World.Jurassic.Park.1997.m-HD.AAC.Roboris.eng:  50%|▌| \u001b[A\n",
      "Processing 1997_The.Lost.World.Jurassic.Park.1997.m-HD.AAC.Roboris.eng:  67%|▋| \u001b[A\n",
      "Processing 1997_The.Lost.World.Jurassic.Park.1997.m-HD.AAC.Roboris.eng:  83%|▊| \u001b[A\n",
      "Processing 1997_The.Lost.World.Jurassic.Park.1997.m-HD.AAC.Roboris.eng: 100%|█| \u001b[A\n",
      "Scoring movies:  98%|██████████████████████▌| 435/443 [3:17:17<04:38, 34.81s/it]\u001b[A"
     ]
    },
    {
     "name": "stdout",
     "output_type": "stream",
     "text": [
      "✅ Finished scoring: 1997_The.Lost.World.Jurassic.Park.1997.m-HD.AAC.Roboris.eng\n"
     ]
    },
    {
     "name": "stderr",
     "output_type": "stream",
     "text": [
      "\n",
      "Processing 1979_Rocky II:   0%|                          | 0/11 [00:00<?, ?it/s]\u001b[A\n",
      "Processing 1979_Rocky II:   9%|█▋                | 1/11 [00:02<00:25,  2.59s/it]\u001b[A\n",
      "Processing 1979_Rocky II:  18%|███▎              | 2/11 [00:05<00:22,  2.54s/it]\u001b[A\n",
      "Processing 1979_Rocky II:  27%|████▉             | 3/11 [00:07<00:20,  2.50s/it]\u001b[A\n",
      "Processing 1979_Rocky II:  36%|██████▌           | 4/11 [00:10<00:17,  2.49s/it]\u001b[A\n",
      "Processing 1979_Rocky II:  45%|████████▏         | 5/11 [00:12<00:15,  2.57s/it]\u001b[A\n",
      "Processing 1979_Rocky II:  55%|█████████▊        | 6/11 [00:15<00:12,  2.59s/it]\u001b[A\n",
      "Processing 1979_Rocky II:  64%|███████████▍      | 7/11 [00:18<00:10,  2.65s/it]\u001b[A\n",
      "Processing 1979_Rocky II:  73%|█████████████     | 8/11 [00:20<00:07,  2.61s/it]\u001b[A\n",
      "Processing 1979_Rocky II:  82%|██████████████▋   | 9/11 [00:23<00:05,  2.64s/it]\u001b[A\n",
      "Processing 1979_Rocky II:  91%|███████████████▍ | 10/11 [00:26<00:02,  2.75s/it]\u001b[A\n",
      "Processing 1979_Rocky II: 100%|█████████████████| 11/11 [00:28<00:00,  2.63s/it]\u001b[A\n",
      "Scoring movies:  98%|██████████████████████▋| 436/443 [3:17:46<03:50, 32.99s/it]\u001b[A"
     ]
    },
    {
     "name": "stdout",
     "output_type": "stream",
     "text": [
      "✅ Finished scoring: 1979_Rocky II\n"
     ]
    },
    {
     "name": "stderr",
     "output_type": "stream",
     "text": [
      "\n",
      "Processing 1999_The.Sixth.Sense.1999.REMASTERED.720p.BluRay.x264-iLLUSiON:   0%|\u001b[A\n",
      "Processing 1999_The.Sixth.Sense.1999.REMASTERED.720p.BluRay.x264-iLLUSiON:  20%|\u001b[A\n",
      "Processing 1999_The.Sixth.Sense.1999.REMASTERED.720p.BluRay.x264-iLLUSiON:  40%|\u001b[A\n",
      "Processing 1999_The.Sixth.Sense.1999.REMASTERED.720p.BluRay.x264-iLLUSiON:  60%|\u001b[A\n",
      "Processing 1999_The.Sixth.Sense.1999.REMASTERED.720p.BluRay.x264-iLLUSiON:  80%|\u001b[A\n",
      "Processing 1999_The.Sixth.Sense.1999.REMASTERED.720p.BluRay.x264-iLLUSiON: 100%|\u001b[A\n",
      "Scoring movies:  99%|██████████████████████▋| 437/443 [3:17:59<02:42, 27.04s/it]\u001b[A"
     ]
    },
    {
     "name": "stdout",
     "output_type": "stream",
     "text": [
      "✅ Finished scoring: 1999_The.Sixth.Sense.1999.REMASTERED.720p.BluRay.x264-iLLUSiON\n"
     ]
    },
    {
     "name": "stderr",
     "output_type": "stream",
     "text": [
      "\n",
      "Processing 1983_WarGames.1983.1080p.BluRay.H264.AAC-RARBG.Hi:   0%| | 0/9 [00:00\u001b[A\n",
      "Processing 1983_WarGames.1983.1080p.BluRay.H264.AAC-RARBG.Hi:  11%| | 1/9 [00:02\u001b[A\n",
      "Processing 1983_WarGames.1983.1080p.BluRay.H264.AAC-RARBG.Hi:  22%|▏| 2/9 [00:05\u001b[A\n",
      "Processing 1983_WarGames.1983.1080p.BluRay.H264.AAC-RARBG.Hi:  33%|▎| 3/9 [00:07\u001b[A\n",
      "Processing 1983_WarGames.1983.1080p.BluRay.H264.AAC-RARBG.Hi:  44%|▍| 4/9 [00:09\u001b[A\n",
      "Processing 1983_WarGames.1983.1080p.BluRay.H264.AAC-RARBG.Hi:  56%|▌| 5/9 [00:13\u001b[A\n",
      "Processing 1983_WarGames.1983.1080p.BluRay.H264.AAC-RARBG.Hi:  67%|▋| 6/9 [00:15\u001b[A\n",
      "Processing 1983_WarGames.1983.1080p.BluRay.H264.AAC-RARBG.Hi:  78%|▊| 7/9 [00:18\u001b[A\n",
      "Processing 1983_WarGames.1983.1080p.BluRay.H264.AAC-RARBG.Hi:  89%|▉| 8/9 [00:20\u001b[A\n",
      "Processing 1983_WarGames.1983.1080p.BluRay.H264.AAC-RARBG.Hi: 100%|█| 9/9 [00:23\u001b[A\n",
      "Scoring movies:  99%|██████████████████████▋| 438/443 [3:18:22<02:09, 25.95s/it]\u001b[A"
     ]
    },
    {
     "name": "stdout",
     "output_type": "stream",
     "text": [
      "✅ Finished scoring: 1983_WarGames.1983.1080p.BluRay.H264.AAC-RARBG.Hi\n"
     ]
    },
    {
     "name": "stderr",
     "output_type": "stream",
     "text": [
      "\n",
      "Processing 2019_Frozen.II.2019.DVDScr.XVID.AC3.HQ.Hive-CM8:   0%| | 0/9 [00:00<?\u001b[A\n",
      "Processing 2019_Frozen.II.2019.DVDScr.XVID.AC3.HQ.Hive-CM8:  11%| | 1/9 [00:02<0\u001b[A\n",
      "Processing 2019_Frozen.II.2019.DVDScr.XVID.AC3.HQ.Hive-CM8:  22%|▏| 2/9 [00:04<0\u001b[A\n",
      "Processing 2019_Frozen.II.2019.DVDScr.XVID.AC3.HQ.Hive-CM8:  33%|▎| 3/9 [00:07<0\u001b[A\n",
      "Processing 2019_Frozen.II.2019.DVDScr.XVID.AC3.HQ.Hive-CM8:  44%|▍| 4/9 [00:09<0\u001b[A\n",
      "Processing 2019_Frozen.II.2019.DVDScr.XVID.AC3.HQ.Hive-CM8:  56%|▌| 5/9 [00:12<0\u001b[A\n",
      "Processing 2019_Frozen.II.2019.DVDScr.XVID.AC3.HQ.Hive-CM8:  67%|▋| 6/9 [00:16<0\u001b[A\n",
      "Processing 2019_Frozen.II.2019.DVDScr.XVID.AC3.HQ.Hive-CM8:  78%|▊| 7/9 [00:18<0\u001b[A\n",
      "Processing 2019_Frozen.II.2019.DVDScr.XVID.AC3.HQ.Hive-CM8:  89%|▉| 8/9 [00:21<0\u001b[A\n",
      "Processing 2019_Frozen.II.2019.DVDScr.XVID.AC3.HQ.Hive-CM8: 100%|█| 9/9 [00:24<0\u001b[A\n",
      "Scoring movies:  99%|██████████████████████▊| 439/443 [3:18:47<01:41, 25.49s/it]\u001b[A"
     ]
    },
    {
     "name": "stdout",
     "output_type": "stream",
     "text": [
      "✅ Finished scoring: 2019_Frozen.II.2019.DVDScr.XVID.AC3.HQ.Hive-CM8\n"
     ]
    },
    {
     "name": "stderr",
     "output_type": "stream",
     "text": [
      "\n",
      "Processing 1990_Ghost:   0%|                              | 0/8 [00:00<?, ?it/s]\u001b[A\n",
      "Processing 1990_Ghost:  12%|██▊                   | 1/8 [00:02<00:17,  2.46s/it]\u001b[A\n",
      "Processing 1990_Ghost:  25%|█████▌                | 2/8 [00:04<00:14,  2.45s/it]\u001b[A\n",
      "Processing 1990_Ghost:  38%|████████▎             | 3/8 [00:07<00:12,  2.49s/it]\u001b[A\n",
      "Processing 1990_Ghost:  50%|███████████           | 4/8 [00:10<00:10,  2.57s/it]\u001b[A\n",
      "Processing 1990_Ghost:  62%|█████████████▊        | 5/8 [00:12<00:07,  2.53s/it]\u001b[A\n",
      "Processing 1990_Ghost:  75%|████████████████▌     | 6/8 [00:15<00:05,  2.51s/it]\u001b[A"
     ]
    },
    {
     "name": "stdout",
     "output_type": "stream",
     "text": [
      "⚠️ Rate limit hit. Waiting 60 seconds...\n"
     ]
    },
    {
     "name": "stderr",
     "output_type": "stream",
     "text": [
      "\n",
      "Processing 1990_Ghost:  88%|███████████████████▎  | 7/8 [01:18<00:22, 22.44s/it]\u001b[A\n",
      "Processing 1990_Ghost: 100%|██████████████████████| 8/8 [01:21<00:00, 16.11s/it]\u001b[A\n",
      "Scoring movies:  99%|██████████████████████▊| 440/443 [3:20:08<02:06, 42.18s/it]\u001b[A"
     ]
    },
    {
     "name": "stdout",
     "output_type": "stream",
     "text": [
      "✅ Finished scoring: 1990_Ghost\n"
     ]
    },
    {
     "name": "stderr",
     "output_type": "stream",
     "text": [
      "\n",
      "Processing 2021_Ghostbusters.Afterlife.2021.1080p.AMZN.WEB-DL.DDP5.1.H.264-EVO: \u001b[A\n",
      "Processing 2021_Ghostbusters.Afterlife.2021.1080p.AMZN.WEB-DL.DDP5.1.H.264-EVO: \u001b[A\n",
      "Processing 2021_Ghostbusters.Afterlife.2021.1080p.AMZN.WEB-DL.DDP5.1.H.264-EVO: \u001b[A\n",
      "Processing 2021_Ghostbusters.Afterlife.2021.1080p.AMZN.WEB-DL.DDP5.1.H.264-EVO: \u001b[A\n",
      "Processing 2021_Ghostbusters.Afterlife.2021.1080p.AMZN.WEB-DL.DDP5.1.H.264-EVO: \u001b[A\n",
      "Processing 2021_Ghostbusters.Afterlife.2021.1080p.AMZN.WEB-DL.DDP5.1.H.264-EVO: \u001b[A\n",
      "Processing 2021_Ghostbusters.Afterlife.2021.1080p.AMZN.WEB-DL.DDP5.1.H.264-EVO: \u001b[A\n",
      "Processing 2021_Ghostbusters.Afterlife.2021.1080p.AMZN.WEB-DL.DDP5.1.H.264-EVO: \u001b[A\n",
      "Processing 2021_Ghostbusters.Afterlife.2021.1080p.AMZN.WEB-DL.DDP5.1.H.264-EVO: \u001b[A\n",
      "Scoring movies: 100%|██████████████████████▉| 441/443 [3:20:29<01:11, 35.84s/it]\u001b[A"
     ]
    },
    {
     "name": "stdout",
     "output_type": "stream",
     "text": [
      "✅ Finished scoring: 2021_Ghostbusters.Afterlife.2021.1080p.AMZN.WEB-DL.DDP5.1.H.264-EVO\n"
     ]
    },
    {
     "name": "stderr",
     "output_type": "stream",
     "text": [
      "\n",
      "Processing 2006_Over.The.Hedge[2006]DvDrip.AC3[Eng]-aXXo:   0%| | 0/4 [00:00<?, \u001b[A\n",
      "Processing 2006_Over.The.Hedge[2006]DvDrip.AC3[Eng]-aXXo:  25%|▎| 1/4 [00:02<00:\u001b[A\n",
      "Processing 2006_Over.The.Hedge[2006]DvDrip.AC3[Eng]-aXXo:  50%|▌| 2/4 [00:05<00:\u001b[A\n",
      "Processing 2006_Over.The.Hedge[2006]DvDrip.AC3[Eng]-aXXo:  75%|▊| 3/4 [00:08<00:\u001b[A\n",
      "Processing 2006_Over.The.Hedge[2006]DvDrip.AC3[Eng]-aXXo: 100%|█| 4/4 [00:10<00:\u001b[A\n",
      "Scoring movies: 100%|██████████████████████▉| 442/443 [3:20:40<00:28, 28.37s/it]\u001b[A"
     ]
    },
    {
     "name": "stdout",
     "output_type": "stream",
     "text": [
      "✅ Finished scoring: 2006_Over.The.Hedge[2006]DvDrip.AC3[Eng]-aXXo\n"
     ]
    },
    {
     "name": "stderr",
     "output_type": "stream",
     "text": [
      "\n",
      "Processing 1987_Fatal Attraction 1987 1080p BluRay Remux AVC TrueHD 5. 1 COMM-KE\u001b[A\n",
      "Processing 1987_Fatal Attraction 1987 1080p BluRay Remux AVC TrueHD 5. 1 COMM-KE\u001b[A\n",
      "Processing 1987_Fatal Attraction 1987 1080p BluRay Remux AVC TrueHD 5. 1 COMM-KE\u001b[A\n",
      "Processing 1987_Fatal Attraction 1987 1080p BluRay Remux AVC TrueHD 5. 1 COMM-KE\u001b[A\n",
      "Processing 1987_Fatal Attraction 1987 1080p BluRay Remux AVC TrueHD 5. 1 COMM-KE\u001b[A\n",
      "Processing 1987_Fatal Attraction 1987 1080p BluRay Remux AVC TrueHD 5. 1 COMM-KE\u001b[A\n",
      "Processing 1987_Fatal Attraction 1987 1080p BluRay Remux AVC TrueHD 5. 1 COMM-KE\u001b[A\n",
      "Processing 1987_Fatal Attraction 1987 1080p BluRay Remux AVC TrueHD 5. 1 COMM-KE\u001b[A\n",
      "Scoring movies: 100%|███████████████████████| 443/443 [3:20:59<00:00, 27.22s/it]\u001b[A"
     ]
    },
    {
     "name": "stdout",
     "output_type": "stream",
     "text": [
      "✅ Finished scoring: 1987_Fatal Attraction 1987 1080p BluRay Remux AVC TrueHD 5. 1 COMM-KESH. EN 23. 976\n",
      "\n",
      "🎉 All done! Movies scored without missing chunks!\n"
     ]
    },
    {
     "name": "stderr",
     "output_type": "stream",
     "text": [
      "\n"
     ]
    }
   ],
   "source": [
    "import os\n",
    "import json\n",
    "import time\n",
    "import requests\n",
    "from pathlib import Path\n",
    "from tqdm import tqdm\n",
    "\n",
    "# === API setup ===\n",
    "api_key = \"apikey\"  # 👈 Insert your API key here\n",
    "api_url = \"https://api.anthropic.com/v1/messages\"\n",
    "model_name = \"claude-3-haiku-20240307\"\n",
    "\n",
    "headers = {\n",
    "    \"x-api-key\": api_key,\n",
    "    \"anthropic-version\": \"2023-06-01\",\n",
    "    \"content-type\": \"application/json\",\n",
    "}\n",
    "\n",
    "# === Paths ===\n",
    "base_path = Path.home() / \"Desktop\" / \"processed_subs\"\n",
    "prompts_dir = base_path / \"prompts_claude_new\"\n",
    "output_dir = base_path / \"scored_prompts_claude_new\"\n",
    "output_dir.mkdir(parents=True, exist_ok=True)\n",
    "\n",
    "# === Helper: call Claude ===\n",
    "def call_claude(prompt):\n",
    "    payload = {\n",
    "        \"model\": model_name,\n",
    "        \"max_tokens\": 512,\n",
    "        \"temperature\": 0,\n",
    "        \"system\": \"You are a political sentiment scorer. Always respond ONLY with the exact JSON format requested.\",\n",
    "        \"messages\": [{\"role\": \"user\", \"content\": prompt}]\n",
    "    }\n",
    "    \n",
    "    response = requests.post(api_url, headers=headers, json=payload)\n",
    "    \n",
    "    if response.status_code == 429:\n",
    "        print(f\"⚠️ Rate limit hit. Waiting 60 seconds...\")\n",
    "        time.sleep(60)\n",
    "        return call_claude(prompt)  # Retry once after waiting\n",
    "    \n",
    "    if response.status_code != 200:\n",
    "        print(f\"⚠️ API Error {response.status_code}: {response.text}\")\n",
    "        return None\n",
    "    \n",
    "    data = response.json()\n",
    "    content = data[\"content\"][0][\"text\"]\n",
    "    \n",
    "    try:\n",
    "        return json.loads(content)\n",
    "    except json.JSONDecodeError:\n",
    "        print(f\"⚠️ JSON parsing error: {content}\")\n",
    "        return None\n",
    "\n",
    "# === Main Scoring Loop ===\n",
    "prompt_files = list(prompts_dir.glob(\"*.json\"))\n",
    "print(f\"Found {len(prompt_files)} prompt files.\")\n",
    "\n",
    "for prompt_file in tqdm(prompt_files, desc=\"Scoring movies\"):\n",
    "    filename_stem = prompt_file.stem.replace(\"_prompts\", \"\")\n",
    "    output_path = output_dir / f\"{filename_stem}_scored.json\"\n",
    "    \n",
    "    with open(prompt_file, \"r\", encoding=\"utf-8\") as f:\n",
    "        prompts_data = json.load(f)\n",
    "    \n",
    "    # Check if already scored and completed\n",
    "    if output_path.exists():\n",
    "        with open(output_path, \"r\", encoding=\"utf-8\") as f:\n",
    "            existing_scored = json.load(f)\n",
    "        \n",
    "        if len(existing_scored) >= len(prompts_data):\n",
    "            print(f\"✅ {filename_stem} already fully scored, skipping.\")\n",
    "            continue\n",
    "        else:\n",
    "            print(f\"🔄 {filename_stem} partially scored, resuming...\")\n",
    "    else:\n",
    "        existing_scored = []\n",
    "    \n",
    "    # Resume from the last chunk scored\n",
    "    scored_chunks = existing_scored.copy()\n",
    "    start_idx = len(existing_scored)\n",
    "    \n",
    "    for entry in tqdm(prompts_data[start_idx:], desc=f\"Processing {filename_stem}\", leave=False):\n",
    "        chunk_id = entry[\"chunk_id\"]\n",
    "        prompt = entry[\"prompt\"]\n",
    "        \n",
    "        result = call_claude(prompt)\n",
    "        \n",
    "        if result is None:\n",
    "            print(f\"❌ Failed on chunk {chunk_id} in {filename_stem}\")\n",
    "            continue\n",
    "        \n",
    "        try:\n",
    "            scored_chunks.append({\n",
    "                \"chunk_id\": chunk_id,\n",
    "                \"universalism_score\": result[\"universalism\"][0],\n",
    "                \"universalism_confidence\": result[\"universalism\"][1],\n",
    "                \"egalitarianism_score\": result[\"egalitarianism\"][0],\n",
    "                \"egalitarianism_confidence\": result[\"egalitarianism\"][1],\n",
    "                \"progress_score\": result[\"progress\"][0],\n",
    "                \"progress_confidence\": result[\"progress\"][1],\n",
    "            })\n",
    "        except Exception as e:\n",
    "            print(f\"⚠️ Error parsing chunk {chunk_id}: {e}\")\n",
    "            continue\n",
    "        \n",
    "        time.sleep(1.5)  # Respect rate limits\n",
    "\n",
    "        # Save progress after each chunk (to prevent loss on crash)\n",
    "        with open(output_path, \"w\", encoding=\"utf-8\") as f:\n",
    "            json.dump(scored_chunks, f, indent=2)\n",
    "\n",
    "    print(f\"✅ Finished scoring: {filename_stem}\")\n",
    "\n",
    "print(\"\\n🎉 All done! Movies scored without missing chunks!\")\n"
   ]
  },
  {
   "cell_type": "code",
   "execution_count": null,
   "id": "15293b2c-064b-464a-8c80-88e5f24991f7",
   "metadata": {},
   "outputs": [],
   "source": []
  }
 ],
 "metadata": {
  "kernelspec": {
   "display_name": "Python (my_clean_env_py310)",
   "language": "python",
   "name": "my_clean_env_py310"
  },
  "language_info": {
   "codemirror_mode": {
    "name": "ipython",
    "version": 3
   },
   "file_extension": ".py",
   "mimetype": "text/x-python",
   "name": "python",
   "nbconvert_exporter": "python",
   "pygments_lexer": "ipython3",
   "version": "3.10.12"
  }
 },
 "nbformat": 4,
 "nbformat_minor": 5
}
