{
 "cells": [
  {
   "cell_type": "code",
   "execution_count": 3,
   "id": "313a0d82-8cca-4cb6-8dc9-ddef44e6e47b",
   "metadata": {},
   "outputs": [
    {
     "name": "stderr",
     "output_type": "stream",
     "text": [
      "Scoring institutional trust (chunked):   0%|            | 0/478 [00:00<?, ?it/s]"
     ]
    },
    {
     "name": "stdout",
     "output_type": "stream",
     "text": [
      "⏩ Skipping already scored: 2017_Logan chunk 1\n",
      "⏩ Skipping already scored: 2017_Logan chunk 2\n",
      "⏩ Skipping already scored: 2017_Logan chunk 3\n",
      "⏩ Skipping already scored: 2017_Logan chunk 4\n",
      "⏩ Skipping already scored: 2017_Logan chunk 5\n",
      "⏩ Skipping already scored: 2017_Logan chunk 6\n",
      "⏩ Skipping already scored: 2017_Logan chunk 7\n",
      "⏩ Skipping already scored: 2017_Logan chunk 8\n",
      "⏩ Skipping already scored: 2017_Logan chunk 9\n",
      "✅ Scored: 1979_10 chunk 1\n",
      "⏩ Skipping already scored: 1979_10 chunk 2\n",
      "⏩ Skipping already scored: 1979_10 chunk 3\n",
      "⏩ Skipping already scored: 1979_10 chunk 4\n",
      "⏩ Skipping already scored: 1979_10 chunk 5\n",
      "⏩ Skipping already scored: 1979_10 chunk 6\n",
      "⏩ Skipping already scored: 1979_10 chunk 7\n",
      "⏩ Skipping already scored: 1979_10 chunk 8\n",
      "✅ Scored: 1979_10 chunk 9\n"
     ]
    },
    {
     "name": "stderr",
     "output_type": "stream",
     "text": [
      "Scoring institutional trust (chunked):   0%|    | 2/478 [00:07<27:52,  3.51s/it]"
     ]
    },
    {
     "name": "stdout",
     "output_type": "stream",
     "text": [
      "✅ Scored: 1983_Tootsie chunk 1\n",
      "⏩ Skipping already scored: 1983_Tootsie chunk 2\n",
      "✅ Scored: 1983_Tootsie chunk 3\n",
      "⏩ Skipping already scored: 1983_Tootsie chunk 4\n",
      "⏩ Skipping already scored: 1983_Tootsie chunk 5\n",
      "⏩ Skipping already scored: 1983_Tootsie chunk 6\n",
      "✅ Scored: 1983_Tootsie chunk 7\n",
      "⏩ Skipping already scored: 1983_Tootsie chunk 8\n",
      "⏩ Skipping already scored: 1983_Tootsie chunk 9\n",
      "✅ Scored: 1983_Tootsie chunk 10\n",
      "✅ Scored: 1983_Tootsie chunk 11\n",
      "✅ Scored: 1983_Tootsie chunk 12\n",
      "⏩ Skipping already scored: 1983_Tootsie chunk 13\n",
      "✅ Scored: 1983_Tootsie chunk 14\n"
     ]
    },
    {
     "name": "stderr",
     "output_type": "stream",
     "text": [
      "Scoring institutional trust (chunked):   1%|  | 3/478 [00:37<1:55:14, 14.56s/it]"
     ]
    },
    {
     "name": "stdout",
     "output_type": "stream",
     "text": [
      "⏩ Skipping already scored: 1983_Tootsie chunk 15\n",
      "✅ Scored: 2017_It chunk 1\n",
      "⏩ Skipping already scored: 2017_It chunk 2\n",
      "✅ Scored: 2017_It chunk 3\n",
      "✅ Scored: 2017_It chunk 4\n",
      "✅ Scored: 2017_It chunk 5\n"
     ]
    },
    {
     "name": "stderr",
     "output_type": "stream",
     "text": [
      "Scoring institutional trust (chunked):   1%|  | 4/478 [00:53<2:02:04, 15.45s/it]"
     ]
    },
    {
     "name": "stdout",
     "output_type": "stream",
     "text": [
      "⏩ Skipping already scored: 2017_It chunk 6\n",
      "⏩ Skipping already scored: 2017_It chunk 7\n",
      "⏩ Skipping already scored: 2017_It chunk 8\n",
      "⏩ Skipping already scored: 2017_It chunk 9\n",
      "⏩ Skipping already scored: 1981_Excalibur chunk 1\n",
      "✅ Scored: 1981_Excalibur chunk 2\n"
     ]
    },
    {
     "name": "stderr",
     "output_type": "stream",
     "text": [
      "Scoring institutional trust (chunked):   1%|  | 5/478 [00:57<1:28:23, 11.21s/it]"
     ]
    },
    {
     "name": "stdout",
     "output_type": "stream",
     "text": [
      "⏩ Skipping already scored: 1981_Excalibur chunk 3\n",
      "⏩ Skipping already scored: 1981_Excalibur chunk 4\n",
      "⏩ Skipping already scored: 1981_Excalibur chunk 5\n",
      "⏩ Skipping already scored: 1981_Excalibur chunk 6\n",
      "⏩ Skipping already scored: 1981_Excalibur chunk 7\n",
      "⏩ Skipping already scored: 1986_Top Gun chunk 1\n",
      "⏩ Skipping already scored: 1986_Top Gun chunk 2\n",
      "⏩ Skipping already scored: 1986_Top Gun chunk 3\n",
      "✅ Scored: 1986_Top Gun chunk 4\n",
      "⏩ Skipping already scored: 1986_Top Gun chunk 5\n",
      "✅ Scored: 1986_Top Gun chunk 6\n",
      "✅ Scored: 1986_Top Gun chunk 7\n",
      "✅ Scored: 1986_Top Gun chunk 8\n"
     ]
    },
    {
     "name": "stderr",
     "output_type": "stream",
     "text": [
      "Scoring institutional trust (chunked):   1%|  | 6/478 [01:13<1:40:57, 12.83s/it]"
     ]
    },
    {
     "name": "stdout",
     "output_type": "stream",
     "text": [
      "✅ Scored: 1996_Ransom_EN chunk 1\n",
      "✅ Scored: 1996_Ransom_EN chunk 2\n",
      "✅ Scored: 1996_Ransom_EN chunk 3\n",
      "✅ Scored: 1996_Ransom_EN chunk 4\n",
      "✅ Scored: 1996_Ransom_EN chunk 5\n",
      "✅ Scored: 1996_Ransom_EN chunk 6\n",
      "✅ Scored: 1996_Ransom_EN chunk 7\n",
      "✅ Scored: 1996_Ransom_EN chunk 8\n",
      "✅ Scored: 1996_Ransom_EN chunk 9\n",
      "✅ Scored: 1996_Ransom_EN chunk 10\n",
      "✅ Scored: 1996_Ransom_EN chunk 11\n",
      "✅ Scored: 1996_Ransom_EN chunk 12\n",
      "✅ Scored: 1996_Ransom_EN chunk 13\n",
      "✅ Scored: 1996_Ransom_EN chunk 14\n"
     ]
    },
    {
     "name": "stderr",
     "output_type": "stream",
     "text": [
      "Scoring institutional trust (chunked):   1%|  | 7/478 [02:05<3:20:36, 25.55s/it]"
     ]
    },
    {
     "name": "stdout",
     "output_type": "stream",
     "text": [
      "✅ Scored: 1996_The First Wives Club chunk 1\n",
      "✅ Scored: 1996_The First Wives Club chunk 2\n",
      "✅ Scored: 1996_The First Wives Club chunk 3\n",
      "✅ Scored: 1996_The First Wives Club chunk 4\n",
      "✅ Scored: 1996_The First Wives Club chunk 5\n",
      "✅ Scored: 1996_The First Wives Club chunk 6\n",
      "✅ Scored: 1996_The First Wives Club chunk 7\n",
      "✅ Scored: 1996_The First Wives Club chunk 8\n",
      "✅ Scored: 1996_The First Wives Club chunk 9\n",
      "✅ Scored: 1996_The First Wives Club chunk 10\n",
      "✅ Scored: 1996_The First Wives Club chunk 11\n"
     ]
    },
    {
     "name": "stderr",
     "output_type": "stream",
     "text": [
      "Scoring institutional trust (chunked):   2%|  | 8/478 [02:46<3:57:24, 30.31s/it]"
     ]
    },
    {
     "name": "stdout",
     "output_type": "stream",
     "text": [
      "✅ Scored: 1980_Stir Crazy chunk 1\n",
      "✅ Scored: 1980_Stir Crazy chunk 2\n",
      "✅ Scored: 1980_Stir Crazy chunk 3\n",
      "✅ Scored: 1980_Stir Crazy chunk 4\n",
      "✅ Scored: 1980_Stir Crazy chunk 5\n",
      "✅ Scored: 1980_Stir Crazy chunk 6\n",
      "✅ Scored: 1980_Stir Crazy chunk 7\n",
      "✅ Scored: 1980_Stir Crazy chunk 8\n",
      "✅ Scored: 1980_Stir Crazy chunk 9\n"
     ]
    },
    {
     "name": "stderr",
     "output_type": "stream",
     "text": [
      "Scoring institutional trust (chunked):   2%|  | 9/478 [03:17<3:58:29, 30.51s/it]"
     ]
    },
    {
     "name": "stdout",
     "output_type": "stream",
     "text": [
      "✅ Scored: 2016_Deadpool chunk 1\n",
      "✅ Scored: 2016_Deadpool chunk 2\n",
      "✅ Scored: 2016_Deadpool chunk 3\n",
      "✅ Scored: 2016_Deadpool chunk 4\n",
      "✅ Scored: 2016_Deadpool chunk 5\n",
      "✅ Scored: 2016_Deadpool chunk 6\n",
      "✅ Scored: 2016_Deadpool chunk 7\n",
      "✅ Scored: 2016_Deadpool chunk 8\n",
      "✅ Scored: 2016_Deadpool chunk 9\n",
      "✅ Scored: 2016_Deadpool chunk 10\n"
     ]
    },
    {
     "name": "stderr",
     "output_type": "stream",
     "text": [
      "Scoring institutional trust (chunked):   2%| | 10/478 [03:53<4:11:30, 32.24s/it]"
     ]
    },
    {
     "name": "stdout",
     "output_type": "stream",
     "text": [
      "✅ Scored: 2004_Shark Tale.en chunk 1\n",
      "✅ Scored: 2004_Shark Tale.en chunk 2\n",
      "✅ Scored: 2004_Shark Tale.en chunk 3\n",
      "✅ Scored: 2004_Shark Tale.en chunk 4\n",
      "✅ Scored: 2004_Shark Tale.en chunk 5\n",
      "✅ Scored: 2004_Shark Tale.en chunk 6\n",
      "✅ Scored: 2004_Shark Tale.en chunk 7\n",
      "✅ Scored: 2004_Shark Tale.en chunk 8\n",
      "✅ Scored: 2004_Shark Tale.en chunk 9\n",
      "✅ Scored: 2004_Shark Tale.en chunk 10\n",
      "✅ Scored: 2004_Shark Tale.en chunk 11\n"
     ]
    },
    {
     "name": "stderr",
     "output_type": "stream",
     "text": [
      "Scoring institutional trust (chunked):   2%| | 11/478 [04:33<4:29:43, 34.66s/it]"
     ]
    },
    {
     "name": "stdout",
     "output_type": "stream",
     "text": [
      "✅ Scored: 1998_Godzilla chunk 1\n",
      "✅ Scored: 1998_Godzilla chunk 2\n",
      "✅ Scored: 1998_Godzilla chunk 3\n",
      "✅ Scored: 1998_Godzilla chunk 4\n",
      "✅ Scored: 1998_Godzilla chunk 5\n",
      "✅ Scored: 1998_Godzilla chunk 6\n",
      "✅ Scored: 1998_Godzilla chunk 7\n",
      "✅ Scored: 1998_Godzilla chunk 8\n",
      "✅ Scored: 1998_Godzilla chunk 9\n"
     ]
    },
    {
     "name": "stderr",
     "output_type": "stream",
     "text": [
      "Scoring institutional trust (chunked):   3%| | 12/478 [05:09<4:32:40, 35.11s/it]"
     ]
    },
    {
     "name": "stdout",
     "output_type": "stream",
     "text": [
      "✅ Scored: 2018_Deadpool 2 chunk 1\n",
      "✅ Scored: 2018_Deadpool 2 chunk 2\n",
      "✅ Scored: 2018_Deadpool 2 chunk 3\n",
      "✅ Scored: 2018_Deadpool 2 chunk 4\n",
      "✅ Scored: 2018_Deadpool 2 chunk 5\n",
      "✅ Scored: 2018_Deadpool 2 chunk 6\n",
      "✅ Scored: 2018_Deadpool 2 chunk 7\n",
      "✅ Scored: 2018_Deadpool 2 chunk 8\n",
      "✅ Scored: 2018_Deadpool 2 chunk 9\n",
      "✅ Scored: 2018_Deadpool 2 chunk 10\n",
      "✅ Scored: 2018_Deadpool 2 chunk 11\n",
      "✅ Scored: 2018_Deadpool 2 chunk 12\n"
     ]
    },
    {
     "name": "stderr",
     "output_type": "stream",
     "text": [
      "Scoring institutional trust (chunked):   3%| | 13/478 [05:55<4:55:48, 38.17s/it]"
     ]
    },
    {
     "name": "stdout",
     "output_type": "stream",
     "text": [
      "✅ Scored: 2020_1917 chunk 1\n",
      "✅ Scored: 2020_1917 chunk 2\n",
      "✅ Scored: 2020_1917 chunk 3\n",
      "✅ Scored: 2020_1917 chunk 4\n",
      "✅ Scored: 2020_1917 chunk 5\n",
      "✅ Scored: 2020_1917 chunk 6\n"
     ]
    },
    {
     "name": "stderr",
     "output_type": "stream",
     "text": [
      "Scoring institutional trust (chunked):   3%| | 14/478 [06:18<4:19:49, 33.60s/it]"
     ]
    },
    {
     "name": "stdout",
     "output_type": "stream",
     "text": [
      "✅ Scored: 1990_Driving Miss Daisy chunk 1\n",
      "✅ Scored: 1990_Driving Miss Daisy chunk 2\n",
      "✅ Scored: 1990_Driving Miss Daisy chunk 3\n",
      "✅ Scored: 1990_Driving Miss Daisy chunk 4\n",
      "✅ Scored: 1990_Driving Miss Daisy chunk 5\n",
      "✅ Scored: 1990_Driving Miss Daisy chunk 6\n",
      "✅ Scored: 1990_Driving Miss Daisy chunk 7\n",
      "✅ Scored: 1990_Driving Miss Daisy chunk 8\n",
      "✅ Scored: 1990_Driving Miss Daisy chunk 9\n"
     ]
    },
    {
     "name": "stderr",
     "output_type": "stream",
     "text": [
      "Scoring institutional trust (chunked):   3%| | 15/478 [06:50<4:15:31, 33.11s/it]"
     ]
    },
    {
     "name": "stdout",
     "output_type": "stream",
     "text": [
      "✅ Scored: 1985_Witness chunk 1\n",
      "✅ Scored: 1985_Witness chunk 2\n",
      "✅ Scored: 1985_Witness chunk 3\n",
      "✅ Scored: 1985_Witness chunk 4\n",
      "✅ Scored: 1985_Witness chunk 5\n",
      "✅ Scored: 1985_Witness chunk 6\n"
     ]
    },
    {
     "name": "stderr",
     "output_type": "stream",
     "text": [
      "Scoring institutional trust (chunked):   3%| | 16/478 [07:13<3:53:37, 30.34s/it]"
     ]
    },
    {
     "name": "stdout",
     "output_type": "stream",
     "text": [
      "✅ Scored: 1985_Rocky IV chunk 1\n",
      "✅ Scored: 1985_Rocky IV chunk 2\n",
      "✅ Scored: 1985_Rocky IV chunk 3\n",
      "✅ Scored: 1985_Rocky IV chunk 4\n",
      "✅ Scored: 1985_Rocky IV chunk 5\n",
      "✅ Scored: 1985_Rocky IV chunk 6\n",
      "✅ Scored: 1985_Rocky IV chunk 7\n",
      "✅ Scored: 1985_Rocky IV chunk 8\n",
      "✅ Scored: 1985_Rocky IV chunk 9\n"
     ]
    },
    {
     "name": "stderr",
     "output_type": "stream",
     "text": [
      "Scoring institutional trust (chunked):   4%| | 17/478 [07:46<3:57:47, 30.95s/it]"
     ]
    },
    {
     "name": "stdout",
     "output_type": "stream",
     "text": [
      "✅ Scored: 2015_Jurassic World chunk 1\n",
      "✅ Scored: 2015_Jurassic World chunk 2\n",
      "✅ Scored: 2015_Jurassic World chunk 3\n",
      "✅ Scored: 2015_Jurassic World chunk 4\n",
      "✅ Scored: 2015_Jurassic World chunk 5\n",
      "✅ Scored: 2015_Jurassic World chunk 6\n",
      "✅ Scored: 2015_Jurassic World chunk 7\n",
      "✅ Scored: 2015_Jurassic World chunk 8\n",
      "✅ Scored: 2015_Jurassic World chunk 9\n"
     ]
    },
    {
     "name": "stderr",
     "output_type": "stream",
     "text": [
      "Scoring institutional trust (chunked):   4%| | 18/478 [08:19<4:02:27, 31.62s/it]"
     ]
    },
    {
     "name": "stdout",
     "output_type": "stream",
     "text": [
      "✅ Scored: 1997_Liar Liar chunk 1\n",
      "✅ Scored: 1997_Liar Liar chunk 2\n",
      "✅ Scored: 1997_Liar Liar chunk 3\n",
      "✅ Scored: 1997_Liar Liar chunk 4\n",
      "✅ Scored: 1997_Liar Liar chunk 5\n",
      "✅ Scored: 1997_Liar Liar chunk 6\n",
      "✅ Scored: 1997_Liar Liar chunk 7\n",
      "✅ Scored: 1997_Liar Liar chunk 8\n",
      "✅ Scored: 1997_Liar Liar chunk 9\n"
     ]
    },
    {
     "name": "stderr",
     "output_type": "stream",
     "text": [
      "Scoring institutional trust (chunked):   4%| | 19/478 [08:52<4:05:07, 32.04s/it]"
     ]
    },
    {
     "name": "stdout",
     "output_type": "stream",
     "text": [
      "✅ Scored: 1979_Rocky II chunk 1\n",
      "✅ Scored: 1979_Rocky II chunk 2\n",
      "✅ Scored: 1979_Rocky II chunk 3\n",
      "✅ Scored: 1979_Rocky II chunk 4\n",
      "✅ Scored: 1979_Rocky II chunk 5\n",
      "✅ Scored: 1979_Rocky II chunk 6\n",
      "✅ Scored: 1979_Rocky II chunk 7\n",
      "✅ Scored: 1979_Rocky II chunk 8\n",
      "✅ Scored: 1979_Rocky II chunk 9\n",
      "✅ Scored: 1979_Rocky II chunk 10\n",
      "✅ Scored: 1979_Rocky II chunk 11\n",
      "✅ Scored: 1979_Rocky II chunk 12\n",
      "✅ Scored: 1979_Rocky II chunk 13\n",
      "✅ Scored: 1979_Rocky II chunk 14\n",
      "✅ Scored: 1979_Rocky II chunk 15\n"
     ]
    },
    {
     "name": "stderr",
     "output_type": "stream",
     "text": [
      "Scoring institutional trust (chunked):   4%| | 20/478 [09:45<4:53:09, 38.41s/it]"
     ]
    },
    {
     "name": "stdout",
     "output_type": "stream",
     "text": [
      "✅ Scored: 1995_Toy Story chunk 1\n",
      "✅ Scored: 1995_Toy Story chunk 2\n",
      "✅ Scored: 1995_Toy Story chunk 3\n",
      "✅ Scored: 1995_Toy Story chunk 4\n",
      "✅ Scored: 1995_Toy Story chunk 5\n",
      "✅ Scored: 1995_Toy Story chunk 6\n",
      "✅ Scored: 1995_Toy Story chunk 7\n",
      "✅ Scored: 1995_Toy Story chunk 8\n",
      "✅ Scored: 1995_Toy Story chunk 9\n",
      "✅ Scored: 1995_Toy Story chunk 10\n"
     ]
    },
    {
     "name": "stderr",
     "output_type": "stream",
     "text": [
      "Scoring institutional trust (chunked):   4%| | 21/478 [10:21<4:47:21, 37.73s/it]"
     ]
    },
    {
     "name": "stdout",
     "output_type": "stream",
     "text": [
      "✅ Scored: 1988_Cocktail_Eng chunk 1\n",
      "✅ Scored: 1988_Cocktail_Eng chunk 2\n",
      "✅ Scored: 1988_Cocktail_Eng chunk 3\n",
      "✅ Scored: 1988_Cocktail_Eng chunk 4\n",
      "✅ Scored: 1988_Cocktail_Eng chunk 5\n",
      "✅ Scored: 1988_Cocktail_Eng chunk 6\n",
      "✅ Scored: 1988_Cocktail_Eng chunk 7\n",
      "✅ Scored: 1988_Cocktail_Eng chunk 8\n",
      "✅ Scored: 1988_Cocktail_Eng chunk 9\n",
      "✅ Scored: 1988_Cocktail_Eng chunk 10\n"
     ]
    },
    {
     "name": "stderr",
     "output_type": "stream",
     "text": [
      "Scoring institutional trust (chunked):   5%| | 22/478 [10:56<4:38:59, 36.71s/it]"
     ]
    },
    {
     "name": "stdout",
     "output_type": "stream",
     "text": [
      "✅ Scored: 1990_Ghost chunk 1\n",
      "✅ Scored: 1990_Ghost chunk 2\n",
      "✅ Scored: 1990_Ghost chunk 3\n",
      "✅ Scored: 1990_Ghost chunk 4\n",
      "✅ Scored: 1990_Ghost chunk 5\n",
      "✅ Scored: 1990_Ghost chunk 6\n",
      "✅ Scored: 1990_Ghost chunk 7\n",
      "✅ Scored: 1990_Ghost chunk 8\n",
      "✅ Scored: 1990_Ghost chunk 9\n",
      "✅ Scored: 1990_Ghost chunk 10\n",
      "✅ Scored: 1990_Ghost chunk 11\n"
     ]
    },
    {
     "name": "stderr",
     "output_type": "stream",
     "text": [
      "Scoring institutional trust (chunked):   5%| | 23/478 [11:34<4:42:49, 37.30s/it]"
     ]
    },
    {
     "name": "stdout",
     "output_type": "stream",
     "text": [
      "✅ Scored: 2007_300.eng chunk 1\n",
      "✅ Scored: 2007_300.eng chunk 2\n",
      "✅ Scored: 2007_300.eng chunk 3\n",
      "✅ Scored: 2007_300.eng chunk 4\n",
      "✅ Scored: 2007_300.eng chunk 5\n",
      "✅ Scored: 2007_300.eng chunk 6\n",
      "✅ Scored: 2007_300.eng chunk 7\n"
     ]
    },
    {
     "name": "stderr",
     "output_type": "stream",
     "text": [
      "Scoring institutional trust (chunked):   5%| | 24/478 [12:01<4:17:14, 34.00s/it]"
     ]
    },
    {
     "name": "stdout",
     "output_type": "stream",
     "text": [
      "✅ Scored: 2001_Shrek chunk 1\n",
      "✅ Scored: 2001_Shrek chunk 2\n",
      "✅ Scored: 2001_Shrek chunk 3\n",
      "✅ Scored: 2001_Shrek chunk 4\n",
      "✅ Scored: 2001_Shrek chunk 5\n",
      "✅ Scored: 2001_Shrek chunk 6\n",
      "✅ Scored: 2001_Shrek chunk 7\n",
      "✅ Scored: 2001_Shrek chunk 8\n",
      "✅ Scored: 2001_Shrek chunk 9\n"
     ]
    },
    {
     "name": "stderr",
     "output_type": "stream",
     "text": [
      "Scoring institutional trust (chunked):   5%| | 25/478 [12:34<4:14:20, 33.69s/it]"
     ]
    },
    {
     "name": "stdout",
     "output_type": "stream",
     "text": [
      "✅ Scored: 1995_Waterworld.en chunk 1\n",
      "✅ Scored: 1995_Waterworld.en chunk 2\n",
      "✅ Scored: 1995_Waterworld.en chunk 3\n",
      "✅ Scored: 1995_Waterworld.en chunk 4\n",
      "✅ Scored: 1995_Waterworld.en chunk 5\n",
      "✅ Scored: 1995_Waterworld.en chunk 6\n",
      "✅ Scored: 1995_Waterworld.en chunk 7\n",
      "✅ Scored: 1995_Waterworld.en chunk 8\n"
     ]
    },
    {
     "name": "stderr",
     "output_type": "stream",
     "text": [
      "Scoring institutional trust (chunked):   5%| | 26/478 [13:00<3:58:05, 31.60s/it]"
     ]
    },
    {
     "name": "stdout",
     "output_type": "stream",
     "text": [
      "✅ Scored: 1978_Grease chunk 1\n",
      "✅ Scored: 1978_Grease chunk 2\n",
      "✅ Scored: 1978_Grease chunk 3\n",
      "✅ Scored: 1978_Grease chunk 4\n",
      "✅ Scored: 1978_Grease chunk 5\n",
      "✅ Scored: 1978_Grease chunk 6\n",
      "✅ Scored: 1978_Grease chunk 7\n",
      "✅ Scored: 1978_Grease chunk 8\n",
      "✅ Scored: 1978_Grease chunk 9\n",
      "✅ Scored: 1978_Grease chunk 10\n",
      "✅ Scored: 1978_Grease chunk 11\n"
     ]
    },
    {
     "name": "stderr",
     "output_type": "stream",
     "text": [
      "Scoring institutional trust (chunked):   6%| | 27/478 [13:38<4:11:13, 33.42s/it]"
     ]
    },
    {
     "name": "stdout",
     "output_type": "stream",
     "text": [
      "✅ Scored: 2011_Thor chunk 1\n",
      "✅ Scored: 2011_Thor chunk 2\n",
      "✅ Scored: 2011_Thor chunk 3\n",
      "✅ Scored: 2011_Thor chunk 4\n",
      "✅ Scored: 2011_Thor chunk 5\n",
      "✅ Scored: 2011_Thor chunk 6\n",
      "✅ Scored: 2011_Thor chunk 7\n",
      "✅ Scored: 2011_Thor chunk 8\n"
     ]
    },
    {
     "name": "stderr",
     "output_type": "stream",
     "text": [
      "Scoring institutional trust (chunked):   6%| | 28/478 [14:06<3:58:25, 31.79s/it]"
     ]
    },
    {
     "name": "stdout",
     "output_type": "stream",
     "text": [
      "✅ Scored: 2013_Monsters University chunk 1\n",
      "✅ Scored: 2013_Monsters University chunk 2\n",
      "✅ Scored: 2013_Monsters University chunk 3\n",
      "✅ Scored: 2013_Monsters University chunk 4\n",
      "✅ Scored: 2013_Monsters University chunk 5\n",
      "✅ Scored: 2013_Monsters University chunk 6\n",
      "✅ Scored: 2013_Monsters University chunk 7\n",
      "✅ Scored: 2013_Monsters University chunk 8\n",
      "✅ Scored: 2013_Monsters University chunk 9\n",
      "✅ Scored: 2013_Monsters University chunk 10\n"
     ]
    },
    {
     "name": "stderr",
     "output_type": "stream",
     "text": [
      "Scoring institutional trust (chunked):   6%| | 29/478 [14:41<4:04:55, 32.73s/it]"
     ]
    },
    {
     "name": "stdout",
     "output_type": "stream",
     "text": [
      "✅ Scored: 1982_Rocky III chunk 1\n",
      "✅ Scored: 1982_Rocky III chunk 2\n",
      "✅ Scored: 1982_Rocky III chunk 3\n",
      "✅ Scored: 1982_Rocky III chunk 4\n",
      "✅ Scored: 1982_Rocky III chunk 5\n",
      "✅ Scored: 1982_Rocky III chunk 6\n",
      "✅ Scored: 1982_Rocky III chunk 7\n",
      "✅ Scored: 1982_Rocky III chunk 8\n",
      "✅ Scored: 1982_Rocky III chunk 9\n",
      "✅ Scored: 1982_Rocky III chunk 10\n",
      "✅ Scored: 1982_Rocky III chunk 11\n"
     ]
    },
    {
     "name": "stderr",
     "output_type": "stream",
     "text": [
      "Scoring institutional trust (chunked):   6%| | 30/478 [15:22<4:22:39, 35.18s/it]"
     ]
    },
    {
     "name": "stdout",
     "output_type": "stream",
     "text": [
      "✅ Scored: 1992_Home Alone 2_ Lost in New York chunk 1\n",
      "✅ Scored: 1992_Home Alone 2_ Lost in New York chunk 2\n",
      "✅ Scored: 1992_Home Alone 2_ Lost in New York chunk 3\n",
      "✅ Scored: 1992_Home Alone 2_ Lost in New York chunk 4\n",
      "✅ Scored: 1992_Home Alone 2_ Lost in New York chunk 5\n",
      "✅ Scored: 1992_Home Alone 2_ Lost in New York chunk 6\n",
      "✅ Scored: 1992_Home Alone 2_ Lost in New York chunk 7\n",
      "✅ Scored: 1992_Home Alone 2_ Lost in New York chunk 8\n",
      "✅ Scored: 1992_Home Alone 2_ Lost in New York chunk 9\n"
     ]
    },
    {
     "name": "stderr",
     "output_type": "stream",
     "text": [
      "Scoring institutional trust (chunked):   6%| | 31/478 [15:53<4:11:58, 33.82s/it]"
     ]
    },
    {
     "name": "stdout",
     "output_type": "stream",
     "text": [
      "✅ Scored: 2022_Jurassic World_ Dominion chunk 1\n",
      "✅ Scored: 2022_Jurassic World_ Dominion chunk 2\n",
      "✅ Scored: 2022_Jurassic World_ Dominion chunk 3\n",
      "✅ Scored: 2022_Jurassic World_ Dominion chunk 4\n",
      "✅ Scored: 2022_Jurassic World_ Dominion chunk 5\n",
      "✅ Scored: 2022_Jurassic World_ Dominion chunk 6\n",
      "✅ Scored: 2022_Jurassic World_ Dominion chunk 7\n",
      "✅ Scored: 2022_Jurassic World_ Dominion chunk 8\n",
      "✅ Scored: 2022_Jurassic World_ Dominion chunk 9\n",
      "✅ Scored: 2022_Jurassic World_ Dominion chunk 10\n",
      "✅ Scored: 2022_Jurassic World_ Dominion chunk 11\n"
     ]
    },
    {
     "name": "stderr",
     "output_type": "stream",
     "text": [
      "Scoring institutional trust (chunked):   7%| | 32/478 [16:33<4:25:58, 35.78s/it]"
     ]
    },
    {
     "name": "stdout",
     "output_type": "stream",
     "text": [
      "✅ Scored: 1988_Good Morning Vietnam chunk 1\n",
      "✅ Scored: 1988_Good Morning Vietnam chunk 2\n",
      "✅ Scored: 1988_Good Morning Vietnam chunk 3\n",
      "✅ Scored: 1988_Good Morning Vietnam chunk 4\n",
      "✅ Scored: 1988_Good Morning Vietnam chunk 5\n",
      "✅ Scored: 1988_Good Morning Vietnam chunk 6\n",
      "✅ Scored: 1988_Good Morning Vietnam chunk 7\n",
      "✅ Scored: 1988_Good Morning Vietnam chunk 8\n",
      "✅ Scored: 1988_Good Morning Vietnam chunk 9\n",
      "✅ Scored: 1988_Good Morning Vietnam chunk 10\n",
      "✅ Scored: 1988_Good Morning Vietnam chunk 11\n",
      "✅ Scored: 1988_Good Morning Vietnam chunk 12\n",
      "✅ Scored: 1988_Good Morning Vietnam chunk 13\n",
      "✅ Scored: 1988_Good Morning Vietnam chunk 14\n",
      "✅ Scored: 1988_Good Morning Vietnam chunk 15\n",
      "✅ Scored: 1988_Good Morning Vietnam chunk 16\n",
      "✅ Scored: 1988_Good Morning Vietnam chunk 17\n",
      "✅ Scored: 1988_Good Morning Vietnam chunk 18\n"
     ]
    },
    {
     "name": "stderr",
     "output_type": "stream",
     "text": [
      "Scoring institutional trust (chunked):   7%| | 33/478 [17:36<5:27:05, 44.10s/it]"
     ]
    },
    {
     "name": "stdout",
     "output_type": "stream",
     "text": [
      "✅ Scored: 1979_Star Trek - The Motion Picture chunk 1\n",
      "✅ Scored: 1979_Star Trek - The Motion Picture chunk 2\n",
      "✅ Scored: 1979_Star Trek - The Motion Picture chunk 3\n",
      "✅ Scored: 1979_Star Trek - The Motion Picture chunk 4\n",
      "✅ Scored: 1979_Star Trek - The Motion Picture chunk 5\n",
      "✅ Scored: 1979_Star Trek - The Motion Picture chunk 6\n",
      "✅ Scored: 1979_Star Trek - The Motion Picture chunk 7\n",
      "✅ Scored: 1979_Star Trek - The Motion Picture chunk 8\n"
     ]
    },
    {
     "name": "stderr",
     "output_type": "stream",
     "text": [
      "Scoring institutional trust (chunked):   7%| | 34/478 [18:05<4:51:58, 39.46s/it]"
     ]
    },
    {
     "name": "stdout",
     "output_type": "stream",
     "text": [
      "✅ Scored: 1999_Star Wars Episode I The Phantom Menace eng chunk 1\n",
      "✅ Scored: 1999_Star Wars Episode I The Phantom Menace eng chunk 2\n",
      "✅ Scored: 1999_Star Wars Episode I The Phantom Menace eng chunk 3\n",
      "✅ Scored: 1999_Star Wars Episode I The Phantom Menace eng chunk 4\n",
      "✅ Scored: 1999_Star Wars Episode I The Phantom Menace eng chunk 5\n",
      "✅ Scored: 1999_Star Wars Episode I The Phantom Menace eng chunk 6\n",
      "✅ Scored: 1999_Star Wars Episode I The Phantom Menace eng chunk 7\n",
      "✅ Scored: 1999_Star Wars Episode I The Phantom Menace eng chunk 8\n",
      "✅ Scored: 1999_Star Wars Episode I The Phantom Menace eng chunk 9\n",
      "✅ Scored: 1999_Star Wars Episode I The Phantom Menace eng chunk 10\n",
      "✅ Scored: 1999_Star Wars Episode I The Phantom Menace eng chunk 11\n"
     ]
    },
    {
     "name": "stderr",
     "output_type": "stream",
     "text": [
      "Scoring institutional trust (chunked):   7%| | 35/478 [18:52<5:07:41, 41.67s/it]"
     ]
    },
    {
     "name": "stdout",
     "output_type": "stream",
     "text": [
      "✅ Scored: 2014_The.Hunger.Games.Mockingjay.Part.1.2014.720p.BluRay.x264-SPARKS chunk 1\n",
      "✅ Scored: 2014_The.Hunger.Games.Mockingjay.Part.1.2014.720p.BluRay.x264-SPARKS chunk 2\n",
      "✅ Scored: 2014_The.Hunger.Games.Mockingjay.Part.1.2014.720p.BluRay.x264-SPARKS chunk 3\n",
      "✅ Scored: 2014_The.Hunger.Games.Mockingjay.Part.1.2014.720p.BluRay.x264-SPARKS chunk 4\n",
      "✅ Scored: 2014_The.Hunger.Games.Mockingjay.Part.1.2014.720p.BluRay.x264-SPARKS chunk 5\n",
      "✅ Scored: 2014_The.Hunger.Games.Mockingjay.Part.1.2014.720p.BluRay.x264-SPARKS chunk 6\n",
      "✅ Scored: 2014_The.Hunger.Games.Mockingjay.Part.1.2014.720p.BluRay.x264-SPARKS chunk 7\n",
      "✅ Scored: 2014_The.Hunger.Games.Mockingjay.Part.1.2014.720p.BluRay.x264-SPARKS chunk 8\n",
      "✅ Scored: 2014_The.Hunger.Games.Mockingjay.Part.1.2014.720p.BluRay.x264-SPARKS chunk 9\n",
      "✅ Scored: 2014_The.Hunger.Games.Mockingjay.Part.1.2014.720p.BluRay.x264-SPARKS chunk 10\n"
     ]
    },
    {
     "name": "stderr",
     "output_type": "stream",
     "text": [
      "Scoring institutional trust (chunked):   8%| | 36/478 [19:26<4:49:36, 39.31s/it]"
     ]
    },
    {
     "name": "stdout",
     "output_type": "stream",
     "text": [
      "✅ Scored: 1982_Porkys chunk 1\n",
      "✅ Scored: 1982_Porkys chunk 2\n",
      "✅ Scored: 1982_Porkys chunk 3\n",
      "✅ Scored: 1982_Porkys chunk 4\n",
      "✅ Scored: 1982_Porkys chunk 5\n",
      "✅ Scored: 1982_Porkys chunk 6\n",
      "✅ Scored: 1982_Porkys chunk 7\n",
      "✅ Scored: 1982_Porkys chunk 8\n",
      "✅ Scored: 1982_Porkys chunk 9\n",
      "✅ Scored: 1982_Porkys chunk 10\n",
      "✅ Scored: 1982_Porkys chunk 11\n",
      "✅ Scored: 1982_Porkys chunk 12\n"
     ]
    },
    {
     "name": "stderr",
     "output_type": "stream",
     "text": [
      "Scoring institutional trust (chunked):   8%| | 37/478 [20:10<4:59:46, 40.79s/it]"
     ]
    },
    {
     "name": "stdout",
     "output_type": "stream",
     "text": [
      "✅ Scored: 2015_The.Hunger.Games.Mockingjay.Part.2.2015.720p.BluRay.x264-SPARKS chunk 1\n",
      "✅ Scored: 2015_The.Hunger.Games.Mockingjay.Part.2.2015.720p.BluRay.x264-SPARKS chunk 2\n",
      "✅ Scored: 2015_The.Hunger.Games.Mockingjay.Part.2.2015.720p.BluRay.x264-SPARKS chunk 3\n",
      "✅ Scored: 2015_The.Hunger.Games.Mockingjay.Part.2.2015.720p.BluRay.x264-SPARKS chunk 4\n",
      "✅ Scored: 2015_The.Hunger.Games.Mockingjay.Part.2.2015.720p.BluRay.x264-SPARKS chunk 5\n",
      "✅ Scored: 2015_The.Hunger.Games.Mockingjay.Part.2.2015.720p.BluRay.x264-SPARKS chunk 6\n",
      "✅ Scored: 2015_The.Hunger.Games.Mockingjay.Part.2.2015.720p.BluRay.x264-SPARKS chunk 7\n",
      "✅ Scored: 2015_The.Hunger.Games.Mockingjay.Part.2.2015.720p.BluRay.x264-SPARKS chunk 8\n",
      "✅ Scored: 2015_The.Hunger.Games.Mockingjay.Part.2.2015.720p.BluRay.x264-SPARKS chunk 9\n",
      "✅ Scored: 2015_The.Hunger.Games.Mockingjay.Part.2.2015.720p.BluRay.x264-SPARKS chunk 10\n"
     ]
    },
    {
     "name": "stderr",
     "output_type": "stream",
     "text": [
      "Scoring institutional trust (chunked):   8%| | 38/478 [20:47<4:50:11, 39.57s/it]"
     ]
    },
    {
     "name": "stdout",
     "output_type": "stream",
     "text": [
      "✅ Scored: 1998_Rush Hour 1 chunk 1\n",
      "✅ Scored: 1998_Rush Hour 1 chunk 2\n",
      "✅ Scored: 1998_Rush Hour 1 chunk 3\n",
      "✅ Scored: 1998_Rush Hour 1 chunk 4\n",
      "✅ Scored: 1998_Rush Hour 1 chunk 5\n",
      "✅ Scored: 1998_Rush Hour 1 chunk 6\n",
      "✅ Scored: 1998_Rush Hour 1 chunk 7\n",
      "✅ Scored: 1998_Rush Hour 1 chunk 8\n",
      "✅ Scored: 1998_Rush Hour 1 chunk 9\n",
      "✅ Scored: 1998_Rush Hour 1 chunk 10\n"
     ]
    },
    {
     "name": "stderr",
     "output_type": "stream",
     "text": [
      "Scoring institutional trust (chunked):   8%| | 39/478 [21:21<4:37:24, 37.91s/it]"
     ]
    },
    {
     "name": "stdout",
     "output_type": "stream",
     "text": [
      "✅ Scored: 2023_Oppenheimer chunk 1\n",
      "✅ Scored: 2023_Oppenheimer chunk 2\n",
      "✅ Scored: 2023_Oppenheimer chunk 3\n",
      "✅ Scored: 2023_Oppenheimer chunk 4\n",
      "✅ Scored: 2023_Oppenheimer chunk 5\n",
      "✅ Scored: 2023_Oppenheimer chunk 6\n",
      "✅ Scored: 2023_Oppenheimer chunk 7\n",
      "✅ Scored: 2023_Oppenheimer chunk 8\n",
      "✅ Scored: 2023_Oppenheimer chunk 9\n",
      "✅ Scored: 2023_Oppenheimer chunk 10\n",
      "✅ Scored: 2023_Oppenheimer chunk 11\n",
      "✅ Scored: 2023_Oppenheimer chunk 12\n",
      "✅ Scored: 2023_Oppenheimer chunk 13\n",
      "✅ Scored: 2023_Oppenheimer chunk 14\n",
      "✅ Scored: 2023_Oppenheimer chunk 15\n",
      "✅ Scored: 2023_Oppenheimer chunk 16\n",
      "✅ Scored: 2023_Oppenheimer chunk 17\n",
      "✅ Scored: 2023_Oppenheimer chunk 18\n",
      "✅ Scored: 2023_Oppenheimer chunk 19\n",
      "✅ Scored: 2023_Oppenheimer chunk 20\n",
      "✅ Scored: 2023_Oppenheimer chunk 21\n",
      "✅ Scored: 2023_Oppenheimer chunk 22\n",
      "✅ Scored: 2023_Oppenheimer chunk 23\n",
      "✅ Scored: 2023_Oppenheimer chunk 24\n",
      "✅ Scored: 2023_Oppenheimer chunk 25\n",
      "✅ Scored: 2023_Oppenheimer chunk 26\n"
     ]
    },
    {
     "name": "stderr",
     "output_type": "stream",
     "text": [
      "Scoring institutional trust (chunked):   8%| | 40/478 [22:50<6:28:45, 53.25s/it]"
     ]
    },
    {
     "name": "stdout",
     "output_type": "stream",
     "text": [
      "✅ Scored: 1996_101_dalmatians-en chunk 1\n",
      "✅ Scored: 1996_101_dalmatians-en chunk 2\n",
      "✅ Scored: 1996_101_dalmatians-en chunk 3\n",
      "✅ Scored: 1996_101_dalmatians-en chunk 4\n",
      "✅ Scored: 1996_101_dalmatians-en chunk 5\n",
      "✅ Scored: 1996_101_dalmatians-en chunk 6\n",
      "✅ Scored: 1996_101_dalmatians-en chunk 7\n"
     ]
    },
    {
     "name": "stderr",
     "output_type": "stream",
     "text": [
      "Scoring institutional trust (chunked):   9%| | 41/478 [23:15<5:26:43, 44.86s/it]"
     ]
    },
    {
     "name": "stdout",
     "output_type": "stream",
     "text": [
      "✅ Scored: 2014_Dawn.of.the.Planet.of.the.Apes.2014.1080p.BluRay.x264-SPARKS chunk 1\n",
      "✅ Scored: 2014_Dawn.of.the.Planet.of.the.Apes.2014.1080p.BluRay.x264-SPARKS chunk 2\n",
      "✅ Scored: 2014_Dawn.of.the.Planet.of.the.Apes.2014.1080p.BluRay.x264-SPARKS chunk 3\n",
      "✅ Scored: 2014_Dawn.of.the.Planet.of.the.Apes.2014.1080p.BluRay.x264-SPARKS chunk 4\n",
      "✅ Scored: 2014_Dawn.of.the.Planet.of.the.Apes.2014.1080p.BluRay.x264-SPARKS chunk 5\n"
     ]
    },
    {
     "name": "stderr",
     "output_type": "stream",
     "text": [
      "Scoring institutional trust (chunked):   9%| | 42/478 [23:33<4:28:05, 36.89s/it]"
     ]
    },
    {
     "name": "stdout",
     "output_type": "stream",
     "text": [
      "✅ Scored: 1992_The Hand That Rocks the Cradle [1992] chunk 1\n",
      "✅ Scored: 1992_The Hand That Rocks the Cradle [1992] chunk 2\n",
      "✅ Scored: 1992_The Hand That Rocks the Cradle [1992] chunk 3\n",
      "✅ Scored: 1992_The Hand That Rocks the Cradle [1992] chunk 4\n",
      "✅ Scored: 1992_The Hand That Rocks the Cradle [1992] chunk 5\n",
      "✅ Scored: 1992_The Hand That Rocks the Cradle [1992] chunk 6\n",
      "✅ Scored: 1992_The Hand That Rocks the Cradle [1992] chunk 7\n",
      "✅ Scored: 1992_The Hand That Rocks the Cradle [1992] chunk 8\n"
     ]
    },
    {
     "name": "stderr",
     "output_type": "stream",
     "text": [
      "Scoring institutional trust (chunked):   9%| | 43/478 [24:02<4:09:20, 34.39s/it]"
     ]
    },
    {
     "name": "stdout",
     "output_type": "stream",
     "text": [
      "✅ Scored: 2014_Captain.America.The.Winter.Soldier.2014.720p.BluRay.x264-SPARKS chunk 1\n",
      "✅ Scored: 2014_Captain.America.The.Winter.Soldier.2014.720p.BluRay.x264-SPARKS chunk 2\n",
      "✅ Scored: 2014_Captain.America.The.Winter.Soldier.2014.720p.BluRay.x264-SPARKS chunk 3\n",
      "✅ Scored: 2014_Captain.America.The.Winter.Soldier.2014.720p.BluRay.x264-SPARKS chunk 4\n",
      "✅ Scored: 2014_Captain.America.The.Winter.Soldier.2014.720p.BluRay.x264-SPARKS chunk 5\n",
      "✅ Scored: 2014_Captain.America.The.Winter.Soldier.2014.720p.BluRay.x264-SPARKS chunk 6\n",
      "✅ Scored: 2014_Captain.America.The.Winter.Soldier.2014.720p.BluRay.x264-SPARKS chunk 7\n",
      "✅ Scored: 2014_Captain.America.The.Winter.Soldier.2014.720p.BluRay.x264-SPARKS chunk 8\n",
      "✅ Scored: 2014_Captain.America.The.Winter.Soldier.2014.720p.BluRay.x264-SPARKS chunk 9\n",
      "✅ Scored: 2014_Captain.America.The.Winter.Soldier.2014.720p.BluRay.x264-SPARKS chunk 10\n",
      "✅ Scored: 2014_Captain.America.The.Winter.Soldier.2014.720p.BluRay.x264-SPARKS chunk 11\n"
     ]
    },
    {
     "name": "stderr",
     "output_type": "stream",
     "text": [
      "Scoring institutional trust (chunked):   9%| | 44/478 [24:41<4:19:49, 35.92s/it]"
     ]
    },
    {
     "name": "stdout",
     "output_type": "stream",
     "text": [
      "✅ Scored: 2012_The.Hobbit.An.Unexpected.Journey.2012.720p.BluRay.x264-SPARKS.eng chunk 1\n",
      "✅ Scored: 2012_The.Hobbit.An.Unexpected.Journey.2012.720p.BluRay.x264-SPARKS.eng chunk 2\n",
      "✅ Scored: 2012_The.Hobbit.An.Unexpected.Journey.2012.720p.BluRay.x264-SPARKS.eng chunk 3\n",
      "✅ Scored: 2012_The.Hobbit.An.Unexpected.Journey.2012.720p.BluRay.x264-SPARKS.eng chunk 4\n",
      "✅ Scored: 2012_The.Hobbit.An.Unexpected.Journey.2012.720p.BluRay.x264-SPARKS.eng chunk 5\n",
      "✅ Scored: 2012_The.Hobbit.An.Unexpected.Journey.2012.720p.BluRay.x264-SPARKS.eng chunk 6\n",
      "✅ Scored: 2012_The.Hobbit.An.Unexpected.Journey.2012.720p.BluRay.x264-SPARKS.eng chunk 7\n",
      "✅ Scored: 2012_The.Hobbit.An.Unexpected.Journey.2012.720p.BluRay.x264-SPARKS.eng chunk 8\n",
      "✅ Scored: 2012_The.Hobbit.An.Unexpected.Journey.2012.720p.BluRay.x264-SPARKS.eng chunk 9\n",
      "✅ Scored: 2012_The.Hobbit.An.Unexpected.Journey.2012.720p.BluRay.x264-SPARKS.eng chunk 10\n",
      "✅ Scored: 2012_The.Hobbit.An.Unexpected.Journey.2012.720p.BluRay.x264-SPARKS.eng chunk 11\n",
      "✅ Scored: 2012_The.Hobbit.An.Unexpected.Journey.2012.720p.BluRay.x264-SPARKS.eng chunk 12\n"
     ]
    },
    {
     "name": "stderr",
     "output_type": "stream",
     "text": [
      "Scoring institutional trust (chunked):   9%| | 45/478 [25:23<4:30:56, 37.54s/it]"
     ]
    },
    {
     "name": "stdout",
     "output_type": "stream",
     "text": [
      "✅ Scored: 1999_The Blair Witch Project.DVDRip.Occor chunk 1\n",
      "✅ Scored: 1999_The Blair Witch Project.DVDRip.Occor chunk 2\n",
      "✅ Scored: 1999_The Blair Witch Project.DVDRip.Occor chunk 3\n",
      "✅ Scored: 1999_The Blair Witch Project.DVDRip.Occor chunk 4\n",
      "✅ Scored: 1999_The Blair Witch Project.DVDRip.Occor chunk 5\n",
      "✅ Scored: 1999_The Blair Witch Project.DVDRip.Occor chunk 6\n",
      "✅ Scored: 1999_The Blair Witch Project.DVDRip.Occor chunk 7\n",
      "✅ Scored: 1999_The Blair Witch Project.DVDRip.Occor chunk 8\n",
      "✅ Scored: 1999_The Blair Witch Project.DVDRip.Occor chunk 9\n"
     ]
    },
    {
     "name": "stderr",
     "output_type": "stream",
     "text": [
      "Scoring institutional trust (chunked):  10%| | 46/478 [25:58<4:25:32, 36.88s/it]"
     ]
    },
    {
     "name": "stdout",
     "output_type": "stream",
     "text": [
      "✅ Scored: 2011_The.Twilight.Saga.Breaking.Dawn.Part.1.2011.720p.BluRay.x264-SPARKS English chunk 1\n",
      "✅ Scored: 2011_The.Twilight.Saga.Breaking.Dawn.Part.1.2011.720p.BluRay.x264-SPARKS English chunk 2\n",
      "✅ Scored: 2011_The.Twilight.Saga.Breaking.Dawn.Part.1.2011.720p.BluRay.x264-SPARKS English chunk 3\n",
      "✅ Scored: 2011_The.Twilight.Saga.Breaking.Dawn.Part.1.2011.720p.BluRay.x264-SPARKS English chunk 4\n",
      "✅ Scored: 2011_The.Twilight.Saga.Breaking.Dawn.Part.1.2011.720p.BluRay.x264-SPARKS English chunk 5\n",
      "✅ Scored: 2011_The.Twilight.Saga.Breaking.Dawn.Part.1.2011.720p.BluRay.x264-SPARKS English chunk 6\n",
      "✅ Scored: 2011_The.Twilight.Saga.Breaking.Dawn.Part.1.2011.720p.BluRay.x264-SPARKS English chunk 7\n",
      "✅ Scored: 2011_The.Twilight.Saga.Breaking.Dawn.Part.1.2011.720p.BluRay.x264-SPARKS English chunk 8\n"
     ]
    },
    {
     "name": "stderr",
     "output_type": "stream",
     "text": [
      "Scoring institutional trust (chunked):  10%| | 47/478 [26:25<4:04:11, 33.99s/it]"
     ]
    },
    {
     "name": "stdout",
     "output_type": "stream",
     "text": [
      "✅ Scored: 2017_Guardians.of.the.Galaxy.Vol.2.2017.720p.BluRay.x264-SPARKS chunk 1\n",
      "✅ Scored: 2017_Guardians.of.the.Galaxy.Vol.2.2017.720p.BluRay.x264-SPARKS chunk 2\n",
      "✅ Scored: 2017_Guardians.of.the.Galaxy.Vol.2.2017.720p.BluRay.x264-SPARKS chunk 3\n",
      "✅ Scored: 2017_Guardians.of.the.Galaxy.Vol.2.2017.720p.BluRay.x264-SPARKS chunk 4\n",
      "✅ Scored: 2017_Guardians.of.the.Galaxy.Vol.2.2017.720p.BluRay.x264-SPARKS chunk 5\n",
      "✅ Scored: 2017_Guardians.of.the.Galaxy.Vol.2.2017.720p.BluRay.x264-SPARKS chunk 6\n",
      "✅ Scored: 2017_Guardians.of.the.Galaxy.Vol.2.2017.720p.BluRay.x264-SPARKS chunk 7\n",
      "✅ Scored: 2017_Guardians.of.the.Galaxy.Vol.2.2017.720p.BluRay.x264-SPARKS chunk 8\n",
      "✅ Scored: 2017_Guardians.of.the.Galaxy.Vol.2.2017.720p.BluRay.x264-SPARKS chunk 9\n",
      "✅ Scored: 2017_Guardians.of.the.Galaxy.Vol.2.2017.720p.BluRay.x264-SPARKS chunk 10\n",
      "✅ Scored: 2017_Guardians.of.the.Galaxy.Vol.2.2017.720p.BluRay.x264-SPARKS chunk 11\n"
     ]
    },
    {
     "name": "stderr",
     "output_type": "stream",
     "text": [
      "Scoring institutional trust (chunked):  10%| | 48/478 [27:06<4:17:17, 35.90s/it]"
     ]
    },
    {
     "name": "stdout",
     "output_type": "stream",
     "text": [
      "✅ Scored: 2002_Star.Wars.Episode.II.Attack.of.the.Clones.(2002).DVDRip.XviD-UnSeeN chunk 1\n",
      "✅ Scored: 2002_Star.Wars.Episode.II.Attack.of.the.Clones.(2002).DVDRip.XviD-UnSeeN chunk 2\n",
      "✅ Scored: 2002_Star.Wars.Episode.II.Attack.of.the.Clones.(2002).DVDRip.XviD-UnSeeN chunk 3\n",
      "✅ Scored: 2002_Star.Wars.Episode.II.Attack.of.the.Clones.(2002).DVDRip.XviD-UnSeeN chunk 4\n",
      "✅ Scored: 2002_Star.Wars.Episode.II.Attack.of.the.Clones.(2002).DVDRip.XviD-UnSeeN chunk 5\n",
      "✅ Scored: 2002_Star.Wars.Episode.II.Attack.of.the.Clones.(2002).DVDRip.XviD-UnSeeN chunk 6\n",
      "✅ Scored: 2002_Star.Wars.Episode.II.Attack.of.the.Clones.(2002).DVDRip.XviD-UnSeeN chunk 7\n",
      "✅ Scored: 2002_Star.Wars.Episode.II.Attack.of.the.Clones.(2002).DVDRip.XviD-UnSeeN chunk 8\n",
      "✅ Scored: 2002_Star.Wars.Episode.II.Attack.of.the.Clones.(2002).DVDRip.XviD-UnSeeN chunk 9\n"
     ]
    },
    {
     "name": "stderr",
     "output_type": "stream",
     "text": [
      "Scoring institutional trust (chunked):  10%| | 49/478 [27:41<4:15:14, 35.70s/it]"
     ]
    },
    {
     "name": "stdout",
     "output_type": "stream",
     "text": [
      "✅ Scored: 2010_The.Twilight.Saga.Eclipse.720p.Bluray.x264-CBGB.eng chunk 1\n",
      "✅ Scored: 2010_The.Twilight.Saga.Eclipse.720p.Bluray.x264-CBGB.eng chunk 2\n",
      "✅ Scored: 2010_The.Twilight.Saga.Eclipse.720p.Bluray.x264-CBGB.eng chunk 3\n",
      "✅ Scored: 2010_The.Twilight.Saga.Eclipse.720p.Bluray.x264-CBGB.eng chunk 4\n",
      "✅ Scored: 2010_The.Twilight.Saga.Eclipse.720p.Bluray.x264-CBGB.eng chunk 5\n",
      "✅ Scored: 2010_The.Twilight.Saga.Eclipse.720p.Bluray.x264-CBGB.eng chunk 6\n",
      "✅ Scored: 2010_The.Twilight.Saga.Eclipse.720p.Bluray.x264-CBGB.eng chunk 7\n",
      "✅ Scored: 2010_The.Twilight.Saga.Eclipse.720p.Bluray.x264-CBGB.eng chunk 8\n",
      "✅ Scored: 2010_The.Twilight.Saga.Eclipse.720p.Bluray.x264-CBGB.eng chunk 9\n",
      "✅ Scored: 2010_The.Twilight.Saga.Eclipse.720p.Bluray.x264-CBGB.eng chunk 10\n"
     ]
    },
    {
     "name": "stderr",
     "output_type": "stream",
     "text": [
      "Scoring institutional trust (chunked):  10%| | 50/478 [28:17<4:14:36, 35.69s/it]"
     ]
    },
    {
     "name": "stdout",
     "output_type": "stream",
     "text": [
      "✅ Scored: 2013_Oz.the.Great.and.Powerful.2013.720p.BluRay.x264-SPARKS chunk 1\n",
      "✅ Scored: 2013_Oz.the.Great.and.Powerful.2013.720p.BluRay.x264-SPARKS chunk 2\n",
      "✅ Scored: 2013_Oz.the.Great.and.Powerful.2013.720p.BluRay.x264-SPARKS chunk 3\n",
      "✅ Scored: 2013_Oz.the.Great.and.Powerful.2013.720p.BluRay.x264-SPARKS chunk 4\n",
      "✅ Scored: 2013_Oz.the.Great.and.Powerful.2013.720p.BluRay.x264-SPARKS chunk 5\n",
      "✅ Scored: 2013_Oz.the.Great.and.Powerful.2013.720p.BluRay.x264-SPARKS chunk 6\n",
      "✅ Scored: 2013_Oz.the.Great.and.Powerful.2013.720p.BluRay.x264-SPARKS chunk 7\n",
      "✅ Scored: 2013_Oz.the.Great.and.Powerful.2013.720p.BluRay.x264-SPARKS chunk 8\n",
      "✅ Scored: 2013_Oz.the.Great.and.Powerful.2013.720p.BluRay.x264-SPARKS chunk 9\n",
      "✅ Scored: 2013_Oz.the.Great.and.Powerful.2013.720p.BluRay.x264-SPARKS chunk 10\n"
     ]
    },
    {
     "name": "stderr",
     "output_type": "stream",
     "text": [
      "Scoring institutional trust (chunked):  11%| | 51/478 [28:52<4:13:14, 35.58s/it]"
     ]
    },
    {
     "name": "stdout",
     "output_type": "stream",
     "text": [
      "✅ Scored: 2016_The.Secret.Life.of.Pets.2016.720p.BluRay.x264-SPARKS chunk 1\n",
      "✅ Scored: 2016_The.Secret.Life.of.Pets.2016.720p.BluRay.x264-SPARKS chunk 2\n",
      "✅ Scored: 2016_The.Secret.Life.of.Pets.2016.720p.BluRay.x264-SPARKS chunk 3\n",
      "✅ Scored: 2016_The.Secret.Life.of.Pets.2016.720p.BluRay.x264-SPARKS chunk 4\n",
      "✅ Scored: 2016_The.Secret.Life.of.Pets.2016.720p.BluRay.x264-SPARKS chunk 5\n",
      "✅ Scored: 2016_The.Secret.Life.of.Pets.2016.720p.BluRay.x264-SPARKS chunk 6\n",
      "✅ Scored: 2016_The.Secret.Life.of.Pets.2016.720p.BluRay.x264-SPARKS chunk 7\n"
     ]
    },
    {
     "name": "stderr",
     "output_type": "stream",
     "text": [
      "Scoring institutional trust (chunked):  11%| | 52/478 [29:20<3:56:18, 33.28s/it]"
     ]
    },
    {
     "name": "stdout",
     "output_type": "stream",
     "text": [
      "✅ Scored: 2017_The.Fate.of.the.Furious.2017.720p.BluRay.x264-SPARKS chunk 1\n",
      "✅ Scored: 2017_The.Fate.of.the.Furious.2017.720p.BluRay.x264-SPARKS chunk 2\n",
      "✅ Scored: 2017_The.Fate.of.the.Furious.2017.720p.BluRay.x264-SPARKS chunk 3\n",
      "✅ Scored: 2017_The.Fate.of.the.Furious.2017.720p.BluRay.x264-SPARKS chunk 4\n",
      "✅ Scored: 2017_The.Fate.of.the.Furious.2017.720p.BluRay.x264-SPARKS chunk 5\n",
      "✅ Scored: 2017_The.Fate.of.the.Furious.2017.720p.BluRay.x264-SPARKS chunk 6\n",
      "✅ Scored: 2017_The.Fate.of.the.Furious.2017.720p.BluRay.x264-SPARKS chunk 7\n",
      "✅ Scored: 2017_The.Fate.of.the.Furious.2017.720p.BluRay.x264-SPARKS chunk 8\n",
      "✅ Scored: 2017_The.Fate.of.the.Furious.2017.720p.BluRay.x264-SPARKS chunk 9\n",
      "✅ Scored: 2017_The.Fate.of.the.Furious.2017.720p.BluRay.x264-SPARKS chunk 10\n",
      "✅ Scored: 2017_The.Fate.of.the.Furious.2017.720p.BluRay.x264-SPARKS chunk 11\n"
     ]
    },
    {
     "name": "stderr",
     "output_type": "stream",
     "text": [
      "Scoring institutional trust (chunked):  11%| | 53/478 [30:01<4:13:18, 35.76s/it]"
     ]
    },
    {
     "name": "stdout",
     "output_type": "stream",
     "text": [
      "✅ Scored: 1989_Look_Who_Is_Talking_Eng chunk 1\n",
      "✅ Scored: 1989_Look_Who_Is_Talking_Eng chunk 2\n",
      "✅ Scored: 1989_Look_Who_Is_Talking_Eng chunk 3\n",
      "✅ Scored: 1989_Look_Who_Is_Talking_Eng chunk 4\n",
      "✅ Scored: 1989_Look_Who_Is_Talking_Eng chunk 5\n",
      "✅ Scored: 1989_Look_Who_Is_Talking_Eng chunk 6\n",
      "✅ Scored: 1989_Look_Who_Is_Talking_Eng chunk 7\n",
      "✅ Scored: 1989_Look_Who_Is_Talking_Eng chunk 8\n",
      "✅ Scored: 1989_Look_Who_Is_Talking_Eng chunk 9\n"
     ]
    },
    {
     "name": "stderr",
     "output_type": "stream",
     "text": [
      "Scoring institutional trust (chunked):  11%| | 54/478 [30:33<4:03:43, 34.49s/it]"
     ]
    },
    {
     "name": "stdout",
     "output_type": "stream",
     "text": [
      "✅ Scored: 1986_The. Karate. Kid. Part. II. 1986. 1080p. BluRay. x264-LCHD. ENG chunk 1\n",
      "✅ Scored: 1986_The. Karate. Kid. Part. II. 1986. 1080p. BluRay. x264-LCHD. ENG chunk 2\n",
      "✅ Scored: 1986_The. Karate. Kid. Part. II. 1986. 1080p. BluRay. x264-LCHD. ENG chunk 3\n",
      "✅ Scored: 1986_The. Karate. Kid. Part. II. 1986. 1080p. BluRay. x264-LCHD. ENG chunk 4\n",
      "✅ Scored: 1986_The. Karate. Kid. Part. II. 1986. 1080p. BluRay. x264-LCHD. ENG chunk 5\n",
      "✅ Scored: 1986_The. Karate. Kid. Part. II. 1986. 1080p. BluRay. x264-LCHD. ENG chunk 6\n",
      "✅ Scored: 1986_The. Karate. Kid. Part. II. 1986. 1080p. BluRay. x264-LCHD. ENG chunk 7\n"
     ]
    },
    {
     "name": "stderr",
     "output_type": "stream",
     "text": [
      "Scoring institutional trust (chunked):  12%| | 55/478 [31:01<3:49:54, 32.61s/it]"
     ]
    },
    {
     "name": "stdout",
     "output_type": "stream",
     "text": [
      "✅ Scored: 2007_Harry.Potter.and.the.Order.of.the.Phoenix.2007.720p.BluRay.DTS.x264-ESiR.ENG chunk 1\n",
      "✅ Scored: 2007_Harry.Potter.and.the.Order.of.the.Phoenix.2007.720p.BluRay.DTS.x264-ESiR.ENG chunk 2\n",
      "✅ Scored: 2007_Harry.Potter.and.the.Order.of.the.Phoenix.2007.720p.BluRay.DTS.x264-ESiR.ENG chunk 3\n",
      "✅ Scored: 2007_Harry.Potter.and.the.Order.of.the.Phoenix.2007.720p.BluRay.DTS.x264-ESiR.ENG chunk 4\n",
      "✅ Scored: 2007_Harry.Potter.and.the.Order.of.the.Phoenix.2007.720p.BluRay.DTS.x264-ESiR.ENG chunk 5\n",
      "✅ Scored: 2007_Harry.Potter.and.the.Order.of.the.Phoenix.2007.720p.BluRay.DTS.x264-ESiR.ENG chunk 6\n",
      "✅ Scored: 2007_Harry.Potter.and.the.Order.of.the.Phoenix.2007.720p.BluRay.DTS.x264-ESiR.ENG chunk 7\n",
      "✅ Scored: 2007_Harry.Potter.and.the.Order.of.the.Phoenix.2007.720p.BluRay.DTS.x264-ESiR.ENG chunk 8\n",
      "✅ Scored: 2007_Harry.Potter.and.the.Order.of.the.Phoenix.2007.720p.BluRay.DTS.x264-ESiR.ENG chunk 9\n",
      "✅ Scored: 2007_Harry.Potter.and.the.Order.of.the.Phoenix.2007.720p.BluRay.DTS.x264-ESiR.ENG chunk 10\n",
      "✅ Scored: 2007_Harry.Potter.and.the.Order.of.the.Phoenix.2007.720p.BluRay.DTS.x264-ESiR.ENG chunk 11\n"
     ]
    },
    {
     "name": "stderr",
     "output_type": "stream",
     "text": [
      "Scoring institutional trust (chunked):  12%| | 56/478 [31:42<4:06:56, 35.11s/it]"
     ]
    },
    {
     "name": "stdout",
     "output_type": "stream",
     "text": [
      "✅ Scored: 2011_Rise.of.the.Planet.of.the.Apes.2011.BluRay.1080p.DTS.x264-CHD chunk 1\n",
      "✅ Scored: 2011_Rise.of.the.Planet.of.the.Apes.2011.BluRay.1080p.DTS.x264-CHD chunk 2\n",
      "✅ Scored: 2011_Rise.of.the.Planet.of.the.Apes.2011.BluRay.1080p.DTS.x264-CHD chunk 3\n",
      "✅ Scored: 2011_Rise.of.the.Planet.of.the.Apes.2011.BluRay.1080p.DTS.x264-CHD chunk 4\n",
      "✅ Scored: 2011_Rise.of.the.Planet.of.the.Apes.2011.BluRay.1080p.DTS.x264-CHD chunk 5\n"
     ]
    },
    {
     "name": "stderr",
     "output_type": "stream",
     "text": [
      "Scoring institutional trust (chunked):  12%| | 57/478 [32:01<3:32:54, 30.34s/it]"
     ]
    },
    {
     "name": "stdout",
     "output_type": "stream",
     "text": [
      "✅ Scored: 2012_The.Dark.Knight.Rises.2012.720p.BluRay.x264-SPARKS chunk 1\n",
      "✅ Scored: 2012_The.Dark.Knight.Rises.2012.720p.BluRay.x264-SPARKS chunk 2\n",
      "✅ Scored: 2012_The.Dark.Knight.Rises.2012.720p.BluRay.x264-SPARKS chunk 3\n",
      "✅ Scored: 2012_The.Dark.Knight.Rises.2012.720p.BluRay.x264-SPARKS chunk 4\n",
      "✅ Scored: 2012_The.Dark.Knight.Rises.2012.720p.BluRay.x264-SPARKS chunk 5\n",
      "✅ Scored: 2012_The.Dark.Knight.Rises.2012.720p.BluRay.x264-SPARKS chunk 6\n",
      "✅ Scored: 2012_The.Dark.Knight.Rises.2012.720p.BluRay.x264-SPARKS chunk 7\n",
      "✅ Scored: 2012_The.Dark.Knight.Rises.2012.720p.BluRay.x264-SPARKS chunk 8\n",
      "✅ Scored: 2012_The.Dark.Knight.Rises.2012.720p.BluRay.x264-SPARKS chunk 9\n",
      "✅ Scored: 2012_The.Dark.Knight.Rises.2012.720p.BluRay.x264-SPARKS chunk 10\n",
      "✅ Scored: 2012_The.Dark.Knight.Rises.2012.720p.BluRay.x264-SPARKS chunk 11\n",
      "✅ Scored: 2012_The.Dark.Knight.Rises.2012.720p.BluRay.x264-SPARKS chunk 12\n",
      "✅ Scored: 2012_The.Dark.Knight.Rises.2012.720p.BluRay.x264-SPARKS chunk 13\n",
      "✅ Scored: 2012_The.Dark.Knight.Rises.2012.720p.BluRay.x264-SPARKS chunk 14\n"
     ]
    },
    {
     "name": "stderr",
     "output_type": "stream",
     "text": [
      "Scoring institutional trust (chunked):  12%| | 58/478 [33:01<4:34:20, 39.19s/it]"
     ]
    },
    {
     "name": "stdout",
     "output_type": "stream",
     "text": [
      "✅ Scored: 2020_Birds.of.Prey.And.the.Fantabulous.Emancipation.of.One.Harley.Quinn.2020.HC.720p.HDRip.800M chunk 1\n",
      "✅ Scored: 2020_Birds.of.Prey.And.the.Fantabulous.Emancipation.of.One.Harley.Quinn.2020.HC.720p.HDRip.800M chunk 2\n",
      "✅ Scored: 2020_Birds.of.Prey.And.the.Fantabulous.Emancipation.of.One.Harley.Quinn.2020.HC.720p.HDRip.800M chunk 3\n",
      "✅ Scored: 2020_Birds.of.Prey.And.the.Fantabulous.Emancipation.of.One.Harley.Quinn.2020.HC.720p.HDRip.800M chunk 4\n",
      "✅ Scored: 2020_Birds.of.Prey.And.the.Fantabulous.Emancipation.of.One.Harley.Quinn.2020.HC.720p.HDRip.800M chunk 5\n",
      "✅ Scored: 2020_Birds.of.Prey.And.the.Fantabulous.Emancipation.of.One.Harley.Quinn.2020.HC.720p.HDRip.800M chunk 6\n",
      "✅ Scored: 2020_Birds.of.Prey.And.the.Fantabulous.Emancipation.of.One.Harley.Quinn.2020.HC.720p.HDRip.800M chunk 7\n",
      "✅ Scored: 2020_Birds.of.Prey.And.the.Fantabulous.Emancipation.of.One.Harley.Quinn.2020.HC.720p.HDRip.800M chunk 8\n",
      "✅ Scored: 2020_Birds.of.Prey.And.the.Fantabulous.Emancipation.of.One.Harley.Quinn.2020.HC.720p.HDRip.800M chunk 9\n",
      "✅ Scored: 2020_Birds.of.Prey.And.the.Fantabulous.Emancipation.of.One.Harley.Quinn.2020.HC.720p.HDRip.800M chunk 10\n"
     ]
    },
    {
     "name": "stderr",
     "output_type": "stream",
     "text": [
      "Scoring institutional trust (chunked):  12%| | 59/478 [33:42<4:36:45, 39.63s/it]"
     ]
    },
    {
     "name": "stdout",
     "output_type": "stream",
     "text": [
      "✅ Scored: 2019_Star.Wars.Episode.IX.The.Rise.of.Skywalker.2020.BDRip.XviD.AC3-EVO chunk 1\n",
      "✅ Scored: 2019_Star.Wars.Episode.IX.The.Rise.of.Skywalker.2020.BDRip.XviD.AC3-EVO chunk 2\n",
      "✅ Scored: 2019_Star.Wars.Episode.IX.The.Rise.of.Skywalker.2020.BDRip.XviD.AC3-EVO chunk 3\n",
      "✅ Scored: 2019_Star.Wars.Episode.IX.The.Rise.of.Skywalker.2020.BDRip.XviD.AC3-EVO chunk 4\n",
      "✅ Scored: 2019_Star.Wars.Episode.IX.The.Rise.of.Skywalker.2020.BDRip.XviD.AC3-EVO chunk 5\n",
      "✅ Scored: 2019_Star.Wars.Episode.IX.The.Rise.of.Skywalker.2020.BDRip.XviD.AC3-EVO chunk 6\n",
      "✅ Scored: 2019_Star.Wars.Episode.IX.The.Rise.of.Skywalker.2020.BDRip.XviD.AC3-EVO chunk 7\n",
      "✅ Scored: 2019_Star.Wars.Episode.IX.The.Rise.of.Skywalker.2020.BDRip.XviD.AC3-EVO chunk 8\n",
      "✅ Scored: 2019_Star.Wars.Episode.IX.The.Rise.of.Skywalker.2020.BDRip.XviD.AC3-EVO chunk 9\n"
     ]
    },
    {
     "name": "stderr",
     "output_type": "stream",
     "text": [
      "Scoring institutional trust (chunked):  13%|▏| 60/478 [34:20<4:32:17, 39.09s/it]"
     ]
    },
    {
     "name": "stdout",
     "output_type": "stream",
     "text": [
      "✅ Scored: 1986_Ferris.Buellers.Day.Off.1986.1080p.BluRay.x264-CiNEFiLE.ENG chunk 1\n",
      "✅ Scored: 1986_Ferris.Buellers.Day.Off.1986.1080p.BluRay.x264-CiNEFiLE.ENG chunk 2\n",
      "✅ Scored: 1986_Ferris.Buellers.Day.Off.1986.1080p.BluRay.x264-CiNEFiLE.ENG chunk 3\n",
      "✅ Scored: 1986_Ferris.Buellers.Day.Off.1986.1080p.BluRay.x264-CiNEFiLE.ENG chunk 4\n",
      "✅ Scored: 1986_Ferris.Buellers.Day.Off.1986.1080p.BluRay.x264-CiNEFiLE.ENG chunk 5\n",
      "✅ Scored: 1986_Ferris.Buellers.Day.Off.1986.1080p.BluRay.x264-CiNEFiLE.ENG chunk 6\n",
      "✅ Scored: 1986_Ferris.Buellers.Day.Off.1986.1080p.BluRay.x264-CiNEFiLE.ENG chunk 7\n",
      "✅ Scored: 1986_Ferris.Buellers.Day.Off.1986.1080p.BluRay.x264-CiNEFiLE.ENG chunk 8\n",
      "✅ Scored: 1986_Ferris.Buellers.Day.Off.1986.1080p.BluRay.x264-CiNEFiLE.ENG chunk 9\n"
     ]
    },
    {
     "name": "stderr",
     "output_type": "stream",
     "text": [
      "Scoring institutional trust (chunked):  13%|▏| 61/478 [34:53<4:20:55, 37.54s/it]"
     ]
    },
    {
     "name": "stdout",
     "output_type": "stream",
     "text": [
      "✅ Scored: 1977_Saturday.Night.Fever.1977.720p.BluRay.x264-CiNEFiLE.ENG chunk 1\n",
      "✅ Scored: 1977_Saturday.Night.Fever.1977.720p.BluRay.x264-CiNEFiLE.ENG chunk 2\n",
      "✅ Scored: 1977_Saturday.Night.Fever.1977.720p.BluRay.x264-CiNEFiLE.ENG chunk 3\n",
      "✅ Scored: 1977_Saturday.Night.Fever.1977.720p.BluRay.x264-CiNEFiLE.ENG chunk 4\n",
      "✅ Scored: 1977_Saturday.Night.Fever.1977.720p.BluRay.x264-CiNEFiLE.ENG chunk 5\n",
      "✅ Scored: 1977_Saturday.Night.Fever.1977.720p.BluRay.x264-CiNEFiLE.ENG chunk 6\n",
      "✅ Scored: 1977_Saturday.Night.Fever.1977.720p.BluRay.x264-CiNEFiLE.ENG chunk 7\n",
      "✅ Scored: 1977_Saturday.Night.Fever.1977.720p.BluRay.x264-CiNEFiLE.ENG chunk 8\n",
      "✅ Scored: 1977_Saturday.Night.Fever.1977.720p.BluRay.x264-CiNEFiLE.ENG chunk 9\n",
      "✅ Scored: 1977_Saturday.Night.Fever.1977.720p.BluRay.x264-CiNEFiLE.ENG chunk 10\n",
      "✅ Scored: 1977_Saturday.Night.Fever.1977.720p.BluRay.x264-CiNEFiLE.ENG chunk 11\n",
      "✅ Scored: 1977_Saturday.Night.Fever.1977.720p.BluRay.x264-CiNEFiLE.ENG chunk 12\n",
      "✅ Scored: 1977_Saturday.Night.Fever.1977.720p.BluRay.x264-CiNEFiLE.ENG chunk 13\n",
      "✅ Scored: 1977_Saturday.Night.Fever.1977.720p.BluRay.x264-CiNEFiLE.ENG chunk 14\n"
     ]
    },
    {
     "name": "stderr",
     "output_type": "stream",
     "text": [
      "Scoring institutional trust (chunked):  13%|▏| 62/478 [35:42<4:42:31, 40.75s/it]"
     ]
    },
    {
     "name": "stdout",
     "output_type": "stream",
     "text": [
      "⚠️ Missing files for 2017_Beauty.and.the.Beast.2017.720p.BluRay.x264-SPARKS. Skipping.\n",
      "✅ Scored: 1987_Beverly.Hills.Cop.II.1987.720p.BluRay.x264.DTS-WiKi.eng chunk 1\n",
      "✅ Scored: 1987_Beverly.Hills.Cop.II.1987.720p.BluRay.x264.DTS-WiKi.eng chunk 2\n",
      "✅ Scored: 1987_Beverly.Hills.Cop.II.1987.720p.BluRay.x264.DTS-WiKi.eng chunk 3\n",
      "✅ Scored: 1987_Beverly.Hills.Cop.II.1987.720p.BluRay.x264.DTS-WiKi.eng chunk 4\n",
      "✅ Scored: 1987_Beverly.Hills.Cop.II.1987.720p.BluRay.x264.DTS-WiKi.eng chunk 5\n",
      "✅ Scored: 1987_Beverly.Hills.Cop.II.1987.720p.BluRay.x264.DTS-WiKi.eng chunk 6\n",
      "⚠️ Rate limit hit. Waiting 60 seconds...\n",
      "✅ Scored: 1987_Beverly.Hills.Cop.II.1987.720p.BluRay.x264.DTS-WiKi.eng chunk 7\n",
      "✅ Scored: 1987_Beverly.Hills.Cop.II.1987.720p.BluRay.x264.DTS-WiKi.eng chunk 8\n",
      "✅ Scored: 1987_Beverly.Hills.Cop.II.1987.720p.BluRay.x264.DTS-WiKi.eng chunk 9\n",
      "✅ Scored: 1987_Beverly.Hills.Cop.II.1987.720p.BluRay.x264.DTS-WiKi.eng chunk 10\n",
      "✅ Scored: 1987_Beverly.Hills.Cop.II.1987.720p.BluRay.x264.DTS-WiKi.eng chunk 11\n",
      "✅ Scored: 1987_Beverly.Hills.Cop.II.1987.720p.BluRay.x264.DTS-WiKi.eng chunk 12\n"
     ]
    },
    {
     "name": "stderr",
     "output_type": "stream",
     "text": [
      "Scoring institutional trust (chunked):  13%|▏| 64/478 [37:29<5:21:43, 46.63s/it]"
     ]
    },
    {
     "name": "stdout",
     "output_type": "stream",
     "text": [
      "✅ Scored: 1989_Honey.I.Shrunk.The.Kids.1989.DVDRip.XviD.ENG chunk 1\n",
      "✅ Scored: 1989_Honey.I.Shrunk.The.Kids.1989.DVDRip.XviD.ENG chunk 2\n",
      "✅ Scored: 1989_Honey.I.Shrunk.The.Kids.1989.DVDRip.XviD.ENG chunk 3\n",
      "✅ Scored: 1989_Honey.I.Shrunk.The.Kids.1989.DVDRip.XviD.ENG chunk 4\n",
      "✅ Scored: 1989_Honey.I.Shrunk.The.Kids.1989.DVDRip.XviD.ENG chunk 5\n",
      "✅ Scored: 1989_Honey.I.Shrunk.The.Kids.1989.DVDRip.XviD.ENG chunk 6\n",
      "✅ Scored: 1989_Honey.I.Shrunk.The.Kids.1989.DVDRip.XviD.ENG chunk 7\n",
      "✅ Scored: 1989_Honey.I.Shrunk.The.Kids.1989.DVDRip.XviD.ENG chunk 8\n"
     ]
    },
    {
     "name": "stderr",
     "output_type": "stream",
     "text": [
      "Scoring institutional trust (chunked):  14%|▏| 65/478 [37:58<4:51:29, 42.35s/it]"
     ]
    },
    {
     "name": "stdout",
     "output_type": "stream",
     "text": [
      "✅ Scored: 1977_Star.Wars.Episode.IV.A.New.Hope.(1977).DVDRip.XviD-UnSeeN chunk 1\n",
      "✅ Scored: 1977_Star.Wars.Episode.IV.A.New.Hope.(1977).DVDRip.XviD-UnSeeN chunk 2\n",
      "✅ Scored: 1977_Star.Wars.Episode.IV.A.New.Hope.(1977).DVDRip.XviD-UnSeeN chunk 3\n",
      "✅ Scored: 1977_Star.Wars.Episode.IV.A.New.Hope.(1977).DVDRip.XviD-UnSeeN chunk 4\n",
      "✅ Scored: 1977_Star.Wars.Episode.IV.A.New.Hope.(1977).DVDRip.XviD-UnSeeN chunk 5\n",
      "✅ Scored: 1977_Star.Wars.Episode.IV.A.New.Hope.(1977).DVDRip.XviD-UnSeeN chunk 6\n",
      "✅ Scored: 1977_Star.Wars.Episode.IV.A.New.Hope.(1977).DVDRip.XviD-UnSeeN chunk 7\n",
      "✅ Scored: 1977_Star.Wars.Episode.IV.A.New.Hope.(1977).DVDRip.XviD-UnSeeN chunk 8\n",
      "✅ Scored: 1977_Star.Wars.Episode.IV.A.New.Hope.(1977).DVDRip.XviD-UnSeeN chunk 9\n",
      "✅ Scored: 1977_Star.Wars.Episode.IV.A.New.Hope.(1977).DVDRip.XviD-UnSeeN chunk 10\n",
      "✅ Scored: 1977_Star.Wars.Episode.IV.A.New.Hope.(1977).DVDRip.XviD-UnSeeN chunk 11\n",
      "✅ Scored: 1977_Star.Wars.Episode.IV.A.New.Hope.(1977).DVDRip.XviD-UnSeeN chunk 12\n"
     ]
    },
    {
     "name": "stderr",
     "output_type": "stream",
     "text": [
      "Scoring institutional trust (chunked):  14%|▏| 66/478 [38:40<4:50:06, 42.25s/it]"
     ]
    },
    {
     "name": "stdout",
     "output_type": "stream",
     "text": [
      "✅ Scored: 2005_Star.Wars.Episode.III.Revenge.of.the.Sith.(2005).DVDRip.XviD-UnSeeN chunk 1\n",
      "✅ Scored: 2005_Star.Wars.Episode.III.Revenge.of.the.Sith.(2005).DVDRip.XviD-UnSeeN chunk 2\n",
      "✅ Scored: 2005_Star.Wars.Episode.III.Revenge.of.the.Sith.(2005).DVDRip.XviD-UnSeeN chunk 3\n",
      "✅ Scored: 2005_Star.Wars.Episode.III.Revenge.of.the.Sith.(2005).DVDRip.XviD-UnSeeN chunk 4\n",
      "✅ Scored: 2005_Star.Wars.Episode.III.Revenge.of.the.Sith.(2005).DVDRip.XviD-UnSeeN chunk 5\n",
      "✅ Scored: 2005_Star.Wars.Episode.III.Revenge.of.the.Sith.(2005).DVDRip.XviD-UnSeeN chunk 6\n",
      "✅ Scored: 2005_Star.Wars.Episode.III.Revenge.of.the.Sith.(2005).DVDRip.XviD-UnSeeN chunk 7\n",
      "✅ Scored: 2005_Star.Wars.Episode.III.Revenge.of.the.Sith.(2005).DVDRip.XviD-UnSeeN chunk 8\n",
      "✅ Scored: 2005_Star.Wars.Episode.III.Revenge.of.the.Sith.(2005).DVDRip.XviD-UnSeeN chunk 9\n"
     ]
    },
    {
     "name": "stderr",
     "output_type": "stream",
     "text": [
      "Scoring institutional trust (chunked):  14%|▏| 67/478 [39:17<4:39:57, 40.87s/it]"
     ]
    },
    {
     "name": "stdout",
     "output_type": "stream",
     "text": [
      "✅ Scored: 1987_Stakeout (ENG) chunk 1\n",
      "✅ Scored: 1987_Stakeout (ENG) chunk 2\n",
      "✅ Scored: 1987_Stakeout (ENG) chunk 3\n",
      "✅ Scored: 1987_Stakeout (ENG) chunk 4\n",
      "✅ Scored: 1987_Stakeout (ENG) chunk 5\n",
      "✅ Scored: 1987_Stakeout (ENG) chunk 6\n",
      "✅ Scored: 1987_Stakeout (ENG) chunk 7\n",
      "✅ Scored: 1987_Stakeout (ENG) chunk 8\n",
      "✅ Scored: 1987_Stakeout (ENG) chunk 9\n",
      "✅ Scored: 1987_Stakeout (ENG) chunk 10\n",
      "✅ Scored: 1987_Stakeout (ENG) chunk 11\n"
     ]
    },
    {
     "name": "stderr",
     "output_type": "stream",
     "text": [
      "Scoring institutional trust (chunked):  14%|▏| 68/478 [39:56<4:35:05, 40.26s/it]"
     ]
    },
    {
     "name": "stdout",
     "output_type": "stream",
     "text": [
      "✅ Scored: 2017_Spider-Man.Homecoming.2017.720p.BluRay.x264-SPARKS chunk 1\n",
      "✅ Scored: 2017_Spider-Man.Homecoming.2017.720p.BluRay.x264-SPARKS chunk 2\n",
      "✅ Scored: 2017_Spider-Man.Homecoming.2017.720p.BluRay.x264-SPARKS chunk 3\n",
      "✅ Scored: 2017_Spider-Man.Homecoming.2017.720p.BluRay.x264-SPARKS chunk 4\n",
      "✅ Scored: 2017_Spider-Man.Homecoming.2017.720p.BluRay.x264-SPARKS chunk 5\n",
      "✅ Scored: 2017_Spider-Man.Homecoming.2017.720p.BluRay.x264-SPARKS chunk 6\n",
      "✅ Scored: 2017_Spider-Man.Homecoming.2017.720p.BluRay.x264-SPARKS chunk 7\n",
      "✅ Scored: 2017_Spider-Man.Homecoming.2017.720p.BluRay.x264-SPARKS chunk 8\n",
      "✅ Scored: 2017_Spider-Man.Homecoming.2017.720p.BluRay.x264-SPARKS chunk 9\n",
      "✅ Scored: 2017_Spider-Man.Homecoming.2017.720p.BluRay.x264-SPARKS chunk 10\n",
      "✅ Scored: 2017_Spider-Man.Homecoming.2017.720p.BluRay.x264-SPARKS chunk 11\n",
      "✅ Scored: 2017_Spider-Man.Homecoming.2017.720p.BluRay.x264-SPARKS chunk 12\n",
      "✅ Scored: 2017_Spider-Man.Homecoming.2017.720p.BluRay.x264-SPARKS chunk 13\n",
      "✅ Scored: 2017_Spider-Man.Homecoming.2017.720p.BluRay.x264-SPARKS chunk 14\n"
     ]
    },
    {
     "name": "stderr",
     "output_type": "stream",
     "text": [
      "Scoring institutional trust (chunked):  14%|▏| 69/478 [40:46<4:53:45, 43.09s/it]"
     ]
    },
    {
     "name": "stdout",
     "output_type": "stream",
     "text": [
      "✅ Scored: 2015_Star.Wars.Episode.VII.The.Force.Awakens.2015.720p.BluRay.x264-Replica chunk 1\n",
      "✅ Scored: 2015_Star.Wars.Episode.VII.The.Force.Awakens.2015.720p.BluRay.x264-Replica chunk 2\n",
      "✅ Scored: 2015_Star.Wars.Episode.VII.The.Force.Awakens.2015.720p.BluRay.x264-Replica chunk 3\n",
      "✅ Scored: 2015_Star.Wars.Episode.VII.The.Force.Awakens.2015.720p.BluRay.x264-Replica chunk 4\n",
      "✅ Scored: 2015_Star.Wars.Episode.VII.The.Force.Awakens.2015.720p.BluRay.x264-Replica chunk 5\n",
      "✅ Scored: 2015_Star.Wars.Episode.VII.The.Force.Awakens.2015.720p.BluRay.x264-Replica chunk 6\n",
      "✅ Scored: 2015_Star.Wars.Episode.VII.The.Force.Awakens.2015.720p.BluRay.x264-Replica chunk 7\n",
      "✅ Scored: 2015_Star.Wars.Episode.VII.The.Force.Awakens.2015.720p.BluRay.x264-Replica chunk 8\n",
      "✅ Scored: 2015_Star.Wars.Episode.VII.The.Force.Awakens.2015.720p.BluRay.x264-Replica chunk 9\n"
     ]
    },
    {
     "name": "stderr",
     "output_type": "stream",
     "text": [
      "Scoring institutional trust (chunked):  15%|▏| 70/478 [41:22<4:39:08, 41.05s/it]"
     ]
    },
    {
     "name": "stdout",
     "output_type": "stream",
     "text": [
      "✅ Scored: 2014_Transformers.Age.of.Extinction.2014.720p.BluRay.x264-BLOW chunk 1\n",
      "✅ Scored: 2014_Transformers.Age.of.Extinction.2014.720p.BluRay.x264-BLOW chunk 2\n",
      "✅ Scored: 2014_Transformers.Age.of.Extinction.2014.720p.BluRay.x264-BLOW chunk 3\n",
      "✅ Scored: 2014_Transformers.Age.of.Extinction.2014.720p.BluRay.x264-BLOW chunk 4\n",
      "✅ Scored: 2014_Transformers.Age.of.Extinction.2014.720p.BluRay.x264-BLOW chunk 5\n",
      "✅ Scored: 2014_Transformers.Age.of.Extinction.2014.720p.BluRay.x264-BLOW chunk 6\n",
      "✅ Scored: 2014_Transformers.Age.of.Extinction.2014.720p.BluRay.x264-BLOW chunk 7\n",
      "✅ Scored: 2014_Transformers.Age.of.Extinction.2014.720p.BluRay.x264-BLOW chunk 8\n",
      "✅ Scored: 2014_Transformers.Age.of.Extinction.2014.720p.BluRay.x264-BLOW chunk 9\n",
      "✅ Scored: 2014_Transformers.Age.of.Extinction.2014.720p.BluRay.x264-BLOW chunk 10\n",
      "✅ Scored: 2014_Transformers.Age.of.Extinction.2014.720p.BluRay.x264-BLOW chunk 11\n",
      "✅ Scored: 2014_Transformers.Age.of.Extinction.2014.720p.BluRay.x264-BLOW chunk 12\n",
      "✅ Scored: 2014_Transformers.Age.of.Extinction.2014.720p.BluRay.x264-BLOW chunk 13\n",
      "✅ Scored: 2014_Transformers.Age.of.Extinction.2014.720p.BluRay.x264-BLOW chunk 14\n",
      "✅ Scored: 2014_Transformers.Age.of.Extinction.2014.720p.BluRay.x264-BLOW chunk 15\n",
      "✅ Scored: 2014_Transformers.Age.of.Extinction.2014.720p.BluRay.x264-BLOW chunk 16\n"
     ]
    },
    {
     "name": "stderr",
     "output_type": "stream",
     "text": [
      "Scoring institutional trust (chunked):  15%|▏| 71/478 [42:23<5:16:55, 46.72s/it]"
     ]
    },
    {
     "name": "stdout",
     "output_type": "stream",
     "text": [
      "✅ Scored: 1978_Every.Which.Way.But.Loose.1978.1080p.BluRay.x264-aAF.ENG chunk 1\n",
      "✅ Scored: 1978_Every.Which.Way.But.Loose.1978.1080p.BluRay.x264-aAF.ENG chunk 2\n",
      "✅ Scored: 1978_Every.Which.Way.But.Loose.1978.1080p.BluRay.x264-aAF.ENG chunk 3\n",
      "✅ Scored: 1978_Every.Which.Way.But.Loose.1978.1080p.BluRay.x264-aAF.ENG chunk 4\n",
      "✅ Scored: 1978_Every.Which.Way.But.Loose.1978.1080p.BluRay.x264-aAF.ENG chunk 5\n",
      "✅ Scored: 1978_Every.Which.Way.But.Loose.1978.1080p.BluRay.x264-aAF.ENG chunk 6\n",
      "✅ Scored: 1978_Every.Which.Way.But.Loose.1978.1080p.BluRay.x264-aAF.ENG chunk 7\n",
      "✅ Scored: 1978_Every.Which.Way.But.Loose.1978.1080p.BluRay.x264-aAF.ENG chunk 8\n"
     ]
    },
    {
     "name": "stderr",
     "output_type": "stream",
     "text": [
      "Scoring institutional trust (chunked):  15%|▏| 72/478 [42:52<4:42:25, 41.74s/it]"
     ]
    },
    {
     "name": "stdout",
     "output_type": "stream",
     "text": [
      "✅ Scored: 1981_the cannonball run eng bluray chunk 1\n",
      "✅ Scored: 1981_the cannonball run eng bluray chunk 2\n",
      "✅ Scored: 1981_the cannonball run eng bluray chunk 3\n",
      "✅ Scored: 1981_the cannonball run eng bluray chunk 4\n",
      "✅ Scored: 1981_the cannonball run eng bluray chunk 5\n",
      "✅ Scored: 1981_the cannonball run eng bluray chunk 6\n",
      "✅ Scored: 1981_the cannonball run eng bluray chunk 7\n",
      "✅ Scored: 1981_the cannonball run eng bluray chunk 8\n",
      "✅ Scored: 1981_the cannonball run eng bluray chunk 9\n",
      "✅ Scored: 1981_the cannonball run eng bluray chunk 10\n",
      "✅ Scored: 1981_the cannonball run eng bluray chunk 11\n"
     ]
    },
    {
     "name": "stderr",
     "output_type": "stream",
     "text": [
      "Scoring institutional trust (chunked):  15%|▏| 73/478 [43:31<4:35:31, 40.82s/it]"
     ]
    },
    {
     "name": "stdout",
     "output_type": "stream",
     "text": [
      "✅ Scored: 1982_The Best Little Whorehouse In Texas - 1982 chunk 1\n",
      "✅ Scored: 1982_The Best Little Whorehouse In Texas - 1982 chunk 2\n",
      "✅ Scored: 1982_The Best Little Whorehouse In Texas - 1982 chunk 3\n",
      "✅ Scored: 1982_The Best Little Whorehouse In Texas - 1982 chunk 4\n",
      "✅ Scored: 1982_The Best Little Whorehouse In Texas - 1982 chunk 5\n",
      "✅ Scored: 1982_The Best Little Whorehouse In Texas - 1982 chunk 6\n",
      "✅ Scored: 1982_The Best Little Whorehouse In Texas - 1982 chunk 7\n",
      "✅ Scored: 1982_The Best Little Whorehouse In Texas - 1982 chunk 8\n",
      "✅ Scored: 1982_The Best Little Whorehouse In Texas - 1982 chunk 9\n",
      "✅ Scored: 1982_The Best Little Whorehouse In Texas - 1982 chunk 10\n",
      "✅ Scored: 1982_The Best Little Whorehouse In Texas - 1982 chunk 11\n",
      "✅ Scored: 1982_The Best Little Whorehouse In Texas - 1982 chunk 12\n",
      "✅ Scored: 1982_The Best Little Whorehouse In Texas - 1982 chunk 13\n",
      "✅ Scored: 1982_The Best Little Whorehouse In Texas - 1982 chunk 14\n"
     ]
    },
    {
     "name": "stderr",
     "output_type": "stream",
     "text": [
      "Scoring institutional trust (chunked):  15%|▏| 74/478 [44:24<4:59:33, 44.49s/it]"
     ]
    },
    {
     "name": "stdout",
     "output_type": "stream",
     "text": [
      "✅ Scored: 1977_The Turning Point 1977 720p BRRip x264-PLAYNOW chunk 1\n",
      "✅ Scored: 1977_The Turning Point 1977 720p BRRip x264-PLAYNOW chunk 2\n",
      "✅ Scored: 1977_The Turning Point 1977 720p BRRip x264-PLAYNOW chunk 3\n",
      "✅ Scored: 1977_The Turning Point 1977 720p BRRip x264-PLAYNOW chunk 4\n",
      "✅ Scored: 1977_The Turning Point 1977 720p BRRip x264-PLAYNOW chunk 5\n",
      "✅ Scored: 1977_The Turning Point 1977 720p BRRip x264-PLAYNOW chunk 6\n",
      "✅ Scored: 1977_The Turning Point 1977 720p BRRip x264-PLAYNOW chunk 7\n",
      "✅ Scored: 1977_The Turning Point 1977 720p BRRip x264-PLAYNOW chunk 8\n",
      "✅ Scored: 1977_The Turning Point 1977 720p BRRip x264-PLAYNOW chunk 9\n",
      "✅ Scored: 1977_The Turning Point 1977 720p BRRip x264-PLAYNOW chunk 10\n"
     ]
    },
    {
     "name": "stderr",
     "output_type": "stream",
     "text": [
      "Scoring institutional trust (chunked):  16%|▏| 75/478 [45:05<4:51:52, 43.45s/it]"
     ]
    },
    {
     "name": "stdout",
     "output_type": "stream",
     "text": [
      "✅ Scored: 1984_Beverly.Hills.Cop.1984.720p.BluRay.x264.DTS-WiKi.eng chunk 1\n",
      "✅ Scored: 1984_Beverly.Hills.Cop.1984.720p.BluRay.x264.DTS-WiKi.eng chunk 2\n",
      "✅ Scored: 1984_Beverly.Hills.Cop.1984.720p.BluRay.x264.DTS-WiKi.eng chunk 3\n",
      "✅ Scored: 1984_Beverly.Hills.Cop.1984.720p.BluRay.x264.DTS-WiKi.eng chunk 4\n",
      "✅ Scored: 1984_Beverly.Hills.Cop.1984.720p.BluRay.x264.DTS-WiKi.eng chunk 5\n",
      "✅ Scored: 1984_Beverly.Hills.Cop.1984.720p.BluRay.x264.DTS-WiKi.eng chunk 6\n",
      "✅ Scored: 1984_Beverly.Hills.Cop.1984.720p.BluRay.x264.DTS-WiKi.eng chunk 7\n",
      "✅ Scored: 1984_Beverly.Hills.Cop.1984.720p.BluRay.x264.DTS-WiKi.eng chunk 8\n",
      "✅ Scored: 1984_Beverly.Hills.Cop.1984.720p.BluRay.x264.DTS-WiKi.eng chunk 9\n",
      "✅ Scored: 1984_Beverly.Hills.Cop.1984.720p.BluRay.x264.DTS-WiKi.eng chunk 10\n"
     ]
    },
    {
     "name": "stderr",
     "output_type": "stream",
     "text": [
      "Scoring institutional trust (chunked):  16%|▏| 76/478 [45:43<4:40:23, 41.85s/it]"
     ]
    },
    {
     "name": "stdout",
     "output_type": "stream",
     "text": [
      "✅ Scored: 2002_My.Big.Fat.Greek.Wedding.2002.DVDRip.XviD.AR - ENG chunk 1\n",
      "✅ Scored: 2002_My.Big.Fat.Greek.Wedding.2002.DVDRip.XviD.AR - ENG chunk 2\n",
      "✅ Scored: 2002_My.Big.Fat.Greek.Wedding.2002.DVDRip.XviD.AR - ENG chunk 3\n",
      "✅ Scored: 2002_My.Big.Fat.Greek.Wedding.2002.DVDRip.XviD.AR - ENG chunk 4\n",
      "✅ Scored: 2002_My.Big.Fat.Greek.Wedding.2002.DVDRip.XviD.AR - ENG chunk 5\n",
      "✅ Scored: 2002_My.Big.Fat.Greek.Wedding.2002.DVDRip.XviD.AR - ENG chunk 6\n",
      "✅ Scored: 2002_My.Big.Fat.Greek.Wedding.2002.DVDRip.XviD.AR - ENG chunk 7\n",
      "✅ Scored: 2002_My.Big.Fat.Greek.Wedding.2002.DVDRip.XviD.AR - ENG chunk 8\n"
     ]
    },
    {
     "name": "stderr",
     "output_type": "stream",
     "text": [
      "Scoring institutional trust (chunked):  16%|▏| 77/478 [46:24<4:37:36, 41.54s/it]"
     ]
    },
    {
     "name": "stdout",
     "output_type": "stream",
     "text": [
      "✅ Scored: 1994_Interview.with.the.Vampire.2008.720p.BluRay.x264-ESiR.ENG chunk 1\n",
      "✅ Scored: 1994_Interview.with.the.Vampire.2008.720p.BluRay.x264-ESiR.ENG chunk 2\n",
      "✅ Scored: 1994_Interview.with.the.Vampire.2008.720p.BluRay.x264-ESiR.ENG chunk 3\n",
      "✅ Scored: 1994_Interview.with.the.Vampire.2008.720p.BluRay.x264-ESiR.ENG chunk 4\n",
      "✅ Scored: 1994_Interview.with.the.Vampire.2008.720p.BluRay.x264-ESiR.ENG chunk 5\n",
      "✅ Scored: 1994_Interview.with.the.Vampire.2008.720p.BluRay.x264-ESiR.ENG chunk 6\n",
      "✅ Scored: 1994_Interview.with.the.Vampire.2008.720p.BluRay.x264-ESiR.ENG chunk 7\n",
      "✅ Scored: 1994_Interview.with.the.Vampire.2008.720p.BluRay.x264-ESiR.ENG chunk 8\n"
     ]
    },
    {
     "name": "stderr",
     "output_type": "stream",
     "text": [
      "Scoring institutional trust (chunked):  16%|▏| 78/478 [46:55<4:15:46, 38.37s/it]"
     ]
    },
    {
     "name": "stdout",
     "output_type": "stream",
     "text": [
      "✅ Scored: 2005_Charlie.and.the.Chocolate.Factory.2005.BluRay.1080p.DTS.x264.dxva-wsp.ENG chunk 1\n",
      "✅ Scored: 2005_Charlie.and.the.Chocolate.Factory.2005.BluRay.1080p.DTS.x264.dxva-wsp.ENG chunk 2\n",
      "✅ Scored: 2005_Charlie.and.the.Chocolate.Factory.2005.BluRay.1080p.DTS.x264.dxva-wsp.ENG chunk 3\n",
      "✅ Scored: 2005_Charlie.and.the.Chocolate.Factory.2005.BluRay.1080p.DTS.x264.dxva-wsp.ENG chunk 4\n",
      "✅ Scored: 2005_Charlie.and.the.Chocolate.Factory.2005.BluRay.1080p.DTS.x264.dxva-wsp.ENG chunk 5\n",
      "✅ Scored: 2005_Charlie.and.the.Chocolate.Factory.2005.BluRay.1080p.DTS.x264.dxva-wsp.ENG chunk 6\n",
      "✅ Scored: 2005_Charlie.and.the.Chocolate.Factory.2005.BluRay.1080p.DTS.x264.dxva-wsp.ENG chunk 7\n",
      "✅ Scored: 2005_Charlie.and.the.Chocolate.Factory.2005.BluRay.1080p.DTS.x264.dxva-wsp.ENG chunk 8\n",
      "✅ Scored: 2005_Charlie.and.the.Chocolate.Factory.2005.BluRay.1080p.DTS.x264.dxva-wsp.ENG chunk 9\n"
     ]
    },
    {
     "name": "stderr",
     "output_type": "stream",
     "text": [
      "Scoring institutional trust (chunked):  17%|▏| 79/478 [47:30<4:09:19, 37.49s/it]"
     ]
    },
    {
     "name": "stdout",
     "output_type": "stream",
     "text": [
      "✅ Scored: 1979_Apocalypse Now Redux.en chunk 1\n",
      "✅ Scored: 1979_Apocalypse Now Redux.en chunk 2\n",
      "✅ Scored: 1979_Apocalypse Now Redux.en chunk 3\n",
      "✅ Scored: 1979_Apocalypse Now Redux.en chunk 4\n",
      "✅ Scored: 1979_Apocalypse Now Redux.en chunk 5\n",
      "✅ Scored: 1979_Apocalypse Now Redux.en chunk 6\n",
      "✅ Scored: 1979_Apocalypse Now Redux.en chunk 7\n",
      "✅ Scored: 1979_Apocalypse Now Redux.en chunk 8\n",
      "✅ Scored: 1979_Apocalypse Now Redux.en chunk 9\n",
      "✅ Scored: 1979_Apocalypse Now Redux.en chunk 10\n",
      "✅ Scored: 1979_Apocalypse Now Redux.en chunk 11\n",
      "✅ Scored: 1979_Apocalypse Now Redux.en chunk 12\n",
      "✅ Scored: 1979_Apocalypse Now Redux.en chunk 13\n",
      "✅ Scored: 1979_Apocalypse Now Redux.en chunk 14\n",
      "✅ Scored: 1979_Apocalypse Now Redux.en chunk 15\n",
      "✅ Scored: 1979_Apocalypse Now Redux.en chunk 16\n",
      "✅ Scored: 1979_Apocalypse Now Redux.en chunk 17\n",
      "✅ Scored: 1979_Apocalypse Now Redux.en chunk 18\n"
     ]
    },
    {
     "name": "stderr",
     "output_type": "stream",
     "text": [
      "Scoring institutional trust (chunked):  17%|▏| 80/478 [48:36<5:04:14, 45.87s/it]"
     ]
    },
    {
     "name": "stdout",
     "output_type": "stream",
     "text": [
      "✅ Scored: 2003_Pirates.of.the.Caribbean.The.Curse.of.the.Black.Pearl.Remastered.2003.720p.BluRay.DTSx264-ESiR.eng chunk 1\n",
      "✅ Scored: 2003_Pirates.of.the.Caribbean.The.Curse.of.the.Black.Pearl.Remastered.2003.720p.BluRay.DTSx264-ESiR.eng chunk 2\n",
      "✅ Scored: 2003_Pirates.of.the.Caribbean.The.Curse.of.the.Black.Pearl.Remastered.2003.720p.BluRay.DTSx264-ESiR.eng chunk 3\n",
      "✅ Scored: 2003_Pirates.of.the.Caribbean.The.Curse.of.the.Black.Pearl.Remastered.2003.720p.BluRay.DTSx264-ESiR.eng chunk 4\n",
      "✅ Scored: 2003_Pirates.of.the.Caribbean.The.Curse.of.the.Black.Pearl.Remastered.2003.720p.BluRay.DTSx264-ESiR.eng chunk 5\n",
      "✅ Scored: 2003_Pirates.of.the.Caribbean.The.Curse.of.the.Black.Pearl.Remastered.2003.720p.BluRay.DTSx264-ESiR.eng chunk 6\n",
      "✅ Scored: 2003_Pirates.of.the.Caribbean.The.Curse.of.the.Black.Pearl.Remastered.2003.720p.BluRay.DTSx264-ESiR.eng chunk 7\n",
      "✅ Scored: 2003_Pirates.of.the.Caribbean.The.Curse.of.the.Black.Pearl.Remastered.2003.720p.BluRay.DTSx264-ESiR.eng chunk 8\n",
      "✅ Scored: 2003_Pirates.of.the.Caribbean.The.Curse.of.the.Black.Pearl.Remastered.2003.720p.BluRay.DTSx264-ESiR.eng chunk 9\n",
      "✅ Scored: 2003_Pirates.of.the.Caribbean.The.Curse.of.the.Black.Pearl.Remastered.2003.720p.BluRay.DTSx264-ESiR.eng chunk 10\n"
     ]
    },
    {
     "name": "stderr",
     "output_type": "stream",
     "text": [
      "Scoring institutional trust (chunked):  17%|▏| 81/478 [49:13<4:45:32, 43.15s/it]"
     ]
    },
    {
     "name": "stdout",
     "output_type": "stream",
     "text": [
      "✅ Scored: 2014_Guardians.of.the.Galaxy.2014.DVDRip.X264.AC3.5.1-PLAYNOW chunk 1\n",
      "✅ Scored: 2014_Guardians.of.the.Galaxy.2014.DVDRip.X264.AC3.5.1-PLAYNOW chunk 2\n",
      "✅ Scored: 2014_Guardians.of.the.Galaxy.2014.DVDRip.X264.AC3.5.1-PLAYNOW chunk 3\n",
      "✅ Scored: 2014_Guardians.of.the.Galaxy.2014.DVDRip.X264.AC3.5.1-PLAYNOW chunk 4\n",
      "✅ Scored: 2014_Guardians.of.the.Galaxy.2014.DVDRip.X264.AC3.5.1-PLAYNOW chunk 5\n",
      "✅ Scored: 2014_Guardians.of.the.Galaxy.2014.DVDRip.X264.AC3.5.1-PLAYNOW chunk 6\n",
      "✅ Scored: 2014_Guardians.of.the.Galaxy.2014.DVDRip.X264.AC3.5.1-PLAYNOW chunk 7\n",
      "✅ Scored: 2014_Guardians.of.the.Galaxy.2014.DVDRip.X264.AC3.5.1-PLAYNOW chunk 8\n",
      "✅ Scored: 2014_Guardians.of.the.Galaxy.2014.DVDRip.X264.AC3.5.1-PLAYNOW chunk 9\n"
     ]
    },
    {
     "name": "stderr",
     "output_type": "stream",
     "text": [
      "Scoring institutional trust (chunked):  17%|▏| 82/478 [49:43<4:20:03, 39.40s/it]"
     ]
    },
    {
     "name": "stdout",
     "output_type": "stream",
     "text": [
      "✅ Scored: 2002_Harry.Potter.and.the.Chamber.of.Secrets.2002.720p.HDDVD.DTS.x264-ESiR.ENG chunk 1\n",
      "✅ Scored: 2002_Harry.Potter.and.the.Chamber.of.Secrets.2002.720p.HDDVD.DTS.x264-ESiR.ENG chunk 2\n",
      "✅ Scored: 2002_Harry.Potter.and.the.Chamber.of.Secrets.2002.720p.HDDVD.DTS.x264-ESiR.ENG chunk 3\n",
      "✅ Scored: 2002_Harry.Potter.and.the.Chamber.of.Secrets.2002.720p.HDDVD.DTS.x264-ESiR.ENG chunk 4\n",
      "✅ Scored: 2002_Harry.Potter.and.the.Chamber.of.Secrets.2002.720p.HDDVD.DTS.x264-ESiR.ENG chunk 5\n",
      "✅ Scored: 2002_Harry.Potter.and.the.Chamber.of.Secrets.2002.720p.HDDVD.DTS.x264-ESiR.ENG chunk 6\n",
      "✅ Scored: 2002_Harry.Potter.and.the.Chamber.of.Secrets.2002.720p.HDDVD.DTS.x264-ESiR.ENG chunk 7\n",
      "✅ Scored: 2002_Harry.Potter.and.the.Chamber.of.Secrets.2002.720p.HDDVD.DTS.x264-ESiR.ENG chunk 8\n",
      "✅ Scored: 2002_Harry.Potter.and.the.Chamber.of.Secrets.2002.720p.HDDVD.DTS.x264-ESiR.ENG chunk 9\n",
      "✅ Scored: 2002_Harry.Potter.and.the.Chamber.of.Secrets.2002.720p.HDDVD.DTS.x264-ESiR.ENG chunk 10\n",
      "✅ Scored: 2002_Harry.Potter.and.the.Chamber.of.Secrets.2002.720p.HDDVD.DTS.x264-ESiR.ENG chunk 11\n",
      "✅ Scored: 2002_Harry.Potter.and.the.Chamber.of.Secrets.2002.720p.HDDVD.DTS.x264-ESiR.ENG chunk 12\n",
      "✅ Scored: 2002_Harry.Potter.and.the.Chamber.of.Secrets.2002.720p.HDDVD.DTS.x264-ESiR.ENG chunk 13\n"
     ]
    },
    {
     "name": "stderr",
     "output_type": "stream",
     "text": [
      "Scoring institutional trust (chunked):  17%|▏| 83/478 [50:30<4:33:35, 41.56s/it]"
     ]
    },
    {
     "name": "stdout",
     "output_type": "stream",
     "text": [
      "✅ Scored: 2009_Harry.Potter.and.the.Half.Blood.Prince.2009.720p.BluRay.DTS.x264-WiKi.eng chunk 1\n",
      "✅ Scored: 2009_Harry.Potter.and.the.Half.Blood.Prince.2009.720p.BluRay.DTS.x264-WiKi.eng chunk 2\n",
      "✅ Scored: 2009_Harry.Potter.and.the.Half.Blood.Prince.2009.720p.BluRay.DTS.x264-WiKi.eng chunk 3\n",
      "✅ Scored: 2009_Harry.Potter.and.the.Half.Blood.Prince.2009.720p.BluRay.DTS.x264-WiKi.eng chunk 4\n",
      "✅ Scored: 2009_Harry.Potter.and.the.Half.Blood.Prince.2009.720p.BluRay.DTS.x264-WiKi.eng chunk 5\n",
      "✅ Scored: 2009_Harry.Potter.and.the.Half.Blood.Prince.2009.720p.BluRay.DTS.x264-WiKi.eng chunk 6\n",
      "✅ Scored: 2009_Harry.Potter.and.the.Half.Blood.Prince.2009.720p.BluRay.DTS.x264-WiKi.eng chunk 7\n",
      "✅ Scored: 2009_Harry.Potter.and.the.Half.Blood.Prince.2009.720p.BluRay.DTS.x264-WiKi.eng chunk 8\n",
      "✅ Scored: 2009_Harry.Potter.and.the.Half.Blood.Prince.2009.720p.BluRay.DTS.x264-WiKi.eng chunk 9\n",
      "✅ Scored: 2009_Harry.Potter.and.the.Half.Blood.Prince.2009.720p.BluRay.DTS.x264-WiKi.eng chunk 10\n",
      "✅ Scored: 2009_Harry.Potter.and.the.Half.Blood.Prince.2009.720p.BluRay.DTS.x264-WiKi.eng chunk 11\n"
     ]
    },
    {
     "name": "stderr",
     "output_type": "stream",
     "text": [
      "Scoring institutional trust (chunked):  18%|▏| 84/478 [51:17<4:43:12, 43.13s/it]"
     ]
    },
    {
     "name": "stdout",
     "output_type": "stream",
     "text": [
      "✅ Scored: 2012_The.Twilight.Saga.Breaking.Dawn.Part.2.2012.NEW.TS.XviD.AC3-ADTRG chunk 1\n",
      "✅ Scored: 2012_The.Twilight.Saga.Breaking.Dawn.Part.2.2012.NEW.TS.XviD.AC3-ADTRG chunk 2\n",
      "✅ Scored: 2012_The.Twilight.Saga.Breaking.Dawn.Part.2.2012.NEW.TS.XviD.AC3-ADTRG chunk 3\n",
      "✅ Scored: 2012_The.Twilight.Saga.Breaking.Dawn.Part.2.2012.NEW.TS.XviD.AC3-ADTRG chunk 4\n",
      "✅ Scored: 2012_The.Twilight.Saga.Breaking.Dawn.Part.2.2012.NEW.TS.XviD.AC3-ADTRG chunk 5\n",
      "✅ Scored: 2012_The.Twilight.Saga.Breaking.Dawn.Part.2.2012.NEW.TS.XviD.AC3-ADTRG chunk 6\n"
     ]
    },
    {
     "name": "stderr",
     "output_type": "stream",
     "text": [
      "Scoring institutional trust (chunked):  18%|▏| 85/478 [51:40<4:03:11, 37.13s/it]"
     ]
    },
    {
     "name": "stdout",
     "output_type": "stream",
     "text": [
      "✅ Scored: 2006_Ice.Age.2.The.Meltdown.1080p.BluRay.DTS.x264-ESiR.ENG chunk 1\n",
      "✅ Scored: 2006_Ice.Age.2.The.Meltdown.1080p.BluRay.DTS.x264-ESiR.ENG chunk 2\n",
      "✅ Scored: 2006_Ice.Age.2.The.Meltdown.1080p.BluRay.DTS.x264-ESiR.ENG chunk 3\n",
      "✅ Scored: 2006_Ice.Age.2.The.Meltdown.1080p.BluRay.DTS.x264-ESiR.ENG chunk 4\n",
      "✅ Scored: 2006_Ice.Age.2.The.Meltdown.1080p.BluRay.DTS.x264-ESiR.ENG chunk 5\n",
      "✅ Scored: 2006_Ice.Age.2.The.Meltdown.1080p.BluRay.DTS.x264-ESiR.ENG chunk 6\n"
     ]
    },
    {
     "name": "stderr",
     "output_type": "stream",
     "text": [
      "Scoring institutional trust (chunked):  18%|▏| 86/478 [52:01<3:30:58, 32.29s/it]"
     ]
    },
    {
     "name": "stdout",
     "output_type": "stream",
     "text": [
      "✅ Scored: 2016_Batman.v.Superman.Dawn.of.Justice.2016.EXTENDED.720p.BluRay.x264-SPARKS chunk 1\n",
      "✅ Scored: 2016_Batman.v.Superman.Dawn.of.Justice.2016.EXTENDED.720p.BluRay.x264-SPARKS chunk 2\n",
      "✅ Scored: 2016_Batman.v.Superman.Dawn.of.Justice.2016.EXTENDED.720p.BluRay.x264-SPARKS chunk 3\n",
      "✅ Scored: 2016_Batman.v.Superman.Dawn.of.Justice.2016.EXTENDED.720p.BluRay.x264-SPARKS chunk 4\n",
      "✅ Scored: 2016_Batman.v.Superman.Dawn.of.Justice.2016.EXTENDED.720p.BluRay.x264-SPARKS chunk 5\n",
      "✅ Scored: 2016_Batman.v.Superman.Dawn.of.Justice.2016.EXTENDED.720p.BluRay.x264-SPARKS chunk 6\n",
      "✅ Scored: 2016_Batman.v.Superman.Dawn.of.Justice.2016.EXTENDED.720p.BluRay.x264-SPARKS chunk 7\n",
      "✅ Scored: 2016_Batman.v.Superman.Dawn.of.Justice.2016.EXTENDED.720p.BluRay.x264-SPARKS chunk 8\n",
      "✅ Scored: 2016_Batman.v.Superman.Dawn.of.Justice.2016.EXTENDED.720p.BluRay.x264-SPARKS chunk 9\n",
      "✅ Scored: 2016_Batman.v.Superman.Dawn.of.Justice.2016.EXTENDED.720p.BluRay.x264-SPARKS chunk 10\n",
      "✅ Scored: 2016_Batman.v.Superman.Dawn.of.Justice.2016.EXTENDED.720p.BluRay.x264-SPARKS chunk 11\n"
     ]
    },
    {
     "name": "stderr",
     "output_type": "stream",
     "text": [
      "Scoring institutional trust (chunked):  18%|▏| 87/478 [52:40<3:44:14, 34.41s/it]"
     ]
    },
    {
     "name": "stdout",
     "output_type": "stream",
     "text": [
      "✅ Scored: 2014_The.Amazing.Spider-Man.2.2014.720p.BluRay.x264-BLOW chunk 1\n",
      "✅ Scored: 2014_The.Amazing.Spider-Man.2.2014.720p.BluRay.x264-BLOW chunk 2\n",
      "✅ Scored: 2014_The.Amazing.Spider-Man.2.2014.720p.BluRay.x264-BLOW chunk 3\n",
      "✅ Scored: 2014_The.Amazing.Spider-Man.2.2014.720p.BluRay.x264-BLOW chunk 4\n",
      "✅ Scored: 2014_The.Amazing.Spider-Man.2.2014.720p.BluRay.x264-BLOW chunk 5\n",
      "✅ Scored: 2014_The.Amazing.Spider-Man.2.2014.720p.BluRay.x264-BLOW chunk 6\n",
      "✅ Scored: 2014_The.Amazing.Spider-Man.2.2014.720p.BluRay.x264-BLOW chunk 7\n",
      "✅ Scored: 2014_The.Amazing.Spider-Man.2.2014.720p.BluRay.x264-BLOW chunk 8\n",
      "✅ Scored: 2014_The.Amazing.Spider-Man.2.2014.720p.BluRay.x264-BLOW chunk 9\n",
      "✅ Scored: 2014_The.Amazing.Spider-Man.2.2014.720p.BluRay.x264-BLOW chunk 10\n",
      "✅ Scored: 2014_The.Amazing.Spider-Man.2.2014.720p.BluRay.x264-BLOW chunk 11\n",
      "✅ Scored: 2014_The.Amazing.Spider-Man.2.2014.720p.BluRay.x264-BLOW chunk 12\n"
     ]
    },
    {
     "name": "stderr",
     "output_type": "stream",
     "text": [
      "Scoring institutional trust (chunked):  18%|▏| 88/478 [53:24<4:01:42, 37.19s/it]"
     ]
    },
    {
     "name": "stdout",
     "output_type": "stream",
     "text": [
      "✅ Scored: 2001_The.Lord.of.the.Rings.The.Fellowship.of.the.Ring.Extended.Editions.2001.1080p.BluRay.x264. chunk 1\n",
      "✅ Scored: 2001_The.Lord.of.the.Rings.The.Fellowship.of.the.Ring.Extended.Editions.2001.1080p.BluRay.x264. chunk 2\n",
      "✅ Scored: 2001_The.Lord.of.the.Rings.The.Fellowship.of.the.Ring.Extended.Editions.2001.1080p.BluRay.x264. chunk 3\n",
      "✅ Scored: 2001_The.Lord.of.the.Rings.The.Fellowship.of.the.Ring.Extended.Editions.2001.1080p.BluRay.x264. chunk 4\n",
      "✅ Scored: 2001_The.Lord.of.the.Rings.The.Fellowship.of.the.Ring.Extended.Editions.2001.1080p.BluRay.x264. chunk 5\n",
      "✅ Scored: 2001_The.Lord.of.the.Rings.The.Fellowship.of.the.Ring.Extended.Editions.2001.1080p.BluRay.x264. chunk 6\n",
      "✅ Scored: 2001_The.Lord.of.the.Rings.The.Fellowship.of.the.Ring.Extended.Editions.2001.1080p.BluRay.x264. chunk 7\n",
      "✅ Scored: 2001_The.Lord.of.the.Rings.The.Fellowship.of.the.Ring.Extended.Editions.2001.1080p.BluRay.x264. chunk 8\n",
      "✅ Scored: 2001_The.Lord.of.the.Rings.The.Fellowship.of.the.Ring.Extended.Editions.2001.1080p.BluRay.x264. chunk 9\n",
      "✅ Scored: 2001_The.Lord.of.the.Rings.The.Fellowship.of.the.Ring.Extended.Editions.2001.1080p.BluRay.x264. chunk 10\n",
      "✅ Scored: 2001_The.Lord.of.the.Rings.The.Fellowship.of.the.Ring.Extended.Editions.2001.1080p.BluRay.x264. chunk 11\n",
      "✅ Scored: 2001_The.Lord.of.the.Rings.The.Fellowship.of.the.Ring.Extended.Editions.2001.1080p.BluRay.x264. chunk 12\n",
      "✅ Scored: 2001_The.Lord.of.the.Rings.The.Fellowship.of.the.Ring.Extended.Editions.2001.1080p.BluRay.x264. chunk 13\n",
      "✅ Scored: 2001_The.Lord.of.the.Rings.The.Fellowship.of.the.Ring.Extended.Editions.2001.1080p.BluRay.x264. chunk 14\n"
     ]
    },
    {
     "name": "stderr",
     "output_type": "stream",
     "text": [
      "Scoring institutional trust (chunked):  19%|▏| 89/478 [54:20<4:38:06, 42.90s/it]"
     ]
    },
    {
     "name": "stdout",
     "output_type": "stream",
     "text": [
      "✅ Scored: 2011_Captain.America.The.First.Avenger.2011.BluRay.720p.DTS.x264-CHD.eng chunk 1\n",
      "✅ Scored: 2011_Captain.America.The.First.Avenger.2011.BluRay.720p.DTS.x264-CHD.eng chunk 2\n",
      "✅ Scored: 2011_Captain.America.The.First.Avenger.2011.BluRay.720p.DTS.x264-CHD.eng chunk 3\n",
      "✅ Scored: 2011_Captain.America.The.First.Avenger.2011.BluRay.720p.DTS.x264-CHD.eng chunk 4\n",
      "✅ Scored: 2011_Captain.America.The.First.Avenger.2011.BluRay.720p.DTS.x264-CHD.eng chunk 5\n",
      "✅ Scored: 2011_Captain.America.The.First.Avenger.2011.BluRay.720p.DTS.x264-CHD.eng chunk 6\n",
      "✅ Scored: 2011_Captain.America.The.First.Avenger.2011.BluRay.720p.DTS.x264-CHD.eng chunk 7\n",
      "✅ Scored: 2011_Captain.America.The.First.Avenger.2011.BluRay.720p.DTS.x264-CHD.eng chunk 8\n",
      "✅ Scored: 2011_Captain.America.The.First.Avenger.2011.BluRay.720p.DTS.x264-CHD.eng chunk 9\n"
     ]
    },
    {
     "name": "stderr",
     "output_type": "stream",
     "text": [
      "Scoring institutional trust (chunked):  19%|▏| 90/478 [54:55<4:21:45, 40.48s/it]"
     ]
    },
    {
     "name": "stdout",
     "output_type": "stream",
     "text": [
      "✅ Scored: 2015_American.Sniper.2014.720p.BluRay.x264-SPARKS chunk 1\n",
      "✅ Scored: 2015_American.Sniper.2014.720p.BluRay.x264-SPARKS chunk 2\n",
      "✅ Scored: 2015_American.Sniper.2014.720p.BluRay.x264-SPARKS chunk 3\n",
      "✅ Scored: 2015_American.Sniper.2014.720p.BluRay.x264-SPARKS chunk 4\n",
      "✅ Scored: 2015_American.Sniper.2014.720p.BluRay.x264-SPARKS chunk 5\n",
      "✅ Scored: 2015_American.Sniper.2014.720p.BluRay.x264-SPARKS chunk 6\n",
      "✅ Scored: 2015_American.Sniper.2014.720p.BluRay.x264-SPARKS chunk 7\n",
      "✅ Scored: 2015_American.Sniper.2014.720p.BluRay.x264-SPARKS chunk 8\n",
      "✅ Scored: 2015_American.Sniper.2014.720p.BluRay.x264-SPARKS chunk 9\n",
      "✅ Scored: 2015_American.Sniper.2014.720p.BluRay.x264-SPARKS chunk 10\n",
      "✅ Scored: 2015_American.Sniper.2014.720p.BluRay.x264-SPARKS chunk 11\n",
      "✅ Scored: 2015_American.Sniper.2014.720p.BluRay.x264-SPARKS chunk 12\n",
      "✅ Scored: 2015_American.Sniper.2014.720p.BluRay.x264-SPARKS chunk 13\n"
     ]
    },
    {
     "name": "stderr",
     "output_type": "stream",
     "text": [
      "Scoring institutional trust (chunked):  19%|▏| 91/478 [55:41<4:32:31, 42.25s/it]"
     ]
    },
    {
     "name": "stdout",
     "output_type": "stream",
     "text": [
      "✅ Scored: 1988_Who.Framed.Roger.Rabbit.1988.720p.BluRay.x264-HD4U chunk 1\n",
      "✅ Scored: 1988_Who.Framed.Roger.Rabbit.1988.720p.BluRay.x264-HD4U chunk 2\n",
      "✅ Scored: 1988_Who.Framed.Roger.Rabbit.1988.720p.BluRay.x264-HD4U chunk 3\n",
      "✅ Scored: 1988_Who.Framed.Roger.Rabbit.1988.720p.BluRay.x264-HD4U chunk 4\n",
      "✅ Scored: 1988_Who.Framed.Roger.Rabbit.1988.720p.BluRay.x264-HD4U chunk 5\n",
      "✅ Scored: 1988_Who.Framed.Roger.Rabbit.1988.720p.BluRay.x264-HD4U chunk 6\n",
      "✅ Scored: 1988_Who.Framed.Roger.Rabbit.1988.720p.BluRay.x264-HD4U chunk 7\n",
      "✅ Scored: 1988_Who.Framed.Roger.Rabbit.1988.720p.BluRay.x264-HD4U chunk 8\n",
      "✅ Scored: 1988_Who.Framed.Roger.Rabbit.1988.720p.BluRay.x264-HD4U chunk 9\n",
      "✅ Scored: 1988_Who.Framed.Roger.Rabbit.1988.720p.BluRay.x264-HD4U chunk 10\n"
     ]
    },
    {
     "name": "stderr",
     "output_type": "stream",
     "text": [
      "Scoring institutional trust (chunked):  19%|▏| 92/478 [56:16<4:17:08, 39.97s/it]"
     ]
    },
    {
     "name": "stdout",
     "output_type": "stream",
     "text": [
      "✅ Scored: 2005_Harry.Potter.and.the.Goblet.of.Fire.2005.720p.HDDVD.DTS.x264-ESiR.ENG chunk 1\n",
      "✅ Scored: 2005_Harry.Potter.and.the.Goblet.of.Fire.2005.720p.HDDVD.DTS.x264-ESiR.ENG chunk 2\n",
      "✅ Scored: 2005_Harry.Potter.and.the.Goblet.of.Fire.2005.720p.HDDVD.DTS.x264-ESiR.ENG chunk 3\n",
      "✅ Scored: 2005_Harry.Potter.and.the.Goblet.of.Fire.2005.720p.HDDVD.DTS.x264-ESiR.ENG chunk 4\n",
      "✅ Scored: 2005_Harry.Potter.and.the.Goblet.of.Fire.2005.720p.HDDVD.DTS.x264-ESiR.ENG chunk 5\n",
      "✅ Scored: 2005_Harry.Potter.and.the.Goblet.of.Fire.2005.720p.HDDVD.DTS.x264-ESiR.ENG chunk 6\n",
      "✅ Scored: 2005_Harry.Potter.and.the.Goblet.of.Fire.2005.720p.HDDVD.DTS.x264-ESiR.ENG chunk 7\n",
      "✅ Scored: 2005_Harry.Potter.and.the.Goblet.of.Fire.2005.720p.HDDVD.DTS.x264-ESiR.ENG chunk 8\n",
      "✅ Scored: 2005_Harry.Potter.and.the.Goblet.of.Fire.2005.720p.HDDVD.DTS.x264-ESiR.ENG chunk 9\n",
      "✅ Scored: 2005_Harry.Potter.and.the.Goblet.of.Fire.2005.720p.HDDVD.DTS.x264-ESiR.ENG chunk 10\n",
      "✅ Scored: 2005_Harry.Potter.and.the.Goblet.of.Fire.2005.720p.HDDVD.DTS.x264-ESiR.ENG chunk 11\n",
      "✅ Scored: 2005_Harry.Potter.and.the.Goblet.of.Fire.2005.720p.HDDVD.DTS.x264-ESiR.ENG chunk 12\n"
     ]
    },
    {
     "name": "stderr",
     "output_type": "stream",
     "text": [
      "Scoring institutional trust (chunked):  19%|▏| 93/478 [56:58<4:19:33, 40.45s/it]"
     ]
    },
    {
     "name": "stdout",
     "output_type": "stream",
     "text": [
      "✅ Scored: 2009_The.Hangover.DVDRip.XviD-DoNE chunk 1\n",
      "✅ Scored: 2009_The.Hangover.DVDRip.XviD-DoNE chunk 2\n",
      "✅ Scored: 2009_The.Hangover.DVDRip.XviD-DoNE chunk 3\n",
      "✅ Scored: 2009_The.Hangover.DVDRip.XviD-DoNE chunk 4\n",
      "✅ Scored: 2009_The.Hangover.DVDRip.XviD-DoNE chunk 5\n",
      "✅ Scored: 2009_The.Hangover.DVDRip.XviD-DoNE chunk 6\n",
      "✅ Scored: 2009_The.Hangover.DVDRip.XviD-DoNE chunk 7\n",
      "✅ Scored: 2009_The.Hangover.DVDRip.XviD-DoNE chunk 8\n",
      "✅ Scored: 2009_The.Hangover.DVDRip.XviD-DoNE chunk 9\n",
      "✅ Scored: 2009_The.Hangover.DVDRip.XviD-DoNE chunk 10\n",
      "✅ Scored: 2009_The.Hangover.DVDRip.XviD-DoNE chunk 11\n",
      "✅ Scored: 2009_The.Hangover.DVDRip.XviD-DoNE chunk 12\n",
      "✅ Scored: 2009_The.Hangover.DVDRip.XviD-DoNE chunk 13\n"
     ]
    },
    {
     "name": "stderr",
     "output_type": "stream",
     "text": [
      "Scoring institutional trust (chunked):  20%|▏| 94/478 [57:44<4:31:14, 42.38s/it]"
     ]
    },
    {
     "name": "stdout",
     "output_type": "stream",
     "text": [
      "✅ Scored: 1984_The.Karate.Kid.1984.1080p.BluRay.x264-CiNEFiLE.ENG chunk 1\n",
      "✅ Scored: 1984_The.Karate.Kid.1984.1080p.BluRay.x264-CiNEFiLE.ENG chunk 2\n",
      "✅ Scored: 1984_The.Karate.Kid.1984.1080p.BluRay.x264-CiNEFiLE.ENG chunk 3\n",
      "✅ Scored: 1984_The.Karate.Kid.1984.1080p.BluRay.x264-CiNEFiLE.ENG chunk 4\n",
      "✅ Scored: 1984_The.Karate.Kid.1984.1080p.BluRay.x264-CiNEFiLE.ENG chunk 5\n",
      "✅ Scored: 1984_The.Karate.Kid.1984.1080p.BluRay.x264-CiNEFiLE.ENG chunk 6\n",
      "✅ Scored: 1984_The.Karate.Kid.1984.1080p.BluRay.x264-CiNEFiLE.ENG chunk 7\n",
      "✅ Scored: 1984_The.Karate.Kid.1984.1080p.BluRay.x264-CiNEFiLE.ENG chunk 8\n",
      "✅ Scored: 1984_The.Karate.Kid.1984.1080p.BluRay.x264-CiNEFiLE.ENG chunk 9\n",
      "✅ Scored: 1984_The.Karate.Kid.1984.1080p.BluRay.x264-CiNEFiLE.ENG chunk 10\n"
     ]
    },
    {
     "name": "stderr",
     "output_type": "stream",
     "text": [
      "Scoring institutional trust (chunked):  20%|▏| 95/478 [58:20<4:16:42, 40.22s/it]"
     ]
    },
    {
     "name": "stdout",
     "output_type": "stream",
     "text": [
      "✅ Scored: 2011_The. Hangover. Part. II. 2011. 720p. BrRip. x264. YIFY chunk 1\n",
      "✅ Scored: 2011_The. Hangover. Part. II. 2011. 720p. BrRip. x264. YIFY chunk 2\n",
      "✅ Scored: 2011_The. Hangover. Part. II. 2011. 720p. BrRip. x264. YIFY chunk 3\n",
      "✅ Scored: 2011_The. Hangover. Part. II. 2011. 720p. BrRip. x264. YIFY chunk 4\n",
      "✅ Scored: 2011_The. Hangover. Part. II. 2011. 720p. BrRip. x264. YIFY chunk 5\n",
      "✅ Scored: 2011_The. Hangover. Part. II. 2011. 720p. BrRip. x264. YIFY chunk 6\n",
      "✅ Scored: 2011_The. Hangover. Part. II. 2011. 720p. BrRip. x264. YIFY chunk 7\n",
      "✅ Scored: 2011_The. Hangover. Part. II. 2011. 720p. BrRip. x264. YIFY chunk 8\n",
      "✅ Scored: 2011_The. Hangover. Part. II. 2011. 720p. BrRip. x264. YIFY chunk 9\n",
      "✅ Scored: 2011_The. Hangover. Part. II. 2011. 720p. BrRip. x264. YIFY chunk 10\n",
      "✅ Scored: 2011_The. Hangover. Part. II. 2011. 720p. BrRip. x264. YIFY chunk 11\n",
      "✅ Scored: 2011_The. Hangover. Part. II. 2011. 720p. BrRip. x264. YIFY chunk 12\n",
      "✅ Scored: 2011_The. Hangover. Part. II. 2011. 720p. BrRip. x264. YIFY chunk 13\n"
     ]
    },
    {
     "name": "stderr",
     "output_type": "stream",
     "text": [
      "Scoring institutional trust (chunked):  20%|▏| 96/478 [59:06<4:27:55, 42.08s/it]"
     ]
    },
    {
     "name": "stdout",
     "output_type": "stream",
     "text": [
      "✅ Scored: 1986_Back to School (1986).ENG chunk 1\n",
      "✅ Scored: 1986_Back to School (1986).ENG chunk 2\n",
      "✅ Scored: 1986_Back to School (1986).ENG chunk 3\n",
      "✅ Scored: 1986_Back to School (1986).ENG chunk 4\n",
      "✅ Scored: 1986_Back to School (1986).ENG chunk 5\n",
      "✅ Scored: 1986_Back to School (1986).ENG chunk 6\n",
      "✅ Scored: 1986_Back to School (1986).ENG chunk 7\n",
      "✅ Scored: 1986_Back to School (1986).ENG chunk 8\n",
      "✅ Scored: 1986_Back to School (1986).ENG chunk 9\n",
      "✅ Scored: 1986_Back to School (1986).ENG chunk 10\n",
      "✅ Scored: 1986_Back to School (1986).ENG chunk 11\n",
      "✅ Scored: 1986_Back to School (1986).ENG chunk 12\n"
     ]
    },
    {
     "name": "stderr",
     "output_type": "stream",
     "text": [
      "Scoring institutional trust (chunked):  20%|▏| 97/478 [59:52<4:34:07, 43.17s/it]"
     ]
    },
    {
     "name": "stdout",
     "output_type": "stream",
     "text": [
      "✅ Scored: 1992_Batman.Returns.1992.1080p.BluRay.x264-CiNEFiLE.ENG chunk 1\n",
      "✅ Scored: 1992_Batman.Returns.1992.1080p.BluRay.x264-CiNEFiLE.ENG chunk 2\n",
      "✅ Scored: 1992_Batman.Returns.1992.1080p.BluRay.x264-CiNEFiLE.ENG chunk 3\n",
      "✅ Scored: 1992_Batman.Returns.1992.1080p.BluRay.x264-CiNEFiLE.ENG chunk 4\n",
      "✅ Scored: 1992_Batman.Returns.1992.1080p.BluRay.x264-CiNEFiLE.ENG chunk 5\n",
      "✅ Scored: 1992_Batman.Returns.1992.1080p.BluRay.x264-CiNEFiLE.ENG chunk 6\n",
      "✅ Scored: 1992_Batman.Returns.1992.1080p.BluRay.x264-CiNEFiLE.ENG chunk 7\n",
      "✅ Scored: 1992_Batman.Returns.1992.1080p.BluRay.x264-CiNEFiLE.ENG chunk 8\n"
     ]
    },
    {
     "name": "stderr",
     "output_type": "stream",
     "text": [
      "Scoring institutional trust (chunked):  21%|▏| 98/478 [1:00:20<4:04:57, 38.68s/i"
     ]
    },
    {
     "name": "stdout",
     "output_type": "stream",
     "text": [
      "✅ Scored: 2018_Solo.A.Star.Wars.Story.2018.720p.BluRay.x264.DTS-HDC chunk 1\n",
      "✅ Scored: 2018_Solo.A.Star.Wars.Story.2018.720p.BluRay.x264.DTS-HDC chunk 2\n",
      "✅ Scored: 2018_Solo.A.Star.Wars.Story.2018.720p.BluRay.x264.DTS-HDC chunk 3\n",
      "✅ Scored: 2018_Solo.A.Star.Wars.Story.2018.720p.BluRay.x264.DTS-HDC chunk 4\n",
      "✅ Scored: 2018_Solo.A.Star.Wars.Story.2018.720p.BluRay.x264.DTS-HDC chunk 5\n",
      "✅ Scored: 2018_Solo.A.Star.Wars.Story.2018.720p.BluRay.x264.DTS-HDC chunk 6\n",
      "✅ Scored: 2018_Solo.A.Star.Wars.Story.2018.720p.BluRay.x264.DTS-HDC chunk 7\n",
      "✅ Scored: 2018_Solo.A.Star.Wars.Story.2018.720p.BluRay.x264.DTS-HDC chunk 8\n",
      "✅ Scored: 2018_Solo.A.Star.Wars.Story.2018.720p.BluRay.x264.DTS-HDC chunk 9\n",
      "✅ Scored: 2018_Solo.A.Star.Wars.Story.2018.720p.BluRay.x264.DTS-HDC chunk 10\n",
      "✅ Scored: 2018_Solo.A.Star.Wars.Story.2018.720p.BluRay.x264.DTS-HDC chunk 11\n",
      "✅ Scored: 2018_Solo.A.Star.Wars.Story.2018.720p.BluRay.x264.DTS-HDC chunk 12\n"
     ]
    },
    {
     "name": "stderr",
     "output_type": "stream",
     "text": [
      "Scoring institutional trust (chunked):  21%|▏| 99/478 [1:01:04<4:14:13, 40.25s/i"
     ]
    },
    {
     "name": "stdout",
     "output_type": "stream",
     "text": [
      "✅ Scored: 2020_The Call of the Wild.2020.HDRip.XviD.AC3-EVO chunk 1\n",
      "✅ Scored: 2020_The Call of the Wild.2020.HDRip.XviD.AC3-EVO chunk 2\n",
      "✅ Scored: 2020_The Call of the Wild.2020.HDRip.XviD.AC3-EVO chunk 3\n",
      "✅ Scored: 2020_The Call of the Wild.2020.HDRip.XviD.AC3-EVO chunk 4\n"
     ]
    },
    {
     "name": "stderr",
     "output_type": "stream",
     "text": [
      "Scoring institutional trust (chunked):  21%|▏| 100/478 [1:01:19<3:25:14, 32.58s/"
     ]
    },
    {
     "name": "stdout",
     "output_type": "stream",
     "text": [
      "✅ Scored: 2004_The.Day.After.Tomorrow.2004.1080p.BluRay.x264-MUVI.eng chunk 1\n",
      "✅ Scored: 2004_The.Day.After.Tomorrow.2004.1080p.BluRay.x264-MUVI.eng chunk 2\n",
      "✅ Scored: 2004_The.Day.After.Tomorrow.2004.1080p.BluRay.x264-MUVI.eng chunk 3\n",
      "✅ Scored: 2004_The.Day.After.Tomorrow.2004.1080p.BluRay.x264-MUVI.eng chunk 4\n",
      "✅ Scored: 2004_The.Day.After.Tomorrow.2004.1080p.BluRay.x264-MUVI.eng chunk 5\n",
      "✅ Scored: 2004_The.Day.After.Tomorrow.2004.1080p.BluRay.x264-MUVI.eng chunk 6\n",
      "✅ Scored: 2004_The.Day.After.Tomorrow.2004.1080p.BluRay.x264-MUVI.eng chunk 7\n",
      "✅ Scored: 2004_The.Day.After.Tomorrow.2004.1080p.BluRay.x264-MUVI.eng chunk 8\n",
      "✅ Scored: 2004_The.Day.After.Tomorrow.2004.1080p.BluRay.x264-MUVI.eng chunk 9\n",
      "✅ Scored: 2004_The.Day.After.Tomorrow.2004.1080p.BluRay.x264-MUVI.eng chunk 10\n",
      "✅ Scored: 2004_The.Day.After.Tomorrow.2004.1080p.BluRay.x264-MUVI.eng chunk 11\n"
     ]
    },
    {
     "name": "stderr",
     "output_type": "stream",
     "text": [
      "Scoring institutional trust (chunked):  21%|▏| 101/478 [1:01:58<3:37:12, 34.57s/"
     ]
    },
    {
     "name": "stdout",
     "output_type": "stream",
     "text": [
      "✅ Scored: 2018_Black.Panther.2018.720p.BluRay.x264-SPARKS chunk 1\n",
      "✅ Scored: 2018_Black.Panther.2018.720p.BluRay.x264-SPARKS chunk 2\n",
      "✅ Scored: 2018_Black.Panther.2018.720p.BluRay.x264-SPARKS chunk 3\n",
      "✅ Scored: 2018_Black.Panther.2018.720p.BluRay.x264-SPARKS chunk 4\n",
      "⚠️ Rate limit hit. Waiting 60 seconds...\n",
      "✅ Scored: 2018_Black.Panther.2018.720p.BluRay.x264-SPARKS chunk 5\n",
      "✅ Scored: 2018_Black.Panther.2018.720p.BluRay.x264-SPARKS chunk 6\n",
      "✅ Scored: 2018_Black.Panther.2018.720p.BluRay.x264-SPARKS chunk 7\n",
      "✅ Scored: 2018_Black.Panther.2018.720p.BluRay.x264-SPARKS chunk 8\n",
      "✅ Scored: 2018_Black.Panther.2018.720p.BluRay.x264-SPARKS chunk 9\n",
      "✅ Scored: 2018_Black.Panther.2018.720p.BluRay.x264-SPARKS chunk 10\n"
     ]
    },
    {
     "name": "stderr",
     "output_type": "stream",
     "text": [
      "Scoring institutional trust (chunked):  21%|▏| 102/478 [1:03:34<5:32:02, 52.99s/"
     ]
    },
    {
     "name": "stdout",
     "output_type": "stream",
     "text": [
      "✅ Scored: 1989_Back.to.the.Future.Part.II.1989.720p.BluRay.X264-AMIABLE chunk 1\n",
      "✅ Scored: 1989_Back.to.the.Future.Part.II.1989.720p.BluRay.X264-AMIABLE chunk 2\n",
      "✅ Scored: 1989_Back.to.the.Future.Part.II.1989.720p.BluRay.X264-AMIABLE chunk 3\n",
      "✅ Scored: 1989_Back.to.the.Future.Part.II.1989.720p.BluRay.X264-AMIABLE chunk 4\n",
      "✅ Scored: 1989_Back.to.the.Future.Part.II.1989.720p.BluRay.X264-AMIABLE chunk 5\n",
      "✅ Scored: 1989_Back.to.the.Future.Part.II.1989.720p.BluRay.X264-AMIABLE chunk 6\n",
      "✅ Scored: 1989_Back.to.the.Future.Part.II.1989.720p.BluRay.X264-AMIABLE chunk 7\n",
      "✅ Scored: 1989_Back.to.the.Future.Part.II.1989.720p.BluRay.X264-AMIABLE chunk 8\n",
      "✅ Scored: 1989_Back.to.the.Future.Part.II.1989.720p.BluRay.X264-AMIABLE chunk 9\n",
      "✅ Scored: 1989_Back.to.the.Future.Part.II.1989.720p.BluRay.X264-AMIABLE chunk 10\n",
      "✅ Scored: 1989_Back.to.the.Future.Part.II.1989.720p.BluRay.X264-AMIABLE chunk 11\n"
     ]
    },
    {
     "name": "stderr",
     "output_type": "stream",
     "text": [
      "Scoring institutional trust (chunked):  22%|▏| 103/478 [1:04:14<5:06:49, 49.09s/"
     ]
    },
    {
     "name": "stdout",
     "output_type": "stream",
     "text": [
      "✅ Scored: 2021_Venom.Let.There.Be.Carnage.2021.HDRip.XviD.AC3-EVO chunk 1\n",
      "✅ Scored: 2021_Venom.Let.There.Be.Carnage.2021.HDRip.XviD.AC3-EVO chunk 2\n",
      "✅ Scored: 2021_Venom.Let.There.Be.Carnage.2021.HDRip.XviD.AC3-EVO chunk 3\n",
      "✅ Scored: 2021_Venom.Let.There.Be.Carnage.2021.HDRip.XviD.AC3-EVO chunk 4\n",
      "✅ Scored: 2021_Venom.Let.There.Be.Carnage.2021.HDRip.XviD.AC3-EVO chunk 5\n",
      "✅ Scored: 2021_Venom.Let.There.Be.Carnage.2021.HDRip.XviD.AC3-EVO chunk 6\n",
      "✅ Scored: 2021_Venom.Let.There.Be.Carnage.2021.HDRip.XviD.AC3-EVO chunk 7\n",
      "✅ Scored: 2021_Venom.Let.There.Be.Carnage.2021.HDRip.XviD.AC3-EVO chunk 8\n",
      "✅ Scored: 2021_Venom.Let.There.Be.Carnage.2021.HDRip.XviD.AC3-EVO chunk 9\n"
     ]
    },
    {
     "name": "stderr",
     "output_type": "stream",
     "text": [
      "Scoring institutional trust (chunked):  22%|▏| 104/478 [1:04:50<4:41:18, 45.13s/"
     ]
    },
    {
     "name": "stdout",
     "output_type": "stream",
     "text": [
      "✅ Scored: 1991_The.Naked.Gun.2.1.2.The.Smell.of.Fear.1991.BluRay.720p.DTS.x264-beAst.eng chunk 1\n",
      "✅ Scored: 1991_The.Naked.Gun.2.1.2.The.Smell.of.Fear.1991.BluRay.720p.DTS.x264-beAst.eng chunk 2\n",
      "✅ Scored: 1991_The.Naked.Gun.2.1.2.The.Smell.of.Fear.1991.BluRay.720p.DTS.x264-beAst.eng chunk 3\n",
      "✅ Scored: 1991_The.Naked.Gun.2.1.2.The.Smell.of.Fear.1991.BluRay.720p.DTS.x264-beAst.eng chunk 4\n",
      "✅ Scored: 1991_The.Naked.Gun.2.1.2.The.Smell.of.Fear.1991.BluRay.720p.DTS.x264-beAst.eng chunk 5\n",
      "✅ Scored: 1991_The.Naked.Gun.2.1.2.The.Smell.of.Fear.1991.BluRay.720p.DTS.x264-beAst.eng chunk 6\n",
      "✅ Scored: 1991_The.Naked.Gun.2.1.2.The.Smell.of.Fear.1991.BluRay.720p.DTS.x264-beAst.eng chunk 7\n",
      "✅ Scored: 1991_The.Naked.Gun.2.1.2.The.Smell.of.Fear.1991.BluRay.720p.DTS.x264-beAst.eng chunk 8\n"
     ]
    },
    {
     "name": "stderr",
     "output_type": "stream",
     "text": [
      "Scoring institutional trust (chunked):  22%|▏| 105/478 [1:05:21<4:15:31, 41.10s/"
     ]
    },
    {
     "name": "stdout",
     "output_type": "stream",
     "text": [
      "✅ Scored: 2004_The.Bourne.Supremacy.2004.720p.BluRay.DTS.x264-ESiR chunk 1\n",
      "✅ Scored: 2004_The.Bourne.Supremacy.2004.720p.BluRay.DTS.x264-ESiR chunk 2\n",
      "✅ Scored: 2004_The.Bourne.Supremacy.2004.720p.BluRay.DTS.x264-ESiR chunk 3\n",
      "✅ Scored: 2004_The.Bourne.Supremacy.2004.720p.BluRay.DTS.x264-ESiR chunk 4\n",
      "✅ Scored: 2004_The.Bourne.Supremacy.2004.720p.BluRay.DTS.x264-ESiR chunk 5\n",
      "✅ Scored: 2004_The.Bourne.Supremacy.2004.720p.BluRay.DTS.x264-ESiR chunk 6\n"
     ]
    },
    {
     "name": "stderr",
     "output_type": "stream",
     "text": [
      "Scoring institutional trust (chunked):  22%|▏| 106/478 [1:05:47<3:45:17, 36.34s/"
     ]
    },
    {
     "name": "stdout",
     "output_type": "stream",
     "text": [
      "✅ Scored: 2002_Austin.Powers.in.Goldmember.2002.720p.BluRay.x264-REVEiLLE.ENG chunk 1\n",
      "✅ Scored: 2002_Austin.Powers.in.Goldmember.2002.720p.BluRay.x264-REVEiLLE.ENG chunk 2\n",
      "✅ Scored: 2002_Austin.Powers.in.Goldmember.2002.720p.BluRay.x264-REVEiLLE.ENG chunk 3\n",
      "✅ Scored: 2002_Austin.Powers.in.Goldmember.2002.720p.BluRay.x264-REVEiLLE.ENG chunk 4\n",
      "✅ Scored: 2002_Austin.Powers.in.Goldmember.2002.720p.BluRay.x264-REVEiLLE.ENG chunk 5\n",
      "✅ Scored: 2002_Austin.Powers.in.Goldmember.2002.720p.BluRay.x264-REVEiLLE.ENG chunk 6\n",
      "✅ Scored: 2002_Austin.Powers.in.Goldmember.2002.720p.BluRay.x264-REVEiLLE.ENG chunk 7\n",
      "✅ Scored: 2002_Austin.Powers.in.Goldmember.2002.720p.BluRay.x264-REVEiLLE.ENG chunk 8\n",
      "✅ Scored: 2002_Austin.Powers.in.Goldmember.2002.720p.BluRay.x264-REVEiLLE.ENG chunk 9\n"
     ]
    },
    {
     "name": "stderr",
     "output_type": "stream",
     "text": [
      "Scoring institutional trust (chunked):  22%|▏| 107/478 [1:06:17<3:34:43, 34.73s/"
     ]
    },
    {
     "name": "stdout",
     "output_type": "stream",
     "text": [
      "✅ Scored: 2013_Star.Trek.Into.Darkness.2013.BluRay.720p.x264-HDWinG chunk 1\n",
      "✅ Scored: 2013_Star.Trek.Into.Darkness.2013.BluRay.720p.x264-HDWinG chunk 2\n",
      "✅ Scored: 2013_Star.Trek.Into.Darkness.2013.BluRay.720p.x264-HDWinG chunk 3\n",
      "✅ Scored: 2013_Star.Trek.Into.Darkness.2013.BluRay.720p.x264-HDWinG chunk 4\n",
      "✅ Scored: 2013_Star.Trek.Into.Darkness.2013.BluRay.720p.x264-HDWinG chunk 5\n",
      "✅ Scored: 2013_Star.Trek.Into.Darkness.2013.BluRay.720p.x264-HDWinG chunk 6\n",
      "✅ Scored: 2013_Star.Trek.Into.Darkness.2013.BluRay.720p.x264-HDWinG chunk 7\n",
      "✅ Scored: 2013_Star.Trek.Into.Darkness.2013.BluRay.720p.x264-HDWinG chunk 8\n",
      "✅ Scored: 2013_Star.Trek.Into.Darkness.2013.BluRay.720p.x264-HDWinG chunk 9\n",
      "✅ Scored: 2013_Star.Trek.Into.Darkness.2013.BluRay.720p.x264-HDWinG chunk 10\n",
      "✅ Scored: 2013_Star.Trek.Into.Darkness.2013.BluRay.720p.x264-HDWinG chunk 11\n",
      "✅ Scored: 2013_Star.Trek.Into.Darkness.2013.BluRay.720p.x264-HDWinG chunk 12\n",
      "✅ Scored: 2013_Star.Trek.Into.Darkness.2013.BluRay.720p.x264-HDWinG chunk 13\n"
     ]
    },
    {
     "name": "stderr",
     "output_type": "stream",
     "text": [
      "Scoring institutional trust (chunked):  23%|▏| 109/478 [1:07:04<3:00:26, 29.34s/"
     ]
    },
    {
     "name": "stdout",
     "output_type": "stream",
     "text": [
      "✅ Scored: 1985_Police.Academy.2.Their.First.Assignment.1985.720p.BluRay.FLAC.x264-CtrlHD chunk 1\n",
      "✅ Scored: 1985_Police.Academy.2.Their.First.Assignment.1985.720p.BluRay.FLAC.x264-CtrlHD chunk 2\n",
      "✅ Scored: 1985_Police.Academy.2.Their.First.Assignment.1985.720p.BluRay.FLAC.x264-CtrlHD chunk 3\n",
      "✅ Scored: 1985_Police.Academy.2.Their.First.Assignment.1985.720p.BluRay.FLAC.x264-CtrlHD chunk 4\n",
      "✅ Scored: 1985_Police.Academy.2.Their.First.Assignment.1985.720p.BluRay.FLAC.x264-CtrlHD chunk 5\n",
      "✅ Scored: 1985_Police.Academy.2.Their.First.Assignment.1985.720p.BluRay.FLAC.x264-CtrlHD chunk 6\n",
      "✅ Scored: 1985_Police.Academy.2.Their.First.Assignment.1985.720p.BluRay.FLAC.x264-CtrlHD chunk 7\n",
      "✅ Scored: 1985_Police.Academy.2.Their.First.Assignment.1985.720p.BluRay.FLAC.x264-CtrlHD chunk 8\n",
      "✅ Scored: 1985_Police.Academy.2.Their.First.Assignment.1985.720p.BluRay.FLAC.x264-CtrlHD chunk 9\n"
     ]
    },
    {
     "name": "stderr",
     "output_type": "stream",
     "text": [
      "Scoring institutional trust (chunked):  23%|▏| 110/478 [1:07:34<3:01:48, 29.64s/"
     ]
    },
    {
     "name": "stdout",
     "output_type": "stream",
     "text": [
      "✅ Scored: 2002_Ice Age.English chunk 1\n",
      "✅ Scored: 2002_Ice Age.English chunk 2\n",
      "✅ Scored: 2002_Ice Age.English chunk 3\n",
      "✅ Scored: 2002_Ice Age.English chunk 4\n",
      "✅ Scored: 2002_Ice Age.English chunk 5\n"
     ]
    },
    {
     "name": "stderr",
     "output_type": "stream",
     "text": [
      "Scoring institutional trust (chunked):  23%|▏| 111/478 [1:07:51<2:41:03, 26.33s/"
     ]
    },
    {
     "name": "stdout",
     "output_type": "stream",
     "text": [
      "✅ Scored: 2000_Mission.Impossible.II.2000.720p.BluRay.DTS.x264-ESiR.ENG chunk 1\n",
      "✅ Scored: 2000_Mission.Impossible.II.2000.720p.BluRay.DTS.x264-ESiR.ENG chunk 2\n",
      "✅ Scored: 2000_Mission.Impossible.II.2000.720p.BluRay.DTS.x264-ESiR.ENG chunk 3\n",
      "✅ Scored: 2000_Mission.Impossible.II.2000.720p.BluRay.DTS.x264-ESiR.ENG chunk 4\n",
      "✅ Scored: 2000_Mission.Impossible.II.2000.720p.BluRay.DTS.x264-ESiR.ENG chunk 5\n",
      "✅ Scored: 2000_Mission.Impossible.II.2000.720p.BluRay.DTS.x264-ESiR.ENG chunk 6\n",
      "✅ Scored: 2000_Mission.Impossible.II.2000.720p.BluRay.DTS.x264-ESiR.ENG chunk 7\n"
     ]
    },
    {
     "name": "stderr",
     "output_type": "stream",
     "text": [
      "Scoring institutional trust (chunked):  23%|▏| 112/478 [1:08:18<2:41:15, 26.43s/"
     ]
    },
    {
     "name": "stdout",
     "output_type": "stream",
     "text": [
      "✅ Scored: 1977_Looking.For.Mr.Goodbar.ENG.PAL.en chunk 1\n",
      "✅ Scored: 1977_Looking.For.Mr.Goodbar.ENG.PAL.en chunk 2\n",
      "✅ Scored: 1977_Looking.For.Mr.Goodbar.ENG.PAL.en chunk 3\n",
      "✅ Scored: 1977_Looking.For.Mr.Goodbar.ENG.PAL.en chunk 4\n",
      "✅ Scored: 1977_Looking.For.Mr.Goodbar.ENG.PAL.en chunk 5\n",
      "✅ Scored: 1977_Looking.For.Mr.Goodbar.ENG.PAL.en chunk 6\n",
      "✅ Scored: 1977_Looking.For.Mr.Goodbar.ENG.PAL.en chunk 7\n",
      "✅ Scored: 1977_Looking.For.Mr.Goodbar.ENG.PAL.en chunk 8\n",
      "✅ Scored: 1977_Looking.For.Mr.Goodbar.ENG.PAL.en chunk 9\n",
      "✅ Scored: 1977_Looking.For.Mr.Goodbar.ENG.PAL.en chunk 10\n",
      "✅ Scored: 1977_Looking.For.Mr.Goodbar.ENG.PAL.en chunk 11\n"
     ]
    },
    {
     "name": "stderr",
     "output_type": "stream",
     "text": [
      "Scoring institutional trust (chunked):  24%|▏| 113/478 [1:08:57<3:02:04, 29.93s/"
     ]
    },
    {
     "name": "stdout",
     "output_type": "stream",
     "text": [
      "✅ Scored: 1984_Romancing.the.Stone.1984.720p.BluRay.x264-ESiR.ENG chunk 1\n",
      "✅ Scored: 1984_Romancing.the.Stone.1984.720p.BluRay.x264-ESiR.ENG chunk 2\n",
      "✅ Scored: 1984_Romancing.the.Stone.1984.720p.BluRay.x264-ESiR.ENG chunk 3\n",
      "✅ Scored: 1984_Romancing.the.Stone.1984.720p.BluRay.x264-ESiR.ENG chunk 4\n",
      "✅ Scored: 1984_Romancing.the.Stone.1984.720p.BluRay.x264-ESiR.ENG chunk 5\n",
      "✅ Scored: 1984_Romancing.the.Stone.1984.720p.BluRay.x264-ESiR.ENG chunk 6\n"
     ]
    },
    {
     "name": "stderr",
     "output_type": "stream",
     "text": [
      "Scoring institutional trust (chunked):  24%|▏| 114/478 [1:09:18<2:46:41, 27.48s/"
     ]
    },
    {
     "name": "stdout",
     "output_type": "stream",
     "text": [
      "✅ Scored: 2015_Avengers.Age.of.Ultron.2015.720p.BluRay.x264-SPARKS chunk 1\n",
      "✅ Scored: 2015_Avengers.Age.of.Ultron.2015.720p.BluRay.x264-SPARKS chunk 2\n",
      "✅ Scored: 2015_Avengers.Age.of.Ultron.2015.720p.BluRay.x264-SPARKS chunk 3\n",
      "✅ Scored: 2015_Avengers.Age.of.Ultron.2015.720p.BluRay.x264-SPARKS chunk 4\n",
      "✅ Scored: 2015_Avengers.Age.of.Ultron.2015.720p.BluRay.x264-SPARKS chunk 5\n",
      "✅ Scored: 2015_Avengers.Age.of.Ultron.2015.720p.BluRay.x264-SPARKS chunk 6\n",
      "✅ Scored: 2015_Avengers.Age.of.Ultron.2015.720p.BluRay.x264-SPARKS chunk 7\n",
      "✅ Scored: 2015_Avengers.Age.of.Ultron.2015.720p.BluRay.x264-SPARKS chunk 8\n",
      "✅ Scored: 2015_Avengers.Age.of.Ultron.2015.720p.BluRay.x264-SPARKS chunk 9\n",
      "✅ Scored: 2015_Avengers.Age.of.Ultron.2015.720p.BluRay.x264-SPARKS chunk 10\n",
      "✅ Scored: 2015_Avengers.Age.of.Ultron.2015.720p.BluRay.x264-SPARKS chunk 11\n",
      "✅ Scored: 2015_Avengers.Age.of.Ultron.2015.720p.BluRay.x264-SPARKS chunk 12\n",
      "✅ Scored: 2015_Avengers.Age.of.Ultron.2015.720p.BluRay.x264-SPARKS chunk 13\n"
     ]
    },
    {
     "name": "stderr",
     "output_type": "stream",
     "text": [
      "Scoring institutional trust (chunked):  24%|▏| 115/478 [1:10:05<3:20:23, 33.12s/"
     ]
    },
    {
     "name": "stdout",
     "output_type": "stream",
     "text": [
      "✅ Scored: 2008_Indiana.Jones.And.The.Kingdom.Of.The.Crystal.Skull[2008]DvDrip-aXXo.en chunk 1\n",
      "✅ Scored: 2008_Indiana.Jones.And.The.Kingdom.Of.The.Crystal.Skull[2008]DvDrip-aXXo.en chunk 2\n",
      "✅ Scored: 2008_Indiana.Jones.And.The.Kingdom.Of.The.Crystal.Skull[2008]DvDrip-aXXo.en chunk 3\n",
      "✅ Scored: 2008_Indiana.Jones.And.The.Kingdom.Of.The.Crystal.Skull[2008]DvDrip-aXXo.en chunk 4\n",
      "✅ Scored: 2008_Indiana.Jones.And.The.Kingdom.Of.The.Crystal.Skull[2008]DvDrip-aXXo.en chunk 5\n",
      "✅ Scored: 2008_Indiana.Jones.And.The.Kingdom.Of.The.Crystal.Skull[2008]DvDrip-aXXo.en chunk 6\n",
      "✅ Scored: 2008_Indiana.Jones.And.The.Kingdom.Of.The.Crystal.Skull[2008]DvDrip-aXXo.en chunk 7\n",
      "✅ Scored: 2008_Indiana.Jones.And.The.Kingdom.Of.The.Crystal.Skull[2008]DvDrip-aXXo.en chunk 8\n"
     ]
    },
    {
     "name": "stderr",
     "output_type": "stream",
     "text": [
      "Scoring institutional trust (chunked):  24%|▏| 116/478 [1:10:34<3:12:53, 31.97s/"
     ]
    },
    {
     "name": "stdout",
     "output_type": "stream",
     "text": [
      "✅ Scored: 2022_Doctor.Strange.in.the.Multiverse.of.Madness.2022.1080p.WEB-DL.DDP5.1.Atmos.H.264 chunk 1\n",
      "✅ Scored: 2022_Doctor.Strange.in.the.Multiverse.of.Madness.2022.1080p.WEB-DL.DDP5.1.Atmos.H.264 chunk 2\n",
      "✅ Scored: 2022_Doctor.Strange.in.the.Multiverse.of.Madness.2022.1080p.WEB-DL.DDP5.1.Atmos.H.264 chunk 3\n",
      "✅ Scored: 2022_Doctor.Strange.in.the.Multiverse.of.Madness.2022.1080p.WEB-DL.DDP5.1.Atmos.H.264 chunk 4\n",
      "✅ Scored: 2022_Doctor.Strange.in.the.Multiverse.of.Madness.2022.1080p.WEB-DL.DDP5.1.Atmos.H.264 chunk 5\n",
      "✅ Scored: 2022_Doctor.Strange.in.the.Multiverse.of.Madness.2022.1080p.WEB-DL.DDP5.1.Atmos.H.264 chunk 6\n",
      "✅ Scored: 2022_Doctor.Strange.in.the.Multiverse.of.Madness.2022.1080p.WEB-DL.DDP5.1.Atmos.H.264 chunk 7\n",
      "✅ Scored: 2022_Doctor.Strange.in.the.Multiverse.of.Madness.2022.1080p.WEB-DL.DDP5.1.Atmos.H.264 chunk 8\n"
     ]
    },
    {
     "name": "stderr",
     "output_type": "stream",
     "text": [
      "Scoring institutional trust (chunked):  24%|▏| 117/478 [1:11:04<3:08:33, 31.34s/"
     ]
    },
    {
     "name": "stdout",
     "output_type": "stream",
     "text": [
      "✅ Scored: 1987_The.Secret.of.My.Success.1987.720p.BluRay.X264-AMIABLE chunk 1\n",
      "✅ Scored: 1987_The.Secret.of.My.Success.1987.720p.BluRay.X264-AMIABLE chunk 2\n",
      "✅ Scored: 1987_The.Secret.of.My.Success.1987.720p.BluRay.X264-AMIABLE chunk 3\n",
      "✅ Scored: 1987_The.Secret.of.My.Success.1987.720p.BluRay.X264-AMIABLE chunk 4\n",
      "✅ Scored: 1987_The.Secret.of.My.Success.1987.720p.BluRay.X264-AMIABLE chunk 5\n",
      "✅ Scored: 1987_The.Secret.of.My.Success.1987.720p.BluRay.X264-AMIABLE chunk 6\n",
      "✅ Scored: 1987_The.Secret.of.My.Success.1987.720p.BluRay.X264-AMIABLE chunk 7\n",
      "✅ Scored: 1987_The.Secret.of.My.Success.1987.720p.BluRay.X264-AMIABLE chunk 8\n",
      "✅ Scored: 1987_The.Secret.of.My.Success.1987.720p.BluRay.X264-AMIABLE chunk 9\n",
      "✅ Scored: 1987_The.Secret.of.My.Success.1987.720p.BluRay.X264-AMIABLE chunk 10\n",
      "✅ Scored: 1987_The.Secret.of.My.Success.1987.720p.BluRay.X264-AMIABLE chunk 11\n",
      "✅ Scored: 1987_The.Secret.of.My.Success.1987.720p.BluRay.X264-AMIABLE chunk 12\n"
     ]
    },
    {
     "name": "stderr",
     "output_type": "stream",
     "text": [
      "Scoring institutional trust (chunked):  25%|▏| 118/478 [1:11:45<3:24:49, 34.14s/"
     ]
    },
    {
     "name": "stdout",
     "output_type": "stream",
     "text": [
      "✅ Scored: 2017_Wonder.Woman.2017.720p.BluRay.x264-SPARKS chunk 1\n",
      "✅ Scored: 2017_Wonder.Woman.2017.720p.BluRay.x264-SPARKS chunk 2\n",
      "✅ Scored: 2017_Wonder.Woman.2017.720p.BluRay.x264-SPARKS chunk 3\n",
      "✅ Scored: 2017_Wonder.Woman.2017.720p.BluRay.x264-SPARKS chunk 4\n",
      "✅ Scored: 2017_Wonder.Woman.2017.720p.BluRay.x264-SPARKS chunk 5\n",
      "✅ Scored: 2017_Wonder.Woman.2017.720p.BluRay.x264-SPARKS chunk 6\n",
      "✅ Scored: 2017_Wonder.Woman.2017.720p.BluRay.x264-SPARKS chunk 7\n",
      "✅ Scored: 2017_Wonder.Woman.2017.720p.BluRay.x264-SPARKS chunk 8\n",
      "✅ Scored: 2017_Wonder.Woman.2017.720p.BluRay.x264-SPARKS chunk 9\n",
      "✅ Scored: 2017_Wonder.Woman.2017.720p.BluRay.x264-SPARKS chunk 10\n",
      "✅ Scored: 2017_Wonder.Woman.2017.720p.BluRay.x264-SPARKS chunk 11\n"
     ]
    },
    {
     "name": "stderr",
     "output_type": "stream",
     "text": [
      "Scoring institutional trust (chunked):  25%|▏| 119/478 [1:12:26<3:37:12, 36.30s/"
     ]
    },
    {
     "name": "stdout",
     "output_type": "stream",
     "text": [
      "✅ Scored: 1984_Indiana Jones and the Temple of Doom 1984 1080p Blu-ray AVC DTS-HD chunk 1\n",
      "✅ Scored: 1984_Indiana Jones and the Temple of Doom 1984 1080p Blu-ray AVC DTS-HD chunk 2\n",
      "✅ Scored: 1984_Indiana Jones and the Temple of Doom 1984 1080p Blu-ray AVC DTS-HD chunk 3\n",
      "✅ Scored: 1984_Indiana Jones and the Temple of Doom 1984 1080p Blu-ray AVC DTS-HD chunk 4\n",
      "✅ Scored: 1984_Indiana Jones and the Temple of Doom 1984 1080p Blu-ray AVC DTS-HD chunk 5\n"
     ]
    },
    {
     "name": "stderr",
     "output_type": "stream",
     "text": [
      "Scoring institutional trust (chunked):  25%|▎| 120/478 [1:12:48<3:10:10, 31.87s/"
     ]
    },
    {
     "name": "stdout",
     "output_type": "stream",
     "text": [
      "✅ Scored: 2020_Bad.Boys.for.Life.2020.1080p.HDRip.X264.AC3-EVO chunk 1\n",
      "✅ Scored: 2020_Bad.Boys.for.Life.2020.1080p.HDRip.X264.AC3-EVO chunk 2\n",
      "✅ Scored: 2020_Bad.Boys.for.Life.2020.1080p.HDRip.X264.AC3-EVO chunk 3\n",
      "✅ Scored: 2020_Bad.Boys.for.Life.2020.1080p.HDRip.X264.AC3-EVO chunk 4\n",
      "✅ Scored: 2020_Bad.Boys.for.Life.2020.1080p.HDRip.X264.AC3-EVO chunk 5\n",
      "✅ Scored: 2020_Bad.Boys.for.Life.2020.1080p.HDRip.X264.AC3-EVO chunk 6\n",
      "✅ Scored: 2020_Bad.Boys.for.Life.2020.1080p.HDRip.X264.AC3-EVO chunk 7\n",
      "✅ Scored: 2020_Bad.Boys.for.Life.2020.1080p.HDRip.X264.AC3-EVO chunk 8\n",
      "✅ Scored: 2020_Bad.Boys.for.Life.2020.1080p.HDRip.X264.AC3-EVO chunk 9\n",
      "✅ Scored: 2020_Bad.Boys.for.Life.2020.1080p.HDRip.X264.AC3-EVO chunk 10\n",
      "✅ Scored: 2020_Bad.Boys.for.Life.2020.1080p.HDRip.X264.AC3-EVO chunk 11\n",
      "✅ Scored: 2020_Bad.Boys.for.Life.2020.1080p.HDRip.X264.AC3-EVO chunk 12\n"
     ]
    },
    {
     "name": "stderr",
     "output_type": "stream",
     "text": [
      "Scoring institutional trust (chunked):  25%|▎| 121/478 [1:13:32<3:31:23, 35.53s/"
     ]
    },
    {
     "name": "stdout",
     "output_type": "stream",
     "text": [
      "✅ Scored: 2020_The.Invisible.Man.2020.HDRip.XviD.AC3-EVO chunk 1\n",
      "✅ Scored: 2020_The.Invisible.Man.2020.HDRip.XviD.AC3-EVO chunk 2\n",
      "✅ Scored: 2020_The.Invisible.Man.2020.HDRip.XviD.AC3-EVO chunk 3\n",
      "✅ Scored: 2020_The.Invisible.Man.2020.HDRip.XviD.AC3-EVO chunk 4\n",
      "✅ Scored: 2020_The.Invisible.Man.2020.HDRip.XviD.AC3-EVO chunk 5\n",
      "✅ Scored: 2020_The.Invisible.Man.2020.HDRip.XviD.AC3-EVO chunk 6\n"
     ]
    },
    {
     "name": "stderr",
     "output_type": "stream",
     "text": [
      "Scoring institutional trust (chunked):  26%|▎| 122/478 [1:13:55<3:09:10, 31.88s/"
     ]
    },
    {
     "name": "stdout",
     "output_type": "stream",
     "text": [
      "✅ Scored: 2016_Captain.America.Civil.War.2016.720p.BluRay.X264-AMIABLE chunk 1\n",
      "✅ Scored: 2016_Captain.America.Civil.War.2016.720p.BluRay.X264-AMIABLE chunk 2\n",
      "✅ Scored: 2016_Captain.America.Civil.War.2016.720p.BluRay.X264-AMIABLE chunk 3\n",
      "✅ Scored: 2016_Captain.America.Civil.War.2016.720p.BluRay.X264-AMIABLE chunk 4\n",
      "✅ Scored: 2016_Captain.America.Civil.War.2016.720p.BluRay.X264-AMIABLE chunk 5\n",
      "✅ Scored: 2016_Captain.America.Civil.War.2016.720p.BluRay.X264-AMIABLE chunk 6\n",
      "✅ Scored: 2016_Captain.America.Civil.War.2016.720p.BluRay.X264-AMIABLE chunk 7\n",
      "✅ Scored: 2016_Captain.America.Civil.War.2016.720p.BluRay.X264-AMIABLE chunk 8\n",
      "✅ Scored: 2016_Captain.America.Civil.War.2016.720p.BluRay.X264-AMIABLE chunk 9\n",
      "✅ Scored: 2016_Captain.America.Civil.War.2016.720p.BluRay.X264-AMIABLE chunk 10\n",
      "✅ Scored: 2016_Captain.America.Civil.War.2016.720p.BluRay.X264-AMIABLE chunk 11\n",
      "✅ Scored: 2016_Captain.America.Civil.War.2016.720p.BluRay.X264-AMIABLE chunk 12\n"
     ]
    },
    {
     "name": "stderr",
     "output_type": "stream",
     "text": [
      "Scoring institutional trust (chunked):  26%|▎| 123/478 [1:14:38<3:27:39, 35.10s/"
     ]
    },
    {
     "name": "stdout",
     "output_type": "stream",
     "text": [
      "✅ Scored: 1997_George Of The Jungle (1997).en chunk 1\n",
      "✅ Scored: 1997_George Of The Jungle (1997).en chunk 2\n",
      "✅ Scored: 1997_George Of The Jungle (1997).en chunk 3\n",
      "✅ Scored: 1997_George Of The Jungle (1997).en chunk 4\n",
      "✅ Scored: 1997_George Of The Jungle (1997).en chunk 5\n",
      "✅ Scored: 1997_George Of The Jungle (1997).en chunk 6\n",
      "✅ Scored: 1997_George Of The Jungle (1997).en chunk 7\n",
      "✅ Scored: 1997_George Of The Jungle (1997).en chunk 8\n",
      "✅ Scored: 1997_George Of The Jungle (1997).en chunk 9\n",
      "✅ Scored: 1997_George Of The Jungle (1997).en chunk 10\n"
     ]
    },
    {
     "name": "stderr",
     "output_type": "stream",
     "text": [
      "Scoring institutional trust (chunked):  26%|▎| 124/478 [1:15:16<3:32:29, 36.02s/"
     ]
    },
    {
     "name": "stdout",
     "output_type": "stream",
     "text": [
      "✅ Scored: 2002_A.Beautiful.Mind.2001.BluRay.720p.DTS.x264-CHD.eng chunk 1\n",
      "✅ Scored: 2002_A.Beautiful.Mind.2001.BluRay.720p.DTS.x264-CHD.eng chunk 2\n",
      "✅ Scored: 2002_A.Beautiful.Mind.2001.BluRay.720p.DTS.x264-CHD.eng chunk 3\n",
      "✅ Scored: 2002_A.Beautiful.Mind.2001.BluRay.720p.DTS.x264-CHD.eng chunk 4\n",
      "✅ Scored: 2002_A.Beautiful.Mind.2001.BluRay.720p.DTS.x264-CHD.eng chunk 5\n",
      "✅ Scored: 2002_A.Beautiful.Mind.2001.BluRay.720p.DTS.x264-CHD.eng chunk 6\n",
      "✅ Scored: 2002_A.Beautiful.Mind.2001.BluRay.720p.DTS.x264-CHD.eng chunk 7\n",
      "✅ Scored: 2002_A.Beautiful.Mind.2001.BluRay.720p.DTS.x264-CHD.eng chunk 8\n",
      "✅ Scored: 2002_A.Beautiful.Mind.2001.BluRay.720p.DTS.x264-CHD.eng chunk 9\n",
      "✅ Scored: 2002_A.Beautiful.Mind.2001.BluRay.720p.DTS.x264-CHD.eng chunk 10\n"
     ]
    },
    {
     "name": "stderr",
     "output_type": "stream",
     "text": [
      "Scoring institutional trust (chunked):  26%|▎| 125/478 [1:15:53<3:33:28, 36.28s/"
     ]
    },
    {
     "name": "stdout",
     "output_type": "stream",
     "text": [
      "✅ Scored: 1981_The Four Seasons (1981)_aw chunk 1\n",
      "✅ Scored: 1981_The Four Seasons (1981)_aw chunk 2\n",
      "✅ Scored: 1981_The Four Seasons (1981)_aw chunk 3\n",
      "✅ Scored: 1981_The Four Seasons (1981)_aw chunk 4\n",
      "✅ Scored: 1981_The Four Seasons (1981)_aw chunk 5\n",
      "✅ Scored: 1981_The Four Seasons (1981)_aw chunk 6\n",
      "✅ Scored: 1981_The Four Seasons (1981)_aw chunk 7\n",
      "✅ Scored: 1981_The Four Seasons (1981)_aw chunk 8\n",
      "✅ Scored: 1981_The Four Seasons (1981)_aw chunk 9\n",
      "✅ Scored: 1981_The Four Seasons (1981)_aw chunk 10\n",
      "✅ Scored: 1981_The Four Seasons (1981)_aw chunk 11\n",
      "✅ Scored: 1981_The Four Seasons (1981)_aw chunk 12\n",
      "✅ Scored: 1981_The Four Seasons (1981)_aw chunk 13\n",
      "✅ Scored: 1981_The Four Seasons (1981)_aw chunk 14\n",
      "✅ Scored: 1981_The Four Seasons (1981)_aw chunk 15\n"
     ]
    },
    {
     "name": "stderr",
     "output_type": "stream",
     "text": [
      "Scoring institutional trust (chunked):  26%|▎| 126/478 [1:16:51<4:10:47, 42.75s/"
     ]
    },
    {
     "name": "stdout",
     "output_type": "stream",
     "text": [
      "✅ Scored: 1981_The.Great.Muppet.Caper.1981.AE.DVDRip.XviD-Shoo.ENG chunk 1\n",
      "✅ Scored: 1981_The.Great.Muppet.Caper.1981.AE.DVDRip.XviD-Shoo.ENG chunk 2\n",
      "✅ Scored: 1981_The.Great.Muppet.Caper.1981.AE.DVDRip.XviD-Shoo.ENG chunk 3\n",
      "✅ Scored: 1981_The.Great.Muppet.Caper.1981.AE.DVDRip.XviD-Shoo.ENG chunk 4\n",
      "✅ Scored: 1981_The.Great.Muppet.Caper.1981.AE.DVDRip.XviD-Shoo.ENG chunk 5\n",
      "✅ Scored: 1981_The.Great.Muppet.Caper.1981.AE.DVDRip.XviD-Shoo.ENG chunk 6\n",
      "✅ Scored: 1981_The.Great.Muppet.Caper.1981.AE.DVDRip.XviD-Shoo.ENG chunk 7\n",
      "✅ Scored: 1981_The.Great.Muppet.Caper.1981.AE.DVDRip.XviD-Shoo.ENG chunk 8\n",
      "✅ Scored: 1981_The.Great.Muppet.Caper.1981.AE.DVDRip.XviD-Shoo.ENG chunk 9\n",
      "✅ Scored: 1981_The.Great.Muppet.Caper.1981.AE.DVDRip.XviD-Shoo.ENG chunk 10\n",
      "✅ Scored: 1981_The.Great.Muppet.Caper.1981.AE.DVDRip.XviD-Shoo.ENG chunk 11\n"
     ]
    },
    {
     "name": "stderr",
     "output_type": "stream",
     "text": [
      "Scoring institutional trust (chunked):  27%|▎| 127/478 [1:17:28<4:00:44, 41.15s/"
     ]
    },
    {
     "name": "stdout",
     "output_type": "stream",
     "text": [
      "✅ Scored: 1998_Deep Impact (1998) chunk 1\n",
      "✅ Scored: 1998_Deep Impact (1998) chunk 2\n",
      "✅ Scored: 1998_Deep Impact (1998) chunk 3\n",
      "✅ Scored: 1998_Deep Impact (1998) chunk 4\n",
      "✅ Scored: 1998_Deep Impact (1998) chunk 5\n",
      "✅ Scored: 1998_Deep Impact (1998) chunk 6\n",
      "✅ Scored: 1998_Deep Impact (1998) chunk 7\n",
      "✅ Scored: 1998_Deep Impact (1998) chunk 8\n",
      "✅ Scored: 1998_Deep Impact (1998) chunk 9\n",
      "✅ Scored: 1998_Deep Impact (1998) chunk 10\n",
      "✅ Scored: 1998_Deep Impact (1998) chunk 11\n"
     ]
    },
    {
     "name": "stderr",
     "output_type": "stream",
     "text": [
      "Scoring institutional trust (chunked):  27%|▎| 128/478 [1:18:06<3:54:26, 40.19s/"
     ]
    },
    {
     "name": "stdout",
     "output_type": "stream",
     "text": [
      "✅ Scored: 2015_The.Martian.2015.720p.BluRay.x264-SPARKS chunk 1\n",
      "✅ Scored: 2015_The.Martian.2015.720p.BluRay.x264-SPARKS chunk 2\n",
      "✅ Scored: 2015_The.Martian.2015.720p.BluRay.x264-SPARKS chunk 3\n",
      "✅ Scored: 2015_The.Martian.2015.720p.BluRay.x264-SPARKS chunk 4\n",
      "✅ Scored: 2015_The.Martian.2015.720p.BluRay.x264-SPARKS chunk 5\n",
      "✅ Scored: 2015_The.Martian.2015.720p.BluRay.x264-SPARKS chunk 6\n",
      "✅ Scored: 2015_The.Martian.2015.720p.BluRay.x264-SPARKS chunk 7\n",
      "✅ Scored: 2015_The.Martian.2015.720p.BluRay.x264-SPARKS chunk 8\n",
      "✅ Scored: 2015_The.Martian.2015.720p.BluRay.x264-SPARKS chunk 9\n",
      "✅ Scored: 2015_The.Martian.2015.720p.BluRay.x264-SPARKS chunk 10\n",
      "✅ Scored: 2015_The.Martian.2015.720p.BluRay.x264-SPARKS chunk 11\n",
      "✅ Scored: 2015_The.Martian.2015.720p.BluRay.x264-SPARKS chunk 12\n",
      "✅ Scored: 2015_The.Martian.2015.720p.BluRay.x264-SPARKS chunk 13\n"
     ]
    },
    {
     "name": "stderr",
     "output_type": "stream",
     "text": [
      "Scoring institutional trust (chunked):  27%|▎| 129/478 [1:18:51<4:01:34, 41.53s/"
     ]
    },
    {
     "name": "stdout",
     "output_type": "stream",
     "text": [
      "✅ Scored: 2001_Jurassic.Park.III[2001]DvDrip-aXXo chunk 1\n",
      "✅ Scored: 2001_Jurassic.Park.III[2001]DvDrip-aXXo chunk 2\n",
      "✅ Scored: 2001_Jurassic.Park.III[2001]DvDrip-aXXo chunk 3\n",
      "✅ Scored: 2001_Jurassic.Park.III[2001]DvDrip-aXXo chunk 4\n",
      "✅ Scored: 2001_Jurassic.Park.III[2001]DvDrip-aXXo chunk 5\n",
      "✅ Scored: 2001_Jurassic.Park.III[2001]DvDrip-aXXo chunk 6\n"
     ]
    },
    {
     "name": "stderr",
     "output_type": "stream",
     "text": [
      "Scoring institutional trust (chunked):  27%|▎| 130/478 [1:19:12<3:26:23, 35.59s/"
     ]
    },
    {
     "name": "stdout",
     "output_type": "stream",
     "text": [
      "✅ Scored: 2017_Star.Wars.The.Last.Jedi.2017.720p.BluRay.x264-SPARKS chunk 1\n",
      "✅ Scored: 2017_Star.Wars.The.Last.Jedi.2017.720p.BluRay.x264-SPARKS chunk 2\n",
      "✅ Scored: 2017_Star.Wars.The.Last.Jedi.2017.720p.BluRay.x264-SPARKS chunk 3\n",
      "✅ Scored: 2017_Star.Wars.The.Last.Jedi.2017.720p.BluRay.x264-SPARKS chunk 4\n",
      "✅ Scored: 2017_Star.Wars.The.Last.Jedi.2017.720p.BluRay.x264-SPARKS chunk 5\n",
      "✅ Scored: 2017_Star.Wars.The.Last.Jedi.2017.720p.BluRay.x264-SPARKS chunk 6\n",
      "✅ Scored: 2017_Star.Wars.The.Last.Jedi.2017.720p.BluRay.x264-SPARKS chunk 7\n",
      "✅ Scored: 2017_Star.Wars.The.Last.Jedi.2017.720p.BluRay.x264-SPARKS chunk 8\n",
      "✅ Scored: 2017_Star.Wars.The.Last.Jedi.2017.720p.BluRay.x264-SPARKS chunk 9\n"
     ]
    },
    {
     "name": "stderr",
     "output_type": "stream",
     "text": [
      "Scoring institutional trust (chunked):  27%|▎| 131/478 [1:19:46<3:22:19, 34.98s/"
     ]
    },
    {
     "name": "stdout",
     "output_type": "stream",
     "text": [
      "✅ Scored: 1982_An.Officer.and.a.Gentleman.1982.720p.BluRay.X264-AMIABLE chunk 1\n",
      "✅ Scored: 1982_An.Officer.and.a.Gentleman.1982.720p.BluRay.X264-AMIABLE chunk 2\n",
      "✅ Scored: 1982_An.Officer.and.a.Gentleman.1982.720p.BluRay.X264-AMIABLE chunk 3\n",
      "✅ Scored: 1982_An.Officer.and.a.Gentleman.1982.720p.BluRay.X264-AMIABLE chunk 4\n",
      "✅ Scored: 1982_An.Officer.and.a.Gentleman.1982.720p.BluRay.X264-AMIABLE chunk 5\n",
      "✅ Scored: 1982_An.Officer.and.a.Gentleman.1982.720p.BluRay.X264-AMIABLE chunk 6\n",
      "✅ Scored: 1982_An.Officer.and.a.Gentleman.1982.720p.BluRay.X264-AMIABLE chunk 7\n",
      "✅ Scored: 1982_An.Officer.and.a.Gentleman.1982.720p.BluRay.X264-AMIABLE chunk 8\n",
      "✅ Scored: 1982_An.Officer.and.a.Gentleman.1982.720p.BluRay.X264-AMIABLE chunk 9\n",
      "✅ Scored: 1982_An.Officer.and.a.Gentleman.1982.720p.BluRay.X264-AMIABLE chunk 10\n",
      "✅ Scored: 1982_An.Officer.and.a.Gentleman.1982.720p.BluRay.X264-AMIABLE chunk 11\n"
     ]
    },
    {
     "name": "stderr",
     "output_type": "stream",
     "text": [
      "Scoring institutional trust (chunked):  28%|▎| 132/478 [1:20:24<3:26:34, 35.82s/"
     ]
    },
    {
     "name": "stdout",
     "output_type": "stream",
     "text": [
      "✅ Scored: 2008_Horton Hears a Who![2008]DvDrip AC3[Eng]-FXG chunk 1\n",
      "✅ Scored: 2008_Horton Hears a Who![2008]DvDrip AC3[Eng]-FXG chunk 2\n",
      "✅ Scored: 2008_Horton Hears a Who![2008]DvDrip AC3[Eng]-FXG chunk 3\n",
      "✅ Scored: 2008_Horton Hears a Who![2008]DvDrip AC3[Eng]-FXG chunk 4\n",
      "✅ Scored: 2008_Horton Hears a Who![2008]DvDrip AC3[Eng]-FXG chunk 5\n",
      "✅ Scored: 2008_Horton Hears a Who![2008]DvDrip AC3[Eng]-FXG chunk 6\n",
      "✅ Scored: 2008_Horton Hears a Who![2008]DvDrip AC3[Eng]-FXG chunk 7\n",
      "✅ Scored: 2008_Horton Hears a Who![2008]DvDrip AC3[Eng]-FXG chunk 8\n"
     ]
    },
    {
     "name": "stderr",
     "output_type": "stream",
     "text": [
      "Scoring institutional trust (chunked):  28%|▎| 133/478 [1:20:50<3:10:05, 33.06s/"
     ]
    },
    {
     "name": "stdout",
     "output_type": "stream",
     "text": [
      "✅ Scored: 1988_Crocodile. Dundee. II. 1988. 720p. BluRay. x264-PSYCHD chunk 1\n",
      "✅ Scored: 1988_Crocodile. Dundee. II. 1988. 720p. BluRay. x264-PSYCHD chunk 2\n",
      "✅ Scored: 1988_Crocodile. Dundee. II. 1988. 720p. BluRay. x264-PSYCHD chunk 3\n",
      "✅ Scored: 1988_Crocodile. Dundee. II. 1988. 720p. BluRay. x264-PSYCHD chunk 4\n",
      "✅ Scored: 1988_Crocodile. Dundee. II. 1988. 720p. BluRay. x264-PSYCHD chunk 5\n",
      "✅ Scored: 1988_Crocodile. Dundee. II. 1988. 720p. BluRay. x264-PSYCHD chunk 6\n",
      "✅ Scored: 1988_Crocodile. Dundee. II. 1988. 720p. BluRay. x264-PSYCHD chunk 7\n"
     ]
    },
    {
     "name": "stderr",
     "output_type": "stream",
     "text": [
      "Scoring institutional trust (chunked):  28%|▎| 134/478 [1:21:16<2:56:40, 30.81s/"
     ]
    },
    {
     "name": "stdout",
     "output_type": "stream",
     "text": [
      "✅ Scored: 1987_The.Untouchables.1987.720p.BluRay.DTS.x264-ESiR.ENG chunk 1\n",
      "✅ Scored: 1987_The.Untouchables.1987.720p.BluRay.DTS.x264-ESiR.ENG chunk 2\n",
      "✅ Scored: 1987_The.Untouchables.1987.720p.BluRay.DTS.x264-ESiR.ENG chunk 3\n",
      "✅ Scored: 1987_The.Untouchables.1987.720p.BluRay.DTS.x264-ESiR.ENG chunk 4\n",
      "✅ Scored: 1987_The.Untouchables.1987.720p.BluRay.DTS.x264-ESiR.ENG chunk 5\n",
      "✅ Scored: 1987_The.Untouchables.1987.720p.BluRay.DTS.x264-ESiR.ENG chunk 6\n",
      "✅ Scored: 1987_The.Untouchables.1987.720p.BluRay.DTS.x264-ESiR.ENG chunk 7\n",
      "✅ Scored: 1987_The.Untouchables.1987.720p.BluRay.DTS.x264-ESiR.ENG chunk 8\n"
     ]
    },
    {
     "name": "stderr",
     "output_type": "stream",
     "text": [
      "Scoring institutional trust (chunked):  28%|▎| 135/478 [1:21:44<2:51:43, 30.04s/"
     ]
    },
    {
     "name": "stdout",
     "output_type": "stream",
     "text": [
      "✅ Scored: 1985_Back.To.The.Future.1985.720p.BluRay.x264.DTS-WiKi.eng chunk 1\n",
      "✅ Scored: 1985_Back.To.The.Future.1985.720p.BluRay.x264.DTS-WiKi.eng chunk 2\n",
      "✅ Scored: 1985_Back.To.The.Future.1985.720p.BluRay.x264.DTS-WiKi.eng chunk 3\n",
      "✅ Scored: 1985_Back.To.The.Future.1985.720p.BluRay.x264.DTS-WiKi.eng chunk 4\n",
      "✅ Scored: 1985_Back.To.The.Future.1985.720p.BluRay.x264.DTS-WiKi.eng chunk 5\n",
      "✅ Scored: 1985_Back.To.The.Future.1985.720p.BluRay.x264.DTS-WiKi.eng chunk 6\n",
      "✅ Scored: 1985_Back.To.The.Future.1985.720p.BluRay.x264.DTS-WiKi.eng chunk 7\n",
      "✅ Scored: 1985_Back.To.The.Future.1985.720p.BluRay.x264.DTS-WiKi.eng chunk 8\n",
      "✅ Scored: 1985_Back.To.The.Future.1985.720p.BluRay.x264.DTS-WiKi.eng chunk 9\n",
      "✅ Scored: 1985_Back.To.The.Future.1985.720p.BluRay.x264.DTS-WiKi.eng chunk 10\n",
      "✅ Scored: 1985_Back.To.The.Future.1985.720p.BluRay.x264.DTS-WiKi.eng chunk 11\n"
     ]
    },
    {
     "name": "stderr",
     "output_type": "stream",
     "text": [
      "Scoring institutional trust (chunked):  28%|▎| 136/478 [1:22:25<3:10:16, 33.38s/"
     ]
    },
    {
     "name": "stdout",
     "output_type": "stream",
     "text": [
      "✅ Scored: 2022_Black.Panther.Wakanda.Forever.2022.1080p.BluRay.x264.DTS-HD.MA.7.1-MT chunk 1\n",
      "✅ Scored: 2022_Black.Panther.Wakanda.Forever.2022.1080p.BluRay.x264.DTS-HD.MA.7.1-MT chunk 2\n",
      "✅ Scored: 2022_Black.Panther.Wakanda.Forever.2022.1080p.BluRay.x264.DTS-HD.MA.7.1-MT chunk 3\n",
      "✅ Scored: 2022_Black.Panther.Wakanda.Forever.2022.1080p.BluRay.x264.DTS-HD.MA.7.1-MT chunk 4\n",
      "✅ Scored: 2022_Black.Panther.Wakanda.Forever.2022.1080p.BluRay.x264.DTS-HD.MA.7.1-MT chunk 5\n",
      "✅ Scored: 2022_Black.Panther.Wakanda.Forever.2022.1080p.BluRay.x264.DTS-HD.MA.7.1-MT chunk 6\n",
      "✅ Scored: 2022_Black.Panther.Wakanda.Forever.2022.1080p.BluRay.x264.DTS-HD.MA.7.1-MT chunk 7\n",
      "✅ Scored: 2022_Black.Panther.Wakanda.Forever.2022.1080p.BluRay.x264.DTS-HD.MA.7.1-MT chunk 8\n",
      "✅ Scored: 2022_Black.Panther.Wakanda.Forever.2022.1080p.BluRay.x264.DTS-HD.MA.7.1-MT chunk 9\n",
      "✅ Scored: 2022_Black.Panther.Wakanda.Forever.2022.1080p.BluRay.x264.DTS-HD.MA.7.1-MT chunk 10\n",
      "✅ Scored: 2022_Black.Panther.Wakanda.Forever.2022.1080p.BluRay.x264.DTS-HD.MA.7.1-MT chunk 11\n",
      "✅ Scored: 2022_Black.Panther.Wakanda.Forever.2022.1080p.BluRay.x264.DTS-HD.MA.7.1-MT chunk 12\n"
     ]
    },
    {
     "name": "stderr",
     "output_type": "stream",
     "text": [
      "Scoring institutional trust (chunked):  29%|▎| 137/478 [1:23:08<3:25:05, 36.09s/"
     ]
    },
    {
     "name": "stdout",
     "output_type": "stream",
     "text": [
      "✅ Scored: 2013_Iron.Man.3.2013.720p.BluRay.x264-SPARKS chunk 1\n",
      "✅ Scored: 2013_Iron.Man.3.2013.720p.BluRay.x264-SPARKS chunk 2\n",
      "✅ Scored: 2013_Iron.Man.3.2013.720p.BluRay.x264-SPARKS chunk 3\n",
      "✅ Scored: 2013_Iron.Man.3.2013.720p.BluRay.x264-SPARKS chunk 4\n",
      "✅ Scored: 2013_Iron.Man.3.2013.720p.BluRay.x264-SPARKS chunk 5\n",
      "✅ Scored: 2013_Iron.Man.3.2013.720p.BluRay.x264-SPARKS chunk 6\n",
      "✅ Scored: 2013_Iron.Man.3.2013.720p.BluRay.x264-SPARKS chunk 7\n",
      "✅ Scored: 2013_Iron.Man.3.2013.720p.BluRay.x264-SPARKS chunk 8\n",
      "✅ Scored: 2013_Iron.Man.3.2013.720p.BluRay.x264-SPARKS chunk 9\n",
      "✅ Scored: 2013_Iron.Man.3.2013.720p.BluRay.x264-SPARKS chunk 10\n",
      "✅ Scored: 2013_Iron.Man.3.2013.720p.BluRay.x264-SPARKS chunk 11\n",
      "✅ Scored: 2013_Iron.Man.3.2013.720p.BluRay.x264-SPARKS chunk 12\n",
      "✅ Scored: 2013_Iron.Man.3.2013.720p.BluRay.x264-SPARKS chunk 13\n",
      "✅ Scored: 2013_Iron.Man.3.2013.720p.BluRay.x264-SPARKS chunk 14\n"
     ]
    },
    {
     "name": "stderr",
     "output_type": "stream",
     "text": [
      "Scoring institutional trust (chunked):  29%|▎| 138/478 [1:23:57<3:47:27, 40.14s/"
     ]
    },
    {
     "name": "stdout",
     "output_type": "stream",
     "text": [
      "✅ Scored: 2015_Cinderella. 2015. 720p. BluRay. x264-SPARKS chunk 1\n",
      "✅ Scored: 2015_Cinderella. 2015. 720p. BluRay. x264-SPARKS chunk 2\n",
      "✅ Scored: 2015_Cinderella. 2015. 720p. BluRay. x264-SPARKS chunk 3\n",
      "✅ Scored: 2015_Cinderella. 2015. 720p. BluRay. x264-SPARKS chunk 4\n",
      "✅ Scored: 2015_Cinderella. 2015. 720p. BluRay. x264-SPARKS chunk 5\n",
      "✅ Scored: 2015_Cinderella. 2015. 720p. BluRay. x264-SPARKS chunk 6\n",
      "✅ Scored: 2015_Cinderella. 2015. 720p. BluRay. x264-SPARKS chunk 7\n",
      "✅ Scored: 2015_Cinderella. 2015. 720p. BluRay. x264-SPARKS chunk 8\n",
      "✅ Scored: 2015_Cinderella. 2015. 720p. BluRay. x264-SPARKS chunk 9\n",
      "✅ Scored: 2015_Cinderella. 2015. 720p. BluRay. x264-SPARKS chunk 10\n"
     ]
    },
    {
     "name": "stderr",
     "output_type": "stream",
     "text": [
      "Scoring institutional trust (chunked):  29%|▎| 139/478 [1:24:31<3:35:43, 38.18s/"
     ]
    },
    {
     "name": "stdout",
     "output_type": "stream",
     "text": [
      "✅ Scored: 1995_Pocahontas.1995.720p.BluRay.x264.DTS-WiKi.eng chunk 1\n",
      "✅ Scored: 1995_Pocahontas.1995.720p.BluRay.x264.DTS-WiKi.eng chunk 2\n",
      "✅ Scored: 1995_Pocahontas.1995.720p.BluRay.x264.DTS-WiKi.eng chunk 3\n",
      "✅ Scored: 1995_Pocahontas.1995.720p.BluRay.x264.DTS-WiKi.eng chunk 4\n",
      "✅ Scored: 1995_Pocahontas.1995.720p.BluRay.x264.DTS-WiKi.eng chunk 5\n",
      "✅ Scored: 1995_Pocahontas.1995.720p.BluRay.x264.DTS-WiKi.eng chunk 6\n",
      "✅ Scored: 1995_Pocahontas.1995.720p.BluRay.x264.DTS-WiKi.eng chunk 7\n",
      "✅ Scored: 1995_Pocahontas.1995.720p.BluRay.x264.DTS-WiKi.eng chunk 8\n"
     ]
    },
    {
     "name": "stderr",
     "output_type": "stream",
     "text": [
      "Scoring institutional trust (chunked):  29%|▎| 140/478 [1:25:01<3:21:48, 35.82s/"
     ]
    },
    {
     "name": "stdout",
     "output_type": "stream",
     "text": [
      "✅ Scored: 2014_Big.Hero.6.2014.720p.BluRay.x264-SPARKS chunk 1\n",
      "✅ Scored: 2014_Big.Hero.6.2014.720p.BluRay.x264-SPARKS chunk 2\n",
      "✅ Scored: 2014_Big.Hero.6.2014.720p.BluRay.x264-SPARKS chunk 3\n",
      "✅ Scored: 2014_Big.Hero.6.2014.720p.BluRay.x264-SPARKS chunk 4\n",
      "✅ Scored: 2014_Big.Hero.6.2014.720p.BluRay.x264-SPARKS chunk 5\n",
      "✅ Scored: 2014_Big.Hero.6.2014.720p.BluRay.x264-SPARKS chunk 6\n",
      "✅ Scored: 2014_Big.Hero.6.2014.720p.BluRay.x264-SPARKS chunk 7\n",
      "✅ Scored: 2014_Big.Hero.6.2014.720p.BluRay.x264-SPARKS chunk 8\n"
     ]
    },
    {
     "name": "stderr",
     "output_type": "stream",
     "text": [
      "Scoring institutional trust (chunked):  29%|▎| 141/478 [1:25:29<3:06:58, 33.29s/"
     ]
    },
    {
     "name": "stdout",
     "output_type": "stream",
     "text": [
      "✅ Scored: 2019_It.Chapter.Two.2019.HDRip.XviD.AC3-EVO chunk 1\n",
      "✅ Scored: 2019_It.Chapter.Two.2019.HDRip.XviD.AC3-EVO chunk 2\n",
      "✅ Scored: 2019_It.Chapter.Two.2019.HDRip.XviD.AC3-EVO chunk 3\n",
      "✅ Scored: 2019_It.Chapter.Two.2019.HDRip.XviD.AC3-EVO chunk 4\n",
      "✅ Scored: 2019_It.Chapter.Two.2019.HDRip.XviD.AC3-EVO chunk 5\n",
      "✅ Scored: 2019_It.Chapter.Two.2019.HDRip.XviD.AC3-EVO chunk 6\n",
      "✅ Scored: 2019_It.Chapter.Two.2019.HDRip.XviD.AC3-EVO chunk 7\n",
      "✅ Scored: 2019_It.Chapter.Two.2019.HDRip.XviD.AC3-EVO chunk 8\n",
      "✅ Scored: 2019_It.Chapter.Two.2019.HDRip.XviD.AC3-EVO chunk 9\n",
      "✅ Scored: 2019_It.Chapter.Two.2019.HDRip.XviD.AC3-EVO chunk 10\n",
      "✅ Scored: 2019_It.Chapter.Two.2019.HDRip.XviD.AC3-EVO chunk 11\n",
      "✅ Scored: 2019_It.Chapter.Two.2019.HDRip.XviD.AC3-EVO chunk 12\n",
      "✅ Scored: 2019_It.Chapter.Two.2019.HDRip.XviD.AC3-EVO chunk 13\n",
      "✅ Scored: 2019_It.Chapter.Two.2019.HDRip.XviD.AC3-EVO chunk 14\n"
     ]
    },
    {
     "name": "stderr",
     "output_type": "stream",
     "text": [
      "Scoring institutional trust (chunked):  30%|▎| 142/478 [1:26:18<3:32:42, 37.98s/"
     ]
    },
    {
     "name": "stdout",
     "output_type": "stream",
     "text": [
      "✅ Scored: 2009_The.Blind.Side.2009.720p.BluRay.x264.YIFY.eng chunk 1\n",
      "✅ Scored: 2009_The.Blind.Side.2009.720p.BluRay.x264.YIFY.eng chunk 2\n",
      "✅ Scored: 2009_The.Blind.Side.2009.720p.BluRay.x264.YIFY.eng chunk 3\n",
      "✅ Scored: 2009_The.Blind.Side.2009.720p.BluRay.x264.YIFY.eng chunk 4\n",
      "✅ Scored: 2009_The.Blind.Side.2009.720p.BluRay.x264.YIFY.eng chunk 5\n",
      "✅ Scored: 2009_The.Blind.Side.2009.720p.BluRay.x264.YIFY.eng chunk 6\n",
      "✅ Scored: 2009_The.Blind.Side.2009.720p.BluRay.x264.YIFY.eng chunk 7\n",
      "✅ Scored: 2009_The.Blind.Side.2009.720p.BluRay.x264.YIFY.eng chunk 8\n",
      "✅ Scored: 2009_The.Blind.Side.2009.720p.BluRay.x264.YIFY.eng chunk 9\n",
      "✅ Scored: 2009_The.Blind.Side.2009.720p.BluRay.x264.YIFY.eng chunk 10\n",
      "✅ Scored: 2009_The.Blind.Side.2009.720p.BluRay.x264.YIFY.eng chunk 11\n",
      "✅ Scored: 2009_The.Blind.Side.2009.720p.BluRay.x264.YIFY.eng chunk 12\n",
      "✅ Scored: 2009_The.Blind.Side.2009.720p.BluRay.x264.YIFY.eng chunk 13\n",
      "✅ Scored: 2009_The.Blind.Side.2009.720p.BluRay.x264.YIFY.eng chunk 14\n",
      "✅ Scored: 2009_The.Blind.Side.2009.720p.BluRay.x264.YIFY.eng chunk 15\n"
     ]
    },
    {
     "name": "stderr",
     "output_type": "stream",
     "text": [
      "Scoring institutional trust (chunked):  30%|▎| 143/478 [1:27:17<4:07:38, 44.35s/"
     ]
    },
    {
     "name": "stdout",
     "output_type": "stream",
     "text": [
      "✅ Scored: 1987_Three Men and a Baby_(1987)_CtB chunk 1\n",
      "✅ Scored: 1987_Three Men and a Baby_(1987)_CtB chunk 2\n",
      "✅ Scored: 1987_Three Men and a Baby_(1987)_CtB chunk 3\n",
      "✅ Scored: 1987_Three Men and a Baby_(1987)_CtB chunk 4\n",
      "✅ Scored: 1987_Three Men and a Baby_(1987)_CtB chunk 5\n",
      "✅ Scored: 1987_Three Men and a Baby_(1987)_CtB chunk 6\n",
      "✅ Scored: 1987_Three Men and a Baby_(1987)_CtB chunk 7\n",
      "✅ Scored: 1987_Three Men and a Baby_(1987)_CtB chunk 8\n",
      "✅ Scored: 1987_Three Men and a Baby_(1987)_CtB chunk 9\n",
      "✅ Scored: 1987_Three Men and a Baby_(1987)_CtB chunk 10\n",
      "✅ Scored: 1987_Three Men and a Baby_(1987)_CtB chunk 11\n",
      "✅ Scored: 1987_Three Men and a Baby_(1987)_CtB chunk 12\n",
      "✅ Scored: 1987_Three Men and a Baby_(1987)_CtB chunk 13\n",
      "✅ Scored: 1987_Three Men and a Baby_(1987)_CtB chunk 14\n"
     ]
    },
    {
     "name": "stderr",
     "output_type": "stream",
     "text": [
      "Scoring institutional trust (chunked):  30%|▎| 144/478 [1:28:08<4:18:54, 46.51s/"
     ]
    },
    {
     "name": "stdout",
     "output_type": "stream",
     "text": [
      "✅ Scored: 2001_Planet.of.the.Apes.2001.BluRay.720p.x264.DTS-MySiLU.eng chunk 1\n",
      "✅ Scored: 2001_Planet.of.the.Apes.2001.BluRay.720p.x264.DTS-MySiLU.eng chunk 2\n",
      "✅ Scored: 2001_Planet.of.the.Apes.2001.BluRay.720p.x264.DTS-MySiLU.eng chunk 3\n",
      "✅ Scored: 2001_Planet.of.the.Apes.2001.BluRay.720p.x264.DTS-MySiLU.eng chunk 4\n",
      "✅ Scored: 2001_Planet.of.the.Apes.2001.BluRay.720p.x264.DTS-MySiLU.eng chunk 5\n"
     ]
    },
    {
     "name": "stderr",
     "output_type": "stream",
     "text": [
      "Scoring institutional trust (chunked):  30%|▎| 145/478 [1:28:25<3:28:12, 37.51s/"
     ]
    },
    {
     "name": "stdout",
     "output_type": "stream",
     "text": [
      "✅ Scored: 2006_Pirates.of.the.Caribbean.Dead.Mans.Chest.2006.DIRFIX.DVD9.720p.BluRay.x264-REVEiLLE.eng chunk 1\n",
      "✅ Scored: 2006_Pirates.of.the.Caribbean.Dead.Mans.Chest.2006.DIRFIX.DVD9.720p.BluRay.x264-REVEiLLE.eng chunk 2\n",
      "✅ Scored: 2006_Pirates.of.the.Caribbean.Dead.Mans.Chest.2006.DIRFIX.DVD9.720p.BluRay.x264-REVEiLLE.eng chunk 3\n",
      "✅ Scored: 2006_Pirates.of.the.Caribbean.Dead.Mans.Chest.2006.DIRFIX.DVD9.720p.BluRay.x264-REVEiLLE.eng chunk 4\n",
      "✅ Scored: 2006_Pirates.of.the.Caribbean.Dead.Mans.Chest.2006.DIRFIX.DVD9.720p.BluRay.x264-REVEiLLE.eng chunk 5\n",
      "✅ Scored: 2006_Pirates.of.the.Caribbean.Dead.Mans.Chest.2006.DIRFIX.DVD9.720p.BluRay.x264-REVEiLLE.eng chunk 6\n",
      "✅ Scored: 2006_Pirates.of.the.Caribbean.Dead.Mans.Chest.2006.DIRFIX.DVD9.720p.BluRay.x264-REVEiLLE.eng chunk 7\n",
      "✅ Scored: 2006_Pirates.of.the.Caribbean.Dead.Mans.Chest.2006.DIRFIX.DVD9.720p.BluRay.x264-REVEiLLE.eng chunk 8\n",
      "✅ Scored: 2006_Pirates.of.the.Caribbean.Dead.Mans.Chest.2006.DIRFIX.DVD9.720p.BluRay.x264-REVEiLLE.eng chunk 9\n",
      "✅ Scored: 2006_Pirates.of.the.Caribbean.Dead.Mans.Chest.2006.DIRFIX.DVD9.720p.BluRay.x264-REVEiLLE.eng chunk 10\n"
     ]
    },
    {
     "name": "stderr",
     "output_type": "stream",
     "text": [
      "Scoring institutional trust (chunked):  31%|▎| 146/478 [1:29:00<3:22:58, 36.68s/"
     ]
    },
    {
     "name": "stdout",
     "output_type": "stream",
     "text": [
      "✅ Scored: 1992_Under.Siege.1992.1080p.Bluray.x264-Q.ENG chunk 1\n",
      "✅ Scored: 1992_Under.Siege.1992.1080p.Bluray.x264-Q.ENG chunk 2\n",
      "✅ Scored: 1992_Under.Siege.1992.1080p.Bluray.x264-Q.ENG chunk 3\n",
      "✅ Scored: 1992_Under.Siege.1992.1080p.Bluray.x264-Q.ENG chunk 4\n",
      "✅ Scored: 1992_Under.Siege.1992.1080p.Bluray.x264-Q.ENG chunk 5\n",
      "✅ Scored: 1992_Under.Siege.1992.1080p.Bluray.x264-Q.ENG chunk 6\n",
      "✅ Scored: 1992_Under.Siege.1992.1080p.Bluray.x264-Q.ENG chunk 7\n",
      "✅ Scored: 1992_Under.Siege.1992.1080p.Bluray.x264-Q.ENG chunk 8\n"
     ]
    },
    {
     "name": "stderr",
     "output_type": "stream",
     "text": [
      "Scoring institutional trust (chunked):  31%|▎| 147/478 [1:29:26<3:05:44, 33.67s/"
     ]
    },
    {
     "name": "stdout",
     "output_type": "stream",
     "text": [
      "✅ Scored: 1990_Teenage.Mutant.Ninja.Turtles.1990.1080p.BluRay.x264-HDCLASSICS.ENG chunk 1\n",
      "✅ Scored: 1990_Teenage.Mutant.Ninja.Turtles.1990.1080p.BluRay.x264-HDCLASSICS.ENG chunk 2\n",
      "✅ Scored: 1990_Teenage.Mutant.Ninja.Turtles.1990.1080p.BluRay.x264-HDCLASSICS.ENG chunk 3\n",
      "✅ Scored: 1990_Teenage.Mutant.Ninja.Turtles.1990.1080p.BluRay.x264-HDCLASSICS.ENG chunk 4\n",
      "✅ Scored: 1990_Teenage.Mutant.Ninja.Turtles.1990.1080p.BluRay.x264-HDCLASSICS.ENG chunk 5\n",
      "✅ Scored: 1990_Teenage.Mutant.Ninja.Turtles.1990.1080p.BluRay.x264-HDCLASSICS.ENG chunk 6\n",
      "✅ Scored: 1990_Teenage.Mutant.Ninja.Turtles.1990.1080p.BluRay.x264-HDCLASSICS.ENG chunk 7\n"
     ]
    },
    {
     "name": "stderr",
     "output_type": "stream",
     "text": [
      "Scoring institutional trust (chunked):  31%|▎| 148/478 [1:29:51<2:50:03, 30.92s/"
     ]
    },
    {
     "name": "stdout",
     "output_type": "stream",
     "text": [
      "✅ Scored: 2014_X-Men.Days.of.Future.Past.2014.720p.BluRay.X264-AMIABLE chunk 1\n",
      "✅ Scored: 2014_X-Men.Days.of.Future.Past.2014.720p.BluRay.X264-AMIABLE chunk 2\n",
      "✅ Scored: 2014_X-Men.Days.of.Future.Past.2014.720p.BluRay.X264-AMIABLE chunk 3\n",
      "✅ Scored: 2014_X-Men.Days.of.Future.Past.2014.720p.BluRay.X264-AMIABLE chunk 4\n",
      "✅ Scored: 2014_X-Men.Days.of.Future.Past.2014.720p.BluRay.X264-AMIABLE chunk 5\n",
      "✅ Scored: 2014_X-Men.Days.of.Future.Past.2014.720p.BluRay.X264-AMIABLE chunk 6\n",
      "✅ Scored: 2014_X-Men.Days.of.Future.Past.2014.720p.BluRay.X264-AMIABLE chunk 7\n",
      "✅ Scored: 2014_X-Men.Days.of.Future.Past.2014.720p.BluRay.X264-AMIABLE chunk 8\n",
      "✅ Scored: 2014_X-Men.Days.of.Future.Past.2014.720p.BluRay.X264-AMIABLE chunk 9\n"
     ]
    },
    {
     "name": "stderr",
     "output_type": "stream",
     "text": [
      "Scoring institutional trust (chunked):  31%|▎| 149/478 [1:30:25<2:54:35, 31.84s/"
     ]
    },
    {
     "name": "stdout",
     "output_type": "stream",
     "text": [
      "✅ Scored: 1998_Theres.Something.About.Mary.1998.Extended.1080p.BluRay.x264.Codres.ENG chunk 1\n",
      "✅ Scored: 1998_Theres.Something.About.Mary.1998.Extended.1080p.BluRay.x264.Codres.ENG chunk 2\n",
      "✅ Scored: 1998_Theres.Something.About.Mary.1998.Extended.1080p.BluRay.x264.Codres.ENG chunk 3\n",
      "✅ Scored: 1998_Theres.Something.About.Mary.1998.Extended.1080p.BluRay.x264.Codres.ENG chunk 4\n",
      "✅ Scored: 1998_Theres.Something.About.Mary.1998.Extended.1080p.BluRay.x264.Codres.ENG chunk 5\n",
      "✅ Scored: 1998_Theres.Something.About.Mary.1998.Extended.1080p.BluRay.x264.Codres.ENG chunk 6\n",
      "✅ Scored: 1998_Theres.Something.About.Mary.1998.Extended.1080p.BluRay.x264.Codres.ENG chunk 7\n",
      "✅ Scored: 1998_Theres.Something.About.Mary.1998.Extended.1080p.BluRay.x264.Codres.ENG chunk 8\n",
      "✅ Scored: 1998_Theres.Something.About.Mary.1998.Extended.1080p.BluRay.x264.Codres.ENG chunk 9\n",
      "✅ Scored: 1998_Theres.Something.About.Mary.1998.Extended.1080p.BluRay.x264.Codres.ENG chunk 10\n",
      "✅ Scored: 1998_Theres.Something.About.Mary.1998.Extended.1080p.BluRay.x264.Codres.ENG chunk 11\n",
      "✅ Scored: 1998_Theres.Something.About.Mary.1998.Extended.1080p.BluRay.x264.Codres.ENG chunk 12\n",
      "✅ Scored: 1998_Theres.Something.About.Mary.1998.Extended.1080p.BluRay.x264.Codres.ENG chunk 13\n",
      "✅ Scored: 1998_Theres.Something.About.Mary.1998.Extended.1080p.BluRay.x264.Codres.ENG chunk 14\n",
      "✅ Scored: 1998_Theres.Something.About.Mary.1998.Extended.1080p.BluRay.x264.Codres.ENG chunk 15\n"
     ]
    },
    {
     "name": "stderr",
     "output_type": "stream",
     "text": [
      "Scoring institutional trust (chunked):  31%|▎| 150/478 [1:31:23<3:37:18, 39.75s/"
     ]
    },
    {
     "name": "stdout",
     "output_type": "stream",
     "text": [
      "✅ Scored: 1995_Ace.Ventura.When.Nature.Calls.1995.720p.BluRay.X264-AMIABLE chunk 1\n",
      "✅ Scored: 1995_Ace.Ventura.When.Nature.Calls.1995.720p.BluRay.X264-AMIABLE chunk 2\n",
      "✅ Scored: 1995_Ace.Ventura.When.Nature.Calls.1995.720p.BluRay.X264-AMIABLE chunk 3\n",
      "✅ Scored: 1995_Ace.Ventura.When.Nature.Calls.1995.720p.BluRay.X264-AMIABLE chunk 4\n",
      "✅ Scored: 1995_Ace.Ventura.When.Nature.Calls.1995.720p.BluRay.X264-AMIABLE chunk 5\n",
      "✅ Scored: 1995_Ace.Ventura.When.Nature.Calls.1995.720p.BluRay.X264-AMIABLE chunk 6\n",
      "✅ Scored: 1995_Ace.Ventura.When.Nature.Calls.1995.720p.BluRay.X264-AMIABLE chunk 7\n"
     ]
    },
    {
     "name": "stderr",
     "output_type": "stream",
     "text": [
      "Scoring institutional trust (chunked):  32%|▎| 151/478 [1:31:47<3:10:40, 34.99s/"
     ]
    },
    {
     "name": "stdout",
     "output_type": "stream",
     "text": [
      "✅ Scored: 1983_National.Lampoons.Vacation.1983.720p.BluRay.DD1.0.x264-CtrlHD chunk 1\n",
      "✅ Scored: 1983_National.Lampoons.Vacation.1983.720p.BluRay.DD1.0.x264-CtrlHD chunk 2\n",
      "✅ Scored: 1983_National.Lampoons.Vacation.1983.720p.BluRay.DD1.0.x264-CtrlHD chunk 3\n",
      "✅ Scored: 1983_National.Lampoons.Vacation.1983.720p.BluRay.DD1.0.x264-CtrlHD chunk 4\n",
      "✅ Scored: 1983_National.Lampoons.Vacation.1983.720p.BluRay.DD1.0.x264-CtrlHD chunk 5\n",
      "✅ Scored: 1983_National.Lampoons.Vacation.1983.720p.BluRay.DD1.0.x264-CtrlHD chunk 6\n",
      "✅ Scored: 1983_National.Lampoons.Vacation.1983.720p.BluRay.DD1.0.x264-CtrlHD chunk 7\n",
      "✅ Scored: 1983_National.Lampoons.Vacation.1983.720p.BluRay.DD1.0.x264-CtrlHD chunk 8\n",
      "✅ Scored: 1983_National.Lampoons.Vacation.1983.720p.BluRay.DD1.0.x264-CtrlHD chunk 9\n",
      "✅ Scored: 1983_National.Lampoons.Vacation.1983.720p.BluRay.DD1.0.x264-CtrlHD chunk 10\n",
      "✅ Scored: 1983_National.Lampoons.Vacation.1983.720p.BluRay.DD1.0.x264-CtrlHD chunk 11\n"
     ]
    },
    {
     "name": "stderr",
     "output_type": "stream",
     "text": [
      "Scoring institutional trust (chunked):  32%|▎| 152/478 [1:32:30<3:22:44, 37.32s/"
     ]
    },
    {
     "name": "stdout",
     "output_type": "stream",
     "text": [
      "✅ Scored: 1997_Air.Force.One.1997.720p.BRrip.x264.YIFY chunk 1\n",
      "✅ Scored: 1997_Air.Force.One.1997.720p.BRrip.x264.YIFY chunk 2\n",
      "✅ Scored: 1997_Air.Force.One.1997.720p.BRrip.x264.YIFY chunk 3\n",
      "✅ Scored: 1997_Air.Force.One.1997.720p.BRrip.x264.YIFY chunk 4\n",
      "✅ Scored: 1997_Air.Force.One.1997.720p.BRrip.x264.YIFY chunk 5\n",
      "✅ Scored: 1997_Air.Force.One.1997.720p.BRrip.x264.YIFY chunk 6\n",
      "✅ Scored: 1997_Air.Force.One.1997.720p.BRrip.x264.YIFY chunk 7\n",
      "✅ Scored: 1997_Air.Force.One.1997.720p.BRrip.x264.YIFY chunk 8\n",
      "✅ Scored: 1997_Air.Force.One.1997.720p.BRrip.x264.YIFY chunk 9\n",
      "✅ Scored: 1997_Air.Force.One.1997.720p.BRrip.x264.YIFY chunk 10\n",
      "✅ Scored: 1997_Air.Force.One.1997.720p.BRrip.x264.YIFY chunk 11\n"
     ]
    },
    {
     "name": "stderr",
     "output_type": "stream",
     "text": [
      "Scoring institutional trust (chunked):  32%|▎| 153/478 [1:33:07<3:21:29, 37.20s/"
     ]
    },
    {
     "name": "stdout",
     "output_type": "stream",
     "text": [
      "✅ Scored: 1983_Staying.Alive.1983.DVDRip.XviD.AR - ENG chunk 1\n",
      "✅ Scored: 1983_Staying.Alive.1983.DVDRip.XviD.AR - ENG chunk 2\n",
      "✅ Scored: 1983_Staying.Alive.1983.DVDRip.XviD.AR - ENG chunk 3\n",
      "✅ Scored: 1983_Staying.Alive.1983.DVDRip.XviD.AR - ENG chunk 4\n",
      "✅ Scored: 1983_Staying.Alive.1983.DVDRip.XviD.AR - ENG chunk 5\n",
      "✅ Scored: 1983_Staying.Alive.1983.DVDRip.XviD.AR - ENG chunk 6\n"
     ]
    },
    {
     "name": "stderr",
     "output_type": "stream",
     "text": [
      "Scoring institutional trust (chunked):  32%|▎| 154/478 [1:33:28<2:55:56, 32.58s/"
     ]
    },
    {
     "name": "stdout",
     "output_type": "stream",
     "text": [
      "✅ Scored: 2011_Fast.Five.2011.720p.BluRay.x264.DTS-WiKi.eng chunk 1\n",
      "✅ Scored: 2011_Fast.Five.2011.720p.BluRay.x264.DTS-WiKi.eng chunk 2\n",
      "✅ Scored: 2011_Fast.Five.2011.720p.BluRay.x264.DTS-WiKi.eng chunk 3\n",
      "✅ Scored: 2011_Fast.Five.2011.720p.BluRay.x264.DTS-WiKi.eng chunk 4\n",
      "✅ Scored: 2011_Fast.Five.2011.720p.BluRay.x264.DTS-WiKi.eng chunk 5\n",
      "✅ Scored: 2011_Fast.Five.2011.720p.BluRay.x264.DTS-WiKi.eng chunk 6\n",
      "✅ Scored: 2011_Fast.Five.2011.720p.BluRay.x264.DTS-WiKi.eng chunk 7\n",
      "✅ Scored: 2011_Fast.Five.2011.720p.BluRay.x264.DTS-WiKi.eng chunk 8\n",
      "✅ Scored: 2011_Fast.Five.2011.720p.BluRay.x264.DTS-WiKi.eng chunk 9\n"
     ]
    },
    {
     "name": "stderr",
     "output_type": "stream",
     "text": [
      "Scoring institutional trust (chunked):  32%|▎| 155/478 [1:34:03<2:59:12, 33.29s/"
     ]
    },
    {
     "name": "stdout",
     "output_type": "stream",
     "text": [
      "✅ Scored: 2007_The.Simpsons.Movie[2007]DvDrip.AC3[Eng]-aXXo chunk 1\n",
      "✅ Scored: 2007_The.Simpsons.Movie[2007]DvDrip.AC3[Eng]-aXXo chunk 2\n",
      "✅ Scored: 2007_The.Simpsons.Movie[2007]DvDrip.AC3[Eng]-aXXo chunk 3\n",
      "✅ Scored: 2007_The.Simpsons.Movie[2007]DvDrip.AC3[Eng]-aXXo chunk 4\n",
      "✅ Scored: 2007_The.Simpsons.Movie[2007]DvDrip.AC3[Eng]-aXXo chunk 5\n",
      "✅ Scored: 2007_The.Simpsons.Movie[2007]DvDrip.AC3[Eng]-aXXo chunk 6\n",
      "✅ Scored: 2007_The.Simpsons.Movie[2007]DvDrip.AC3[Eng]-aXXo chunk 7\n",
      "✅ Scored: 2007_The.Simpsons.Movie[2007]DvDrip.AC3[Eng]-aXXo chunk 8\n"
     ]
    },
    {
     "name": "stderr",
     "output_type": "stream",
     "text": [
      "Scoring institutional trust (chunked):  33%|▎| 156/478 [1:34:31<2:49:50, 31.65s/"
     ]
    },
    {
     "name": "stdout",
     "output_type": "stream",
     "text": [
      "✅ Scored: 2000_Erin Brokovich.2000.BluRay.1080p.x264-HQF.ENG chunk 1\n",
      "✅ Scored: 2000_Erin Brokovich.2000.BluRay.1080p.x264-HQF.ENG chunk 2\n",
      "✅ Scored: 2000_Erin Brokovich.2000.BluRay.1080p.x264-HQF.ENG chunk 3\n",
      "✅ Scored: 2000_Erin Brokovich.2000.BluRay.1080p.x264-HQF.ENG chunk 4\n",
      "✅ Scored: 2000_Erin Brokovich.2000.BluRay.1080p.x264-HQF.ENG chunk 5\n",
      "✅ Scored: 2000_Erin Brokovich.2000.BluRay.1080p.x264-HQF.ENG chunk 6\n",
      "✅ Scored: 2000_Erin Brokovich.2000.BluRay.1080p.x264-HQF.ENG chunk 7\n",
      "✅ Scored: 2000_Erin Brokovich.2000.BluRay.1080p.x264-HQF.ENG chunk 8\n",
      "✅ Scored: 2000_Erin Brokovich.2000.BluRay.1080p.x264-HQF.ENG chunk 9\n",
      "✅ Scored: 2000_Erin Brokovich.2000.BluRay.1080p.x264-HQF.ENG chunk 10\n",
      "✅ Scored: 2000_Erin Brokovich.2000.BluRay.1080p.x264-HQF.ENG chunk 11\n",
      "✅ Scored: 2000_Erin Brokovich.2000.BluRay.1080p.x264-HQF.ENG chunk 12\n",
      "✅ Scored: 2000_Erin Brokovich.2000.BluRay.1080p.x264-HQF.ENG chunk 13\n"
     ]
    },
    {
     "name": "stderr",
     "output_type": "stream",
     "text": [
      "Scoring institutional trust (chunked):  33%|▎| 157/478 [1:35:19<3:15:28, 36.54s/"
     ]
    },
    {
     "name": "stdout",
     "output_type": "stream",
     "text": [
      "✅ Scored: 1994_The.Flintstones.1994.720p.BluRay.x264-TRiPS chunk 1\n",
      "✅ Scored: 1994_The.Flintstones.1994.720p.BluRay.x264-TRiPS chunk 2\n",
      "✅ Scored: 1994_The.Flintstones.1994.720p.BluRay.x264-TRiPS chunk 3\n",
      "✅ Scored: 1994_The.Flintstones.1994.720p.BluRay.x264-TRiPS chunk 4\n",
      "✅ Scored: 1994_The.Flintstones.1994.720p.BluRay.x264-TRiPS chunk 5\n",
      "✅ Scored: 1994_The.Flintstones.1994.720p.BluRay.x264-TRiPS chunk 6\n",
      "✅ Scored: 1994_The.Flintstones.1994.720p.BluRay.x264-TRiPS chunk 7\n",
      "✅ Scored: 1994_The.Flintstones.1994.720p.BluRay.x264-TRiPS chunk 8\n",
      "✅ Scored: 1994_The.Flintstones.1994.720p.BluRay.x264-TRiPS chunk 9\n",
      "✅ Scored: 1994_The.Flintstones.1994.720p.BluRay.x264-TRiPS chunk 10\n"
     ]
    },
    {
     "name": "stderr",
     "output_type": "stream",
     "text": [
      "Scoring institutional trust (chunked):  33%|▎| 158/478 [1:35:56<3:14:44, 36.52s/"
     ]
    },
    {
     "name": "stdout",
     "output_type": "stream",
     "text": [
      "✅ Scored: 1980_SW.Episode.5.The.Empire.Strikes.Back.1980.BluRay.1080p.DTSES6.1.x264-CHD.eng chunk 1\n",
      "✅ Scored: 1980_SW.Episode.5.The.Empire.Strikes.Back.1980.BluRay.1080p.DTSES6.1.x264-CHD.eng chunk 2\n",
      "✅ Scored: 1980_SW.Episode.5.The.Empire.Strikes.Back.1980.BluRay.1080p.DTSES6.1.x264-CHD.eng chunk 3\n",
      "✅ Scored: 1980_SW.Episode.5.The.Empire.Strikes.Back.1980.BluRay.1080p.DTSES6.1.x264-CHD.eng chunk 4\n",
      "✅ Scored: 1980_SW.Episode.5.The.Empire.Strikes.Back.1980.BluRay.1080p.DTSES6.1.x264-CHD.eng chunk 5\n",
      "✅ Scored: 1980_SW.Episode.5.The.Empire.Strikes.Back.1980.BluRay.1080p.DTSES6.1.x264-CHD.eng chunk 6\n",
      "✅ Scored: 1980_SW.Episode.5.The.Empire.Strikes.Back.1980.BluRay.1080p.DTSES6.1.x264-CHD.eng chunk 7\n",
      "✅ Scored: 1980_SW.Episode.5.The.Empire.Strikes.Back.1980.BluRay.1080p.DTSES6.1.x264-CHD.eng chunk 8\n",
      "✅ Scored: 1980_SW.Episode.5.The.Empire.Strikes.Back.1980.BluRay.1080p.DTSES6.1.x264-CHD.eng chunk 9\n"
     ]
    },
    {
     "name": "stderr",
     "output_type": "stream",
     "text": [
      "Scoring institutional trust (chunked):  33%|▎| 159/478 [1:36:29<3:08:59, 35.55s/"
     ]
    },
    {
     "name": "stdout",
     "output_type": "stream",
     "text": [
      "✅ Scored: 1980_Kramer.vs.Kramer.BluRay.1080p.DTS.x264.dxva-EuReKA.ENG chunk 1\n",
      "✅ Scored: 1980_Kramer.vs.Kramer.BluRay.1080p.DTS.x264.dxva-EuReKA.ENG chunk 2\n",
      "✅ Scored: 1980_Kramer.vs.Kramer.BluRay.1080p.DTS.x264.dxva-EuReKA.ENG chunk 3\n",
      "✅ Scored: 1980_Kramer.vs.Kramer.BluRay.1080p.DTS.x264.dxva-EuReKA.ENG chunk 4\n",
      "✅ Scored: 1980_Kramer.vs.Kramer.BluRay.1080p.DTS.x264.dxva-EuReKA.ENG chunk 5\n",
      "✅ Scored: 1980_Kramer.vs.Kramer.BluRay.1080p.DTS.x264.dxva-EuReKA.ENG chunk 6\n",
      "✅ Scored: 1980_Kramer.vs.Kramer.BluRay.1080p.DTS.x264.dxva-EuReKA.ENG chunk 7\n",
      "✅ Scored: 1980_Kramer.vs.Kramer.BluRay.1080p.DTS.x264.dxva-EuReKA.ENG chunk 8\n",
      "✅ Scored: 1980_Kramer.vs.Kramer.BluRay.1080p.DTS.x264.dxva-EuReKA.ENG chunk 9\n",
      "✅ Scored: 1980_Kramer.vs.Kramer.BluRay.1080p.DTS.x264.dxva-EuReKA.ENG chunk 10\n",
      "✅ Scored: 1980_Kramer.vs.Kramer.BluRay.1080p.DTS.x264.dxva-EuReKA.ENG chunk 11\n"
     ]
    },
    {
     "name": "stderr",
     "output_type": "stream",
     "text": [
      "Scoring institutional trust (chunked):  33%|▎| 160/478 [1:37:10<3:18:03, 37.37s/"
     ]
    },
    {
     "name": "stdout",
     "output_type": "stream",
     "text": [
      "✅ Scored: 1986_The Color Purple_DVDrip_aviM720_DVD1_en chunk 1\n",
      "✅ Scored: 1986_The Color Purple_DVDrip_aviM720_DVD1_en chunk 2\n",
      "✅ Scored: 1986_The Color Purple_DVDrip_aviM720_DVD1_en chunk 3\n",
      "✅ Scored: 1986_The Color Purple_DVDrip_aviM720_DVD1_en chunk 4\n",
      "✅ Scored: 1986_The Color Purple_DVDrip_aviM720_DVD1_en chunk 5\n"
     ]
    },
    {
     "name": "stderr",
     "output_type": "stream",
     "text": [
      "Scoring institutional trust (chunked):  34%|▎| 161/478 [1:37:27<2:44:53, 31.21s/"
     ]
    },
    {
     "name": "stdout",
     "output_type": "stream",
     "text": [
      "✅ Scored: 1997_The.Lost.World.Jurassic.Park.1997.m-HD.AAC.Roboris.eng chunk 1\n",
      "✅ Scored: 1997_The.Lost.World.Jurassic.Park.1997.m-HD.AAC.Roboris.eng chunk 2\n",
      "✅ Scored: 1997_The.Lost.World.Jurassic.Park.1997.m-HD.AAC.Roboris.eng chunk 3\n",
      "✅ Scored: 1997_The.Lost.World.Jurassic.Park.1997.m-HD.AAC.Roboris.eng chunk 4\n",
      "✅ Scored: 1997_The.Lost.World.Jurassic.Park.1997.m-HD.AAC.Roboris.eng chunk 5\n",
      "✅ Scored: 1997_The.Lost.World.Jurassic.Park.1997.m-HD.AAC.Roboris.eng chunk 6\n",
      "✅ Scored: 1997_The.Lost.World.Jurassic.Park.1997.m-HD.AAC.Roboris.eng chunk 7\n",
      "✅ Scored: 1997_The.Lost.World.Jurassic.Park.1997.m-HD.AAC.Roboris.eng chunk 8\n",
      "✅ Scored: 1997_The.Lost.World.Jurassic.Park.1997.m-HD.AAC.Roboris.eng chunk 9\n"
     ]
    },
    {
     "name": "stderr",
     "output_type": "stream",
     "text": [
      "Scoring institutional trust (chunked):  34%|▎| 162/478 [1:38:00<2:46:10, 31.55s/"
     ]
    },
    {
     "name": "stdout",
     "output_type": "stream",
     "text": [
      "✅ Scored: 1991_The.Addams.Family.1991.720p.BluRay.X264-AMIABLE chunk 1\n",
      "✅ Scored: 1991_The.Addams.Family.1991.720p.BluRay.X264-AMIABLE chunk 2\n",
      "✅ Scored: 1991_The.Addams.Family.1991.720p.BluRay.X264-AMIABLE chunk 3\n",
      "✅ Scored: 1991_The.Addams.Family.1991.720p.BluRay.X264-AMIABLE chunk 4\n",
      "✅ Scored: 1991_The.Addams.Family.1991.720p.BluRay.X264-AMIABLE chunk 5\n",
      "✅ Scored: 1991_The.Addams.Family.1991.720p.BluRay.X264-AMIABLE chunk 6\n",
      "✅ Scored: 1991_The.Addams.Family.1991.720p.BluRay.X264-AMIABLE chunk 7\n"
     ]
    },
    {
     "name": "stderr",
     "output_type": "stream",
     "text": [
      "Scoring institutional trust (chunked):  34%|▎| 163/478 [1:38:24<2:34:00, 29.33s/"
     ]
    },
    {
     "name": "stdout",
     "output_type": "stream",
     "text": [
      "✅ Scored: 1989_Indiana.Jones.And.The.Last.Crusade.(1989).DVDRiP.XViD-DEiTY chunk 1\n",
      "✅ Scored: 1989_Indiana.Jones.And.The.Last.Crusade.(1989).DVDRiP.XViD-DEiTY chunk 2\n",
      "✅ Scored: 1989_Indiana.Jones.And.The.Last.Crusade.(1989).DVDRiP.XViD-DEiTY chunk 3\n",
      "✅ Scored: 1989_Indiana.Jones.And.The.Last.Crusade.(1989).DVDRiP.XViD-DEiTY chunk 4\n",
      "✅ Scored: 1989_Indiana.Jones.And.The.Last.Crusade.(1989).DVDRiP.XViD-DEiTY chunk 5\n",
      "✅ Scored: 1989_Indiana.Jones.And.The.Last.Crusade.(1989).DVDRiP.XViD-DEiTY chunk 6\n",
      "✅ Scored: 1989_Indiana.Jones.And.The.Last.Crusade.(1989).DVDRiP.XViD-DEiTY chunk 7\n",
      "✅ Scored: 1989_Indiana.Jones.And.The.Last.Crusade.(1989).DVDRiP.XViD-DEiTY chunk 8\n"
     ]
    },
    {
     "name": "stderr",
     "output_type": "stream",
     "text": [
      "Scoring institutional trust (chunked):  34%|▎| 164/478 [1:38:54<2:34:11, 29.46s/"
     ]
    },
    {
     "name": "stdout",
     "output_type": "stream",
     "text": [
      "✅ Scored: 1996_Mission.Impossible.1996.720p.BluRay.DD.x264-ESiR.ENG chunk 1\n",
      "✅ Scored: 1996_Mission.Impossible.1996.720p.BluRay.DD.x264-ESiR.ENG chunk 2\n",
      "✅ Scored: 1996_Mission.Impossible.1996.720p.BluRay.DD.x264-ESiR.ENG chunk 3\n",
      "✅ Scored: 1996_Mission.Impossible.1996.720p.BluRay.DD.x264-ESiR.ENG chunk 4\n",
      "✅ Scored: 1996_Mission.Impossible.1996.720p.BluRay.DD.x264-ESiR.ENG chunk 5\n",
      "✅ Scored: 1996_Mission.Impossible.1996.720p.BluRay.DD.x264-ESiR.ENG chunk 6\n"
     ]
    },
    {
     "name": "stderr",
     "output_type": "stream",
     "text": [
      "Scoring institutional trust (chunked):  35%|▎| 165/478 [1:39:15<2:21:16, 27.08s/"
     ]
    },
    {
     "name": "stdout",
     "output_type": "stream",
     "text": [
      "✅ Scored: 2000_How.the.Grinch.Stole.Christmas.2000.REMASTERED.720p.BluRay.X264-AMIABLE chunk 1\n",
      "✅ Scored: 2000_How.the.Grinch.Stole.Christmas.2000.REMASTERED.720p.BluRay.X264-AMIABLE chunk 2\n",
      "✅ Scored: 2000_How.the.Grinch.Stole.Christmas.2000.REMASTERED.720p.BluRay.X264-AMIABLE chunk 3\n",
      "✅ Scored: 2000_How.the.Grinch.Stole.Christmas.2000.REMASTERED.720p.BluRay.X264-AMIABLE chunk 4\n",
      "✅ Scored: 2000_How.the.Grinch.Stole.Christmas.2000.REMASTERED.720p.BluRay.X264-AMIABLE chunk 5\n",
      "✅ Scored: 2000_How.the.Grinch.Stole.Christmas.2000.REMASTERED.720p.BluRay.X264-AMIABLE chunk 6\n",
      "✅ Scored: 2000_How.the.Grinch.Stole.Christmas.2000.REMASTERED.720p.BluRay.X264-AMIABLE chunk 7\n",
      "✅ Scored: 2000_How.the.Grinch.Stole.Christmas.2000.REMASTERED.720p.BluRay.X264-AMIABLE chunk 8\n"
     ]
    },
    {
     "name": "stderr",
     "output_type": "stream",
     "text": [
      "Scoring institutional trust (chunked):  35%|▎| 166/478 [1:39:44<2:23:02, 27.51s/"
     ]
    },
    {
     "name": "stdout",
     "output_type": "stream",
     "text": [
      "✅ Scored: 2008_Kung.Fu.Panda[2008]DvDrip-aXXo.en chunk 1\n",
      "✅ Scored: 2008_Kung.Fu.Panda[2008]DvDrip-aXXo.en chunk 2\n",
      "✅ Scored: 2008_Kung.Fu.Panda[2008]DvDrip-aXXo.en chunk 3\n",
      "✅ Scored: 2008_Kung.Fu.Panda[2008]DvDrip-aXXo.en chunk 4\n",
      "✅ Scored: 2008_Kung.Fu.Panda[2008]DvDrip-aXXo.en chunk 5\n",
      "✅ Scored: 2008_Kung.Fu.Panda[2008]DvDrip-aXXo.en chunk 6\n",
      "✅ Scored: 2008_Kung.Fu.Panda[2008]DvDrip-aXXo.en chunk 7\n"
     ]
    },
    {
     "name": "stderr",
     "output_type": "stream",
     "text": [
      "Scoring institutional trust (chunked):  35%|▎| 167/478 [1:40:08<2:17:07, 26.45s/"
     ]
    },
    {
     "name": "stdout",
     "output_type": "stream",
     "text": [
      "✅ Scored: 1987_The.Witches.Of.Eastwick.1987.1080p.Bluray.X264-BRMP.ENG chunk 1\n",
      "✅ Scored: 1987_The.Witches.Of.Eastwick.1987.1080p.Bluray.X264-BRMP.ENG chunk 2\n",
      "✅ Scored: 1987_The.Witches.Of.Eastwick.1987.1080p.Bluray.X264-BRMP.ENG chunk 3\n",
      "✅ Scored: 1987_The.Witches.Of.Eastwick.1987.1080p.Bluray.X264-BRMP.ENG chunk 4\n",
      "✅ Scored: 1987_The.Witches.Of.Eastwick.1987.1080p.Bluray.X264-BRMP.ENG chunk 5\n",
      "✅ Scored: 1987_The.Witches.Of.Eastwick.1987.1080p.Bluray.X264-BRMP.ENG chunk 6\n",
      "✅ Scored: 1987_The.Witches.Of.Eastwick.1987.1080p.Bluray.X264-BRMP.ENG chunk 7\n",
      "✅ Scored: 1987_The.Witches.Of.Eastwick.1987.1080p.Bluray.X264-BRMP.ENG chunk 8\n"
     ]
    },
    {
     "name": "stderr",
     "output_type": "stream",
     "text": [
      "Scoring institutional trust (chunked):  35%|▎| 168/478 [1:40:35<2:18:06, 26.73s/"
     ]
    },
    {
     "name": "stdout",
     "output_type": "stream",
     "text": [
      "✅ Scored: 2018_Mission.Impossible.Fallout.2018.KORSUB.HDRip.x264-STUTTERSHIT chunk 1\n",
      "✅ Scored: 2018_Mission.Impossible.Fallout.2018.KORSUB.HDRip.x264-STUTTERSHIT chunk 2\n",
      "✅ Scored: 2018_Mission.Impossible.Fallout.2018.KORSUB.HDRip.x264-STUTTERSHIT chunk 3\n",
      "✅ Scored: 2018_Mission.Impossible.Fallout.2018.KORSUB.HDRip.x264-STUTTERSHIT chunk 4\n",
      "✅ Scored: 2018_Mission.Impossible.Fallout.2018.KORSUB.HDRip.x264-STUTTERSHIT chunk 5\n",
      "✅ Scored: 2018_Mission.Impossible.Fallout.2018.KORSUB.HDRip.x264-STUTTERSHIT chunk 6\n",
      "✅ Scored: 2018_Mission.Impossible.Fallout.2018.KORSUB.HDRip.x264-STUTTERSHIT chunk 7\n",
      "✅ Scored: 2018_Mission.Impossible.Fallout.2018.KORSUB.HDRip.x264-STUTTERSHIT chunk 8\n",
      "✅ Scored: 2018_Mission.Impossible.Fallout.2018.KORSUB.HDRip.x264-STUTTERSHIT chunk 9\n",
      "✅ Scored: 2018_Mission.Impossible.Fallout.2018.KORSUB.HDRip.x264-STUTTERSHIT chunk 10\n",
      "✅ Scored: 2018_Mission.Impossible.Fallout.2018.KORSUB.HDRip.x264-STUTTERSHIT chunk 11\n"
     ]
    },
    {
     "name": "stderr",
     "output_type": "stream",
     "text": [
      "Scoring institutional trust (chunked):  35%|▎| 169/478 [1:41:13<2:35:27, 30.19s/"
     ]
    },
    {
     "name": "stdout",
     "output_type": "stream",
     "text": [
      "✅ Scored: 2013_Despicable.Me.2.2013.720p.BluRay.x264-VeDeTT chunk 1\n",
      "✅ Scored: 2013_Despicable.Me.2.2013.720p.BluRay.x264-VeDeTT chunk 2\n",
      "✅ Scored: 2013_Despicable.Me.2.2013.720p.BluRay.x264-VeDeTT chunk 3\n",
      "✅ Scored: 2013_Despicable.Me.2.2013.720p.BluRay.x264-VeDeTT chunk 4\n",
      "✅ Scored: 2013_Despicable.Me.2.2013.720p.BluRay.x264-VeDeTT chunk 5\n",
      "✅ Scored: 2013_Despicable.Me.2.2013.720p.BluRay.x264-VeDeTT chunk 6\n",
      "✅ Scored: 2013_Despicable.Me.2.2013.720p.BluRay.x264-VeDeTT chunk 7\n"
     ]
    },
    {
     "name": "stderr",
     "output_type": "stream",
     "text": [
      "Scoring institutional trust (chunked):  36%|▎| 170/478 [1:41:41<2:30:33, 29.33s/"
     ]
    },
    {
     "name": "stdout",
     "output_type": "stream",
     "text": [
      "✅ Scored: 2007_Shrek.the.Third.(2007).DVDRip.AC3.XviD-UnSeeN chunk 1\n",
      "✅ Scored: 2007_Shrek.the.Third.(2007).DVDRip.AC3.XviD-UnSeeN chunk 2\n",
      "✅ Scored: 2007_Shrek.the.Third.(2007).DVDRip.AC3.XviD-UnSeeN chunk 3\n",
      "✅ Scored: 2007_Shrek.the.Third.(2007).DVDRip.AC3.XviD-UnSeeN chunk 4\n",
      "✅ Scored: 2007_Shrek.the.Third.(2007).DVDRip.AC3.XviD-UnSeeN chunk 5\n",
      "✅ Scored: 2007_Shrek.the.Third.(2007).DVDRip.AC3.XviD-UnSeeN chunk 6\n",
      "✅ Scored: 2007_Shrek.the.Third.(2007).DVDRip.AC3.XviD-UnSeeN chunk 7\n",
      "✅ Scored: 2007_Shrek.the.Third.(2007).DVDRip.AC3.XviD-UnSeeN chunk 8\n"
     ]
    },
    {
     "name": "stderr",
     "output_type": "stream",
     "text": [
      "Scoring institutional trust (chunked):  36%|▎| 171/478 [1:42:11<2:32:21, 29.78s/"
     ]
    },
    {
     "name": "stdout",
     "output_type": "stream",
     "text": [
      "✅ Scored: 1983_SW.Episode.6.Return.of.the.Jedi.1983.BluRay.1080p.DTSES6.1.x264-CHD.eng chunk 1\n",
      "✅ Scored: 1983_SW.Episode.6.Return.of.the.Jedi.1983.BluRay.1080p.DTSES6.1.x264-CHD.eng chunk 2\n",
      "✅ Scored: 1983_SW.Episode.6.Return.of.the.Jedi.1983.BluRay.1080p.DTSES6.1.x264-CHD.eng chunk 3\n",
      "✅ Scored: 1983_SW.Episode.6.Return.of.the.Jedi.1983.BluRay.1080p.DTSES6.1.x264-CHD.eng chunk 4\n",
      "✅ Scored: 1983_SW.Episode.6.Return.of.the.Jedi.1983.BluRay.1080p.DTSES6.1.x264-CHD.eng chunk 5\n",
      "✅ Scored: 1983_SW.Episode.6.Return.of.the.Jedi.1983.BluRay.1080p.DTSES6.1.x264-CHD.eng chunk 6\n",
      "✅ Scored: 1983_SW.Episode.6.Return.of.the.Jedi.1983.BluRay.1080p.DTSES6.1.x264-CHD.eng chunk 7\n"
     ]
    },
    {
     "name": "stderr",
     "output_type": "stream",
     "text": [
      "Scoring institutional trust (chunked):  36%|▎| 172/478 [1:42:36<2:23:49, 28.20s/"
     ]
    },
    {
     "name": "stdout",
     "output_type": "stream",
     "text": [
      "✅ Scored: 2012_The.Hunger.Games.2012.720p.BluRay.x264.DTS-HDChina.eng chunk 1\n",
      "✅ Scored: 2012_The.Hunger.Games.2012.720p.BluRay.x264.DTS-HDChina.eng chunk 2\n",
      "✅ Scored: 2012_The.Hunger.Games.2012.720p.BluRay.x264.DTS-HDChina.eng chunk 3\n",
      "✅ Scored: 2012_The.Hunger.Games.2012.720p.BluRay.x264.DTS-HDChina.eng chunk 4\n",
      "✅ Scored: 2012_The.Hunger.Games.2012.720p.BluRay.x264.DTS-HDChina.eng chunk 5\n",
      "✅ Scored: 2012_The.Hunger.Games.2012.720p.BluRay.x264.DTS-HDChina.eng chunk 6\n",
      "✅ Scored: 2012_The.Hunger.Games.2012.720p.BluRay.x264.DTS-HDChina.eng chunk 7\n",
      "✅ Scored: 2012_The.Hunger.Games.2012.720p.BluRay.x264.DTS-HDChina.eng chunk 8\n"
     ]
    },
    {
     "name": "stderr",
     "output_type": "stream",
     "text": [
      "Scoring institutional trust (chunked):  36%|▎| 173/478 [1:43:06<2:25:30, 28.63s/"
     ]
    },
    {
     "name": "stdout",
     "output_type": "stream",
     "text": [
      "✅ Scored: 1986_Crocodile.Dundee.1986.720p.BluRay.X264-AMIABLE chunk 1\n",
      "✅ Scored: 1986_Crocodile.Dundee.1986.720p.BluRay.X264-AMIABLE chunk 2\n",
      "✅ Scored: 1986_Crocodile.Dundee.1986.720p.BluRay.X264-AMIABLE chunk 3\n",
      "✅ Scored: 1986_Crocodile.Dundee.1986.720p.BluRay.X264-AMIABLE chunk 4\n",
      "✅ Scored: 1986_Crocodile.Dundee.1986.720p.BluRay.X264-AMIABLE chunk 5\n",
      "✅ Scored: 1986_Crocodile.Dundee.1986.720p.BluRay.X264-AMIABLE chunk 6\n",
      "✅ Scored: 1986_Crocodile.Dundee.1986.720p.BluRay.X264-AMIABLE chunk 7\n"
     ]
    },
    {
     "name": "stderr",
     "output_type": "stream",
     "text": [
      "Scoring institutional trust (chunked):  36%|▎| 174/478 [1:43:32<2:21:14, 27.88s/"
     ]
    },
    {
     "name": "stdout",
     "output_type": "stream",
     "text": [
      "✅ Scored: 2016_Zootopia.2016.720p.BluRay.x264-SPARKS chunk 1\n",
      "✅ Scored: 2016_Zootopia.2016.720p.BluRay.x264-SPARKS chunk 2\n",
      "✅ Scored: 2016_Zootopia.2016.720p.BluRay.x264-SPARKS chunk 3\n",
      "✅ Scored: 2016_Zootopia.2016.720p.BluRay.x264-SPARKS chunk 4\n",
      "✅ Scored: 2016_Zootopia.2016.720p.BluRay.x264-SPARKS chunk 5\n",
      "✅ Scored: 2016_Zootopia.2016.720p.BluRay.x264-SPARKS chunk 6\n",
      "✅ Scored: 2016_Zootopia.2016.720p.BluRay.x264-SPARKS chunk 7\n",
      "✅ Scored: 2016_Zootopia.2016.720p.BluRay.x264-SPARKS chunk 8\n",
      "✅ Scored: 2016_Zootopia.2016.720p.BluRay.x264-SPARKS chunk 9\n",
      "✅ Scored: 2016_Zootopia.2016.720p.BluRay.x264-SPARKS chunk 10\n",
      "✅ Scored: 2016_Zootopia.2016.720p.BluRay.x264-SPARKS chunk 11\n",
      "✅ Scored: 2016_Zootopia.2016.720p.BluRay.x264-SPARKS chunk 12\n"
     ]
    },
    {
     "name": "stderr",
     "output_type": "stream",
     "text": [
      "Scoring institutional trust (chunked):  37%|▎| 175/478 [1:44:13<2:40:51, 31.85s/"
     ]
    },
    {
     "name": "stdout",
     "output_type": "stream",
     "text": [
      "✅ Scored: 1989_Rain Man (1988).eng chunk 1\n",
      "✅ Scored: 1989_Rain Man (1988).eng chunk 2\n",
      "✅ Scored: 1989_Rain Man (1988).eng chunk 3\n",
      "✅ Scored: 1989_Rain Man (1988).eng chunk 4\n",
      "✅ Scored: 1989_Rain Man (1988).eng chunk 5\n",
      "✅ Scored: 1989_Rain Man (1988).eng chunk 6\n",
      "✅ Scored: 1989_Rain Man (1988).eng chunk 7\n",
      "✅ Scored: 1989_Rain Man (1988).eng chunk 8\n",
      "✅ Scored: 1989_Rain Man (1988).eng chunk 9\n",
      "✅ Scored: 1989_Rain Man (1988).eng chunk 10\n",
      "✅ Scored: 1989_Rain Man (1988).eng chunk 11\n",
      "✅ Scored: 1989_Rain Man (1988).eng chunk 12\n",
      "✅ Scored: 1989_Rain Man (1988).eng chunk 13\n",
      "✅ Scored: 1989_Rain Man (1988).eng chunk 14\n",
      "✅ Scored: 1989_Rain Man (1988).eng chunk 15\n",
      "✅ Scored: 1989_Rain Man (1988).eng chunk 16\n"
     ]
    },
    {
     "name": "stderr",
     "output_type": "stream",
     "text": [
      "Scoring institutional trust (chunked):  37%|▎| 176/478 [1:45:13<3:22:49, 40.30s/"
     ]
    },
    {
     "name": "stdout",
     "output_type": "stream",
     "text": [
      "✅ Scored: 2003_The.Matrix.Reloaded.2003.720p.HDDVD.DTS.x264-ESiR.ENG chunk 1\n",
      "✅ Scored: 2003_The.Matrix.Reloaded.2003.720p.HDDVD.DTS.x264-ESiR.ENG chunk 2\n",
      "✅ Scored: 2003_The.Matrix.Reloaded.2003.720p.HDDVD.DTS.x264-ESiR.ENG chunk 3\n",
      "✅ Scored: 2003_The.Matrix.Reloaded.2003.720p.HDDVD.DTS.x264-ESiR.ENG chunk 4\n",
      "✅ Scored: 2003_The.Matrix.Reloaded.2003.720p.HDDVD.DTS.x264-ESiR.ENG chunk 5\n",
      "✅ Scored: 2003_The.Matrix.Reloaded.2003.720p.HDDVD.DTS.x264-ESiR.ENG chunk 6\n",
      "✅ Scored: 2003_The.Matrix.Reloaded.2003.720p.HDDVD.DTS.x264-ESiR.ENG chunk 7\n",
      "✅ Scored: 2003_The.Matrix.Reloaded.2003.720p.HDDVD.DTS.x264-ESiR.ENG chunk 8\n",
      "✅ Scored: 2003_The.Matrix.Reloaded.2003.720p.HDDVD.DTS.x264-ESiR.ENG chunk 9\n",
      "✅ Scored: 2003_The.Matrix.Reloaded.2003.720p.HDDVD.DTS.x264-ESiR.ENG chunk 10\n"
     ]
    },
    {
     "name": "stderr",
     "output_type": "stream",
     "text": [
      "Scoring institutional trust (chunked):  37%|▎| 177/478 [1:46:01<3:33:41, 42.60s/"
     ]
    },
    {
     "name": "stdout",
     "output_type": "stream",
     "text": [
      "✅ Scored: 1997_My.Best.Friends.Wedding.1997.BDRip.X264-TLF chunk 1\n",
      "✅ Scored: 1997_My.Best.Friends.Wedding.1997.BDRip.X264-TLF chunk 2\n",
      "✅ Scored: 1997_My.Best.Friends.Wedding.1997.BDRip.X264-TLF chunk 3\n",
      "✅ Scored: 1997_My.Best.Friends.Wedding.1997.BDRip.X264-TLF chunk 4\n",
      "✅ Scored: 1997_My.Best.Friends.Wedding.1997.BDRip.X264-TLF chunk 5\n",
      "✅ Scored: 1997_My.Best.Friends.Wedding.1997.BDRip.X264-TLF chunk 6\n",
      "✅ Scored: 1997_My.Best.Friends.Wedding.1997.BDRip.X264-TLF chunk 7\n",
      "✅ Scored: 1997_My.Best.Friends.Wedding.1997.BDRip.X264-TLF chunk 8\n",
      "✅ Scored: 1997_My.Best.Friends.Wedding.1997.BDRip.X264-TLF chunk 9\n"
     ]
    },
    {
     "name": "stderr",
     "output_type": "stream",
     "text": [
      "Scoring institutional trust (chunked):  37%|▎| 178/478 [1:46:39<3:25:58, 41.20s/"
     ]
    },
    {
     "name": "stdout",
     "output_type": "stream",
     "text": [
      "✅ Scored: 2010_despicable.me.dvdrip.xvid-imbt.en chunk 1\n",
      "✅ Scored: 2010_despicable.me.dvdrip.xvid-imbt.en chunk 2\n",
      "✅ Scored: 2010_despicable.me.dvdrip.xvid-imbt.en chunk 3\n",
      "✅ Scored: 2010_despicable.me.dvdrip.xvid-imbt.en chunk 4\n",
      "✅ Scored: 2010_despicable.me.dvdrip.xvid-imbt.en chunk 5\n",
      "✅ Scored: 2010_despicable.me.dvdrip.xvid-imbt.en chunk 6\n"
     ]
    },
    {
     "name": "stderr",
     "output_type": "stream",
     "text": [
      "Scoring institutional trust (chunked):  37%|▎| 179/478 [1:47:00<2:55:13, 35.16s/"
     ]
    },
    {
     "name": "stdout",
     "output_type": "stream",
     "text": [
      "✅ Scored: 1982_Poltergeist.1982.1080p.BluRay.x264-iKA.ENG chunk 1\n",
      "✅ Scored: 1982_Poltergeist.1982.1080p.BluRay.x264-iKA.ENG chunk 2\n",
      "✅ Scored: 1982_Poltergeist.1982.1080p.BluRay.x264-iKA.ENG chunk 3\n",
      "✅ Scored: 1982_Poltergeist.1982.1080p.BluRay.x264-iKA.ENG chunk 4\n",
      "✅ Scored: 1982_Poltergeist.1982.1080p.BluRay.x264-iKA.ENG chunk 5\n",
      "✅ Scored: 1982_Poltergeist.1982.1080p.BluRay.x264-iKA.ENG chunk 6\n",
      "✅ Scored: 1982_Poltergeist.1982.1080p.BluRay.x264-iKA.ENG chunk 7\n"
     ]
    },
    {
     "name": "stderr",
     "output_type": "stream",
     "text": [
      "Scoring institutional trust (chunked):  38%|▍| 180/478 [1:47:22<2:35:40, 31.35s/"
     ]
    },
    {
     "name": "stdout",
     "output_type": "stream",
     "text": [
      "✅ Scored: 2009_The.Twilight.Saga.New.Moon.2009.Bluray.1080p.DTSMA.x264.dxva-FraMeSToR.ENG chunk 1\n",
      "✅ Scored: 2009_The.Twilight.Saga.New.Moon.2009.Bluray.1080p.DTSMA.x264.dxva-FraMeSToR.ENG chunk 2\n",
      "✅ Scored: 2009_The.Twilight.Saga.New.Moon.2009.Bluray.1080p.DTSMA.x264.dxva-FraMeSToR.ENG chunk 3\n",
      "✅ Scored: 2009_The.Twilight.Saga.New.Moon.2009.Bluray.1080p.DTSMA.x264.dxva-FraMeSToR.ENG chunk 4\n",
      "✅ Scored: 2009_The.Twilight.Saga.New.Moon.2009.Bluray.1080p.DTSMA.x264.dxva-FraMeSToR.ENG chunk 5\n",
      "✅ Scored: 2009_The.Twilight.Saga.New.Moon.2009.Bluray.1080p.DTSMA.x264.dxva-FraMeSToR.ENG chunk 6\n",
      "✅ Scored: 2009_The.Twilight.Saga.New.Moon.2009.Bluray.1080p.DTSMA.x264.dxva-FraMeSToR.ENG chunk 7\n",
      "✅ Scored: 2009_The.Twilight.Saga.New.Moon.2009.Bluray.1080p.DTSMA.x264.dxva-FraMeSToR.ENG chunk 8\n",
      "✅ Scored: 2009_The.Twilight.Saga.New.Moon.2009.Bluray.1080p.DTSMA.x264.dxva-FraMeSToR.ENG chunk 9\n"
     ]
    },
    {
     "name": "stderr",
     "output_type": "stream",
     "text": [
      "Scoring institutional trust (chunked):  38%|▍| 181/478 [1:47:54<2:35:18, 31.38s/"
     ]
    },
    {
     "name": "stdout",
     "output_type": "stream",
     "text": [
      "✅ Scored: 1996_A.Time.To.Kill.1996.1080p.BluRay.x264-VOA chunk 1\n",
      "✅ Scored: 1996_A.Time.To.Kill.1996.1080p.BluRay.x264-VOA chunk 2\n",
      "✅ Scored: 1996_A.Time.To.Kill.1996.1080p.BluRay.x264-VOA chunk 3\n",
      "✅ Scored: 1996_A.Time.To.Kill.1996.1080p.BluRay.x264-VOA chunk 4\n",
      "✅ Scored: 1996_A.Time.To.Kill.1996.1080p.BluRay.x264-VOA chunk 5\n",
      "✅ Scored: 1996_A.Time.To.Kill.1996.1080p.BluRay.x264-VOA chunk 6\n",
      "✅ Scored: 1996_A.Time.To.Kill.1996.1080p.BluRay.x264-VOA chunk 7\n",
      "✅ Scored: 1996_A.Time.To.Kill.1996.1080p.BluRay.x264-VOA chunk 8\n",
      "✅ Scored: 1996_A.Time.To.Kill.1996.1080p.BluRay.x264-VOA chunk 9\n",
      "✅ Scored: 1996_A.Time.To.Kill.1996.1080p.BluRay.x264-VOA chunk 10\n",
      "✅ Scored: 1996_A.Time.To.Kill.1996.1080p.BluRay.x264-VOA chunk 11\n",
      "✅ Scored: 1996_A.Time.To.Kill.1996.1080p.BluRay.x264-VOA chunk 12\n",
      "✅ Scored: 1996_A.Time.To.Kill.1996.1080p.BluRay.x264-VOA chunk 13\n",
      "✅ Scored: 1996_A.Time.To.Kill.1996.1080p.BluRay.x264-VOA chunk 14\n",
      "✅ Scored: 1996_A.Time.To.Kill.1996.1080p.BluRay.x264-VOA chunk 15\n",
      "✅ Scored: 1996_A.Time.To.Kill.1996.1080p.BluRay.x264-VOA chunk 16\n"
     ]
    },
    {
     "name": "stderr",
     "output_type": "stream",
     "text": [
      "Scoring institutional trust (chunked):  38%|▍| 182/478 [1:48:51<3:12:48, 39.08s/"
     ]
    },
    {
     "name": "stdout",
     "output_type": "stream",
     "text": [
      "✅ Scored: 2012_amazingspiderman chunk 1\n",
      "✅ Scored: 2012_amazingspiderman chunk 2\n",
      "✅ Scored: 2012_amazingspiderman chunk 3\n",
      "✅ Scored: 2012_amazingspiderman chunk 4\n",
      "✅ Scored: 2012_amazingspiderman chunk 5\n",
      "✅ Scored: 2012_amazingspiderman chunk 6\n",
      "✅ Scored: 2012_amazingspiderman chunk 7\n",
      "✅ Scored: 2012_amazingspiderman chunk 8\n",
      "✅ Scored: 2012_amazingspiderman chunk 9\n",
      "✅ Scored: 2012_amazingspiderman chunk 10\n"
     ]
    },
    {
     "name": "stderr",
     "output_type": "stream",
     "text": [
      "Scoring institutional trust (chunked):  38%|▍| 183/478 [1:49:25<3:05:07, 37.65s/"
     ]
    },
    {
     "name": "stdout",
     "output_type": "stream",
     "text": [
      "✅ Scored: 1995_Batman. Forever. 1995. 1080p. BluRay. x264-CULTHD. ENG chunk 1\n",
      "✅ Scored: 1995_Batman. Forever. 1995. 1080p. BluRay. x264-CULTHD. ENG chunk 2\n",
      "✅ Scored: 1995_Batman. Forever. 1995. 1080p. BluRay. x264-CULTHD. ENG chunk 3\n",
      "✅ Scored: 1995_Batman. Forever. 1995. 1080p. BluRay. x264-CULTHD. ENG chunk 4\n",
      "✅ Scored: 1995_Batman. Forever. 1995. 1080p. BluRay. x264-CULTHD. ENG chunk 5\n",
      "✅ Scored: 1995_Batman. Forever. 1995. 1080p. BluRay. x264-CULTHD. ENG chunk 6\n",
      "✅ Scored: 1995_Batman. Forever. 1995. 1080p. BluRay. x264-CULTHD. ENG chunk 7\n",
      "✅ Scored: 1995_Batman. Forever. 1995. 1080p. BluRay. x264-CULTHD. ENG chunk 8\n"
     ]
    },
    {
     "name": "stderr",
     "output_type": "stream",
     "text": [
      "Scoring institutional trust (chunked):  38%|▍| 184/478 [1:49:54<2:52:26, 35.19s/"
     ]
    },
    {
     "name": "stdout",
     "output_type": "stream",
     "text": [
      "✅ Scored: 2014_The.Lego.Movie.2014.BluRay.720p.x264.DTS-HDWinG chunk 1\n",
      "✅ Scored: 2014_The.Lego.Movie.2014.BluRay.720p.x264.DTS-HDWinG chunk 2\n",
      "✅ Scored: 2014_The.Lego.Movie.2014.BluRay.720p.x264.DTS-HDWinG chunk 3\n",
      "✅ Scored: 2014_The.Lego.Movie.2014.BluRay.720p.x264.DTS-HDWinG chunk 4\n",
      "✅ Scored: 2014_The.Lego.Movie.2014.BluRay.720p.x264.DTS-HDWinG chunk 5\n",
      "✅ Scored: 2014_The.Lego.Movie.2014.BluRay.720p.x264.DTS-HDWinG chunk 6\n",
      "✅ Scored: 2014_The.Lego.Movie.2014.BluRay.720p.x264.DTS-HDWinG chunk 7\n",
      "✅ Scored: 2014_The.Lego.Movie.2014.BluRay.720p.x264.DTS-HDWinG chunk 8\n",
      "✅ Scored: 2014_The.Lego.Movie.2014.BluRay.720p.x264.DTS-HDWinG chunk 9\n",
      "✅ Scored: 2014_The.Lego.Movie.2014.BluRay.720p.x264.DTS-HDWinG chunk 10\n",
      "✅ Scored: 2014_The.Lego.Movie.2014.BluRay.720p.x264.DTS-HDWinG chunk 11\n",
      "✅ Scored: 2014_The.Lego.Movie.2014.BluRay.720p.x264.DTS-HDWinG chunk 12\n",
      "✅ Scored: 2014_The.Lego.Movie.2014.BluRay.720p.x264.DTS-HDWinG chunk 13\n",
      "✅ Scored: 2014_The.Lego.Movie.2014.BluRay.720p.x264.DTS-HDWinG chunk 14\n"
     ]
    },
    {
     "name": "stderr",
     "output_type": "stream",
     "text": [
      "Scoring institutional trust (chunked):  39%|▍| 185/478 [1:50:44<3:12:34, 39.43s/"
     ]
    },
    {
     "name": "stdout",
     "output_type": "stream",
     "text": [
      "✅ Scored: 2004_The.Incredibles.2004.720p.BluRay.X264-AMIABLE.eng chunk 1\n",
      "✅ Scored: 2004_The.Incredibles.2004.720p.BluRay.X264-AMIABLE.eng chunk 2\n",
      "✅ Scored: 2004_The.Incredibles.2004.720p.BluRay.X264-AMIABLE.eng chunk 3\n",
      "✅ Scored: 2004_The.Incredibles.2004.720p.BluRay.X264-AMIABLE.eng chunk 4\n",
      "✅ Scored: 2004_The.Incredibles.2004.720p.BluRay.X264-AMIABLE.eng chunk 5\n",
      "✅ Scored: 2004_The.Incredibles.2004.720p.BluRay.X264-AMIABLE.eng chunk 6\n",
      "✅ Scored: 2004_The.Incredibles.2004.720p.BluRay.X264-AMIABLE.eng chunk 7\n",
      "✅ Scored: 2004_The.Incredibles.2004.720p.BluRay.X264-AMIABLE.eng chunk 8\n",
      "✅ Scored: 2004_The.Incredibles.2004.720p.BluRay.X264-AMIABLE.eng chunk 9\n",
      "✅ Scored: 2004_The.Incredibles.2004.720p.BluRay.X264-AMIABLE.eng chunk 10\n",
      "✅ Scored: 2004_The.Incredibles.2004.720p.BluRay.X264-AMIABLE.eng chunk 11\n"
     ]
    },
    {
     "name": "stderr",
     "output_type": "stream",
     "text": [
      "Scoring institutional trust (chunked):  39%|▍| 186/478 [1:51:23<3:11:58, 39.45s/"
     ]
    },
    {
     "name": "stdout",
     "output_type": "stream",
     "text": [
      "✅ Scored: 2017_Despicable. Me. 3. 2017. 720p. BluRay. X264-AMIABLE chunk 1\n",
      "✅ Scored: 2017_Despicable. Me. 3. 2017. 720p. BluRay. X264-AMIABLE chunk 2\n",
      "✅ Scored: 2017_Despicable. Me. 3. 2017. 720p. BluRay. X264-AMIABLE chunk 3\n",
      "✅ Scored: 2017_Despicable. Me. 3. 2017. 720p. BluRay. X264-AMIABLE chunk 4\n",
      "✅ Scored: 2017_Despicable. Me. 3. 2017. 720p. BluRay. X264-AMIABLE chunk 5\n",
      "✅ Scored: 2017_Despicable. Me. 3. 2017. 720p. BluRay. X264-AMIABLE chunk 6\n",
      "✅ Scored: 2017_Despicable. Me. 3. 2017. 720p. BluRay. X264-AMIABLE chunk 7\n"
     ]
    },
    {
     "name": "stderr",
     "output_type": "stream",
     "text": [
      "Scoring institutional trust (chunked):  39%|▍| 187/478 [1:51:53<2:56:32, 36.40s/"
     ]
    },
    {
     "name": "stdout",
     "output_type": "stream",
     "text": [
      "✅ Scored: 2006_Superman.Returns.2006.1080p.BluRay.x264-HANGOVER.ENG chunk 1\n",
      "✅ Scored: 2006_Superman.Returns.2006.1080p.BluRay.x264-HANGOVER.ENG chunk 2\n",
      "✅ Scored: 2006_Superman.Returns.2006.1080p.BluRay.x264-HANGOVER.ENG chunk 3\n",
      "✅ Scored: 2006_Superman.Returns.2006.1080p.BluRay.x264-HANGOVER.ENG chunk 4\n",
      "✅ Scored: 2006_Superman.Returns.2006.1080p.BluRay.x264-HANGOVER.ENG chunk 5\n",
      "✅ Scored: 2006_Superman.Returns.2006.1080p.BluRay.x264-HANGOVER.ENG chunk 6\n",
      "✅ Scored: 2006_Superman.Returns.2006.1080p.BluRay.x264-HANGOVER.ENG chunk 7\n",
      "✅ Scored: 2006_Superman.Returns.2006.1080p.BluRay.x264-HANGOVER.ENG chunk 8\n"
     ]
    },
    {
     "name": "stderr",
     "output_type": "stream",
     "text": [
      "Scoring institutional trust (chunked):  39%|▍| 188/478 [1:52:24<2:48:33, 34.87s/"
     ]
    },
    {
     "name": "stdout",
     "output_type": "stream",
     "text": [
      "✅ Scored: 2005_Wedding.Crashers.2005.UNRATED.1080p.BluRay.x264-CiNEFiLE.ENG chunk 1\n",
      "✅ Scored: 2005_Wedding.Crashers.2005.UNRATED.1080p.BluRay.x264-CiNEFiLE.ENG chunk 2\n",
      "✅ Scored: 2005_Wedding.Crashers.2005.UNRATED.1080p.BluRay.x264-CiNEFiLE.ENG chunk 3\n",
      "✅ Scored: 2005_Wedding.Crashers.2005.UNRATED.1080p.BluRay.x264-CiNEFiLE.ENG chunk 4\n",
      "✅ Scored: 2005_Wedding.Crashers.2005.UNRATED.1080p.BluRay.x264-CiNEFiLE.ENG chunk 5\n",
      "✅ Scored: 2005_Wedding.Crashers.2005.UNRATED.1080p.BluRay.x264-CiNEFiLE.ENG chunk 6\n",
      "✅ Scored: 2005_Wedding.Crashers.2005.UNRATED.1080p.BluRay.x264-CiNEFiLE.ENG chunk 7\n",
      "✅ Scored: 2005_Wedding.Crashers.2005.UNRATED.1080p.BluRay.x264-CiNEFiLE.ENG chunk 8\n",
      "✅ Scored: 2005_Wedding.Crashers.2005.UNRATED.1080p.BluRay.x264-CiNEFiLE.ENG chunk 9\n",
      "✅ Scored: 2005_Wedding.Crashers.2005.UNRATED.1080p.BluRay.x264-CiNEFiLE.ENG chunk 10\n",
      "✅ Scored: 2005_Wedding.Crashers.2005.UNRATED.1080p.BluRay.x264-CiNEFiLE.ENG chunk 11\n",
      "✅ Scored: 2005_Wedding.Crashers.2005.UNRATED.1080p.BluRay.x264-CiNEFiLE.ENG chunk 12\n",
      "✅ Scored: 2005_Wedding.Crashers.2005.UNRATED.1080p.BluRay.x264-CiNEFiLE.ENG chunk 13\n",
      "✅ Scored: 2005_Wedding.Crashers.2005.UNRATED.1080p.BluRay.x264-CiNEFiLE.ENG chunk 14\n",
      "✅ Scored: 2005_Wedding.Crashers.2005.UNRATED.1080p.BluRay.x264-CiNEFiLE.ENG chunk 15\n",
      "✅ Scored: 2005_Wedding.Crashers.2005.UNRATED.1080p.BluRay.x264-CiNEFiLE.ENG chunk 16\n",
      "✅ Scored: 2005_Wedding.Crashers.2005.UNRATED.1080p.BluRay.x264-CiNEFiLE.ENG chunk 17\n"
     ]
    },
    {
     "name": "stderr",
     "output_type": "stream",
     "text": [
      "Scoring institutional trust (chunked):  40%|▍| 189/478 [1:53:26<3:28:00, 43.19s/"
     ]
    },
    {
     "name": "stdout",
     "output_type": "stream",
     "text": [
      "✅ Scored: 2000_The.Perfect.Storm.2000.720p.BluRay.DDEX.x264-ESiR.ENG chunk 1\n",
      "✅ Scored: 2000_The.Perfect.Storm.2000.720p.BluRay.DDEX.x264-ESiR.ENG chunk 2\n",
      "✅ Scored: 2000_The.Perfect.Storm.2000.720p.BluRay.DDEX.x264-ESiR.ENG chunk 3\n",
      "✅ Scored: 2000_The.Perfect.Storm.2000.720p.BluRay.DDEX.x264-ESiR.ENG chunk 4\n",
      "✅ Scored: 2000_The.Perfect.Storm.2000.720p.BluRay.DDEX.x264-ESiR.ENG chunk 5\n",
      "✅ Scored: 2000_The.Perfect.Storm.2000.720p.BluRay.DDEX.x264-ESiR.ENG chunk 6\n",
      "✅ Scored: 2000_The.Perfect.Storm.2000.720p.BluRay.DDEX.x264-ESiR.ENG chunk 7\n",
      "✅ Scored: 2000_The.Perfect.Storm.2000.720p.BluRay.DDEX.x264-ESiR.ENG chunk 8\n"
     ]
    },
    {
     "name": "stderr",
     "output_type": "stream",
     "text": [
      "Scoring institutional trust (chunked):  40%|▍| 190/478 [1:53:55<3:06:43, 38.90s/"
     ]
    },
    {
     "name": "stdout",
     "output_type": "stream",
     "text": [
      "✅ Scored: 2022_Sonic. the. Hedgehog. 2. 2022. 1080p. WEBRip. DDP5. 1. Atmos. x264-NOGRP chunk 1\n",
      "✅ Scored: 2022_Sonic. the. Hedgehog. 2. 2022. 1080p. WEBRip. DDP5. 1. Atmos. x264-NOGRP chunk 2\n",
      "✅ Scored: 2022_Sonic. the. Hedgehog. 2. 2022. 1080p. WEBRip. DDP5. 1. Atmos. x264-NOGRP chunk 3\n",
      "✅ Scored: 2022_Sonic. the. Hedgehog. 2. 2022. 1080p. WEBRip. DDP5. 1. Atmos. x264-NOGRP chunk 4\n",
      "✅ Scored: 2022_Sonic. the. Hedgehog. 2. 2022. 1080p. WEBRip. DDP5. 1. Atmos. x264-NOGRP chunk 5\n",
      "✅ Scored: 2022_Sonic. the. Hedgehog. 2. 2022. 1080p. WEBRip. DDP5. 1. Atmos. x264-NOGRP chunk 6\n",
      "✅ Scored: 2022_Sonic. the. Hedgehog. 2. 2022. 1080p. WEBRip. DDP5. 1. Atmos. x264-NOGRP chunk 7\n",
      "✅ Scored: 2022_Sonic. the. Hedgehog. 2. 2022. 1080p. WEBRip. DDP5. 1. Atmos. x264-NOGRP chunk 8\n",
      "✅ Scored: 2022_Sonic. the. Hedgehog. 2. 2022. 1080p. WEBRip. DDP5. 1. Atmos. x264-NOGRP chunk 9\n",
      "✅ Scored: 2022_Sonic. the. Hedgehog. 2. 2022. 1080p. WEBRip. DDP5. 1. Atmos. x264-NOGRP chunk 10\n"
     ]
    },
    {
     "name": "stderr",
     "output_type": "stream",
     "text": [
      "Scoring institutional trust (chunked):  40%|▍| 191/478 [1:54:29<2:59:02, 37.43s/"
     ]
    },
    {
     "name": "stdout",
     "output_type": "stream",
     "text": [
      "✅ Scored: 1982_E.T.The.Extra-Terrestrial.1982.720p.BluRay.X264-AMIABLE chunk 1\n",
      "✅ Scored: 1982_E.T.The.Extra-Terrestrial.1982.720p.BluRay.X264-AMIABLE chunk 2\n",
      "✅ Scored: 1982_E.T.The.Extra-Terrestrial.1982.720p.BluRay.X264-AMIABLE chunk 3\n",
      "✅ Scored: 1982_E.T.The.Extra-Terrestrial.1982.720p.BluRay.X264-AMIABLE chunk 4\n",
      "✅ Scored: 1982_E.T.The.Extra-Terrestrial.1982.720p.BluRay.X264-AMIABLE chunk 5\n",
      "✅ Scored: 1982_E.T.The.Extra-Terrestrial.1982.720p.BluRay.X264-AMIABLE chunk 6\n"
     ]
    },
    {
     "name": "stderr",
     "output_type": "stream",
     "text": [
      "Scoring institutional trust (chunked):  40%|▍| 192/478 [1:54:49<2:33:35, 32.22s/"
     ]
    },
    {
     "name": "stdout",
     "output_type": "stream",
     "text": [
      "✅ Scored: 2022_Avatar The Way of Water (2022) 1080p BluRay AVC REMUX DTS-HD_ENG chunk 1\n",
      "✅ Scored: 2022_Avatar The Way of Water (2022) 1080p BluRay AVC REMUX DTS-HD_ENG chunk 2\n",
      "✅ Scored: 2022_Avatar The Way of Water (2022) 1080p BluRay AVC REMUX DTS-HD_ENG chunk 3\n",
      "✅ Scored: 2022_Avatar The Way of Water (2022) 1080p BluRay AVC REMUX DTS-HD_ENG chunk 4\n",
      "✅ Scored: 2022_Avatar The Way of Water (2022) 1080p BluRay AVC REMUX DTS-HD_ENG chunk 5\n",
      "✅ Scored: 2022_Avatar The Way of Water (2022) 1080p BluRay AVC REMUX DTS-HD_ENG chunk 6\n",
      "✅ Scored: 2022_Avatar The Way of Water (2022) 1080p BluRay AVC REMUX DTS-HD_ENG chunk 7\n",
      "✅ Scored: 2022_Avatar The Way of Water (2022) 1080p BluRay AVC REMUX DTS-HD_ENG chunk 8\n",
      "✅ Scored: 2022_Avatar The Way of Water (2022) 1080p BluRay AVC REMUX DTS-HD_ENG chunk 9\n",
      "✅ Scored: 2022_Avatar The Way of Water (2022) 1080p BluRay AVC REMUX DTS-HD_ENG chunk 10\n",
      "✅ Scored: 2022_Avatar The Way of Water (2022) 1080p BluRay AVC REMUX DTS-HD_ENG chunk 11\n",
      "✅ Scored: 2022_Avatar The Way of Water (2022) 1080p BluRay AVC REMUX DTS-HD_ENG chunk 12\n"
     ]
    },
    {
     "name": "stderr",
     "output_type": "stream",
     "text": [
      "Scoring institutional trust (chunked):  40%|▍| 193/478 [1:55:30<2:45:35, 34.86s/"
     ]
    },
    {
     "name": "stdout",
     "output_type": "stream",
     "text": [
      "✅ Scored: 2023_The.Super.Mario.Bros.Movie.2023.1080p.MA.WEBRip.DDP5.1.Atmos.x264-CMaRioG chunk 1\n",
      "✅ Scored: 2023_The.Super.Mario.Bros.Movie.2023.1080p.MA.WEBRip.DDP5.1.Atmos.x264-CMaRioG chunk 2\n",
      "✅ Scored: 2023_The.Super.Mario.Bros.Movie.2023.1080p.MA.WEBRip.DDP5.1.Atmos.x264-CMaRioG chunk 3\n",
      "✅ Scored: 2023_The.Super.Mario.Bros.Movie.2023.1080p.MA.WEBRip.DDP5.1.Atmos.x264-CMaRioG chunk 4\n",
      "✅ Scored: 2023_The.Super.Mario.Bros.Movie.2023.1080p.MA.WEBRip.DDP5.1.Atmos.x264-CMaRioG chunk 5\n",
      "✅ Scored: 2023_The.Super.Mario.Bros.Movie.2023.1080p.MA.WEBRip.DDP5.1.Atmos.x264-CMaRioG chunk 6\n"
     ]
    },
    {
     "name": "stderr",
     "output_type": "stream",
     "text": [
      "Scoring institutional trust (chunked):  41%|▍| 194/478 [1:55:53<2:26:49, 31.02s/"
     ]
    },
    {
     "name": "stdout",
     "output_type": "stream",
     "text": [
      "✅ Scored: 2018_Jumanji.Welcome.to.the.Jungle.2017.1080p.WEB-DL.DD5.1.H264-FGT chunk 1\n",
      "✅ Scored: 2018_Jumanji.Welcome.to.the.Jungle.2017.1080p.WEB-DL.DD5.1.H264-FGT chunk 2\n",
      "✅ Scored: 2018_Jumanji.Welcome.to.the.Jungle.2017.1080p.WEB-DL.DD5.1.H264-FGT chunk 3\n",
      "✅ Scored: 2018_Jumanji.Welcome.to.the.Jungle.2017.1080p.WEB-DL.DD5.1.H264-FGT chunk 4\n",
      "✅ Scored: 2018_Jumanji.Welcome.to.the.Jungle.2017.1080p.WEB-DL.DD5.1.H264-FGT chunk 5\n",
      "✅ Scored: 2018_Jumanji.Welcome.to.the.Jungle.2017.1080p.WEB-DL.DD5.1.H264-FGT chunk 6\n",
      "✅ Scored: 2018_Jumanji.Welcome.to.the.Jungle.2017.1080p.WEB-DL.DD5.1.H264-FGT chunk 7\n",
      "✅ Scored: 2018_Jumanji.Welcome.to.the.Jungle.2017.1080p.WEB-DL.DD5.1.H264-FGT chunk 8\n",
      "✅ Scored: 2018_Jumanji.Welcome.to.the.Jungle.2017.1080p.WEB-DL.DD5.1.H264-FGT chunk 9\n",
      "✅ Scored: 2018_Jumanji.Welcome.to.the.Jungle.2017.1080p.WEB-DL.DD5.1.H264-FGT chunk 10\n",
      "✅ Scored: 2018_Jumanji.Welcome.to.the.Jungle.2017.1080p.WEB-DL.DD5.1.H264-FGT chunk 11\n",
      "✅ Scored: 2018_Jumanji.Welcome.to.the.Jungle.2017.1080p.WEB-DL.DD5.1.H264-FGT chunk 12\n"
     ]
    },
    {
     "name": "stderr",
     "output_type": "stream",
     "text": [
      "Scoring institutional trust (chunked):  41%|▍| 195/478 [1:56:37<2:45:58, 35.19s/"
     ]
    },
    {
     "name": "stdout",
     "output_type": "stream",
     "text": [
      "✅ Scored: 2013_The.Hunger.Games.Catching.Fire.2013.IMAX.EDITION.720p.BluRay.x264-PublicHD chunk 1\n",
      "✅ Scored: 2013_The.Hunger.Games.Catching.Fire.2013.IMAX.EDITION.720p.BluRay.x264-PublicHD chunk 2\n",
      "✅ Scored: 2013_The.Hunger.Games.Catching.Fire.2013.IMAX.EDITION.720p.BluRay.x264-PublicHD chunk 3\n",
      "✅ Scored: 2013_The.Hunger.Games.Catching.Fire.2013.IMAX.EDITION.720p.BluRay.x264-PublicHD chunk 4\n",
      "✅ Scored: 2013_The.Hunger.Games.Catching.Fire.2013.IMAX.EDITION.720p.BluRay.x264-PublicHD chunk 5\n",
      "✅ Scored: 2013_The.Hunger.Games.Catching.Fire.2013.IMAX.EDITION.720p.BluRay.x264-PublicHD chunk 6\n",
      "✅ Scored: 2013_The.Hunger.Games.Catching.Fire.2013.IMAX.EDITION.720p.BluRay.x264-PublicHD chunk 7\n",
      "✅ Scored: 2013_The.Hunger.Games.Catching.Fire.2013.IMAX.EDITION.720p.BluRay.x264-PublicHD chunk 8\n",
      "✅ Scored: 2013_The.Hunger.Games.Catching.Fire.2013.IMAX.EDITION.720p.BluRay.x264-PublicHD chunk 9\n",
      "✅ Scored: 2013_The.Hunger.Games.Catching.Fire.2013.IMAX.EDITION.720p.BluRay.x264-PublicHD chunk 10\n",
      "✅ Scored: 2013_The.Hunger.Games.Catching.Fire.2013.IMAX.EDITION.720p.BluRay.x264-PublicHD chunk 11\n"
     ]
    },
    {
     "name": "stderr",
     "output_type": "stream",
     "text": [
      "Scoring institutional trust (chunked):  41%|▍| 196/478 [1:57:16<2:49:31, 36.07s/"
     ]
    },
    {
     "name": "stdout",
     "output_type": "stream",
     "text": [
      "✅ Scored: 2004_National.Treasure.2004.BluRay.1080p.DTS.x264.dxva-EuReKA.ENG chunk 1\n",
      "✅ Scored: 2004_National.Treasure.2004.BluRay.1080p.DTS.x264.dxva-EuReKA.ENG chunk 2\n",
      "✅ Scored: 2004_National.Treasure.2004.BluRay.1080p.DTS.x264.dxva-EuReKA.ENG chunk 3\n",
      "✅ Scored: 2004_National.Treasure.2004.BluRay.1080p.DTS.x264.dxva-EuReKA.ENG chunk 4\n",
      "✅ Scored: 2004_National.Treasure.2004.BluRay.1080p.DTS.x264.dxva-EuReKA.ENG chunk 5\n",
      "✅ Scored: 2004_National.Treasure.2004.BluRay.1080p.DTS.x264.dxva-EuReKA.ENG chunk 6\n",
      "✅ Scored: 2004_National.Treasure.2004.BluRay.1080p.DTS.x264.dxva-EuReKA.ENG chunk 7\n",
      "✅ Scored: 2004_National.Treasure.2004.BluRay.1080p.DTS.x264.dxva-EuReKA.ENG chunk 8\n",
      "✅ Scored: 2004_National.Treasure.2004.BluRay.1080p.DTS.x264.dxva-EuReKA.ENG chunk 9\n",
      "✅ Scored: 2004_National.Treasure.2004.BluRay.1080p.DTS.x264.dxva-EuReKA.ENG chunk 10\n",
      "✅ Scored: 2004_National.Treasure.2004.BluRay.1080p.DTS.x264.dxva-EuReKA.ENG chunk 11\n",
      "✅ Scored: 2004_National.Treasure.2004.BluRay.1080p.DTS.x264.dxva-EuReKA.ENG chunk 12\n"
     ]
    },
    {
     "name": "stderr",
     "output_type": "stream",
     "text": [
      "Scoring institutional trust (chunked):  41%|▍| 197/478 [1:58:06<3:09:12, 40.40s/"
     ]
    },
    {
     "name": "stdout",
     "output_type": "stream",
     "text": [
      "✅ Scored: 2009_Transformers.Revenge.of.the.Fallen.IMAX.Edition.2009.1080p.BluRay.DTS.x264-DON.ENG chunk 1\n",
      "✅ Scored: 2009_Transformers.Revenge.of.the.Fallen.IMAX.Edition.2009.1080p.BluRay.DTS.x264-DON.ENG chunk 2\n",
      "✅ Scored: 2009_Transformers.Revenge.of.the.Fallen.IMAX.Edition.2009.1080p.BluRay.DTS.x264-DON.ENG chunk 3\n",
      "✅ Scored: 2009_Transformers.Revenge.of.the.Fallen.IMAX.Edition.2009.1080p.BluRay.DTS.x264-DON.ENG chunk 4\n",
      "✅ Scored: 2009_Transformers.Revenge.of.the.Fallen.IMAX.Edition.2009.1080p.BluRay.DTS.x264-DON.ENG chunk 5\n",
      "✅ Scored: 2009_Transformers.Revenge.of.the.Fallen.IMAX.Edition.2009.1080p.BluRay.DTS.x264-DON.ENG chunk 6\n",
      "✅ Scored: 2009_Transformers.Revenge.of.the.Fallen.IMAX.Edition.2009.1080p.BluRay.DTS.x264-DON.ENG chunk 7\n",
      "✅ Scored: 2009_Transformers.Revenge.of.the.Fallen.IMAX.Edition.2009.1080p.BluRay.DTS.x264-DON.ENG chunk 8\n",
      "✅ Scored: 2009_Transformers.Revenge.of.the.Fallen.IMAX.Edition.2009.1080p.BluRay.DTS.x264-DON.ENG chunk 9\n",
      "✅ Scored: 2009_Transformers.Revenge.of.the.Fallen.IMAX.Edition.2009.1080p.BluRay.DTS.x264-DON.ENG chunk 10\n",
      "✅ Scored: 2009_Transformers.Revenge.of.the.Fallen.IMAX.Edition.2009.1080p.BluRay.DTS.x264-DON.ENG chunk 11\n",
      "✅ Scored: 2009_Transformers.Revenge.of.the.Fallen.IMAX.Edition.2009.1080p.BluRay.DTS.x264-DON.ENG chunk 12\n",
      "✅ Scored: 2009_Transformers.Revenge.of.the.Fallen.IMAX.Edition.2009.1080p.BluRay.DTS.x264-DON.ENG chunk 13\n",
      "✅ Scored: 2009_Transformers.Revenge.of.the.Fallen.IMAX.Edition.2009.1080p.BluRay.DTS.x264-DON.ENG chunk 14\n",
      "✅ Scored: 2009_Transformers.Revenge.of.the.Fallen.IMAX.Edition.2009.1080p.BluRay.DTS.x264-DON.ENG chunk 15\n",
      "✅ Scored: 2009_Transformers.Revenge.of.the.Fallen.IMAX.Edition.2009.1080p.BluRay.DTS.x264-DON.ENG chunk 16\n"
     ]
    },
    {
     "name": "stderr",
     "output_type": "stream",
     "text": [
      "Scoring institutional trust (chunked):  41%|▍| 198/478 [1:59:04<3:32:51, 45.61s/"
     ]
    },
    {
     "name": "stdout",
     "output_type": "stream",
     "text": [
      "✅ Scored: 2008_Quantum.Of.Solace[2008]DvDrip-aXXo.en chunk 1\n",
      "✅ Scored: 2008_Quantum.Of.Solace[2008]DvDrip-aXXo.en chunk 2\n",
      "✅ Scored: 2008_Quantum.Of.Solace[2008]DvDrip-aXXo.en chunk 3\n",
      "✅ Scored: 2008_Quantum.Of.Solace[2008]DvDrip-aXXo.en chunk 4\n",
      "✅ Scored: 2008_Quantum.Of.Solace[2008]DvDrip-aXXo.en chunk 5\n",
      "✅ Scored: 2008_Quantum.Of.Solace[2008]DvDrip-aXXo.en chunk 6\n",
      "✅ Scored: 2008_Quantum.Of.Solace[2008]DvDrip-aXXo.en chunk 7\n"
     ]
    },
    {
     "name": "stderr",
     "output_type": "stream",
     "text": [
      "Scoring institutional trust (chunked):  42%|▍| 199/478 [1:59:30<3:04:41, 39.72s/"
     ]
    },
    {
     "name": "stdout",
     "output_type": "stream",
     "text": [
      "✅ Scored: 1984_Police.Academy.1984.720p.BluRay.X264-AMIABLE chunk 1\n",
      "✅ Scored: 1984_Police.Academy.1984.720p.BluRay.X264-AMIABLE chunk 2\n",
      "✅ Scored: 1984_Police.Academy.1984.720p.BluRay.X264-AMIABLE chunk 3\n",
      "✅ Scored: 1984_Police.Academy.1984.720p.BluRay.X264-AMIABLE chunk 4\n",
      "✅ Scored: 1984_Police.Academy.1984.720p.BluRay.X264-AMIABLE chunk 5\n",
      "✅ Scored: 1984_Police.Academy.1984.720p.BluRay.X264-AMIABLE chunk 6\n",
      "✅ Scored: 1984_Police.Academy.1984.720p.BluRay.X264-AMIABLE chunk 7\n",
      "✅ Scored: 1984_Police.Academy.1984.720p.BluRay.X264-AMIABLE chunk 8\n"
     ]
    },
    {
     "name": "stderr",
     "output_type": "stream",
     "text": [
      "Scoring institutional trust (chunked):  42%|▍| 200/478 [1:59:58<2:47:20, 36.12s/"
     ]
    },
    {
     "name": "stdout",
     "output_type": "stream",
     "text": [
      "✅ Scored: 1977_The.Spy.Who.Loved.Me.1977.DVD5.720p.HDTV.x264-NBS.eng chunk 1\n",
      "✅ Scored: 1977_The.Spy.Who.Loved.Me.1977.DVD5.720p.HDTV.x264-NBS.eng chunk 2\n",
      "✅ Scored: 1977_The.Spy.Who.Loved.Me.1977.DVD5.720p.HDTV.x264-NBS.eng chunk 3\n",
      "✅ Scored: 1977_The.Spy.Who.Loved.Me.1977.DVD5.720p.HDTV.x264-NBS.eng chunk 4\n",
      "✅ Scored: 1977_The.Spy.Who.Loved.Me.1977.DVD5.720p.HDTV.x264-NBS.eng chunk 5\n",
      "✅ Scored: 1977_The.Spy.Who.Loved.Me.1977.DVD5.720p.HDTV.x264-NBS.eng chunk 6\n",
      "✅ Scored: 1977_The.Spy.Who.Loved.Me.1977.DVD5.720p.HDTV.x264-NBS.eng chunk 7\n"
     ]
    },
    {
     "name": "stderr",
     "output_type": "stream",
     "text": [
      "Scoring institutional trust (chunked):  42%|▍| 201/478 [2:00:22<2:30:27, 32.59s/"
     ]
    },
    {
     "name": "stdout",
     "output_type": "stream",
     "text": [
      "✅ Scored: 1981_Stripes.1981.720p.BluRay.x264-CiNEFiLE chunk 1\n",
      "✅ Scored: 1981_Stripes.1981.720p.BluRay.x264-CiNEFiLE chunk 2\n",
      "✅ Scored: 1981_Stripes.1981.720p.BluRay.x264-CiNEFiLE chunk 3\n",
      "✅ Scored: 1981_Stripes.1981.720p.BluRay.x264-CiNEFiLE chunk 4\n",
      "✅ Scored: 1981_Stripes.1981.720p.BluRay.x264-CiNEFiLE chunk 5\n",
      "✅ Scored: 1981_Stripes.1981.720p.BluRay.x264-CiNEFiLE chunk 6\n",
      "✅ Scored: 1981_Stripes.1981.720p.BluRay.x264-CiNEFiLE chunk 7\n",
      "✅ Scored: 1981_Stripes.1981.720p.BluRay.x264-CiNEFiLE chunk 8\n",
      "✅ Scored: 1981_Stripes.1981.720p.BluRay.x264-CiNEFiLE chunk 9\n",
      "✅ Scored: 1981_Stripes.1981.720p.BluRay.x264-CiNEFiLE chunk 10\n",
      "✅ Scored: 1981_Stripes.1981.720p.BluRay.x264-CiNEFiLE chunk 11\n"
     ]
    },
    {
     "name": "stderr",
     "output_type": "stream",
     "text": [
      "Scoring institutional trust (chunked):  42%|▍| 202/478 [2:01:11<2:52:52, 37.58s/"
     ]
    },
    {
     "name": "stdout",
     "output_type": "stream",
     "text": [
      "✅ Scored: 2010_timpe-inception chunk 1\n",
      "✅ Scored: 2010_timpe-inception chunk 2\n",
      "✅ Scored: 2010_timpe-inception chunk 3\n",
      "✅ Scored: 2010_timpe-inception chunk 4\n",
      "✅ Scored: 2010_timpe-inception chunk 5\n",
      "✅ Scored: 2010_timpe-inception chunk 6\n",
      "✅ Scored: 2010_timpe-inception chunk 7\n",
      "✅ Scored: 2010_timpe-inception chunk 8\n",
      "✅ Scored: 2010_timpe-inception chunk 9\n",
      "✅ Scored: 2010_timpe-inception chunk 10\n",
      "✅ Scored: 2010_timpe-inception chunk 11\n",
      "✅ Scored: 2010_timpe-inception chunk 12\n",
      "✅ Scored: 2010_timpe-inception chunk 13\n",
      "✅ Scored: 2010_timpe-inception chunk 14\n"
     ]
    },
    {
     "name": "stderr",
     "output_type": "stream",
     "text": [
      "Scoring institutional trust (chunked):  42%|▍| 203/478 [2:02:11<3:22:56, 44.28s/"
     ]
    },
    {
     "name": "stdout",
     "output_type": "stream",
     "text": [
      "✅ Scored: 1988_Coming.To.America.1988.1080p.BluRay.x264-Japhson.ENG chunk 1\n",
      "✅ Scored: 1988_Coming.To.America.1988.1080p.BluRay.x264-Japhson.ENG chunk 2\n",
      "✅ Scored: 1988_Coming.To.America.1988.1080p.BluRay.x264-Japhson.ENG chunk 3\n",
      "✅ Scored: 1988_Coming.To.America.1988.1080p.BluRay.x264-Japhson.ENG chunk 4\n",
      "✅ Scored: 1988_Coming.To.America.1988.1080p.BluRay.x264-Japhson.ENG chunk 5\n",
      "✅ Scored: 1988_Coming.To.America.1988.1080p.BluRay.x264-Japhson.ENG chunk 6\n",
      "✅ Scored: 1988_Coming.To.America.1988.1080p.BluRay.x264-Japhson.ENG chunk 7\n",
      "✅ Scored: 1988_Coming.To.America.1988.1080p.BluRay.x264-Japhson.ENG chunk 8\n",
      "✅ Scored: 1988_Coming.To.America.1988.1080p.BluRay.x264-Japhson.ENG chunk 9\n"
     ]
    },
    {
     "name": "stderr",
     "output_type": "stream",
     "text": [
      "Scoring institutional trust (chunked):  43%|▍| 204/478 [2:02:46<3:09:06, 41.41s/"
     ]
    },
    {
     "name": "stdout",
     "output_type": "stream",
     "text": [
      "✅ Scored: 1978_Jaws.2.ENG.25FPS chunk 1\n",
      "✅ Scored: 1978_Jaws.2.ENG.25FPS chunk 2\n",
      "✅ Scored: 1978_Jaws.2.ENG.25FPS chunk 3\n",
      "✅ Scored: 1978_Jaws.2.ENG.25FPS chunk 4\n",
      "✅ Scored: 1978_Jaws.2.ENG.25FPS chunk 5\n",
      "✅ Scored: 1978_Jaws.2.ENG.25FPS chunk 6\n",
      "✅ Scored: 1978_Jaws.2.ENG.25FPS chunk 7\n"
     ]
    },
    {
     "name": "stderr",
     "output_type": "stream",
     "text": [
      "Scoring institutional trust (chunked):  43%|▍| 205/478 [2:03:10<2:44:42, 36.20s/"
     ]
    },
    {
     "name": "stdout",
     "output_type": "stream",
     "text": [
      "✅ Scored: 2010_How.to.Train.Your.Dragon.(2010).BDRip.AC3.XviD-CaLLiOpeD chunk 1\n",
      "✅ Scored: 2010_How.to.Train.Your.Dragon.(2010).BDRip.AC3.XviD-CaLLiOpeD chunk 2\n",
      "✅ Scored: 2010_How.to.Train.Your.Dragon.(2010).BDRip.AC3.XviD-CaLLiOpeD chunk 3\n",
      "✅ Scored: 2010_How.to.Train.Your.Dragon.(2010).BDRip.AC3.XviD-CaLLiOpeD chunk 4\n",
      "✅ Scored: 2010_How.to.Train.Your.Dragon.(2010).BDRip.AC3.XviD-CaLLiOpeD chunk 5\n",
      "✅ Scored: 2010_How.to.Train.Your.Dragon.(2010).BDRip.AC3.XviD-CaLLiOpeD chunk 6\n",
      "✅ Scored: 2010_How.to.Train.Your.Dragon.(2010).BDRip.AC3.XviD-CaLLiOpeD chunk 7\n"
     ]
    },
    {
     "name": "stderr",
     "output_type": "stream",
     "text": [
      "Scoring institutional trust (chunked):  43%|▍| 206/478 [2:03:33<2:26:38, 32.35s/"
     ]
    },
    {
     "name": "stdout",
     "output_type": "stream",
     "text": [
      "✅ Scored: 1985_The.Goonies.1985.720p.BluRay.DTS.x264-ESiR.ENG chunk 1\n",
      "✅ Scored: 1985_The.Goonies.1985.720p.BluRay.DTS.x264-ESiR.ENG chunk 2\n",
      "✅ Scored: 1985_The.Goonies.1985.720p.BluRay.DTS.x264-ESiR.ENG chunk 3\n",
      "✅ Scored: 1985_The.Goonies.1985.720p.BluRay.DTS.x264-ESiR.ENG chunk 4\n",
      "✅ Scored: 1985_The.Goonies.1985.720p.BluRay.DTS.x264-ESiR.ENG chunk 5\n",
      "✅ Scored: 1985_The.Goonies.1985.720p.BluRay.DTS.x264-ESiR.ENG chunk 6\n",
      "✅ Scored: 1985_The.Goonies.1985.720p.BluRay.DTS.x264-ESiR.ENG chunk 7\n",
      "✅ Scored: 1985_The.Goonies.1985.720p.BluRay.DTS.x264-ESiR.ENG chunk 8\n",
      "✅ Scored: 1985_The.Goonies.1985.720p.BluRay.DTS.x264-ESiR.ENG chunk 9\n",
      "✅ Scored: 1985_The.Goonies.1985.720p.BluRay.DTS.x264-ESiR.ENG chunk 10\n"
     ]
    },
    {
     "name": "stderr",
     "output_type": "stream",
     "text": [
      "Scoring institutional trust (chunked):  43%|▍| 207/478 [2:04:09<2:31:25, 33.52s/"
     ]
    },
    {
     "name": "stdout",
     "output_type": "stream",
     "text": [
      "✅ Scored: 2007_Ratatouille.2007.720p.BluRay.DTS.x264-ESiR.ENG chunk 1\n",
      "✅ Scored: 2007_Ratatouille.2007.720p.BluRay.DTS.x264-ESiR.ENG chunk 2\n",
      "✅ Scored: 2007_Ratatouille.2007.720p.BluRay.DTS.x264-ESiR.ENG chunk 3\n",
      "✅ Scored: 2007_Ratatouille.2007.720p.BluRay.DTS.x264-ESiR.ENG chunk 4\n",
      "✅ Scored: 2007_Ratatouille.2007.720p.BluRay.DTS.x264-ESiR.ENG chunk 5\n",
      "✅ Scored: 2007_Ratatouille.2007.720p.BluRay.DTS.x264-ESiR.ENG chunk 6\n",
      "✅ Scored: 2007_Ratatouille.2007.720p.BluRay.DTS.x264-ESiR.ENG chunk 7\n",
      "✅ Scored: 2007_Ratatouille.2007.720p.BluRay.DTS.x264-ESiR.ENG chunk 8\n",
      "✅ Scored: 2007_Ratatouille.2007.720p.BluRay.DTS.x264-ESiR.ENG chunk 9\n",
      "✅ Scored: 2007_Ratatouille.2007.720p.BluRay.DTS.x264-ESiR.ENG chunk 10\n",
      "✅ Scored: 2007_Ratatouille.2007.720p.BluRay.DTS.x264-ESiR.ENG chunk 11\n"
     ]
    },
    {
     "name": "stderr",
     "output_type": "stream",
     "text": [
      "Scoring institutional trust (chunked):  44%|▍| 208/478 [2:04:51<2:42:01, 36.01s/"
     ]
    },
    {
     "name": "stdout",
     "output_type": "stream",
     "text": [
      "✅ Scored: 2004_The.Polar.Express.2004.BluRay.1080p.DTS.x264.dxva-EuReKA.ENG chunk 1\n",
      "✅ Scored: 2004_The.Polar.Express.2004.BluRay.1080p.DTS.x264.dxva-EuReKA.ENG chunk 2\n",
      "✅ Scored: 2004_The.Polar.Express.2004.BluRay.1080p.DTS.x264.dxva-EuReKA.ENG chunk 3\n",
      "✅ Scored: 2004_The.Polar.Express.2004.BluRay.1080p.DTS.x264.dxva-EuReKA.ENG chunk 4\n",
      "✅ Scored: 2004_The.Polar.Express.2004.BluRay.1080p.DTS.x264.dxva-EuReKA.ENG chunk 5\n",
      "✅ Scored: 2004_The.Polar.Express.2004.BluRay.1080p.DTS.x264.dxva-EuReKA.ENG chunk 6\n"
     ]
    },
    {
     "name": "stderr",
     "output_type": "stream",
     "text": [
      "Scoring institutional trust (chunked):  44%|▍| 209/478 [2:05:13<2:22:05, 31.69s/"
     ]
    },
    {
     "name": "stdout",
     "output_type": "stream",
     "text": [
      "✅ Scored: 2021_Spider-Man_No_Way_Home.2022.1080p.Bluray.DTS-HD.MA.5.1.X264-EVO chunk 1\n",
      "✅ Scored: 2021_Spider-Man_No_Way_Home.2022.1080p.Bluray.DTS-HD.MA.5.1.X264-EVO chunk 2\n",
      "✅ Scored: 2021_Spider-Man_No_Way_Home.2022.1080p.Bluray.DTS-HD.MA.5.1.X264-EVO chunk 3\n",
      "✅ Scored: 2021_Spider-Man_No_Way_Home.2022.1080p.Bluray.DTS-HD.MA.5.1.X264-EVO chunk 4\n",
      "✅ Scored: 2021_Spider-Man_No_Way_Home.2022.1080p.Bluray.DTS-HD.MA.5.1.X264-EVO chunk 5\n",
      "✅ Scored: 2021_Spider-Man_No_Way_Home.2022.1080p.Bluray.DTS-HD.MA.5.1.X264-EVO chunk 6\n",
      "✅ Scored: 2021_Spider-Man_No_Way_Home.2022.1080p.Bluray.DTS-HD.MA.5.1.X264-EVO chunk 7\n",
      "✅ Scored: 2021_Spider-Man_No_Way_Home.2022.1080p.Bluray.DTS-HD.MA.5.1.X264-EVO chunk 8\n",
      "✅ Scored: 2021_Spider-Man_No_Way_Home.2022.1080p.Bluray.DTS-HD.MA.5.1.X264-EVO chunk 9\n",
      "✅ Scored: 2021_Spider-Man_No_Way_Home.2022.1080p.Bluray.DTS-HD.MA.5.1.X264-EVO chunk 10\n",
      "✅ Scored: 2021_Spider-Man_No_Way_Home.2022.1080p.Bluray.DTS-HD.MA.5.1.X264-EVO chunk 11\n",
      "✅ Scored: 2021_Spider-Man_No_Way_Home.2022.1080p.Bluray.DTS-HD.MA.5.1.X264-EVO chunk 12\n",
      "✅ Scored: 2021_Spider-Man_No_Way_Home.2022.1080p.Bluray.DTS-HD.MA.5.1.X264-EVO chunk 13\n",
      "✅ Scored: 2021_Spider-Man_No_Way_Home.2022.1080p.Bluray.DTS-HD.MA.5.1.X264-EVO chunk 14\n",
      "✅ Scored: 2021_Spider-Man_No_Way_Home.2022.1080p.Bluray.DTS-HD.MA.5.1.X264-EVO chunk 15\n"
     ]
    },
    {
     "name": "stderr",
     "output_type": "stream",
     "text": [
      "Scoring institutional trust (chunked):  44%|▍| 210/478 [2:06:07<2:51:39, 38.43s/"
     ]
    },
    {
     "name": "stdout",
     "output_type": "stream",
     "text": [
      "✅ Scored: 1979_The.Amityville.Horror.1979.Blu-ray.Re.x264.1080p.DTS-HDS.ENG chunk 1\n",
      "✅ Scored: 1979_The.Amityville.Horror.1979.Blu-ray.Re.x264.1080p.DTS-HDS.ENG chunk 2\n",
      "✅ Scored: 1979_The.Amityville.Horror.1979.Blu-ray.Re.x264.1080p.DTS-HDS.ENG chunk 3\n",
      "✅ Scored: 1979_The.Amityville.Horror.1979.Blu-ray.Re.x264.1080p.DTS-HDS.ENG chunk 4\n",
      "✅ Scored: 1979_The.Amityville.Horror.1979.Blu-ray.Re.x264.1080p.DTS-HDS.ENG chunk 5\n",
      "✅ Scored: 1979_The.Amityville.Horror.1979.Blu-ray.Re.x264.1080p.DTS-HDS.ENG chunk 6\n"
     ]
    },
    {
     "name": "stderr",
     "output_type": "stream",
     "text": [
      "Scoring institutional trust (chunked):  44%|▍| 211/478 [2:06:28<2:27:28, 33.14s/"
     ]
    },
    {
     "name": "stdout",
     "output_type": "stream",
     "text": [
      "✅ Scored: 1990_Die.Hard.2.1990.1080p.BluRay.x264-WPi.ENG chunk 1\n",
      "✅ Scored: 1990_Die.Hard.2.1990.1080p.BluRay.x264-WPi.ENG chunk 2\n",
      "✅ Scored: 1990_Die.Hard.2.1990.1080p.BluRay.x264-WPi.ENG chunk 3\n",
      "✅ Scored: 1990_Die.Hard.2.1990.1080p.BluRay.x264-WPi.ENG chunk 4\n",
      "✅ Scored: 1990_Die.Hard.2.1990.1080p.BluRay.x264-WPi.ENG chunk 5\n",
      "✅ Scored: 1990_Die.Hard.2.1990.1080p.BluRay.x264-WPi.ENG chunk 6\n",
      "✅ Scored: 1990_Die.Hard.2.1990.1080p.BluRay.x264-WPi.ENG chunk 7\n",
      "✅ Scored: 1990_Die.Hard.2.1990.1080p.BluRay.x264-WPi.ENG chunk 8\n",
      "✅ Scored: 1990_Die.Hard.2.1990.1080p.BluRay.x264-WPi.ENG chunk 9\n",
      "✅ Scored: 1990_Die.Hard.2.1990.1080p.BluRay.x264-WPi.ENG chunk 10\n",
      "✅ Scored: 1990_Die.Hard.2.1990.1080p.BluRay.x264-WPi.ENG chunk 11\n",
      "✅ Scored: 1990_Die.Hard.2.1990.1080p.BluRay.x264-WPi.ENG chunk 12\n"
     ]
    },
    {
     "name": "stderr",
     "output_type": "stream",
     "text": [
      "Scoring institutional trust (chunked):  44%|▍| 212/478 [2:07:12<2:41:38, 36.46s/"
     ]
    },
    {
     "name": "stdout",
     "output_type": "stream",
     "text": [
      "✅ Scored: 1995_Die.Hard.With.A.Vengeance.1995.1080p.BluRay.x264-WPi.ENG chunk 1\n",
      "✅ Scored: 1995_Die.Hard.With.A.Vengeance.1995.1080p.BluRay.x264-WPi.ENG chunk 2\n",
      "✅ Scored: 1995_Die.Hard.With.A.Vengeance.1995.1080p.BluRay.x264-WPi.ENG chunk 3\n",
      "✅ Scored: 1995_Die.Hard.With.A.Vengeance.1995.1080p.BluRay.x264-WPi.ENG chunk 4\n",
      "✅ Scored: 1995_Die.Hard.With.A.Vengeance.1995.1080p.BluRay.x264-WPi.ENG chunk 5\n",
      "✅ Scored: 1995_Die.Hard.With.A.Vengeance.1995.1080p.BluRay.x264-WPi.ENG chunk 6\n",
      "✅ Scored: 1995_Die.Hard.With.A.Vengeance.1995.1080p.BluRay.x264-WPi.ENG chunk 7\n",
      "✅ Scored: 1995_Die.Hard.With.A.Vengeance.1995.1080p.BluRay.x264-WPi.ENG chunk 8\n",
      "✅ Scored: 1995_Die.Hard.With.A.Vengeance.1995.1080p.BluRay.x264-WPi.ENG chunk 9\n",
      "✅ Scored: 1995_Die.Hard.With.A.Vengeance.1995.1080p.BluRay.x264-WPi.ENG chunk 10\n",
      "✅ Scored: 1995_Die.Hard.With.A.Vengeance.1995.1080p.BluRay.x264-WPi.ENG chunk 11\n",
      "✅ Scored: 1995_Die.Hard.With.A.Vengeance.1995.1080p.BluRay.x264-WPi.ENG chunk 12\n",
      "✅ Scored: 1995_Die.Hard.With.A.Vengeance.1995.1080p.BluRay.x264-WPi.ENG chunk 13\n",
      "✅ Scored: 1995_Die.Hard.With.A.Vengeance.1995.1080p.BluRay.x264-WPi.ENG chunk 14\n",
      "✅ Scored: 1995_Die.Hard.With.A.Vengeance.1995.1080p.BluRay.x264-WPi.ENG chunk 15\n",
      "✅ Scored: 1995_Die.Hard.With.A.Vengeance.1995.1080p.BluRay.x264-WPi.ENG chunk 16\n"
     ]
    },
    {
     "name": "stderr",
     "output_type": "stream",
     "text": [
      "Scoring institutional trust (chunked):  45%|▍| 213/478 [2:08:15<3:16:39, 44.53s/"
     ]
    },
    {
     "name": "stdout",
     "output_type": "stream",
     "text": [
      "✅ Scored: 1995_Crimson.Tide.1995.1080p.Bluray.x264-FSiHD.ENG chunk 1\n",
      "✅ Scored: 1995_Crimson.Tide.1995.1080p.Bluray.x264-FSiHD.ENG chunk 2\n",
      "✅ Scored: 1995_Crimson.Tide.1995.1080p.Bluray.x264-FSiHD.ENG chunk 3\n",
      "✅ Scored: 1995_Crimson.Tide.1995.1080p.Bluray.x264-FSiHD.ENG chunk 4\n",
      "✅ Scored: 1995_Crimson.Tide.1995.1080p.Bluray.x264-FSiHD.ENG chunk 5\n",
      "✅ Scored: 1995_Crimson.Tide.1995.1080p.Bluray.x264-FSiHD.ENG chunk 6\n",
      "✅ Scored: 1995_Crimson.Tide.1995.1080p.Bluray.x264-FSiHD.ENG chunk 7\n",
      "✅ Scored: 1995_Crimson.Tide.1995.1080p.Bluray.x264-FSiHD.ENG chunk 8\n",
      "✅ Scored: 1995_Crimson.Tide.1995.1080p.Bluray.x264-FSiHD.ENG chunk 9\n",
      "✅ Scored: 1995_Crimson.Tide.1995.1080p.Bluray.x264-FSiHD.ENG chunk 10\n",
      "✅ Scored: 1995_Crimson.Tide.1995.1080p.Bluray.x264-FSiHD.ENG chunk 11\n",
      "✅ Scored: 1995_Crimson.Tide.1995.1080p.Bluray.x264-FSiHD.ENG chunk 12\n",
      "✅ Scored: 1995_Crimson.Tide.1995.1080p.Bluray.x264-FSiHD.ENG chunk 13\n"
     ]
    },
    {
     "name": "stderr",
     "output_type": "stream",
     "text": [
      "Scoring institutional trust (chunked):  45%|▍| 214/478 [2:09:00<3:16:08, 44.58s/"
     ]
    },
    {
     "name": "stdout",
     "output_type": "stream",
     "text": [
      "✅ Scored: 1980_Any.Which.Way.You.Can.1980.XViD.5.1.AC3-ShitBusters.ENG chunk 1\n",
      "✅ Scored: 1980_Any.Which.Way.You.Can.1980.XViD.5.1.AC3-ShitBusters.ENG chunk 2\n",
      "✅ Scored: 1980_Any.Which.Way.You.Can.1980.XViD.5.1.AC3-ShitBusters.ENG chunk 3\n",
      "✅ Scored: 1980_Any.Which.Way.You.Can.1980.XViD.5.1.AC3-ShitBusters.ENG chunk 4\n",
      "✅ Scored: 1980_Any.Which.Way.You.Can.1980.XViD.5.1.AC3-ShitBusters.ENG chunk 5\n",
      "✅ Scored: 1980_Any.Which.Way.You.Can.1980.XViD.5.1.AC3-ShitBusters.ENG chunk 6\n",
      "✅ Scored: 1980_Any.Which.Way.You.Can.1980.XViD.5.1.AC3-ShitBusters.ENG chunk 7\n"
     ]
    },
    {
     "name": "stderr",
     "output_type": "stream",
     "text": [
      "Scoring institutional trust (chunked):  45%|▍| 215/478 [2:09:25<2:50:08, 38.82s/"
     ]
    },
    {
     "name": "stdout",
     "output_type": "stream",
     "text": [
      "✅ Scored: 1998_Saving.Private.Ryan.720p.HDTV.Premiere.DTS.x264-ESiR chunk 1\n",
      "✅ Scored: 1998_Saving.Private.Ryan.720p.HDTV.Premiere.DTS.x264-ESiR chunk 2\n",
      "✅ Scored: 1998_Saving.Private.Ryan.720p.HDTV.Premiere.DTS.x264-ESiR chunk 3\n",
      "✅ Scored: 1998_Saving.Private.Ryan.720p.HDTV.Premiere.DTS.x264-ESiR chunk 4\n",
      "✅ Scored: 1998_Saving.Private.Ryan.720p.HDTV.Premiere.DTS.x264-ESiR chunk 5\n",
      "✅ Scored: 1998_Saving.Private.Ryan.720p.HDTV.Premiere.DTS.x264-ESiR chunk 6\n",
      "✅ Scored: 1998_Saving.Private.Ryan.720p.HDTV.Premiere.DTS.x264-ESiR chunk 7\n",
      "✅ Scored: 1998_Saving.Private.Ryan.720p.HDTV.Premiere.DTS.x264-ESiR chunk 8\n",
      "✅ Scored: 1998_Saving.Private.Ryan.720p.HDTV.Premiere.DTS.x264-ESiR chunk 9\n",
      "✅ Scored: 1998_Saving.Private.Ryan.720p.HDTV.Premiere.DTS.x264-ESiR chunk 10\n",
      "✅ Scored: 1998_Saving.Private.Ryan.720p.HDTV.Premiere.DTS.x264-ESiR chunk 11\n",
      "✅ Scored: 1998_Saving.Private.Ryan.720p.HDTV.Premiere.DTS.x264-ESiR chunk 12\n"
     ]
    },
    {
     "name": "stderr",
     "output_type": "stream",
     "text": [
      "Scoring institutional trust (chunked):  45%|▍| 216/478 [2:10:07<2:53:38, 39.77s/"
     ]
    },
    {
     "name": "stdout",
     "output_type": "stream",
     "text": [
      "✅ Scored: 1991_Sleeping.with.the.Enemy.1991.720p.BluRay.x264-HD4U-eng chunk 1\n",
      "✅ Scored: 1991_Sleeping.with.the.Enemy.1991.720p.BluRay.x264-HD4U-eng chunk 2\n",
      "✅ Scored: 1991_Sleeping.with.the.Enemy.1991.720p.BluRay.x264-HD4U-eng chunk 3\n",
      "✅ Scored: 1991_Sleeping.with.the.Enemy.1991.720p.BluRay.x264-HD4U-eng chunk 4\n",
      "✅ Scored: 1991_Sleeping.with.the.Enemy.1991.720p.BluRay.x264-HD4U-eng chunk 5\n",
      "✅ Scored: 1991_Sleeping.with.the.Enemy.1991.720p.BluRay.x264-HD4U-eng chunk 6\n"
     ]
    },
    {
     "name": "stderr",
     "output_type": "stream",
     "text": [
      "Scoring institutional trust (chunked):  45%|▍| 217/478 [2:10:30<2:30:43, 34.65s/"
     ]
    },
    {
     "name": "stdout",
     "output_type": "stream",
     "text": [
      "✅ Scored: 2001_The.Mummy.Returns.2001.720p.Blu-ray.x264.AC3-CHD.ENG chunk 1\n",
      "✅ Scored: 2001_The.Mummy.Returns.2001.720p.Blu-ray.x264.AC3-CHD.ENG chunk 2\n",
      "✅ Scored: 2001_The.Mummy.Returns.2001.720p.Blu-ray.x264.AC3-CHD.ENG chunk 3\n",
      "✅ Scored: 2001_The.Mummy.Returns.2001.720p.Blu-ray.x264.AC3-CHD.ENG chunk 4\n",
      "✅ Scored: 2001_The.Mummy.Returns.2001.720p.Blu-ray.x264.AC3-CHD.ENG chunk 5\n",
      "✅ Scored: 2001_The.Mummy.Returns.2001.720p.Blu-ray.x264.AC3-CHD.ENG chunk 6\n"
     ]
    },
    {
     "name": "stderr",
     "output_type": "stream",
     "text": [
      "Scoring institutional trust (chunked):  46%|▍| 218/478 [2:10:55<2:17:31, 31.74s/"
     ]
    },
    {
     "name": "stdout",
     "output_type": "stream",
     "text": [
      "✅ Scored: 1977_Close.Encounters.of.the.Third.Kind.Collectors.Edition.1977.720p.BluRay.DTS.x264-ESiR.ENG chunk 1\n",
      "✅ Scored: 1977_Close.Encounters.of.the.Third.Kind.Collectors.Edition.1977.720p.BluRay.DTS.x264-ESiR.ENG chunk 2\n",
      "✅ Scored: 1977_Close.Encounters.of.the.Third.Kind.Collectors.Edition.1977.720p.BluRay.DTS.x264-ESiR.ENG chunk 3\n",
      "✅ Scored: 1977_Close.Encounters.of.the.Third.Kind.Collectors.Edition.1977.720p.BluRay.DTS.x264-ESiR.ENG chunk 4\n",
      "✅ Scored: 1977_Close.Encounters.of.the.Third.Kind.Collectors.Edition.1977.720p.BluRay.DTS.x264-ESiR.ENG chunk 5\n",
      "✅ Scored: 1977_Close.Encounters.of.the.Third.Kind.Collectors.Edition.1977.720p.BluRay.DTS.x264-ESiR.ENG chunk 6\n",
      "✅ Scored: 1977_Close.Encounters.of.the.Third.Kind.Collectors.Edition.1977.720p.BluRay.DTS.x264-ESiR.ENG chunk 7\n",
      "✅ Scored: 1977_Close.Encounters.of.the.Third.Kind.Collectors.Edition.1977.720p.BluRay.DTS.x264-ESiR.ENG chunk 8\n"
     ]
    },
    {
     "name": "stderr",
     "output_type": "stream",
     "text": [
      "Scoring institutional trust (chunked):  46%|▍| 219/478 [2:11:24<2:13:11, 30.86s/"
     ]
    },
    {
     "name": "stdout",
     "output_type": "stream",
     "text": [
      "✅ Scored: 2016_The. Jungle. Book. 2016. 720p. BluRay. x264-AN0NYM0US chunk 1\n",
      "✅ Scored: 2016_The. Jungle. Book. 2016. 720p. BluRay. x264-AN0NYM0US chunk 2\n",
      "✅ Scored: 2016_The. Jungle. Book. 2016. 720p. BluRay. x264-AN0NYM0US chunk 3\n",
      "✅ Scored: 2016_The. Jungle. Book. 2016. 720p. BluRay. x264-AN0NYM0US chunk 4\n",
      "✅ Scored: 2016_The. Jungle. Book. 2016. 720p. BluRay. x264-AN0NYM0US chunk 5\n",
      "✅ Scored: 2016_The. Jungle. Book. 2016. 720p. BluRay. x264-AN0NYM0US chunk 6\n",
      "✅ Scored: 2016_The. Jungle. Book. 2016. 720p. BluRay. x264-AN0NYM0US chunk 7\n",
      "✅ Scored: 2016_The. Jungle. Book. 2016. 720p. BluRay. x264-AN0NYM0US chunk 8\n"
     ]
    },
    {
     "name": "stderr",
     "output_type": "stream",
     "text": [
      "Scoring institutional trust (chunked):  46%|▍| 220/478 [2:11:51<2:07:43, 29.70s/"
     ]
    },
    {
     "name": "stdout",
     "output_type": "stream",
     "text": [
      "✅ Scored: 2009_Monsters Vs Aliens[2009]DvDrip-aXXo chunk 1\n",
      "✅ Scored: 2009_Monsters Vs Aliens[2009]DvDrip-aXXo chunk 2\n",
      "✅ Scored: 2009_Monsters Vs Aliens[2009]DvDrip-aXXo chunk 3\n",
      "✅ Scored: 2009_Monsters Vs Aliens[2009]DvDrip-aXXo chunk 4\n",
      "✅ Scored: 2009_Monsters Vs Aliens[2009]DvDrip-aXXo chunk 5\n",
      "✅ Scored: 2009_Monsters Vs Aliens[2009]DvDrip-aXXo chunk 6\n",
      "✅ Scored: 2009_Monsters Vs Aliens[2009]DvDrip-aXXo chunk 7\n",
      "✅ Scored: 2009_Monsters Vs Aliens[2009]DvDrip-aXXo chunk 8\n"
     ]
    },
    {
     "name": "stderr",
     "output_type": "stream",
     "text": [
      "Scoring institutional trust (chunked):  46%|▍| 221/478 [2:12:20<2:06:21, 29.50s/"
     ]
    },
    {
     "name": "stdout",
     "output_type": "stream",
     "text": [
      "✅ Scored: 1991_Teenage Mutant Ninja Turtles 2 chunk 1\n",
      "✅ Scored: 1991_Teenage Mutant Ninja Turtles 2 chunk 2\n",
      "✅ Scored: 1991_Teenage Mutant Ninja Turtles 2 chunk 3\n",
      "✅ Scored: 1991_Teenage Mutant Ninja Turtles 2 chunk 4\n",
      "✅ Scored: 1991_Teenage Mutant Ninja Turtles 2 chunk 5\n",
      "✅ Scored: 1991_Teenage Mutant Ninja Turtles 2 chunk 6\n",
      "✅ Scored: 1991_Teenage Mutant Ninja Turtles 2 chunk 7\n",
      "✅ Scored: 1991_Teenage Mutant Ninja Turtles 2 chunk 8\n"
     ]
    },
    {
     "name": "stderr",
     "output_type": "stream",
     "text": [
      "Scoring institutional trust (chunked):  46%|▍| 222/478 [2:12:46<2:01:52, 28.56s/"
     ]
    },
    {
     "name": "stdout",
     "output_type": "stream",
     "text": [
      "✅ Scored: 2016_Suicide.Squad.2016.EXTENDED.720p.BluRay.x264-SPARKS chunk 1\n",
      "✅ Scored: 2016_Suicide.Squad.2016.EXTENDED.720p.BluRay.x264-SPARKS chunk 2\n",
      "✅ Scored: 2016_Suicide.Squad.2016.EXTENDED.720p.BluRay.x264-SPARKS chunk 3\n",
      "✅ Scored: 2016_Suicide.Squad.2016.EXTENDED.720p.BluRay.x264-SPARKS chunk 4\n",
      "✅ Scored: 2016_Suicide.Squad.2016.EXTENDED.720p.BluRay.x264-SPARKS chunk 5\n",
      "✅ Scored: 2016_Suicide.Squad.2016.EXTENDED.720p.BluRay.x264-SPARKS chunk 6\n",
      "✅ Scored: 2016_Suicide.Squad.2016.EXTENDED.720p.BluRay.x264-SPARKS chunk 7\n",
      "✅ Scored: 2016_Suicide.Squad.2016.EXTENDED.720p.BluRay.x264-SPARKS chunk 8\n",
      "✅ Scored: 2016_Suicide.Squad.2016.EXTENDED.720p.BluRay.x264-SPARKS chunk 9\n",
      "✅ Scored: 2016_Suicide.Squad.2016.EXTENDED.720p.BluRay.x264-SPARKS chunk 10\n"
     ]
    },
    {
     "name": "stderr",
     "output_type": "stream",
     "text": [
      "Scoring institutional trust (chunked):  47%|▍| 223/478 [2:13:24<2:12:49, 31.25s/"
     ]
    },
    {
     "name": "stdout",
     "output_type": "stream",
     "text": [
      "✅ Scored: 1991_City.Slickers.1991.1080p.X264.BluRay.X264-AMIABLE chunk 1\n",
      "✅ Scored: 1991_City.Slickers.1991.1080p.X264.BluRay.X264-AMIABLE chunk 2\n",
      "✅ Scored: 1991_City.Slickers.1991.1080p.X264.BluRay.X264-AMIABLE chunk 3\n",
      "✅ Scored: 1991_City.Slickers.1991.1080p.X264.BluRay.X264-AMIABLE chunk 4\n",
      "✅ Scored: 1991_City.Slickers.1991.1080p.X264.BluRay.X264-AMIABLE chunk 5\n",
      "✅ Scored: 1991_City.Slickers.1991.1080p.X264.BluRay.X264-AMIABLE chunk 6\n",
      "✅ Scored: 1991_City.Slickers.1991.1080p.X264.BluRay.X264-AMIABLE chunk 7\n",
      "✅ Scored: 1991_City.Slickers.1991.1080p.X264.BluRay.X264-AMIABLE chunk 8\n",
      "✅ Scored: 1991_City.Slickers.1991.1080p.X264.BluRay.X264-AMIABLE chunk 9\n",
      "✅ Scored: 1991_City.Slickers.1991.1080p.X264.BluRay.X264-AMIABLE chunk 10\n",
      "✅ Scored: 1991_City.Slickers.1991.1080p.X264.BluRay.X264-AMIABLE chunk 11\n",
      "✅ Scored: 1991_City.Slickers.1991.1080p.X264.BluRay.X264-AMIABLE chunk 12\n",
      "✅ Scored: 1991_City.Slickers.1991.1080p.X264.BluRay.X264-AMIABLE chunk 13\n"
     ]
    },
    {
     "name": "stderr",
     "output_type": "stream",
     "text": [
      "Scoring institutional trust (chunked):  47%|▍| 224/478 [2:14:09<2:29:30, 35.32s/"
     ]
    },
    {
     "name": "stdout",
     "output_type": "stream",
     "text": [
      "✅ Scored: 1994_Forrest Gump_1994_DVDrip_aviM720_en chunk 1\n",
      "✅ Scored: 1994_Forrest Gump_1994_DVDrip_aviM720_en chunk 2\n",
      "✅ Scored: 1994_Forrest Gump_1994_DVDrip_aviM720_en chunk 3\n",
      "✅ Scored: 1994_Forrest Gump_1994_DVDrip_aviM720_en chunk 4\n",
      "✅ Scored: 1994_Forrest Gump_1994_DVDrip_aviM720_en chunk 5\n",
      "✅ Scored: 1994_Forrest Gump_1994_DVDrip_aviM720_en chunk 6\n",
      "✅ Scored: 1994_Forrest Gump_1994_DVDrip_aviM720_en chunk 7\n",
      "✅ Scored: 1994_Forrest Gump_1994_DVDrip_aviM720_en chunk 8\n",
      "✅ Scored: 1994_Forrest Gump_1994_DVDrip_aviM720_en chunk 9\n",
      "✅ Scored: 1994_Forrest Gump_1994_DVDrip_aviM720_en chunk 10\n",
      "✅ Scored: 1994_Forrest Gump_1994_DVDrip_aviM720_en chunk 11\n",
      "✅ Scored: 1994_Forrest Gump_1994_DVDrip_aviM720_en chunk 12\n",
      "✅ Scored: 1994_Forrest Gump_1994_DVDrip_aviM720_en chunk 13\n"
     ]
    },
    {
     "name": "stderr",
     "output_type": "stream",
     "text": [
      "Scoring institutional trust (chunked):  47%|▍| 225/478 [2:14:55<2:43:13, 38.71s/"
     ]
    },
    {
     "name": "stdout",
     "output_type": "stream",
     "text": [
      "✅ Scored: 2003_Finding.Nemo.720p.HDTV.DTS.x264-CtrlHD chunk 1\n",
      "✅ Scored: 2003_Finding.Nemo.720p.HDTV.DTS.x264-CtrlHD chunk 2\n",
      "✅ Scored: 2003_Finding.Nemo.720p.HDTV.DTS.x264-CtrlHD chunk 3\n",
      "✅ Scored: 2003_Finding.Nemo.720p.HDTV.DTS.x264-CtrlHD chunk 4\n",
      "✅ Scored: 2003_Finding.Nemo.720p.HDTV.DTS.x264-CtrlHD chunk 5\n",
      "✅ Scored: 2003_Finding.Nemo.720p.HDTV.DTS.x264-CtrlHD chunk 6\n",
      "✅ Scored: 2003_Finding.Nemo.720p.HDTV.DTS.x264-CtrlHD chunk 7\n",
      "✅ Scored: 2003_Finding.Nemo.720p.HDTV.DTS.x264-CtrlHD chunk 8\n",
      "✅ Scored: 2003_Finding.Nemo.720p.HDTV.DTS.x264-CtrlHD chunk 9\n",
      "✅ Scored: 2003_Finding.Nemo.720p.HDTV.DTS.x264-CtrlHD chunk 10\n",
      "✅ Scored: 2003_Finding.Nemo.720p.HDTV.DTS.x264-CtrlHD chunk 11\n",
      "✅ Scored: 2003_Finding.Nemo.720p.HDTV.DTS.x264-CtrlHD chunk 12\n"
     ]
    },
    {
     "name": "stderr",
     "output_type": "stream",
     "text": [
      "Scoring institutional trust (chunked):  47%|▍| 226/478 [2:15:40<2:50:52, 40.68s/"
     ]
    },
    {
     "name": "stdout",
     "output_type": "stream",
     "text": [
      "✅ Scored: 2004_Spider-Man.2.1.2004.720p.BluRay.DTS.x264-ESiR.ENG chunk 1\n",
      "✅ Scored: 2004_Spider-Man.2.1.2004.720p.BluRay.DTS.x264-ESiR.ENG chunk 2\n",
      "✅ Scored: 2004_Spider-Man.2.1.2004.720p.BluRay.DTS.x264-ESiR.ENG chunk 3\n",
      "✅ Scored: 2004_Spider-Man.2.1.2004.720p.BluRay.DTS.x264-ESiR.ENG chunk 4\n",
      "✅ Scored: 2004_Spider-Man.2.1.2004.720p.BluRay.DTS.x264-ESiR.ENG chunk 5\n",
      "✅ Scored: 2004_Spider-Man.2.1.2004.720p.BluRay.DTS.x264-ESiR.ENG chunk 6\n",
      "✅ Scored: 2004_Spider-Man.2.1.2004.720p.BluRay.DTS.x264-ESiR.ENG chunk 7\n",
      "✅ Scored: 2004_Spider-Man.2.1.2004.720p.BluRay.DTS.x264-ESiR.ENG chunk 8\n",
      "✅ Scored: 2004_Spider-Man.2.1.2004.720p.BluRay.DTS.x264-ESiR.ENG chunk 9\n"
     ]
    },
    {
     "name": "stderr",
     "output_type": "stream",
     "text": [
      "Scoring institutional trust (chunked):  47%|▍| 227/478 [2:16:10<2:36:25, 37.39s/"
     ]
    },
    {
     "name": "stdout",
     "output_type": "stream",
     "text": [
      "✅ Scored: 1990_Pretty.Woman.1990.720p.BluRay.x264-AVS720.eng chunk 1\n",
      "✅ Scored: 1990_Pretty.Woman.1990.720p.BluRay.x264-AVS720.eng chunk 2\n",
      "✅ Scored: 1990_Pretty.Woman.1990.720p.BluRay.x264-AVS720.eng chunk 3\n",
      "✅ Scored: 1990_Pretty.Woman.1990.720p.BluRay.x264-AVS720.eng chunk 4\n",
      "✅ Scored: 1990_Pretty.Woman.1990.720p.BluRay.x264-AVS720.eng chunk 5\n",
      "✅ Scored: 1990_Pretty.Woman.1990.720p.BluRay.x264-AVS720.eng chunk 6\n",
      "✅ Scored: 1990_Pretty.Woman.1990.720p.BluRay.x264-AVS720.eng chunk 7\n",
      "✅ Scored: 1990_Pretty.Woman.1990.720p.BluRay.x264-AVS720.eng chunk 8\n",
      "✅ Scored: 1990_Pretty.Woman.1990.720p.BluRay.x264-AVS720.eng chunk 9\n",
      "✅ Scored: 1990_Pretty.Woman.1990.720p.BluRay.x264-AVS720.eng chunk 10\n",
      "✅ Scored: 1990_Pretty.Woman.1990.720p.BluRay.x264-AVS720.eng chunk 11\n",
      "✅ Scored: 1990_Pretty.Woman.1990.720p.BluRay.x264-AVS720.eng chunk 12\n",
      "✅ Scored: 1990_Pretty.Woman.1990.720p.BluRay.x264-AVS720.eng chunk 13\n",
      "✅ Scored: 1990_Pretty.Woman.1990.720p.BluRay.x264-AVS720.eng chunk 14\n",
      "✅ Scored: 1990_Pretty.Woman.1990.720p.BluRay.x264-AVS720.eng chunk 15\n"
     ]
    },
    {
     "name": "stderr",
     "output_type": "stream",
     "text": [
      "Scoring institutional trust (chunked):  48%|▍| 228/478 [2:17:04<2:56:07, 42.27s/"
     ]
    },
    {
     "name": "stdout",
     "output_type": "stream",
     "text": [
      "✅ Scored: 2007_Tranformers.2007.1080p.BluRay.DTS.x264-ESiR.ENG chunk 1\n",
      "✅ Scored: 2007_Tranformers.2007.1080p.BluRay.DTS.x264-ESiR.ENG chunk 2\n",
      "✅ Scored: 2007_Tranformers.2007.1080p.BluRay.DTS.x264-ESiR.ENG chunk 3\n",
      "✅ Scored: 2007_Tranformers.2007.1080p.BluRay.DTS.x264-ESiR.ENG chunk 4\n",
      "✅ Scored: 2007_Tranformers.2007.1080p.BluRay.DTS.x264-ESiR.ENG chunk 5\n",
      "✅ Scored: 2007_Tranformers.2007.1080p.BluRay.DTS.x264-ESiR.ENG chunk 6\n",
      "✅ Scored: 2007_Tranformers.2007.1080p.BluRay.DTS.x264-ESiR.ENG chunk 7\n",
      "✅ Scored: 2007_Tranformers.2007.1080p.BluRay.DTS.x264-ESiR.ENG chunk 8\n",
      "✅ Scored: 2007_Tranformers.2007.1080p.BluRay.DTS.x264-ESiR.ENG chunk 9\n",
      "✅ Scored: 2007_Tranformers.2007.1080p.BluRay.DTS.x264-ESiR.ENG chunk 10\n",
      "✅ Scored: 2007_Tranformers.2007.1080p.BluRay.DTS.x264-ESiR.ENG chunk 11\n",
      "✅ Scored: 2007_Tranformers.2007.1080p.BluRay.DTS.x264-ESiR.ENG chunk 12\n",
      "✅ Scored: 2007_Tranformers.2007.1080p.BluRay.DTS.x264-ESiR.ENG chunk 13\n",
      "✅ Scored: 2007_Tranformers.2007.1080p.BluRay.DTS.x264-ESiR.ENG chunk 14\n",
      "✅ Scored: 2007_Tranformers.2007.1080p.BluRay.DTS.x264-ESiR.ENG chunk 15\n",
      "✅ Scored: 2007_Tranformers.2007.1080p.BluRay.DTS.x264-ESiR.ENG chunk 16\n"
     ]
    },
    {
     "name": "stderr",
     "output_type": "stream",
     "text": [
      "Scoring institutional trust (chunked):  48%|▍| 229/478 [2:18:00<3:12:15, 46.33s/"
     ]
    },
    {
     "name": "stdout",
     "output_type": "stream",
     "text": [
      "✅ Scored: 2005_Madagascar[2005]DvDrip-aXXo.en chunk 1\n",
      "✅ Scored: 2005_Madagascar[2005]DvDrip-aXXo.en chunk 2\n",
      "✅ Scored: 2005_Madagascar[2005]DvDrip-aXXo.en chunk 3\n",
      "✅ Scored: 2005_Madagascar[2005]DvDrip-aXXo.en chunk 4\n",
      "✅ Scored: 2005_Madagascar[2005]DvDrip-aXXo.en chunk 5\n",
      "✅ Scored: 2005_Madagascar[2005]DvDrip-aXXo.en chunk 6\n",
      "✅ Scored: 2005_Madagascar[2005]DvDrip-aXXo.en chunk 7\n",
      "✅ Scored: 2005_Madagascar[2005]DvDrip-aXXo.en chunk 8\n",
      "✅ Scored: 2005_Madagascar[2005]DvDrip-aXXo.en chunk 9\n"
     ]
    },
    {
     "name": "stderr",
     "output_type": "stream",
     "text": [
      "Scoring institutional trust (chunked):  48%|▍| 230/478 [2:18:30<2:51:06, 41.40s/"
     ]
    },
    {
     "name": "stdout",
     "output_type": "stream",
     "text": [
      "✅ Scored: 2018_Ant Man and the Wasp 2018 New HDCAM-X264-Sexxy chunk 1\n",
      "✅ Scored: 2018_Ant Man and the Wasp 2018 New HDCAM-X264-Sexxy chunk 2\n",
      "✅ Scored: 2018_Ant Man and the Wasp 2018 New HDCAM-X264-Sexxy chunk 3\n",
      "✅ Scored: 2018_Ant Man and the Wasp 2018 New HDCAM-X264-Sexxy chunk 4\n",
      "✅ Scored: 2018_Ant Man and the Wasp 2018 New HDCAM-X264-Sexxy chunk 5\n",
      "✅ Scored: 2018_Ant Man and the Wasp 2018 New HDCAM-X264-Sexxy chunk 6\n",
      "✅ Scored: 2018_Ant Man and the Wasp 2018 New HDCAM-X264-Sexxy chunk 7\n",
      "✅ Scored: 2018_Ant Man and the Wasp 2018 New HDCAM-X264-Sexxy chunk 8\n",
      "✅ Scored: 2018_Ant Man and the Wasp 2018 New HDCAM-X264-Sexxy chunk 9\n",
      "✅ Scored: 2018_Ant Man and the Wasp 2018 New HDCAM-X264-Sexxy chunk 10\n",
      "✅ Scored: 2018_Ant Man and the Wasp 2018 New HDCAM-X264-Sexxy chunk 11\n"
     ]
    },
    {
     "name": "stderr",
     "output_type": "stream",
     "text": [
      "Scoring institutional trust (chunked):  48%|▍| 231/478 [2:19:06<2:44:52, 40.05s/"
     ]
    },
    {
     "name": "stdout",
     "output_type": "stream",
     "text": [
      "✅ Scored: 2002_Spider-Man.2002.720p.BluRay.DTS.x264-ESiR.ENG chunk 1\n",
      "✅ Scored: 2002_Spider-Man.2002.720p.BluRay.DTS.x264-ESiR.ENG chunk 2\n",
      "✅ Scored: 2002_Spider-Man.2002.720p.BluRay.DTS.x264-ESiR.ENG chunk 3\n",
      "✅ Scored: 2002_Spider-Man.2002.720p.BluRay.DTS.x264-ESiR.ENG chunk 4\n",
      "✅ Scored: 2002_Spider-Man.2002.720p.BluRay.DTS.x264-ESiR.ENG chunk 5\n",
      "✅ Scored: 2002_Spider-Man.2002.720p.BluRay.DTS.x264-ESiR.ENG chunk 6\n",
      "✅ Scored: 2002_Spider-Man.2002.720p.BluRay.DTS.x264-ESiR.ENG chunk 7\n",
      "✅ Scored: 2002_Spider-Man.2002.720p.BluRay.DTS.x264-ESiR.ENG chunk 8\n",
      "✅ Scored: 2002_Spider-Man.2002.720p.BluRay.DTS.x264-ESiR.ENG chunk 9\n"
     ]
    },
    {
     "name": "stderr",
     "output_type": "stream",
     "text": [
      "Scoring institutional trust (chunked):  49%|▍| 232/478 [2:19:40<2:36:30, 38.17s/"
     ]
    },
    {
     "name": "stdout",
     "output_type": "stream",
     "text": [
      "✅ Scored: 1988_Moonstruck.1987.DVDRip.XviD-Shoo.ENG chunk 1\n",
      "✅ Scored: 1988_Moonstruck.1987.DVDRip.XviD-Shoo.ENG chunk 2\n",
      "✅ Scored: 1988_Moonstruck.1987.DVDRip.XviD-Shoo.ENG chunk 3\n",
      "✅ Scored: 1988_Moonstruck.1987.DVDRip.XviD-Shoo.ENG chunk 4\n",
      "✅ Scored: 1988_Moonstruck.1987.DVDRip.XviD-Shoo.ENG chunk 5\n",
      "✅ Scored: 1988_Moonstruck.1987.DVDRip.XviD-Shoo.ENG chunk 6\n",
      "✅ Scored: 1988_Moonstruck.1987.DVDRip.XviD-Shoo.ENG chunk 7\n",
      "✅ Scored: 1988_Moonstruck.1987.DVDRip.XviD-Shoo.ENG chunk 8\n",
      "✅ Scored: 1988_Moonstruck.1987.DVDRip.XviD-Shoo.ENG chunk 9\n"
     ]
    },
    {
     "name": "stderr",
     "output_type": "stream",
     "text": [
      "Scoring institutional trust (chunked):  49%|▍| 233/478 [2:20:12<2:28:15, 36.31s/"
     ]
    },
    {
     "name": "stdout",
     "output_type": "stream",
     "text": [
      "✅ Scored: 1981_History.Of.The.World.Part.I.1981.1080p.BluRay.x264-CiNEFiLE.ENG chunk 1\n",
      "✅ Scored: 1981_History.Of.The.World.Part.I.1981.1080p.BluRay.x264-CiNEFiLE.ENG chunk 2\n",
      "✅ Scored: 1981_History.Of.The.World.Part.I.1981.1080p.BluRay.x264-CiNEFiLE.ENG chunk 3\n",
      "✅ Scored: 1981_History.Of.The.World.Part.I.1981.1080p.BluRay.x264-CiNEFiLE.ENG chunk 4\n",
      "✅ Scored: 1981_History.Of.The.World.Part.I.1981.1080p.BluRay.x264-CiNEFiLE.ENG chunk 5\n",
      "✅ Scored: 1981_History.Of.The.World.Part.I.1981.1080p.BluRay.x264-CiNEFiLE.ENG chunk 6\n",
      "✅ Scored: 1981_History.Of.The.World.Part.I.1981.1080p.BluRay.x264-CiNEFiLE.ENG chunk 7\n",
      "✅ Scored: 1981_History.Of.The.World.Part.I.1981.1080p.BluRay.x264-CiNEFiLE.ENG chunk 8\n",
      "✅ Scored: 1981_History.Of.The.World.Part.I.1981.1080p.BluRay.x264-CiNEFiLE.ENG chunk 9\n"
     ]
    },
    {
     "name": "stderr",
     "output_type": "stream",
     "text": [
      "Scoring institutional trust (chunked):  49%|▍| 234/478 [2:20:43<2:21:08, 34.71s/"
     ]
    },
    {
     "name": "stdout",
     "output_type": "stream",
     "text": [
      "✅ Scored: 2020_Sonic.The.Hedgehog.2020.720p.WEBRip.x264.AAC-.YTS.MX chunk 1\n",
      "✅ Scored: 2020_Sonic.The.Hedgehog.2020.720p.WEBRip.x264.AAC-.YTS.MX chunk 2\n",
      "✅ Scored: 2020_Sonic.The.Hedgehog.2020.720p.WEBRip.x264.AAC-.YTS.MX chunk 3\n",
      "✅ Scored: 2020_Sonic.The.Hedgehog.2020.720p.WEBRip.x264.AAC-.YTS.MX chunk 4\n",
      "✅ Scored: 2020_Sonic.The.Hedgehog.2020.720p.WEBRip.x264.AAC-.YTS.MX chunk 5\n",
      "✅ Scored: 2020_Sonic.The.Hedgehog.2020.720p.WEBRip.x264.AAC-.YTS.MX chunk 6\n",
      "✅ Scored: 2020_Sonic.The.Hedgehog.2020.720p.WEBRip.x264.AAC-.YTS.MX chunk 7\n",
      "✅ Scored: 2020_Sonic.The.Hedgehog.2020.720p.WEBRip.x264.AAC-.YTS.MX chunk 8\n",
      "✅ Scored: 2020_Sonic.The.Hedgehog.2020.720p.WEBRip.x264.AAC-.YTS.MX chunk 9\n",
      "✅ Scored: 2020_Sonic.The.Hedgehog.2020.720p.WEBRip.x264.AAC-.YTS.MX chunk 10\n"
     ]
    },
    {
     "name": "stderr",
     "output_type": "stream",
     "text": [
      "Scoring institutional trust (chunked):  49%|▍| 235/478 [2:21:21<2:23:55, 35.54s/"
     ]
    },
    {
     "name": "stdout",
     "output_type": "stream",
     "text": [
      "✅ Scored: 1989_Parenthood (1989) chunk 1\n",
      "✅ Scored: 1989_Parenthood (1989) chunk 2\n",
      "✅ Scored: 1989_Parenthood (1989) chunk 3\n",
      "✅ Scored: 1989_Parenthood (1989) chunk 4\n",
      "✅ Scored: 1989_Parenthood (1989) chunk 5\n",
      "✅ Scored: 1989_Parenthood (1989) chunk 6\n",
      "✅ Scored: 1989_Parenthood (1989) chunk 7\n",
      "✅ Scored: 1989_Parenthood (1989) chunk 8\n",
      "✅ Scored: 1989_Parenthood (1989) chunk 9\n",
      "✅ Scored: 1989_Parenthood (1989) chunk 10\n",
      "✅ Scored: 1989_Parenthood (1989) chunk 11\n",
      "✅ Scored: 1989_Parenthood (1989) chunk 12\n",
      "✅ Scored: 1989_Parenthood (1989) chunk 13\n"
     ]
    },
    {
     "name": "stderr",
     "output_type": "stream",
     "text": [
      "Scoring institutional trust (chunked):  49%|▍| 236/478 [2:22:10<2:39:38, 39.58s/"
     ]
    },
    {
     "name": "stdout",
     "output_type": "stream",
     "text": [
      "✅ Scored: 1994_The.Santa.Clause.1994.DVDRip.XviD.iNTERNAL-iLs chunk 1\n",
      "✅ Scored: 1994_The.Santa.Clause.1994.DVDRip.XviD.iNTERNAL-iLs chunk 2\n",
      "✅ Scored: 1994_The.Santa.Clause.1994.DVDRip.XviD.iNTERNAL-iLs chunk 3\n",
      "✅ Scored: 1994_The.Santa.Clause.1994.DVDRip.XviD.iNTERNAL-iLs chunk 4\n",
      "✅ Scored: 1994_The.Santa.Clause.1994.DVDRip.XviD.iNTERNAL-iLs chunk 5\n",
      "✅ Scored: 1994_The.Santa.Clause.1994.DVDRip.XviD.iNTERNAL-iLs chunk 6\n",
      "✅ Scored: 1994_The.Santa.Clause.1994.DVDRip.XviD.iNTERNAL-iLs chunk 7\n",
      "✅ Scored: 1994_The.Santa.Clause.1994.DVDRip.XviD.iNTERNAL-iLs chunk 8\n",
      "✅ Scored: 1994_The.Santa.Clause.1994.DVDRip.XviD.iNTERNAL-iLs chunk 9\n",
      "✅ Scored: 1994_The.Santa.Clause.1994.DVDRip.XviD.iNTERNAL-iLs chunk 10\n",
      "✅ Scored: 1994_The.Santa.Clause.1994.DVDRip.XviD.iNTERNAL-iLs chunk 11\n"
     ]
    },
    {
     "name": "stderr",
     "output_type": "stream",
     "text": [
      "Scoring institutional trust (chunked):  50%|▍| 237/478 [2:22:49<2:38:15, 39.40s/"
     ]
    },
    {
     "name": "stdout",
     "output_type": "stream",
     "text": [
      "✅ Scored: 2014_Maleficent.2014.720p.BluRay.x264-SPARKS chunk 1\n",
      "✅ Scored: 2014_Maleficent.2014.720p.BluRay.x264-SPARKS chunk 2\n",
      "✅ Scored: 2014_Maleficent.2014.720p.BluRay.x264-SPARKS chunk 3\n",
      "✅ Scored: 2014_Maleficent.2014.720p.BluRay.x264-SPARKS chunk 4\n",
      "✅ Scored: 2014_Maleficent.2014.720p.BluRay.x264-SPARKS chunk 5\n"
     ]
    },
    {
     "name": "stderr",
     "output_type": "stream",
     "text": [
      "Scoring institutional trust (chunked):  50%|▍| 238/478 [2:23:06<2:11:16, 32.82s/"
     ]
    },
    {
     "name": "stdout",
     "output_type": "stream",
     "text": [
      "✅ Scored: 1989_Ghostbusters.II.1989.720p.BluRay.X264-AMIABLE-HI chunk 1\n",
      "✅ Scored: 1989_Ghostbusters.II.1989.720p.BluRay.X264-AMIABLE-HI chunk 2\n",
      "✅ Scored: 1989_Ghostbusters.II.1989.720p.BluRay.X264-AMIABLE-HI chunk 3\n",
      "✅ Scored: 1989_Ghostbusters.II.1989.720p.BluRay.X264-AMIABLE-HI chunk 4\n",
      "✅ Scored: 1989_Ghostbusters.II.1989.720p.BluRay.X264-AMIABLE-HI chunk 5\n",
      "✅ Scored: 1989_Ghostbusters.II.1989.720p.BluRay.X264-AMIABLE-HI chunk 6\n",
      "✅ Scored: 1989_Ghostbusters.II.1989.720p.BluRay.X264-AMIABLE-HI chunk 7\n",
      "✅ Scored: 1989_Ghostbusters.II.1989.720p.BluRay.X264-AMIABLE-HI chunk 8\n",
      "✅ Scored: 1989_Ghostbusters.II.1989.720p.BluRay.X264-AMIABLE-HI chunk 9\n",
      "✅ Scored: 1989_Ghostbusters.II.1989.720p.BluRay.X264-AMIABLE-HI chunk 10\n",
      "✅ Scored: 1989_Ghostbusters.II.1989.720p.BluRay.X264-AMIABLE-HI chunk 11\n",
      "✅ Scored: 1989_Ghostbusters.II.1989.720p.BluRay.X264-AMIABLE-HI chunk 12\n",
      "✅ Scored: 1989_Ghostbusters.II.1989.720p.BluRay.X264-AMIABLE-HI chunk 13\n",
      "✅ Scored: 1989_Ghostbusters.II.1989.720p.BluRay.X264-AMIABLE-HI chunk 14\n"
     ]
    },
    {
     "name": "stderr",
     "output_type": "stream",
     "text": [
      "Scoring institutional trust (chunked):  50%|▌| 239/478 [2:23:55<2:30:04, 37.68s/"
     ]
    },
    {
     "name": "stdout",
     "output_type": "stream",
     "text": [
      "✅ Scored: 2020_Jumanji.The.Next.Level.2019.HC.720p.HDRip.800MB.x264-GalaxyRG chunk 1\n",
      "✅ Scored: 2020_Jumanji.The.Next.Level.2019.HC.720p.HDRip.800MB.x264-GalaxyRG chunk 2\n",
      "✅ Scored: 2020_Jumanji.The.Next.Level.2019.HC.720p.HDRip.800MB.x264-GalaxyRG chunk 3\n",
      "✅ Scored: 2020_Jumanji.The.Next.Level.2019.HC.720p.HDRip.800MB.x264-GalaxyRG chunk 4\n",
      "✅ Scored: 2020_Jumanji.The.Next.Level.2019.HC.720p.HDRip.800MB.x264-GalaxyRG chunk 5\n",
      "✅ Scored: 2020_Jumanji.The.Next.Level.2019.HC.720p.HDRip.800MB.x264-GalaxyRG chunk 6\n",
      "✅ Scored: 2020_Jumanji.The.Next.Level.2019.HC.720p.HDRip.800MB.x264-GalaxyRG chunk 7\n",
      "✅ Scored: 2020_Jumanji.The.Next.Level.2019.HC.720p.HDRip.800MB.x264-GalaxyRG chunk 8\n",
      "✅ Scored: 2020_Jumanji.The.Next.Level.2019.HC.720p.HDRip.800MB.x264-GalaxyRG chunk 9\n",
      "✅ Scored: 2020_Jumanji.The.Next.Level.2019.HC.720p.HDRip.800MB.x264-GalaxyRG chunk 10\n",
      "✅ Scored: 2020_Jumanji.The.Next.Level.2019.HC.720p.HDRip.800MB.x264-GalaxyRG chunk 11\n"
     ]
    },
    {
     "name": "stderr",
     "output_type": "stream",
     "text": [
      "Scoring institutional trust (chunked):  50%|▌| 240/478 [2:24:34<2:30:26, 37.93s/"
     ]
    },
    {
     "name": "stdout",
     "output_type": "stream",
     "text": [
      "✅ Scored: 2011_Transformers.Dark.Of.The.Moon.2011.BluRay.720p.DTS.x264-CHD.eng chunk 1\n",
      "✅ Scored: 2011_Transformers.Dark.Of.The.Moon.2011.BluRay.720p.DTS.x264-CHD.eng chunk 2\n",
      "✅ Scored: 2011_Transformers.Dark.Of.The.Moon.2011.BluRay.720p.DTS.x264-CHD.eng chunk 3\n",
      "✅ Scored: 2011_Transformers.Dark.Of.The.Moon.2011.BluRay.720p.DTS.x264-CHD.eng chunk 4\n",
      "✅ Scored: 2011_Transformers.Dark.Of.The.Moon.2011.BluRay.720p.DTS.x264-CHD.eng chunk 5\n",
      "✅ Scored: 2011_Transformers.Dark.Of.The.Moon.2011.BluRay.720p.DTS.x264-CHD.eng chunk 6\n",
      "✅ Scored: 2011_Transformers.Dark.Of.The.Moon.2011.BluRay.720p.DTS.x264-CHD.eng chunk 7\n",
      "✅ Scored: 2011_Transformers.Dark.Of.The.Moon.2011.BluRay.720p.DTS.x264-CHD.eng chunk 8\n",
      "✅ Scored: 2011_Transformers.Dark.Of.The.Moon.2011.BluRay.720p.DTS.x264-CHD.eng chunk 9\n",
      "✅ Scored: 2011_Transformers.Dark.Of.The.Moon.2011.BluRay.720p.DTS.x264-CHD.eng chunk 10\n",
      "✅ Scored: 2011_Transformers.Dark.Of.The.Moon.2011.BluRay.720p.DTS.x264-CHD.eng chunk 11\n",
      "✅ Scored: 2011_Transformers.Dark.Of.The.Moon.2011.BluRay.720p.DTS.x264-CHD.eng chunk 12\n",
      "✅ Scored: 2011_Transformers.Dark.Of.The.Moon.2011.BluRay.720p.DTS.x264-CHD.eng chunk 13\n",
      "✅ Scored: 2011_Transformers.Dark.Of.The.Moon.2011.BluRay.720p.DTS.x264-CHD.eng chunk 14\n",
      "✅ Scored: 2011_Transformers.Dark.Of.The.Moon.2011.BluRay.720p.DTS.x264-CHD.eng chunk 15\n",
      "✅ Scored: 2011_Transformers.Dark.Of.The.Moon.2011.BluRay.720p.DTS.x264-CHD.eng chunk 16\n"
     ]
    },
    {
     "name": "stderr",
     "output_type": "stream",
     "text": [
      "Scoring institutional trust (chunked):  50%|▌| 241/478 [2:25:30<2:51:40, 43.46s/"
     ]
    },
    {
     "name": "stdout",
     "output_type": "stream",
     "text": [
      "✅ Scored: 1990_back.to.the.future.part.3.1990.720p.bluray.x264-nezu.eng chunk 1\n",
      "✅ Scored: 1990_back.to.the.future.part.3.1990.720p.bluray.x264-nezu.eng chunk 2\n",
      "✅ Scored: 1990_back.to.the.future.part.3.1990.720p.bluray.x264-nezu.eng chunk 3\n",
      "✅ Scored: 1990_back.to.the.future.part.3.1990.720p.bluray.x264-nezu.eng chunk 4\n",
      "✅ Scored: 1990_back.to.the.future.part.3.1990.720p.bluray.x264-nezu.eng chunk 5\n",
      "✅ Scored: 1990_back.to.the.future.part.3.1990.720p.bluray.x264-nezu.eng chunk 6\n",
      "✅ Scored: 1990_back.to.the.future.part.3.1990.720p.bluray.x264-nezu.eng chunk 7\n",
      "✅ Scored: 1990_back.to.the.future.part.3.1990.720p.bluray.x264-nezu.eng chunk 8\n",
      "✅ Scored: 1990_back.to.the.future.part.3.1990.720p.bluray.x264-nezu.eng chunk 9\n",
      "✅ Scored: 1990_back.to.the.future.part.3.1990.720p.bluray.x264-nezu.eng chunk 10\n"
     ]
    },
    {
     "name": "stderr",
     "output_type": "stream",
     "text": [
      "Scoring institutional trust (chunked):  51%|▌| 242/478 [2:26:04<2:39:31, 40.56s/"
     ]
    },
    {
     "name": "stdout",
     "output_type": "stream",
     "text": [
      "✅ Scored: 1987_Lethal.Weapon.1.1987.1080p.BluRay.x264-CtrlHD.ENG chunk 1\n",
      "✅ Scored: 1987_Lethal.Weapon.1.1987.1080p.BluRay.x264-CtrlHD.ENG chunk 2\n",
      "✅ Scored: 1987_Lethal.Weapon.1.1987.1080p.BluRay.x264-CtrlHD.ENG chunk 3\n",
      "✅ Scored: 1987_Lethal.Weapon.1.1987.1080p.BluRay.x264-CtrlHD.ENG chunk 4\n",
      "✅ Scored: 1987_Lethal.Weapon.1.1987.1080p.BluRay.x264-CtrlHD.ENG chunk 5\n",
      "✅ Scored: 1987_Lethal.Weapon.1.1987.1080p.BluRay.x264-CtrlHD.ENG chunk 6\n",
      "✅ Scored: 1987_Lethal.Weapon.1.1987.1080p.BluRay.x264-CtrlHD.ENG chunk 7\n",
      "✅ Scored: 1987_Lethal.Weapon.1.1987.1080p.BluRay.x264-CtrlHD.ENG chunk 8\n"
     ]
    },
    {
     "name": "stderr",
     "output_type": "stream",
     "text": [
      "Scoring institutional trust (chunked):  51%|▌| 243/478 [2:26:32<2:23:50, 36.73s/"
     ]
    },
    {
     "name": "stdout",
     "output_type": "stream",
     "text": [
      "✅ Scored: 1993_Mrs.Doubtfire.1993.720p.BluRay.x264-SiNNERS chunk 1\n",
      "✅ Scored: 1993_Mrs.Doubtfire.1993.720p.BluRay.x264-SiNNERS chunk 2\n",
      "✅ Scored: 1993_Mrs.Doubtfire.1993.720p.BluRay.x264-SiNNERS chunk 3\n",
      "✅ Scored: 1993_Mrs.Doubtfire.1993.720p.BluRay.x264-SiNNERS chunk 4\n",
      "✅ Scored: 1993_Mrs.Doubtfire.1993.720p.BluRay.x264-SiNNERS chunk 5\n",
      "✅ Scored: 1993_Mrs.Doubtfire.1993.720p.BluRay.x264-SiNNERS chunk 6\n",
      "✅ Scored: 1993_Mrs.Doubtfire.1993.720p.BluRay.x264-SiNNERS chunk 7\n",
      "✅ Scored: 1993_Mrs.Doubtfire.1993.720p.BluRay.x264-SiNNERS chunk 8\n",
      "✅ Scored: 1993_Mrs.Doubtfire.1993.720p.BluRay.x264-SiNNERS chunk 9\n",
      "✅ Scored: 1993_Mrs.Doubtfire.1993.720p.BluRay.x264-SiNNERS chunk 10\n",
      "✅ Scored: 1993_Mrs.Doubtfire.1993.720p.BluRay.x264-SiNNERS chunk 11\n",
      "✅ Scored: 1993_Mrs.Doubtfire.1993.720p.BluRay.x264-SiNNERS chunk 12\n",
      "✅ Scored: 1993_Mrs.Doubtfire.1993.720p.BluRay.x264-SiNNERS chunk 13\n",
      "✅ Scored: 1993_Mrs.Doubtfire.1993.720p.BluRay.x264-SiNNERS chunk 14\n"
     ]
    },
    {
     "name": "stderr",
     "output_type": "stream",
     "text": [
      "Scoring institutional trust (chunked):  51%|▌| 244/478 [2:27:22<2:39:41, 40.95s/"
     ]
    },
    {
     "name": "stdout",
     "output_type": "stream",
     "text": [
      "✅ Scored: 2005_Batman.Begins.2005.1080p.HDDVD.x264-hV.ENG chunk 1\n",
      "✅ Scored: 2005_Batman.Begins.2005.1080p.HDDVD.x264-hV.ENG chunk 2\n",
      "✅ Scored: 2005_Batman.Begins.2005.1080p.HDDVD.x264-hV.ENG chunk 3\n",
      "✅ Scored: 2005_Batman.Begins.2005.1080p.HDDVD.x264-hV.ENG chunk 4\n",
      "✅ Scored: 2005_Batman.Begins.2005.1080p.HDDVD.x264-hV.ENG chunk 5\n",
      "✅ Scored: 2005_Batman.Begins.2005.1080p.HDDVD.x264-hV.ENG chunk 6\n",
      "✅ Scored: 2005_Batman.Begins.2005.1080p.HDDVD.x264-hV.ENG chunk 7\n",
      "✅ Scored: 2005_Batman.Begins.2005.1080p.HDDVD.x264-hV.ENG chunk 8\n",
      "✅ Scored: 2005_Batman.Begins.2005.1080p.HDDVD.x264-hV.ENG chunk 9\n",
      "✅ Scored: 2005_Batman.Begins.2005.1080p.HDDVD.x264-hV.ENG chunk 10\n",
      "✅ Scored: 2005_Batman.Begins.2005.1080p.HDDVD.x264-hV.ENG chunk 11\n"
     ]
    },
    {
     "name": "stderr",
     "output_type": "stream",
     "text": [
      "Scoring institutional trust (chunked):  51%|▌| 245/478 [2:28:00<2:34:57, 39.90s/"
     ]
    },
    {
     "name": "stdout",
     "output_type": "stream",
     "text": [
      "✅ Scored: 1985_Cocoon.1985.1080p.BluRay.x264-CiNEFiLE.ENG chunk 1\n",
      "✅ Scored: 1985_Cocoon.1985.1080p.BluRay.x264-CiNEFiLE.ENG chunk 2\n",
      "✅ Scored: 1985_Cocoon.1985.1080p.BluRay.x264-CiNEFiLE.ENG chunk 3\n",
      "✅ Scored: 1985_Cocoon.1985.1080p.BluRay.x264-CiNEFiLE.ENG chunk 4\n",
      "✅ Scored: 1985_Cocoon.1985.1080p.BluRay.x264-CiNEFiLE.ENG chunk 5\n",
      "✅ Scored: 1985_Cocoon.1985.1080p.BluRay.x264-CiNEFiLE.ENG chunk 6\n",
      "✅ Scored: 1985_Cocoon.1985.1080p.BluRay.x264-CiNEFiLE.ENG chunk 7\n",
      "✅ Scored: 1985_Cocoon.1985.1080p.BluRay.x264-CiNEFiLE.ENG chunk 8\n"
     ]
    },
    {
     "name": "stderr",
     "output_type": "stream",
     "text": [
      "Scoring institutional trust (chunked):  51%|▌| 246/478 [2:28:29<2:22:14, 36.79s/"
     ]
    },
    {
     "name": "stdout",
     "output_type": "stream",
     "text": [
      "✅ Scored: 1989_Dead Poets Society 1989 ENG 25fps SDH utf-8 chunk 1\n",
      "✅ Scored: 1989_Dead Poets Society 1989 ENG 25fps SDH utf-8 chunk 2\n",
      "✅ Scored: 1989_Dead Poets Society 1989 ENG 25fps SDH utf-8 chunk 3\n",
      "✅ Scored: 1989_Dead Poets Society 1989 ENG 25fps SDH utf-8 chunk 4\n",
      "✅ Scored: 1989_Dead Poets Society 1989 ENG 25fps SDH utf-8 chunk 5\n",
      "✅ Scored: 1989_Dead Poets Society 1989 ENG 25fps SDH utf-8 chunk 6\n",
      "✅ Scored: 1989_Dead Poets Society 1989 ENG 25fps SDH utf-8 chunk 7\n",
      "✅ Scored: 1989_Dead Poets Society 1989 ENG 25fps SDH utf-8 chunk 8\n",
      "✅ Scored: 1989_Dead Poets Society 1989 ENG 25fps SDH utf-8 chunk 9\n",
      "✅ Scored: 1989_Dead Poets Society 1989 ENG 25fps SDH utf-8 chunk 10\n",
      "✅ Scored: 1989_Dead Poets Society 1989 ENG 25fps SDH utf-8 chunk 11\n",
      "✅ Scored: 1989_Dead Poets Society 1989 ENG 25fps SDH utf-8 chunk 12\n",
      "✅ Scored: 1989_Dead Poets Society 1989 ENG 25fps SDH utf-8 chunk 13\n",
      "✅ Scored: 1989_Dead Poets Society 1989 ENG 25fps SDH utf-8 chunk 14\n",
      "✅ Scored: 1989_Dead Poets Society 1989 ENG 25fps SDH utf-8 chunk 15\n",
      "✅ Scored: 1989_Dead Poets Society 1989 ENG 25fps SDH utf-8 chunk 16\n",
      "✅ Scored: 1989_Dead Poets Society 1989 ENG 25fps SDH utf-8 chunk 17\n"
     ]
    },
    {
     "name": "stderr",
     "output_type": "stream",
     "text": [
      "Scoring institutional trust (chunked):  52%|▌| 247/478 [2:29:28<2:47:22, 43.47s/"
     ]
    },
    {
     "name": "stdout",
     "output_type": "stream",
     "text": [
      "✅ Scored: 2016_Finding.Dory.2016.720p.BluRay.X264-AMIABLE chunk 1\n",
      "✅ Scored: 2016_Finding.Dory.2016.720p.BluRay.X264-AMIABLE chunk 2\n",
      "✅ Scored: 2016_Finding.Dory.2016.720p.BluRay.X264-AMIABLE chunk 3\n",
      "✅ Scored: 2016_Finding.Dory.2016.720p.BluRay.X264-AMIABLE chunk 4\n",
      "✅ Scored: 2016_Finding.Dory.2016.720p.BluRay.X264-AMIABLE chunk 5\n",
      "✅ Scored: 2016_Finding.Dory.2016.720p.BluRay.X264-AMIABLE chunk 6\n",
      "✅ Scored: 2016_Finding.Dory.2016.720p.BluRay.X264-AMIABLE chunk 7\n",
      "✅ Scored: 2016_Finding.Dory.2016.720p.BluRay.X264-AMIABLE chunk 8\n",
      "✅ Scored: 2016_Finding.Dory.2016.720p.BluRay.X264-AMIABLE chunk 9\n",
      "✅ Scored: 2016_Finding.Dory.2016.720p.BluRay.X264-AMIABLE chunk 10\n",
      "✅ Scored: 2016_Finding.Dory.2016.720p.BluRay.X264-AMIABLE chunk 11\n",
      "✅ Scored: 2016_Finding.Dory.2016.720p.BluRay.X264-AMIABLE chunk 12\n",
      "✅ Scored: 2016_Finding.Dory.2016.720p.BluRay.X264-AMIABLE chunk 13\n"
     ]
    },
    {
     "name": "stderr",
     "output_type": "stream",
     "text": [
      "Scoring institutional trust (chunked):  52%|▌| 248/478 [2:30:14<2:48:56, 44.07s/"
     ]
    },
    {
     "name": "stdout",
     "output_type": "stream",
     "text": [
      "✅ Scored: 1984_Ghostbusters.1984.SE.DVDRip.XviD-UnSeeN.en chunk 1\n",
      "✅ Scored: 1984_Ghostbusters.1984.SE.DVDRip.XviD-UnSeeN.en chunk 2\n",
      "✅ Scored: 1984_Ghostbusters.1984.SE.DVDRip.XviD-UnSeeN.en chunk 3\n",
      "✅ Scored: 1984_Ghostbusters.1984.SE.DVDRip.XviD-UnSeeN.en chunk 4\n",
      "✅ Scored: 1984_Ghostbusters.1984.SE.DVDRip.XviD-UnSeeN.en chunk 5\n",
      "✅ Scored: 1984_Ghostbusters.1984.SE.DVDRip.XviD-UnSeeN.en chunk 6\n",
      "✅ Scored: 1984_Ghostbusters.1984.SE.DVDRip.XviD-UnSeeN.en chunk 7\n",
      "✅ Scored: 1984_Ghostbusters.1984.SE.DVDRip.XviD-UnSeeN.en chunk 8\n",
      "✅ Scored: 1984_Ghostbusters.1984.SE.DVDRip.XviD-UnSeeN.en chunk 9\n",
      "⚠️ Rate limit hit. Waiting 60 seconds...\n",
      "✅ Scored: 1984_Ghostbusters.1984.SE.DVDRip.XviD-UnSeeN.en chunk 10\n"
     ]
    },
    {
     "name": "stderr",
     "output_type": "stream",
     "text": [
      "Scoring institutional trust (chunked):  52%|▌| 249/478 [2:31:48<3:44:57, 58.94s/"
     ]
    },
    {
     "name": "stdout",
     "output_type": "stream",
     "text": [
      "✅ Scored: 2001_Pearl.Harbor.2001.DVD9.720p.BluRay.x264-hV chunk 1\n",
      "✅ Scored: 2001_Pearl.Harbor.2001.DVD9.720p.BluRay.x264-hV chunk 2\n",
      "✅ Scored: 2001_Pearl.Harbor.2001.DVD9.720p.BluRay.x264-hV chunk 3\n",
      "✅ Scored: 2001_Pearl.Harbor.2001.DVD9.720p.BluRay.x264-hV chunk 4\n",
      "✅ Scored: 2001_Pearl.Harbor.2001.DVD9.720p.BluRay.x264-hV chunk 5\n",
      "✅ Scored: 2001_Pearl.Harbor.2001.DVD9.720p.BluRay.x264-hV chunk 6\n",
      "✅ Scored: 2001_Pearl.Harbor.2001.DVD9.720p.BluRay.x264-hV chunk 7\n",
      "✅ Scored: 2001_Pearl.Harbor.2001.DVD9.720p.BluRay.x264-hV chunk 8\n",
      "✅ Scored: 2001_Pearl.Harbor.2001.DVD9.720p.BluRay.x264-hV chunk 9\n",
      "✅ Scored: 2001_Pearl.Harbor.2001.DVD9.720p.BluRay.x264-hV chunk 10\n",
      "✅ Scored: 2001_Pearl.Harbor.2001.DVD9.720p.BluRay.x264-hV chunk 11\n",
      "✅ Scored: 2001_Pearl.Harbor.2001.DVD9.720p.BluRay.x264-hV chunk 12\n",
      "✅ Scored: 2001_Pearl.Harbor.2001.DVD9.720p.BluRay.x264-hV chunk 13\n",
      "✅ Scored: 2001_Pearl.Harbor.2001.DVD9.720p.BluRay.x264-hV chunk 14\n",
      "✅ Scored: 2001_Pearl.Harbor.2001.DVD9.720p.BluRay.x264-hV chunk 15\n",
      "✅ Scored: 2001_Pearl.Harbor.2001.DVD9.720p.BluRay.x264-hV chunk 16\n"
     ]
    },
    {
     "name": "stderr",
     "output_type": "stream",
     "text": [
      "Scoring institutional trust (chunked):  52%|▌| 250/478 [2:32:42<3:38:39, 57.54s/"
     ]
    },
    {
     "name": "stdout",
     "output_type": "stream",
     "text": [
      "✅ Scored: 1980_The.Blues.Brothers.1980.EXTENDED.720p.BluRay.X264-AMIABLE chunk 1\n",
      "✅ Scored: 1980_The.Blues.Brothers.1980.EXTENDED.720p.BluRay.X264-AMIABLE chunk 2\n",
      "✅ Scored: 1980_The.Blues.Brothers.1980.EXTENDED.720p.BluRay.X264-AMIABLE chunk 3\n",
      "✅ Scored: 1980_The.Blues.Brothers.1980.EXTENDED.720p.BluRay.X264-AMIABLE chunk 4\n",
      "✅ Scored: 1980_The.Blues.Brothers.1980.EXTENDED.720p.BluRay.X264-AMIABLE chunk 5\n",
      "✅ Scored: 1980_The.Blues.Brothers.1980.EXTENDED.720p.BluRay.X264-AMIABLE chunk 6\n",
      "✅ Scored: 1980_The.Blues.Brothers.1980.EXTENDED.720p.BluRay.X264-AMIABLE chunk 7\n",
      "✅ Scored: 1980_The.Blues.Brothers.1980.EXTENDED.720p.BluRay.X264-AMIABLE chunk 8\n",
      "✅ Scored: 1980_The.Blues.Brothers.1980.EXTENDED.720p.BluRay.X264-AMIABLE chunk 9\n",
      "✅ Scored: 1980_The.Blues.Brothers.1980.EXTENDED.720p.BluRay.X264-AMIABLE chunk 10\n"
     ]
    },
    {
     "name": "stderr",
     "output_type": "stream",
     "text": [
      "Scoring institutional trust (chunked):  53%|▌| 251/478 [2:33:17<3:12:31, 50.89s/"
     ]
    },
    {
     "name": "stdout",
     "output_type": "stream",
     "text": [
      "✅ Scored: 2006_The.Da.Vinci.Code.2006.Extended.720p.BluRay.x264-BestHD.eng chunk 1\n",
      "✅ Scored: 2006_The.Da.Vinci.Code.2006.Extended.720p.BluRay.x264-BestHD.eng chunk 2\n",
      "✅ Scored: 2006_The.Da.Vinci.Code.2006.Extended.720p.BluRay.x264-BestHD.eng chunk 3\n",
      "✅ Scored: 2006_The.Da.Vinci.Code.2006.Extended.720p.BluRay.x264-BestHD.eng chunk 4\n",
      "✅ Scored: 2006_The.Da.Vinci.Code.2006.Extended.720p.BluRay.x264-BestHD.eng chunk 5\n",
      "✅ Scored: 2006_The.Da.Vinci.Code.2006.Extended.720p.BluRay.x264-BestHD.eng chunk 6\n",
      "✅ Scored: 2006_The.Da.Vinci.Code.2006.Extended.720p.BluRay.x264-BestHD.eng chunk 7\n",
      "✅ Scored: 2006_The.Da.Vinci.Code.2006.Extended.720p.BluRay.x264-BestHD.eng chunk 8\n",
      "✅ Scored: 2006_The.Da.Vinci.Code.2006.Extended.720p.BluRay.x264-BestHD.eng chunk 9\n",
      "✅ Scored: 2006_The.Da.Vinci.Code.2006.Extended.720p.BluRay.x264-BestHD.eng chunk 10\n",
      "✅ Scored: 2006_The.Da.Vinci.Code.2006.Extended.720p.BluRay.x264-BestHD.eng chunk 11\n",
      "✅ Scored: 2006_The.Da.Vinci.Code.2006.Extended.720p.BluRay.x264-BestHD.eng chunk 12\n",
      "✅ Scored: 2006_The.Da.Vinci.Code.2006.Extended.720p.BluRay.x264-BestHD.eng chunk 13\n",
      "✅ Scored: 2006_The.Da.Vinci.Code.2006.Extended.720p.BluRay.x264-BestHD.eng chunk 14\n"
     ]
    },
    {
     "name": "stderr",
     "output_type": "stream",
     "text": [
      "Scoring institutional trust (chunked):  53%|▌| 252/478 [2:34:08<3:11:53, 50.95s/"
     ]
    },
    {
     "name": "stdout",
     "output_type": "stream",
     "text": [
      "✅ Scored: 2021_Shang-Chi. And. The. Legend. Of. The. Ten. Rings. 2021. 1080p. BluRay. x264-VETO chunk 1\n",
      "✅ Scored: 2021_Shang-Chi. And. The. Legend. Of. The. Ten. Rings. 2021. 1080p. BluRay. x264-VETO chunk 2\n",
      "✅ Scored: 2021_Shang-Chi. And. The. Legend. Of. The. Ten. Rings. 2021. 1080p. BluRay. x264-VETO chunk 3\n",
      "✅ Scored: 2021_Shang-Chi. And. The. Legend. Of. The. Ten. Rings. 2021. 1080p. BluRay. x264-VETO chunk 4\n",
      "✅ Scored: 2021_Shang-Chi. And. The. Legend. Of. The. Ten. Rings. 2021. 1080p. BluRay. x264-VETO chunk 5\n",
      "✅ Scored: 2021_Shang-Chi. And. The. Legend. Of. The. Ten. Rings. 2021. 1080p. BluRay. x264-VETO chunk 6\n",
      "✅ Scored: 2021_Shang-Chi. And. The. Legend. Of. The. Ten. Rings. 2021. 1080p. BluRay. x264-VETO chunk 7\n",
      "✅ Scored: 2021_Shang-Chi. And. The. Legend. Of. The. Ten. Rings. 2021. 1080p. BluRay. x264-VETO chunk 8\n",
      "✅ Scored: 2021_Shang-Chi. And. The. Legend. Of. The. Ten. Rings. 2021. 1080p. BluRay. x264-VETO chunk 9\n"
     ]
    },
    {
     "name": "stderr",
     "output_type": "stream",
     "text": [
      "Scoring institutional trust (chunked):  53%|▌| 253/478 [2:34:44<2:54:16, 46.48s/"
     ]
    },
    {
     "name": "stdout",
     "output_type": "stream",
     "text": [
      "✅ Scored: 1986_Star Trek 04 Voyage Home 1986 1280x544.eng chunk 1\n",
      "✅ Scored: 1986_Star Trek 04 Voyage Home 1986 1280x544.eng chunk 2\n",
      "✅ Scored: 1986_Star Trek 04 Voyage Home 1986 1280x544.eng chunk 3\n",
      "✅ Scored: 1986_Star Trek 04 Voyage Home 1986 1280x544.eng chunk 4\n",
      "✅ Scored: 1986_Star Trek 04 Voyage Home 1986 1280x544.eng chunk 5\n",
      "✅ Scored: 1986_Star Trek 04 Voyage Home 1986 1280x544.eng chunk 6\n",
      "✅ Scored: 1986_Star Trek 04 Voyage Home 1986 1280x544.eng chunk 7\n",
      "✅ Scored: 1986_Star Trek 04 Voyage Home 1986 1280x544.eng chunk 8\n",
      "✅ Scored: 1986_Star Trek 04 Voyage Home 1986 1280x544.eng chunk 9\n",
      "✅ Scored: 1986_Star Trek 04 Voyage Home 1986 1280x544.eng chunk 10\n",
      "✅ Scored: 1986_Star Trek 04 Voyage Home 1986 1280x544.eng chunk 11\n",
      "✅ Scored: 1986_Star Trek 04 Voyage Home 1986 1280x544.eng chunk 12\n"
     ]
    },
    {
     "name": "stderr",
     "output_type": "stream",
     "text": [
      "Scoring institutional trust (chunked):  53%|▌| 254/478 [2:35:27<2:49:08, 45.31s/"
     ]
    },
    {
     "name": "stdout",
     "output_type": "stream",
     "text": [
      "✅ Scored: 2008_Madagascar-Escape.2.Africa[2008]DvDrip-aXXo.en chunk 1\n",
      "✅ Scored: 2008_Madagascar-Escape.2.Africa[2008]DvDrip-aXXo.en chunk 2\n",
      "✅ Scored: 2008_Madagascar-Escape.2.Africa[2008]DvDrip-aXXo.en chunk 3\n",
      "✅ Scored: 2008_Madagascar-Escape.2.Africa[2008]DvDrip-aXXo.en chunk 4\n",
      "✅ Scored: 2008_Madagascar-Escape.2.Africa[2008]DvDrip-aXXo.en chunk 5\n",
      "✅ Scored: 2008_Madagascar-Escape.2.Africa[2008]DvDrip-aXXo.en chunk 6\n",
      "✅ Scored: 2008_Madagascar-Escape.2.Africa[2008]DvDrip-aXXo.en chunk 7\n",
      "✅ Scored: 2008_Madagascar-Escape.2.Africa[2008]DvDrip-aXXo.en chunk 8\n",
      "✅ Scored: 2008_Madagascar-Escape.2.Africa[2008]DvDrip-aXXo.en chunk 9\n"
     ]
    },
    {
     "name": "stderr",
     "output_type": "stream",
     "text": [
      "Scoring institutional trust (chunked):  53%|▌| 255/478 [2:35:59<2:33:45, 41.37s/"
     ]
    },
    {
     "name": "stdout",
     "output_type": "stream",
     "text": [
      "✅ Scored: 1992_Basic.Instinct.1992.720p.HDDVD.x264-ESiR chunk 1\n",
      "✅ Scored: 1992_Basic.Instinct.1992.720p.HDDVD.x264-ESiR chunk 2\n",
      "✅ Scored: 1992_Basic.Instinct.1992.720p.HDDVD.x264-ESiR chunk 3\n",
      "✅ Scored: 1992_Basic.Instinct.1992.720p.HDDVD.x264-ESiR chunk 4\n",
      "✅ Scored: 1992_Basic.Instinct.1992.720p.HDDVD.x264-ESiR chunk 5\n",
      "✅ Scored: 1992_Basic.Instinct.1992.720p.HDDVD.x264-ESiR chunk 6\n",
      "✅ Scored: 1992_Basic.Instinct.1992.720p.HDDVD.x264-ESiR chunk 7\n",
      "✅ Scored: 1992_Basic.Instinct.1992.720p.HDDVD.x264-ESiR chunk 8\n",
      "✅ Scored: 1992_Basic.Instinct.1992.720p.HDDVD.x264-ESiR chunk 9\n",
      "✅ Scored: 1992_Basic.Instinct.1992.720p.HDDVD.x264-ESiR chunk 10\n"
     ]
    },
    {
     "name": "stderr",
     "output_type": "stream",
     "text": [
      "Scoring institutional trust (chunked):  54%|▌| 256/478 [2:36:33<2:25:15, 39.26s/"
     ]
    },
    {
     "name": "stdout",
     "output_type": "stream",
     "text": [
      "✅ Scored: 1983_Trading.Places.1983.BluRay.1080p.DTS.x264.dxva-FTW-HD.ENG chunk 1\n",
      "✅ Scored: 1983_Trading.Places.1983.BluRay.1080p.DTS.x264.dxva-FTW-HD.ENG chunk 2\n",
      "✅ Scored: 1983_Trading.Places.1983.BluRay.1080p.DTS.x264.dxva-FTW-HD.ENG chunk 3\n",
      "✅ Scored: 1983_Trading.Places.1983.BluRay.1080p.DTS.x264.dxva-FTW-HD.ENG chunk 4\n",
      "✅ Scored: 1983_Trading.Places.1983.BluRay.1080p.DTS.x264.dxva-FTW-HD.ENG chunk 5\n",
      "✅ Scored: 1983_Trading.Places.1983.BluRay.1080p.DTS.x264.dxva-FTW-HD.ENG chunk 6\n",
      "✅ Scored: 1983_Trading.Places.1983.BluRay.1080p.DTS.x264.dxva-FTW-HD.ENG chunk 7\n",
      "✅ Scored: 1983_Trading.Places.1983.BluRay.1080p.DTS.x264.dxva-FTW-HD.ENG chunk 8\n",
      "✅ Scored: 1983_Trading.Places.1983.BluRay.1080p.DTS.x264.dxva-FTW-HD.ENG chunk 9\n",
      "✅ Scored: 1983_Trading.Places.1983.BluRay.1080p.DTS.x264.dxva-FTW-HD.ENG chunk 10\n"
     ]
    },
    {
     "name": "stderr",
     "output_type": "stream",
     "text": [
      "Scoring institutional trust (chunked):  54%|▌| 257/478 [2:37:08<2:19:56, 37.99s/"
     ]
    },
    {
     "name": "stdout",
     "output_type": "stream",
     "text": [
      "✅ Scored: 2006_X-Men.The.Last.Stand.PROPER.DVDRip.XviD-DoNEINGLES chunk 1\n",
      "✅ Scored: 2006_X-Men.The.Last.Stand.PROPER.DVDRip.XviD-DoNEINGLES chunk 2\n",
      "✅ Scored: 2006_X-Men.The.Last.Stand.PROPER.DVDRip.XviD-DoNEINGLES chunk 3\n",
      "✅ Scored: 2006_X-Men.The.Last.Stand.PROPER.DVDRip.XviD-DoNEINGLES chunk 4\n",
      "✅ Scored: 2006_X-Men.The.Last.Stand.PROPER.DVDRip.XviD-DoNEINGLES chunk 5\n",
      "✅ Scored: 2006_X-Men.The.Last.Stand.PROPER.DVDRip.XviD-DoNEINGLES chunk 6\n"
     ]
    },
    {
     "name": "stderr",
     "output_type": "stream",
     "text": [
      "Scoring institutional trust (chunked):  54%|▌| 258/478 [2:37:30<2:00:59, 33.00s/"
     ]
    },
    {
     "name": "stdout",
     "output_type": "stream",
     "text": [
      "✅ Scored: 1979_Moonraker. 1979. BluRay. 720p. x264. AC3-CMCT chunk 1\n",
      "✅ Scored: 1979_Moonraker. 1979. BluRay. 720p. x264. AC3-CMCT chunk 2\n",
      "✅ Scored: 1979_Moonraker. 1979. BluRay. 720p. x264. AC3-CMCT chunk 3\n",
      "✅ Scored: 1979_Moonraker. 1979. BluRay. 720p. x264. AC3-CMCT chunk 4\n",
      "✅ Scored: 1979_Moonraker. 1979. BluRay. 720p. x264. AC3-CMCT chunk 5\n",
      "✅ Scored: 1979_Moonraker. 1979. BluRay. 720p. x264. AC3-CMCT chunk 6\n"
     ]
    },
    {
     "name": "stderr",
     "output_type": "stream",
     "text": [
      "Scoring institutional trust (chunked):  54%|▌| 259/478 [2:37:52<1:48:22, 29.69s/"
     ]
    },
    {
     "name": "stdout",
     "output_type": "stream",
     "text": [
      "✅ Scored: 1994_The.Lion.King.1994.720p.BluRay.DD5.1.x264-DON chunk 1\n",
      "✅ Scored: 1994_The.Lion.King.1994.720p.BluRay.DD5.1.x264-DON chunk 2\n",
      "✅ Scored: 1994_The.Lion.King.1994.720p.BluRay.DD5.1.x264-DON chunk 3\n",
      "✅ Scored: 1994_The.Lion.King.1994.720p.BluRay.DD5.1.x264-DON chunk 4\n",
      "✅ Scored: 1994_The.Lion.King.1994.720p.BluRay.DD5.1.x264-DON chunk 5\n",
      "✅ Scored: 1994_The.Lion.King.1994.720p.BluRay.DD5.1.x264-DON chunk 6\n",
      "✅ Scored: 1994_The.Lion.King.1994.720p.BluRay.DD5.1.x264-DON chunk 7\n",
      "✅ Scored: 1994_The.Lion.King.1994.720p.BluRay.DD5.1.x264-DON chunk 8\n"
     ]
    },
    {
     "name": "stderr",
     "output_type": "stream",
     "text": [
      "Scoring institutional trust (chunked):  54%|▌| 260/478 [2:38:20<1:46:32, 29.32s/"
     ]
    },
    {
     "name": "stdout",
     "output_type": "stream",
     "text": [
      "✅ Scored: 2006_Over.The.Hedge[2006]DvDrip.AC3[Eng]-aXXo chunk 1\n",
      "✅ Scored: 2006_Over.The.Hedge[2006]DvDrip.AC3[Eng]-aXXo chunk 2\n",
      "✅ Scored: 2006_Over.The.Hedge[2006]DvDrip.AC3[Eng]-aXXo chunk 3\n",
      "✅ Scored: 2006_Over.The.Hedge[2006]DvDrip.AC3[Eng]-aXXo chunk 4\n",
      "✅ Scored: 2006_Over.The.Hedge[2006]DvDrip.AC3[Eng]-aXXo chunk 5\n",
      "✅ Scored: 2006_Over.The.Hedge[2006]DvDrip.AC3[Eng]-aXXo chunk 6\n",
      "✅ Scored: 2006_Over.The.Hedge[2006]DvDrip.AC3[Eng]-aXXo chunk 7\n"
     ]
    },
    {
     "name": "stderr",
     "output_type": "stream",
     "text": [
      "Scoring institutional trust (chunked):  55%|▌| 261/478 [2:38:48<1:44:07, 28.79s/"
     ]
    },
    {
     "name": "stdout",
     "output_type": "stream",
     "text": [
      "✅ Scored: 2005_War.of.the.Worlds.2005.mHD.Bluray.DD5.1.x264-EPiK.eng chunk 1\n",
      "✅ Scored: 2005_War.of.the.Worlds.2005.mHD.Bluray.DD5.1.x264-EPiK.eng chunk 2\n",
      "✅ Scored: 2005_War.of.the.Worlds.2005.mHD.Bluray.DD5.1.x264-EPiK.eng chunk 3\n",
      "✅ Scored: 2005_War.of.the.Worlds.2005.mHD.Bluray.DD5.1.x264-EPiK.eng chunk 4\n",
      "✅ Scored: 2005_War.of.the.Worlds.2005.mHD.Bluray.DD5.1.x264-EPiK.eng chunk 5\n",
      "✅ Scored: 2005_War.of.the.Worlds.2005.mHD.Bluray.DD5.1.x264-EPiK.eng chunk 6\n",
      "✅ Scored: 2005_War.of.the.Worlds.2005.mHD.Bluray.DD5.1.x264-EPiK.eng chunk 7\n",
      "✅ Scored: 2005_War.of.the.Worlds.2005.mHD.Bluray.DD5.1.x264-EPiK.eng chunk 8\n",
      "✅ Scored: 2005_War.of.the.Worlds.2005.mHD.Bluray.DD5.1.x264-EPiK.eng chunk 9\n"
     ]
    },
    {
     "name": "stderr",
     "output_type": "stream",
     "text": [
      "Scoring institutional trust (chunked):  55%|▌| 262/478 [2:39:19<1:46:37, 29.62s/"
     ]
    },
    {
     "name": "stdout",
     "output_type": "stream",
     "text": [
      "✅ Scored: 2023_Guardians.of.the.Galaxy.Vol.3.2023.1080p.WEB-DL.DDP5.1.Atmos.H.264-CMRG (v2) chunk 1\n",
      "✅ Scored: 2023_Guardians.of.the.Galaxy.Vol.3.2023.1080p.WEB-DL.DDP5.1.Atmos.H.264-CMRG (v2) chunk 2\n",
      "✅ Scored: 2023_Guardians.of.the.Galaxy.Vol.3.2023.1080p.WEB-DL.DDP5.1.Atmos.H.264-CMRG (v2) chunk 3\n",
      "✅ Scored: 2023_Guardians.of.the.Galaxy.Vol.3.2023.1080p.WEB-DL.DDP5.1.Atmos.H.264-CMRG (v2) chunk 4\n",
      "✅ Scored: 2023_Guardians.of.the.Galaxy.Vol.3.2023.1080p.WEB-DL.DDP5.1.Atmos.H.264-CMRG (v2) chunk 5\n",
      "✅ Scored: 2023_Guardians.of.the.Galaxy.Vol.3.2023.1080p.WEB-DL.DDP5.1.Atmos.H.264-CMRG (v2) chunk 6\n",
      "✅ Scored: 2023_Guardians.of.the.Galaxy.Vol.3.2023.1080p.WEB-DL.DDP5.1.Atmos.H.264-CMRG (v2) chunk 7\n",
      "✅ Scored: 2023_Guardians.of.the.Galaxy.Vol.3.2023.1080p.WEB-DL.DDP5.1.Atmos.H.264-CMRG (v2) chunk 8\n",
      "✅ Scored: 2023_Guardians.of.the.Galaxy.Vol.3.2023.1080p.WEB-DL.DDP5.1.Atmos.H.264-CMRG (v2) chunk 9\n",
      "✅ Scored: 2023_Guardians.of.the.Galaxy.Vol.3.2023.1080p.WEB-DL.DDP5.1.Atmos.H.264-CMRG (v2) chunk 10\n"
     ]
    },
    {
     "name": "stderr",
     "output_type": "stream",
     "text": [
      "Scoring institutional trust (chunked):  55%|▌| 263/478 [2:40:01<1:58:55, 33.19s/"
     ]
    },
    {
     "name": "stdout",
     "output_type": "stream",
     "text": [
      "✅ Scored: 1996_Independence.Day.1996.1080p.BluRay.DTS.x264-HDME.ENG chunk 1\n",
      "✅ Scored: 1996_Independence.Day.1996.1080p.BluRay.DTS.x264-HDME.ENG chunk 2\n",
      "✅ Scored: 1996_Independence.Day.1996.1080p.BluRay.DTS.x264-HDME.ENG chunk 3\n",
      "✅ Scored: 1996_Independence.Day.1996.1080p.BluRay.DTS.x264-HDME.ENG chunk 4\n",
      "✅ Scored: 1996_Independence.Day.1996.1080p.BluRay.DTS.x264-HDME.ENG chunk 5\n",
      "✅ Scored: 1996_Independence.Day.1996.1080p.BluRay.DTS.x264-HDME.ENG chunk 6\n",
      "✅ Scored: 1996_Independence.Day.1996.1080p.BluRay.DTS.x264-HDME.ENG chunk 7\n",
      "✅ Scored: 1996_Independence.Day.1996.1080p.BluRay.DTS.x264-HDME.ENG chunk 8\n",
      "✅ Scored: 1996_Independence.Day.1996.1080p.BluRay.DTS.x264-HDME.ENG chunk 9\n",
      "✅ Scored: 1996_Independence.Day.1996.1080p.BluRay.DTS.x264-HDME.ENG chunk 10\n",
      "✅ Scored: 1996_Independence.Day.1996.1080p.BluRay.DTS.x264-HDME.ENG chunk 11\n",
      "✅ Scored: 1996_Independence.Day.1996.1080p.BluRay.DTS.x264-HDME.ENG chunk 12\n",
      "✅ Scored: 1996_Independence.Day.1996.1080p.BluRay.DTS.x264-HDME.ENG chunk 13\n",
      "✅ Scored: 1996_Independence.Day.1996.1080p.BluRay.DTS.x264-HDME.ENG chunk 14\n"
     ]
    },
    {
     "name": "stderr",
     "output_type": "stream",
     "text": [
      "Scoring institutional trust (chunked):  55%|▌| 264/478 [2:40:49<2:14:19, 37.66s/"
     ]
    },
    {
     "name": "stdout",
     "output_type": "stream",
     "text": [
      "✅ Scored: 2001_Hannibal.2001.1080p.BluRay.x264-iKA.ENG chunk 1\n",
      "✅ Scored: 2001_Hannibal.2001.1080p.BluRay.x264-iKA.ENG chunk 2\n",
      "✅ Scored: 2001_Hannibal.2001.1080p.BluRay.x264-iKA.ENG chunk 3\n",
      "✅ Scored: 2001_Hannibal.2001.1080p.BluRay.x264-iKA.ENG chunk 4\n",
      "✅ Scored: 2001_Hannibal.2001.1080p.BluRay.x264-iKA.ENG chunk 5\n",
      "✅ Scored: 2001_Hannibal.2001.1080p.BluRay.x264-iKA.ENG chunk 6\n",
      "✅ Scored: 2001_Hannibal.2001.1080p.BluRay.x264-iKA.ENG chunk 7\n",
      "✅ Scored: 2001_Hannibal.2001.1080p.BluRay.x264-iKA.ENG chunk 8\n",
      "✅ Scored: 2001_Hannibal.2001.1080p.BluRay.x264-iKA.ENG chunk 9\n",
      "✅ Scored: 2001_Hannibal.2001.1080p.BluRay.x264-iKA.ENG chunk 10\n",
      "✅ Scored: 2001_Hannibal.2001.1080p.BluRay.x264-iKA.ENG chunk 11\n"
     ]
    },
    {
     "name": "stderr",
     "output_type": "stream",
     "text": [
      "Scoring institutional trust (chunked):  55%|▌| 265/478 [2:41:28<2:15:04, 38.05s/"
     ]
    },
    {
     "name": "stdout",
     "output_type": "stream",
     "text": [
      "✅ Scored: 1996_The.Nutty.Professor.1996.720p.DVD5.HDDVD.x264-hV.English chunk 1\n",
      "✅ Scored: 1996_The.Nutty.Professor.1996.720p.DVD5.HDDVD.x264-hV.English chunk 2\n",
      "✅ Scored: 1996_The.Nutty.Professor.1996.720p.DVD5.HDDVD.x264-hV.English chunk 3\n",
      "✅ Scored: 1996_The.Nutty.Professor.1996.720p.DVD5.HDDVD.x264-hV.English chunk 4\n",
      "✅ Scored: 1996_The.Nutty.Professor.1996.720p.DVD5.HDDVD.x264-hV.English chunk 5\n",
      "✅ Scored: 1996_The.Nutty.Professor.1996.720p.DVD5.HDDVD.x264-hV.English chunk 6\n",
      "✅ Scored: 1996_The.Nutty.Professor.1996.720p.DVD5.HDDVD.x264-hV.English chunk 7\n",
      "✅ Scored: 1996_The.Nutty.Professor.1996.720p.DVD5.HDDVD.x264-hV.English chunk 8\n",
      "✅ Scored: 1996_The.Nutty.Professor.1996.720p.DVD5.HDDVD.x264-hV.English chunk 9\n",
      "✅ Scored: 1996_The.Nutty.Professor.1996.720p.DVD5.HDDVD.x264-hV.English chunk 10\n",
      "✅ Scored: 1996_The.Nutty.Professor.1996.720p.DVD5.HDDVD.x264-hV.English chunk 11\n",
      "✅ Scored: 1996_The.Nutty.Professor.1996.720p.DVD5.HDDVD.x264-hV.English chunk 12\n",
      "✅ Scored: 1996_The.Nutty.Professor.1996.720p.DVD5.HDDVD.x264-hV.English chunk 13\n",
      "✅ Scored: 1996_The.Nutty.Professor.1996.720p.DVD5.HDDVD.x264-hV.English chunk 14\n"
     ]
    },
    {
     "name": "stderr",
     "output_type": "stream",
     "text": [
      "Scoring institutional trust (chunked):  56%|▌| 266/478 [2:42:15<2:23:58, 40.75s/"
     ]
    },
    {
     "name": "stdout",
     "output_type": "stream",
     "text": [
      "✅ Scored: 2003_Bad.Boys.II.2003.720p.BluRay.X264-AMIABLE chunk 1\n",
      "✅ Scored: 2003_Bad.Boys.II.2003.720p.BluRay.X264-AMIABLE chunk 2\n",
      "✅ Scored: 2003_Bad.Boys.II.2003.720p.BluRay.X264-AMIABLE chunk 3\n",
      "✅ Scored: 2003_Bad.Boys.II.2003.720p.BluRay.X264-AMIABLE chunk 4\n",
      "✅ Scored: 2003_Bad.Boys.II.2003.720p.BluRay.X264-AMIABLE chunk 5\n",
      "✅ Scored: 2003_Bad.Boys.II.2003.720p.BluRay.X264-AMIABLE chunk 6\n",
      "✅ Scored: 2003_Bad.Boys.II.2003.720p.BluRay.X264-AMIABLE chunk 7\n",
      "✅ Scored: 2003_Bad.Boys.II.2003.720p.BluRay.X264-AMIABLE chunk 8\n",
      "✅ Scored: 2003_Bad.Boys.II.2003.720p.BluRay.X264-AMIABLE chunk 9\n",
      "✅ Scored: 2003_Bad.Boys.II.2003.720p.BluRay.X264-AMIABLE chunk 10\n",
      "✅ Scored: 2003_Bad.Boys.II.2003.720p.BluRay.X264-AMIABLE chunk 11\n",
      "✅ Scored: 2003_Bad.Boys.II.2003.720p.BluRay.X264-AMIABLE chunk 12\n",
      "✅ Scored: 2003_Bad.Boys.II.2003.720p.BluRay.X264-AMIABLE chunk 13\n",
      "✅ Scored: 2003_Bad.Boys.II.2003.720p.BluRay.X264-AMIABLE chunk 14\n",
      "✅ Scored: 2003_Bad.Boys.II.2003.720p.BluRay.X264-AMIABLE chunk 15\n",
      "✅ Scored: 2003_Bad.Boys.II.2003.720p.BluRay.X264-AMIABLE chunk 16\n"
     ]
    },
    {
     "name": "stderr",
     "output_type": "stream",
     "text": [
      "Scoring institutional trust (chunked):  56%|▌| 267/478 [2:43:11<2:39:26, 45.34s/"
     ]
    },
    {
     "name": "stdout",
     "output_type": "stream",
     "text": [
      "✅ Scored: 2001_Rush.Hour.2.2001.720p.BluRay.X264-AMIABLE chunk 1\n",
      "✅ Scored: 2001_Rush.Hour.2.2001.720p.BluRay.X264-AMIABLE chunk 2\n",
      "✅ Scored: 2001_Rush.Hour.2.2001.720p.BluRay.X264-AMIABLE chunk 3\n",
      "✅ Scored: 2001_Rush.Hour.2.2001.720p.BluRay.X264-AMIABLE chunk 4\n",
      "✅ Scored: 2001_Rush.Hour.2.2001.720p.BluRay.X264-AMIABLE chunk 5\n",
      "✅ Scored: 2001_Rush.Hour.2.2001.720p.BluRay.X264-AMIABLE chunk 6\n",
      "✅ Scored: 2001_Rush.Hour.2.2001.720p.BluRay.X264-AMIABLE chunk 7\n",
      "✅ Scored: 2001_Rush.Hour.2.2001.720p.BluRay.X264-AMIABLE chunk 8\n",
      "✅ Scored: 2001_Rush.Hour.2.2001.720p.BluRay.X264-AMIABLE chunk 9\n",
      "✅ Scored: 2001_Rush.Hour.2.2001.720p.BluRay.X264-AMIABLE chunk 10\n"
     ]
    },
    {
     "name": "stderr",
     "output_type": "stream",
     "text": [
      "Scoring institutional trust (chunked):  56%|▌| 268/478 [2:43:46<2:28:16, 42.36s/"
     ]
    },
    {
     "name": "stdout",
     "output_type": "stream",
     "text": [
      "✅ Scored: 2008_devise-twilight.en chunk 1\n",
      "✅ Scored: 2008_devise-twilight.en chunk 2\n",
      "✅ Scored: 2008_devise-twilight.en chunk 3\n",
      "✅ Scored: 2008_devise-twilight.en chunk 4\n",
      "✅ Scored: 2008_devise-twilight.en chunk 5\n",
      "✅ Scored: 2008_devise-twilight.en chunk 6\n",
      "✅ Scored: 2008_devise-twilight.en chunk 7\n",
      "✅ Scored: 2008_devise-twilight.en chunk 8\n",
      "✅ Scored: 2008_devise-twilight.en chunk 9\n",
      "✅ Scored: 2008_devise-twilight.en chunk 10\n",
      "✅ Scored: 2008_devise-twilight.en chunk 11\n"
     ]
    },
    {
     "name": "stderr",
     "output_type": "stream",
     "text": [
      "Scoring institutional trust (chunked):  56%|▌| 269/478 [2:44:23<2:21:04, 40.50s/"
     ]
    },
    {
     "name": "stdout",
     "output_type": "stream",
     "text": [
      "✅ Scored: 2008_Hancock.720p.BluRay.x264-REFiNED.ENG chunk 1\n",
      "✅ Scored: 2008_Hancock.720p.BluRay.x264-REFiNED.ENG chunk 2\n",
      "✅ Scored: 2008_Hancock.720p.BluRay.x264-REFiNED.ENG chunk 3\n",
      "✅ Scored: 2008_Hancock.720p.BluRay.x264-REFiNED.ENG chunk 4\n",
      "✅ Scored: 2008_Hancock.720p.BluRay.x264-REFiNED.ENG chunk 5\n",
      "✅ Scored: 2008_Hancock.720p.BluRay.x264-REFiNED.ENG chunk 6\n",
      "✅ Scored: 2008_Hancock.720p.BluRay.x264-REFiNED.ENG chunk 7\n",
      "✅ Scored: 2008_Hancock.720p.BluRay.x264-REFiNED.ENG chunk 8\n",
      "✅ Scored: 2008_Hancock.720p.BluRay.x264-REFiNED.ENG chunk 9\n"
     ]
    },
    {
     "name": "stderr",
     "output_type": "stream",
     "text": [
      "Scoring institutional trust (chunked):  56%|▌| 270/478 [2:44:54<2:11:11, 37.84s/"
     ]
    },
    {
     "name": "stdout",
     "output_type": "stream",
     "text": [
      "✅ Scored: 1983_Risky.Business.1983.PROPER.1080p.BluRay.x264-TFiN.ENG chunk 1\n",
      "✅ Scored: 1983_Risky.Business.1983.PROPER.1080p.BluRay.x264-TFiN.ENG chunk 2\n",
      "✅ Scored: 1983_Risky.Business.1983.PROPER.1080p.BluRay.x264-TFiN.ENG chunk 3\n",
      "✅ Scored: 1983_Risky.Business.1983.PROPER.1080p.BluRay.x264-TFiN.ENG chunk 4\n",
      "✅ Scored: 1983_Risky.Business.1983.PROPER.1080p.BluRay.x264-TFiN.ENG chunk 5\n",
      "✅ Scored: 1983_Risky.Business.1983.PROPER.1080p.BluRay.x264-TFiN.ENG chunk 6\n",
      "✅ Scored: 1983_Risky.Business.1983.PROPER.1080p.BluRay.x264-TFiN.ENG chunk 7\n",
      "✅ Scored: 1983_Risky.Business.1983.PROPER.1080p.BluRay.x264-TFiN.ENG chunk 8\n"
     ]
    },
    {
     "name": "stderr",
     "output_type": "stream",
     "text": [
      "Scoring institutional trust (chunked):  57%|▌| 271/478 [2:45:23<2:01:10, 35.12s/"
     ]
    },
    {
     "name": "stdout",
     "output_type": "stream",
     "text": [
      "✅ Scored: 1990_Home.Alone.1990.1080p.BluRay.x264-HD1080.ENG chunk 1\n",
      "✅ Scored: 1990_Home.Alone.1990.1080p.BluRay.x264-HD1080.ENG chunk 2\n",
      "✅ Scored: 1990_Home.Alone.1990.1080p.BluRay.x264-HD1080.ENG chunk 3\n",
      "✅ Scored: 1990_Home.Alone.1990.1080p.BluRay.x264-HD1080.ENG chunk 4\n",
      "✅ Scored: 1990_Home.Alone.1990.1080p.BluRay.x264-HD1080.ENG chunk 5\n",
      "✅ Scored: 1990_Home.Alone.1990.1080p.BluRay.x264-HD1080.ENG chunk 6\n",
      "✅ Scored: 1990_Home.Alone.1990.1080p.BluRay.x264-HD1080.ENG chunk 7\n",
      "✅ Scored: 1990_Home.Alone.1990.1080p.BluRay.x264-HD1080.ENG chunk 8\n"
     ]
    },
    {
     "name": "stderr",
     "output_type": "stream",
     "text": [
      "Scoring institutional trust (chunked):  57%|▌| 272/478 [2:45:51<1:53:08, 32.96s/"
     ]
    },
    {
     "name": "stdout",
     "output_type": "stream",
     "text": [
      "✅ Scored: 1997_Batman.and.Robin.1997.1080p.BluRay.x264-CULTHD.ENG chunk 1\n",
      "✅ Scored: 1997_Batman.and.Robin.1997.1080p.BluRay.x264-CULTHD.ENG chunk 2\n",
      "✅ Scored: 1997_Batman.and.Robin.1997.1080p.BluRay.x264-CULTHD.ENG chunk 3\n",
      "✅ Scored: 1997_Batman.and.Robin.1997.1080p.BluRay.x264-CULTHD.ENG chunk 4\n",
      "✅ Scored: 1997_Batman.and.Robin.1997.1080p.BluRay.x264-CULTHD.ENG chunk 5\n",
      "✅ Scored: 1997_Batman.and.Robin.1997.1080p.BluRay.x264-CULTHD.ENG chunk 6\n",
      "✅ Scored: 1997_Batman.and.Robin.1997.1080p.BluRay.x264-CULTHD.ENG chunk 7\n",
      "✅ Scored: 1997_Batman.and.Robin.1997.1080p.BluRay.x264-CULTHD.ENG chunk 8\n"
     ]
    },
    {
     "name": "stderr",
     "output_type": "stream",
     "text": [
      "Scoring institutional trust (chunked):  57%|▌| 273/478 [2:46:18<1:46:42, 31.23s/"
     ]
    },
    {
     "name": "stdout",
     "output_type": "stream",
     "text": [
      "✅ Scored: 2001_Harry.Potter.and.the.Philosophers.Stone.2001.720p.HDDVD.DTS.x264-ESiR.ENG chunk 1\n",
      "✅ Scored: 2001_Harry.Potter.and.the.Philosophers.Stone.2001.720p.HDDVD.DTS.x264-ESiR.ENG chunk 2\n",
      "✅ Scored: 2001_Harry.Potter.and.the.Philosophers.Stone.2001.720p.HDDVD.DTS.x264-ESiR.ENG chunk 3\n",
      "✅ Scored: 2001_Harry.Potter.and.the.Philosophers.Stone.2001.720p.HDDVD.DTS.x264-ESiR.ENG chunk 4\n",
      "✅ Scored: 2001_Harry.Potter.and.the.Philosophers.Stone.2001.720p.HDDVD.DTS.x264-ESiR.ENG chunk 5\n",
      "✅ Scored: 2001_Harry.Potter.and.the.Philosophers.Stone.2001.720p.HDDVD.DTS.x264-ESiR.ENG chunk 6\n",
      "✅ Scored: 2001_Harry.Potter.and.the.Philosophers.Stone.2001.720p.HDDVD.DTS.x264-ESiR.ENG chunk 7\n",
      "✅ Scored: 2001_Harry.Potter.and.the.Philosophers.Stone.2001.720p.HDDVD.DTS.x264-ESiR.ENG chunk 8\n",
      "✅ Scored: 2001_Harry.Potter.and.the.Philosophers.Stone.2001.720p.HDDVD.DTS.x264-ESiR.ENG chunk 9\n",
      "✅ Scored: 2001_Harry.Potter.and.the.Philosophers.Stone.2001.720p.HDDVD.DTS.x264-ESiR.ENG chunk 10\n"
     ]
    },
    {
     "name": "stderr",
     "output_type": "stream",
     "text": [
      "Scoring institutional trust (chunked):  57%|▌| 274/478 [2:46:51<1:47:39, 31.67s/"
     ]
    },
    {
     "name": "stdout",
     "output_type": "stream",
     "text": [
      "⚠️ Missing files for 1982_On.Golden.Pond.1981.720p.BluRay.x264-SiNNERS. Skipping.\n",
      "✅ Scored: 1995_Apollo.13.1995.DVDRip.Xvid.AC3-GoRDo.ENG chunk 1\n",
      "✅ Scored: 1995_Apollo.13.1995.DVDRip.Xvid.AC3-GoRDo.ENG chunk 2\n",
      "✅ Scored: 1995_Apollo.13.1995.DVDRip.Xvid.AC3-GoRDo.ENG chunk 3\n",
      "✅ Scored: 1995_Apollo.13.1995.DVDRip.Xvid.AC3-GoRDo.ENG chunk 4\n",
      "✅ Scored: 1995_Apollo.13.1995.DVDRip.Xvid.AC3-GoRDo.ENG chunk 5\n",
      "✅ Scored: 1995_Apollo.13.1995.DVDRip.Xvid.AC3-GoRDo.ENG chunk 6\n",
      "✅ Scored: 1995_Apollo.13.1995.DVDRip.Xvid.AC3-GoRDo.ENG chunk 7\n",
      "✅ Scored: 1995_Apollo.13.1995.DVDRip.Xvid.AC3-GoRDo.ENG chunk 8\n",
      "✅ Scored: 1995_Apollo.13.1995.DVDRip.Xvid.AC3-GoRDo.ENG chunk 9\n",
      "✅ Scored: 1995_Apollo.13.1995.DVDRip.Xvid.AC3-GoRDo.ENG chunk 10\n",
      "✅ Scored: 1995_Apollo.13.1995.DVDRip.Xvid.AC3-GoRDo.ENG chunk 11\n",
      "✅ Scored: 1995_Apollo.13.1995.DVDRip.Xvid.AC3-GoRDo.ENG chunk 12\n",
      "✅ Scored: 1995_Apollo.13.1995.DVDRip.Xvid.AC3-GoRDo.ENG chunk 13\n",
      "✅ Scored: 1995_Apollo.13.1995.DVDRip.Xvid.AC3-GoRDo.ENG chunk 14\n",
      "✅ Scored: 1995_Apollo.13.1995.DVDRip.Xvid.AC3-GoRDo.ENG chunk 15\n",
      "✅ Scored: 1995_Apollo.13.1995.DVDRip.Xvid.AC3-GoRDo.ENG chunk 16\n",
      "✅ Scored: 1995_Apollo.13.1995.DVDRip.Xvid.AC3-GoRDo.ENG chunk 17\n"
     ]
    },
    {
     "name": "stderr",
     "output_type": "stream",
     "text": [
      "Scoring institutional trust (chunked):  58%|▌| 276/478 [2:47:51<1:44:30, 31.04s/"
     ]
    },
    {
     "name": "stdout",
     "output_type": "stream",
     "text": [
      "✅ Scored: 2004_The.Passion.Of.The.Christ.2004.DVDRip.AC3.XviD-OS.iLUMiNADOS.ENG chunk 1\n",
      "✅ Scored: 2004_The.Passion.Of.The.Christ.2004.DVDRip.AC3.XviD-OS.iLUMiNADOS.ENG chunk 2\n",
      "✅ Scored: 2004_The.Passion.Of.The.Christ.2004.DVDRip.AC3.XviD-OS.iLUMiNADOS.ENG chunk 3\n",
      "✅ Scored: 2004_The.Passion.Of.The.Christ.2004.DVDRip.AC3.XviD-OS.iLUMiNADOS.ENG chunk 4\n"
     ]
    },
    {
     "name": "stderr",
     "output_type": "stream",
     "text": [
      "Scoring institutional trust (chunked):  58%|▌| 277/478 [2:48:07<1:31:34, 27.33s/"
     ]
    },
    {
     "name": "stdout",
     "output_type": "stream",
     "text": [
      "⚠️ Missing files for 1978_The. Lord. Of. The. Rings. 1978. 720p. BluRay. x264-[YTS. AG]. eng. Skipping.\n",
      "✅ Scored: 2008_Iron.Man[2008]DvDrip-aXXo.en chunk 1\n",
      "✅ Scored: 2008_Iron.Man[2008]DvDrip-aXXo.en chunk 2\n",
      "✅ Scored: 2008_Iron.Man[2008]DvDrip-aXXo.en chunk 3\n",
      "✅ Scored: 2008_Iron.Man[2008]DvDrip-aXXo.en chunk 4\n",
      "✅ Scored: 2008_Iron.Man[2008]DvDrip-aXXo.en chunk 5\n",
      "✅ Scored: 2008_Iron.Man[2008]DvDrip-aXXo.en chunk 6\n",
      "✅ Scored: 2008_Iron.Man[2008]DvDrip-aXXo.en chunk 7\n",
      "✅ Scored: 2008_Iron.Man[2008]DvDrip-aXXo.en chunk 8\n",
      "✅ Scored: 2008_Iron.Man[2008]DvDrip-aXXo.en chunk 9\n",
      "✅ Scored: 2008_Iron.Man[2008]DvDrip-aXXo.en chunk 10\n",
      "✅ Scored: 2008_Iron.Man[2008]DvDrip-aXXo.en chunk 11\n",
      "✅ Scored: 2008_Iron.Man[2008]DvDrip-aXXo.en chunk 12\n"
     ]
    },
    {
     "name": "stderr",
     "output_type": "stream",
     "text": [
      "Scoring institutional trust (chunked):  58%|▌| 279/478 [2:48:49<1:21:31, 24.58s/"
     ]
    },
    {
     "name": "stdout",
     "output_type": "stream",
     "text": [
      "✅ Scored: 1982_Star Trek 02 Wrath Of Khan 1982 1280x528.eng chunk 1\n",
      "✅ Scored: 1982_Star Trek 02 Wrath Of Khan 1982 1280x528.eng chunk 2\n",
      "✅ Scored: 1982_Star Trek 02 Wrath Of Khan 1982 1280x528.eng chunk 3\n",
      "✅ Scored: 1982_Star Trek 02 Wrath Of Khan 1982 1280x528.eng chunk 4\n",
      "✅ Scored: 1982_Star Trek 02 Wrath Of Khan 1982 1280x528.eng chunk 5\n",
      "✅ Scored: 1982_Star Trek 02 Wrath Of Khan 1982 1280x528.eng chunk 6\n",
      "✅ Scored: 1982_Star Trek 02 Wrath Of Khan 1982 1280x528.eng chunk 7\n",
      "✅ Scored: 1982_Star Trek 02 Wrath Of Khan 1982 1280x528.eng chunk 8\n",
      "✅ Scored: 1982_Star Trek 02 Wrath Of Khan 1982 1280x528.eng chunk 9\n"
     ]
    },
    {
     "name": "stderr",
     "output_type": "stream",
     "text": [
      "Scoring institutional trust (chunked):  59%|▌| 280/478 [2:49:20<1:25:44, 25.98s/"
     ]
    },
    {
     "name": "stdout",
     "output_type": "stream",
     "text": [
      "✅ Scored: 1994_Clear.And.Present.Danger.1994.1080p.HDDVD.x264-hV.ENG chunk 1\n",
      "✅ Scored: 1994_Clear.And.Present.Danger.1994.1080p.HDDVD.x264-hV.ENG chunk 2\n",
      "✅ Scored: 1994_Clear.And.Present.Danger.1994.1080p.HDDVD.x264-hV.ENG chunk 3\n",
      "✅ Scored: 1994_Clear.And.Present.Danger.1994.1080p.HDDVD.x264-hV.ENG chunk 4\n",
      "✅ Scored: 1994_Clear.And.Present.Danger.1994.1080p.HDDVD.x264-hV.ENG chunk 5\n",
      "✅ Scored: 1994_Clear.And.Present.Danger.1994.1080p.HDDVD.x264-hV.ENG chunk 6\n",
      "✅ Scored: 1994_Clear.And.Present.Danger.1994.1080p.HDDVD.x264-hV.ENG chunk 7\n",
      "✅ Scored: 1994_Clear.And.Present.Danger.1994.1080p.HDDVD.x264-hV.ENG chunk 8\n",
      "✅ Scored: 1994_Clear.And.Present.Danger.1994.1080p.HDDVD.x264-hV.ENG chunk 9\n",
      "✅ Scored: 1994_Clear.And.Present.Danger.1994.1080p.HDDVD.x264-hV.ENG chunk 10\n"
     ]
    },
    {
     "name": "stderr",
     "output_type": "stream",
     "text": [
      "Scoring institutional trust (chunked):  59%|▌| 281/478 [2:49:53<1:31:20, 27.82s/"
     ]
    },
    {
     "name": "stdout",
     "output_type": "stream",
     "text": [
      "✅ Scored: 1984_Star Trek 03 Search For Spock 1984 1280x544.eng chunk 1\n",
      "✅ Scored: 1984_Star Trek 03 Search For Spock 1984 1280x544.eng chunk 2\n",
      "✅ Scored: 1984_Star Trek 03 Search For Spock 1984 1280x544.eng chunk 3\n",
      "✅ Scored: 1984_Star Trek 03 Search For Spock 1984 1280x544.eng chunk 4\n",
      "✅ Scored: 1984_Star Trek 03 Search For Spock 1984 1280x544.eng chunk 5\n",
      "✅ Scored: 1984_Star Trek 03 Search For Spock 1984 1280x544.eng chunk 6\n",
      "✅ Scored: 1984_Star Trek 03 Search For Spock 1984 1280x544.eng chunk 7\n"
     ]
    },
    {
     "name": "stderr",
     "output_type": "stream",
     "text": [
      "Scoring institutional trust (chunked):  59%|▌| 282/478 [2:50:17<1:27:24, 26.76s/"
     ]
    },
    {
     "name": "stdout",
     "output_type": "stream",
     "text": [
      "✅ Scored: 1992_waynes.world.1992.DVDRip.XviD.FBM.ENG chunk 1\n",
      "✅ Scored: 1992_waynes.world.1992.DVDRip.XviD.FBM.ENG chunk 2\n",
      "✅ Scored: 1992_waynes.world.1992.DVDRip.XviD.FBM.ENG chunk 3\n",
      "✅ Scored: 1992_waynes.world.1992.DVDRip.XviD.FBM.ENG chunk 4\n",
      "✅ Scored: 1992_waynes.world.1992.DVDRip.XviD.FBM.ENG chunk 5\n",
      "✅ Scored: 1992_waynes.world.1992.DVDRip.XviD.FBM.ENG chunk 6\n",
      "✅ Scored: 1992_waynes.world.1992.DVDRip.XviD.FBM.ENG chunk 7\n",
      "✅ Scored: 1992_waynes.world.1992.DVDRip.XviD.FBM.ENG chunk 8\n",
      "✅ Scored: 1992_waynes.world.1992.DVDRip.XviD.FBM.ENG chunk 9\n"
     ]
    },
    {
     "name": "stderr",
     "output_type": "stream",
     "text": [
      "Scoring institutional trust (chunked):  59%|▌| 283/478 [2:50:46<1:28:47, 27.32s/"
     ]
    },
    {
     "name": "stdout",
     "output_type": "stream",
     "text": [
      "✅ Scored: 1990_The.Hunt.For.Red.October.1990.720p.HDDVD.x264-SiNNERS.ENG chunk 1\n",
      "✅ Scored: 1990_The.Hunt.For.Red.October.1990.720p.HDDVD.x264-SiNNERS.ENG chunk 2\n",
      "✅ Scored: 1990_The.Hunt.For.Red.October.1990.720p.HDDVD.x264-SiNNERS.ENG chunk 3\n",
      "✅ Scored: 1990_The.Hunt.For.Red.October.1990.720p.HDDVD.x264-SiNNERS.ENG chunk 4\n",
      "✅ Scored: 1990_The.Hunt.For.Red.October.1990.720p.HDDVD.x264-SiNNERS.ENG chunk 5\n",
      "✅ Scored: 1990_The.Hunt.For.Red.October.1990.720p.HDDVD.x264-SiNNERS.ENG chunk 6\n",
      "✅ Scored: 1990_The.Hunt.For.Red.October.1990.720p.HDDVD.x264-SiNNERS.ENG chunk 7\n",
      "✅ Scored: 1990_The.Hunt.For.Red.October.1990.720p.HDDVD.x264-SiNNERS.ENG chunk 8\n",
      "✅ Scored: 1990_The.Hunt.For.Red.October.1990.720p.HDDVD.x264-SiNNERS.ENG chunk 9\n",
      "✅ Scored: 1990_The.Hunt.For.Red.October.1990.720p.HDDVD.x264-SiNNERS.ENG chunk 10\n",
      "✅ Scored: 1990_The.Hunt.For.Red.October.1990.720p.HDDVD.x264-SiNNERS.ENG chunk 11\n"
     ]
    },
    {
     "name": "stderr",
     "output_type": "stream",
     "text": [
      "Scoring institutional trust (chunked):  59%|▌| 284/478 [2:51:24<1:38:25, 30.44s/"
     ]
    },
    {
     "name": "stdout",
     "output_type": "stream",
     "text": [
      "✅ Scored: 1990_Total.Recall.1990.BluRay.1080p.x264.DTS.dxva-xander.ENG chunk 1\n",
      "✅ Scored: 1990_Total.Recall.1990.BluRay.1080p.x264.DTS.dxva-xander.ENG chunk 2\n",
      "✅ Scored: 1990_Total.Recall.1990.BluRay.1080p.x264.DTS.dxva-xander.ENG chunk 3\n",
      "✅ Scored: 1990_Total.Recall.1990.BluRay.1080p.x264.DTS.dxva-xander.ENG chunk 4\n",
      "✅ Scored: 1990_Total.Recall.1990.BluRay.1080p.x264.DTS.dxva-xander.ENG chunk 5\n",
      "✅ Scored: 1990_Total.Recall.1990.BluRay.1080p.x264.DTS.dxva-xander.ENG chunk 6\n",
      "✅ Scored: 1990_Total.Recall.1990.BluRay.1080p.x264.DTS.dxva-xander.ENG chunk 7\n",
      "✅ Scored: 1990_Total.Recall.1990.BluRay.1080p.x264.DTS.dxva-xander.ENG chunk 8\n"
     ]
    },
    {
     "name": "stderr",
     "output_type": "stream",
     "text": [
      "Scoring institutional trust (chunked):  60%|▌| 285/478 [2:51:53<1:36:35, 30.03s/"
     ]
    },
    {
     "name": "stdout",
     "output_type": "stream",
     "text": [
      "✅ Scored: 1996_The.Birdcage.1996.720p.BluRay.X264-AMIABLE-HI chunk 1\n",
      "✅ Scored: 1996_The.Birdcage.1996.720p.BluRay.X264-AMIABLE-HI chunk 2\n",
      "✅ Scored: 1996_The.Birdcage.1996.720p.BluRay.X264-AMIABLE-HI chunk 3\n",
      "✅ Scored: 1996_The.Birdcage.1996.720p.BluRay.X264-AMIABLE-HI chunk 4\n",
      "✅ Scored: 1996_The.Birdcage.1996.720p.BluRay.X264-AMIABLE-HI chunk 5\n",
      "✅ Scored: 1996_The.Birdcage.1996.720p.BluRay.X264-AMIABLE-HI chunk 6\n",
      "✅ Scored: 1996_The.Birdcage.1996.720p.BluRay.X264-AMIABLE-HI chunk 7\n",
      "✅ Scored: 1996_The.Birdcage.1996.720p.BluRay.X264-AMIABLE-HI chunk 8\n",
      "✅ Scored: 1996_The.Birdcage.1996.720p.BluRay.X264-AMIABLE-HI chunk 9\n",
      "✅ Scored: 1996_The.Birdcage.1996.720p.BluRay.X264-AMIABLE-HI chunk 10\n",
      "✅ Scored: 1996_The.Birdcage.1996.720p.BluRay.X264-AMIABLE-HI chunk 11\n",
      "✅ Scored: 1996_The.Birdcage.1996.720p.BluRay.X264-AMIABLE-HI chunk 12\n",
      "✅ Scored: 1996_The.Birdcage.1996.720p.BluRay.X264-AMIABLE-HI chunk 13\n"
     ]
    },
    {
     "name": "stderr",
     "output_type": "stream",
     "text": [
      "Scoring institutional trust (chunked):  60%|▌| 286/478 [2:52:38<1:49:40, 34.27s/"
     ]
    },
    {
     "name": "stdout",
     "output_type": "stream",
     "text": [
      "✅ Scored: 2012_Skyfall.2012.720p.BluRay.x264-DAA.eng chunk 1\n",
      "✅ Scored: 2012_Skyfall.2012.720p.BluRay.x264-DAA.eng chunk 2\n",
      "✅ Scored: 2012_Skyfall.2012.720p.BluRay.x264-DAA.eng chunk 3\n",
      "✅ Scored: 2012_Skyfall.2012.720p.BluRay.x264-DAA.eng chunk 4\n",
      "✅ Scored: 2012_Skyfall.2012.720p.BluRay.x264-DAA.eng chunk 5\n",
      "✅ Scored: 2012_Skyfall.2012.720p.BluRay.x264-DAA.eng chunk 6\n",
      "✅ Scored: 2012_Skyfall.2012.720p.BluRay.x264-DAA.eng chunk 7\n",
      "✅ Scored: 2012_Skyfall.2012.720p.BluRay.x264-DAA.eng chunk 8\n"
     ]
    },
    {
     "name": "stderr",
     "output_type": "stream",
     "text": [
      "Scoring institutional trust (chunked):  60%|▌| 287/478 [2:53:07<1:44:30, 32.83s/"
     ]
    },
    {
     "name": "stdout",
     "output_type": "stream",
     "text": [
      "✅ Scored: 2022_Thor.Love.and.Thunder.2022.1080p.WEB-DL.DDP5.1.Atmos.H.264-EVO chunk 1\n",
      "✅ Scored: 2022_Thor.Love.and.Thunder.2022.1080p.WEB-DL.DDP5.1.Atmos.H.264-EVO chunk 2\n",
      "✅ Scored: 2022_Thor.Love.and.Thunder.2022.1080p.WEB-DL.DDP5.1.Atmos.H.264-EVO chunk 3\n",
      "✅ Scored: 2022_Thor.Love.and.Thunder.2022.1080p.WEB-DL.DDP5.1.Atmos.H.264-EVO chunk 4\n",
      "✅ Scored: 2022_Thor.Love.and.Thunder.2022.1080p.WEB-DL.DDP5.1.Atmos.H.264-EVO chunk 5\n",
      "✅ Scored: 2022_Thor.Love.and.Thunder.2022.1080p.WEB-DL.DDP5.1.Atmos.H.264-EVO chunk 6\n",
      "✅ Scored: 2022_Thor.Love.and.Thunder.2022.1080p.WEB-DL.DDP5.1.Atmos.H.264-EVO chunk 7\n",
      "✅ Scored: 2022_Thor.Love.and.Thunder.2022.1080p.WEB-DL.DDP5.1.Atmos.H.264-EVO chunk 8\n",
      "✅ Scored: 2022_Thor.Love.and.Thunder.2022.1080p.WEB-DL.DDP5.1.Atmos.H.264-EVO chunk 9\n",
      "✅ Scored: 2022_Thor.Love.and.Thunder.2022.1080p.WEB-DL.DDP5.1.Atmos.H.264-EVO chunk 10\n",
      "✅ Scored: 2022_Thor.Love.and.Thunder.2022.1080p.WEB-DL.DDP5.1.Atmos.H.264-EVO chunk 11\n"
     ]
    },
    {
     "name": "stderr",
     "output_type": "stream",
     "text": [
      "Scoring institutional trust (chunked):  60%|▌| 288/478 [2:53:44<1:47:34, 33.97s/"
     ]
    },
    {
     "name": "stdout",
     "output_type": "stream",
     "text": [
      "✅ Scored: 1991_Terminator.2.Judgement.Day.Directors.Cut.1991.1080p.HDDVD.DTS.x264-hV.ENG chunk 1\n",
      "✅ Scored: 1991_Terminator.2.Judgement.Day.Directors.Cut.1991.1080p.HDDVD.DTS.x264-hV.ENG chunk 2\n",
      "✅ Scored: 1991_Terminator.2.Judgement.Day.Directors.Cut.1991.1080p.HDDVD.DTS.x264-hV.ENG chunk 3\n",
      "✅ Scored: 1991_Terminator.2.Judgement.Day.Directors.Cut.1991.1080p.HDDVD.DTS.x264-hV.ENG chunk 4\n",
      "✅ Scored: 1991_Terminator.2.Judgement.Day.Directors.Cut.1991.1080p.HDDVD.DTS.x264-hV.ENG chunk 5\n",
      "✅ Scored: 1991_Terminator.2.Judgement.Day.Directors.Cut.1991.1080p.HDDVD.DTS.x264-hV.ENG chunk 6\n",
      "✅ Scored: 1991_Terminator.2.Judgement.Day.Directors.Cut.1991.1080p.HDDVD.DTS.x264-hV.ENG chunk 7\n"
     ]
    },
    {
     "name": "stderr",
     "output_type": "stream",
     "text": [
      "Scoring institutional trust (chunked):  60%|▌| 289/478 [2:54:07<1:36:58, 30.79s/"
     ]
    },
    {
     "name": "stdout",
     "output_type": "stream",
     "text": [
      "✅ Scored: 2018_Jurassic World Fallen Kingdom (2018) 720p English HDCAM-Rip - x264 - MP3 750MB chunk 1\n",
      "✅ Scored: 2018_Jurassic World Fallen Kingdom (2018) 720p English HDCAM-Rip - x264 - MP3 750MB chunk 2\n",
      "✅ Scored: 2018_Jurassic World Fallen Kingdom (2018) 720p English HDCAM-Rip - x264 - MP3 750MB chunk 3\n",
      "✅ Scored: 2018_Jurassic World Fallen Kingdom (2018) 720p English HDCAM-Rip - x264 - MP3 750MB chunk 4\n",
      "✅ Scored: 2018_Jurassic World Fallen Kingdom (2018) 720p English HDCAM-Rip - x264 - MP3 750MB chunk 5\n",
      "✅ Scored: 2018_Jurassic World Fallen Kingdom (2018) 720p English HDCAM-Rip - x264 - MP3 750MB chunk 6\n",
      "✅ Scored: 2018_Jurassic World Fallen Kingdom (2018) 720p English HDCAM-Rip - x264 - MP3 750MB chunk 7\n",
      "✅ Scored: 2018_Jurassic World Fallen Kingdom (2018) 720p English HDCAM-Rip - x264 - MP3 750MB chunk 8\n"
     ]
    },
    {
     "name": "stderr",
     "output_type": "stream",
     "text": [
      "Scoring institutional trust (chunked):  61%|▌| 290/478 [2:54:35<1:33:34, 29.86s/"
     ]
    },
    {
     "name": "stdout",
     "output_type": "stream",
     "text": [
      "✅ Scored: 1993_Jurassic.Park.TUC.1993.DVDRip.XviD.Subs.EN-UnSeeN chunk 1\n",
      "✅ Scored: 1993_Jurassic.Park.TUC.1993.DVDRip.XviD.Subs.EN-UnSeeN chunk 2\n",
      "✅ Scored: 1993_Jurassic.Park.TUC.1993.DVDRip.XviD.Subs.EN-UnSeeN chunk 3\n",
      "✅ Scored: 1993_Jurassic.Park.TUC.1993.DVDRip.XviD.Subs.EN-UnSeeN chunk 4\n",
      "✅ Scored: 1993_Jurassic.Park.TUC.1993.DVDRip.XviD.Subs.EN-UnSeeN chunk 5\n",
      "✅ Scored: 1993_Jurassic.Park.TUC.1993.DVDRip.XviD.Subs.EN-UnSeeN chunk 6\n",
      "✅ Scored: 1993_Jurassic.Park.TUC.1993.DVDRip.XviD.Subs.EN-UnSeeN chunk 7\n",
      "✅ Scored: 1993_Jurassic.Park.TUC.1993.DVDRip.XviD.Subs.EN-UnSeeN chunk 8\n",
      "✅ Scored: 1993_Jurassic.Park.TUC.1993.DVDRip.XviD.Subs.EN-UnSeeN chunk 9\n",
      "✅ Scored: 1993_Jurassic.Park.TUC.1993.DVDRip.XviD.Subs.EN-UnSeeN chunk 10\n"
     ]
    },
    {
     "name": "stderr",
     "output_type": "stream",
     "text": [
      "Scoring institutional trust (chunked):  61%|▌| 291/478 [2:55:08<1:36:03, 30.82s/"
     ]
    },
    {
     "name": "stdout",
     "output_type": "stream",
     "text": [
      "✅ Scored: 1981_For.Your.Eyes.Only.1981.REAL.REPACK.1080p.BluRay.x264-RoCKRioT.ENG chunk 1\n",
      "✅ Scored: 1981_For.Your.Eyes.Only.1981.REAL.REPACK.1080p.BluRay.x264-RoCKRioT.ENG chunk 2\n",
      "✅ Scored: 1981_For.Your.Eyes.Only.1981.REAL.REPACK.1080p.BluRay.x264-RoCKRioT.ENG chunk 3\n",
      "✅ Scored: 1981_For.Your.Eyes.Only.1981.REAL.REPACK.1080p.BluRay.x264-RoCKRioT.ENG chunk 4\n",
      "✅ Scored: 1981_For.Your.Eyes.Only.1981.REAL.REPACK.1080p.BluRay.x264-RoCKRioT.ENG chunk 5\n",
      "✅ Scored: 1981_For.Your.Eyes.Only.1981.REAL.REPACK.1080p.BluRay.x264-RoCKRioT.ENG chunk 6\n"
     ]
    },
    {
     "name": "stderr",
     "output_type": "stream",
     "text": [
      "Scoring institutional trust (chunked):  61%|▌| 292/478 [2:55:28<1:25:42, 27.65s/"
     ]
    },
    {
     "name": "stdout",
     "output_type": "stream",
     "text": [
      "✅ Scored: 1991_The.Silence.Of.The.Lambs.1991.BluRay.1080p.DTS.x264.dxva-EuReKA.ENG chunk 1\n",
      "✅ Scored: 1991_The.Silence.Of.The.Lambs.1991.BluRay.1080p.DTS.x264.dxva-EuReKA.ENG chunk 2\n",
      "✅ Scored: 1991_The.Silence.Of.The.Lambs.1991.BluRay.1080p.DTS.x264.dxva-EuReKA.ENG chunk 3\n",
      "✅ Scored: 1991_The.Silence.Of.The.Lambs.1991.BluRay.1080p.DTS.x264.dxva-EuReKA.ENG chunk 4\n",
      "✅ Scored: 1991_The.Silence.Of.The.Lambs.1991.BluRay.1080p.DTS.x264.dxva-EuReKA.ENG chunk 5\n",
      "✅ Scored: 1991_The.Silence.Of.The.Lambs.1991.BluRay.1080p.DTS.x264.dxva-EuReKA.ENG chunk 6\n",
      "✅ Scored: 1991_The.Silence.Of.The.Lambs.1991.BluRay.1080p.DTS.x264.dxva-EuReKA.ENG chunk 7\n",
      "✅ Scored: 1991_The.Silence.Of.The.Lambs.1991.BluRay.1080p.DTS.x264.dxva-EuReKA.ENG chunk 8\n",
      "✅ Scored: 1991_The.Silence.Of.The.Lambs.1991.BluRay.1080p.DTS.x264.dxva-EuReKA.ENG chunk 9\n"
     ]
    },
    {
     "name": "stderr",
     "output_type": "stream",
     "text": [
      "Scoring institutional trust (chunked):  61%|▌| 293/478 [2:56:02<1:30:58, 29.50s/"
     ]
    },
    {
     "name": "stdout",
     "output_type": "stream",
     "text": [
      "✅ Scored: 1993_In.the.Line.of.Fire.1993.Blu-ray.720p.x264.DD51-HiS@SiLUHD.ENG chunk 1\n",
      "✅ Scored: 1993_In.the.Line.of.Fire.1993.Blu-ray.720p.x264.DD51-HiS@SiLUHD.ENG chunk 2\n",
      "✅ Scored: 1993_In.the.Line.of.Fire.1993.Blu-ray.720p.x264.DD51-HiS@SiLUHD.ENG chunk 3\n",
      "✅ Scored: 1993_In.the.Line.of.Fire.1993.Blu-ray.720p.x264.DD51-HiS@SiLUHD.ENG chunk 4\n",
      "✅ Scored: 1993_In.the.Line.of.Fire.1993.Blu-ray.720p.x264.DD51-HiS@SiLUHD.ENG chunk 5\n",
      "✅ Scored: 1993_In.the.Line.of.Fire.1993.Blu-ray.720p.x264.DD51-HiS@SiLUHD.ENG chunk 6\n",
      "✅ Scored: 1993_In.the.Line.of.Fire.1993.Blu-ray.720p.x264.DD51-HiS@SiLUHD.ENG chunk 7\n",
      "✅ Scored: 1993_In.the.Line.of.Fire.1993.Blu-ray.720p.x264.DD51-HiS@SiLUHD.ENG chunk 8\n",
      "✅ Scored: 1993_In.the.Line.of.Fire.1993.Blu-ray.720p.x264.DD51-HiS@SiLUHD.ENG chunk 9\n"
     ]
    },
    {
     "name": "stderr",
     "output_type": "stream",
     "text": [
      "Scoring institutional trust (chunked):  62%|▌| 294/478 [2:56:32<1:31:09, 29.73s/"
     ]
    },
    {
     "name": "stdout",
     "output_type": "stream",
     "text": [
      "✅ Scored: 2006_Casino.Royale.2006.DVD9.720p.BluRay.DTS.x264-REVEiLLE.ENG chunk 1\n",
      "✅ Scored: 2006_Casino.Royale.2006.DVD9.720p.BluRay.DTS.x264-REVEiLLE.ENG chunk 2\n",
      "✅ Scored: 2006_Casino.Royale.2006.DVD9.720p.BluRay.DTS.x264-REVEiLLE.ENG chunk 3\n",
      "✅ Scored: 2006_Casino.Royale.2006.DVD9.720p.BluRay.DTS.x264-REVEiLLE.ENG chunk 4\n",
      "✅ Scored: 2006_Casino.Royale.2006.DVD9.720p.BluRay.DTS.x264-REVEiLLE.ENG chunk 5\n",
      "✅ Scored: 2006_Casino.Royale.2006.DVD9.720p.BluRay.DTS.x264-REVEiLLE.ENG chunk 6\n",
      "✅ Scored: 2006_Casino.Royale.2006.DVD9.720p.BluRay.DTS.x264-REVEiLLE.ENG chunk 7\n",
      "✅ Scored: 2006_Casino.Royale.2006.DVD9.720p.BluRay.DTS.x264-REVEiLLE.ENG chunk 8\n"
     ]
    },
    {
     "name": "stderr",
     "output_type": "stream",
     "text": [
      "Scoring institutional trust (chunked):  62%|▌| 295/478 [2:57:00<1:28:59, 29.18s/"
     ]
    },
    {
     "name": "stdout",
     "output_type": "stream",
     "text": [
      "✅ Scored: 2019_Toy.Story.4.2019.720p.HDCAM-1XBET chunk 1\n",
      "✅ Scored: 2019_Toy.Story.4.2019.720p.HDCAM-1XBET chunk 2\n",
      "✅ Scored: 2019_Toy.Story.4.2019.720p.HDCAM-1XBET chunk 3\n",
      "✅ Scored: 2019_Toy.Story.4.2019.720p.HDCAM-1XBET chunk 4\n",
      "✅ Scored: 2019_Toy.Story.4.2019.720p.HDCAM-1XBET chunk 5\n",
      "✅ Scored: 2019_Toy.Story.4.2019.720p.HDCAM-1XBET chunk 6\n",
      "✅ Scored: 2019_Toy.Story.4.2019.720p.HDCAM-1XBET chunk 7\n",
      "✅ Scored: 2019_Toy.Story.4.2019.720p.HDCAM-1XBET chunk 8\n",
      "✅ Scored: 2019_Toy.Story.4.2019.720p.HDCAM-1XBET chunk 9\n",
      "✅ Scored: 2019_Toy.Story.4.2019.720p.HDCAM-1XBET chunk 10\n",
      "✅ Scored: 2019_Toy.Story.4.2019.720p.HDCAM-1XBET chunk 11\n"
     ]
    },
    {
     "name": "stderr",
     "output_type": "stream",
     "text": [
      "Scoring institutional trust (chunked):  62%|▌| 296/478 [2:57:41<1:38:52, 32.60s/"
     ]
    },
    {
     "name": "stdout",
     "output_type": "stream",
     "text": [
      "✅ Scored: 2021_F9. The. Fast. Saga. 2021. THEATRICAL. 1080p. BluRay. x264-RUSTED chunk 1\n",
      "✅ Scored: 2021_F9. The. Fast. Saga. 2021. THEATRICAL. 1080p. BluRay. x264-RUSTED chunk 2\n",
      "✅ Scored: 2021_F9. The. Fast. Saga. 2021. THEATRICAL. 1080p. BluRay. x264-RUSTED chunk 3\n",
      "✅ Scored: 2021_F9. The. Fast. Saga. 2021. THEATRICAL. 1080p. BluRay. x264-RUSTED chunk 4\n",
      "✅ Scored: 2021_F9. The. Fast. Saga. 2021. THEATRICAL. 1080p. BluRay. x264-RUSTED chunk 5\n",
      "✅ Scored: 2021_F9. The. Fast. Saga. 2021. THEATRICAL. 1080p. BluRay. x264-RUSTED chunk 6\n",
      "✅ Scored: 2021_F9. The. Fast. Saga. 2021. THEATRICAL. 1080p. BluRay. x264-RUSTED chunk 7\n",
      "✅ Scored: 2021_F9. The. Fast. Saga. 2021. THEATRICAL. 1080p. BluRay. x264-RUSTED chunk 8\n",
      "✅ Scored: 2021_F9. The. Fast. Saga. 2021. THEATRICAL. 1080p. BluRay. x264-RUSTED chunk 9\n",
      "✅ Scored: 2021_F9. The. Fast. Saga. 2021. THEATRICAL. 1080p. BluRay. x264-RUSTED chunk 10\n",
      "✅ Scored: 2021_F9. The. Fast. Saga. 2021. THEATRICAL. 1080p. BluRay. x264-RUSTED chunk 11\n"
     ]
    },
    {
     "name": "stderr",
     "output_type": "stream",
     "text": [
      "Scoring institutional trust (chunked):  62%|▌| 297/478 [2:58:20<1:44:52, 34.77s/"
     ]
    },
    {
     "name": "stdout",
     "output_type": "stream",
     "text": [
      "✅ Scored: 1980_Private.Benjamin.1980.720p.HDTVRip.XviD.AC3-RARBG.eng chunk 1\n",
      "✅ Scored: 1980_Private.Benjamin.1980.720p.HDTVRip.XviD.AC3-RARBG.eng chunk 2\n",
      "✅ Scored: 1980_Private.Benjamin.1980.720p.HDTVRip.XviD.AC3-RARBG.eng chunk 3\n",
      "✅ Scored: 1980_Private.Benjamin.1980.720p.HDTVRip.XviD.AC3-RARBG.eng chunk 4\n",
      "✅ Scored: 1980_Private.Benjamin.1980.720p.HDTVRip.XviD.AC3-RARBG.eng chunk 5\n",
      "✅ Scored: 1980_Private.Benjamin.1980.720p.HDTVRip.XviD.AC3-RARBG.eng chunk 6\n",
      "✅ Scored: 1980_Private.Benjamin.1980.720p.HDTVRip.XviD.AC3-RARBG.eng chunk 7\n",
      "✅ Scored: 1980_Private.Benjamin.1980.720p.HDTVRip.XviD.AC3-RARBG.eng chunk 8\n",
      "✅ Scored: 1980_Private.Benjamin.1980.720p.HDTVRip.XviD.AC3-RARBG.eng chunk 9\n"
     ]
    },
    {
     "name": "stderr",
     "output_type": "stream",
     "text": [
      "Scoring institutional trust (chunked):  62%|▌| 298/478 [2:58:51<1:40:20, 33.44s/"
     ]
    },
    {
     "name": "stdout",
     "output_type": "stream",
     "text": [
      "✅ Scored: 2001_Monsters.Inc.2001.BluRay.1080p.DTS.x264.dxva-EuReKA.ENG chunk 1\n",
      "✅ Scored: 2001_Monsters.Inc.2001.BluRay.1080p.DTS.x264.dxva-EuReKA.ENG chunk 2\n",
      "✅ Scored: 2001_Monsters.Inc.2001.BluRay.1080p.DTS.x264.dxva-EuReKA.ENG chunk 3\n",
      "✅ Scored: 2001_Monsters.Inc.2001.BluRay.1080p.DTS.x264.dxva-EuReKA.ENG chunk 4\n",
      "✅ Scored: 2001_Monsters.Inc.2001.BluRay.1080p.DTS.x264.dxva-EuReKA.ENG chunk 5\n",
      "✅ Scored: 2001_Monsters.Inc.2001.BluRay.1080p.DTS.x264.dxva-EuReKA.ENG chunk 6\n",
      "✅ Scored: 2001_Monsters.Inc.2001.BluRay.1080p.DTS.x264.dxva-EuReKA.ENG chunk 7\n",
      "✅ Scored: 2001_Monsters.Inc.2001.BluRay.1080p.DTS.x264.dxva-EuReKA.ENG chunk 8\n",
      "✅ Scored: 2001_Monsters.Inc.2001.BluRay.1080p.DTS.x264.dxva-EuReKA.ENG chunk 9\n",
      "✅ Scored: 2001_Monsters.Inc.2001.BluRay.1080p.DTS.x264.dxva-EuReKA.ENG chunk 10\n",
      "✅ Scored: 2001_Monsters.Inc.2001.BluRay.1080p.DTS.x264.dxva-EuReKA.ENG chunk 11\n"
     ]
    },
    {
     "name": "stderr",
     "output_type": "stream",
     "text": [
      "Scoring institutional trust (chunked):  63%|▋| 299/478 [2:59:28<1:43:35, 34.72s/"
     ]
    },
    {
     "name": "stdout",
     "output_type": "stream",
     "text": [
      "✅ Scored: 2021_Ghostbusters.Afterlife.2021.1080p.AMZN.WEB-DL.DDP5.1.H.264-EVO chunk 1\n",
      "✅ Scored: 2021_Ghostbusters.Afterlife.2021.1080p.AMZN.WEB-DL.DDP5.1.H.264-EVO chunk 2\n",
      "✅ Scored: 2021_Ghostbusters.Afterlife.2021.1080p.AMZN.WEB-DL.DDP5.1.H.264-EVO chunk 3\n",
      "✅ Scored: 2021_Ghostbusters.Afterlife.2021.1080p.AMZN.WEB-DL.DDP5.1.H.264-EVO chunk 4\n",
      "✅ Scored: 2021_Ghostbusters.Afterlife.2021.1080p.AMZN.WEB-DL.DDP5.1.H.264-EVO chunk 5\n",
      "✅ Scored: 2021_Ghostbusters.Afterlife.2021.1080p.AMZN.WEB-DL.DDP5.1.H.264-EVO chunk 6\n",
      "✅ Scored: 2021_Ghostbusters.Afterlife.2021.1080p.AMZN.WEB-DL.DDP5.1.H.264-EVO chunk 7\n",
      "✅ Scored: 2021_Ghostbusters.Afterlife.2021.1080p.AMZN.WEB-DL.DDP5.1.H.264-EVO chunk 8\n",
      "✅ Scored: 2021_Ghostbusters.Afterlife.2021.1080p.AMZN.WEB-DL.DDP5.1.H.264-EVO chunk 9\n"
     ]
    },
    {
     "name": "stderr",
     "output_type": "stream",
     "text": [
      "Scoring institutional trust (chunked):  63%|▋| 300/478 [3:00:01<1:40:52, 34.00s/"
     ]
    },
    {
     "name": "stdout",
     "output_type": "stream",
     "text": [
      "✅ Scored: 1993_Cliffhanger.1993.Blu-ray.720p.x264.DTS-CHD.ENG chunk 1\n",
      "✅ Scored: 1993_Cliffhanger.1993.Blu-ray.720p.x264.DTS-CHD.ENG chunk 2\n",
      "✅ Scored: 1993_Cliffhanger.1993.Blu-ray.720p.x264.DTS-CHD.ENG chunk 3\n",
      "✅ Scored: 1993_Cliffhanger.1993.Blu-ray.720p.x264.DTS-CHD.ENG chunk 4\n",
      "✅ Scored: 1993_Cliffhanger.1993.Blu-ray.720p.x264.DTS-CHD.ENG chunk 5\n",
      "✅ Scored: 1993_Cliffhanger.1993.Blu-ray.720p.x264.DTS-CHD.ENG chunk 6\n",
      "✅ Scored: 1993_Cliffhanger.1993.Blu-ray.720p.x264.DTS-CHD.ENG chunk 7\n",
      "✅ Scored: 1993_Cliffhanger.1993.Blu-ray.720p.x264.DTS-CHD.ENG chunk 8\n"
     ]
    },
    {
     "name": "stderr",
     "output_type": "stream",
     "text": [
      "Scoring institutional trust (chunked):  63%|▋| 301/478 [3:00:29<1:35:34, 32.40s/"
     ]
    },
    {
     "name": "stdout",
     "output_type": "stream",
     "text": [
      "✅ Scored: 1999_Toy.Story.2.1999.DVDRip.XviD-ShitBusters chunk 1\n",
      "✅ Scored: 1999_Toy.Story.2.1999.DVDRip.XviD-ShitBusters chunk 2\n",
      "✅ Scored: 1999_Toy.Story.2.1999.DVDRip.XviD-ShitBusters chunk 3\n",
      "✅ Scored: 1999_Toy.Story.2.1999.DVDRip.XviD-ShitBusters chunk 4\n",
      "✅ Scored: 1999_Toy.Story.2.1999.DVDRip.XviD-ShitBusters chunk 5\n",
      "✅ Scored: 1999_Toy.Story.2.1999.DVDRip.XviD-ShitBusters chunk 6\n",
      "✅ Scored: 1999_Toy.Story.2.1999.DVDRip.XviD-ShitBusters chunk 7\n",
      "✅ Scored: 1999_Toy.Story.2.1999.DVDRip.XviD-ShitBusters chunk 8\n",
      "✅ Scored: 1999_Toy.Story.2.1999.DVDRip.XviD-ShitBusters chunk 9\n",
      "✅ Scored: 1999_Toy.Story.2.1999.DVDRip.XviD-ShitBusters chunk 10\n",
      "✅ Scored: 1999_Toy.Story.2.1999.DVDRip.XviD-ShitBusters chunk 11\n"
     ]
    },
    {
     "name": "stderr",
     "output_type": "stream",
     "text": [
      "Scoring institutional trust (chunked):  63%|▋| 302/478 [3:01:07<1:39:20, 33.87s/"
     ]
    },
    {
     "name": "stdout",
     "output_type": "stream",
     "text": [
      "✅ Scored: 1998_Good.Will.Hunting.1997.BluRay.1080p.DTS.h264.REMUX.dxva-EuReKA.ENG chunk 1\n",
      "✅ Scored: 1998_Good.Will.Hunting.1997.BluRay.1080p.DTS.h264.REMUX.dxva-EuReKA.ENG chunk 2\n",
      "✅ Scored: 1998_Good.Will.Hunting.1997.BluRay.1080p.DTS.h264.REMUX.dxva-EuReKA.ENG chunk 3\n",
      "✅ Scored: 1998_Good.Will.Hunting.1997.BluRay.1080p.DTS.h264.REMUX.dxva-EuReKA.ENG chunk 4\n",
      "✅ Scored: 1998_Good.Will.Hunting.1997.BluRay.1080p.DTS.h264.REMUX.dxva-EuReKA.ENG chunk 5\n",
      "✅ Scored: 1998_Good.Will.Hunting.1997.BluRay.1080p.DTS.h264.REMUX.dxva-EuReKA.ENG chunk 6\n",
      "✅ Scored: 1998_Good.Will.Hunting.1997.BluRay.1080p.DTS.h264.REMUX.dxva-EuReKA.ENG chunk 7\n",
      "✅ Scored: 1998_Good.Will.Hunting.1997.BluRay.1080p.DTS.h264.REMUX.dxva-EuReKA.ENG chunk 8\n",
      "✅ Scored: 1998_Good.Will.Hunting.1997.BluRay.1080p.DTS.h264.REMUX.dxva-EuReKA.ENG chunk 9\n",
      "✅ Scored: 1998_Good.Will.Hunting.1997.BluRay.1080p.DTS.h264.REMUX.dxva-EuReKA.ENG chunk 10\n",
      "✅ Scored: 1998_Good.Will.Hunting.1997.BluRay.1080p.DTS.h264.REMUX.dxva-EuReKA.ENG chunk 11\n",
      "✅ Scored: 1998_Good.Will.Hunting.1997.BluRay.1080p.DTS.h264.REMUX.dxva-EuReKA.ENG chunk 12\n",
      "✅ Scored: 1998_Good.Will.Hunting.1997.BluRay.1080p.DTS.h264.REMUX.dxva-EuReKA.ENG chunk 13\n",
      "✅ Scored: 1998_Good.Will.Hunting.1997.BluRay.1080p.DTS.h264.REMUX.dxva-EuReKA.ENG chunk 14\n",
      "✅ Scored: 1998_Good.Will.Hunting.1997.BluRay.1080p.DTS.h264.REMUX.dxva-EuReKA.ENG chunk 15\n",
      "✅ Scored: 1998_Good.Will.Hunting.1997.BluRay.1080p.DTS.h264.REMUX.dxva-EuReKA.ENG chunk 16\n",
      "✅ Scored: 1998_Good.Will.Hunting.1997.BluRay.1080p.DTS.h264.REMUX.dxva-EuReKA.ENG chunk 17\n"
     ]
    },
    {
     "name": "stderr",
     "output_type": "stream",
     "text": [
      "Scoring institutional trust (chunked):  63%|▋| 303/478 [3:02:16<2:09:56, 44.55s/"
     ]
    },
    {
     "name": "stdout",
     "output_type": "stream",
     "text": [
      "✅ Scored: 1984_Footloose dvd rip[eng]XviD.Rets.en chunk 1\n",
      "✅ Scored: 1984_Footloose dvd rip[eng]XviD.Rets.en chunk 2\n",
      "✅ Scored: 1984_Footloose dvd rip[eng]XviD.Rets.en chunk 3\n",
      "✅ Scored: 1984_Footloose dvd rip[eng]XviD.Rets.en chunk 4\n",
      "✅ Scored: 1984_Footloose dvd rip[eng]XviD.Rets.en chunk 5\n",
      "✅ Scored: 1984_Footloose dvd rip[eng]XviD.Rets.en chunk 6\n",
      "✅ Scored: 1984_Footloose dvd rip[eng]XviD.Rets.en chunk 7\n",
      "✅ Scored: 1984_Footloose dvd rip[eng]XviD.Rets.en chunk 8\n",
      "✅ Scored: 1984_Footloose dvd rip[eng]XviD.Rets.en chunk 9\n"
     ]
    },
    {
     "name": "stderr",
     "output_type": "stream",
     "text": [
      "Scoring institutional trust (chunked):  64%|▋| 304/478 [3:02:55<2:03:54, 42.73s/"
     ]
    },
    {
     "name": "stdout",
     "output_type": "stream",
     "text": [
      "✅ Scored: 2023_The.Little.Mermaid.2023.1080p.WEB-DL.DDP5.1.Atmos.H.264 (v3) chunk 1\n",
      "✅ Scored: 2023_The.Little.Mermaid.2023.1080p.WEB-DL.DDP5.1.Atmos.H.264 (v3) chunk 2\n",
      "✅ Scored: 2023_The.Little.Mermaid.2023.1080p.WEB-DL.DDP5.1.Atmos.H.264 (v3) chunk 3\n",
      "✅ Scored: 2023_The.Little.Mermaid.2023.1080p.WEB-DL.DDP5.1.Atmos.H.264 (v3) chunk 4\n",
      "✅ Scored: 2023_The.Little.Mermaid.2023.1080p.WEB-DL.DDP5.1.Atmos.H.264 (v3) chunk 5\n",
      "✅ Scored: 2023_The.Little.Mermaid.2023.1080p.WEB-DL.DDP5.1.Atmos.H.264 (v3) chunk 6\n",
      "✅ Scored: 2023_The.Little.Mermaid.2023.1080p.WEB-DL.DDP5.1.Atmos.H.264 (v3) chunk 7\n",
      "✅ Scored: 2023_The.Little.Mermaid.2023.1080p.WEB-DL.DDP5.1.Atmos.H.264 (v3) chunk 8\n",
      "✅ Scored: 2023_The.Little.Mermaid.2023.1080p.WEB-DL.DDP5.1.Atmos.H.264 (v3) chunk 9\n",
      "✅ Scored: 2023_The.Little.Mermaid.2023.1080p.WEB-DL.DDP5.1.Atmos.H.264 (v3) chunk 10\n",
      "✅ Scored: 2023_The.Little.Mermaid.2023.1080p.WEB-DL.DDP5.1.Atmos.H.264 (v3) chunk 11\n",
      "✅ Scored: 2023_The.Little.Mermaid.2023.1080p.WEB-DL.DDP5.1.Atmos.H.264 (v3) chunk 12\n"
     ]
    },
    {
     "name": "stderr",
     "output_type": "stream",
     "text": [
      "Scoring institutional trust (chunked):  64%|▋| 305/478 [3:03:36<2:02:00, 42.31s/"
     ]
    },
    {
     "name": "stdout",
     "output_type": "stream",
     "text": [
      "✅ Scored: 2012_The.Avengers.2012.DVDRip.X264.AC3-NYDIC chunk 1\n",
      "✅ Scored: 2012_The.Avengers.2012.DVDRip.X264.AC3-NYDIC chunk 2\n",
      "✅ Scored: 2012_The.Avengers.2012.DVDRip.X264.AC3-NYDIC chunk 3\n",
      "✅ Scored: 2012_The.Avengers.2012.DVDRip.X264.AC3-NYDIC chunk 4\n",
      "✅ Scored: 2012_The.Avengers.2012.DVDRip.X264.AC3-NYDIC chunk 5\n",
      "✅ Scored: 2012_The.Avengers.2012.DVDRip.X264.AC3-NYDIC chunk 6\n",
      "✅ Scored: 2012_The.Avengers.2012.DVDRip.X264.AC3-NYDIC chunk 7\n",
      "✅ Scored: 2012_The.Avengers.2012.DVDRip.X264.AC3-NYDIC chunk 8\n",
      "✅ Scored: 2012_The.Avengers.2012.DVDRip.X264.AC3-NYDIC chunk 9\n",
      "✅ Scored: 2012_The.Avengers.2012.DVDRip.X264.AC3-NYDIC chunk 10\n",
      "✅ Scored: 2012_The.Avengers.2012.DVDRip.X264.AC3-NYDIC chunk 11\n",
      "✅ Scored: 2012_The.Avengers.2012.DVDRip.X264.AC3-NYDIC chunk 12\n"
     ]
    },
    {
     "name": "stderr",
     "output_type": "stream",
     "text": [
      "Scoring institutional trust (chunked):  64%|▋| 306/478 [3:04:21<2:03:50, 43.20s/"
     ]
    },
    {
     "name": "stdout",
     "output_type": "stream",
     "text": [
      "✅ Scored: 2007_I.Am.Legend[2007]DvDrip[Eng]-aXXo.en chunk 1\n",
      "✅ Scored: 2007_I.Am.Legend[2007]DvDrip[Eng]-aXXo.en chunk 2\n",
      "✅ Scored: 2007_I.Am.Legend[2007]DvDrip[Eng]-aXXo.en chunk 3\n",
      "✅ Scored: 2007_I.Am.Legend[2007]DvDrip[Eng]-aXXo.en chunk 4\n",
      "✅ Scored: 2007_I.Am.Legend[2007]DvDrip[Eng]-aXXo.en chunk 5\n"
     ]
    },
    {
     "name": "stderr",
     "output_type": "stream",
     "text": [
      "Scoring institutional trust (chunked):  64%|▋| 307/478 [3:04:41<1:43:20, 36.26s/"
     ]
    },
    {
     "name": "stdout",
     "output_type": "stream",
     "text": [
      "✅ Scored: 2003_X2 X-Men United 2003 Dvdrip Xvid Ac3.5.1Ch Cd1-Waf chunk 1\n",
      "✅ Scored: 2003_X2 X-Men United 2003 Dvdrip Xvid Ac3.5.1Ch Cd1-Waf chunk 2\n",
      "✅ Scored: 2003_X2 X-Men United 2003 Dvdrip Xvid Ac3.5.1Ch Cd1-Waf chunk 3\n",
      "✅ Scored: 2003_X2 X-Men United 2003 Dvdrip Xvid Ac3.5.1Ch Cd1-Waf chunk 4\n"
     ]
    },
    {
     "name": "stderr",
     "output_type": "stream",
     "text": [
      "Scoring institutional trust (chunked):  64%|▋| 308/478 [3:04:55<1:23:12, 29.37s/"
     ]
    },
    {
     "name": "stdout",
     "output_type": "stream",
     "text": [
      "✅ Scored: 2005_Mr.And.Mrs.Smith.2005.1080p.BluRay.x264-TiMELORDS.ENG chunk 1\n",
      "✅ Scored: 2005_Mr.And.Mrs.Smith.2005.1080p.BluRay.x264-TiMELORDS.ENG chunk 2\n",
      "✅ Scored: 2005_Mr.And.Mrs.Smith.2005.1080p.BluRay.x264-TiMELORDS.ENG chunk 3\n",
      "✅ Scored: 2005_Mr.And.Mrs.Smith.2005.1080p.BluRay.x264-TiMELORDS.ENG chunk 4\n",
      "✅ Scored: 2005_Mr.And.Mrs.Smith.2005.1080p.BluRay.x264-TiMELORDS.ENG chunk 5\n",
      "✅ Scored: 2005_Mr.And.Mrs.Smith.2005.1080p.BluRay.x264-TiMELORDS.ENG chunk 6\n",
      "✅ Scored: 2005_Mr.And.Mrs.Smith.2005.1080p.BluRay.x264-TiMELORDS.ENG chunk 7\n",
      "✅ Scored: 2005_Mr.And.Mrs.Smith.2005.1080p.BluRay.x264-TiMELORDS.ENG chunk 8\n"
     ]
    },
    {
     "name": "stderr",
     "output_type": "stream",
     "text": [
      "Scoring institutional trust (chunked):  65%|▋| 309/478 [3:05:22<1:20:45, 28.67s/"
     ]
    },
    {
     "name": "stdout",
     "output_type": "stream",
     "text": [
      "✅ Scored: 1999_Runaway Bride (1999) [BluRay] [1080p] [YTS.AM].eng chunk 1\n",
      "✅ Scored: 1999_Runaway Bride (1999) [BluRay] [1080p] [YTS.AM].eng chunk 2\n",
      "✅ Scored: 1999_Runaway Bride (1999) [BluRay] [1080p] [YTS.AM].eng chunk 3\n",
      "✅ Scored: 1999_Runaway Bride (1999) [BluRay] [1080p] [YTS.AM].eng chunk 4\n",
      "✅ Scored: 1999_Runaway Bride (1999) [BluRay] [1080p] [YTS.AM].eng chunk 5\n",
      "✅ Scored: 1999_Runaway Bride (1999) [BluRay] [1080p] [YTS.AM].eng chunk 6\n",
      "⚠️ Rate limit hit. Waiting 60 seconds...\n",
      "✅ Scored: 1999_Runaway Bride (1999) [BluRay] [1080p] [YTS.AM].eng chunk 7\n",
      "✅ Scored: 1999_Runaway Bride (1999) [BluRay] [1080p] [YTS.AM].eng chunk 8\n",
      "✅ Scored: 1999_Runaway Bride (1999) [BluRay] [1080p] [YTS.AM].eng chunk 9\n",
      "✅ Scored: 1999_Runaway Bride (1999) [BluRay] [1080p] [YTS.AM].eng chunk 10\n",
      "✅ Scored: 1999_Runaway Bride (1999) [BluRay] [1080p] [YTS.AM].eng chunk 11\n",
      "✅ Scored: 1999_Runaway Bride (1999) [BluRay] [1080p] [YTS.AM].eng chunk 12\n",
      "✅ Scored: 1999_Runaway Bride (1999) [BluRay] [1080p] [YTS.AM].eng chunk 13\n",
      "✅ Scored: 1999_Runaway Bride (1999) [BluRay] [1080p] [YTS.AM].eng chunk 14\n"
     ]
    },
    {
     "name": "stderr",
     "output_type": "stream",
     "text": [
      "Scoring institutional trust (chunked):  65%|▋| 310/478 [3:07:11<2:27:38, 52.73s/"
     ]
    },
    {
     "name": "stdout",
     "output_type": "stream",
     "text": [
      "✅ Scored: 2006_Happy.Feet.2006.1080p.BD9.x264-IGUANA.ENG chunk 1\n",
      "✅ Scored: 2006_Happy.Feet.2006.1080p.BD9.x264-IGUANA.ENG chunk 2\n",
      "✅ Scored: 2006_Happy.Feet.2006.1080p.BD9.x264-IGUANA.ENG chunk 3\n",
      "✅ Scored: 2006_Happy.Feet.2006.1080p.BD9.x264-IGUANA.ENG chunk 4\n",
      "✅ Scored: 2006_Happy.Feet.2006.1080p.BD9.x264-IGUANA.ENG chunk 5\n",
      "✅ Scored: 2006_Happy.Feet.2006.1080p.BD9.x264-IGUANA.ENG chunk 6\n",
      "✅ Scored: 2006_Happy.Feet.2006.1080p.BD9.x264-IGUANA.ENG chunk 7\n",
      "✅ Scored: 2006_Happy.Feet.2006.1080p.BD9.x264-IGUANA.ENG chunk 8\n",
      "✅ Scored: 2006_Happy.Feet.2006.1080p.BD9.x264-IGUANA.ENG chunk 9\n",
      "✅ Scored: 2006_Happy.Feet.2006.1080p.BD9.x264-IGUANA.ENG chunk 10\n",
      "✅ Scored: 2006_Happy.Feet.2006.1080p.BD9.x264-IGUANA.ENG chunk 11\n"
     ]
    },
    {
     "name": "stderr",
     "output_type": "stream",
     "text": [
      "Scoring institutional trust (chunked):  65%|▋| 311/478 [3:07:51<2:16:09, 48.92s/"
     ]
    },
    {
     "name": "stdout",
     "output_type": "stream",
     "text": [
      "✅ Scored: 1999_The.Matrix.1999.720p.HDDVD.DTS.x264-ESiR.ENG chunk 1\n",
      "✅ Scored: 1999_The.Matrix.1999.720p.HDDVD.DTS.x264-ESiR.ENG chunk 2\n",
      "✅ Scored: 1999_The.Matrix.1999.720p.HDDVD.DTS.x264-ESiR.ENG chunk 3\n",
      "✅ Scored: 1999_The.Matrix.1999.720p.HDDVD.DTS.x264-ESiR.ENG chunk 4\n",
      "✅ Scored: 1999_The.Matrix.1999.720p.HDDVD.DTS.x264-ESiR.ENG chunk 5\n",
      "✅ Scored: 1999_The.Matrix.1999.720p.HDDVD.DTS.x264-ESiR.ENG chunk 6\n",
      "✅ Scored: 1999_The.Matrix.1999.720p.HDDVD.DTS.x264-ESiR.ENG chunk 7\n",
      "✅ Scored: 1999_The.Matrix.1999.720p.HDDVD.DTS.x264-ESiR.ENG chunk 8\n",
      "✅ Scored: 1999_The.Matrix.1999.720p.HDDVD.DTS.x264-ESiR.ENG chunk 9\n"
     ]
    },
    {
     "name": "stderr",
     "output_type": "stream",
     "text": [
      "Scoring institutional trust (chunked):  65%|▋| 312/478 [3:08:21<2:00:05, 43.41s/"
     ]
    },
    {
     "name": "stdout",
     "output_type": "stream",
     "text": [
      "✅ Scored: 2021_A.Quiet.Place.Part.II.2020.PROPER.1080p.WEB-DL.DDP5.1.Atmos.H264-CMRG chunk 1\n",
      "✅ Scored: 2021_A.Quiet.Place.Part.II.2020.PROPER.1080p.WEB-DL.DDP5.1.Atmos.H264-CMRG chunk 2\n"
     ]
    },
    {
     "name": "stderr",
     "output_type": "stream",
     "text": [
      "Scoring institutional trust (chunked):  65%|▋| 313/478 [3:08:28<1:29:23, 32.51s/"
     ]
    },
    {
     "name": "stdout",
     "output_type": "stream",
     "text": [
      "✅ Scored: 1993_Sleepless In Seattle (1993).DVD.NonHI.pcc.en.TRSTR chunk 1\n",
      "✅ Scored: 1993_Sleepless In Seattle (1993).DVD.NonHI.pcc.en.TRSTR chunk 2\n",
      "✅ Scored: 1993_Sleepless In Seattle (1993).DVD.NonHI.pcc.en.TRSTR chunk 3\n",
      "✅ Scored: 1993_Sleepless In Seattle (1993).DVD.NonHI.pcc.en.TRSTR chunk 4\n",
      "✅ Scored: 1993_Sleepless In Seattle (1993).DVD.NonHI.pcc.en.TRSTR chunk 5\n",
      "✅ Scored: 1993_Sleepless In Seattle (1993).DVD.NonHI.pcc.en.TRSTR chunk 6\n",
      "✅ Scored: 1993_Sleepless In Seattle (1993).DVD.NonHI.pcc.en.TRSTR chunk 7\n",
      "✅ Scored: 1993_Sleepless In Seattle (1993).DVD.NonHI.pcc.en.TRSTR chunk 8\n",
      "✅ Scored: 1993_Sleepless In Seattle (1993).DVD.NonHI.pcc.en.TRSTR chunk 9\n",
      "✅ Scored: 1993_Sleepless In Seattle (1993).DVD.NonHI.pcc.en.TRSTR chunk 10\n",
      "✅ Scored: 1993_Sleepless In Seattle (1993).DVD.NonHI.pcc.en.TRSTR chunk 11\n",
      "✅ Scored: 1993_Sleepless In Seattle (1993).DVD.NonHI.pcc.en.TRSTR chunk 12\n"
     ]
    },
    {
     "name": "stderr",
     "output_type": "stream",
     "text": [
      "Scoring institutional trust (chunked):  66%|▋| 314/478 [3:09:16<1:41:42, 37.21s/"
     ]
    },
    {
     "name": "stdout",
     "output_type": "stream",
     "text": [
      "✅ Scored: 1986_Ruthless.People.1986.German.DL.720p.HDTV.DD5.1.x264.eng chunk 1\n",
      "✅ Scored: 1986_Ruthless.People.1986.German.DL.720p.HDTV.DD5.1.x264.eng chunk 2\n",
      "✅ Scored: 1986_Ruthless.People.1986.German.DL.720p.HDTV.DD5.1.x264.eng chunk 3\n",
      "✅ Scored: 1986_Ruthless.People.1986.German.DL.720p.HDTV.DD5.1.x264.eng chunk 4\n",
      "✅ Scored: 1986_Ruthless.People.1986.German.DL.720p.HDTV.DD5.1.x264.eng chunk 5\n",
      "✅ Scored: 1986_Ruthless.People.1986.German.DL.720p.HDTV.DD5.1.x264.eng chunk 6\n",
      "✅ Scored: 1986_Ruthless.People.1986.German.DL.720p.HDTV.DD5.1.x264.eng chunk 7\n",
      "✅ Scored: 1986_Ruthless.People.1986.German.DL.720p.HDTV.DD5.1.x264.eng chunk 8\n",
      "✅ Scored: 1986_Ruthless.People.1986.German.DL.720p.HDTV.DD5.1.x264.eng chunk 9\n",
      "✅ Scored: 1986_Ruthless.People.1986.German.DL.720p.HDTV.DD5.1.x264.eng chunk 10\n"
     ]
    },
    {
     "name": "stderr",
     "output_type": "stream",
     "text": [
      "Scoring institutional trust (chunked):  66%|▋| 315/478 [3:09:50<1:38:05, 36.11s/"
     ]
    },
    {
     "name": "stdout",
     "output_type": "stream",
     "text": [
      "✅ Scored: 1993_The.Fugitive.1993.Blu-ray.Re.x264.1080p.DTS-HDS.ENG chunk 1\n",
      "✅ Scored: 1993_The.Fugitive.1993.Blu-ray.Re.x264.1080p.DTS-HDS.ENG chunk 2\n",
      "✅ Scored: 1993_The.Fugitive.1993.Blu-ray.Re.x264.1080p.DTS-HDS.ENG chunk 3\n",
      "✅ Scored: 1993_The.Fugitive.1993.Blu-ray.Re.x264.1080p.DTS-HDS.ENG chunk 4\n",
      "✅ Scored: 1993_The.Fugitive.1993.Blu-ray.Re.x264.1080p.DTS-HDS.ENG chunk 5\n",
      "✅ Scored: 1993_The.Fugitive.1993.Blu-ray.Re.x264.1080p.DTS-HDS.ENG chunk 6\n",
      "✅ Scored: 1993_The.Fugitive.1993.Blu-ray.Re.x264.1080p.DTS-HDS.ENG chunk 7\n",
      "✅ Scored: 1993_The.Fugitive.1993.Blu-ray.Re.x264.1080p.DTS-HDS.ENG chunk 8\n",
      "✅ Scored: 1993_The.Fugitive.1993.Blu-ray.Re.x264.1080p.DTS-HDS.ENG chunk 9\n"
     ]
    },
    {
     "name": "stderr",
     "output_type": "stream",
     "text": [
      "Scoring institutional trust (chunked):  66%|▋| 316/478 [3:10:21<1:33:20, 34.57s/"
     ]
    },
    {
     "name": "stdout",
     "output_type": "stream",
     "text": [
      "✅ Scored: 1993_The.Firm.1993.720p.BluRay.X264-AMIABLE chunk 1\n",
      "✅ Scored: 1993_The.Firm.1993.720p.BluRay.X264-AMIABLE chunk 2\n",
      "✅ Scored: 1993_The.Firm.1993.720p.BluRay.X264-AMIABLE chunk 3\n",
      "✅ Scored: 1993_The.Firm.1993.720p.BluRay.X264-AMIABLE chunk 4\n",
      "✅ Scored: 1993_The.Firm.1993.720p.BluRay.X264-AMIABLE chunk 5\n",
      "✅ Scored: 1993_The.Firm.1993.720p.BluRay.X264-AMIABLE chunk 6\n",
      "✅ Scored: 1993_The.Firm.1993.720p.BluRay.X264-AMIABLE chunk 7\n",
      "✅ Scored: 1993_The.Firm.1993.720p.BluRay.X264-AMIABLE chunk 8\n",
      "✅ Scored: 1993_The.Firm.1993.720p.BluRay.X264-AMIABLE chunk 9\n",
      "✅ Scored: 1993_The.Firm.1993.720p.BluRay.X264-AMIABLE chunk 10\n",
      "✅ Scored: 1993_The.Firm.1993.720p.BluRay.X264-AMIABLE chunk 11\n",
      "✅ Scored: 1993_The.Firm.1993.720p.BluRay.X264-AMIABLE chunk 12\n",
      "✅ Scored: 1993_The.Firm.1993.720p.BluRay.X264-AMIABLE chunk 13\n",
      "✅ Scored: 1993_The.Firm.1993.720p.BluRay.X264-AMIABLE chunk 14\n",
      "✅ Scored: 1993_The.Firm.1993.720p.BluRay.X264-AMIABLE chunk 15\n"
     ]
    },
    {
     "name": "stderr",
     "output_type": "stream",
     "text": [
      "Scoring institutional trust (chunked):  66%|▋| 317/478 [3:11:13<1:47:02, 39.89s/"
     ]
    },
    {
     "name": "stdout",
     "output_type": "stream",
     "text": [
      "✅ Scored: 1984_Gremlins. 1984. 1080p. Bluray. X264-DIMENSION. ENG chunk 1\n",
      "✅ Scored: 1984_Gremlins. 1984. 1080p. Bluray. X264-DIMENSION. ENG chunk 2\n",
      "✅ Scored: 1984_Gremlins. 1984. 1080p. Bluray. X264-DIMENSION. ENG chunk 3\n",
      "✅ Scored: 1984_Gremlins. 1984. 1080p. Bluray. X264-DIMENSION. ENG chunk 4\n",
      "✅ Scored: 1984_Gremlins. 1984. 1080p. Bluray. X264-DIMENSION. ENG chunk 5\n",
      "✅ Scored: 1984_Gremlins. 1984. 1080p. Bluray. X264-DIMENSION. ENG chunk 6\n"
     ]
    },
    {
     "name": "stderr",
     "output_type": "stream",
     "text": [
      "Scoring institutional trust (chunked):  67%|▋| 318/478 [3:11:34<1:30:58, 34.12s/"
     ]
    },
    {
     "name": "stdout",
     "output_type": "stream",
     "text": [
      "✅ Scored: 1998_The.Waterboy.1998.INTERNAL.DVDRip.XViD-BeRRa chunk 1\n",
      "✅ Scored: 1998_The.Waterboy.1998.INTERNAL.DVDRip.XViD-BeRRa chunk 2\n",
      "✅ Scored: 1998_The.Waterboy.1998.INTERNAL.DVDRip.XViD-BeRRa chunk 3\n",
      "✅ Scored: 1998_The.Waterboy.1998.INTERNAL.DVDRip.XViD-BeRRa chunk 4\n",
      "✅ Scored: 1998_The.Waterboy.1998.INTERNAL.DVDRip.XViD-BeRRa chunk 5\n",
      "✅ Scored: 1998_The.Waterboy.1998.INTERNAL.DVDRip.XViD-BeRRa chunk 6\n",
      "✅ Scored: 1998_The.Waterboy.1998.INTERNAL.DVDRip.XViD-BeRRa chunk 7\n",
      "✅ Scored: 1998_The.Waterboy.1998.INTERNAL.DVDRip.XViD-BeRRa chunk 8\n",
      "✅ Scored: 1998_The.Waterboy.1998.INTERNAL.DVDRip.XViD-BeRRa chunk 9\n",
      "✅ Scored: 1998_The.Waterboy.1998.INTERNAL.DVDRip.XViD-BeRRa chunk 10\n"
     ]
    },
    {
     "name": "stderr",
     "output_type": "stream",
     "text": [
      "Scoring institutional trust (chunked):  67%|▋| 319/478 [3:12:08<1:30:23, 34.11s/"
     ]
    },
    {
     "name": "stdout",
     "output_type": "stream",
     "text": [
      "✅ Scored: 1981_Bustin Loose (1981) - LordSadler chunk 1\n",
      "✅ Scored: 1981_Bustin Loose (1981) - LordSadler chunk 2\n",
      "✅ Scored: 1981_Bustin Loose (1981) - LordSadler chunk 3\n",
      "✅ Scored: 1981_Bustin Loose (1981) - LordSadler chunk 4\n",
      "✅ Scored: 1981_Bustin Loose (1981) - LordSadler chunk 5\n",
      "✅ Scored: 1981_Bustin Loose (1981) - LordSadler chunk 6\n",
      "✅ Scored: 1981_Bustin Loose (1981) - LordSadler chunk 7\n",
      "✅ Scored: 1981_Bustin Loose (1981) - LordSadler chunk 8\n",
      "✅ Scored: 1981_Bustin Loose (1981) - LordSadler chunk 9\n",
      "✅ Scored: 1981_Bustin Loose (1981) - LordSadler chunk 10\n",
      "✅ Scored: 1981_Bustin Loose (1981) - LordSadler chunk 11\n",
      "✅ Scored: 1981_Bustin Loose (1981) - LordSadler chunk 12\n"
     ]
    },
    {
     "name": "stderr",
     "output_type": "stream",
     "text": [
      "Scoring institutional trust (chunked):  67%|▋| 320/478 [3:12:49<1:34:53, 36.03s/"
     ]
    },
    {
     "name": "stdout",
     "output_type": "stream",
     "text": [
      "✅ Scored: 2010_Alice.In.Wonderland.2010.Bluray.1080p.DTSHD-MA.x264.dxva-FraMeSToR.ENG chunk 1\n",
      "✅ Scored: 2010_Alice.In.Wonderland.2010.Bluray.1080p.DTSHD-MA.x264.dxva-FraMeSToR.ENG chunk 2\n",
      "✅ Scored: 2010_Alice.In.Wonderland.2010.Bluray.1080p.DTSHD-MA.x264.dxva-FraMeSToR.ENG chunk 3\n",
      "✅ Scored: 2010_Alice.In.Wonderland.2010.Bluray.1080p.DTSHD-MA.x264.dxva-FraMeSToR.ENG chunk 4\n",
      "✅ Scored: 2010_Alice.In.Wonderland.2010.Bluray.1080p.DTSHD-MA.x264.dxva-FraMeSToR.ENG chunk 5\n",
      "✅ Scored: 2010_Alice.In.Wonderland.2010.Bluray.1080p.DTSHD-MA.x264.dxva-FraMeSToR.ENG chunk 6\n",
      "✅ Scored: 2010_Alice.In.Wonderland.2010.Bluray.1080p.DTSHD-MA.x264.dxva-FraMeSToR.ENG chunk 7\n"
     ]
    },
    {
     "name": "stderr",
     "output_type": "stream",
     "text": [
      "Scoring institutional trust (chunked):  67%|▋| 321/478 [3:13:12<1:24:42, 32.37s/"
     ]
    },
    {
     "name": "stdout",
     "output_type": "stream",
     "text": [
      "✅ Scored: 2017_Thor.Ragnarok.2017.720p.WEB-DL.H264.AC3-EVO chunk 1\n",
      "✅ Scored: 2017_Thor.Ragnarok.2017.720p.WEB-DL.H264.AC3-EVO chunk 2\n",
      "✅ Scored: 2017_Thor.Ragnarok.2017.720p.WEB-DL.H264.AC3-EVO chunk 3\n",
      "✅ Scored: 2017_Thor.Ragnarok.2017.720p.WEB-DL.H264.AC3-EVO chunk 4\n",
      "✅ Scored: 2017_Thor.Ragnarok.2017.720p.WEB-DL.H264.AC3-EVO chunk 5\n",
      "✅ Scored: 2017_Thor.Ragnarok.2017.720p.WEB-DL.H264.AC3-EVO chunk 6\n",
      "✅ Scored: 2017_Thor.Ragnarok.2017.720p.WEB-DL.H264.AC3-EVO chunk 7\n",
      "✅ Scored: 2017_Thor.Ragnarok.2017.720p.WEB-DL.H264.AC3-EVO chunk 8\n",
      "✅ Scored: 2017_Thor.Ragnarok.2017.720p.WEB-DL.H264.AC3-EVO chunk 9\n",
      "✅ Scored: 2017_Thor.Ragnarok.2017.720p.WEB-DL.H264.AC3-EVO chunk 10\n",
      "✅ Scored: 2017_Thor.Ragnarok.2017.720p.WEB-DL.H264.AC3-EVO chunk 11\n"
     ]
    },
    {
     "name": "stderr",
     "output_type": "stream",
     "text": [
      "Scoring institutional trust (chunked):  67%|▋| 322/478 [3:13:56<1:32:38, 35.63s/"
     ]
    },
    {
     "name": "stdout",
     "output_type": "stream",
     "text": [
      "✅ Scored: 2018_The.Incredibles.2.2018.HDTC.Versions chunk 1\n",
      "✅ Scored: 2018_The.Incredibles.2.2018.HDTC.Versions chunk 2\n",
      "✅ Scored: 2018_The.Incredibles.2.2018.HDTC.Versions chunk 3\n",
      "✅ Scored: 2018_The.Incredibles.2.2018.HDTC.Versions chunk 4\n",
      "✅ Scored: 2018_The.Incredibles.2.2018.HDTC.Versions chunk 5\n",
      "✅ Scored: 2018_The.Incredibles.2.2018.HDTC.Versions chunk 6\n",
      "✅ Scored: 2018_The.Incredibles.2.2018.HDTC.Versions chunk 7\n",
      "✅ Scored: 2018_The.Incredibles.2.2018.HDTC.Versions chunk 8\n",
      "✅ Scored: 2018_The.Incredibles.2.2018.HDTC.Versions chunk 9\n",
      "✅ Scored: 2018_The.Incredibles.2.2018.HDTC.Versions chunk 10\n",
      "✅ Scored: 2018_The.Incredibles.2.2018.HDTC.Versions chunk 11\n",
      "✅ Scored: 2018_The.Incredibles.2.2018.HDTC.Versions chunk 12\n",
      "✅ Scored: 2018_The.Incredibles.2.2018.HDTC.Versions chunk 13\n"
     ]
    },
    {
     "name": "stderr",
     "output_type": "stream",
     "text": [
      "Scoring institutional trust (chunked):  68%|▋| 323/478 [3:14:43<1:41:05, 39.13s/"
     ]
    },
    {
     "name": "stdout",
     "output_type": "stream",
     "text": [
      "✅ Scored: 1980_Coal Miners Daughter (1980) HDTV 2h 4m 8s @23.976fps.ENG-Hi chunk 1\n",
      "✅ Scored: 1980_Coal Miners Daughter (1980) HDTV 2h 4m 8s @23.976fps.ENG-Hi chunk 2\n",
      "✅ Scored: 1980_Coal Miners Daughter (1980) HDTV 2h 4m 8s @23.976fps.ENG-Hi chunk 3\n",
      "✅ Scored: 1980_Coal Miners Daughter (1980) HDTV 2h 4m 8s @23.976fps.ENG-Hi chunk 4\n",
      "✅ Scored: 1980_Coal Miners Daughter (1980) HDTV 2h 4m 8s @23.976fps.ENG-Hi chunk 5\n",
      "✅ Scored: 1980_Coal Miners Daughter (1980) HDTV 2h 4m 8s @23.976fps.ENG-Hi chunk 6\n",
      "✅ Scored: 1980_Coal Miners Daughter (1980) HDTV 2h 4m 8s @23.976fps.ENG-Hi chunk 7\n",
      "✅ Scored: 1980_Coal Miners Daughter (1980) HDTV 2h 4m 8s @23.976fps.ENG-Hi chunk 8\n",
      "✅ Scored: 1980_Coal Miners Daughter (1980) HDTV 2h 4m 8s @23.976fps.ENG-Hi chunk 9\n",
      "✅ Scored: 1980_Coal Miners Daughter (1980) HDTV 2h 4m 8s @23.976fps.ENG-Hi chunk 10\n",
      "✅ Scored: 1980_Coal Miners Daughter (1980) HDTV 2h 4m 8s @23.976fps.ENG-Hi chunk 11\n",
      "✅ Scored: 1980_Coal Miners Daughter (1980) HDTV 2h 4m 8s @23.976fps.ENG-Hi chunk 12\n",
      "✅ Scored: 1980_Coal Miners Daughter (1980) HDTV 2h 4m 8s @23.976fps.ENG-Hi chunk 13\n"
     ]
    },
    {
     "name": "stderr",
     "output_type": "stream",
     "text": [
      "Scoring institutional trust (chunked):  68%|▋| 324/478 [3:15:28<1:45:19, 41.03s/"
     ]
    },
    {
     "name": "stdout",
     "output_type": "stream",
     "text": [
      "✅ Scored: 1988_Beetle.Juice.1988.720p.BluRay.x264-REVEiLLE.ENG chunk 1\n",
      "✅ Scored: 1988_Beetle.Juice.1988.720p.BluRay.x264-REVEiLLE.ENG chunk 2\n",
      "✅ Scored: 1988_Beetle.Juice.1988.720p.BluRay.x264-REVEiLLE.ENG chunk 3\n",
      "✅ Scored: 1988_Beetle.Juice.1988.720p.BluRay.x264-REVEiLLE.ENG chunk 4\n",
      "✅ Scored: 1988_Beetle.Juice.1988.720p.BluRay.x264-REVEiLLE.ENG chunk 5\n",
      "✅ Scored: 1988_Beetle.Juice.1988.720p.BluRay.x264-REVEiLLE.ENG chunk 6\n",
      "✅ Scored: 1988_Beetle.Juice.1988.720p.BluRay.x264-REVEiLLE.ENG chunk 7\n",
      "✅ Scored: 1988_Beetle.Juice.1988.720p.BluRay.x264-REVEiLLE.ENG chunk 8\n"
     ]
    },
    {
     "name": "stderr",
     "output_type": "stream",
     "text": [
      "Scoring institutional trust (chunked):  68%|▋| 325/478 [3:15:57<1:34:52, 37.21s/"
     ]
    },
    {
     "name": "stdout",
     "output_type": "stream",
     "text": [
      "✅ Scored: 2013_Gravity.2013.BluRay.720p.x264.DTS-HDWinG chunk 1\n",
      "✅ Scored: 2013_Gravity.2013.BluRay.720p.x264.DTS-HDWinG chunk 2\n",
      "✅ Scored: 2013_Gravity.2013.BluRay.720p.x264.DTS-HDWinG chunk 3\n",
      "✅ Scored: 2013_Gravity.2013.BluRay.720p.x264.DTS-HDWinG chunk 4\n",
      "✅ Scored: 2013_Gravity.2013.BluRay.720p.x264.DTS-HDWinG chunk 5\n",
      "✅ Scored: 2013_Gravity.2013.BluRay.720p.x264.DTS-HDWinG chunk 6\n",
      "✅ Scored: 2013_Gravity.2013.BluRay.720p.x264.DTS-HDWinG chunk 7\n"
     ]
    },
    {
     "name": "stderr",
     "output_type": "stream",
     "text": [
      "Scoring institutional trust (chunked):  68%|▋| 326/478 [3:16:22<1:25:19, 33.68s/"
     ]
    },
    {
     "name": "stdout",
     "output_type": "stream",
     "text": [
      "✅ Scored: 2004_Shrek.2.2004.720p.BluRay.x264-MELiTE.eng chunk 1\n",
      "✅ Scored: 2004_Shrek.2.2004.720p.BluRay.x264-MELiTE.eng chunk 2\n",
      "✅ Scored: 2004_Shrek.2.2004.720p.BluRay.x264-MELiTE.eng chunk 3\n",
      "✅ Scored: 2004_Shrek.2.2004.720p.BluRay.x264-MELiTE.eng chunk 4\n",
      "✅ Scored: 2004_Shrek.2.2004.720p.BluRay.x264-MELiTE.eng chunk 5\n",
      "✅ Scored: 2004_Shrek.2.2004.720p.BluRay.x264-MELiTE.eng chunk 6\n",
      "✅ Scored: 2004_Shrek.2.2004.720p.BluRay.x264-MELiTE.eng chunk 7\n",
      "✅ Scored: 2004_Shrek.2.2004.720p.BluRay.x264-MELiTE.eng chunk 8\n",
      "✅ Scored: 2004_Shrek.2.2004.720p.BluRay.x264-MELiTE.eng chunk 9\n",
      "✅ Scored: 2004_Shrek.2.2004.720p.BluRay.x264-MELiTE.eng chunk 10\n"
     ]
    },
    {
     "name": "stderr",
     "output_type": "stream",
     "text": [
      "Scoring institutional trust (chunked):  68%|▋| 327/478 [3:16:56<1:24:58, 33.76s/"
     ]
    },
    {
     "name": "stdout",
     "output_type": "stream",
     "text": [
      "✅ Scored: 2000_Meet.the.Parents.2000.HD-DVD-Rip.x264.1080p.DTS-de[42].ENG chunk 1\n",
      "✅ Scored: 2000_Meet.the.Parents.2000.HD-DVD-Rip.x264.1080p.DTS-de[42].ENG chunk 2\n",
      "✅ Scored: 2000_Meet.the.Parents.2000.HD-DVD-Rip.x264.1080p.DTS-de[42].ENG chunk 3\n",
      "✅ Scored: 2000_Meet.the.Parents.2000.HD-DVD-Rip.x264.1080p.DTS-de[42].ENG chunk 4\n",
      "✅ Scored: 2000_Meet.the.Parents.2000.HD-DVD-Rip.x264.1080p.DTS-de[42].ENG chunk 5\n",
      "✅ Scored: 2000_Meet.the.Parents.2000.HD-DVD-Rip.x264.1080p.DTS-de[42].ENG chunk 6\n",
      "✅ Scored: 2000_Meet.the.Parents.2000.HD-DVD-Rip.x264.1080p.DTS-de[42].ENG chunk 7\n",
      "✅ Scored: 2000_Meet.the.Parents.2000.HD-DVD-Rip.x264.1080p.DTS-de[42].ENG chunk 8\n",
      "⚠️ Rate limit hit. Waiting 60 seconds...\n",
      "✅ Scored: 2000_Meet.the.Parents.2000.HD-DVD-Rip.x264.1080p.DTS-de[42].ENG chunk 9\n",
      "✅ Scored: 2000_Meet.the.Parents.2000.HD-DVD-Rip.x264.1080p.DTS-de[42].ENG chunk 10\n",
      "✅ Scored: 2000_Meet.the.Parents.2000.HD-DVD-Rip.x264.1080p.DTS-de[42].ENG chunk 11\n",
      "✅ Scored: 2000_Meet.the.Parents.2000.HD-DVD-Rip.x264.1080p.DTS-de[42].ENG chunk 12\n"
     ]
    },
    {
     "name": "stderr",
     "output_type": "stream",
     "text": [
      "Scoring institutional trust (chunked):  69%|▋| 328/478 [3:18:39<2:16:30, 54.60s/"
     ]
    },
    {
     "name": "stdout",
     "output_type": "stream",
     "text": [
      "✅ Scored: 2015_Minions.2015.720p.BluRay.x264-GECKOS chunk 1\n",
      "✅ Scored: 2015_Minions.2015.720p.BluRay.x264-GECKOS chunk 2\n",
      "✅ Scored: 2015_Minions.2015.720p.BluRay.x264-GECKOS chunk 3\n",
      "✅ Scored: 2015_Minions.2015.720p.BluRay.x264-GECKOS chunk 4\n",
      "✅ Scored: 2015_Minions.2015.720p.BluRay.x264-GECKOS chunk 5\n",
      "✅ Scored: 2015_Minions.2015.720p.BluRay.x264-GECKOS chunk 6\n"
     ]
    },
    {
     "name": "stderr",
     "output_type": "stream",
     "text": [
      "Scoring institutional trust (chunked):  69%|▋| 329/478 [3:19:00<1:50:32, 44.51s/"
     ]
    },
    {
     "name": "stdout",
     "output_type": "stream",
     "text": [
      "✅ Scored: 1980_Ordinary.People.1980.720p.WEB-DL.AAC2.0.H.264-BS.eng chunk 1\n",
      "✅ Scored: 1980_Ordinary.People.1980.720p.WEB-DL.AAC2.0.H.264-BS.eng chunk 2\n",
      "✅ Scored: 1980_Ordinary.People.1980.720p.WEB-DL.AAC2.0.H.264-BS.eng chunk 3\n",
      "✅ Scored: 1980_Ordinary.People.1980.720p.WEB-DL.AAC2.0.H.264-BS.eng chunk 4\n",
      "✅ Scored: 1980_Ordinary.People.1980.720p.WEB-DL.AAC2.0.H.264-BS.eng chunk 5\n",
      "✅ Scored: 1980_Ordinary.People.1980.720p.WEB-DL.AAC2.0.H.264-BS.eng chunk 6\n",
      "✅ Scored: 1980_Ordinary.People.1980.720p.WEB-DL.AAC2.0.H.264-BS.eng chunk 7\n",
      "✅ Scored: 1980_Ordinary.People.1980.720p.WEB-DL.AAC2.0.H.264-BS.eng chunk 8\n",
      "✅ Scored: 1980_Ordinary.People.1980.720p.WEB-DL.AAC2.0.H.264-BS.eng chunk 9\n",
      "✅ Scored: 1980_Ordinary.People.1980.720p.WEB-DL.AAC2.0.H.264-BS.eng chunk 10\n",
      "✅ Scored: 1980_Ordinary.People.1980.720p.WEB-DL.AAC2.0.H.264-BS.eng chunk 11\n",
      "✅ Scored: 1980_Ordinary.People.1980.720p.WEB-DL.AAC2.0.H.264-BS.eng chunk 12\n"
     ]
    },
    {
     "name": "stderr",
     "output_type": "stream",
     "text": [
      "Scoring institutional trust (chunked):  69%|▋| 330/478 [3:19:40<1:46:29, 43.17s/"
     ]
    },
    {
     "name": "stdout",
     "output_type": "stream",
     "text": [
      "✅ Scored: 2009_Star.Trek.2009.BluRay.1080p.DTS.x264.dxva-EuReKA.ENG chunk 1\n",
      "✅ Scored: 2009_Star.Trek.2009.BluRay.1080p.DTS.x264.dxva-EuReKA.ENG chunk 2\n",
      "✅ Scored: 2009_Star.Trek.2009.BluRay.1080p.DTS.x264.dxva-EuReKA.ENG chunk 3\n",
      "✅ Scored: 2009_Star.Trek.2009.BluRay.1080p.DTS.x264.dxva-EuReKA.ENG chunk 4\n",
      "✅ Scored: 2009_Star.Trek.2009.BluRay.1080p.DTS.x264.dxva-EuReKA.ENG chunk 5\n",
      "✅ Scored: 2009_Star.Trek.2009.BluRay.1080p.DTS.x264.dxva-EuReKA.ENG chunk 6\n",
      "✅ Scored: 2009_Star.Trek.2009.BluRay.1080p.DTS.x264.dxva-EuReKA.ENG chunk 7\n",
      "✅ Scored: 2009_Star.Trek.2009.BluRay.1080p.DTS.x264.dxva-EuReKA.ENG chunk 8\n",
      "✅ Scored: 2009_Star.Trek.2009.BluRay.1080p.DTS.x264.dxva-EuReKA.ENG chunk 9\n",
      "✅ Scored: 2009_Star.Trek.2009.BluRay.1080p.DTS.x264.dxva-EuReKA.ENG chunk 10\n",
      "✅ Scored: 2009_Star.Trek.2009.BluRay.1080p.DTS.x264.dxva-EuReKA.ENG chunk 11\n",
      "✅ Scored: 2009_Star.Trek.2009.BluRay.1080p.DTS.x264.dxva-EuReKA.ENG chunk 12\n"
     ]
    },
    {
     "name": "stderr",
     "output_type": "stream",
     "text": [
      "Scoring institutional trust (chunked):  69%|▋| 331/478 [3:20:23<1:45:47, 43.18s/"
     ]
    },
    {
     "name": "stdout",
     "output_type": "stream",
     "text": [
      "✅ Scored: 2022_Minions.The.Rise.Of.Gru.2022.1080p.AMZN.WEB-DL.DDP5.1.H.264-CMRG chunk 1\n",
      "✅ Scored: 2022_Minions.The.Rise.Of.Gru.2022.1080p.AMZN.WEB-DL.DDP5.1.H.264-CMRG chunk 2\n",
      "✅ Scored: 2022_Minions.The.Rise.Of.Gru.2022.1080p.AMZN.WEB-DL.DDP5.1.H.264-CMRG chunk 3\n",
      "✅ Scored: 2022_Minions.The.Rise.Of.Gru.2022.1080p.AMZN.WEB-DL.DDP5.1.H.264-CMRG chunk 4\n",
      "✅ Scored: 2022_Minions.The.Rise.Of.Gru.2022.1080p.AMZN.WEB-DL.DDP5.1.H.264-CMRG chunk 5\n"
     ]
    },
    {
     "name": "stderr",
     "output_type": "stream",
     "text": [
      "Scoring institutional trust (chunked):  69%|▋| 332/478 [3:20:42<1:26:43, 35.64s/"
     ]
    },
    {
     "name": "stdout",
     "output_type": "stream",
     "text": [
      "✅ Scored: 1993_Proposta.Indecente.[1993].DVDRip.WS.AC3.UnitedShare.ENG chunk 1\n",
      "✅ Scored: 1993_Proposta.Indecente.[1993].DVDRip.WS.AC3.UnitedShare.ENG chunk 2\n",
      "✅ Scored: 1993_Proposta.Indecente.[1993].DVDRip.WS.AC3.UnitedShare.ENG chunk 3\n",
      "✅ Scored: 1993_Proposta.Indecente.[1993].DVDRip.WS.AC3.UnitedShare.ENG chunk 4\n",
      "✅ Scored: 1993_Proposta.Indecente.[1993].DVDRip.WS.AC3.UnitedShare.ENG chunk 5\n",
      "✅ Scored: 1993_Proposta.Indecente.[1993].DVDRip.WS.AC3.UnitedShare.ENG chunk 6\n",
      "✅ Scored: 1993_Proposta.Indecente.[1993].DVDRip.WS.AC3.UnitedShare.ENG chunk 7\n"
     ]
    },
    {
     "name": "stderr",
     "output_type": "stream",
     "text": [
      "Scoring institutional trust (chunked):  70%|▋| 333/478 [3:21:05<1:17:08, 31.92s/"
     ]
    },
    {
     "name": "stdout",
     "output_type": "stream",
     "text": [
      "✅ Scored: 2023_Spider Man Across the Spider Verse 2023 1080p V3 NEW No Chew Edition HDTS Video X264 Will1869 chunk 1\n",
      "✅ Scored: 2023_Spider Man Across the Spider Verse 2023 1080p V3 NEW No Chew Edition HDTS Video X264 Will1869 chunk 2\n",
      "✅ Scored: 2023_Spider Man Across the Spider Verse 2023 1080p V3 NEW No Chew Edition HDTS Video X264 Will1869 chunk 3\n",
      "✅ Scored: 2023_Spider Man Across the Spider Verse 2023 1080p V3 NEW No Chew Edition HDTS Video X264 Will1869 chunk 4\n",
      "✅ Scored: 2023_Spider Man Across the Spider Verse 2023 1080p V3 NEW No Chew Edition HDTS Video X264 Will1869 chunk 5\n",
      "✅ Scored: 2023_Spider Man Across the Spider Verse 2023 1080p V3 NEW No Chew Edition HDTS Video X264 Will1869 chunk 6\n",
      "✅ Scored: 2023_Spider Man Across the Spider Verse 2023 1080p V3 NEW No Chew Edition HDTS Video X264 Will1869 chunk 7\n",
      "✅ Scored: 2023_Spider Man Across the Spider Verse 2023 1080p V3 NEW No Chew Edition HDTS Video X264 Will1869 chunk 8\n",
      "✅ Scored: 2023_Spider Man Across the Spider Verse 2023 1080p V3 NEW No Chew Edition HDTS Video X264 Will1869 chunk 9\n",
      "✅ Scored: 2023_Spider Man Across the Spider Verse 2023 1080p V3 NEW No Chew Edition HDTS Video X264 Will1869 chunk 10\n",
      "✅ Scored: 2023_Spider Man Across the Spider Verse 2023 1080p V3 NEW No Chew Edition HDTS Video X264 Will1869 chunk 11\n",
      "✅ Scored: 2023_Spider Man Across the Spider Verse 2023 1080p V3 NEW No Chew Edition HDTS Video X264 Will1869 chunk 12\n",
      "✅ Scored: 2023_Spider Man Across the Spider Verse 2023 1080p V3 NEW No Chew Edition HDTS Video X264 Will1869 chunk 13\n",
      "✅ Scored: 2023_Spider Man Across the Spider Verse 2023 1080p V3 NEW No Chew Edition HDTS Video X264 Will1869 chunk 14\n",
      "✅ Scored: 2023_Spider Man Across the Spider Verse 2023 1080p V3 NEW No Chew Edition HDTS Video X264 Will1869 chunk 15\n"
     ]
    },
    {
     "name": "stderr",
     "output_type": "stream",
     "text": [
      "Scoring institutional trust (chunked):  70%|▋| 334/478 [3:21:56<1:30:18, 37.63s/"
     ]
    },
    {
     "name": "stdout",
     "output_type": "stream",
     "text": [
      "✅ Scored: 2005_The.Chronicles.Of.Narnia.2005.BluRay.1080p.DTS.x264.dxva-EuReKA.ENG chunk 1\n",
      "✅ Scored: 2005_The.Chronicles.Of.Narnia.2005.BluRay.1080p.DTS.x264.dxva-EuReKA.ENG chunk 2\n",
      "✅ Scored: 2005_The.Chronicles.Of.Narnia.2005.BluRay.1080p.DTS.x264.dxva-EuReKA.ENG chunk 3\n",
      "✅ Scored: 2005_The.Chronicles.Of.Narnia.2005.BluRay.1080p.DTS.x264.dxva-EuReKA.ENG chunk 4\n",
      "✅ Scored: 2005_The.Chronicles.Of.Narnia.2005.BluRay.1080p.DTS.x264.dxva-EuReKA.ENG chunk 5\n",
      "✅ Scored: 2005_The.Chronicles.Of.Narnia.2005.BluRay.1080p.DTS.x264.dxva-EuReKA.ENG chunk 6\n",
      "✅ Scored: 2005_The.Chronicles.Of.Narnia.2005.BluRay.1080p.DTS.x264.dxva-EuReKA.ENG chunk 7\n",
      "✅ Scored: 2005_The.Chronicles.Of.Narnia.2005.BluRay.1080p.DTS.x264.dxva-EuReKA.ENG chunk 8\n"
     ]
    },
    {
     "name": "stderr",
     "output_type": "stream",
     "text": [
      "Scoring institutional trust (chunked):  70%|▋| 335/478 [3:22:24<1:22:58, 34.81s/"
     ]
    },
    {
     "name": "stdout",
     "output_type": "stream",
     "text": [
      "✅ Scored: 1992_Aladdin.1992.1080p.BluRay.X264-AMIABLE chunk 1\n",
      "✅ Scored: 1992_Aladdin.1992.1080p.BluRay.X264-AMIABLE chunk 2\n",
      "✅ Scored: 1992_Aladdin.1992.1080p.BluRay.X264-AMIABLE chunk 3\n",
      "✅ Scored: 1992_Aladdin.1992.1080p.BluRay.X264-AMIABLE chunk 4\n",
      "✅ Scored: 1992_Aladdin.1992.1080p.BluRay.X264-AMIABLE chunk 5\n",
      "✅ Scored: 1992_Aladdin.1992.1080p.BluRay.X264-AMIABLE chunk 6\n",
      "✅ Scored: 1992_Aladdin.1992.1080p.BluRay.X264-AMIABLE chunk 7\n",
      "✅ Scored: 1992_Aladdin.1992.1080p.BluRay.X264-AMIABLE chunk 8\n",
      "✅ Scored: 1992_Aladdin.1992.1080p.BluRay.X264-AMIABLE chunk 9\n",
      "✅ Scored: 1992_Aladdin.1992.1080p.BluRay.X264-AMIABLE chunk 10\n"
     ]
    },
    {
     "name": "stderr",
     "output_type": "stream",
     "text": [
      "Scoring institutional trust (chunked):  70%|▋| 336/478 [3:22:57<1:21:28, 34.43s/"
     ]
    },
    {
     "name": "stdout",
     "output_type": "stream",
     "text": [
      "✅ Scored: 2003_TLOTR.The.Return.of.the.King.2003.Extended.BluRay.1080p.DTSES6.1.x264-CHD.eng chunk 1\n",
      "✅ Scored: 2003_TLOTR.The.Return.of.the.King.2003.Extended.BluRay.1080p.DTSES6.1.x264-CHD.eng chunk 2\n",
      "✅ Scored: 2003_TLOTR.The.Return.of.the.King.2003.Extended.BluRay.1080p.DTSES6.1.x264-CHD.eng chunk 3\n",
      "✅ Scored: 2003_TLOTR.The.Return.of.the.King.2003.Extended.BluRay.1080p.DTSES6.1.x264-CHD.eng chunk 4\n",
      "✅ Scored: 2003_TLOTR.The.Return.of.the.King.2003.Extended.BluRay.1080p.DTSES6.1.x264-CHD.eng chunk 5\n",
      "✅ Scored: 2003_TLOTR.The.Return.of.the.King.2003.Extended.BluRay.1080p.DTSES6.1.x264-CHD.eng chunk 6\n",
      "✅ Scored: 2003_TLOTR.The.Return.of.the.King.2003.Extended.BluRay.1080p.DTSES6.1.x264-CHD.eng chunk 7\n",
      "✅ Scored: 2003_TLOTR.The.Return.of.the.King.2003.Extended.BluRay.1080p.DTSES6.1.x264-CHD.eng chunk 8\n",
      "✅ Scored: 2003_TLOTR.The.Return.of.the.King.2003.Extended.BluRay.1080p.DTSES6.1.x264-CHD.eng chunk 9\n",
      "✅ Scored: 2003_TLOTR.The.Return.of.the.King.2003.Extended.BluRay.1080p.DTSES6.1.x264-CHD.eng chunk 10\n",
      "✅ Scored: 2003_TLOTR.The.Return.of.the.King.2003.Extended.BluRay.1080p.DTSES6.1.x264-CHD.eng chunk 11\n"
     ]
    },
    {
     "name": "stderr",
     "output_type": "stream",
     "text": [
      "Scoring institutional trust (chunked):  71%|▋| 337/478 [3:23:34<1:22:17, 35.02s/"
     ]
    },
    {
     "name": "stdout",
     "output_type": "stream",
     "text": [
      "✅ Scored: 2003_Chicago.2002.PROPER.1080p.BluRay.x264-LCHD.ENG chunk 1\n",
      "✅ Scored: 2003_Chicago.2002.PROPER.1080p.BluRay.x264-LCHD.ENG chunk 2\n",
      "✅ Scored: 2003_Chicago.2002.PROPER.1080p.BluRay.x264-LCHD.ENG chunk 3\n",
      "✅ Scored: 2003_Chicago.2002.PROPER.1080p.BluRay.x264-LCHD.ENG chunk 4\n",
      "✅ Scored: 2003_Chicago.2002.PROPER.1080p.BluRay.x264-LCHD.ENG chunk 5\n",
      "✅ Scored: 2003_Chicago.2002.PROPER.1080p.BluRay.x264-LCHD.ENG chunk 6\n",
      "✅ Scored: 2003_Chicago.2002.PROPER.1080p.BluRay.x264-LCHD.ENG chunk 7\n",
      "✅ Scored: 2003_Chicago.2002.PROPER.1080p.BluRay.x264-LCHD.ENG chunk 8\n",
      "✅ Scored: 2003_Chicago.2002.PROPER.1080p.BluRay.x264-LCHD.ENG chunk 9\n",
      "✅ Scored: 2003_Chicago.2002.PROPER.1080p.BluRay.x264-LCHD.ENG chunk 10\n",
      "✅ Scored: 2003_Chicago.2002.PROPER.1080p.BluRay.x264-LCHD.ENG chunk 11\n",
      "✅ Scored: 2003_Chicago.2002.PROPER.1080p.BluRay.x264-LCHD.ENG chunk 12\n",
      "✅ Scored: 2003_Chicago.2002.PROPER.1080p.BluRay.x264-LCHD.ENG chunk 13\n"
     ]
    },
    {
     "name": "stderr",
     "output_type": "stream",
     "text": [
      "Scoring institutional trust (chunked):  71%|▋| 338/478 [3:24:17<1:27:03, 37.31s/"
     ]
    },
    {
     "name": "stdout",
     "output_type": "stream",
     "text": [
      "✅ Scored: 1998_dr_dolittle_engl chunk 1\n",
      "✅ Scored: 1998_dr_dolittle_engl chunk 2\n",
      "✅ Scored: 1998_dr_dolittle_engl chunk 3\n",
      "✅ Scored: 1998_dr_dolittle_engl chunk 4\n",
      "✅ Scored: 1998_dr_dolittle_engl chunk 5\n",
      "✅ Scored: 1998_dr_dolittle_engl chunk 6\n",
      "✅ Scored: 1998_dr_dolittle_engl chunk 7\n",
      "✅ Scored: 1998_dr_dolittle_engl chunk 8\n",
      "✅ Scored: 1998_dr_dolittle_engl chunk 9\n",
      "✅ Scored: 1998_dr_dolittle_engl chunk 10\n",
      "✅ Scored: 1998_dr_dolittle_engl chunk 11\n"
     ]
    },
    {
     "name": "stderr",
     "output_type": "stream",
     "text": [
      "Scoring institutional trust (chunked):  71%|▋| 339/478 [3:24:54<1:26:40, 37.42s/"
     ]
    },
    {
     "name": "stdout",
     "output_type": "stream",
     "text": [
      "✅ Scored: 2003_Bruce.Almighty.2003.[1280x694].23.976fps.720p.BRRip.x264-ENG chunk 1\n",
      "✅ Scored: 2003_Bruce.Almighty.2003.[1280x694].23.976fps.720p.BRRip.x264-ENG chunk 2\n",
      "✅ Scored: 2003_Bruce.Almighty.2003.[1280x694].23.976fps.720p.BRRip.x264-ENG chunk 3\n",
      "✅ Scored: 2003_Bruce.Almighty.2003.[1280x694].23.976fps.720p.BRRip.x264-ENG chunk 4\n",
      "✅ Scored: 2003_Bruce.Almighty.2003.[1280x694].23.976fps.720p.BRRip.x264-ENG chunk 5\n",
      "✅ Scored: 2003_Bruce.Almighty.2003.[1280x694].23.976fps.720p.BRRip.x264-ENG chunk 6\n",
      "✅ Scored: 2003_Bruce.Almighty.2003.[1280x694].23.976fps.720p.BRRip.x264-ENG chunk 7\n",
      "✅ Scored: 2003_Bruce.Almighty.2003.[1280x694].23.976fps.720p.BRRip.x264-ENG chunk 8\n",
      "✅ Scored: 2003_Bruce.Almighty.2003.[1280x694].23.976fps.720p.BRRip.x264-ENG chunk 9\n",
      "✅ Scored: 2003_Bruce.Almighty.2003.[1280x694].23.976fps.720p.BRRip.x264-ENG chunk 10\n",
      "✅ Scored: 2003_Bruce.Almighty.2003.[1280x694].23.976fps.720p.BRRip.x264-ENG chunk 11\n"
     ]
    },
    {
     "name": "stderr",
     "output_type": "stream",
     "text": [
      "Scoring institutional trust (chunked):  71%|▋| 340/478 [3:25:34<1:27:26, 38.02s/"
     ]
    },
    {
     "name": "stdout",
     "output_type": "stream",
     "text": [
      "✅ Scored: 2000_Scary Movie 1 iNT DvD RiP- WaCkOs chunk 1\n",
      "✅ Scored: 2000_Scary Movie 1 iNT DvD RiP- WaCkOs chunk 2\n",
      "✅ Scored: 2000_Scary Movie 1 iNT DvD RiP- WaCkOs chunk 3\n",
      "✅ Scored: 2000_Scary Movie 1 iNT DvD RiP- WaCkOs chunk 4\n",
      "✅ Scored: 2000_Scary Movie 1 iNT DvD RiP- WaCkOs chunk 5\n",
      "✅ Scored: 2000_Scary Movie 1 iNT DvD RiP- WaCkOs chunk 6\n",
      "✅ Scored: 2000_Scary Movie 1 iNT DvD RiP- WaCkOs chunk 7\n",
      "✅ Scored: 2000_Scary Movie 1 iNT DvD RiP- WaCkOs chunk 8\n",
      "✅ Scored: 2000_Scary Movie 1 iNT DvD RiP- WaCkOs chunk 9\n",
      "✅ Scored: 2000_Scary Movie 1 iNT DvD RiP- WaCkOs chunk 10\n",
      "✅ Scored: 2000_Scary Movie 1 iNT DvD RiP- WaCkOs chunk 11\n"
     ]
    },
    {
     "name": "stderr",
     "output_type": "stream",
     "text": [
      "Scoring institutional trust (chunked):  71%|▋| 341/478 [3:26:12<1:26:45, 38.00s/"
     ]
    },
    {
     "name": "stdout",
     "output_type": "stream",
     "text": [
      "✅ Scored: 1999_The.Mummy.1999.Blu-ray.720p.x264.DTS-CHD.ENG chunk 1\n",
      "✅ Scored: 1999_The.Mummy.1999.Blu-ray.720p.x264.DTS-CHD.ENG chunk 2\n",
      "✅ Scored: 1999_The.Mummy.1999.Blu-ray.720p.x264.DTS-CHD.ENG chunk 3\n",
      "✅ Scored: 1999_The.Mummy.1999.Blu-ray.720p.x264.DTS-CHD.ENG chunk 4\n",
      "✅ Scored: 1999_The.Mummy.1999.Blu-ray.720p.x264.DTS-CHD.ENG chunk 5\n",
      "✅ Scored: 1999_The.Mummy.1999.Blu-ray.720p.x264.DTS-CHD.ENG chunk 6\n",
      "✅ Scored: 1999_The.Mummy.1999.Blu-ray.720p.x264.DTS-CHD.ENG chunk 7\n",
      "✅ Scored: 1999_The.Mummy.1999.Blu-ray.720p.x264.DTS-CHD.ENG chunk 8\n"
     ]
    },
    {
     "name": "stderr",
     "output_type": "stream",
     "text": [
      "Scoring institutional trust (chunked):  72%|▋| 342/478 [3:26:41<1:20:01, 35.30s/"
     ]
    },
    {
     "name": "stdout",
     "output_type": "stream",
     "text": [
      "✅ Scored: 2013_Fast.And.Furious.6.2013.1080p.WEB-DL.H264-BLUEBIRD chunk 1\n",
      "✅ Scored: 2013_Fast.And.Furious.6.2013.1080p.WEB-DL.H264-BLUEBIRD chunk 2\n",
      "✅ Scored: 2013_Fast.And.Furious.6.2013.1080p.WEB-DL.H264-BLUEBIRD chunk 3\n",
      "✅ Scored: 2013_Fast.And.Furious.6.2013.1080p.WEB-DL.H264-BLUEBIRD chunk 4\n",
      "✅ Scored: 2013_Fast.And.Furious.6.2013.1080p.WEB-DL.H264-BLUEBIRD chunk 5\n",
      "✅ Scored: 2013_Fast.And.Furious.6.2013.1080p.WEB-DL.H264-BLUEBIRD chunk 6\n",
      "✅ Scored: 2013_Fast.And.Furious.6.2013.1080p.WEB-DL.H264-BLUEBIRD chunk 7\n",
      "✅ Scored: 2013_Fast.And.Furious.6.2013.1080p.WEB-DL.H264-BLUEBIRD chunk 8\n",
      "✅ Scored: 2013_Fast.And.Furious.6.2013.1080p.WEB-DL.H264-BLUEBIRD chunk 9\n",
      "✅ Scored: 2013_Fast.And.Furious.6.2013.1080p.WEB-DL.H264-BLUEBIRD chunk 10\n"
     ]
    },
    {
     "name": "stderr",
     "output_type": "stream",
     "text": [
      "Scoring institutional trust (chunked):  72%|▋| 343/478 [3:27:17<1:19:57, 35.54s/"
     ]
    },
    {
     "name": "stdout",
     "output_type": "stream",
     "text": [
      "✅ Scored: 1996_Twister.1996.720p.BluRay.x264-HALCYON chunk 1\n",
      "✅ Scored: 1996_Twister.1996.720p.BluRay.x264-HALCYON chunk 2\n",
      "✅ Scored: 1996_Twister.1996.720p.BluRay.x264-HALCYON chunk 3\n",
      "✅ Scored: 1996_Twister.1996.720p.BluRay.x264-HALCYON chunk 4\n",
      "✅ Scored: 1996_Twister.1996.720p.BluRay.x264-HALCYON chunk 5\n",
      "✅ Scored: 1996_Twister.1996.720p.BluRay.x264-HALCYON chunk 6\n",
      "✅ Scored: 1996_Twister.1996.720p.BluRay.x264-HALCYON chunk 7\n",
      "✅ Scored: 1996_Twister.1996.720p.BluRay.x264-HALCYON chunk 8\n"
     ]
    },
    {
     "name": "stderr",
     "output_type": "stream",
     "text": [
      "Scoring institutional trust (chunked):  72%|▋| 344/478 [3:27:44<1:13:36, 32.96s/"
     ]
    },
    {
     "name": "stdout",
     "output_type": "stream",
     "text": [
      "✅ Scored: 2021_Black.Widow.2021.1080p.WEB.H264-TIMECUT chunk 1\n",
      "✅ Scored: 2021_Black.Widow.2021.1080p.WEB.H264-TIMECUT chunk 2\n",
      "✅ Scored: 2021_Black.Widow.2021.1080p.WEB.H264-TIMECUT chunk 3\n",
      "✅ Scored: 2021_Black.Widow.2021.1080p.WEB.H264-TIMECUT chunk 4\n",
      "✅ Scored: 2021_Black.Widow.2021.1080p.WEB.H264-TIMECUT chunk 5\n",
      "✅ Scored: 2021_Black.Widow.2021.1080p.WEB.H264-TIMECUT chunk 6\n",
      "✅ Scored: 2021_Black.Widow.2021.1080p.WEB.H264-TIMECUT chunk 7\n",
      "✅ Scored: 2021_Black.Widow.2021.1080p.WEB.H264-TIMECUT chunk 8\n",
      "✅ Scored: 2021_Black.Widow.2021.1080p.WEB.H264-TIMECUT chunk 9\n"
     ]
    },
    {
     "name": "stderr",
     "output_type": "stream",
     "text": [
      "Scoring institutional trust (chunked):  72%|▋| 345/478 [3:28:15<1:12:13, 32.58s/"
     ]
    },
    {
     "name": "stdout",
     "output_type": "stream",
     "text": [
      "✅ Scored: 1979_meatballs.1979.720p.bluray.x264-psychd-eng chunk 1\n",
      "✅ Scored: 1979_meatballs.1979.720p.bluray.x264-psychd-eng chunk 2\n",
      "✅ Scored: 1979_meatballs.1979.720p.bluray.x264-psychd-eng chunk 3\n",
      "✅ Scored: 1979_meatballs.1979.720p.bluray.x264-psychd-eng chunk 4\n",
      "✅ Scored: 1979_meatballs.1979.720p.bluray.x264-psychd-eng chunk 5\n",
      "✅ Scored: 1979_meatballs.1979.720p.bluray.x264-psychd-eng chunk 6\n",
      "✅ Scored: 1979_meatballs.1979.720p.bluray.x264-psychd-eng chunk 7\n",
      "✅ Scored: 1979_meatballs.1979.720p.bluray.x264-psychd-eng chunk 8\n",
      "✅ Scored: 1979_meatballs.1979.720p.bluray.x264-psychd-eng chunk 9\n",
      "✅ Scored: 1979_meatballs.1979.720p.bluray.x264-psychd-eng chunk 10\n",
      "✅ Scored: 1979_meatballs.1979.720p.bluray.x264-psychd-eng chunk 11\n"
     ]
    },
    {
     "name": "stderr",
     "output_type": "stream",
     "text": [
      "Scoring institutional trust (chunked):  72%|▋| 346/478 [3:28:54<1:15:44, 34.43s/"
     ]
    },
    {
     "name": "stdout",
     "output_type": "stream",
     "text": [
      "✅ Scored: 1997_Titanic.1997.720p.BluRay.X264-AMIABLE chunk 1\n",
      "✅ Scored: 1997_Titanic.1997.720p.BluRay.X264-AMIABLE chunk 2\n",
      "✅ Scored: 1997_Titanic.1997.720p.BluRay.X264-AMIABLE chunk 3\n",
      "✅ Scored: 1997_Titanic.1997.720p.BluRay.X264-AMIABLE chunk 4\n",
      "✅ Scored: 1997_Titanic.1997.720p.BluRay.X264-AMIABLE chunk 5\n",
      "✅ Scored: 1997_Titanic.1997.720p.BluRay.X264-AMIABLE chunk 6\n",
      "✅ Scored: 1997_Titanic.1997.720p.BluRay.X264-AMIABLE chunk 7\n",
      "✅ Scored: 1997_Titanic.1997.720p.BluRay.X264-AMIABLE chunk 8\n",
      "✅ Scored: 1997_Titanic.1997.720p.BluRay.X264-AMIABLE chunk 9\n",
      "✅ Scored: 1997_Titanic.1997.720p.BluRay.X264-AMIABLE chunk 10\n",
      "✅ Scored: 1997_Titanic.1997.720p.BluRay.X264-AMIABLE chunk 11\n",
      "✅ Scored: 1997_Titanic.1997.720p.BluRay.X264-AMIABLE chunk 12\n",
      "✅ Scored: 1997_Titanic.1997.720p.BluRay.X264-AMIABLE chunk 13\n",
      "✅ Scored: 1997_Titanic.1997.720p.BluRay.X264-AMIABLE chunk 14\n"
     ]
    },
    {
     "name": "stderr",
     "output_type": "stream",
     "text": [
      "Scoring institutional trust (chunked):  73%|▋| 347/478 [3:29:42<1:23:55, 38.44s/"
     ]
    },
    {
     "name": "stdout",
     "output_type": "stream",
     "text": [
      "✅ Scored: 2006_Talladega.Nights.1080p.BluRay.WMV-HD.BD9-KOADIC.ENG chunk 1\n",
      "✅ Scored: 2006_Talladega.Nights.1080p.BluRay.WMV-HD.BD9-KOADIC.ENG chunk 2\n",
      "✅ Scored: 2006_Talladega.Nights.1080p.BluRay.WMV-HD.BD9-KOADIC.ENG chunk 3\n",
      "✅ Scored: 2006_Talladega.Nights.1080p.BluRay.WMV-HD.BD9-KOADIC.ENG chunk 4\n",
      "✅ Scored: 2006_Talladega.Nights.1080p.BluRay.WMV-HD.BD9-KOADIC.ENG chunk 5\n",
      "✅ Scored: 2006_Talladega.Nights.1080p.BluRay.WMV-HD.BD9-KOADIC.ENG chunk 6\n",
      "✅ Scored: 2006_Talladega.Nights.1080p.BluRay.WMV-HD.BD9-KOADIC.ENG chunk 7\n",
      "✅ Scored: 2006_Talladega.Nights.1080p.BluRay.WMV-HD.BD9-KOADIC.ENG chunk 8\n",
      "✅ Scored: 2006_Talladega.Nights.1080p.BluRay.WMV-HD.BD9-KOADIC.ENG chunk 9\n",
      "✅ Scored: 2006_Talladega.Nights.1080p.BluRay.WMV-HD.BD9-KOADIC.ENG chunk 10\n",
      "✅ Scored: 2006_Talladega.Nights.1080p.BluRay.WMV-HD.BD9-KOADIC.ENG chunk 11\n",
      "✅ Scored: 2006_Talladega.Nights.1080p.BluRay.WMV-HD.BD9-KOADIC.ENG chunk 12\n",
      "✅ Scored: 2006_Talladega.Nights.1080p.BluRay.WMV-HD.BD9-KOADIC.ENG chunk 13\n",
      "✅ Scored: 2006_Talladega.Nights.1080p.BluRay.WMV-HD.BD9-KOADIC.ENG chunk 14\n",
      "✅ Scored: 2006_Talladega.Nights.1080p.BluRay.WMV-HD.BD9-KOADIC.ENG chunk 15\n",
      "✅ Scored: 2006_Talladega.Nights.1080p.BluRay.WMV-HD.BD9-KOADIC.ENG chunk 16\n",
      "✅ Scored: 2006_Talladega.Nights.1080p.BluRay.WMV-HD.BD9-KOADIC.ENG chunk 17\n",
      "✅ Scored: 2006_Talladega.Nights.1080p.BluRay.WMV-HD.BD9-KOADIC.ENG chunk 18\n"
     ]
    },
    {
     "name": "stderr",
     "output_type": "stream",
     "text": [
      "Scoring institutional trust (chunked):  73%|▋| 348/478 [3:30:46<1:39:42, 46.02s/"
     ]
    },
    {
     "name": "stdout",
     "output_type": "stream",
     "text": [
      "✅ Scored: 2000_What.Lies.Beneath.2000.720p.WEB-DL.DD5.1.H.264-ViGi chunk 1\n",
      "✅ Scored: 2000_What.Lies.Beneath.2000.720p.WEB-DL.DD5.1.H.264-ViGi chunk 2\n",
      "✅ Scored: 2000_What.Lies.Beneath.2000.720p.WEB-DL.DD5.1.H.264-ViGi chunk 3\n",
      "✅ Scored: 2000_What.Lies.Beneath.2000.720p.WEB-DL.DD5.1.H.264-ViGi chunk 4\n",
      "✅ Scored: 2000_What.Lies.Beneath.2000.720p.WEB-DL.DD5.1.H.264-ViGi chunk 5\n",
      "✅ Scored: 2000_What.Lies.Beneath.2000.720p.WEB-DL.DD5.1.H.264-ViGi chunk 6\n",
      "✅ Scored: 2000_What.Lies.Beneath.2000.720p.WEB-DL.DD5.1.H.264-ViGi chunk 7\n"
     ]
    },
    {
     "name": "stderr",
     "output_type": "stream",
     "text": [
      "Scoring institutional trust (chunked):  73%|▋| 349/478 [3:31:09<1:24:17, 39.20s/"
     ]
    },
    {
     "name": "stdout",
     "output_type": "stream",
     "text": [
      "✅ Scored: 2019_Avengers Endgame 2019 NEW 720p HDCAM x264-iMaX chunk 1\n",
      "✅ Scored: 2019_Avengers Endgame 2019 NEW 720p HDCAM x264-iMaX chunk 2\n",
      "✅ Scored: 2019_Avengers Endgame 2019 NEW 720p HDCAM x264-iMaX chunk 3\n",
      "✅ Scored: 2019_Avengers Endgame 2019 NEW 720p HDCAM x264-iMaX chunk 4\n",
      "✅ Scored: 2019_Avengers Endgame 2019 NEW 720p HDCAM x264-iMaX chunk 5\n",
      "✅ Scored: 2019_Avengers Endgame 2019 NEW 720p HDCAM x264-iMaX chunk 6\n",
      "✅ Scored: 2019_Avengers Endgame 2019 NEW 720p HDCAM x264-iMaX chunk 7\n",
      "✅ Scored: 2019_Avengers Endgame 2019 NEW 720p HDCAM x264-iMaX chunk 8\n",
      "✅ Scored: 2019_Avengers Endgame 2019 NEW 720p HDCAM x264-iMaX chunk 9\n",
      "✅ Scored: 2019_Avengers Endgame 2019 NEW 720p HDCAM x264-iMaX chunk 10\n",
      "✅ Scored: 2019_Avengers Endgame 2019 NEW 720p HDCAM x264-iMaX chunk 11\n",
      "✅ Scored: 2019_Avengers Endgame 2019 NEW 720p HDCAM x264-iMaX chunk 12\n",
      "✅ Scored: 2019_Avengers Endgame 2019 NEW 720p HDCAM x264-iMaX chunk 13\n"
     ]
    },
    {
     "name": "stderr",
     "output_type": "stream",
     "text": [
      "Scoring institutional trust (chunked):  73%|▋| 350/478 [3:31:56<1:28:32, 41.51s/"
     ]
    },
    {
     "name": "stdout",
     "output_type": "stream",
     "text": [
      "✅ Scored: 1982_Indiana.Jones.And.The.Raiders.Of.The.Lost.Ark.(1981).DVDrip.Xvid-DEiTY chunk 1\n",
      "✅ Scored: 1982_Indiana.Jones.And.The.Raiders.Of.The.Lost.Ark.(1981).DVDrip.Xvid-DEiTY chunk 2\n",
      "✅ Scored: 1982_Indiana.Jones.And.The.Raiders.Of.The.Lost.Ark.(1981).DVDrip.Xvid-DEiTY chunk 3\n",
      "✅ Scored: 1982_Indiana.Jones.And.The.Raiders.Of.The.Lost.Ark.(1981).DVDrip.Xvid-DEiTY chunk 4\n",
      "✅ Scored: 1982_Indiana.Jones.And.The.Raiders.Of.The.Lost.Ark.(1981).DVDrip.Xvid-DEiTY chunk 5\n",
      "✅ Scored: 1982_Indiana.Jones.And.The.Raiders.Of.The.Lost.Ark.(1981).DVDrip.Xvid-DEiTY chunk 6\n"
     ]
    },
    {
     "name": "stderr",
     "output_type": "stream",
     "text": [
      "Scoring institutional trust (chunked):  73%|▋| 351/478 [3:32:20<1:17:00, 36.38s/"
     ]
    },
    {
     "name": "stdout",
     "output_type": "stream",
     "text": [
      "✅ Scored: 2013_Man.Of.Steel.2013.720p.BluRay.x264-Felony chunk 1\n",
      "✅ Scored: 2013_Man.Of.Steel.2013.720p.BluRay.x264-Felony chunk 2\n",
      "✅ Scored: 2013_Man.Of.Steel.2013.720p.BluRay.x264-Felony chunk 3\n",
      "✅ Scored: 2013_Man.Of.Steel.2013.720p.BluRay.x264-Felony chunk 4\n",
      "✅ Scored: 2013_Man.Of.Steel.2013.720p.BluRay.x264-Felony chunk 5\n",
      "✅ Scored: 2013_Man.Of.Steel.2013.720p.BluRay.x264-Felony chunk 6\n",
      "✅ Scored: 2013_Man.Of.Steel.2013.720p.BluRay.x264-Felony chunk 7\n",
      "✅ Scored: 2013_Man.Of.Steel.2013.720p.BluRay.x264-Felony chunk 8\n",
      "✅ Scored: 2013_Man.Of.Steel.2013.720p.BluRay.x264-Felony chunk 9\n"
     ]
    },
    {
     "name": "stderr",
     "output_type": "stream",
     "text": [
      "Scoring institutional trust (chunked):  74%|▋| 352/478 [3:32:52<1:13:33, 35.02s/"
     ]
    },
    {
     "name": "stdout",
     "output_type": "stream",
     "text": [
      "✅ Scored: 1987_Predator.1987.DVDRip.XviD.ShitBusters.ENG chunk 1\n",
      "✅ Scored: 1987_Predator.1987.DVDRip.XviD.ShitBusters.ENG chunk 2\n",
      "✅ Scored: 1987_Predator.1987.DVDRip.XviD.ShitBusters.ENG chunk 3\n",
      "✅ Scored: 1987_Predator.1987.DVDRip.XviD.ShitBusters.ENG chunk 4\n"
     ]
    },
    {
     "name": "stderr",
     "output_type": "stream",
     "text": [
      "Scoring institutional trust (chunked):  74%|▋| 353/478 [3:33:05<59:18, 28.47s/it"
     ]
    },
    {
     "name": "stdout",
     "output_type": "stream",
     "text": [
      "✅ Scored: 1994_The.Mask.1994.BluRay.1080p.DTS.x264.dxva-EuReKA.ENG chunk 1\n",
      "✅ Scored: 1994_The.Mask.1994.BluRay.1080p.DTS.x264.dxva-EuReKA.ENG chunk 2\n",
      "✅ Scored: 1994_The.Mask.1994.BluRay.1080p.DTS.x264.dxva-EuReKA.ENG chunk 3\n",
      "✅ Scored: 1994_The.Mask.1994.BluRay.1080p.DTS.x264.dxva-EuReKA.ENG chunk 4\n",
      "✅ Scored: 1994_The.Mask.1994.BluRay.1080p.DTS.x264.dxva-EuReKA.ENG chunk 5\n",
      "✅ Scored: 1994_The.Mask.1994.BluRay.1080p.DTS.x264.dxva-EuReKA.ENG chunk 6\n",
      "✅ Scored: 1994_The.Mask.1994.BluRay.1080p.DTS.x264.dxva-EuReKA.ENG chunk 7\n"
     ]
    },
    {
     "name": "stderr",
     "output_type": "stream",
     "text": [
      "Scoring institutional trust (chunked):  74%|▋| 354/478 [3:33:29<55:50, 27.02s/it"
     ]
    },
    {
     "name": "stdout",
     "output_type": "stream",
     "text": [
      "✅ Scored: 2022_Top.Gun.Maverick.2022.KORSUB.IMAX.1080p.WEBRip.AAC2.0.x264-SHITBOX chunk 1\n",
      "✅ Scored: 2022_Top.Gun.Maverick.2022.KORSUB.IMAX.1080p.WEBRip.AAC2.0.x264-SHITBOX chunk 2\n",
      "✅ Scored: 2022_Top.Gun.Maverick.2022.KORSUB.IMAX.1080p.WEBRip.AAC2.0.x264-SHITBOX chunk 3\n",
      "✅ Scored: 2022_Top.Gun.Maverick.2022.KORSUB.IMAX.1080p.WEBRip.AAC2.0.x264-SHITBOX chunk 4\n",
      "✅ Scored: 2022_Top.Gun.Maverick.2022.KORSUB.IMAX.1080p.WEBRip.AAC2.0.x264-SHITBOX chunk 5\n",
      "✅ Scored: 2022_Top.Gun.Maverick.2022.KORSUB.IMAX.1080p.WEBRip.AAC2.0.x264-SHITBOX chunk 6\n",
      "✅ Scored: 2022_Top.Gun.Maverick.2022.KORSUB.IMAX.1080p.WEBRip.AAC2.0.x264-SHITBOX chunk 7\n",
      "✅ Scored: 2022_Top.Gun.Maverick.2022.KORSUB.IMAX.1080p.WEBRip.AAC2.0.x264-SHITBOX chunk 8\n",
      "✅ Scored: 2022_Top.Gun.Maverick.2022.KORSUB.IMAX.1080p.WEBRip.AAC2.0.x264-SHITBOX chunk 9\n",
      "✅ Scored: 2022_Top.Gun.Maverick.2022.KORSUB.IMAX.1080p.WEBRip.AAC2.0.x264-SHITBOX chunk 10\n",
      "✅ Scored: 2022_Top.Gun.Maverick.2022.KORSUB.IMAX.1080p.WEBRip.AAC2.0.x264-SHITBOX chunk 11\n"
     ]
    },
    {
     "name": "stderr",
     "output_type": "stream",
     "text": [
      "Scoring institutional trust (chunked):  74%|▋| 355/478 [3:34:08<1:02:41, 30.58s/"
     ]
    },
    {
     "name": "stdout",
     "output_type": "stream",
     "text": [
      "✅ Scored: 2023_Ant.Man.And.The.Wasp.Quantumania.2023.1080p.WEB-DL.DDP5.1.Atmos.H.264-CMRG chunk 1\n",
      "✅ Scored: 2023_Ant.Man.And.The.Wasp.Quantumania.2023.1080p.WEB-DL.DDP5.1.Atmos.H.264-CMRG chunk 2\n",
      "✅ Scored: 2023_Ant.Man.And.The.Wasp.Quantumania.2023.1080p.WEB-DL.DDP5.1.Atmos.H.264-CMRG chunk 3\n",
      "✅ Scored: 2023_Ant.Man.And.The.Wasp.Quantumania.2023.1080p.WEB-DL.DDP5.1.Atmos.H.264-CMRG chunk 4\n",
      "✅ Scored: 2023_Ant.Man.And.The.Wasp.Quantumania.2023.1080p.WEB-DL.DDP5.1.Atmos.H.264-CMRG chunk 5\n",
      "✅ Scored: 2023_Ant.Man.And.The.Wasp.Quantumania.2023.1080p.WEB-DL.DDP5.1.Atmos.H.264-CMRG chunk 6\n",
      "✅ Scored: 2023_Ant.Man.And.The.Wasp.Quantumania.2023.1080p.WEB-DL.DDP5.1.Atmos.H.264-CMRG chunk 7\n",
      "✅ Scored: 2023_Ant.Man.And.The.Wasp.Quantumania.2023.1080p.WEB-DL.DDP5.1.Atmos.H.264-CMRG chunk 8\n",
      "✅ Scored: 2023_Ant.Man.And.The.Wasp.Quantumania.2023.1080p.WEB-DL.DDP5.1.Atmos.H.264-CMRG chunk 9\n"
     ]
    },
    {
     "name": "stderr",
     "output_type": "stream",
     "text": [
      "Scoring institutional trust (chunked):  74%|▋| 356/478 [3:34:40<1:02:56, 30.96s/"
     ]
    },
    {
     "name": "stdout",
     "output_type": "stream",
     "text": [
      "✅ Scored: 2021_No.Time.to.Die.1080p.AMZN.WEB-DL.DDP5.1.H.264-CMRG chunk 1\n",
      "✅ Scored: 2021_No.Time.to.Die.1080p.AMZN.WEB-DL.DDP5.1.H.264-CMRG chunk 2\n",
      "✅ Scored: 2021_No.Time.to.Die.1080p.AMZN.WEB-DL.DDP5.1.H.264-CMRG chunk 3\n",
      "✅ Scored: 2021_No.Time.to.Die.1080p.AMZN.WEB-DL.DDP5.1.H.264-CMRG chunk 4\n",
      "✅ Scored: 2021_No.Time.to.Die.1080p.AMZN.WEB-DL.DDP5.1.H.264-CMRG chunk 5\n",
      "⚠️ Rate limit hit. Waiting 60 seconds...\n",
      "✅ Scored: 2021_No.Time.to.Die.1080p.AMZN.WEB-DL.DDP5.1.H.264-CMRG chunk 6\n",
      "✅ Scored: 2021_No.Time.to.Die.1080p.AMZN.WEB-DL.DDP5.1.H.264-CMRG chunk 7\n",
      "✅ Scored: 2021_No.Time.to.Die.1080p.AMZN.WEB-DL.DDP5.1.H.264-CMRG chunk 8\n",
      "✅ Scored: 2021_No.Time.to.Die.1080p.AMZN.WEB-DL.DDP5.1.H.264-CMRG chunk 9\n",
      "✅ Scored: 2021_No.Time.to.Die.1080p.AMZN.WEB-DL.DDP5.1.H.264-CMRG chunk 10\n",
      "✅ Scored: 2021_No.Time.to.Die.1080p.AMZN.WEB-DL.DDP5.1.H.264-CMRG chunk 11\n"
     ]
    },
    {
     "name": "stderr",
     "output_type": "stream",
     "text": [
      "Scoring institutional trust (chunked):  75%|▋| 357/478 [3:36:20<1:44:15, 51.70s/"
     ]
    },
    {
     "name": "stdout",
     "output_type": "stream",
     "text": [
      "✅ Scored: 2011_POTC 4 - On Stranger Tides (2011) 720p BluRay AC3 x264 - AdiT.english chunk 1\n",
      "✅ Scored: 2011_POTC 4 - On Stranger Tides (2011) 720p BluRay AC3 x264 - AdiT.english chunk 2\n",
      "✅ Scored: 2011_POTC 4 - On Stranger Tides (2011) 720p BluRay AC3 x264 - AdiT.english chunk 3\n",
      "✅ Scored: 2011_POTC 4 - On Stranger Tides (2011) 720p BluRay AC3 x264 - AdiT.english chunk 4\n",
      "✅ Scored: 2011_POTC 4 - On Stranger Tides (2011) 720p BluRay AC3 x264 - AdiT.english chunk 5\n",
      "✅ Scored: 2011_POTC 4 - On Stranger Tides (2011) 720p BluRay AC3 x264 - AdiT.english chunk 6\n",
      "✅ Scored: 2011_POTC 4 - On Stranger Tides (2011) 720p BluRay AC3 x264 - AdiT.english chunk 7\n",
      "✅ Scored: 2011_POTC 4 - On Stranger Tides (2011) 720p BluRay AC3 x264 - AdiT.english chunk 8\n",
      "✅ Scored: 2011_POTC 4 - On Stranger Tides (2011) 720p BluRay AC3 x264 - AdiT.english chunk 9\n",
      "✅ Scored: 2011_POTC 4 - On Stranger Tides (2011) 720p BluRay AC3 x264 - AdiT.english chunk 10\n"
     ]
    },
    {
     "name": "stderr",
     "output_type": "stream",
     "text": [
      "Scoring institutional trust (chunked):  75%|▋| 358/478 [3:36:56<1:34:28, 47.24s/"
     ]
    },
    {
     "name": "stdout",
     "output_type": "stream",
     "text": [
      "✅ Scored: 2011_Cars.2.720p.BluRay.x264.REPACK-METiS.eng chunk 1\n",
      "✅ Scored: 2011_Cars.2.720p.BluRay.x264.REPACK-METiS.eng chunk 2\n",
      "✅ Scored: 2011_Cars.2.720p.BluRay.x264.REPACK-METiS.eng chunk 3\n",
      "✅ Scored: 2011_Cars.2.720p.BluRay.x264.REPACK-METiS.eng chunk 4\n",
      "✅ Scored: 2011_Cars.2.720p.BluRay.x264.REPACK-METiS.eng chunk 5\n",
      "✅ Scored: 2011_Cars.2.720p.BluRay.x264.REPACK-METiS.eng chunk 6\n",
      "✅ Scored: 2011_Cars.2.720p.BluRay.x264.REPACK-METiS.eng chunk 7\n",
      "✅ Scored: 2011_Cars.2.720p.BluRay.x264.REPACK-METiS.eng chunk 8\n",
      "✅ Scored: 2011_Cars.2.720p.BluRay.x264.REPACK-METiS.eng chunk 9\n",
      "✅ Scored: 2011_Cars.2.720p.BluRay.x264.REPACK-METiS.eng chunk 10\n",
      "✅ Scored: 2011_Cars.2.720p.BluRay.x264.REPACK-METiS.eng chunk 11\n",
      "✅ Scored: 2011_Cars.2.720p.BluRay.x264.REPACK-METiS.eng chunk 12\n",
      "✅ Scored: 2011_Cars.2.720p.BluRay.x264.REPACK-METiS.eng chunk 13\n"
     ]
    },
    {
     "name": "stderr",
     "output_type": "stream",
     "text": [
      "Scoring institutional trust (chunked):  75%|▊| 359/478 [3:37:42<1:32:26, 46.61s/"
     ]
    },
    {
     "name": "stdout",
     "output_type": "stream",
     "text": [
      "✅ Scored: 1993_Few Good Men (1992).DVD.NonHI.pcc.en.CLMB chunk 1\n",
      "✅ Scored: 1993_Few Good Men (1992).DVD.NonHI.pcc.en.CLMB chunk 2\n",
      "✅ Scored: 1993_Few Good Men (1992).DVD.NonHI.pcc.en.CLMB chunk 3\n",
      "✅ Scored: 1993_Few Good Men (1992).DVD.NonHI.pcc.en.CLMB chunk 4\n",
      "✅ Scored: 1993_Few Good Men (1992).DVD.NonHI.pcc.en.CLMB chunk 5\n",
      "✅ Scored: 1993_Few Good Men (1992).DVD.NonHI.pcc.en.CLMB chunk 6\n",
      "✅ Scored: 1993_Few Good Men (1992).DVD.NonHI.pcc.en.CLMB chunk 7\n",
      "✅ Scored: 1993_Few Good Men (1992).DVD.NonHI.pcc.en.CLMB chunk 8\n",
      "✅ Scored: 1993_Few Good Men (1992).DVD.NonHI.pcc.en.CLMB chunk 9\n",
      "✅ Scored: 1993_Few Good Men (1992).DVD.NonHI.pcc.en.CLMB chunk 10\n",
      "✅ Scored: 1993_Few Good Men (1992).DVD.NonHI.pcc.en.CLMB chunk 11\n",
      "✅ Scored: 1993_Few Good Men (1992).DVD.NonHI.pcc.en.CLMB chunk 12\n",
      "✅ Scored: 1993_Few Good Men (1992).DVD.NonHI.pcc.en.CLMB chunk 13\n",
      "✅ Scored: 1993_Few Good Men (1992).DVD.NonHI.pcc.en.CLMB chunk 14\n",
      "✅ Scored: 1993_Few Good Men (1992).DVD.NonHI.pcc.en.CLMB chunk 15\n",
      "✅ Scored: 1993_Few Good Men (1992).DVD.NonHI.pcc.en.CLMB chunk 16\n",
      "✅ Scored: 1993_Few Good Men (1992).DVD.NonHI.pcc.en.CLMB chunk 17\n",
      "✅ Scored: 1993_Few Good Men (1992).DVD.NonHI.pcc.en.CLMB chunk 18\n",
      "✅ Scored: 1993_Few Good Men (1992).DVD.NonHI.pcc.en.CLMB chunk 19\n",
      "✅ Scored: 1993_Few Good Men (1992).DVD.NonHI.pcc.en.CLMB chunk 20\n"
     ]
    },
    {
     "name": "stderr",
     "output_type": "stream",
     "text": [
      "Scoring institutional trust (chunked):  75%|▊| 360/478 [3:38:57<1:48:46, 55.31s/"
     ]
    },
    {
     "name": "stdout",
     "output_type": "stream",
     "text": [
      "✅ Scored: 1977_Oh God  Dvdrip Xvid-OlFa_English chunk 1\n",
      "✅ Scored: 1977_Oh God  Dvdrip Xvid-OlFa_English chunk 2\n",
      "✅ Scored: 1977_Oh God  Dvdrip Xvid-OlFa_English chunk 3\n",
      "✅ Scored: 1977_Oh God  Dvdrip Xvid-OlFa_English chunk 4\n",
      "✅ Scored: 1977_Oh God  Dvdrip Xvid-OlFa_English chunk 5\n",
      "✅ Scored: 1977_Oh God  Dvdrip Xvid-OlFa_English chunk 6\n",
      "✅ Scored: 1977_Oh God  Dvdrip Xvid-OlFa_English chunk 7\n",
      "✅ Scored: 1977_Oh God  Dvdrip Xvid-OlFa_English chunk 8\n",
      "✅ Scored: 1977_Oh God  Dvdrip Xvid-OlFa_English chunk 9\n",
      "✅ Scored: 1977_Oh God  Dvdrip Xvid-OlFa_English chunk 10\n",
      "✅ Scored: 1977_Oh God  Dvdrip Xvid-OlFa_English chunk 11\n",
      "✅ Scored: 1977_Oh God  Dvdrip Xvid-OlFa_English chunk 12\n"
     ]
    },
    {
     "name": "stderr",
     "output_type": "stream",
     "text": [
      "Scoring institutional trust (chunked):  76%|▊| 361/478 [3:39:40<1:40:19, 51.45s/"
     ]
    },
    {
     "name": "stdout",
     "output_type": "stream",
     "text": [
      "✅ Scored: 1998_Armageddon.1998.BluRay.1080p.DTSMA.x264.dxva-SuBoXoNe.ENG chunk 1\n",
      "✅ Scored: 1998_Armageddon.1998.BluRay.1080p.DTSMA.x264.dxva-SuBoXoNe.ENG chunk 2\n",
      "✅ Scored: 1998_Armageddon.1998.BluRay.1080p.DTSMA.x264.dxva-SuBoXoNe.ENG chunk 3\n",
      "✅ Scored: 1998_Armageddon.1998.BluRay.1080p.DTSMA.x264.dxva-SuBoXoNe.ENG chunk 4\n",
      "✅ Scored: 1998_Armageddon.1998.BluRay.1080p.DTSMA.x264.dxva-SuBoXoNe.ENG chunk 5\n",
      "✅ Scored: 1998_Armageddon.1998.BluRay.1080p.DTSMA.x264.dxva-SuBoXoNe.ENG chunk 6\n",
      "✅ Scored: 1998_Armageddon.1998.BluRay.1080p.DTSMA.x264.dxva-SuBoXoNe.ENG chunk 7\n",
      "✅ Scored: 1998_Armageddon.1998.BluRay.1080p.DTSMA.x264.dxva-SuBoXoNe.ENG chunk 8\n",
      "✅ Scored: 1998_Armageddon.1998.BluRay.1080p.DTSMA.x264.dxva-SuBoXoNe.ENG chunk 9\n",
      "✅ Scored: 1998_Armageddon.1998.BluRay.1080p.DTSMA.x264.dxva-SuBoXoNe.ENG chunk 10\n",
      "✅ Scored: 1998_Armageddon.1998.BluRay.1080p.DTSMA.x264.dxva-SuBoXoNe.ENG chunk 11\n",
      "✅ Scored: 1998_Armageddon.1998.BluRay.1080p.DTSMA.x264.dxva-SuBoXoNe.ENG chunk 12\n",
      "✅ Scored: 1998_Armageddon.1998.BluRay.1080p.DTSMA.x264.dxva-SuBoXoNe.ENG chunk 13\n",
      "✅ Scored: 1998_Armageddon.1998.BluRay.1080p.DTSMA.x264.dxva-SuBoXoNe.ENG chunk 14\n",
      "✅ Scored: 1998_Armageddon.1998.BluRay.1080p.DTSMA.x264.dxva-SuBoXoNe.ENG chunk 15\n",
      "✅ Scored: 1998_Armageddon.1998.BluRay.1080p.DTSMA.x264.dxva-SuBoXoNe.ENG chunk 16\n",
      "✅ Scored: 1998_Armageddon.1998.BluRay.1080p.DTSMA.x264.dxva-SuBoXoNe.ENG chunk 17\n",
      "✅ Scored: 1998_Armageddon.1998.BluRay.1080p.DTSMA.x264.dxva-SuBoXoNe.ENG chunk 18\n",
      "✅ Scored: 1998_Armageddon.1998.BluRay.1080p.DTSMA.x264.dxva-SuBoXoNe.ENG chunk 19\n",
      "✅ Scored: 1998_Armageddon.1998.BluRay.1080p.DTSMA.x264.dxva-SuBoXoNe.ENG chunk 20\n"
     ]
    },
    {
     "name": "stderr",
     "output_type": "stream",
     "text": [
      "Scoring institutional trust (chunked):  76%|▊| 362/478 [3:40:46<1:48:12, 55.97s/"
     ]
    },
    {
     "name": "stdout",
     "output_type": "stream",
     "text": [
      "✅ Scored: 1983_Octopussy.1983.DVD5.720p.HDTV.x264-NBS.eng chunk 1\n",
      "✅ Scored: 1983_Octopussy.1983.DVD5.720p.HDTV.x264-NBS.eng chunk 2\n",
      "✅ Scored: 1983_Octopussy.1983.DVD5.720p.HDTV.x264-NBS.eng chunk 3\n",
      "✅ Scored: 1983_Octopussy.1983.DVD5.720p.HDTV.x264-NBS.eng chunk 4\n",
      "✅ Scored: 1983_Octopussy.1983.DVD5.720p.HDTV.x264-NBS.eng chunk 5\n",
      "✅ Scored: 1983_Octopussy.1983.DVD5.720p.HDTV.x264-NBS.eng chunk 6\n",
      "✅ Scored: 1983_Octopussy.1983.DVD5.720p.HDTV.x264-NBS.eng chunk 7\n"
     ]
    },
    {
     "name": "stderr",
     "output_type": "stream",
     "text": [
      "Scoring institutional trust (chunked):  76%|▊| 363/478 [3:41:10<1:28:48, 46.33s/"
     ]
    },
    {
     "name": "stdout",
     "output_type": "stream",
     "text": [
      "✅ Scored: 2013_Frozen.2013.720p.BluRay.x264-SPARKS chunk 1\n",
      "✅ Scored: 2013_Frozen.2013.720p.BluRay.x264-SPARKS chunk 2\n",
      "✅ Scored: 2013_Frozen.2013.720p.BluRay.x264-SPARKS chunk 3\n",
      "✅ Scored: 2013_Frozen.2013.720p.BluRay.x264-SPARKS chunk 4\n",
      "✅ Scored: 2013_Frozen.2013.720p.BluRay.x264-SPARKS chunk 5\n",
      "✅ Scored: 2013_Frozen.2013.720p.BluRay.x264-SPARKS chunk 6\n",
      "✅ Scored: 2013_Frozen.2013.720p.BluRay.x264-SPARKS chunk 7\n",
      "✅ Scored: 2013_Frozen.2013.720p.BluRay.x264-SPARKS chunk 8\n",
      "✅ Scored: 2013_Frozen.2013.720p.BluRay.x264-SPARKS chunk 9\n",
      "✅ Scored: 2013_Frozen.2013.720p.BluRay.x264-SPARKS chunk 10\n"
     ]
    },
    {
     "name": "stderr",
     "output_type": "stream",
     "text": [
      "Scoring institutional trust (chunked):  76%|▊| 364/478 [3:41:47<1:22:46, 43.56s/"
     ]
    },
    {
     "name": "stdout",
     "output_type": "stream",
     "text": [
      "✅ Scored: 2007_Spider.Man.3.2007.1080p.BluRay.x264.YIFY chunk 1\n",
      "✅ Scored: 2007_Spider.Man.3.2007.1080p.BluRay.x264.YIFY chunk 2\n",
      "✅ Scored: 2007_Spider.Man.3.2007.1080p.BluRay.x264.YIFY chunk 3\n",
      "✅ Scored: 2007_Spider.Man.3.2007.1080p.BluRay.x264.YIFY chunk 4\n",
      "✅ Scored: 2007_Spider.Man.3.2007.1080p.BluRay.x264.YIFY chunk 5\n",
      "✅ Scored: 2007_Spider.Man.3.2007.1080p.BluRay.x264.YIFY chunk 6\n",
      "✅ Scored: 2007_Spider.Man.3.2007.1080p.BluRay.x264.YIFY chunk 7\n",
      "✅ Scored: 2007_Spider.Man.3.2007.1080p.BluRay.x264.YIFY chunk 8\n"
     ]
    },
    {
     "name": "stderr",
     "output_type": "stream",
     "text": [
      "Scoring institutional trust (chunked):  76%|▊| 365/478 [3:42:14<1:12:31, 38.50s/"
     ]
    },
    {
     "name": "stdout",
     "output_type": "stream",
     "text": [
      "✅ Scored: 1977_The.Deep.1977.1080p.BluRay.4xRus.Eng.HDCLUB.ENG chunk 1\n",
      "✅ Scored: 1977_The.Deep.1977.1080p.BluRay.4xRus.Eng.HDCLUB.ENG chunk 2\n",
      "✅ Scored: 1977_The.Deep.1977.1080p.BluRay.4xRus.Eng.HDCLUB.ENG chunk 3\n",
      "✅ Scored: 1977_The.Deep.1977.1080p.BluRay.4xRus.Eng.HDCLUB.ENG chunk 4\n",
      "✅ Scored: 1977_The.Deep.1977.1080p.BluRay.4xRus.Eng.HDCLUB.ENG chunk 5\n",
      "✅ Scored: 1977_The.Deep.1977.1080p.BluRay.4xRus.Eng.HDCLUB.ENG chunk 6\n",
      "✅ Scored: 1977_The.Deep.1977.1080p.BluRay.4xRus.Eng.HDCLUB.ENG chunk 7\n"
     ]
    },
    {
     "name": "stderr",
     "output_type": "stream",
     "text": [
      "Scoring institutional trust (chunked):  77%|▊| 366/478 [3:42:39<1:04:25, 34.51s/"
     ]
    },
    {
     "name": "stdout",
     "output_type": "stream",
     "text": [
      "✅ Scored: 2015_Furious.Seven.2015.EXTENDED.720p.BluRay.x264-SPARKS chunk 1\n",
      "✅ Scored: 2015_Furious.Seven.2015.EXTENDED.720p.BluRay.x264-SPARKS chunk 2\n",
      "✅ Scored: 2015_Furious.Seven.2015.EXTENDED.720p.BluRay.x264-SPARKS chunk 3\n",
      "✅ Scored: 2015_Furious.Seven.2015.EXTENDED.720p.BluRay.x264-SPARKS chunk 4\n",
      "✅ Scored: 2015_Furious.Seven.2015.EXTENDED.720p.BluRay.x264-SPARKS chunk 5\n",
      "✅ Scored: 2015_Furious.Seven.2015.EXTENDED.720p.BluRay.x264-SPARKS chunk 6\n",
      "✅ Scored: 2015_Furious.Seven.2015.EXTENDED.720p.BluRay.x264-SPARKS chunk 7\n",
      "✅ Scored: 2015_Furious.Seven.2015.EXTENDED.720p.BluRay.x264-SPARKS chunk 8\n",
      "✅ Scored: 2015_Furious.Seven.2015.EXTENDED.720p.BluRay.x264-SPARKS chunk 9\n",
      "✅ Scored: 2015_Furious.Seven.2015.EXTENDED.720p.BluRay.x264-SPARKS chunk 10\n"
     ]
    },
    {
     "name": "stderr",
     "output_type": "stream",
     "text": [
      "Scoring institutional trust (chunked):  77%|▊| 367/478 [3:43:13<1:03:24, 34.27s/"
     ]
    },
    {
     "name": "stdout",
     "output_type": "stream",
     "text": [
      "✅ Scored: 1977_The.exorcist.II.-.the.heretic.[shareprovider.com] chunk 1\n",
      "✅ Scored: 1977_The.exorcist.II.-.the.heretic.[shareprovider.com] chunk 2\n",
      "✅ Scored: 1977_The.exorcist.II.-.the.heretic.[shareprovider.com] chunk 3\n",
      "✅ Scored: 1977_The.exorcist.II.-.the.heretic.[shareprovider.com] chunk 4\n",
      "✅ Scored: 1977_The.exorcist.II.-.the.heretic.[shareprovider.com] chunk 5\n",
      "✅ Scored: 1977_The.exorcist.II.-.the.heretic.[shareprovider.com] chunk 6\n"
     ]
    },
    {
     "name": "stderr",
     "output_type": "stream",
     "text": [
      "Scoring institutional trust (chunked):  77%|▊| 368/478 [3:43:32<54:47, 29.88s/it"
     ]
    },
    {
     "name": "stdout",
     "output_type": "stream",
     "text": [
      "✅ Scored: 1990_Dick.Tracy.1990.DVDRip.INTERNAL.XviD-VH-PROD chunk 1\n",
      "✅ Scored: 1990_Dick.Tracy.1990.DVDRip.INTERNAL.XviD-VH-PROD chunk 2\n",
      "✅ Scored: 1990_Dick.Tracy.1990.DVDRip.INTERNAL.XviD-VH-PROD chunk 3\n",
      "✅ Scored: 1990_Dick.Tracy.1990.DVDRip.INTERNAL.XviD-VH-PROD chunk 4\n",
      "✅ Scored: 1990_Dick.Tracy.1990.DVDRip.INTERNAL.XviD-VH-PROD chunk 5\n",
      "✅ Scored: 1990_Dick.Tracy.1990.DVDRip.INTERNAL.XviD-VH-PROD chunk 6\n",
      "✅ Scored: 1990_Dick.Tracy.1990.DVDRip.INTERNAL.XviD-VH-PROD chunk 7\n",
      "✅ Scored: 1990_Dick.Tracy.1990.DVDRip.INTERNAL.XviD-VH-PROD chunk 8\n",
      "✅ Scored: 1990_Dick.Tracy.1990.DVDRip.INTERNAL.XviD-VH-PROD chunk 9\n",
      "✅ Scored: 1990_Dick.Tracy.1990.DVDRip.INTERNAL.XviD-VH-PROD chunk 10\n",
      "✅ Scored: 1990_Dick.Tracy.1990.DVDRip.INTERNAL.XviD-VH-PROD chunk 11\n",
      "✅ Scored: 1990_Dick.Tracy.1990.DVDRip.INTERNAL.XviD-VH-PROD chunk 12\n"
     ]
    },
    {
     "name": "stderr",
     "output_type": "stream",
     "text": [
      "Scoring institutional trust (chunked):  77%|▊| 369/478 [3:44:14<1:00:27, 33.28s/"
     ]
    },
    {
     "name": "stdout",
     "output_type": "stream",
     "text": [
      "✅ Scored: 1989_Batman.1989.720p.BluRay.x264-SiNNERS.ENG chunk 1\n",
      "✅ Scored: 1989_Batman.1989.720p.BluRay.x264-SiNNERS.ENG chunk 2\n",
      "✅ Scored: 1989_Batman.1989.720p.BluRay.x264-SiNNERS.ENG chunk 3\n",
      "✅ Scored: 1989_Batman.1989.720p.BluRay.x264-SiNNERS.ENG chunk 4\n",
      "✅ Scored: 1989_Batman.1989.720p.BluRay.x264-SiNNERS.ENG chunk 5\n",
      "✅ Scored: 1989_Batman.1989.720p.BluRay.x264-SiNNERS.ENG chunk 6\n",
      "✅ Scored: 1989_Batman.1989.720p.BluRay.x264-SiNNERS.ENG chunk 7\n"
     ]
    },
    {
     "name": "stderr",
     "output_type": "stream",
     "text": [
      "Scoring institutional trust (chunked):  77%|▊| 370/478 [3:44:38<55:17, 30.72s/it"
     ]
    },
    {
     "name": "stdout",
     "output_type": "stream",
     "text": [
      "✅ Scored: 1983_Mr. Mom. 1983. DVDRip. x264-NoRBiT chunk 1\n",
      "✅ Scored: 1983_Mr. Mom. 1983. DVDRip. x264-NoRBiT chunk 2\n",
      "✅ Scored: 1983_Mr. Mom. 1983. DVDRip. x264-NoRBiT chunk 3\n",
      "✅ Scored: 1983_Mr. Mom. 1983. DVDRip. x264-NoRBiT chunk 4\n",
      "✅ Scored: 1983_Mr. Mom. 1983. DVDRip. x264-NoRBiT chunk 5\n",
      "✅ Scored: 1983_Mr. Mom. 1983. DVDRip. x264-NoRBiT chunk 6\n",
      "✅ Scored: 1983_Mr. Mom. 1983. DVDRip. x264-NoRBiT chunk 7\n",
      "✅ Scored: 1983_Mr. Mom. 1983. DVDRip. x264-NoRBiT chunk 8\n",
      "✅ Scored: 1983_Mr. Mom. 1983. DVDRip. x264-NoRBiT chunk 9\n",
      "✅ Scored: 1983_Mr. Mom. 1983. DVDRip. x264-NoRBiT chunk 10\n"
     ]
    },
    {
     "name": "stderr",
     "output_type": "stream",
     "text": [
      "Scoring institutional trust (chunked):  78%|▊| 371/478 [3:45:12<56:24, 31.63s/it"
     ]
    },
    {
     "name": "stdout",
     "output_type": "stream",
     "text": [
      "✅ Scored: 1985_Fletch.1985.1080p.BluRay.x264-Japhson.ENG chunk 1\n",
      "✅ Scored: 1985_Fletch.1985.1080p.BluRay.x264-Japhson.ENG chunk 2\n",
      "✅ Scored: 1985_Fletch.1985.1080p.BluRay.x264-Japhson.ENG chunk 3\n",
      "✅ Scored: 1985_Fletch.1985.1080p.BluRay.x264-Japhson.ENG chunk 4\n",
      "✅ Scored: 1985_Fletch.1985.1080p.BluRay.x264-Japhson.ENG chunk 5\n",
      "✅ Scored: 1985_Fletch.1985.1080p.BluRay.x264-Japhson.ENG chunk 6\n",
      "✅ Scored: 1985_Fletch.1985.1080p.BluRay.x264-Japhson.ENG chunk 7\n",
      "✅ Scored: 1985_Fletch.1985.1080p.BluRay.x264-Japhson.ENG chunk 8\n",
      "✅ Scored: 1985_Fletch.1985.1080p.BluRay.x264-Japhson.ENG chunk 9\n",
      "✅ Scored: 1985_Fletch.1985.1080p.BluRay.x264-Japhson.ENG chunk 10\n",
      "✅ Scored: 1985_Fletch.1985.1080p.BluRay.x264-Japhson.ENG chunk 11\n"
     ]
    },
    {
     "name": "stderr",
     "output_type": "stream",
     "text": [
      "Scoring institutional trust (chunked):  78%|▊| 372/478 [3:45:52<1:00:07, 34.03s/"
     ]
    },
    {
     "name": "stdout",
     "output_type": "stream",
     "text": [
      "✅ Scored: 1995_Casper.1995.720p.BluRay.X264-AMIABLE chunk 1\n",
      "✅ Scored: 1995_Casper.1995.720p.BluRay.X264-AMIABLE chunk 2\n",
      "✅ Scored: 1995_Casper.1995.720p.BluRay.X264-AMIABLE chunk 3\n",
      "✅ Scored: 1995_Casper.1995.720p.BluRay.X264-AMIABLE chunk 4\n",
      "✅ Scored: 1995_Casper.1995.720p.BluRay.X264-AMIABLE chunk 5\n",
      "✅ Scored: 1995_Casper.1995.720p.BluRay.X264-AMIABLE chunk 6\n",
      "✅ Scored: 1995_Casper.1995.720p.BluRay.X264-AMIABLE chunk 7\n"
     ]
    },
    {
     "name": "stderr",
     "output_type": "stream",
     "text": [
      "Scoring institutional trust (chunked):  78%|▊| 373/478 [3:46:19<55:55, 31.96s/it"
     ]
    },
    {
     "name": "stdout",
     "output_type": "stream",
     "text": [
      "✅ Scored: 2007_[HDTeam]El Ultimatum De Bourne[1080p-Bluray][Dual+Subs][By Devilmort].ENG chunk 1\n",
      "✅ Scored: 2007_[HDTeam]El Ultimatum De Bourne[1080p-Bluray][Dual+Subs][By Devilmort].ENG chunk 2\n",
      "✅ Scored: 2007_[HDTeam]El Ultimatum De Bourne[1080p-Bluray][Dual+Subs][By Devilmort].ENG chunk 3\n",
      "✅ Scored: 2007_[HDTeam]El Ultimatum De Bourne[1080p-Bluray][Dual+Subs][By Devilmort].ENG chunk 4\n",
      "✅ Scored: 2007_[HDTeam]El Ultimatum De Bourne[1080p-Bluray][Dual+Subs][By Devilmort].ENG chunk 5\n",
      "✅ Scored: 2007_[HDTeam]El Ultimatum De Bourne[1080p-Bluray][Dual+Subs][By Devilmort].ENG chunk 6\n",
      "✅ Scored: 2007_[HDTeam]El Ultimatum De Bourne[1080p-Bluray][Dual+Subs][By Devilmort].ENG chunk 7\n"
     ]
    },
    {
     "name": "stderr",
     "output_type": "stream",
     "text": [
      "Scoring institutional trust (chunked):  78%|▊| 374/478 [3:46:44<51:39, 29.80s/it"
     ]
    },
    {
     "name": "stdout",
     "output_type": "stream",
     "text": [
      "✅ Scored: 2021_Free.Guy.2021.BDRip.XviD.AC3-EVO.v2 chunk 1\n",
      "✅ Scored: 2021_Free.Guy.2021.BDRip.XviD.AC3-EVO.v2 chunk 2\n",
      "✅ Scored: 2021_Free.Guy.2021.BDRip.XviD.AC3-EVO.v2 chunk 3\n",
      "✅ Scored: 2021_Free.Guy.2021.BDRip.XviD.AC3-EVO.v2 chunk 4\n",
      "✅ Scored: 2021_Free.Guy.2021.BDRip.XviD.AC3-EVO.v2 chunk 5\n",
      "✅ Scored: 2021_Free.Guy.2021.BDRip.XviD.AC3-EVO.v2 chunk 6\n",
      "✅ Scored: 2021_Free.Guy.2021.BDRip.XviD.AC3-EVO.v2 chunk 7\n",
      "✅ Scored: 2021_Free.Guy.2021.BDRip.XviD.AC3-EVO.v2 chunk 8\n",
      "✅ Scored: 2021_Free.Guy.2021.BDRip.XviD.AC3-EVO.v2 chunk 9\n",
      "✅ Scored: 2021_Free.Guy.2021.BDRip.XviD.AC3-EVO.v2 chunk 10\n",
      "✅ Scored: 2021_Free.Guy.2021.BDRip.XviD.AC3-EVO.v2 chunk 11\n",
      "✅ Scored: 2021_Free.Guy.2021.BDRip.XviD.AC3-EVO.v2 chunk 12\n",
      "✅ Scored: 2021_Free.Guy.2021.BDRip.XviD.AC3-EVO.v2 chunk 13\n",
      "✅ Scored: 2021_Free.Guy.2021.BDRip.XviD.AC3-EVO.v2 chunk 14\n"
     ]
    },
    {
     "name": "stderr",
     "output_type": "stream",
     "text": [
      "Scoring institutional trust (chunked):  78%|▊| 375/478 [3:47:32<1:00:36, 35.31s/"
     ]
    },
    {
     "name": "stdout",
     "output_type": "stream",
     "text": [
      "✅ Scored: 2010_Iron.Man.2.(2010).BDRip.AC3.XviD-CaLLiOpeD chunk 1\n",
      "✅ Scored: 2010_Iron.Man.2.(2010).BDRip.AC3.XviD-CaLLiOpeD chunk 2\n",
      "✅ Scored: 2010_Iron.Man.2.(2010).BDRip.AC3.XviD-CaLLiOpeD chunk 3\n",
      "✅ Scored: 2010_Iron.Man.2.(2010).BDRip.AC3.XviD-CaLLiOpeD chunk 4\n",
      "✅ Scored: 2010_Iron.Man.2.(2010).BDRip.AC3.XviD-CaLLiOpeD chunk 5\n",
      "✅ Scored: 2010_Iron.Man.2.(2010).BDRip.AC3.XviD-CaLLiOpeD chunk 6\n",
      "✅ Scored: 2010_Iron.Man.2.(2010).BDRip.AC3.XviD-CaLLiOpeD chunk 7\n",
      "✅ Scored: 2010_Iron.Man.2.(2010).BDRip.AC3.XviD-CaLLiOpeD chunk 8\n",
      "✅ Scored: 2010_Iron.Man.2.(2010).BDRip.AC3.XviD-CaLLiOpeD chunk 9\n",
      "✅ Scored: 2010_Iron.Man.2.(2010).BDRip.AC3.XviD-CaLLiOpeD chunk 10\n",
      "✅ Scored: 2010_Iron.Man.2.(2010).BDRip.AC3.XviD-CaLLiOpeD chunk 11\n",
      "✅ Scored: 2010_Iron.Man.2.(2010).BDRip.AC3.XviD-CaLLiOpeD chunk 12\n",
      "✅ Scored: 2010_Iron.Man.2.(2010).BDRip.AC3.XviD-CaLLiOpeD chunk 13\n"
     ]
    },
    {
     "name": "stderr",
     "output_type": "stream",
     "text": [
      "Scoring institutional trust (chunked):  79%|▊| 376/478 [3:48:18<1:05:32, 38.56s/"
     ]
    },
    {
     "name": "stdout",
     "output_type": "stream",
     "text": [
      "✅ Scored: 1981_Endless.Love chunk 1\n",
      "✅ Scored: 1981_Endless.Love chunk 2\n",
      "✅ Scored: 1981_Endless.Love chunk 3\n",
      "✅ Scored: 1981_Endless.Love chunk 4\n",
      "✅ Scored: 1981_Endless.Love chunk 5\n",
      "✅ Scored: 1981_Endless.Love chunk 6\n",
      "✅ Scored: 1981_Endless.Love chunk 7\n",
      "✅ Scored: 1981_Endless.Love chunk 8\n",
      "✅ Scored: 1981_Endless.Love chunk 9\n"
     ]
    },
    {
     "name": "stderr",
     "output_type": "stream",
     "text": [
      "Scoring institutional trust (chunked):  79%|▊| 377/478 [3:48:50<1:01:42, 36.66s/"
     ]
    },
    {
     "name": "stdout",
     "output_type": "stream",
     "text": [
      "✅ Scored: 2016_Rogue.One.2016.720p.BluRay.x264-SPARKS chunk 1\n",
      "✅ Scored: 2016_Rogue.One.2016.720p.BluRay.x264-SPARKS chunk 2\n",
      "✅ Scored: 2016_Rogue.One.2016.720p.BluRay.x264-SPARKS chunk 3\n",
      "✅ Scored: 2016_Rogue.One.2016.720p.BluRay.x264-SPARKS chunk 4\n",
      "✅ Scored: 2016_Rogue.One.2016.720p.BluRay.x264-SPARKS chunk 5\n",
      "✅ Scored: 2016_Rogue.One.2016.720p.BluRay.x264-SPARKS chunk 6\n",
      "✅ Scored: 2016_Rogue.One.2016.720p.BluRay.x264-SPARKS chunk 7\n",
      "✅ Scored: 2016_Rogue.One.2016.720p.BluRay.x264-SPARKS chunk 8\n",
      "✅ Scored: 2016_Rogue.One.2016.720p.BluRay.x264-SPARKS chunk 9\n",
      "✅ Scored: 2016_Rogue.One.2016.720p.BluRay.x264-SPARKS chunk 10\n"
     ]
    },
    {
     "name": "stderr",
     "output_type": "stream",
     "text": [
      "Scoring institutional trust (chunked):  79%|▊| 378/478 [3:49:25<1:00:06, 36.06s/"
     ]
    },
    {
     "name": "stdout",
     "output_type": "stream",
     "text": [
      "✅ Scored: 1992_Sister Act (1992)(includes lyrics) chunk 1\n",
      "✅ Scored: 1992_Sister Act (1992)(includes lyrics) chunk 2\n",
      "✅ Scored: 1992_Sister Act (1992)(includes lyrics) chunk 3\n",
      "✅ Scored: 1992_Sister Act (1992)(includes lyrics) chunk 4\n",
      "✅ Scored: 1992_Sister Act (1992)(includes lyrics) chunk 5\n",
      "✅ Scored: 1992_Sister Act (1992)(includes lyrics) chunk 6\n",
      "✅ Scored: 1992_Sister Act (1992)(includes lyrics) chunk 7\n",
      "✅ Scored: 1992_Sister Act (1992)(includes lyrics) chunk 8\n",
      "✅ Scored: 1992_Sister Act (1992)(includes lyrics) chunk 9\n",
      "✅ Scored: 1992_Sister Act (1992)(includes lyrics) chunk 10\n",
      "✅ Scored: 1992_Sister Act (1992)(includes lyrics) chunk 11\n",
      "✅ Scored: 1992_Sister Act (1992)(includes lyrics) chunk 12\n",
      "✅ Scored: 1992_Sister Act (1992)(includes lyrics) chunk 13\n"
     ]
    },
    {
     "name": "stderr",
     "output_type": "stream",
     "text": [
      "Scoring institutional trust (chunked):  79%|▊| 379/478 [3:50:08<1:02:47, 38.06s/"
     ]
    },
    {
     "name": "stdout",
     "output_type": "stream",
     "text": [
      "✅ Scored: 2018_The.Grinch.2018.1080p.WEB-DL.X264.DD5.1-SeeHD chunk 1\n",
      "✅ Scored: 2018_The.Grinch.2018.1080p.WEB-DL.X264.DD5.1-SeeHD chunk 2\n",
      "✅ Scored: 2018_The.Grinch.2018.1080p.WEB-DL.X264.DD5.1-SeeHD chunk 3\n",
      "✅ Scored: 2018_The.Grinch.2018.1080p.WEB-DL.X264.DD5.1-SeeHD chunk 4\n",
      "✅ Scored: 2018_The.Grinch.2018.1080p.WEB-DL.X264.DD5.1-SeeHD chunk 5\n",
      "✅ Scored: 2018_The.Grinch.2018.1080p.WEB-DL.X264.DD5.1-SeeHD chunk 6\n",
      "✅ Scored: 2018_The.Grinch.2018.1080p.WEB-DL.X264.DD5.1-SeeHD chunk 7\n",
      "✅ Scored: 2018_The.Grinch.2018.1080p.WEB-DL.X264.DD5.1-SeeHD chunk 8\n",
      "✅ Scored: 2018_The.Grinch.2018.1080p.WEB-DL.X264.DD5.1-SeeHD chunk 9\n"
     ]
    },
    {
     "name": "stderr",
     "output_type": "stream",
     "text": [
      "Scoring institutional trust (chunked):  79%|▊| 380/478 [3:50:38<58:14, 35.66s/it"
     ]
    },
    {
     "name": "stdout",
     "output_type": "stream",
     "text": [
      "✅ Scored: 1997_Face.Off.1997.1080p.BD9.OXiDE.ENG chunk 1\n",
      "✅ Scored: 1997_Face.Off.1997.1080p.BD9.OXiDE.ENG chunk 2\n",
      "✅ Scored: 1997_Face.Off.1997.1080p.BD9.OXiDE.ENG chunk 3\n",
      "✅ Scored: 1997_Face.Off.1997.1080p.BD9.OXiDE.ENG chunk 4\n",
      "✅ Scored: 1997_Face.Off.1997.1080p.BD9.OXiDE.ENG chunk 5\n",
      "✅ Scored: 1997_Face.Off.1997.1080p.BD9.OXiDE.ENG chunk 6\n",
      "✅ Scored: 1997_Face.Off.1997.1080p.BD9.OXiDE.ENG chunk 7\n",
      "✅ Scored: 1997_Face.Off.1997.1080p.BD9.OXiDE.ENG chunk 8\n",
      "✅ Scored: 1997_Face.Off.1997.1080p.BD9.OXiDE.ENG chunk 9\n"
     ]
    },
    {
     "name": "stderr",
     "output_type": "stream",
     "text": [
      "Scoring institutional trust (chunked):  80%|▊| 381/478 [3:51:07<54:45, 33.87s/it"
     ]
    },
    {
     "name": "stdout",
     "output_type": "stream",
     "text": [
      "✅ Scored: 1980_Nine to Five chunk 1\n",
      "✅ Scored: 1980_Nine to Five chunk 2\n",
      "✅ Scored: 1980_Nine to Five chunk 3\n",
      "✅ Scored: 1980_Nine to Five chunk 4\n",
      "✅ Scored: 1980_Nine to Five chunk 5\n",
      "✅ Scored: 1980_Nine to Five chunk 6\n",
      "✅ Scored: 1980_Nine to Five chunk 7\n",
      "✅ Scored: 1980_Nine to Five chunk 8\n",
      "✅ Scored: 1980_Nine to Five chunk 9\n",
      "✅ Scored: 1980_Nine to Five chunk 10\n",
      "✅ Scored: 1980_Nine to Five chunk 11\n"
     ]
    },
    {
     "name": "stderr",
     "output_type": "stream",
     "text": [
      "Scoring institutional trust (chunked):  80%|▊| 382/478 [3:51:43<55:17, 34.56s/it"
     ]
    },
    {
     "name": "stdout",
     "output_type": "stream",
     "text": [
      "✅ Scored: 2008_TheDarkKnight_2008_DVD-NikonXp.EN chunk 1\n",
      "✅ Scored: 2008_TheDarkKnight_2008_DVD-NikonXp.EN chunk 2\n",
      "✅ Scored: 2008_TheDarkKnight_2008_DVD-NikonXp.EN chunk 3\n",
      "✅ Scored: 2008_TheDarkKnight_2008_DVD-NikonXp.EN chunk 4\n",
      "✅ Scored: 2008_TheDarkKnight_2008_DVD-NikonXp.EN chunk 5\n",
      "✅ Scored: 2008_TheDarkKnight_2008_DVD-NikonXp.EN chunk 6\n",
      "✅ Scored: 2008_TheDarkKnight_2008_DVD-NikonXp.EN chunk 7\n",
      "✅ Scored: 2008_TheDarkKnight_2008_DVD-NikonXp.EN chunk 8\n",
      "✅ Scored: 2008_TheDarkKnight_2008_DVD-NikonXp.EN chunk 9\n",
      "✅ Scored: 2008_TheDarkKnight_2008_DVD-NikonXp.EN chunk 10\n",
      "✅ Scored: 2008_TheDarkKnight_2008_DVD-NikonXp.EN chunk 11\n",
      "✅ Scored: 2008_TheDarkKnight_2008_DVD-NikonXp.EN chunk 12\n",
      "✅ Scored: 2008_TheDarkKnight_2008_DVD-NikonXp.EN chunk 13\n",
      "✅ Scored: 2008_TheDarkKnight_2008_DVD-NikonXp.EN chunk 14\n",
      "✅ Scored: 2008_TheDarkKnight_2008_DVD-NikonXp.EN chunk 15\n",
      "✅ Scored: 2008_TheDarkKnight_2008_DVD-NikonXp.EN chunk 16\n"
     ]
    },
    {
     "name": "stderr",
     "output_type": "stream",
     "text": [
      "Scoring institutional trust (chunked):  80%|▊| 383/478 [3:52:39<1:04:41, 40.85s/"
     ]
    },
    {
     "name": "stdout",
     "output_type": "stream",
     "text": [
      "✅ Scored: 2003_Terminator.3.2003.720p.HDDVD.x264-ESiR.ENG chunk 1\n",
      "✅ Scored: 2003_Terminator.3.2003.720p.HDDVD.x264-ESiR.ENG chunk 2\n",
      "✅ Scored: 2003_Terminator.3.2003.720p.HDDVD.x264-ESiR.ENG chunk 3\n",
      "✅ Scored: 2003_Terminator.3.2003.720p.HDDVD.x264-ESiR.ENG chunk 4\n",
      "✅ Scored: 2003_Terminator.3.2003.720p.HDDVD.x264-ESiR.ENG chunk 5\n",
      "✅ Scored: 2003_Terminator.3.2003.720p.HDDVD.x264-ESiR.ENG chunk 6\n"
     ]
    },
    {
     "name": "stderr",
     "output_type": "stream",
     "text": [
      "Scoring institutional trust (chunked):  80%|▊| 384/478 [3:53:00<54:38, 34.88s/it"
     ]
    },
    {
     "name": "stdout",
     "output_type": "stream",
     "text": [
      "✅ Scored: 1999_big. daddy. 1999. 720p. bluray. x264-amiable. EN chunk 1\n",
      "✅ Scored: 1999_big. daddy. 1999. 720p. bluray. x264-amiable. EN chunk 2\n",
      "✅ Scored: 1999_big. daddy. 1999. 720p. bluray. x264-amiable. EN chunk 3\n",
      "✅ Scored: 1999_big. daddy. 1999. 720p. bluray. x264-amiable. EN chunk 4\n",
      "⚠️ Rate limit hit. Waiting 60 seconds...\n",
      "✅ Scored: 1999_big. daddy. 1999. 720p. bluray. x264-amiable. EN chunk 5\n",
      "✅ Scored: 1999_big. daddy. 1999. 720p. bluray. x264-amiable. EN chunk 6\n",
      "✅ Scored: 1999_big. daddy. 1999. 720p. bluray. x264-amiable. EN chunk 7\n",
      "✅ Scored: 1999_big. daddy. 1999. 720p. bluray. x264-amiable. EN chunk 8\n",
      "✅ Scored: 1999_big. daddy. 1999. 720p. bluray. x264-amiable. EN chunk 9\n",
      "✅ Scored: 1999_big. daddy. 1999. 720p. bluray. x264-amiable. EN chunk 10\n",
      "✅ Scored: 1999_big. daddy. 1999. 720p. bluray. x264-amiable. EN chunk 11\n",
      "✅ Scored: 1999_big. daddy. 1999. 720p. bluray. x264-amiable. EN chunk 12\n"
     ]
    },
    {
     "name": "stderr",
     "output_type": "stream",
     "text": [
      "Scoring institutional trust (chunked):  81%|▊| 385/478 [3:54:41<1:24:51, 54.75s/"
     ]
    },
    {
     "name": "stdout",
     "output_type": "stream",
     "text": [
      "✅ Scored: 2019_Joker.2019.720p.HC.HDRip.XviD.AC3-EVO chunk 1\n",
      "✅ Scored: 2019_Joker.2019.720p.HC.HDRip.XviD.AC3-EVO chunk 2\n",
      "✅ Scored: 2019_Joker.2019.720p.HC.HDRip.XviD.AC3-EVO chunk 3\n",
      "✅ Scored: 2019_Joker.2019.720p.HC.HDRip.XviD.AC3-EVO chunk 4\n",
      "✅ Scored: 2019_Joker.2019.720p.HC.HDRip.XviD.AC3-EVO chunk 5\n",
      "✅ Scored: 2019_Joker.2019.720p.HC.HDRip.XviD.AC3-EVO chunk 6\n",
      "✅ Scored: 2019_Joker.2019.720p.HC.HDRip.XviD.AC3-EVO chunk 7\n",
      "✅ Scored: 2019_Joker.2019.720p.HC.HDRip.XviD.AC3-EVO chunk 8\n",
      "✅ Scored: 2019_Joker.2019.720p.HC.HDRip.XviD.AC3-EVO chunk 9\n"
     ]
    },
    {
     "name": "stderr",
     "output_type": "stream",
     "text": [
      "Scoring institutional trust (chunked):  81%|▊| 386/478 [3:55:13<1:13:20, 47.83s/"
     ]
    },
    {
     "name": "stdout",
     "output_type": "stream",
     "text": [
      "✅ Scored: 1979_The.Jerk.1979.1080p.HDDVD.x264-FSiHD.ENG_HI chunk 1\n",
      "✅ Scored: 1979_The.Jerk.1979.1080p.HDDVD.x264-FSiHD.ENG_HI chunk 2\n",
      "✅ Scored: 1979_The.Jerk.1979.1080p.HDDVD.x264-FSiHD.ENG_HI chunk 3\n",
      "✅ Scored: 1979_The.Jerk.1979.1080p.HDDVD.x264-FSiHD.ENG_HI chunk 4\n",
      "✅ Scored: 1979_The.Jerk.1979.1080p.HDDVD.x264-FSiHD.ENG_HI chunk 5\n",
      "✅ Scored: 1979_The.Jerk.1979.1080p.HDDVD.x264-FSiHD.ENG_HI chunk 6\n",
      "✅ Scored: 1979_The.Jerk.1979.1080p.HDDVD.x264-FSiHD.ENG_HI chunk 7\n",
      "✅ Scored: 1979_The.Jerk.1979.1080p.HDDVD.x264-FSiHD.ENG_HI chunk 8\n",
      "✅ Scored: 1979_The.Jerk.1979.1080p.HDDVD.x264-FSiHD.ENG_HI chunk 9\n",
      "✅ Scored: 1979_The.Jerk.1979.1080p.HDDVD.x264-FSiHD.ENG_HI chunk 10\n"
     ]
    },
    {
     "name": "stderr",
     "output_type": "stream",
     "text": [
      "Scoring institutional trust (chunked):  81%|▊| 387/478 [3:55:46<1:05:57, 43.49s/"
     ]
    },
    {
     "name": "stdout",
     "output_type": "stream",
     "text": [
      "✅ Scored: 1996_The.Rock.1996.CRiTERiON.DVDRip.XviD.AC3-UnSeeN chunk 1\n",
      "✅ Scored: 1996_The.Rock.1996.CRiTERiON.DVDRip.XviD.AC3-UnSeeN chunk 2\n",
      "✅ Scored: 1996_The.Rock.1996.CRiTERiON.DVDRip.XviD.AC3-UnSeeN chunk 3\n",
      "✅ Scored: 1996_The.Rock.1996.CRiTERiON.DVDRip.XviD.AC3-UnSeeN chunk 4\n",
      "✅ Scored: 1996_The.Rock.1996.CRiTERiON.DVDRip.XviD.AC3-UnSeeN chunk 5\n",
      "✅ Scored: 1996_The.Rock.1996.CRiTERiON.DVDRip.XviD.AC3-UnSeeN chunk 6\n",
      "✅ Scored: 1996_The.Rock.1996.CRiTERiON.DVDRip.XviD.AC3-UnSeeN chunk 7\n",
      "✅ Scored: 1996_The.Rock.1996.CRiTERiON.DVDRip.XviD.AC3-UnSeeN chunk 8\n",
      "✅ Scored: 1996_The.Rock.1996.CRiTERiON.DVDRip.XviD.AC3-UnSeeN chunk 9\n",
      "✅ Scored: 1996_The.Rock.1996.CRiTERiON.DVDRip.XviD.AC3-UnSeeN chunk 10\n",
      "✅ Scored: 1996_The.Rock.1996.CRiTERiON.DVDRip.XviD.AC3-UnSeeN chunk 11\n",
      "✅ Scored: 1996_The.Rock.1996.CRiTERiON.DVDRip.XviD.AC3-UnSeeN chunk 12\n",
      "✅ Scored: 1996_The.Rock.1996.CRiTERiON.DVDRip.XviD.AC3-UnSeeN chunk 13\n",
      "✅ Scored: 1996_The.Rock.1996.CRiTERiON.DVDRip.XviD.AC3-UnSeeN chunk 14\n"
     ]
    },
    {
     "name": "stderr",
     "output_type": "stream",
     "text": [
      "Scoring institutional trust (chunked):  81%|▊| 388/478 [3:56:33<1:06:37, 44.42s/"
     ]
    },
    {
     "name": "stdout",
     "output_type": "stream",
     "text": [
      "✅ Scored: 2000_Dinosaur.2000.PROPER.1080p.BluRay.x264-Japhson chunk 1\n",
      "✅ Scored: 2000_Dinosaur.2000.PROPER.1080p.BluRay.x264-Japhson chunk 2\n",
      "✅ Scored: 2000_Dinosaur.2000.PROPER.1080p.BluRay.x264-Japhson chunk 3\n",
      "✅ Scored: 2000_Dinosaur.2000.PROPER.1080p.BluRay.x264-Japhson chunk 4\n"
     ]
    },
    {
     "name": "stderr",
     "output_type": "stream",
     "text": [
      "Scoring institutional trust (chunked):  81%|▊| 389/478 [3:56:46<52:16, 35.24s/it"
     ]
    },
    {
     "name": "stdout",
     "output_type": "stream",
     "text": [
      "✅ Scored: 2020_Dolittle.2020.HDRip.800MB.x264-GalaxyRG chunk 1\n",
      "✅ Scored: 2020_Dolittle.2020.HDRip.800MB.x264-GalaxyRG chunk 2\n",
      "✅ Scored: 2020_Dolittle.2020.HDRip.800MB.x264-GalaxyRG chunk 3\n",
      "✅ Scored: 2020_Dolittle.2020.HDRip.800MB.x264-GalaxyRG chunk 4\n",
      "✅ Scored: 2020_Dolittle.2020.HDRip.800MB.x264-GalaxyRG chunk 5\n",
      "✅ Scored: 2020_Dolittle.2020.HDRip.800MB.x264-GalaxyRG chunk 6\n",
      "✅ Scored: 2020_Dolittle.2020.HDRip.800MB.x264-GalaxyRG chunk 7\n",
      "✅ Scored: 2020_Dolittle.2020.HDRip.800MB.x264-GalaxyRG chunk 8\n",
      "✅ Scored: 2020_Dolittle.2020.HDRip.800MB.x264-GalaxyRG chunk 9\n",
      "✅ Scored: 2020_Dolittle.2020.HDRip.800MB.x264-GalaxyRG chunk 10\n"
     ]
    },
    {
     "name": "stderr",
     "output_type": "stream",
     "text": [
      "Scoring institutional trust (chunked):  82%|▊| 390/478 [3:57:22<51:41, 35.24s/it"
     ]
    },
    {
     "name": "stdout",
     "output_type": "stream",
     "text": [
      "✅ Scored: 1987_Fatal Attraction 1987 1080p BluRay Remux AVC TrueHD 5. 1 COMM-KESH. EN 23. 976 chunk 1\n",
      "✅ Scored: 1987_Fatal Attraction 1987 1080p BluRay Remux AVC TrueHD 5. 1 COMM-KESH. EN 23. 976 chunk 2\n",
      "✅ Scored: 1987_Fatal Attraction 1987 1080p BluRay Remux AVC TrueHD 5. 1 COMM-KESH. EN 23. 976 chunk 3\n",
      "✅ Scored: 1987_Fatal Attraction 1987 1080p BluRay Remux AVC TrueHD 5. 1 COMM-KESH. EN 23. 976 chunk 4\n",
      "✅ Scored: 1987_Fatal Attraction 1987 1080p BluRay Remux AVC TrueHD 5. 1 COMM-KESH. EN 23. 976 chunk 5\n",
      "✅ Scored: 1987_Fatal Attraction 1987 1080p BluRay Remux AVC TrueHD 5. 1 COMM-KESH. EN 23. 976 chunk 6\n",
      "✅ Scored: 1987_Fatal Attraction 1987 1080p BluRay Remux AVC TrueHD 5. 1 COMM-KESH. EN 23. 976 chunk 7\n",
      "✅ Scored: 1987_Fatal Attraction 1987 1080p BluRay Remux AVC TrueHD 5. 1 COMM-KESH. EN 23. 976 chunk 8\n",
      "✅ Scored: 1987_Fatal Attraction 1987 1080p BluRay Remux AVC TrueHD 5. 1 COMM-KESH. EN 23. 976 chunk 9\n",
      "✅ Scored: 1987_Fatal Attraction 1987 1080p BluRay Remux AVC TrueHD 5. 1 COMM-KESH. EN 23. 976 chunk 10\n"
     ]
    },
    {
     "name": "stderr",
     "output_type": "stream",
     "text": [
      "Scoring institutional trust (chunked):  82%|▊| 391/478 [3:57:56<50:39, 34.94s/it"
     ]
    },
    {
     "name": "stdout",
     "output_type": "stream",
     "text": [
      "✅ Scored: 1984_Terms.of.Endearment.1983.720p.BluRay.X264-AMIABLE chunk 1\n",
      "✅ Scored: 1984_Terms.of.Endearment.1983.720p.BluRay.X264-AMIABLE chunk 2\n",
      "✅ Scored: 1984_Terms.of.Endearment.1983.720p.BluRay.X264-AMIABLE chunk 3\n",
      "✅ Scored: 1984_Terms.of.Endearment.1983.720p.BluRay.X264-AMIABLE chunk 4\n",
      "✅ Scored: 1984_Terms.of.Endearment.1983.720p.BluRay.X264-AMIABLE chunk 5\n",
      "✅ Scored: 1984_Terms.of.Endearment.1983.720p.BluRay.X264-AMIABLE chunk 6\n",
      "✅ Scored: 1984_Terms.of.Endearment.1983.720p.BluRay.X264-AMIABLE chunk 7\n",
      "✅ Scored: 1984_Terms.of.Endearment.1983.720p.BluRay.X264-AMIABLE chunk 8\n",
      "✅ Scored: 1984_Terms.of.Endearment.1983.720p.BluRay.X264-AMIABLE chunk 9\n",
      "✅ Scored: 1984_Terms.of.Endearment.1983.720p.BluRay.X264-AMIABLE chunk 10\n",
      "✅ Scored: 1984_Terms.of.Endearment.1983.720p.BluRay.X264-AMIABLE chunk 11\n",
      "✅ Scored: 1984_Terms.of.Endearment.1983.720p.BluRay.X264-AMIABLE chunk 12\n",
      "✅ Scored: 1984_Terms.of.Endearment.1983.720p.BluRay.X264-AMIABLE chunk 13\n"
     ]
    },
    {
     "name": "stderr",
     "output_type": "stream",
     "text": [
      "Scoring institutional trust (chunked):  82%|▊| 392/478 [3:58:40<53:48, 37.54s/it"
     ]
    },
    {
     "name": "stdout",
     "output_type": "stream",
     "text": [
      "✅ Scored: 2022_The.Batman.2022.HDRip.850MB.c1nem4.x264-SUNSCREEN chunk 1\n",
      "✅ Scored: 2022_The.Batman.2022.HDRip.850MB.c1nem4.x264-SUNSCREEN chunk 2\n",
      "✅ Scored: 2022_The.Batman.2022.HDRip.850MB.c1nem4.x264-SUNSCREEN chunk 3\n",
      "✅ Scored: 2022_The.Batman.2022.HDRip.850MB.c1nem4.x264-SUNSCREEN chunk 4\n",
      "✅ Scored: 2022_The.Batman.2022.HDRip.850MB.c1nem4.x264-SUNSCREEN chunk 5\n",
      "✅ Scored: 2022_The.Batman.2022.HDRip.850MB.c1nem4.x264-SUNSCREEN chunk 6\n",
      "✅ Scored: 2022_The.Batman.2022.HDRip.850MB.c1nem4.x264-SUNSCREEN chunk 7\n",
      "✅ Scored: 2022_The.Batman.2022.HDRip.850MB.c1nem4.x264-SUNSCREEN chunk 8\n",
      "✅ Scored: 2022_The.Batman.2022.HDRip.850MB.c1nem4.x264-SUNSCREEN chunk 9\n",
      "✅ Scored: 2022_The.Batman.2022.HDRip.850MB.c1nem4.x264-SUNSCREEN chunk 10\n",
      "✅ Scored: 2022_The.Batman.2022.HDRip.850MB.c1nem4.x264-SUNSCREEN chunk 11\n",
      "✅ Scored: 2022_The.Batman.2022.HDRip.850MB.c1nem4.x264-SUNSCREEN chunk 12\n",
      "✅ Scored: 2022_The.Batman.2022.HDRip.850MB.c1nem4.x264-SUNSCREEN chunk 13\n"
     ]
    },
    {
     "name": "stderr",
     "output_type": "stream",
     "text": [
      "Scoring institutional trust (chunked):  82%|▊| 393/478 [3:59:23<55:32, 39.20s/it"
     ]
    },
    {
     "name": "stdout",
     "output_type": "stream",
     "text": [
      "✅ Scored: 1981_Superman.II.The.Richard.Donner.Cut.1980.720p.BluRay.x264.DTS-WiKi.eng chunk 1\n",
      "✅ Scored: 1981_Superman.II.The.Richard.Donner.Cut.1980.720p.BluRay.x264.DTS-WiKi.eng chunk 2\n",
      "✅ Scored: 1981_Superman.II.The.Richard.Donner.Cut.1980.720p.BluRay.x264.DTS-WiKi.eng chunk 3\n",
      "✅ Scored: 1981_Superman.II.The.Richard.Donner.Cut.1980.720p.BluRay.x264.DTS-WiKi.eng chunk 4\n",
      "✅ Scored: 1981_Superman.II.The.Richard.Donner.Cut.1980.720p.BluRay.x264.DTS-WiKi.eng chunk 5\n",
      "✅ Scored: 1981_Superman.II.The.Richard.Donner.Cut.1980.720p.BluRay.x264.DTS-WiKi.eng chunk 6\n",
      "✅ Scored: 1981_Superman.II.The.Richard.Donner.Cut.1980.720p.BluRay.x264.DTS-WiKi.eng chunk 7\n",
      "✅ Scored: 1981_Superman.II.The.Richard.Donner.Cut.1980.720p.BluRay.x264.DTS-WiKi.eng chunk 8\n",
      "✅ Scored: 1981_Superman.II.The.Richard.Donner.Cut.1980.720p.BluRay.x264.DTS-WiKi.eng chunk 9\n"
     ]
    },
    {
     "name": "stderr",
     "output_type": "stream",
     "text": [
      "Scoring institutional trust (chunked):  82%|▊| 394/478 [3:59:53<51:11, 36.56s/it"
     ]
    },
    {
     "name": "stdout",
     "output_type": "stream",
     "text": [
      "✅ Scored: 1986_Out.Of.Africa.1985.REMASTERED.720p.BluRay.DTS.x264-PublicHD chunk 1\n",
      "✅ Scored: 1986_Out.Of.Africa.1985.REMASTERED.720p.BluRay.DTS.x264-PublicHD chunk 2\n",
      "✅ Scored: 1986_Out.Of.Africa.1985.REMASTERED.720p.BluRay.DTS.x264-PublicHD chunk 3\n",
      "✅ Scored: 1986_Out.Of.Africa.1985.REMASTERED.720p.BluRay.DTS.x264-PublicHD chunk 4\n",
      "✅ Scored: 1986_Out.Of.Africa.1985.REMASTERED.720p.BluRay.DTS.x264-PublicHD chunk 5\n",
      "✅ Scored: 1986_Out.Of.Africa.1985.REMASTERED.720p.BluRay.DTS.x264-PublicHD chunk 6\n",
      "✅ Scored: 1986_Out.Of.Africa.1985.REMASTERED.720p.BluRay.DTS.x264-PublicHD chunk 7\n",
      "✅ Scored: 1986_Out.Of.Africa.1985.REMASTERED.720p.BluRay.DTS.x264-PublicHD chunk 8\n",
      "✅ Scored: 1986_Out.Of.Africa.1985.REMASTERED.720p.BluRay.DTS.x264-PublicHD chunk 9\n",
      "✅ Scored: 1986_Out.Of.Africa.1985.REMASTERED.720p.BluRay.DTS.x264-PublicHD chunk 10\n"
     ]
    },
    {
     "name": "stderr",
     "output_type": "stream",
     "text": [
      "Scoring institutional trust (chunked):  83%|▊| 395/478 [4:00:26<49:05, 35.49s/it"
     ]
    },
    {
     "name": "stdout",
     "output_type": "stream",
     "text": [
      "✅ Scored: 1991_Dances.With.Wolves.1990.Directors.Cut.BRRip.XviD.AC3-FLAWL3SS.fixed chunk 1\n",
      "✅ Scored: 1991_Dances.With.Wolves.1990.Directors.Cut.BRRip.XviD.AC3-FLAWL3SS.fixed chunk 2\n",
      "✅ Scored: 1991_Dances.With.Wolves.1990.Directors.Cut.BRRip.XviD.AC3-FLAWL3SS.fixed chunk 3\n",
      "✅ Scored: 1991_Dances.With.Wolves.1990.Directors.Cut.BRRip.XviD.AC3-FLAWL3SS.fixed chunk 4\n",
      "✅ Scored: 1991_Dances.With.Wolves.1990.Directors.Cut.BRRip.XviD.AC3-FLAWL3SS.fixed chunk 5\n",
      "✅ Scored: 1991_Dances.With.Wolves.1990.Directors.Cut.BRRip.XviD.AC3-FLAWL3SS.fixed chunk 6\n",
      "✅ Scored: 1991_Dances.With.Wolves.1990.Directors.Cut.BRRip.XviD.AC3-FLAWL3SS.fixed chunk 7\n",
      "✅ Scored: 1991_Dances.With.Wolves.1990.Directors.Cut.BRRip.XviD.AC3-FLAWL3SS.fixed chunk 8\n",
      "✅ Scored: 1991_Dances.With.Wolves.1990.Directors.Cut.BRRip.XviD.AC3-FLAWL3SS.fixed chunk 9\n"
     ]
    },
    {
     "name": "stderr",
     "output_type": "stream",
     "text": [
      "Scoring institutional trust (chunked):  83%|▊| 396/478 [4:00:57<46:39, 34.14s/it"
     ]
    },
    {
     "name": "stdout",
     "output_type": "stream",
     "text": [
      "✅ Scored: 1994_True.Lies.1994.720p.DTheater.DD5.1.x264-EbP chunk 1\n",
      "✅ Scored: 1994_True.Lies.1994.720p.DTheater.DD5.1.x264-EbP chunk 2\n",
      "✅ Scored: 1994_True.Lies.1994.720p.DTheater.DD5.1.x264-EbP chunk 3\n",
      "✅ Scored: 1994_True.Lies.1994.720p.DTheater.DD5.1.x264-EbP chunk 4\n",
      "✅ Scored: 1994_True.Lies.1994.720p.DTheater.DD5.1.x264-EbP chunk 5\n",
      "✅ Scored: 1994_True.Lies.1994.720p.DTheater.DD5.1.x264-EbP chunk 6\n",
      "✅ Scored: 1994_True.Lies.1994.720p.DTheater.DD5.1.x264-EbP chunk 7\n",
      "✅ Scored: 1994_True.Lies.1994.720p.DTheater.DD5.1.x264-EbP chunk 8\n",
      "✅ Scored: 1994_True.Lies.1994.720p.DTheater.DD5.1.x264-EbP chunk 9\n",
      "✅ Scored: 1994_True.Lies.1994.720p.DTheater.DD5.1.x264-EbP chunk 10\n"
     ]
    },
    {
     "name": "stderr",
     "output_type": "stream",
     "text": [
      "Scoring institutional trust (chunked):  83%|▊| 397/478 [4:01:31<46:03, 34.12s/it"
     ]
    },
    {
     "name": "stdout",
     "output_type": "stream",
     "text": [
      "✅ Scored: 2002_Signs.2002.720p.BluRay.x264.DTS-HDChina.eng chunk 1\n",
      "✅ Scored: 2002_Signs.2002.720p.BluRay.x264.DTS-HDChina.eng chunk 2\n",
      "✅ Scored: 2002_Signs.2002.720p.BluRay.x264.DTS-HDChina.eng chunk 3\n",
      "✅ Scored: 2002_Signs.2002.720p.BluRay.x264.DTS-HDChina.eng chunk 4\n",
      "✅ Scored: 2002_Signs.2002.720p.BluRay.x264.DTS-HDChina.eng chunk 5\n",
      "✅ Scored: 2002_Signs.2002.720p.BluRay.x264.DTS-HDChina.eng chunk 6\n",
      "✅ Scored: 2002_Signs.2002.720p.BluRay.x264.DTS-HDChina.eng chunk 7\n"
     ]
    },
    {
     "name": "stderr",
     "output_type": "stream",
     "text": [
      "Scoring institutional trust (chunked):  83%|▊| 398/478 [4:01:56<41:43, 31.29s/it"
     ]
    },
    {
     "name": "stdout",
     "output_type": "stream",
     "text": [
      "✅ Scored: 2012_Brave.2012.720p.BluRay.x264.AC3-HDChina chunk 1\n",
      "✅ Scored: 2012_Brave.2012.720p.BluRay.x264.AC3-HDChina chunk 2\n",
      "✅ Scored: 2012_Brave.2012.720p.BluRay.x264.AC3-HDChina chunk 3\n",
      "✅ Scored: 2012_Brave.2012.720p.BluRay.x264.AC3-HDChina chunk 4\n",
      "✅ Scored: 2012_Brave.2012.720p.BluRay.x264.AC3-HDChina chunk 5\n",
      "✅ Scored: 2012_Brave.2012.720p.BluRay.x264.AC3-HDChina chunk 6\n"
     ]
    },
    {
     "name": "stderr",
     "output_type": "stream",
     "text": [
      "Scoring institutional trust (chunked):  83%|▊| 399/478 [4:02:16<36:55, 28.04s/it"
     ]
    },
    {
     "name": "stdout",
     "output_type": "stream",
     "text": [
      "✅ Scored: 2005_Hitch.2005.WS.DVDRiP.XViD-CCTV.en chunk 1\n",
      "✅ Scored: 2005_Hitch.2005.WS.DVDRiP.XViD-CCTV.en chunk 2\n",
      "✅ Scored: 2005_Hitch.2005.WS.DVDRiP.XViD-CCTV.en chunk 3\n",
      "✅ Scored: 2005_Hitch.2005.WS.DVDRiP.XViD-CCTV.en chunk 4\n",
      "✅ Scored: 2005_Hitch.2005.WS.DVDRiP.XViD-CCTV.en chunk 5\n",
      "✅ Scored: 2005_Hitch.2005.WS.DVDRiP.XViD-CCTV.en chunk 6\n",
      "✅ Scored: 2005_Hitch.2005.WS.DVDRiP.XViD-CCTV.en chunk 7\n",
      "✅ Scored: 2005_Hitch.2005.WS.DVDRiP.XViD-CCTV.en chunk 8\n",
      "✅ Scored: 2005_Hitch.2005.WS.DVDRiP.XViD-CCTV.en chunk 9\n",
      "✅ Scored: 2005_Hitch.2005.WS.DVDRiP.XViD-CCTV.en chunk 10\n",
      "✅ Scored: 2005_Hitch.2005.WS.DVDRiP.XViD-CCTV.en chunk 11\n",
      "✅ Scored: 2005_Hitch.2005.WS.DVDRiP.XViD-CCTV.en chunk 12\n"
     ]
    },
    {
     "name": "stderr",
     "output_type": "stream",
     "text": [
      "Scoring institutional trust (chunked):  84%|▊| 400/478 [4:02:56<40:59, 31.53s/it"
     ]
    },
    {
     "name": "stdout",
     "output_type": "stream",
     "text": [
      "✅ Scored: 2019_Spider-Man.Far.From.Home.2019.V3.1080p.NEW.HDTC.H264.AC3.ADDS.CUT.BLURRED.Will1869 chunk 1\n",
      "✅ Scored: 2019_Spider-Man.Far.From.Home.2019.V3.1080p.NEW.HDTC.H264.AC3.ADDS.CUT.BLURRED.Will1869 chunk 2\n",
      "✅ Scored: 2019_Spider-Man.Far.From.Home.2019.V3.1080p.NEW.HDTC.H264.AC3.ADDS.CUT.BLURRED.Will1869 chunk 3\n",
      "✅ Scored: 2019_Spider-Man.Far.From.Home.2019.V3.1080p.NEW.HDTC.H264.AC3.ADDS.CUT.BLURRED.Will1869 chunk 4\n",
      "✅ Scored: 2019_Spider-Man.Far.From.Home.2019.V3.1080p.NEW.HDTC.H264.AC3.ADDS.CUT.BLURRED.Will1869 chunk 5\n",
      "✅ Scored: 2019_Spider-Man.Far.From.Home.2019.V3.1080p.NEW.HDTC.H264.AC3.ADDS.CUT.BLURRED.Will1869 chunk 6\n",
      "✅ Scored: 2019_Spider-Man.Far.From.Home.2019.V3.1080p.NEW.HDTC.H264.AC3.ADDS.CUT.BLURRED.Will1869 chunk 7\n",
      "✅ Scored: 2019_Spider-Man.Far.From.Home.2019.V3.1080p.NEW.HDTC.H264.AC3.ADDS.CUT.BLURRED.Will1869 chunk 8\n",
      "✅ Scored: 2019_Spider-Man.Far.From.Home.2019.V3.1080p.NEW.HDTC.H264.AC3.ADDS.CUT.BLURRED.Will1869 chunk 9\n",
      "✅ Scored: 2019_Spider-Man.Far.From.Home.2019.V3.1080p.NEW.HDTC.H264.AC3.ADDS.CUT.BLURRED.Will1869 chunk 10\n",
      "✅ Scored: 2019_Spider-Man.Far.From.Home.2019.V3.1080p.NEW.HDTC.H264.AC3.ADDS.CUT.BLURRED.Will1869 chunk 11\n",
      "✅ Scored: 2019_Spider-Man.Far.From.Home.2019.V3.1080p.NEW.HDTC.H264.AC3.ADDS.CUT.BLURRED.Will1869 chunk 12\n",
      "✅ Scored: 2019_Spider-Man.Far.From.Home.2019.V3.1080p.NEW.HDTC.H264.AC3.ADDS.CUT.BLURRED.Will1869 chunk 13\n"
     ]
    },
    {
     "name": "stderr",
     "output_type": "stream",
     "text": [
      "Scoring institutional trust (chunked):  84%|▊| 401/478 [4:03:39<44:51, 34.95s/it"
     ]
    },
    {
     "name": "stdout",
     "output_type": "stream",
     "text": [
      "✅ Scored: 1978_Superman.1978.Special.Edition.720p.BluRay.x264.DTS-WiKi.eng chunk 1\n",
      "✅ Scored: 1978_Superman.1978.Special.Edition.720p.BluRay.x264.DTS-WiKi.eng chunk 2\n",
      "✅ Scored: 1978_Superman.1978.Special.Edition.720p.BluRay.x264.DTS-WiKi.eng chunk 3\n",
      "✅ Scored: 1978_Superman.1978.Special.Edition.720p.BluRay.x264.DTS-WiKi.eng chunk 4\n",
      "✅ Scored: 1978_Superman.1978.Special.Edition.720p.BluRay.x264.DTS-WiKi.eng chunk 5\n",
      "✅ Scored: 1978_Superman.1978.Special.Edition.720p.BluRay.x264.DTS-WiKi.eng chunk 6\n",
      "✅ Scored: 1978_Superman.1978.Special.Edition.720p.BluRay.x264.DTS-WiKi.eng chunk 7\n",
      "✅ Scored: 1978_Superman.1978.Special.Edition.720p.BluRay.x264.DTS-WiKi.eng chunk 8\n",
      "✅ Scored: 1978_Superman.1978.Special.Edition.720p.BluRay.x264.DTS-WiKi.eng chunk 9\n",
      "✅ Scored: 1978_Superman.1978.Special.Edition.720p.BluRay.x264.DTS-WiKi.eng chunk 10\n",
      "✅ Scored: 1978_Superman.1978.Special.Edition.720p.BluRay.x264.DTS-WiKi.eng chunk 11\n"
     ]
    },
    {
     "name": "stderr",
     "output_type": "stream",
     "text": [
      "Scoring institutional trust (chunked):  84%|▊| 402/478 [4:04:14<44:21, 35.02s/it"
     ]
    },
    {
     "name": "stdout",
     "output_type": "stream",
     "text": [
      "✅ Scored: 1983_WarGames.1983.1080p.BluRay.H264.AAC-RARBG.Hi chunk 1\n",
      "✅ Scored: 1983_WarGames.1983.1080p.BluRay.H264.AAC-RARBG.Hi chunk 2\n",
      "✅ Scored: 1983_WarGames.1983.1080p.BluRay.H264.AAC-RARBG.Hi chunk 3\n",
      "✅ Scored: 1983_WarGames.1983.1080p.BluRay.H264.AAC-RARBG.Hi chunk 4\n",
      "✅ Scored: 1983_WarGames.1983.1080p.BluRay.H264.AAC-RARBG.Hi chunk 5\n",
      "✅ Scored: 1983_WarGames.1983.1080p.BluRay.H264.AAC-RARBG.Hi chunk 6\n",
      "✅ Scored: 1983_WarGames.1983.1080p.BluRay.H264.AAC-RARBG.Hi chunk 7\n",
      "✅ Scored: 1983_WarGames.1983.1080p.BluRay.H264.AAC-RARBG.Hi chunk 8\n",
      "✅ Scored: 1983_WarGames.1983.1080p.BluRay.H264.AAC-RARBG.Hi chunk 9\n",
      "✅ Scored: 1983_WarGames.1983.1080p.BluRay.H264.AAC-RARBG.Hi chunk 10\n",
      "✅ Scored: 1983_WarGames.1983.1080p.BluRay.H264.AAC-RARBG.Hi chunk 11\n"
     ]
    },
    {
     "name": "stderr",
     "output_type": "stream",
     "text": [
      "Scoring institutional trust (chunked):  84%|▊| 403/478 [4:04:50<44:06, 35.28s/it"
     ]
    },
    {
     "name": "stdout",
     "output_type": "stream",
     "text": [
      "✅ Scored: 1988_Die.Hard.1988.Bluray.1080p.DTSMA.x264.dxva-FraMeSToR.ENG chunk 1\n",
      "✅ Scored: 1988_Die.Hard.1988.Bluray.1080p.DTSMA.x264.dxva-FraMeSToR.ENG chunk 2\n",
      "✅ Scored: 1988_Die.Hard.1988.Bluray.1080p.DTSMA.x264.dxva-FraMeSToR.ENG chunk 3\n",
      "✅ Scored: 1988_Die.Hard.1988.Bluray.1080p.DTSMA.x264.dxva-FraMeSToR.ENG chunk 4\n",
      "✅ Scored: 1988_Die.Hard.1988.Bluray.1080p.DTSMA.x264.dxva-FraMeSToR.ENG chunk 5\n",
      "✅ Scored: 1988_Die.Hard.1988.Bluray.1080p.DTSMA.x264.dxva-FraMeSToR.ENG chunk 6\n",
      "✅ Scored: 1988_Die.Hard.1988.Bluray.1080p.DTSMA.x264.dxva-FraMeSToR.ENG chunk 7\n",
      "✅ Scored: 1988_Die.Hard.1988.Bluray.1080p.DTSMA.x264.dxva-FraMeSToR.ENG chunk 8\n",
      "✅ Scored: 1988_Die.Hard.1988.Bluray.1080p.DTSMA.x264.dxva-FraMeSToR.ENG chunk 9\n",
      "✅ Scored: 1988_Die.Hard.1988.Bluray.1080p.DTSMA.x264.dxva-FraMeSToR.ENG chunk 10\n"
     ]
    },
    {
     "name": "stderr",
     "output_type": "stream",
     "text": [
      "Scoring institutional trust (chunked):  85%|▊| 404/478 [4:05:25<43:30, 35.28s/it"
     ]
    },
    {
     "name": "stdout",
     "output_type": "stream",
     "text": [
      "✅ Scored: 2002_Men.In.Black.II.2002.1080p.Blu-ray.AVC.DTS-HD.MA.5 chunk 1\n",
      "✅ Scored: 2002_Men.In.Black.II.2002.1080p.Blu-ray.AVC.DTS-HD.MA.5 chunk 2\n",
      "✅ Scored: 2002_Men.In.Black.II.2002.1080p.Blu-ray.AVC.DTS-HD.MA.5 chunk 3\n",
      "✅ Scored: 2002_Men.In.Black.II.2002.1080p.Blu-ray.AVC.DTS-HD.MA.5 chunk 4\n",
      "✅ Scored: 2002_Men.In.Black.II.2002.1080p.Blu-ray.AVC.DTS-HD.MA.5 chunk 5\n",
      "✅ Scored: 2002_Men.In.Black.II.2002.1080p.Blu-ray.AVC.DTS-HD.MA.5 chunk 6\n",
      "✅ Scored: 2002_Men.In.Black.II.2002.1080p.Blu-ray.AVC.DTS-HD.MA.5 chunk 7\n",
      "✅ Scored: 2002_Men.In.Black.II.2002.1080p.Blu-ray.AVC.DTS-HD.MA.5 chunk 8\n",
      "✅ Scored: 2002_Men.In.Black.II.2002.1080p.Blu-ray.AVC.DTS-HD.MA.5 chunk 9\n"
     ]
    },
    {
     "name": "stderr",
     "output_type": "stream",
     "text": [
      "Scoring institutional trust (chunked):  85%|▊| 405/478 [4:05:57<41:28, 34.10s/it"
     ]
    },
    {
     "name": "stdout",
     "output_type": "stream",
     "text": [
      "✅ Scored: 1999_The.Sixth.Sense.1999.REMASTERED.720p.BluRay.x264-iLLUSiON chunk 1\n",
      "✅ Scored: 1999_The.Sixth.Sense.1999.REMASTERED.720p.BluRay.x264-iLLUSiON chunk 2\n",
      "✅ Scored: 1999_The.Sixth.Sense.1999.REMASTERED.720p.BluRay.x264-iLLUSiON chunk 3\n",
      "✅ Scored: 1999_The.Sixth.Sense.1999.REMASTERED.720p.BluRay.x264-iLLUSiON chunk 4\n",
      "✅ Scored: 1999_The.Sixth.Sense.1999.REMASTERED.720p.BluRay.x264-iLLUSiON chunk 5\n",
      "✅ Scored: 1999_The.Sixth.Sense.1999.REMASTERED.720p.BluRay.x264-iLLUSiON chunk 6\n"
     ]
    },
    {
     "name": "stderr",
     "output_type": "stream",
     "text": [
      "Scoring institutional trust (chunked):  85%|▊| 406/478 [4:06:17<36:09, 30.13s/it"
     ]
    },
    {
     "name": "stdout",
     "output_type": "stream",
     "text": [
      "✅ Scored: 2015_Inside.Out.2015.1080p.WEB-DL.AAC2.0.H264-RARBG chunk 1\n",
      "✅ Scored: 2015_Inside.Out.2015.1080p.WEB-DL.AAC2.0.H264-RARBG chunk 2\n",
      "✅ Scored: 2015_Inside.Out.2015.1080p.WEB-DL.AAC2.0.H264-RARBG chunk 3\n",
      "✅ Scored: 2015_Inside.Out.2015.1080p.WEB-DL.AAC2.0.H264-RARBG chunk 4\n",
      "✅ Scored: 2015_Inside.Out.2015.1080p.WEB-DL.AAC2.0.H264-RARBG chunk 5\n",
      "✅ Scored: 2015_Inside.Out.2015.1080p.WEB-DL.AAC2.0.H264-RARBG chunk 6\n",
      "✅ Scored: 2015_Inside.Out.2015.1080p.WEB-DL.AAC2.0.H264-RARBG chunk 7\n",
      "✅ Scored: 2015_Inside.Out.2015.1080p.WEB-DL.AAC2.0.H264-RARBG chunk 8\n",
      "✅ Scored: 2015_Inside.Out.2015.1080p.WEB-DL.AAC2.0.H264-RARBG chunk 9\n",
      "✅ Scored: 2015_Inside.Out.2015.1080p.WEB-DL.AAC2.0.H264-RARBG chunk 10\n",
      "✅ Scored: 2015_Inside.Out.2015.1080p.WEB-DL.AAC2.0.H264-RARBG chunk 11\n"
     ]
    },
    {
     "name": "stderr",
     "output_type": "stream",
     "text": [
      "Scoring institutional trust (chunked):  85%|▊| 407/478 [4:06:55<38:12, 32.29s/it"
     ]
    },
    {
     "name": "stdout",
     "output_type": "stream",
     "text": [
      "✅ Scored: 2019_Frozen.II.2019.DVDScr.XVID.AC3.HQ.Hive-CM8 chunk 1\n",
      "✅ Scored: 2019_Frozen.II.2019.DVDScr.XVID.AC3.HQ.Hive-CM8 chunk 2\n",
      "✅ Scored: 2019_Frozen.II.2019.DVDScr.XVID.AC3.HQ.Hive-CM8 chunk 3\n",
      "✅ Scored: 2019_Frozen.II.2019.DVDScr.XVID.AC3.HQ.Hive-CM8 chunk 4\n",
      "✅ Scored: 2019_Frozen.II.2019.DVDScr.XVID.AC3.HQ.Hive-CM8 chunk 5\n",
      "✅ Scored: 2019_Frozen.II.2019.DVDScr.XVID.AC3.HQ.Hive-CM8 chunk 6\n",
      "✅ Scored: 2019_Frozen.II.2019.DVDScr.XVID.AC3.HQ.Hive-CM8 chunk 7\n",
      "✅ Scored: 2019_Frozen.II.2019.DVDScr.XVID.AC3.HQ.Hive-CM8 chunk 8\n",
      "⚠️ Rate limit hit. Waiting 60 seconds...\n",
      "✅ Scored: 2019_Frozen.II.2019.DVDScr.XVID.AC3.HQ.Hive-CM8 chunk 9\n",
      "✅ Scored: 2019_Frozen.II.2019.DVDScr.XVID.AC3.HQ.Hive-CM8 chunk 10\n"
     ]
    },
    {
     "name": "stderr",
     "output_type": "stream",
     "text": [
      "Scoring institutional trust (chunked):  85%|▊| 408/478 [4:08:30<59:47, 51.24s/it"
     ]
    },
    {
     "name": "stdout",
     "output_type": "stream",
     "text": [
      "✅ Scored: 2006_Cars.2006.BRRip.XviD.AC3.D-Z0N3 chunk 1\n",
      "✅ Scored: 2006_Cars.2006.BRRip.XviD.AC3.D-Z0N3 chunk 2\n",
      "✅ Scored: 2006_Cars.2006.BRRip.XviD.AC3.D-Z0N3 chunk 3\n",
      "✅ Scored: 2006_Cars.2006.BRRip.XviD.AC3.D-Z0N3 chunk 4\n",
      "✅ Scored: 2006_Cars.2006.BRRip.XviD.AC3.D-Z0N3 chunk 5\n",
      "✅ Scored: 2006_Cars.2006.BRRip.XviD.AC3.D-Z0N3 chunk 6\n",
      "✅ Scored: 2006_Cars.2006.BRRip.XviD.AC3.D-Z0N3 chunk 7\n",
      "✅ Scored: 2006_Cars.2006.BRRip.XviD.AC3.D-Z0N3 chunk 8\n",
      "✅ Scored: 2006_Cars.2006.BRRip.XviD.AC3.D-Z0N3 chunk 9\n",
      "✅ Scored: 2006_Cars.2006.BRRip.XviD.AC3.D-Z0N3 chunk 10\n",
      "✅ Scored: 2006_Cars.2006.BRRip.XviD.AC3.D-Z0N3 chunk 11\n",
      "✅ Scored: 2006_Cars.2006.BRRip.XviD.AC3.D-Z0N3 chunk 12\n",
      "✅ Scored: 2006_Cars.2006.BRRip.XviD.AC3.D-Z0N3 chunk 13\n"
     ]
    },
    {
     "name": "stderr",
     "output_type": "stream",
     "text": [
      "Scoring institutional trust (chunked):  86%|▊| 409/478 [4:09:14<56:12, 48.88s/it"
     ]
    },
    {
     "name": "stdout",
     "output_type": "stream",
     "text": [
      "✅ Scored: 1985_Rambo Acorralado II (1985)1080p-Dual-momos-[.HDG].ENG chunk 1\n",
      "✅ Scored: 1985_Rambo Acorralado II (1985)1080p-Dual-momos-[.HDG].ENG chunk 2\n",
      "✅ Scored: 1985_Rambo Acorralado II (1985)1080p-Dual-momos-[.HDG].ENG chunk 3\n",
      "✅ Scored: 1985_Rambo Acorralado II (1985)1080p-Dual-momos-[.HDG].ENG chunk 4\n"
     ]
    },
    {
     "name": "stderr",
     "output_type": "stream",
     "text": [
      "Scoring institutional trust (chunked):  86%|▊| 410/478 [4:09:27<43:19, 38.22s/it"
     ]
    },
    {
     "name": "stdout",
     "output_type": "stream",
     "text": [
      "⚠️ Missing files for 1978_Close.Encounters.of.the.Third.Kind.Collectors.Edition.1977.720p.BluRay.DTS.x264-ESiR.ENG. Skipping.\n",
      "✅ Scored: 1999_[HDteam] Austin.Powers.La.Espia.que.me.Achucho.1999.[1080p].[BluRay].[x264].[Dual].[Subs]-by Ruben chunk 1\n",
      "✅ Scored: 1999_[HDteam] Austin.Powers.La.Espia.que.me.Achucho.1999.[1080p].[BluRay].[x264].[Dual].[Subs]-by Ruben chunk 2\n",
      "✅ Scored: 1999_[HDteam] Austin.Powers.La.Espia.que.me.Achucho.1999.[1080p].[BluRay].[x264].[Dual].[Subs]-by Ruben chunk 3\n",
      "✅ Scored: 1999_[HDteam] Austin.Powers.La.Espia.que.me.Achucho.1999.[1080p].[BluRay].[x264].[Dual].[Subs]-by Ruben chunk 4\n",
      "✅ Scored: 1999_[HDteam] Austin.Powers.La.Espia.que.me.Achucho.1999.[1080p].[BluRay].[x264].[Dual].[Subs]-by Ruben chunk 5\n",
      "✅ Scored: 1999_[HDteam] Austin.Powers.La.Espia.que.me.Achucho.1999.[1080p].[BluRay].[x264].[Dual].[Subs]-by Ruben chunk 6\n",
      "✅ Scored: 1999_[HDteam] Austin.Powers.La.Espia.que.me.Achucho.1999.[1080p].[BluRay].[x264].[Dual].[Subs]-by Ruben chunk 7\n",
      "✅ Scored: 1999_[HDteam] Austin.Powers.La.Espia.que.me.Achucho.1999.[1080p].[BluRay].[x264].[Dual].[Subs]-by Ruben chunk 8\n",
      "✅ Scored: 1999_[HDteam] Austin.Powers.La.Espia.que.me.Achucho.1999.[1080p].[BluRay].[x264].[Dual].[Subs]-by Ruben chunk 9\n"
     ]
    },
    {
     "name": "stderr",
     "output_type": "stream",
     "text": [
      "Scoring institutional trust (chunked):  86%|▊| 412/478 [4:09:58<30:38, 27.86s/it"
     ]
    },
    {
     "name": "stdout",
     "output_type": "stream",
     "text": [
      "✅ Scored: 2002_[TLOTR]The.Two.Towers.CD1[2002][Special.Extended.Edition]DvDrip[Eng]-aXXo chunk 1\n",
      "✅ Scored: 2002_[TLOTR]The.Two.Towers.CD1[2002][Special.Extended.Edition]DvDrip[Eng]-aXXo chunk 2\n",
      "✅ Scored: 2002_[TLOTR]The.Two.Towers.CD1[2002][Special.Extended.Edition]DvDrip[Eng]-aXXo chunk 3\n",
      "✅ Scored: 2002_[TLOTR]The.Two.Towers.CD1[2002][Special.Extended.Edition]DvDrip[Eng]-aXXo chunk 4\n",
      "✅ Scored: 2002_[TLOTR]The.Two.Towers.CD1[2002][Special.Extended.Edition]DvDrip[Eng]-aXXo chunk 5\n",
      "✅ Scored: 2002_[TLOTR]The.Two.Towers.CD1[2002][Special.Extended.Edition]DvDrip[Eng]-aXXo chunk 6\n",
      "✅ Scored: 2002_[TLOTR]The.Two.Towers.CD1[2002][Special.Extended.Edition]DvDrip[Eng]-aXXo chunk 7\n"
     ]
    },
    {
     "name": "stderr",
     "output_type": "stream",
     "text": [
      "Scoring institutional trust (chunked):  86%|▊| 413/478 [4:10:25<29:52, 27.58s/it"
     ]
    },
    {
     "name": "stdout",
     "output_type": "stream",
     "text": [
      "✅ Scored: 2010_nedivx-shrek4.en chunk 1\n",
      "✅ Scored: 2010_nedivx-shrek4.en chunk 2\n",
      "✅ Scored: 2010_nedivx-shrek4.en chunk 3\n",
      "✅ Scored: 2010_nedivx-shrek4.en chunk 4\n",
      "✅ Scored: 2010_nedivx-shrek4.en chunk 5\n",
      "✅ Scored: 2010_nedivx-shrek4.en chunk 6\n",
      "✅ Scored: 2010_nedivx-shrek4.en chunk 7\n",
      "✅ Scored: 2010_nedivx-shrek4.en chunk 8\n"
     ]
    },
    {
     "name": "stderr",
     "output_type": "stream",
     "text": [
      "Scoring institutional trust (chunked):  87%|▊| 414/478 [4:10:52<29:10, 27.35s/it"
     ]
    },
    {
     "name": "stdout",
     "output_type": "stream",
     "text": [
      "✅ Scored: 1978_Heaven.Can.Wait.1978.(El.Cielo.Puede.Esperar).DVDRip.XviD.MP3.Dual.ENG-ESP.English chunk 1\n",
      "✅ Scored: 1978_Heaven.Can.Wait.1978.(El.Cielo.Puede.Esperar).DVDRip.XviD.MP3.Dual.ENG-ESP.English chunk 2\n",
      "✅ Scored: 1978_Heaven.Can.Wait.1978.(El.Cielo.Puede.Esperar).DVDRip.XviD.MP3.Dual.ENG-ESP.English chunk 3\n",
      "✅ Scored: 1978_Heaven.Can.Wait.1978.(El.Cielo.Puede.Esperar).DVDRip.XviD.MP3.Dual.ENG-ESP.English chunk 4\n",
      "✅ Scored: 1978_Heaven.Can.Wait.1978.(El.Cielo.Puede.Esperar).DVDRip.XviD.MP3.Dual.ENG-ESP.English chunk 5\n",
      "✅ Scored: 1978_Heaven.Can.Wait.1978.(El.Cielo.Puede.Esperar).DVDRip.XviD.MP3.Dual.ENG-ESP.English chunk 6\n",
      "✅ Scored: 1978_Heaven.Can.Wait.1978.(El.Cielo.Puede.Esperar).DVDRip.XviD.MP3.Dual.ENG-ESP.English chunk 7\n",
      "✅ Scored: 1978_Heaven.Can.Wait.1978.(El.Cielo.Puede.Esperar).DVDRip.XviD.MP3.Dual.ENG-ESP.English chunk 8\n",
      "✅ Scored: 1978_Heaven.Can.Wait.1978.(El.Cielo.Puede.Esperar).DVDRip.XviD.MP3.Dual.ENG-ESP.English chunk 9\n",
      "✅ Scored: 1978_Heaven.Can.Wait.1978.(El.Cielo.Puede.Esperar).DVDRip.XviD.MP3.Dual.ENG-ESP.English chunk 10\n",
      "✅ Scored: 1978_Heaven.Can.Wait.1978.(El.Cielo.Puede.Esperar).DVDRip.XviD.MP3.Dual.ENG-ESP.English chunk 11\n"
     ]
    },
    {
     "name": "stderr",
     "output_type": "stream",
     "text": [
      "Scoring institutional trust (chunked):  87%|▊| 415/478 [4:11:28<31:15, 29.77s/it"
     ]
    },
    {
     "name": "stdout",
     "output_type": "stream",
     "text": [
      "✅ Scored: 2018_Avengers Infinity War 2018 NEW PROPER HD-CAM 720p Hindi + English X264 CPG - KatmovieHD.Ney chunk 1\n",
      "✅ Scored: 2018_Avengers Infinity War 2018 NEW PROPER HD-CAM 720p Hindi + English X264 CPG - KatmovieHD.Ney chunk 2\n",
      "✅ Scored: 2018_Avengers Infinity War 2018 NEW PROPER HD-CAM 720p Hindi + English X264 CPG - KatmovieHD.Ney chunk 3\n",
      "✅ Scored: 2018_Avengers Infinity War 2018 NEW PROPER HD-CAM 720p Hindi + English X264 CPG - KatmovieHD.Ney chunk 4\n",
      "✅ Scored: 2018_Avengers Infinity War 2018 NEW PROPER HD-CAM 720p Hindi + English X264 CPG - KatmovieHD.Ney chunk 5\n",
      "✅ Scored: 2018_Avengers Infinity War 2018 NEW PROPER HD-CAM 720p Hindi + English X264 CPG - KatmovieHD.Ney chunk 6\n",
      "✅ Scored: 2018_Avengers Infinity War 2018 NEW PROPER HD-CAM 720p Hindi + English X264 CPG - KatmovieHD.Ney chunk 7\n",
      "✅ Scored: 2018_Avengers Infinity War 2018 NEW PROPER HD-CAM 720p Hindi + English X264 CPG - KatmovieHD.Ney chunk 8\n",
      "✅ Scored: 2018_Avengers Infinity War 2018 NEW PROPER HD-CAM 720p Hindi + English X264 CPG - KatmovieHD.Ney chunk 9\n",
      "✅ Scored: 2018_Avengers Infinity War 2018 NEW PROPER HD-CAM 720p Hindi + English X264 CPG - KatmovieHD.Ney chunk 10\n"
     ]
    },
    {
     "name": "stderr",
     "output_type": "stream",
     "text": [
      "Scoring institutional trust (chunked):  87%|▊| 416/478 [4:12:02<31:59, 30.95s/it"
     ]
    },
    {
     "name": "stdout",
     "output_type": "stream",
     "text": [
      "✅ Scored: 1994_Speed.1994.BluRay.1080p.DTS.x264.dxva-EuReKA.ENG chunk 1\n",
      "✅ Scored: 1994_Speed.1994.BluRay.1080p.DTS.x264.dxva-EuReKA.ENG chunk 2\n",
      "✅ Scored: 1994_Speed.1994.BluRay.1080p.DTS.x264.dxva-EuReKA.ENG chunk 3\n",
      "✅ Scored: 1994_Speed.1994.BluRay.1080p.DTS.x264.dxva-EuReKA.ENG chunk 4\n",
      "✅ Scored: 1994_Speed.1994.BluRay.1080p.DTS.x264.dxva-EuReKA.ENG chunk 5\n",
      "✅ Scored: 1994_Speed.1994.BluRay.1080p.DTS.x264.dxva-EuReKA.ENG chunk 6\n",
      "✅ Scored: 1994_Speed.1994.BluRay.1080p.DTS.x264.dxva-EuReKA.ENG chunk 7\n",
      "✅ Scored: 1994_Speed.1994.BluRay.1080p.DTS.x264.dxva-EuReKA.ENG chunk 8\n",
      "✅ Scored: 1994_Speed.1994.BluRay.1080p.DTS.x264.dxva-EuReKA.ENG chunk 9\n",
      "✅ Scored: 1994_Speed.1994.BluRay.1080p.DTS.x264.dxva-EuReKA.ENG chunk 10\n"
     ]
    },
    {
     "name": "stderr",
     "output_type": "stream",
     "text": [
      "Scoring institutional trust (chunked):  87%|▊| 417/478 [4:12:35<32:06, 31.58s/it"
     ]
    },
    {
     "name": "stdout",
     "output_type": "stream",
     "text": [
      "✅ Scored: 2004_H.P.3-Prisoner.Of.Azkaban[2004]DvDrip-aXXo chunk 1\n",
      "✅ Scored: 2004_H.P.3-Prisoner.Of.Azkaban[2004]DvDrip-aXXo chunk 2\n",
      "✅ Scored: 2004_H.P.3-Prisoner.Of.Azkaban[2004]DvDrip-aXXo chunk 3\n",
      "✅ Scored: 2004_H.P.3-Prisoner.Of.Azkaban[2004]DvDrip-aXXo chunk 4\n",
      "✅ Scored: 2004_H.P.3-Prisoner.Of.Azkaban[2004]DvDrip-aXXo chunk 5\n",
      "✅ Scored: 2004_H.P.3-Prisoner.Of.Azkaban[2004]DvDrip-aXXo chunk 6\n",
      "✅ Scored: 2004_H.P.3-Prisoner.Of.Azkaban[2004]DvDrip-aXXo chunk 7\n",
      "✅ Scored: 2004_H.P.3-Prisoner.Of.Azkaban[2004]DvDrip-aXXo chunk 8\n",
      "✅ Scored: 2004_H.P.3-Prisoner.Of.Azkaban[2004]DvDrip-aXXo chunk 9\n",
      "✅ Scored: 2004_H.P.3-Prisoner.Of.Azkaban[2004]DvDrip-aXXo chunk 10\n",
      "✅ Scored: 2004_H.P.3-Prisoner.Of.Azkaban[2004]DvDrip-aXXo chunk 11\n",
      "✅ Scored: 2004_H.P.3-Prisoner.Of.Azkaban[2004]DvDrip-aXXo chunk 12\n"
     ]
    },
    {
     "name": "stderr",
     "output_type": "stream",
     "text": [
      "Scoring institutional trust (chunked):  87%|▊| 418/478 [4:13:16<34:10, 34.18s/it"
     ]
    },
    {
     "name": "stdout",
     "output_type": "stream",
     "text": [
      "✅ Scored: 1987_Platoon 1986 H264 Special Edition DVDRip chunk 1\n",
      "✅ Scored: 1987_Platoon 1986 H264 Special Edition DVDRip chunk 2\n",
      "✅ Scored: 1987_Platoon 1986 H264 Special Edition DVDRip chunk 3\n",
      "✅ Scored: 1987_Platoon 1986 H264 Special Edition DVDRip chunk 4\n",
      "✅ Scored: 1987_Platoon 1986 H264 Special Edition DVDRip chunk 5\n",
      "✅ Scored: 1987_Platoon 1986 H264 Special Edition DVDRip chunk 6\n",
      "✅ Scored: 1987_Platoon 1986 H264 Special Edition DVDRip chunk 7\n",
      "✅ Scored: 1987_Platoon 1986 H264 Special Edition DVDRip chunk 8\n",
      "✅ Scored: 1987_Platoon 1986 H264 Special Edition DVDRip chunk 9\n"
     ]
    },
    {
     "name": "stderr",
     "output_type": "stream",
     "text": [
      "Scoring institutional trust (chunked):  88%|▉| 419/478 [4:13:46<32:19, 32.88s/it"
     ]
    },
    {
     "name": "stdout",
     "output_type": "stream",
     "text": [
      "✅ Scored: 2009_Avatar.(2009).BDRip.AC3.XviD-D-Z0N3 chunk 1\n",
      "✅ Scored: 2009_Avatar.(2009).BDRip.AC3.XviD-D-Z0N3 chunk 2\n",
      "✅ Scored: 2009_Avatar.(2009).BDRip.AC3.XviD-D-Z0N3 chunk 3\n",
      "✅ Scored: 2009_Avatar.(2009).BDRip.AC3.XviD-D-Z0N3 chunk 4\n",
      "✅ Scored: 2009_Avatar.(2009).BDRip.AC3.XviD-D-Z0N3 chunk 5\n",
      "✅ Scored: 2009_Avatar.(2009).BDRip.AC3.XviD-D-Z0N3 chunk 6\n",
      "✅ Scored: 2009_Avatar.(2009).BDRip.AC3.XviD-D-Z0N3 chunk 7\n",
      "✅ Scored: 2009_Avatar.(2009).BDRip.AC3.XviD-D-Z0N3 chunk 8\n",
      "✅ Scored: 2009_Avatar.(2009).BDRip.AC3.XviD-D-Z0N3 chunk 9\n",
      "✅ Scored: 2009_Avatar.(2009).BDRip.AC3.XviD-D-Z0N3 chunk 10\n",
      "✅ Scored: 2009_Avatar.(2009).BDRip.AC3.XviD-D-Z0N3 chunk 11\n"
     ]
    },
    {
     "name": "stderr",
     "output_type": "stream",
     "text": [
      "Scoring institutional trust (chunked):  88%|▉| 420/478 [4:14:23<33:00, 34.14s/it"
     ]
    },
    {
     "name": "stdout",
     "output_type": "stream",
     "text": [
      "✅ Scored: 2000_Gladiator.EXTENDED.EDITION.2000.BluRay.1080p.DTS.x264.dxva-EuReKA.ENG chunk 1\n",
      "✅ Scored: 2000_Gladiator.EXTENDED.EDITION.2000.BluRay.1080p.DTS.x264.dxva-EuReKA.ENG chunk 2\n",
      "✅ Scored: 2000_Gladiator.EXTENDED.EDITION.2000.BluRay.1080p.DTS.x264.dxva-EuReKA.ENG chunk 3\n",
      "✅ Scored: 2000_Gladiator.EXTENDED.EDITION.2000.BluRay.1080p.DTS.x264.dxva-EuReKA.ENG chunk 4\n",
      "✅ Scored: 2000_Gladiator.EXTENDED.EDITION.2000.BluRay.1080p.DTS.x264.dxva-EuReKA.ENG chunk 5\n",
      "✅ Scored: 2000_Gladiator.EXTENDED.EDITION.2000.BluRay.1080p.DTS.x264.dxva-EuReKA.ENG chunk 6\n",
      "✅ Scored: 2000_Gladiator.EXTENDED.EDITION.2000.BluRay.1080p.DTS.x264.dxva-EuReKA.ENG chunk 7\n",
      "✅ Scored: 2000_Gladiator.EXTENDED.EDITION.2000.BluRay.1080p.DTS.x264.dxva-EuReKA.ENG chunk 8\n",
      "✅ Scored: 2000_Gladiator.EXTENDED.EDITION.2000.BluRay.1080p.DTS.x264.dxva-EuReKA.ENG chunk 9\n"
     ]
    },
    {
     "name": "stderr",
     "output_type": "stream",
     "text": [
      "Scoring institutional trust (chunked):  88%|▉| 421/478 [4:14:53<31:23, 33.05s/it"
     ]
    },
    {
     "name": "stdout",
     "output_type": "stream",
     "text": [
      "✅ Scored: 1999_Walt Disney Tarzan(1999) XviD avi DVDrip chunk 1\n",
      "✅ Scored: 1999_Walt Disney Tarzan(1999) XviD avi DVDrip chunk 2\n",
      "✅ Scored: 1999_Walt Disney Tarzan(1999) XviD avi DVDrip chunk 3\n",
      "✅ Scored: 1999_Walt Disney Tarzan(1999) XviD avi DVDrip chunk 4\n",
      "✅ Scored: 1999_Walt Disney Tarzan(1999) XviD avi DVDrip chunk 5\n",
      "✅ Scored: 1999_Walt Disney Tarzan(1999) XviD avi DVDrip chunk 6\n"
     ]
    },
    {
     "name": "stderr",
     "output_type": "stream",
     "text": [
      "Scoring institutional trust (chunked):  88%|▉| 422/478 [4:15:13<27:11, 29.13s/it"
     ]
    },
    {
     "name": "stdout",
     "output_type": "stream",
     "text": [
      "✅ Scored: 1997_Men.In.Black.1997.1080p.Blu-ray.AVC.DTS-HD.MA.5.1-CHDBits.english chunk 1\n",
      "✅ Scored: 1997_Men.In.Black.1997.1080p.Blu-ray.AVC.DTS-HD.MA.5.1-CHDBits.english chunk 2\n",
      "✅ Scored: 1997_Men.In.Black.1997.1080p.Blu-ray.AVC.DTS-HD.MA.5.1-CHDBits.english chunk 3\n",
      "✅ Scored: 1997_Men.In.Black.1997.1080p.Blu-ray.AVC.DTS-HD.MA.5.1-CHDBits.english chunk 4\n",
      "✅ Scored: 1997_Men.In.Black.1997.1080p.Blu-ray.AVC.DTS-HD.MA.5.1-CHDBits.english chunk 5\n",
      "✅ Scored: 1997_Men.In.Black.1997.1080p.Blu-ray.AVC.DTS-HD.MA.5.1-CHDBits.english chunk 6\n",
      "✅ Scored: 1997_Men.In.Black.1997.1080p.Blu-ray.AVC.DTS-HD.MA.5.1-CHDBits.english chunk 7\n",
      "✅ Scored: 1997_Men.In.Black.1997.1080p.Blu-ray.AVC.DTS-HD.MA.5.1-CHDBits.english chunk 8\n",
      "✅ Scored: 1997_Men.In.Black.1997.1080p.Blu-ray.AVC.DTS-HD.MA.5.1-CHDBits.english chunk 9\n"
     ]
    },
    {
     "name": "stderr",
     "output_type": "stream",
     "text": [
      "Scoring institutional trust (chunked):  88%|▉| 423/478 [4:15:44<27:13, 29.70s/it"
     ]
    },
    {
     "name": "stdout",
     "output_type": "stream",
     "text": [
      "✅ Scored: 1982_Arthur.1981.DudleyMoore(Huey) chunk 1\n",
      "✅ Scored: 1982_Arthur.1981.DudleyMoore(Huey) chunk 2\n",
      "✅ Scored: 1982_Arthur.1981.DudleyMoore(Huey) chunk 3\n",
      "✅ Scored: 1982_Arthur.1981.DudleyMoore(Huey) chunk 4\n",
      "✅ Scored: 1982_Arthur.1981.DudleyMoore(Huey) chunk 5\n",
      "✅ Scored: 1982_Arthur.1981.DudleyMoore(Huey) chunk 6\n",
      "✅ Scored: 1982_Arthur.1981.DudleyMoore(Huey) chunk 7\n",
      "✅ Scored: 1982_Arthur.1981.DudleyMoore(Huey) chunk 8\n",
      "✅ Scored: 1982_Arthur.1981.DudleyMoore(Huey) chunk 9\n"
     ]
    },
    {
     "name": "stderr",
     "output_type": "stream",
     "text": [
      "Scoring institutional trust (chunked):  89%|▉| 424/478 [4:16:14<26:45, 29.73s/it"
     ]
    },
    {
     "name": "stdout",
     "output_type": "stream",
     "text": [
      "✅ Scored: 2007_POTC 3 - At Worlds End (2007) 720p BluRay AC3 x264 - AdiT.english chunk 1\n",
      "✅ Scored: 2007_POTC 3 - At Worlds End (2007) 720p BluRay AC3 x264 - AdiT.english chunk 2\n",
      "✅ Scored: 2007_POTC 3 - At Worlds End (2007) 720p BluRay AC3 x264 - AdiT.english chunk 3\n",
      "✅ Scored: 2007_POTC 3 - At Worlds End (2007) 720p BluRay AC3 x264 - AdiT.english chunk 4\n",
      "✅ Scored: 2007_POTC 3 - At Worlds End (2007) 720p BluRay AC3 x264 - AdiT.english chunk 5\n",
      "✅ Scored: 2007_POTC 3 - At Worlds End (2007) 720p BluRay AC3 x264 - AdiT.english chunk 6\n",
      "✅ Scored: 2007_POTC 3 - At Worlds End (2007) 720p BluRay AC3 x264 - AdiT.english chunk 7\n",
      "✅ Scored: 2007_POTC 3 - At Worlds End (2007) 720p BluRay AC3 x264 - AdiT.english chunk 8\n",
      "✅ Scored: 2007_POTC 3 - At Worlds End (2007) 720p BluRay AC3 x264 - AdiT.english chunk 9\n",
      "✅ Scored: 2007_POTC 3 - At Worlds End (2007) 720p BluRay AC3 x264 - AdiT.english chunk 10\n",
      "✅ Scored: 2007_POTC 3 - At Worlds End (2007) 720p BluRay AC3 x264 - AdiT.english chunk 11\n"
     ]
    },
    {
     "name": "stderr",
     "output_type": "stream",
     "text": [
      "Scoring institutional trust (chunked):  89%|▉| 425/478 [4:16:53<28:38, 32.43s/it"
     ]
    },
    {
     "name": "stdout",
     "output_type": "stream",
     "text": [
      "✅ Scored: 2021_Eternals.2021.1080p.WEB-DL.DDP5.1.H.264-EVO.v2 chunk 1\n",
      "✅ Scored: 2021_Eternals.2021.1080p.WEB-DL.DDP5.1.H.264-EVO.v2 chunk 2\n",
      "✅ Scored: 2021_Eternals.2021.1080p.WEB-DL.DDP5.1.H.264-EVO.v2 chunk 3\n",
      "✅ Scored: 2021_Eternals.2021.1080p.WEB-DL.DDP5.1.H.264-EVO.v2 chunk 4\n",
      "✅ Scored: 2021_Eternals.2021.1080p.WEB-DL.DDP5.1.H.264-EVO.v2 chunk 5\n",
      "✅ Scored: 2021_Eternals.2021.1080p.WEB-DL.DDP5.1.H.264-EVO.v2 chunk 6\n",
      "✅ Scored: 2021_Eternals.2021.1080p.WEB-DL.DDP5.1.H.264-EVO.v2 chunk 7\n",
      "✅ Scored: 2021_Eternals.2021.1080p.WEB-DL.DDP5.1.H.264-EVO.v2 chunk 8\n",
      "✅ Scored: 2021_Eternals.2021.1080p.WEB-DL.DDP5.1.H.264-EVO.v2 chunk 9\n",
      "✅ Scored: 2021_Eternals.2021.1080p.WEB-DL.DDP5.1.H.264-EVO.v2 chunk 10\n"
     ]
    },
    {
     "name": "stderr",
     "output_type": "stream",
     "text": [
      "Scoring institutional trust (chunked):  89%|▉| 426/478 [4:17:29<29:00, 33.46s/it"
     ]
    },
    {
     "name": "stdout",
     "output_type": "stream",
     "text": [
      "✅ Scored: 2019_The.Lion.King.2019.BDRip.XviD.AC3-EVO chunk 1\n",
      "✅ Scored: 2019_The.Lion.King.2019.BDRip.XviD.AC3-EVO chunk 2\n",
      "✅ Scored: 2019_The.Lion.King.2019.BDRip.XviD.AC3-EVO chunk 3\n",
      "✅ Scored: 2019_The.Lion.King.2019.BDRip.XviD.AC3-EVO chunk 4\n",
      "✅ Scored: 2019_The.Lion.King.2019.BDRip.XviD.AC3-EVO chunk 5\n",
      "✅ Scored: 2019_The.Lion.King.2019.BDRip.XviD.AC3-EVO chunk 6\n",
      "✅ Scored: 2019_The.Lion.King.2019.BDRip.XviD.AC3-EVO chunk 7\n",
      "✅ Scored: 2019_The.Lion.King.2019.BDRip.XviD.AC3-EVO chunk 8\n",
      "✅ Scored: 2019_The.Lion.King.2019.BDRip.XviD.AC3-EVO chunk 9\n"
     ]
    },
    {
     "name": "stderr",
     "output_type": "stream",
     "text": [
      "Scoring institutional trust (chunked):  89%|▉| 427/478 [4:17:59<27:40, 32.55s/it"
     ]
    },
    {
     "name": "stdout",
     "output_type": "stream",
     "text": [
      "✅ Scored: 1983_Flashdance.[Flashdance].1983.DVDRip.XviD.telumethar.eDonkers.cd1.ENG chunk 1\n",
      "✅ Scored: 1983_Flashdance.[Flashdance].1983.DVDRip.XviD.telumethar.eDonkers.cd1.ENG chunk 2\n",
      "✅ Scored: 1983_Flashdance.[Flashdance].1983.DVDRip.XviD.telumethar.eDonkers.cd1.ENG chunk 3\n",
      "✅ Scored: 1983_Flashdance.[Flashdance].1983.DVDRip.XviD.telumethar.eDonkers.cd1.ENG chunk 4\n"
     ]
    },
    {
     "name": "stderr",
     "output_type": "stream",
     "text": [
      "Scoring institutional trust (chunked):  90%|▉| 428/478 [4:18:13<22:22, 26.86s/it"
     ]
    },
    {
     "name": "stdout",
     "output_type": "stream",
     "text": [
      "✅ Scored: 2019_Captain Marvel (2019).[720p HQ DVDScr - HQ Line Audios - [Hindi + Eng] - x264 - 950MB] chunk 1\n",
      "✅ Scored: 2019_Captain Marvel (2019).[720p HQ DVDScr - HQ Line Audios - [Hindi + Eng] - x264 - 950MB] chunk 2\n",
      "✅ Scored: 2019_Captain Marvel (2019).[720p HQ DVDScr - HQ Line Audios - [Hindi + Eng] - x264 - 950MB] chunk 3\n",
      "✅ Scored: 2019_Captain Marvel (2019).[720p HQ DVDScr - HQ Line Audios - [Hindi + Eng] - x264 - 950MB] chunk 4\n",
      "✅ Scored: 2019_Captain Marvel (2019).[720p HQ DVDScr - HQ Line Audios - [Hindi + Eng] - x264 - 950MB] chunk 5\n",
      "✅ Scored: 2019_Captain Marvel (2019).[720p HQ DVDScr - HQ Line Audios - [Hindi + Eng] - x264 - 950MB] chunk 6\n",
      "✅ Scored: 2019_Captain Marvel (2019).[720p HQ DVDScr - HQ Line Audios - [Hindi + Eng] - x264 - 950MB] chunk 7\n",
      "✅ Scored: 2019_Captain Marvel (2019).[720p HQ DVDScr - HQ Line Audios - [Hindi + Eng] - x264 - 950MB] chunk 8\n",
      "✅ Scored: 2019_Captain Marvel (2019).[720p HQ DVDScr - HQ Line Audios - [Hindi + Eng] - x264 - 950MB] chunk 9\n"
     ]
    },
    {
     "name": "stderr",
     "output_type": "stream",
     "text": [
      "Scoring institutional trust (chunked):  90%|▉| 429/478 [4:18:42<22:40, 27.76s/it"
     ]
    },
    {
     "name": "stdout",
     "output_type": "stream",
     "text": [
      "✅ Scored: 1979_Alien.1979.Directors.Cut.720p.BluRay.x264.DTS-WiKi.EN chunk 1\n",
      "✅ Scored: 1979_Alien.1979.Directors.Cut.720p.BluRay.x264.DTS-WiKi.EN chunk 2\n",
      "✅ Scored: 1979_Alien.1979.Directors.Cut.720p.BluRay.x264.DTS-WiKi.EN chunk 3\n",
      "✅ Scored: 1979_Alien.1979.Directors.Cut.720p.BluRay.x264.DTS-WiKi.EN chunk 4\n",
      "✅ Scored: 1979_Alien.1979.Directors.Cut.720p.BluRay.x264.DTS-WiKi.EN chunk 5\n",
      "✅ Scored: 1979_Alien.1979.Directors.Cut.720p.BluRay.x264.DTS-WiKi.EN chunk 6\n",
      "✅ Scored: 1979_Alien.1979.Directors.Cut.720p.BluRay.x264.DTS-WiKi.EN chunk 7\n",
      "✅ Scored: 1979_Alien.1979.Directors.Cut.720p.BluRay.x264.DTS-WiKi.EN chunk 8\n"
     ]
    },
    {
     "name": "stderr",
     "output_type": "stream",
     "text": [
      "Scoring institutional trust (chunked):  90%|▉| 430/478 [4:19:11<22:28, 28.09s/it"
     ]
    },
    {
     "name": "stdout",
     "output_type": "stream",
     "text": [
      "✅ Scored: 1991_Home.Alone.1990.1080p.BluRay.x264-HD1080.ENG chunk 1\n",
      "✅ Scored: 1991_Home.Alone.1990.1080p.BluRay.x264-HD1080.ENG chunk 2\n",
      "✅ Scored: 1991_Home.Alone.1990.1080p.BluRay.x264-HD1080.ENG chunk 3\n",
      "✅ Scored: 1991_Home.Alone.1990.1080p.BluRay.x264-HD1080.ENG chunk 4\n",
      "✅ Scored: 1991_Home.Alone.1990.1080p.BluRay.x264-HD1080.ENG chunk 5\n",
      "✅ Scored: 1991_Home.Alone.1990.1080p.BluRay.x264-HD1080.ENG chunk 6\n",
      "✅ Scored: 1991_Home.Alone.1990.1080p.BluRay.x264-HD1080.ENG chunk 7\n",
      "✅ Scored: 1991_Home.Alone.1990.1080p.BluRay.x264-HD1080.ENG chunk 8\n"
     ]
    },
    {
     "name": "stderr",
     "output_type": "stream",
     "text": [
      "Scoring institutional trust (chunked):  90%|▉| 431/478 [4:19:38<21:42, 27.70s/it"
     ]
    },
    {
     "name": "stdout",
     "output_type": "stream",
     "text": [
      "✅ Scored: 1988_Big.1988.Extended.Edition.720p.BluRay.x264.YIFY.eng chunk 1\n",
      "✅ Scored: 1988_Big.1988.Extended.Edition.720p.BluRay.x264.YIFY.eng chunk 2\n",
      "✅ Scored: 1988_Big.1988.Extended.Edition.720p.BluRay.x264.YIFY.eng chunk 3\n",
      "✅ Scored: 1988_Big.1988.Extended.Edition.720p.BluRay.x264.YIFY.eng chunk 4\n",
      "✅ Scored: 1988_Big.1988.Extended.Edition.720p.BluRay.x264.YIFY.eng chunk 5\n",
      "✅ Scored: 1988_Big.1988.Extended.Edition.720p.BluRay.x264.YIFY.eng chunk 6\n",
      "✅ Scored: 1988_Big.1988.Extended.Edition.720p.BluRay.x264.YIFY.eng chunk 7\n",
      "✅ Scored: 1988_Big.1988.Extended.Edition.720p.BluRay.x264.YIFY.eng chunk 8\n",
      "✅ Scored: 1988_Big.1988.Extended.Edition.720p.BluRay.x264.YIFY.eng chunk 9\n",
      "✅ Scored: 1988_Big.1988.Extended.Edition.720p.BluRay.x264.YIFY.eng chunk 10\n",
      "✅ Scored: 1988_Big.1988.Extended.Edition.720p.BluRay.x264.YIFY.eng chunk 11\n",
      "✅ Scored: 1988_Big.1988.Extended.Edition.720p.BluRay.x264.YIFY.eng chunk 12\n",
      "✅ Scored: 1988_Big.1988.Extended.Edition.720p.BluRay.x264.YIFY.eng chunk 13\n"
     ]
    },
    {
     "name": "stderr",
     "output_type": "stream",
     "text": [
      "Scoring institutional trust (chunked):  90%|▉| 432/478 [4:20:21<24:43, 32.26s/it"
     ]
    },
    {
     "name": "stdout",
     "output_type": "stream",
     "text": [
      "✅ Scored: 1986_Aliens.1986.Special.Edition.720p.BluRay.x264.DTS-WiKi.EN chunk 1\n",
      "✅ Scored: 1986_Aliens.1986.Special.Edition.720p.BluRay.x264.DTS-WiKi.EN chunk 2\n",
      "✅ Scored: 1986_Aliens.1986.Special.Edition.720p.BluRay.x264.DTS-WiKi.EN chunk 3\n",
      "✅ Scored: 1986_Aliens.1986.Special.Edition.720p.BluRay.x264.DTS-WiKi.EN chunk 4\n",
      "✅ Scored: 1986_Aliens.1986.Special.Edition.720p.BluRay.x264.DTS-WiKi.EN chunk 5\n",
      "✅ Scored: 1986_Aliens.1986.Special.Edition.720p.BluRay.x264.DTS-WiKi.EN chunk 6\n",
      "✅ Scored: 1986_Aliens.1986.Special.Edition.720p.BluRay.x264.DTS-WiKi.EN chunk 7\n",
      "✅ Scored: 1986_Aliens.1986.Special.Edition.720p.BluRay.x264.DTS-WiKi.EN chunk 8\n",
      "✅ Scored: 1986_Aliens.1986.Special.Edition.720p.BluRay.x264.DTS-WiKi.EN chunk 9\n",
      "✅ Scored: 1986_Aliens.1986.Special.Edition.720p.BluRay.x264.DTS-WiKi.EN chunk 10\n",
      "✅ Scored: 1986_Aliens.1986.Special.Edition.720p.BluRay.x264.DTS-WiKi.EN chunk 11\n",
      "✅ Scored: 1986_Aliens.1986.Special.Edition.720p.BluRay.x264.DTS-WiKi.EN chunk 12\n"
     ]
    },
    {
     "name": "stderr",
     "output_type": "stream",
     "text": [
      "Scoring institutional trust (chunked):  91%|▉| 433/478 [4:21:05<26:52, 35.83s/it"
     ]
    },
    {
     "name": "stdout",
     "output_type": "stream",
     "text": [
      "✅ Scored: 2012_TED 2012 TS XViD - INSPiRAL chunk 1\n",
      "✅ Scored: 2012_TED 2012 TS XViD - INSPiRAL chunk 2\n",
      "✅ Scored: 2012_TED 2012 TS XViD - INSPiRAL chunk 3\n",
      "✅ Scored: 2012_TED 2012 TS XViD - INSPiRAL chunk 4\n",
      "✅ Scored: 2012_TED 2012 TS XViD - INSPiRAL chunk 5\n",
      "✅ Scored: 2012_TED 2012 TS XViD - INSPiRAL chunk 6\n",
      "✅ Scored: 2012_TED 2012 TS XViD - INSPiRAL chunk 7\n",
      "✅ Scored: 2012_TED 2012 TS XViD - INSPiRAL chunk 8\n",
      "✅ Scored: 2012_TED 2012 TS XViD - INSPiRAL chunk 9\n",
      "✅ Scored: 2012_TED 2012 TS XViD - INSPiRAL chunk 10\n",
      "✅ Scored: 2012_TED 2012 TS XViD - INSPiRAL chunk 11\n",
      "✅ Scored: 2012_TED 2012 TS XViD - INSPiRAL chunk 12\n"
     ]
    },
    {
     "name": "stderr",
     "output_type": "stream",
     "text": [
      "Scoring institutional trust (chunked):  91%|▉| 434/478 [4:21:47<27:35, 37.62s/it"
     ]
    },
    {
     "name": "stdout",
     "output_type": "stream",
     "text": [
      "✅ Scored: 2009_Up.2009.480p.BRRip.XviD.AC3-ViSiON chunk 1\n",
      "✅ Scored: 2009_Up.2009.480p.BRRip.XviD.AC3-ViSiON chunk 2\n",
      "✅ Scored: 2009_Up.2009.480p.BRRip.XviD.AC3-ViSiON chunk 3\n",
      "✅ Scored: 2009_Up.2009.480p.BRRip.XviD.AC3-ViSiON chunk 4\n",
      "✅ Scored: 2009_Up.2009.480p.BRRip.XviD.AC3-ViSiON chunk 5\n",
      "✅ Scored: 2009_Up.2009.480p.BRRip.XviD.AC3-ViSiON chunk 6\n",
      "✅ Scored: 2009_Up.2009.480p.BRRip.XviD.AC3-ViSiON chunk 7\n"
     ]
    },
    {
     "name": "stderr",
     "output_type": "stream",
     "text": [
      "Scoring institutional trust (chunked):  91%|▉| 435/478 [4:22:11<24:06, 33.63s/it"
     ]
    },
    {
     "name": "stdout",
     "output_type": "stream",
     "text": [
      "✅ Scored: 2009_Ice.Age.3 .R5.LINE.XviD-COALiTiON (Edited) chunk 1\n",
      "✅ Scored: 2009_Ice.Age.3 .R5.LINE.XviD-COALiTiON (Edited) chunk 2\n",
      "✅ Scored: 2009_Ice.Age.3 .R5.LINE.XviD-COALiTiON (Edited) chunk 3\n",
      "✅ Scored: 2009_Ice.Age.3 .R5.LINE.XviD-COALiTiON (Edited) chunk 4\n",
      "✅ Scored: 2009_Ice.Age.3 .R5.LINE.XviD-COALiTiON (Edited) chunk 5\n",
      "✅ Scored: 2009_Ice.Age.3 .R5.LINE.XviD-COALiTiON (Edited) chunk 6\n"
     ]
    },
    {
     "name": "stderr",
     "output_type": "stream",
     "text": [
      "Scoring institutional trust (chunked):  91%|▉| 436/478 [4:22:31<20:43, 29.61s/it"
     ]
    },
    {
     "name": "stdout",
     "output_type": "stream",
     "text": [
      "✅ Scored: 1992_ARG-LETHAL_WEAPON_3___1992__PALDVDRIP__XVID_MP3_ENG__A_RG chunk 1\n",
      "✅ Scored: 1992_ARG-LETHAL_WEAPON_3___1992__PALDVDRIP__XVID_MP3_ENG__A_RG chunk 2\n",
      "✅ Scored: 1992_ARG-LETHAL_WEAPON_3___1992__PALDVDRIP__XVID_MP3_ENG__A_RG chunk 3\n",
      "✅ Scored: 1992_ARG-LETHAL_WEAPON_3___1992__PALDVDRIP__XVID_MP3_ENG__A_RG chunk 4\n",
      "✅ Scored: 1992_ARG-LETHAL_WEAPON_3___1992__PALDVDRIP__XVID_MP3_ENG__A_RG chunk 5\n",
      "✅ Scored: 1992_ARG-LETHAL_WEAPON_3___1992__PALDVDRIP__XVID_MP3_ENG__A_RG chunk 6\n",
      "✅ Scored: 1992_ARG-LETHAL_WEAPON_3___1992__PALDVDRIP__XVID_MP3_ENG__A_RG chunk 7\n",
      "✅ Scored: 1992_ARG-LETHAL_WEAPON_3___1992__PALDVDRIP__XVID_MP3_ENG__A_RG chunk 8\n",
      "✅ Scored: 1992_ARG-LETHAL_WEAPON_3___1992__PALDVDRIP__XVID_MP3_ENG__A_RG chunk 9\n",
      "✅ Scored: 1992_ARG-LETHAL_WEAPON_3___1992__PALDVDRIP__XVID_MP3_ENG__A_RG chunk 10\n",
      "✅ Scored: 1992_ARG-LETHAL_WEAPON_3___1992__PALDVDRIP__XVID_MP3_ENG__A_RG chunk 11\n",
      "✅ Scored: 1992_ARG-LETHAL_WEAPON_3___1992__PALDVDRIP__XVID_MP3_ENG__A_RG chunk 12\n",
      "✅ Scored: 1992_ARG-LETHAL_WEAPON_3___1992__PALDVDRIP__XVID_MP3_ENG__A_RG chunk 13\n"
     ]
    },
    {
     "name": "stderr",
     "output_type": "stream",
     "text": [
      "Scoring institutional trust (chunked):  91%|▉| 437/478 [4:23:17<23:26, 34.31s/it"
     ]
    },
    {
     "name": "stdout",
     "output_type": "stream",
     "text": [
      "✅ Scored: 2010_Avatar.(2009).BDRip.AC3.XviD-D-Z0N3 chunk 1\n",
      "✅ Scored: 2010_Avatar.(2009).BDRip.AC3.XviD-D-Z0N3 chunk 2\n",
      "✅ Scored: 2010_Avatar.(2009).BDRip.AC3.XviD-D-Z0N3 chunk 3\n",
      "✅ Scored: 2010_Avatar.(2009).BDRip.AC3.XviD-D-Z0N3 chunk 4\n",
      "✅ Scored: 2010_Avatar.(2009).BDRip.AC3.XviD-D-Z0N3 chunk 5\n",
      "✅ Scored: 2010_Avatar.(2009).BDRip.AC3.XviD-D-Z0N3 chunk 6\n",
      "✅ Scored: 2010_Avatar.(2009).BDRip.AC3.XviD-D-Z0N3 chunk 7\n",
      "✅ Scored: 2010_Avatar.(2009).BDRip.AC3.XviD-D-Z0N3 chunk 8\n",
      "✅ Scored: 2010_Avatar.(2009).BDRip.AC3.XviD-D-Z0N3 chunk 9\n",
      "✅ Scored: 2010_Avatar.(2009).BDRip.AC3.XviD-D-Z0N3 chunk 10\n",
      "✅ Scored: 2010_Avatar.(2009).BDRip.AC3.XviD-D-Z0N3 chunk 11\n"
     ]
    },
    {
     "name": "stderr",
     "output_type": "stream",
     "text": [
      "Scoring institutional trust (chunked):  92%|▉| 438/478 [4:23:52<23:07, 34.69s/it"
     ]
    },
    {
     "name": "stdout",
     "output_type": "stream",
     "text": [
      "✅ Scored: 2019_Aladdin.2019.720p.WEB-DL.x264.AAC-BonsaiHD chunk 1\n",
      "✅ Scored: 2019_Aladdin.2019.720p.WEB-DL.x264.AAC-BonsaiHD chunk 2\n",
      "✅ Scored: 2019_Aladdin.2019.720p.WEB-DL.x264.AAC-BonsaiHD chunk 3\n",
      "✅ Scored: 2019_Aladdin.2019.720p.WEB-DL.x264.AAC-BonsaiHD chunk 4\n",
      "✅ Scored: 2019_Aladdin.2019.720p.WEB-DL.x264.AAC-BonsaiHD chunk 5\n",
      "✅ Scored: 2019_Aladdin.2019.720p.WEB-DL.x264.AAC-BonsaiHD chunk 6\n",
      "✅ Scored: 2019_Aladdin.2019.720p.WEB-DL.x264.AAC-BonsaiHD chunk 7\n",
      "✅ Scored: 2019_Aladdin.2019.720p.WEB-DL.x264.AAC-BonsaiHD chunk 8\n",
      "✅ Scored: 2019_Aladdin.2019.720p.WEB-DL.x264.AAC-BonsaiHD chunk 9\n",
      "✅ Scored: 2019_Aladdin.2019.720p.WEB-DL.x264.AAC-BonsaiHD chunk 10\n",
      "✅ Scored: 2019_Aladdin.2019.720p.WEB-DL.x264.AAC-BonsaiHD chunk 11\n",
      "✅ Scored: 2019_Aladdin.2019.720p.WEB-DL.x264.AAC-BonsaiHD chunk 12\n",
      "✅ Scored: 2019_Aladdin.2019.720p.WEB-DL.x264.AAC-BonsaiHD chunk 13\n",
      "✅ Scored: 2019_Aladdin.2019.720p.WEB-DL.x264.AAC-BonsaiHD chunk 14\n"
     ]
    },
    {
     "name": "stderr",
     "output_type": "stream",
     "text": [
      "Scoring institutional trust (chunked):  92%|▉| 439/478 [4:24:40<25:02, 38.52s/it"
     ]
    },
    {
     "name": "stdout",
     "output_type": "stream",
     "text": [
      "⚠️ Missing files for 1995_James.Bond.017-GoldenEye.UE.1995.Xvid.AC3.Subs.EN-ShitBusters. Skipping.\n",
      "⚠️ Missing files for 1980_SMOKEY AND THE BANDIT 2 (1980) 720p HDTV {solstars}-eng. Skipping.\n",
      "✅ Scored: 2003_Elf.2003.BDRE.720p.x264.AC3-SiLUHD.ENG chunk 1\n",
      "✅ Scored: 2003_Elf.2003.BDRE.720p.x264.AC3-SiLUHD.ENG chunk 2\n",
      "✅ Scored: 2003_Elf.2003.BDRE.720p.x264.AC3-SiLUHD.ENG chunk 3\n",
      "✅ Scored: 2003_Elf.2003.BDRE.720p.x264.AC3-SiLUHD.ENG chunk 4\n",
      "✅ Scored: 2003_Elf.2003.BDRE.720p.x264.AC3-SiLUHD.ENG chunk 5\n",
      "✅ Scored: 2003_Elf.2003.BDRE.720p.x264.AC3-SiLUHD.ENG chunk 6\n",
      "✅ Scored: 2003_Elf.2003.BDRE.720p.x264.AC3-SiLUHD.ENG chunk 7\n",
      "✅ Scored: 2003_Elf.2003.BDRE.720p.x264.AC3-SiLUHD.ENG chunk 8\n",
      "✅ Scored: 2003_Elf.2003.BDRE.720p.x264.AC3-SiLUHD.ENG chunk 9\n",
      "✅ Scored: 2003_Elf.2003.BDRE.720p.x264.AC3-SiLUHD.ENG chunk 10\n",
      "✅ Scored: 2003_Elf.2003.BDRE.720p.x264.AC3-SiLUHD.ENG chunk 11\n"
     ]
    },
    {
     "name": "stderr",
     "output_type": "stream",
     "text": [
      "Scoring institutional trust (chunked):  92%|▉| 442/478 [4:25:15<14:07, 23.54s/it"
     ]
    },
    {
     "name": "stdout",
     "output_type": "stream",
     "text": [
      "✅ Scored: 1985_Beverly. Hills. Cop. 1984. 720p. BluRay. x264. DTS-WiKi. eng chunk 1\n",
      "✅ Scored: 1985_Beverly. Hills. Cop. 1984. 720p. BluRay. x264. DTS-WiKi. eng chunk 2\n",
      "✅ Scored: 1985_Beverly. Hills. Cop. 1984. 720p. BluRay. x264. DTS-WiKi. eng chunk 3\n",
      "✅ Scored: 1985_Beverly. Hills. Cop. 1984. 720p. BluRay. x264. DTS-WiKi. eng chunk 4\n",
      "✅ Scored: 1985_Beverly. Hills. Cop. 1984. 720p. BluRay. x264. DTS-WiKi. eng chunk 5\n",
      "✅ Scored: 1985_Beverly. Hills. Cop. 1984. 720p. BluRay. x264. DTS-WiKi. eng chunk 6\n",
      "✅ Scored: 1985_Beverly. Hills. Cop. 1984. 720p. BluRay. x264. DTS-WiKi. eng chunk 7\n",
      "✅ Scored: 1985_Beverly. Hills. Cop. 1984. 720p. BluRay. x264. DTS-WiKi. eng chunk 8\n",
      "✅ Scored: 1985_Beverly. Hills. Cop. 1984. 720p. BluRay. x264. DTS-WiKi. eng chunk 9\n",
      "✅ Scored: 1985_Beverly. Hills. Cop. 1984. 720p. BluRay. x264. DTS-WiKi. eng chunk 10\n"
     ]
    },
    {
     "name": "stderr",
     "output_type": "stream",
     "text": [
      "Scoring institutional trust (chunked):  93%|▉| 443/478 [4:25:49<14:56, 25.61s/it"
     ]
    },
    {
     "name": "stdout",
     "output_type": "stream",
     "text": [
      "✅ Scored: 2008_Wall-E[2008]DvDrip-aXXo.en chunk 1\n",
      "✅ Scored: 2008_Wall-E[2008]DvDrip-aXXo.en chunk 2\n",
      "✅ Scored: 2008_Wall-E[2008]DvDrip-aXXo.en chunk 3\n",
      "✅ Scored: 2008_Wall-E[2008]DvDrip-aXXo.en chunk 4\n",
      "✅ Scored: 2008_Wall-E[2008]DvDrip-aXXo.en chunk 5\n"
     ]
    },
    {
     "name": "stderr",
     "output_type": "stream",
     "text": [
      "Scoring institutional trust (chunked):  93%|▉| 444/478 [4:26:06<13:23, 23.62s/it"
     ]
    },
    {
     "name": "stdout",
     "output_type": "stream",
     "text": [
      "✅ Scored: 1992_A LEAGUE OF THEIR OWN [1992][MP3][DVDRIP-M333]-FLAWL3SS chunk 1\n",
      "✅ Scored: 1992_A LEAGUE OF THEIR OWN [1992][MP3][DVDRIP-M333]-FLAWL3SS chunk 2\n",
      "✅ Scored: 1992_A LEAGUE OF THEIR OWN [1992][MP3][DVDRIP-M333]-FLAWL3SS chunk 3\n",
      "✅ Scored: 1992_A LEAGUE OF THEIR OWN [1992][MP3][DVDRIP-M333]-FLAWL3SS chunk 4\n",
      "✅ Scored: 1992_A LEAGUE OF THEIR OWN [1992][MP3][DVDRIP-M333]-FLAWL3SS chunk 5\n",
      "✅ Scored: 1992_A LEAGUE OF THEIR OWN [1992][MP3][DVDRIP-M333]-FLAWL3SS chunk 6\n",
      "⚠️ Rate limit hit. Waiting 60 seconds...\n",
      "✅ Scored: 1992_A LEAGUE OF THEIR OWN [1992][MP3][DVDRIP-M333]-FLAWL3SS chunk 7\n",
      "✅ Scored: 1992_A LEAGUE OF THEIR OWN [1992][MP3][DVDRIP-M333]-FLAWL3SS chunk 8\n",
      "✅ Scored: 1992_A LEAGUE OF THEIR OWN [1992][MP3][DVDRIP-M333]-FLAWL3SS chunk 9\n",
      "✅ Scored: 1992_A LEAGUE OF THEIR OWN [1992][MP3][DVDRIP-M333]-FLAWL3SS chunk 10\n",
      "✅ Scored: 1992_A LEAGUE OF THEIR OWN [1992][MP3][DVDRIP-M333]-FLAWL3SS chunk 11\n"
     ]
    },
    {
     "name": "stderr",
     "output_type": "stream",
     "text": [
      "Scoring institutional trust (chunked):  93%|▉| 445/478 [4:27:45<23:16, 42.31s/it"
     ]
    },
    {
     "name": "stdout",
     "output_type": "stream",
     "text": [
      "✅ Scored: 2000_X-Men ;[2000];[1080p];[Shadowl0rd].ENG chunk 1\n",
      "✅ Scored: 2000_X-Men ;[2000];[1080p];[Shadowl0rd].ENG chunk 2\n",
      "✅ Scored: 2000_X-Men ;[2000];[1080p];[Shadowl0rd].ENG chunk 3\n",
      "✅ Scored: 2000_X-Men ;[2000];[1080p];[Shadowl0rd].ENG chunk 4\n",
      "✅ Scored: 2000_X-Men ;[2000];[1080p];[Shadowl0rd].ENG chunk 5\n",
      "✅ Scored: 2000_X-Men ;[2000];[1080p];[Shadowl0rd].ENG chunk 6\n"
     ]
    },
    {
     "name": "stderr",
     "output_type": "stream",
     "text": [
      "Scoring institutional trust (chunked):  93%|▉| 446/478 [4:28:04<19:23, 36.36s/it"
     ]
    },
    {
     "name": "stdout",
     "output_type": "stream",
     "text": [
      "✅ Scored: 1989_ARG-LETHAL_WEAPON_2_1989__PALDVDRIP__XVID_MP3_ENG__A_RG chunk 1\n",
      "✅ Scored: 1989_ARG-LETHAL_WEAPON_2_1989__PALDVDRIP__XVID_MP3_ENG__A_RG chunk 2\n",
      "✅ Scored: 1989_ARG-LETHAL_WEAPON_2_1989__PALDVDRIP__XVID_MP3_ENG__A_RG chunk 3\n",
      "✅ Scored: 1989_ARG-LETHAL_WEAPON_2_1989__PALDVDRIP__XVID_MP3_ENG__A_RG chunk 4\n",
      "✅ Scored: 1989_ARG-LETHAL_WEAPON_2_1989__PALDVDRIP__XVID_MP3_ENG__A_RG chunk 5\n",
      "✅ Scored: 1989_ARG-LETHAL_WEAPON_2_1989__PALDVDRIP__XVID_MP3_ENG__A_RG chunk 6\n",
      "✅ Scored: 1989_ARG-LETHAL_WEAPON_2_1989__PALDVDRIP__XVID_MP3_ENG__A_RG chunk 7\n",
      "✅ Scored: 1989_ARG-LETHAL_WEAPON_2_1989__PALDVDRIP__XVID_MP3_ENG__A_RG chunk 8\n",
      "✅ Scored: 1989_ARG-LETHAL_WEAPON_2_1989__PALDVDRIP__XVID_MP3_ENG__A_RG chunk 9\n",
      "✅ Scored: 1989_ARG-LETHAL_WEAPON_2_1989__PALDVDRIP__XVID_MP3_ENG__A_RG chunk 10\n"
     ]
    },
    {
     "name": "stderr",
     "output_type": "stream",
     "text": [
      "Scoring institutional trust (chunked):  94%|▉| 447/478 [4:28:38<18:24, 35.62s/it"
     ]
    },
    {
     "name": "stdout",
     "output_type": "stream",
     "text": [
      "✅ Scored: 2012_MSAR. EN2 chunk 1\n",
      "✅ Scored: 2012_MSAR. EN2 chunk 2\n",
      "✅ Scored: 2012_MSAR. EN2 chunk 3\n",
      "✅ Scored: 2012_MSAR. EN2 chunk 4\n",
      "✅ Scored: 2012_MSAR. EN2 chunk 5\n",
      "✅ Scored: 2012_MSAR. EN2 chunk 6\n",
      "✅ Scored: 2012_MSAR. EN2 chunk 7\n",
      "✅ Scored: 2012_MSAR. EN2 chunk 8\n",
      "✅ Scored: 2012_MSAR. EN2 chunk 9\n"
     ]
    },
    {
     "name": "stderr",
     "output_type": "stream",
     "text": [
      "Scoring institutional trust (chunked):  94%|▉| 448/478 [4:29:07<16:57, 33.92s/it"
     ]
    },
    {
     "name": "stdout",
     "output_type": "stream",
     "text": [
      "✅ Scored: 2010_dmd-ts3 chunk 1\n",
      "✅ Scored: 2010_dmd-ts3 chunk 2\n",
      "✅ Scored: 2010_dmd-ts3 chunk 3\n",
      "✅ Scored: 2010_dmd-ts3 chunk 4\n",
      "✅ Scored: 2010_dmd-ts3 chunk 5\n",
      "✅ Scored: 2010_dmd-ts3 chunk 6\n",
      "✅ Scored: 2010_dmd-ts3 chunk 7\n",
      "✅ Scored: 2010_dmd-ts3 chunk 8\n",
      "✅ Scored: 2010_dmd-ts3 chunk 9\n",
      "✅ Scored: 2010_dmd-ts3 chunk 10\n"
     ]
    },
    {
     "name": "stderr",
     "output_type": "stream",
     "text": [
      "Scoring institutional trust (chunked):  94%|▉| 449/478 [4:29:43<16:35, 34.31s/it"
     ]
    },
    {
     "name": "stdout",
     "output_type": "stream",
     "text": [
      "✅ Scored: 2024_A.Quiet.Place.Day.One chunk 1\n",
      "✅ Scored: 2024_A.Quiet.Place.Day.One chunk 2\n"
     ]
    },
    {
     "name": "stderr",
     "output_type": "stream",
     "text": [
      "Scoring institutional trust (chunked):  94%|▉| 450/478 [4:29:50<12:20, 26.44s/it"
     ]
    },
    {
     "name": "stdout",
     "output_type": "stream",
     "text": [
      "✅ Scored: 2024_Bad.Boys.Ride.Or.Die chunk 1\n",
      "✅ Scored: 2024_Bad.Boys.Ride.Or.Die chunk 2\n",
      "✅ Scored: 2024_Bad.Boys.Ride.Or.Die chunk 3\n",
      "✅ Scored: 2024_Bad.Boys.Ride.Or.Die chunk 4\n",
      "✅ Scored: 2024_Bad.Boys.Ride.Or.Die chunk 5\n",
      "✅ Scored: 2024_Bad.Boys.Ride.Or.Die chunk 6\n",
      "✅ Scored: 2024_Bad.Boys.Ride.Or.Die chunk 7\n",
      "✅ Scored: 2024_Bad.Boys.Ride.Or.Die chunk 8\n",
      "✅ Scored: 2024_Bad.Boys.Ride.Or.Die chunk 9\n",
      "✅ Scored: 2024_Bad.Boys.Ride.Or.Die chunk 10\n",
      "✅ Scored: 2024_Bad.Boys.Ride.Or.Die chunk 11\n"
     ]
    },
    {
     "name": "stderr",
     "output_type": "stream",
     "text": [
      "Scoring institutional trust (chunked):  94%|▉| 451/478 [4:30:28<13:28, 29.95s/it"
     ]
    },
    {
     "name": "stdout",
     "output_type": "stream",
     "text": [
      "✅ Scored: 2024_Beetlejuice chunk 1\n",
      "✅ Scored: 2024_Beetlejuice chunk 2\n",
      "✅ Scored: 2024_Beetlejuice chunk 3\n",
      "✅ Scored: 2024_Beetlejuice chunk 4\n",
      "✅ Scored: 2024_Beetlejuice chunk 5\n",
      "✅ Scored: 2024_Beetlejuice chunk 6\n",
      "✅ Scored: 2024_Beetlejuice chunk 7\n",
      "✅ Scored: 2024_Beetlejuice chunk 8\n",
      "✅ Scored: 2024_Beetlejuice chunk 9\n",
      "✅ Scored: 2024_Beetlejuice chunk 10\n"
     ]
    },
    {
     "name": "stderr",
     "output_type": "stream",
     "text": [
      "Scoring institutional trust (chunked):  95%|▉| 452/478 [4:31:05<13:53, 32.05s/it"
     ]
    },
    {
     "name": "stdout",
     "output_type": "stream",
     "text": [
      "✅ Scored: 2024_Deadpool.and.Wolverine chunk 1\n",
      "✅ Scored: 2024_Deadpool.and.Wolverine chunk 2\n",
      "✅ Scored: 2024_Deadpool.and.Wolverine chunk 3\n",
      "✅ Scored: 2024_Deadpool.and.Wolverine chunk 4\n",
      "✅ Scored: 2024_Deadpool.and.Wolverine chunk 5\n",
      "✅ Scored: 2024_Deadpool.and.Wolverine chunk 6\n",
      "✅ Scored: 2024_Deadpool.and.Wolverine chunk 7\n",
      "✅ Scored: 2024_Deadpool.and.Wolverine chunk 8\n",
      "✅ Scored: 2024_Deadpool.and.Wolverine chunk 9\n",
      "✅ Scored: 2024_Deadpool.and.Wolverine chunk 10\n",
      "✅ Scored: 2024_Deadpool.and.Wolverine chunk 11\n",
      "✅ Scored: 2024_Deadpool.and.Wolverine chunk 12\n",
      "✅ Scored: 2024_Deadpool.and.Wolverine chunk 13\n",
      "✅ Scored: 2024_Deadpool.and.Wolverine chunk 14\n",
      "✅ Scored: 2024_Deadpool.and.Wolverine chunk 15\n"
     ]
    },
    {
     "name": "stderr",
     "output_type": "stream",
     "text": [
      "Scoring institutional trust (chunked):  95%|▉| 453/478 [4:31:55<15:34, 37.39s/it"
     ]
    },
    {
     "name": "stdout",
     "output_type": "stream",
     "text": [
      "✅ Scored: 2024_Despicable.Me chunk 1\n",
      "✅ Scored: 2024_Despicable.Me chunk 2\n",
      "✅ Scored: 2024_Despicable.Me chunk 3\n",
      "✅ Scored: 2024_Despicable.Me chunk 4\n",
      "✅ Scored: 2024_Despicable.Me chunk 5\n",
      "✅ Scored: 2024_Despicable.Me chunk 6\n",
      "✅ Scored: 2024_Despicable.Me chunk 7\n",
      "✅ Scored: 2024_Despicable.Me chunk 8\n"
     ]
    },
    {
     "name": "stderr",
     "output_type": "stream",
     "text": [
      "Scoring institutional trust (chunked):  95%|▉| 454/478 [4:32:22<13:42, 34.29s/it"
     ]
    },
    {
     "name": "stdout",
     "output_type": "stream",
     "text": [
      "✅ Scored: 2024_Dune.Part.Two chunk 1\n",
      "✅ Scored: 2024_Dune.Part.Two chunk 2\n"
     ]
    },
    {
     "name": "stderr",
     "output_type": "stream",
     "text": [
      "Scoring institutional trust (chunked):  95%|▉| 455/478 [4:32:29<10:02, 26.19s/it"
     ]
    },
    {
     "name": "stdout",
     "output_type": "stream",
     "text": [
      "✅ Scored: 2024_Ghostbusters.Frozen.Empire chunk 1\n",
      "✅ Scored: 2024_Ghostbusters.Frozen.Empire chunk 2\n",
      "✅ Scored: 2024_Ghostbusters.Frozen.Empire chunk 3\n",
      "✅ Scored: 2024_Ghostbusters.Frozen.Empire chunk 4\n",
      "✅ Scored: 2024_Ghostbusters.Frozen.Empire chunk 5\n",
      "✅ Scored: 2024_Ghostbusters.Frozen.Empire chunk 6\n",
      "✅ Scored: 2024_Ghostbusters.Frozen.Empire chunk 7\n",
      "✅ Scored: 2024_Ghostbusters.Frozen.Empire chunk 8\n",
      "✅ Scored: 2024_Ghostbusters.Frozen.Empire chunk 9\n",
      "✅ Scored: 2024_Ghostbusters.Frozen.Empire chunk 10\n"
     ]
    },
    {
     "name": "stderr",
     "output_type": "stream",
     "text": [
      "Scoring institutional trust (chunked):  95%|▉| 456/478 [4:33:03<10:21, 28.23s/it"
     ]
    },
    {
     "name": "stdout",
     "output_type": "stream",
     "text": [
      "✅ Scored: 2024_Gladiator.II chunk 1\n",
      "✅ Scored: 2024_Gladiator.II chunk 2\n",
      "✅ Scored: 2024_Gladiator.II chunk 3\n",
      "✅ Scored: 2024_Gladiator.II chunk 4\n",
      "✅ Scored: 2024_Gladiator.II chunk 5\n",
      "✅ Scored: 2024_Gladiator.II chunk 6\n",
      "✅ Scored: 2024_Gladiator.II chunk 7\n"
     ]
    },
    {
     "name": "stderr",
     "output_type": "stream",
     "text": [
      "Scoring institutional trust (chunked):  96%|▉| 457/478 [4:33:26<09:24, 26.88s/it"
     ]
    },
    {
     "name": "stdout",
     "output_type": "stream",
     "text": [
      "✅ Scored: 2024_Godzilla.x.Kong.The.New.Empire chunk 1\n",
      "✅ Scored: 2024_Godzilla.x.Kong.The.New.Empire chunk 2\n",
      "✅ Scored: 2024_Godzilla.x.Kong.The.New.Empire chunk 3\n",
      "✅ Scored: 2024_Godzilla.x.Kong.The.New.Empire chunk 4\n",
      "✅ Scored: 2024_Godzilla.x.Kong.The.New.Empire chunk 5\n",
      "✅ Scored: 2024_Godzilla.x.Kong.The.New.Empire chunk 6\n",
      "✅ Scored: 2024_Godzilla.x.Kong.The.New.Empire chunk 7\n"
     ]
    },
    {
     "name": "stderr",
     "output_type": "stream",
     "text": [
      "Scoring institutional trust (chunked):  96%|▉| 458/478 [4:33:51<08:44, 26.24s/it"
     ]
    },
    {
     "name": "stdout",
     "output_type": "stream",
     "text": [
      "✅ Scored: 2024_Inside.Out.2 chunk 1\n",
      "✅ Scored: 2024_Inside.Out.2 chunk 2\n",
      "✅ Scored: 2024_Inside.Out.2 chunk 3\n",
      "✅ Scored: 2024_Inside.Out.2 chunk 4\n",
      "✅ Scored: 2024_Inside.Out.2 chunk 5\n",
      "✅ Scored: 2024_Inside.Out.2 chunk 6\n",
      "✅ Scored: 2024_Inside.Out.2 chunk 7\n",
      "✅ Scored: 2024_Inside.Out.2 chunk 8\n",
      "✅ Scored: 2024_Inside.Out.2 chunk 9\n",
      "✅ Scored: 2024_Inside.Out.2 chunk 10\n",
      "✅ Scored: 2024_Inside.Out.2 chunk 11\n",
      "✅ Scored: 2024_Inside.Out.2 chunk 12\n"
     ]
    },
    {
     "name": "stderr",
     "output_type": "stream",
     "text": [
      "Scoring institutional trust (chunked):  96%|▉| 459/478 [4:34:33<09:46, 30.85s/it"
     ]
    },
    {
     "name": "stdout",
     "output_type": "stream",
     "text": [
      "✅ Scored: 2024_It.Ends.With.Us chunk 1\n",
      "✅ Scored: 2024_It.Ends.With.Us chunk 2\n",
      "✅ Scored: 2024_It.Ends.With.Us chunk 3\n",
      "✅ Scored: 2024_It.Ends.With.Us chunk 4\n",
      "✅ Scored: 2024_It.Ends.With.Us chunk 5\n",
      "✅ Scored: 2024_It.Ends.With.Us chunk 6\n",
      "✅ Scored: 2024_It.Ends.With.Us chunk 7\n",
      "✅ Scored: 2024_It.Ends.With.Us chunk 8\n",
      "✅ Scored: 2024_It.Ends.With.Us chunk 9\n",
      "✅ Scored: 2024_It.Ends.With.Us chunk 10\n",
      "✅ Scored: 2024_It.Ends.With.Us chunk 11\n",
      "✅ Scored: 2024_It.Ends.With.Us chunk 12\n"
     ]
    },
    {
     "name": "stderr",
     "output_type": "stream",
     "text": [
      "Scoring institutional trust (chunked):  96%|▉| 460/478 [4:35:13<10:08, 33.83s/it"
     ]
    },
    {
     "name": "stdout",
     "output_type": "stream",
     "text": [
      "✅ Scored: 2024_Kingdom.Of.The.Planet.Of.The.Apes chunk 1\n",
      "✅ Scored: 2024_Kingdom.Of.The.Planet.Of.The.Apes chunk 2\n",
      "✅ Scored: 2024_Kingdom.Of.The.Planet.Of.The.Apes chunk 3\n",
      "✅ Scored: 2024_Kingdom.Of.The.Planet.Of.The.Apes chunk 4\n"
     ]
    },
    {
     "name": "stderr",
     "output_type": "stream",
     "text": [
      "Scoring institutional trust (chunked):  96%|▉| 461/478 [4:35:27<07:51, 27.73s/it"
     ]
    },
    {
     "name": "stdout",
     "output_type": "stream",
     "text": [
      "✅ Scored: 2024_Kung. Fu. Panda. 4 chunk 1\n",
      "✅ Scored: 2024_Kung. Fu. Panda. 4 chunk 2\n",
      "✅ Scored: 2024_Kung. Fu. Panda. 4 chunk 3\n",
      "✅ Scored: 2024_Kung. Fu. Panda. 4 chunk 4\n",
      "✅ Scored: 2024_Kung. Fu. Panda. 4 chunk 5\n",
      "✅ Scored: 2024_Kung. Fu. Panda. 4 chunk 6\n",
      "✅ Scored: 2024_Kung. Fu. Panda. 4 chunk 7\n",
      "✅ Scored: 2024_Kung. Fu. Panda. 4 chunk 8\n",
      "✅ Scored: 2024_Kung. Fu. Panda. 4 chunk 9\n",
      "✅ Scored: 2024_Kung. Fu. Panda. 4 chunk 10\n"
     ]
    },
    {
     "name": "stderr",
     "output_type": "stream",
     "text": [
      "Scoring institutional trust (chunked):  97%|▉| 462/478 [4:36:02<07:56, 29.81s/it"
     ]
    },
    {
     "name": "stdout",
     "output_type": "stream",
     "text": [
      "✅ Scored: 2024_Moana.2 chunk 1\n",
      "✅ Scored: 2024_Moana.2 chunk 2\n",
      "✅ Scored: 2024_Moana.2 chunk 3\n",
      "⚠️ Rate limit hit. Waiting 60 seconds...\n",
      "✅ Scored: 2024_Moana.2 chunk 4\n",
      "✅ Scored: 2024_Moana.2 chunk 5\n",
      "✅ Scored: 2024_Moana.2 chunk 6\n",
      "✅ Scored: 2024_Moana.2 chunk 7\n",
      "✅ Scored: 2024_Moana.2 chunk 8\n",
      "✅ Scored: 2024_Moana.2 chunk 9\n"
     ]
    },
    {
     "name": "stderr",
     "output_type": "stream",
     "text": [
      "Scoring institutional trust (chunked):  97%|▉| 463/478 [4:37:33<12:03, 48.21s/it"
     ]
    },
    {
     "name": "stdout",
     "output_type": "stream",
     "text": [
      "✅ Scored: 2024_Mufasa.The.Lion.King chunk 1\n",
      "✅ Scored: 2024_Mufasa.The.Lion.King chunk 2\n",
      "✅ Scored: 2024_Mufasa.The.Lion.King chunk 3\n",
      "✅ Scored: 2024_Mufasa.The.Lion.King chunk 4\n",
      "✅ Scored: 2024_Mufasa.The.Lion.King chunk 5\n",
      "✅ Scored: 2024_Mufasa.The.Lion.King chunk 6\n",
      "✅ Scored: 2024_Mufasa.The.Lion.King chunk 7\n",
      "✅ Scored: 2024_Mufasa.The.Lion.King chunk 8\n",
      "✅ Scored: 2024_Mufasa.The.Lion.King chunk 9\n",
      "✅ Scored: 2024_Mufasa.The.Lion.King chunk 10\n",
      "✅ Scored: 2024_Mufasa.The.Lion.King chunk 11\n",
      "✅ Scored: 2024_Mufasa.The.Lion.King chunk 12\n"
     ]
    },
    {
     "name": "stderr",
     "output_type": "stream",
     "text": [
      "Scoring institutional trust (chunked):  97%|▉| 464/478 [4:38:15<10:48, 46.31s/it"
     ]
    },
    {
     "name": "stdout",
     "output_type": "stream",
     "text": [
      "✅ Scored: 2024_Sonic The Hedgehog 3 chunk 1\n",
      "✅ Scored: 2024_Sonic The Hedgehog 3 chunk 2\n",
      "✅ Scored: 2024_Sonic The Hedgehog 3 chunk 3\n",
      "✅ Scored: 2024_Sonic The Hedgehog 3 chunk 4\n",
      "✅ Scored: 2024_Sonic The Hedgehog 3 chunk 5\n",
      "✅ Scored: 2024_Sonic The Hedgehog 3 chunk 6\n",
      "✅ Scored: 2024_Sonic The Hedgehog 3 chunk 7\n",
      "✅ Scored: 2024_Sonic The Hedgehog 3 chunk 8\n",
      "✅ Scored: 2024_Sonic The Hedgehog 3 chunk 9\n"
     ]
    },
    {
     "name": "stderr",
     "output_type": "stream",
     "text": [
      "Scoring institutional trust (chunked):  97%|▉| 465/478 [4:38:44<08:57, 41.32s/it"
     ]
    },
    {
     "name": "stdout",
     "output_type": "stream",
     "text": [
      "✅ Scored: 2024_The.Wild.Robot chunk 1\n",
      "✅ Scored: 2024_The.Wild.Robot chunk 2\n",
      "✅ Scored: 2024_The.Wild.Robot chunk 3\n",
      "✅ Scored: 2024_The.Wild.Robot chunk 4\n",
      "✅ Scored: 2024_The.Wild.Robot chunk 5\n",
      "✅ Scored: 2024_The.Wild.Robot chunk 6\n",
      "✅ Scored: 2024_The.Wild.Robot chunk 7\n",
      "✅ Scored: 2024_The.Wild.Robot chunk 8\n"
     ]
    },
    {
     "name": "stderr",
     "output_type": "stream",
     "text": [
      "Scoring institutional trust (chunked):  97%|▉| 466/478 [4:39:12<07:26, 37.17s/it"
     ]
    },
    {
     "name": "stdout",
     "output_type": "stream",
     "text": [
      "✅ Scored: 2024_Twisters chunk 1\n",
      "✅ Scored: 2024_Twisters chunk 2\n",
      "✅ Scored: 2024_Twisters chunk 3\n",
      "✅ Scored: 2024_Twisters chunk 4\n",
      "✅ Scored: 2024_Twisters chunk 5\n",
      "✅ Scored: 2024_Twisters chunk 6\n",
      "✅ Scored: 2024_Twisters chunk 7\n",
      "✅ Scored: 2024_Twisters chunk 8\n",
      "✅ Scored: 2024_Twisters chunk 9\n",
      "✅ Scored: 2024_Twisters chunk 10\n",
      "✅ Scored: 2024_Twisters chunk 11\n",
      "✅ Scored: 2024_Twisters chunk 12\n",
      "✅ Scored: 2024_Twisters chunk 13\n"
     ]
    },
    {
     "name": "stderr",
     "output_type": "stream",
     "text": [
      "Scoring institutional trust (chunked):  98%|▉| 467/478 [4:39:57<07:15, 39.55s/it"
     ]
    },
    {
     "name": "stdout",
     "output_type": "stream",
     "text": [
      "✅ Scored: 2024_Venom. The. Last. Dance chunk 1\n",
      "✅ Scored: 2024_Venom. The. Last. Dance chunk 2\n",
      "✅ Scored: 2024_Venom. The. Last. Dance chunk 3\n",
      "✅ Scored: 2024_Venom. The. Last. Dance chunk 4\n",
      "✅ Scored: 2024_Venom. The. Last. Dance chunk 5\n",
      "✅ Scored: 2024_Venom. The. Last. Dance chunk 6\n",
      "✅ Scored: 2024_Venom. The. Last. Dance chunk 7\n"
     ]
    },
    {
     "name": "stderr",
     "output_type": "stream",
     "text": [
      "Scoring institutional trust (chunked):  98%|▉| 468/478 [4:40:20<05:47, 34.73s/it"
     ]
    },
    {
     "name": "stdout",
     "output_type": "stream",
     "text": [
      "✅ Scored: 2024_Wicked_2024 chunk 1\n",
      "✅ Scored: 2024_Wicked_2024 chunk 2\n",
      "✅ Scored: 2024_Wicked_2024 chunk 3\n",
      "✅ Scored: 2024_Wicked_2024 chunk 4\n",
      "✅ Scored: 2024_Wicked_2024 chunk 5\n",
      "✅ Scored: 2024_Wicked_2024 chunk 6\n",
      "✅ Scored: 2024_Wicked_2024 chunk 7\n",
      "✅ Scored: 2024_Wicked_2024 chunk 8\n",
      "✅ Scored: 2024_Wicked_2024 chunk 9\n",
      "✅ Scored: 2024_Wicked_2024 chunk 10\n",
      "✅ Scored: 2024_Wicked_2024 chunk 11\n",
      "✅ Scored: 2024_Wicked_2024 chunk 12\n",
      "✅ Scored: 2024_Wicked_2024 chunk 13\n",
      "✅ Scored: 2024_Wicked_2024 chunk 14\n"
     ]
    },
    {
     "name": "stderr",
     "output_type": "stream",
     "text": [
      "Scoring institutional trust (chunked):  98%|▉| 469/478 [4:41:10<05:51, 39.10s/it"
     ]
    },
    {
     "name": "stdout",
     "output_type": "stream",
     "text": [
      "✅ Scored: 2025_A Complete Unknown chunk 1\n",
      "✅ Scored: 2025_A Complete Unknown chunk 2\n",
      "✅ Scored: 2025_A Complete Unknown chunk 3\n",
      "✅ Scored: 2025_A Complete Unknown chunk 4\n",
      "✅ Scored: 2025_A Complete Unknown chunk 5\n",
      "✅ Scored: 2025_A Complete Unknown chunk 6\n",
      "✅ Scored: 2025_A Complete Unknown chunk 7\n",
      "✅ Scored: 2025_A Complete Unknown chunk 8\n",
      "✅ Scored: 2025_A Complete Unknown chunk 9\n",
      "✅ Scored: 2025_A Complete Unknown chunk 10\n",
      "✅ Scored: 2025_A Complete Unknown chunk 11\n",
      "✅ Scored: 2025_A Complete Unknown chunk 12\n",
      "✅ Scored: 2025_A Complete Unknown chunk 13\n",
      "✅ Scored: 2025_A Complete Unknown chunk 14\n",
      "⚠️ Rate limit hit. Waiting 60 seconds...\n",
      "✅ Scored: 2025_A Complete Unknown chunk 15\n",
      "✅ Scored: 2025_A Complete Unknown chunk 16\n"
     ]
    },
    {
     "name": "stderr",
     "output_type": "stream",
     "text": [
      "Scoring institutional trust (chunked):  98%|▉| 470/478 [4:43:07<08:20, 62.54s/it"
     ]
    },
    {
     "name": "stdout",
     "output_type": "stream",
     "text": [
      "✅ Scored: 2025_A. Minecraft. Movie chunk 1\n",
      "✅ Scored: 2025_A. Minecraft. Movie chunk 2\n",
      "✅ Scored: 2025_A. Minecraft. Movie chunk 3\n",
      "✅ Scored: 2025_A. Minecraft. Movie chunk 4\n",
      "✅ Scored: 2025_A. Minecraft. Movie chunk 5\n",
      "✅ Scored: 2025_A. Minecraft. Movie chunk 6\n",
      "✅ Scored: 2025_A. Minecraft. Movie chunk 7\n",
      "✅ Scored: 2025_A. Minecraft. Movie chunk 8\n",
      "✅ Scored: 2025_A. Minecraft. Movie chunk 9\n"
     ]
    },
    {
     "name": "stderr",
     "output_type": "stream",
     "text": [
      "Scoring institutional trust (chunked):  99%|▉| 471/478 [4:43:37<06:08, 52.68s/it"
     ]
    },
    {
     "name": "stdout",
     "output_type": "stream",
     "text": [
      "✅ Scored: 2025_Captain.America.Brave.New.World chunk 1\n",
      "✅ Scored: 2025_Captain.America.Brave.New.World chunk 2\n",
      "✅ Scored: 2025_Captain.America.Brave.New.World chunk 3\n",
      "✅ Scored: 2025_Captain.America.Brave.New.World chunk 4\n",
      "✅ Scored: 2025_Captain.America.Brave.New.World chunk 5\n",
      "✅ Scored: 2025_Captain.America.Brave.New.World chunk 6\n",
      "✅ Scored: 2025_Captain.America.Brave.New.World chunk 7\n",
      "✅ Scored: 2025_Captain.America.Brave.New.World chunk 8\n",
      "✅ Scored: 2025_Captain.America.Brave.New.World chunk 9\n",
      "✅ Scored: 2025_Captain.America.Brave.New.World chunk 10\n",
      "✅ Scored: 2025_Captain.America.Brave.New.World chunk 11\n"
     ]
    },
    {
     "name": "stderr",
     "output_type": "stream",
     "text": [
      "Scoring institutional trust (chunked):  99%|▉| 472/478 [4:44:17<04:54, 49.02s/it"
     ]
    },
    {
     "name": "stdout",
     "output_type": "stream",
     "text": [
      "✅ Scored: 2025_Dog.Man chunk 1\n",
      "✅ Scored: 2025_Dog.Man chunk 2\n",
      "✅ Scored: 2025_Dog.Man chunk 3\n",
      "✅ Scored: 2025_Dog.Man chunk 4\n",
      "✅ Scored: 2025_Dog.Man chunk 5\n",
      "✅ Scored: 2025_Dog.Man chunk 6\n",
      "✅ Scored: 2025_Dog.Man chunk 7\n",
      "✅ Scored: 2025_Dog.Man chunk 8\n"
     ]
    },
    {
     "name": "stderr",
     "output_type": "stream",
     "text": [
      "Scoring institutional trust (chunked):  99%|▉| 473/478 [4:44:44<03:31, 42.32s/it"
     ]
    },
    {
     "name": "stdout",
     "output_type": "stream",
     "text": [
      "✅ Scored: 2025_Mickey17 chunk 1\n",
      "✅ Scored: 2025_Mickey17 chunk 2\n",
      "✅ Scored: 2025_Mickey17 chunk 3\n",
      "✅ Scored: 2025_Mickey17 chunk 4\n",
      "✅ Scored: 2025_Mickey17 chunk 5\n",
      "✅ Scored: 2025_Mickey17 chunk 6\n",
      "✅ Scored: 2025_Mickey17 chunk 7\n",
      "✅ Scored: 2025_Mickey17 chunk 8\n",
      "✅ Scored: 2025_Mickey17 chunk 9\n",
      "✅ Scored: 2025_Mickey17 chunk 10\n",
      "✅ Scored: 2025_Mickey17 chunk 11\n",
      "✅ Scored: 2025_Mickey17 chunk 12\n",
      "✅ Scored: 2025_Mickey17 chunk 13\n",
      "✅ Scored: 2025_Mickey17 chunk 14\n",
      "✅ Scored: 2025_Mickey17 chunk 15\n"
     ]
    },
    {
     "name": "stderr",
     "output_type": "stream",
     "text": [
      "Scoring institutional trust (chunked):  99%|▉| 474/478 [4:45:36<03:01, 45.28s/it"
     ]
    },
    {
     "name": "stdout",
     "output_type": "stream",
     "text": [
      "✅ Scored: 2025_Nosferatu chunk 1\n",
      "✅ Scored: 2025_Nosferatu chunk 2\n",
      "✅ Scored: 2025_Nosferatu chunk 3\n",
      "✅ Scored: 2025_Nosferatu chunk 4\n",
      "✅ Scored: 2025_Nosferatu chunk 5\n",
      "✅ Scored: 2025_Nosferatu chunk 6\n",
      "✅ Scored: 2025_Nosferatu chunk 7\n",
      "✅ Scored: 2025_Nosferatu chunk 8\n",
      "✅ Scored: 2025_Nosferatu chunk 9\n"
     ]
    },
    {
     "name": "stderr",
     "output_type": "stream",
     "text": [
      "Scoring institutional trust (chunked):  99%|▉| 475/478 [4:46:05<02:01, 40.55s/it"
     ]
    },
    {
     "name": "stdout",
     "output_type": "stream",
     "text": [
      "✅ Scored: 2025_One.Of.Them.Days chunk 1\n",
      "✅ Scored: 2025_One.Of.Them.Days chunk 2\n",
      "✅ Scored: 2025_One.Of.Them.Days chunk 3\n",
      "✅ Scored: 2025_One.Of.Them.Days chunk 4\n",
      "✅ Scored: 2025_One.Of.Them.Days chunk 5\n",
      "✅ Scored: 2025_One.Of.Them.Days chunk 6\n",
      "✅ Scored: 2025_One.Of.Them.Days chunk 7\n",
      "✅ Scored: 2025_One.Of.Them.Days chunk 8\n",
      "✅ Scored: 2025_One.Of.Them.Days chunk 9\n",
      "✅ Scored: 2025_One.Of.Them.Days chunk 10\n",
      "✅ Scored: 2025_One.Of.Them.Days chunk 11\n",
      "✅ Scored: 2025_One.Of.Them.Days chunk 12\n",
      "✅ Scored: 2025_One.Of.Them.Days chunk 13\n",
      "✅ Scored: 2025_One.Of.Them.Days chunk 14\n"
     ]
    },
    {
     "name": "stderr",
     "output_type": "stream",
     "text": [
      "Scoring institutional trust (chunked): 100%|▉| 476/478 [4:46:53<01:25, 42.67s/it"
     ]
    },
    {
     "name": "stdout",
     "output_type": "stream",
     "text": [
      "✅ Scored: 2025_Sinners chunk 1\n",
      "✅ Scored: 2025_Sinners chunk 2\n",
      "✅ Scored: 2025_Sinners chunk 3\n",
      "✅ Scored: 2025_Sinners chunk 4\n",
      "✅ Scored: 2025_Sinners chunk 5\n",
      "✅ Scored: 2025_Sinners chunk 6\n",
      "✅ Scored: 2025_Sinners chunk 7\n",
      "✅ Scored: 2025_Sinners chunk 8\n",
      "✅ Scored: 2025_Sinners chunk 9\n",
      "✅ Scored: 2025_Sinners chunk 10\n",
      "✅ Scored: 2025_Sinners chunk 11\n",
      "✅ Scored: 2025_Sinners chunk 12\n",
      "✅ Scored: 2025_Sinners chunk 13\n"
     ]
    },
    {
     "name": "stderr",
     "output_type": "stream",
     "text": [
      "Scoring institutional trust (chunked): 100%|▉| 477/478 [4:47:36<00:42, 42.89s/it"
     ]
    },
    {
     "name": "stdout",
     "output_type": "stream",
     "text": [
      "✅ Scored: 2025_Snow.White chunk 1\n",
      "✅ Scored: 2025_Snow.White chunk 2\n",
      "✅ Scored: 2025_Snow.White chunk 3\n",
      "✅ Scored: 2025_Snow.White chunk 4\n",
      "✅ Scored: 2025_Snow.White chunk 5\n",
      "✅ Scored: 2025_Snow.White chunk 6\n",
      "✅ Scored: 2025_Snow.White chunk 7\n",
      "✅ Scored: 2025_Snow.White chunk 8\n",
      "✅ Scored: 2025_Snow.White chunk 9\n"
     ]
    },
    {
     "name": "stderr",
     "output_type": "stream",
     "text": [
      "Scoring institutional trust (chunked): 100%|█| 478/478 [4:48:08<00:00, 36.17s/it\n"
     ]
    }
   ],
   "source": [
    "import os\n",
    "import json\n",
    "import time\n",
    "import requests\n",
    "import pandas as pd\n",
    "import re \n",
    "from pathlib import Path\n",
    "from tqdm import tqdm\n",
    "\n",
    "# === API setup ===\n",
    "api_key = \"API key\"\n",
    "api_url = \"https://api.anthropic.com/v1/messages\"\n",
    "model_name = \"claude-3-haiku-20240307\"\n",
    "\n",
    "headers = {\n",
    "    \"x-api-key\": api_key,\n",
    "    \"anthropic-version\": \"2023-06-01\",\n",
    "    \"content-type\": \"application/json\",\n",
    "}\n",
    "\n",
    "# === Paths ===\n",
    "base_path = Path.home() / \"Desktop\" / \"processed_subs\"\n",
    "subs_dir = base_path\n",
    "summaries_dir = base_path / \"summaries\"\n",
    "prompts_dir = base_path / \"prompts_institutional_trust\"\n",
    "output_dir = base_path / \"scored_institutional_trust\"\n",
    "\n",
    "prompts_dir.mkdir(parents=True, exist_ok=True)\n",
    "output_dir.mkdir(parents=True, exist_ok=True)\n",
    "\n",
    "# === Load updated match file ===\n",
    "matches_df = pd.read_csv(\"final_matches_updated2.csv\")\n",
    "matches_df = matches_df.dropna(subset=[\"subtitle_filename\"])\n",
    "\n",
    "# === API call ===\n",
    "\n",
    "def call_claude(prompt):\n",
    "    payload = {\n",
    "        \"model\": model_name,\n",
    "        \"max_tokens\": 400,\n",
    "        \"temperature\": 0,\n",
    "        \"system\": \"You are a strict JSON-returning film analyst. Only respond in the precise JSON structure requested.\",\n",
    "        \"messages\": [{\"role\": \"user\", \"content\": prompt}]\n",
    "    }\n",
    "\n",
    "    response = requests.post(api_url, headers=headers, json=payload)\n",
    "\n",
    "    if response.status_code == 429:\n",
    "        print(\"⚠️ Rate limit hit. Waiting 60 seconds...\")\n",
    "        time.sleep(60)\n",
    "        return call_claude(prompt)\n",
    "\n",
    "    if response.status_code != 200:\n",
    "        print(f\"⚠️ API Error {response.status_code}: {response.text}\")\n",
    "        return None\n",
    "\n",
    "    data = response.json()\n",
    "    content = data[\"content\"][0][\"text\"]\n",
    "\n",
    "    # 🛠 Fix common JSON colon error: change \"score: 0.5\" to \"score\": 0.5\n",
    "    content = re.sub(r'\"(score|confidence):', r'\"\\1\":', content)\n",
    "\n",
    "    try:\n",
    "        return json.loads(content)\n",
    "    except json.JSONDecodeError:\n",
    "        print(f\"⚠️ JSON parsing error:\\n{content}\")\n",
    "        return None\n",
    "\n",
    "\n",
    "# === Validation ===\n",
    "EXPECTED_KEYS = [\n",
    "    \"formal_institutions_incl_military\",\n",
    "    \"formal_institutions_excl_military\",\n",
    "    \"military_institutions\",\n",
    "    \"informal_cultural_norms\",\n",
    "    \"informal_relationships\",\n",
    "    \"informal_overall\"\n",
    "]\n",
    "\n",
    "def is_valid_output(data):\n",
    "    if not isinstance(data, dict):\n",
    "        return False\n",
    "    for key in EXPECTED_KEYS:\n",
    "        if key not in data:\n",
    "            return False\n",
    "        val = data[key]\n",
    "        if not isinstance(val, dict):\n",
    "            return False\n",
    "        if \"score\" not in val or \"confidence\" not in val:\n",
    "            return False\n",
    "        try:\n",
    "            score = float(val[\"score\"])\n",
    "            conf = float(val[\"confidence\"])\n",
    "        except (ValueError, TypeError):\n",
    "            return False\n",
    "        if not (0.0 <= score <= 1.0) or not (0.0 <= conf <= 1.0):\n",
    "            return False\n",
    "    return True\n",
    "\n",
    "# === Prompt generator ===\n",
    "def create_institutional_trust_prompt(summary, dialogue_text):\n",
    "    return f'''\n",
    "You are analyzing how a film portrays societal trust in institutions. Use only the provided movie subtitles and/or Wikipedia plot summary.\n",
    "\n",
    "We follow definitions from Douglass North (1990):\n",
    "- Formal institutions: codified structures such as government, police, courts, military, and corporations.\n",
    "- Informal institutions: unwritten norms, cultural values, family, friendships, and community relationships.\n",
    "\n",
    "Your task is to return a JSON object with six trust scores and corresponding confidence scores, each ranging from 0 (very negative portrayal) to 1 (very positive portrayal). If a category is not meaningfully present in the film, assign a neutral score of 0.5 and a confidence ≤ 0.6.\n",
    "\n",
    "⚠️ Do not include any explanation or extra text. Return only the JSON in the format provided below.\n",
    "\n",
    "---\n",
    "Please rate the following dimensions:\n",
    "\n",
    "1. Formal Institutions (including military)\n",
    "   - One overall score reflecting how trustworthy or competent formal institutions are portrayed, including the military.  \n",
    "   - Consider government, law enforcement, courts, the military, and corporations.  \n",
    "\n",
    "2. Formal Institutions (excluding military) \n",
    "   - Same as above, but **do not consider the military** in this score.  \n",
    "   - Focus only on government, police, courts, and corporations.  \n",
    "\n",
    "3. Military Institutions Only  \n",
    "   - How is the military or national security apparatus portrayed? Are they heroic, competent, and respected—or corrupt, violent, or distrusted?  \n",
    "\n",
    "4. Informal Institutions – Cultural Norms and Values\n",
    "   - Are unwritten societal norms (e.g., justice, honesty, fairness, tradition, duty, rebellion) depicted positively or negatively?  \n",
    "   - Is there a sense that these norms help society function, or are they broken or harmful?  \n",
    "\n",
    "5. Informal Institutions – Interpersonal Relationships  \n",
    "   - Are family, friendships, and community relationships portrayed as strong and trustworthy, or weak and broken?  \n",
    "   - Do people rely on each other in meaningful ways?  \n",
    "\n",
    "6. Overall Trust in Informal Institutions  \n",
    "   - A general trust score reflecting how much informal institutions (cultural norms + relationships) appear to support stability, cooperation, or moral behavior in the film.\n",
    "\n",
    "---\n",
    "\n",
    "\n",
    "✅ Output format (strictly):\n",
    "\n",
    "{{\n",
    "  \"formal_institutions_incl_military\": {{\"score\": 0.0, \"confidence\": 0.0}},\n",
    "  \"formal_institutions_excl_military\": {{\"score\": 0.0, \"confidence\": 0.0}},\n",
    "  \"military_institutions\": {{\"score\": 0.0, \"confidence\": 0.0}},\n",
    "  \"informal_cultural_norms\": {{\"score\": 0.0, \"confidence\": 0.0}},\n",
    "  \"informal_relationships\": {{\"score\": 0.0, \"confidence\": 0.0}},\n",
    "  \"informal_overall\": {{\"score\": 0.0, \"confidence\": 0.0}}\n",
    "}}\n",
    "\n",
    "Movie Summary:\n",
    "\\\"\\\"\\\"{summary}\\\"\\\"\\\"\n",
    "\n",
    "Dialogue Chunk:\n",
    "\\\"\\\"\\\"{dialogue_text}\\\"\\\"\\\"\n",
    "'''\n",
    "\n",
    "# === Subtitle chunking ===\n",
    "def chunk_dialogue(subs, chunk_size=5000, overlap=200):\n",
    "    text_blocks = [line[\"text\"].strip() for line in subs if line.get(\"text\")]\n",
    "    full_text = \" \".join(text_blocks)\n",
    "\n",
    "    chunks = []\n",
    "    start = 0\n",
    "    while start < len(full_text):\n",
    "        end = start + chunk_size\n",
    "        chunks.append(full_text[start:end])\n",
    "        start = end - overlap\n",
    "    return chunks\n",
    "\n",
    "# === Main loop ===\n",
    "for _, row in tqdm(matches_df.iterrows(), total=len(matches_df), desc=\"Scoring institutional trust (chunked)\"):\n",
    "    filename = row[\"subtitle_filename\"]\n",
    "\n",
    "    json_path = subs_dir / f\"{filename}.json\"\n",
    "    summary_path = summaries_dir / f\"{filename}_summary.txt\"\n",
    "\n",
    "    if not json_path.exists() or not summary_path.exists():\n",
    "        print(f\"⚠️ Missing files for {filename}. Skipping.\")\n",
    "        continue\n",
    "\n",
    "    with open(json_path, \"r\", encoding=\"utf-8\") as f:\n",
    "        subs = json.load(f)\n",
    "\n",
    "    with open(summary_path, \"r\", encoding=\"utf-8\") as f:\n",
    "        summary = f.read().strip()\n",
    "\n",
    "    chunks = chunk_dialogue(subs, chunk_size=5000, overlap=200)\n",
    "\n",
    "    for i, chunk_text in enumerate(chunks):\n",
    "        output_path = output_dir / f\"{filename}_chunk{i+1}_institutional_trust.json\"\n",
    "\n",
    "        if output_path.exists():\n",
    "            print(f\"⏩ Skipping already scored: {filename} chunk {i+1}\")\n",
    "            continue\n",
    "\n",
    "        prompt = create_institutional_trust_prompt(summary, chunk_text)\n",
    "        prompt_path = prompts_dir / f\"{filename}_chunk{i+1}_institutional_trust_prompt.json\"\n",
    "\n",
    "        with open(prompt_path, \"w\", encoding=\"utf-8\") as f:\n",
    "            json.dump({\"prompt\": prompt}, f, indent=2)\n",
    "\n",
    "        result = call_claude(prompt)\n",
    "\n",
    "        if result is not None and is_valid_output(result):\n",
    "            with open(output_path, \"w\", encoding=\"utf-8\") as f:\n",
    "                json.dump(result, f, indent=2)\n",
    "            print(f\"✅ Scored: {filename} chunk {i+1}\")\n",
    "        else:\n",
    "            print(f\"❌ Invalid or failed response: {filename} chunk {i+1}\")\n",
    "\n",
    "        time.sleep(1.5)\n"
   ]
  },
  {
   "cell_type": "code",
   "execution_count": 5,
   "id": "5f53321b-bedf-4e0c-aa95-8de27a7ebc78",
   "metadata": {},
   "outputs": [
    {
     "name": "stdout",
     "output_type": "stream",
     "text": [
      "✅ Saved per-film scores to: /Users/cedricroetheli/Desktop/processed_subs/institutional_trust_per_film_scores_all_years.csv\n",
      "✅ Saved yearly averages to: /Users/cedricroetheli/Desktop/processed_subs/institutional_trust_yearly_averages_all_years.csv\n"
     ]
    }
   ],
   "source": [
    "import json\n",
    "import re\n",
    "import pandas as pd\n",
    "from pathlib import Path\n",
    "\n",
    "# === Paths ===\n",
    "input_dir = Path.home() / \"Desktop\" / \"processed_subs\" / \"scored_institutional_trust\"\n",
    "per_film_csv_all_years = Path.home() / \"Desktop\" / \"processed_subs\" / \"institutional_trust_per_film_scores_all_years.csv\"\n",
    "yearly_csv_all_years = Path.home() / \"Desktop\" / \"processed_subs\" / \"institutional_trust_yearly_averages_all_years.csv\"\n",
    "\n",
    "# === Helper: Extract year from filename ===\n",
    "def extract_year_from_filename(filename):\n",
    "    match = re.search(r\"(19|20)\\d{2}\", filename)\n",
    "    return int(match.group(0)) if match else None\n",
    "\n",
    "# === Aggregate per film across chunks ===\n",
    "chunk_data = {}\n",
    "for file in input_dir.glob(\"*_institutional_trust.json\"):\n",
    "    year = extract_year_from_filename(file.name)\n",
    "    if year is None:\n",
    "        print(f\"⚠️ Skipping file with no year: {file.name}\")\n",
    "        continue\n",
    "\n",
    "    film_id = \"_\".join(file.name.split(\"_\")[:2])\n",
    "    with open(file, \"r\", encoding=\"utf-8\") as f:\n",
    "        try:\n",
    "            data = json.load(f)\n",
    "\n",
    "            if film_id not in chunk_data:\n",
    "                chunk_data[film_id] = {\n",
    "                    \"year\": year,\n",
    "                    \"scores\": {\n",
    "                        \"formal_institutions_incl_military\": [],\n",
    "                        \"formal_institutions_excl_military\": [],\n",
    "                        \"military_institutions\": [],\n",
    "                        \"informal_cultural_norms\": [],\n",
    "                        \"informal_relationships\": [],\n",
    "                        \"informal_overall\": []\n",
    "                    },\n",
    "                    \"confidences\": {\n",
    "                        \"formal_institutions_incl_military\": [],\n",
    "                        \"formal_institutions_excl_military\": [],\n",
    "                        \"military_institutions\": [],\n",
    "                        \"informal_cultural_norms\": [],\n",
    "                        \"informal_relationships\": [],\n",
    "                        \"informal_overall\": []\n",
    "                    }\n",
    "                }\n",
    "\n",
    "            for key in chunk_data[film_id][\"scores\"]:\n",
    "                chunk_data[film_id][\"scores\"][key].append(data[key][\"score\"])\n",
    "                chunk_data[film_id][\"confidences\"][key].append(data[key][\"confidence\"])\n",
    "\n",
    "        except (json.JSONDecodeError, KeyError) as e:\n",
    "            print(f\"❌ Failed parsing {file.name}: {e}\")\n",
    "            continue\n",
    "\n",
    "# === Create per-film DataFrame ===\n",
    "film_records = []\n",
    "for film_id, values in chunk_data.items():\n",
    "    record = {\n",
    "        \"subtitle_filename\": film_id,\n",
    "        \"year\": values[\"year\"]\n",
    "    }\n",
    "\n",
    "    for key in values[\"scores\"]:\n",
    "        scores = values[\"scores\"][key]\n",
    "        confidences = values[\"confidences\"][key]\n",
    "        record[key] = round(sum(scores) / len(scores), 3) if scores else None\n",
    "        record[f\"{key}_confidence\"] = round(sum(confidences) / len(confidences), 3) if confidences else None\n",
    "\n",
    "    film_records.append(record)\n",
    "\n",
    "df_film = pd.DataFrame(film_records)\n",
    "df_film.to_csv(per_film_csv_all_years, index=False)\n",
    "print(f\"✅ Saved per-film scores to: {per_film_csv_all_years}\")\n",
    "\n",
    "# === Compute yearly averages ===\n",
    "if \"year\" in df_film.columns:\n",
    "    df_yearly = df_film.groupby(\"year\").mean(numeric_only=True).reset_index()\n",
    "    df_yearly.to_csv(yearly_csv_all_years, index=False)\n",
    "    print(f\"✅ Saved yearly averages to: {yearly_csv_all_years}\")\n",
    "else:\n",
    "    print(\"❌ No valid year column found — check your filenames and directory.\")\n"
   ]
  },
  {
   "cell_type": "code",
   "execution_count": 7,
   "id": "4bc1066b-0d34-47ab-94fa-0abd1fa0fbfe",
   "metadata": {},
   "outputs": [
    {
     "name": "stdout",
     "output_type": "stream",
     "text": [
      "✅ Saved weighted per-film scores to: /Users/cedricroetheli/Desktop/processed_subs/institutional_trust_per_film_scores_weighted.csv\n",
      "✅ Saved weighted yearly averages to: /Users/cedricroetheli/Desktop/processed_subs/institutional_trust_yearly_averages_weighted.csv\n"
     ]
    }
   ],
   "source": [
    "import json\n",
    "import re\n",
    "import pandas as pd\n",
    "from pathlib import Path\n",
    "\n",
    "# === Paths ===\n",
    "input_dir = Path.home() / \"Desktop\" / \"processed_subs\" / \"scored_institutional_trust\"\n",
    "per_film_csv_weighted = Path.home() / \"Desktop\" / \"processed_subs\" / \"institutional_trust_per_film_scores_weighted.csv\"\n",
    "yearly_csv_weighted = Path.home() / \"Desktop\" / \"processed_subs\" / \"institutional_trust_yearly_averages_weighted.csv\"\n",
    "\n",
    "# === Helper: Extract year from filename ===\n",
    "def extract_year_from_filename(filename):\n",
    "    match = re.search(r\"(19|20)\\d{2}\", filename)\n",
    "    return int(match.group(0)) if match else None\n",
    "\n",
    "# === Collect chunked scores by film ===\n",
    "chunk_data = {}\n",
    "for file in input_dir.glob(\"*_institutional_trust.json\"):\n",
    "    year = extract_year_from_filename(file.name)\n",
    "    if year is None:\n",
    "        print(f\"⚠️ Skipping file with no year: {file.name}\")\n",
    "        continue\n",
    "\n",
    "    film_id = \"_\".join(file.name.split(\"_\")[:2])\n",
    "    with open(file, \"r\", encoding=\"utf-8\") as f:\n",
    "        try:\n",
    "            data = json.load(f)\n",
    "            if film_id not in chunk_data:\n",
    "                chunk_data[film_id] = {\n",
    "                    \"year\": year,\n",
    "                    \"scores\": {\n",
    "                        \"formal_institutions_incl_military\": [],\n",
    "                        \"formal_institutions_excl_military\": [],\n",
    "                        \"military_institutions\": [],\n",
    "                        \"informal_cultural_norms\": [],\n",
    "                        \"informal_relationships\": [],\n",
    "                        \"informal_overall\": []\n",
    "                    },\n",
    "                    \"confidences\": {\n",
    "                        \"formal_institutions_incl_military\": [],\n",
    "                        \"formal_institutions_excl_military\": [],\n",
    "                        \"military_institutions\": [],\n",
    "                        \"informal_cultural_norms\": [],\n",
    "                        \"informal_relationships\": [],\n",
    "                        \"informal_overall\": []\n",
    "                    }\n",
    "                }\n",
    "\n",
    "            for key in chunk_data[film_id][\"scores\"]:\n",
    "                chunk_data[film_id][\"scores\"][key].append(data[key][\"score\"])\n",
    "                chunk_data[film_id][\"confidences\"][key].append(data[key][\"confidence\"])\n",
    "\n",
    "        except (json.JSONDecodeError, KeyError) as e:\n",
    "            print(f\"❌ Failed parsing {file.name}: {e}\")\n",
    "            continue\n",
    "\n",
    "# === Compute weighted averages per film ===\n",
    "film_records = []\n",
    "for film_id, content in chunk_data.items():\n",
    "    record = {\n",
    "        \"subtitle_filename\": film_id,\n",
    "        \"year\": content[\"year\"]\n",
    "    }\n",
    "\n",
    "    for key in content[\"scores\"]:\n",
    "        scores = content[\"scores\"][key]\n",
    "        confidences = content[\"confidences\"][key]\n",
    "        weight_sum = sum(confidences)\n",
    "\n",
    "        if scores and confidences and weight_sum > 0:\n",
    "            weighted_avg = sum(s * c for s, c in zip(scores, confidences)) / weight_sum\n",
    "            record[key] = round(weighted_avg, 3)\n",
    "        else:\n",
    "            record[key] = None  # fallback if no data or all confidences are zero\n",
    "\n",
    "        # Optionally store unweighted average confidence\n",
    "        if confidences:\n",
    "            record[f\"{key}_confidence\"] = round(sum(confidences) / len(confidences), 3)\n",
    "        else:\n",
    "            record[f\"{key}_confidence\"] = None\n",
    "\n",
    "    film_records.append(record)\n",
    "\n",
    "# === Save weighted per-film scores\n",
    "df_film_weighted = pd.DataFrame(film_records)\n",
    "df_film_weighted.to_csv(per_film_csv_weighted, index=False)\n",
    "print(f\"✅ Saved weighted per-film scores to: {per_film_csv_weighted}\")\n",
    "\n",
    "# === Save weighted yearly averages\n",
    "if \"year\" in df_film_weighted.columns:\n",
    "    df_yearly_weighted = df_film_weighted.groupby(\"year\").mean(numeric_only=True).reset_index()\n",
    "    df_yearly_weighted.to_csv(yearly_csv_weighted, index=False)\n",
    "    print(f\"✅ Saved weighted yearly averages to: {yearly_csv_weighted}\")\n",
    "else:\n",
    "    print(\"❌ No valid year column found — check your filenames and directory.\")\n"
   ]
  },
  {
   "cell_type": "code",
   "execution_count": 11,
   "id": "523330ce-e072-485e-870b-671a7c4c306f",
   "metadata": {},
   "outputs": [
    {
     "name": "stdout",
     "output_type": "stream",
     "text": [
      "📊 Variance of Per-Film Trust Scores:\n",
      "- formal_institutions_incl_military: 0.011571\n",
      "- formal_institutions_excl_military: 0.018556\n",
      "- military_institutions: 0.005501\n",
      "- informal_cultural_norms: 0.008013\n",
      "- informal_relationships: 0.012867\n",
      "- informal_overall: 0.010871\n"
     ]
    }
   ],
   "source": [
    "import pandas as pd\n",
    "from pathlib import Path\n",
    "\n",
    "# === Path to previously stored per-film weighted scores ===\n",
    "input_path = Path.home() / \"Desktop\" / \"processed_subs\" / \"institutional_trust_per_film_scores_weighted.csv\"\n",
    "\n",
    "# === Load data ===\n",
    "df = pd.read_csv(input_path)\n",
    "\n",
    "# === Columns to include (excluding confidence columns) ===\n",
    "trust_columns = [\n",
    "    \"formal_institutions_incl_military\",\n",
    "    \"formal_institutions_excl_military\",\n",
    "    \"military_institutions\",\n",
    "    \"informal_cultural_norms\",\n",
    "    \"informal_relationships\",\n",
    "    \"informal_overall\"\n",
    "]\n",
    "\n",
    "# === Calculate and print variances ===\n",
    "print(\"📊 Variance of Per-Film Trust Scores:\")\n",
    "for col in trust_columns:\n",
    "    var = df[col].var()\n",
    "    print(f\"- {col}: {var:.6f}\")\n"
   ]
  },
  {
   "cell_type": "code",
   "execution_count": 17,
   "id": "ddf07f5f-b7bf-462d-86c8-4fe80a8a7026",
   "metadata": {},
   "outputs": [
    {
     "name": "stdout",
     "output_type": "stream",
     "text": [
      "\n",
      " Variance of Trust Scores – Per-Film (Unweighted):\n",
      "- formal_institutions_incl_military: 0.011432\n",
      "- formal_institutions_excl_military: 0.018482\n",
      "- military_institutions: 0.005072\n",
      "- informal_cultural_norms: 0.007665\n",
      "- informal_relationships: 0.012807\n",
      "- informal_overall: 0.010586\n",
      "\n",
      " Variance of Trust Scores – Per-Film (Weighted):\n",
      "- formal_institutions_incl_military: 0.011571\n",
      "- formal_institutions_excl_military: 0.018556\n",
      "- military_institutions: 0.005501\n",
      "- informal_cultural_norms: 0.008013\n",
      "- informal_relationships: 0.012867\n",
      "- informal_overall: 0.010871\n",
      "\n",
      " Variance of Trust Scores – Yearly (Unweighted):\n",
      "- formal_institutions_incl_military: 0.001133\n",
      "- formal_institutions_excl_military: 0.001793\n",
      "- military_institutions: 0.000525\n",
      "- informal_cultural_norms: 0.000896\n",
      "- informal_relationships: 0.001808\n",
      "- informal_overall: 0.001311\n",
      "\n",
      " Variance of Trust Scores – Yearly (Weighted):\n",
      "- formal_institutions_incl_military: 0.001147\n",
      "- formal_institutions_excl_military: 0.001812\n",
      "- military_institutions: 0.000576\n",
      "- informal_cultural_norms: 0.000932\n",
      "- informal_relationships: 0.001815\n",
      "- informal_overall: 0.001335\n"
     ]
    }
   ],
   "source": [
    "import pandas as pd\n",
    "from pathlib import Path\n",
    "\n",
    "# === Base directory path ===\n",
    "base_dir = Path.home() / \"Desktop\" / \"processed_subs\"\n",
    "\n",
    "# === Filenames for all four datasets ===\n",
    "files = {\n",
    "    \"Per-Film (Unweighted)\": \"institutional_trust_per_film_scores_all_years.csv\",\n",
    "    \"Per-Film (Weighted)\": \"institutional_trust_per_film_scores_weighted.csv\",\n",
    "    \"Yearly (Unweighted)\": \"institutional_trust_yearly_averages_all_years.csv\",\n",
    "    \"Yearly (Weighted)\": \"institutional_trust_yearly_averages_weighted.csv\"\n",
    "}\n",
    "\n",
    "# === Columns to include (excluding confidence columns) ===\n",
    "trust_columns = [\n",
    "    \"formal_institutions_incl_military\",\n",
    "    \"formal_institutions_excl_military\",\n",
    "    \"military_institutions\",\n",
    "    \"informal_cultural_norms\",\n",
    "    \"informal_relationships\",\n",
    "    \"informal_overall\"\n",
    "]\n",
    "\n",
    "# === Compute and display variances for each file ===\n",
    "for label, filename in files.items():\n",
    "    file_path = base_dir / filename\n",
    "\n",
    "    try:\n",
    "        df = pd.read_csv(file_path)\n",
    "        print(f\"\\n Variance of Trust Scores – {label}:\")\n",
    "        for col in trust_columns:\n",
    "            if col in df.columns:\n",
    "                var = df[col].var()\n",
    "                print(f\"- {col}: {var:.6f}\")\n",
    "            else:\n",
    "                print(f\"- {col}: ⚠️ Not found in {filename}\")\n",
    "    except FileNotFoundError:\n",
    "        print(f\"\\n❌ File not found: {filename}\")\n",
    "    except Exception as e:\n",
    "        print(f\"\\n❌ Error reading {filename}: {e}\")\n"
   ]
  },
  {
   "cell_type": "code",
   "execution_count": 21,
   "id": "2af4d562-de1b-47b8-8b4c-a400e214e1d9",
   "metadata": {},
   "outputs": [
    {
     "name": "stdout",
     "output_type": "stream",
     "text": [
      "✅ Saved unweighted averages to: yearly_averages_filtered_unweighted.csv\n",
      "✅ Saved weighted averages to: yearly_averages_filtered_weighted.csv\n"
     ]
    }
   ],
   "source": [
    "import pandas as pd\n",
    "import numpy as np\n",
    "from pathlib import Path\n",
    "\n",
    "# === Paths ===\n",
    "input_path = Path.home() / \"Desktop\" / \"processed_subs\" / \"institutional_trust_per_film_scores_all_years.csv\"\n",
    "output_unweighted = Path.home() / \"Desktop\" / \"processed_subs\" / \"yearly_averages_filtered_unweighted.csv\"\n",
    "output_weighted = Path.home() / \"Desktop\" / \"processed_subs\" / \"yearly_averages_filtered_weighted.csv\"\n",
    "\n",
    "# === Load data ===\n",
    "df = pd.read_csv(input_path)\n",
    "\n",
    "# === Define score columns and their corresponding confidence columns ===\n",
    "score_cols = [\n",
    "    \"formal_institutions_incl_military\",\n",
    "    \"formal_institutions_excl_military\",\n",
    "    \"military_institutions\",\n",
    "    \"informal_cultural_norms\",\n",
    "    \"informal_relationships\",\n",
    "    \"informal_overall\"\n",
    "]\n",
    "\n",
    "confidence_cols = [f\"{col}_confidence\" for col in score_cols]\n",
    "\n",
    "# === Replace exact 0.5 scores with NaN ===\n",
    "for col in score_cols:\n",
    "    df[col] = df[col].apply(lambda x: np.nan if x == 0.5 else x)\n",
    "\n",
    "# === UNWEIGHTED: Group by year and calculate mean (ignores NaNs) ===\n",
    "df_unweighted = df.groupby(\"year\")[score_cols].mean(numeric_only=True).reset_index()\n",
    "\n",
    "# === WEIGHTED: Multiply each score by its confidence, then divide by sum of confidence ===\n",
    "weighted_scores = {}\n",
    "\n",
    "for col, conf_col in zip(score_cols, confidence_cols):\n",
    "    product_name = f\"{col}_weighted\"\n",
    "    df[product_name] = df[col] * df[conf_col]\n",
    "    weighted_sum = df.groupby(\"year\")[product_name].sum()\n",
    "    confidence_sum = df.groupby(\"year\")[conf_col].sum()\n",
    "    weighted_scores[col] = weighted_sum / confidence_sum\n",
    "\n",
    "# === Combine into one DataFrame ===\n",
    "df_weighted = pd.DataFrame(weighted_scores).reset_index()\n",
    "\n",
    "# === Save CSVs ===\n",
    "df_unweighted.to_csv(output_unweighted, index=False)\n",
    "df_weighted.to_csv(output_weighted, index=False)\n",
    "\n",
    "print(f\"✅ Saved unweighted averages to: {output_unweighted.name}\")\n",
    "print(f\"✅ Saved weighted averages to: {output_weighted.name}\")\n"
   ]
  },
  {
   "cell_type": "code",
   "execution_count": 25,
   "id": "3c9cd333-9db1-4920-91ec-46e1e525e43f",
   "metadata": {},
   "outputs": [
    {
     "name": "stdout",
     "output_type": "stream",
     "text": [
      "✅ Filtered file saved to: institutional_trust_per_film_scores_filtered.csv\n",
      "\n",
      " Unweighted Variance (filtered):\n",
      "- formal_institutions_incl_military: 0.011332\n",
      "- formal_institutions_excl_military: 0.016654\n",
      "- military_institutions: 0.006732\n",
      "- informal_cultural_norms: 0.007856\n",
      "- informal_relationships: 0.012673\n",
      "- informal_overall: 0.010600\n",
      "\n",
      " Weighted Variance (filtered):\n",
      "- formal_institutions_incl_military: 0.011655\n",
      "- formal_institutions_excl_military: 0.016654\n",
      "- military_institutions: 0.007727\n",
      "- informal_cultural_norms: 0.008248\n",
      "- informal_relationships: 0.012818\n",
      "- informal_overall: 0.011012\n"
     ]
    }
   ],
   "source": [
    "import pandas as pd\n",
    "from pathlib import Path\n",
    "import numpy as np\n",
    "\n",
    "# === File paths ===\n",
    "input_path = Path.home() / \"Desktop\" / \"processed_subs\" / \"institutional_trust_per_film_scores_all_years.csv\"\n",
    "output_path = Path.home() / \"Desktop\" / \"processed_subs\" / \"institutional_trust_per_film_scores_filtered.csv\"\n",
    "\n",
    "# === Load data ===\n",
    "df = pd.read_csv(input_path)\n",
    "\n",
    "# === Trust score columns and corresponding confidence columns ===\n",
    "score_cols = [\n",
    "    \"formal_institutions_incl_military\",\n",
    "    \"formal_institutions_excl_military\",\n",
    "    \"military_institutions\",\n",
    "    \"informal_cultural_norms\",\n",
    "    \"informal_relationships\",\n",
    "    \"informal_overall\"\n",
    "]\n",
    "confidence_cols = [f\"{col}_confidence\" for col in score_cols]\n",
    "\n",
    "# === Filter: Replace scores of 0.5 with NaN if confidence ≤ 0.6 ===\n",
    "for score_col, conf_col in zip(score_cols, confidence_cols):\n",
    "    mask = (df[score_col] == 0.5) & (df[conf_col] <= 0.6)\n",
    "    df.loc[mask, score_col] = np.nan\n",
    "\n",
    "# === Save filtered dataset ===\n",
    "df.to_csv(output_path, index=False)\n",
    "print(f\"✅ Filtered file saved to: {output_path.name}\")\n",
    "\n",
    "# === Calculate unweighted variance ===\n",
    "print(\"\\n Unweighted Variance (filtered):\")\n",
    "for col in score_cols:\n",
    "    var = df[col].var()\n",
    "    print(f\"- {col}: {var:.6f}\")\n",
    "\n",
    "# === Calculate weighted variance ===\n",
    "print(\"\\n Weighted Variance (filtered):\")\n",
    "for col, conf_col in zip(score_cols, confidence_cols):\n",
    "    x = df[col]\n",
    "    w = df[conf_col]\n",
    "    mask = (~x.isna()) & (~w.isna())\n",
    "    x = x[mask]\n",
    "    w = w[mask]\n",
    "\n",
    "    if len(x) > 1:\n",
    "        weighted_mean = (x * w).sum() / w.sum()\n",
    "        weighted_var = ((w * (x - weighted_mean) ** 2).sum()) / w.sum()\n",
    "        print(f\"- {col}: {weighted_var:.6f}\")\n",
    "    else:\n",
    "        print(f\"- {col}: insufficient data\")\n"
   ]
  },
  {
   "cell_type": "code",
   "execution_count": null,
   "id": "d655ac06-ed1b-439e-8d8a-4273589e6c01",
   "metadata": {},
   "outputs": [],
   "source": []
  }
 ],
 "metadata": {
  "kernelspec": {
   "display_name": "Python (my_clean_env_py310)",
   "language": "python",
   "name": "my_clean_env_py310"
  },
  "language_info": {
   "codemirror_mode": {
    "name": "ipython",
    "version": 3
   },
   "file_extension": ".py",
   "mimetype": "text/x-python",
   "name": "python",
   "nbconvert_exporter": "python",
   "pygments_lexer": "ipython3",
   "version": "3.10.12"
  }
 },
 "nbformat": 4,
 "nbformat_minor": 5
}
