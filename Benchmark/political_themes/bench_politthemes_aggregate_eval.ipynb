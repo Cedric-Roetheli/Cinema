{
 "cells": [
  {
   "cell_type": "code",
   "execution_count": 3,
   "id": "2a03bba2-cafa-4f53-9d92-93278dae0bac",
   "metadata": {},
   "outputs": [
    {
     "name": "stderr",
     "output_type": "stream",
     "text": [
      "Loading claude outputs: 100%|███████████████| 211/211 [00:00<00:00, 4391.27it/s]\n",
      "Loading openai outputs: 100%|███████████████| 213/213 [00:00<00:00, 5405.82it/s]\n",
      "Loading grok outputs: 100%|█████████████████| 213/213 [00:00<00:00, 5694.28it/s]"
     ]
    },
    {
     "name": "stdout",
     "output_type": "stream",
     "text": [
      "✅ Aggregated results saved to: /Users/cedricroetheli/Desktop/Benchmark/aggregated_theme_outputs.csv\n"
     ]
    },
    {
     "name": "stderr",
     "output_type": "stream",
     "text": [
      "\n"
     ]
    }
   ],
   "source": [
    "import os\n",
    "import json\n",
    "import pandas as pd\n",
    "from pathlib import Path\n",
    "from tqdm import tqdm\n",
    "\n",
    "# === Paths ===\n",
    "base = Path.home() / \"Desktop\" / \"Benchmark\"\n",
    "model_dirs = {\n",
    "    \"claude\": base / \"scored_themes\",\n",
    "    \"openai\": base / \"scored_themes_openai\",\n",
    "    \"grok\": base / \"scored_themes_grok\"\n",
    "}\n",
    "\n",
    "# === Collect results from each model ===\n",
    "def collect_model_outputs(model_name, dir_path):\n",
    "    results = []\n",
    "    for file in tqdm(list(dir_path.glob(\"*.json\")), desc=f\"Loading {model_name} outputs\"):\n",
    "        name = file.stem\n",
    "        if \"_chunk\" not in name:\n",
    "            continue\n",
    "        try:\n",
    "            # Example: 2006Blood.Diamond_chunk8_themes\n",
    "            before_chunk, chunk_suffix = name.split(\"_chunk\")\n",
    "            chunk_num_str = chunk_suffix.split(\"_\")[0]  # Get just the number, drop \"_themes\"\n",
    "            chunk_num = int(chunk_num_str)\n",
    "            with open(file, \"r\", encoding=\"utf-8\") as f:\n",
    "                data = json.load(f)\n",
    "            results.append({\n",
    "                \"model\": model_name,\n",
    "                \"subtitle_filename\": before_chunk,\n",
    "                \"chunk\": chunk_num,\n",
    "                \"themes\": \"; \".join(data.get(\"themes\", [])),\n",
    "                \"confidence\": data.get(\"confidence\", None),\n",
    "                \"explanation\": data.get(\"explanation\", \"\")\n",
    "            })\n",
    "        except Exception as e:\n",
    "            print(f\"⚠️ Failed to parse {file.name}: {e}\")\n",
    "    return results\n",
    "\n",
    "# === Aggregate all outputs ===\n",
    "all_results = []\n",
    "for model_name, dir_path in model_dirs.items():\n",
    "    if dir_path.exists():\n",
    "        all_results.extend(collect_model_outputs(model_name, dir_path))\n",
    "    else:\n",
    "        print(f\"⚠️ Directory not found: {dir_path}\")\n",
    "\n",
    "# === Save results to CSV ===\n",
    "if all_results:\n",
    "    df = pd.DataFrame(all_results)\n",
    "    output_path = base / \"aggregated_theme_outputs.csv\"\n",
    "    df.to_csv(output_path, index=False)\n",
    "    print(f\"✅ Aggregated results saved to: {output_path}\")\n",
    "else:\n",
    "    print(\"⚠️ No data found. Make sure your model output directories are populated.\")\n"
   ]
  },
  {
   "cell_type": "code",
   "execution_count": 11,
   "id": "e5f69227-a955-40f5-a8fd-c72345ad96e4",
   "metadata": {},
   "outputs": [
    {
     "name": "stdout",
     "output_type": "stream",
     "text": [
      "✅ Aggregated and deduplicated themes saved to: /Users/cedricroetheli/Desktop/Benchmark/per_movie_deduplicated_movie_themes.csv\n"
     ]
    }
   ],
   "source": [
    "import pandas as pd\n",
    "from pathlib import Path\n",
    "\n",
    "# Set the path\n",
    "base = Path.home() / \"Desktop\" / \"Benchmark\"\n",
    "input_path = base / \"aggregated_theme_outputs.csv\"\n",
    "output_path = base / \"per_movie_deduplicated_movie_themes.csv\"\n",
    "\n",
    "# Load the CSV\n",
    "df = pd.read_csv(input_path)\n",
    "\n",
    "# Parse themes safely: handles both list-like strings and semicolon-separated strings\n",
    "def parse_themes(raw):\n",
    "    if isinstance(raw, list):\n",
    "        return raw\n",
    "    if isinstance(raw, str):\n",
    "        if raw.startswith(\"[\") and raw.endswith(\"]\"):\n",
    "            try:\n",
    "                return [t.strip().strip(\"'\\\"\") for t in raw[1:-1].split(\",\")]\n",
    "            except:\n",
    "                pass\n",
    "        return [t.strip() for t in raw.split(';')]\n",
    "    return []\n",
    "\n",
    "df['themes'] = df['themes'].apply(parse_themes)\n",
    "\n",
    "# Aggregate and deduplicate themes by movie + model\n",
    "def aggregate_themes(theme_lists):\n",
    "    unique_themes = set()\n",
    "    for lst in theme_lists:\n",
    "        unique_themes.update(lst)\n",
    "    return list(unique_themes)\n",
    "\n",
    "aggregated_df = df.groupby(['subtitle_filename', 'model']).agg({\n",
    "    'themes': aggregate_themes,\n",
    "    'confidence': 'mean',\n",
    "    'explanation': lambda x: ' '.join(set(x))\n",
    "}).reset_index()\n",
    "\n",
    "# Save result\n",
    "aggregated_df.to_csv(output_path, index=False)\n",
    "print(f\"✅ Aggregated and deduplicated themes saved to: {output_path}\")\n"
   ]
  },
  {
   "cell_type": "code",
   "execution_count": null,
   "id": "0d4054b8-f13f-47e4-b545-2dad12fffdbb",
   "metadata": {},
   "outputs": [],
   "source": []
  }
 ],
 "metadata": {
  "kernelspec": {
   "display_name": "Python (my_clean_env_py310)",
   "language": "python",
   "name": "my_clean_env_py310"
  },
  "language_info": {
   "codemirror_mode": {
    "name": "ipython",
    "version": 3
   },
   "file_extension": ".py",
   "mimetype": "text/x-python",
   "name": "python",
   "nbconvert_exporter": "python",
   "pygments_lexer": "ipython3",
   "version": "3.10.12"
  }
 },
 "nbformat": 4,
 "nbformat_minor": 5
}
