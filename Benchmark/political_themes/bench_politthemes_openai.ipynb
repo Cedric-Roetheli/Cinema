{
 "cells": [
  {
   "cell_type": "code",
   "execution_count": 1,
   "id": "eabc6cc9-80b6-4f6f-badc-185a9e6277bb",
   "metadata": {},
   "outputs": [
    {
     "name": "stderr",
     "output_type": "stream",
     "text": [
      "Scoring themes (OpenAI):   0%|                           | 0/20 [00:00<?, ?it/s]"
     ]
    },
    {
     "name": "stdout",
     "output_type": "stream",
     "text": [
      "✅ Scored: 2006Blood.Diamond chunk 1\n",
      "✅ Scored: 2006Blood.Diamond chunk 2\n",
      "✅ Scored: 2006Blood.Diamond chunk 3\n",
      "✅ Scored: 2006Blood.Diamond chunk 4\n",
      "✅ Scored: 2006Blood.Diamond chunk 5\n",
      "✅ Scored: 2006Blood.Diamond chunk 6\n",
      "✅ Scored: 2006Blood.Diamond chunk 7\n",
      "✅ Scored: 2006Blood.Diamond chunk 8\n",
      "✅ Scored: 2006Blood.Diamond chunk 9\n",
      "✅ Scored: 2006Blood.Diamond chunk 10\n",
      "✅ Scored: 2006Blood.Diamond chunk 11\n"
     ]
    },
    {
     "name": "stderr",
     "output_type": "stream",
     "text": [
      "Scoring themes (OpenAI):   5%|▉                  | 1/20 [01:26<27:14, 86.04s/it]"
     ]
    },
    {
     "name": "stdout",
     "output_type": "stream",
     "text": [
      "✅ Scored: 2005The.Constant.Gardener chunk 1\n",
      "✅ Scored: 2005The.Constant.Gardener chunk 2\n",
      "✅ Scored: 2005The.Constant.Gardener chunk 3\n",
      "✅ Scored: 2005The.Constant.Gardener chunk 4\n",
      "✅ Scored: 2005The.Constant.Gardener chunk 5\n",
      "✅ Scored: 2005The.Constant.Gardener chunk 6\n",
      "✅ Scored: 2005The.Constant.Gardener chunk 7\n",
      "✅ Scored: 2005The.Constant.Gardener chunk 8\n",
      "✅ Scored: 2005The.Constant.Gardener chunk 9\n",
      "✅ Scored: 2005The.Constant.Gardener chunk 10\n",
      "✅ Scored: 2005The.Constant.Gardener chunk 11\n",
      "✅ Scored: 2005The.Constant.Gardener chunk 12\n",
      "✅ Scored: 2005The.Constant.Gardener chunk 13\n"
     ]
    },
    {
     "name": "stderr",
     "output_type": "stream",
     "text": [
      "Scoring themes (OpenAI):  10%|█▉                 | 2/20 [02:25<21:08, 70.48s/it]"
     ]
    },
    {
     "name": "stdout",
     "output_type": "stream",
     "text": [
      "✅ Scored: 1981Indiana.Jones.And.The.Raiders.Of.The.Lost.Ark chunk 1\n",
      "✅ Scored: 1981Indiana.Jones.And.The.Raiders.Of.The.Lost.Ark chunk 2\n",
      "✅ Scored: 1981Indiana.Jones.And.The.Raiders.Of.The.Lost.Ark chunk 3\n",
      "✅ Scored: 1981Indiana.Jones.And.The.Raiders.Of.The.Lost.Ark chunk 4\n",
      "✅ Scored: 1981Indiana.Jones.And.The.Raiders.Of.The.Lost.Ark chunk 5\n",
      "✅ Scored: 1981Indiana.Jones.And.The.Raiders.Of.The.Lost.Ark chunk 6\n"
     ]
    },
    {
     "name": "stderr",
     "output_type": "stream",
     "text": [
      "Scoring themes (OpenAI):  15%|██▊                | 3/20 [02:59<15:15, 53.87s/it]"
     ]
    },
    {
     "name": "stdout",
     "output_type": "stream",
     "text": [
      "✅ Scored: 2009Avatar chunk 1\n",
      "✅ Scored: 2009Avatar chunk 2\n",
      "✅ Scored: 2009Avatar chunk 3\n",
      "✅ Scored: 2009Avatar chunk 4\n",
      "✅ Scored: 2009Avatar chunk 5\n",
      "✅ Scored: 2009Avatar chunk 6\n",
      "✅ Scored: 2009Avatar chunk 7\n",
      "✅ Scored: 2009Avatar chunk 8\n",
      "✅ Scored: 2009Avatar chunk 9\n",
      "✅ Scored: 2009Avatar chunk 10\n",
      "✅ Scored: 2009Avatar chunk 11\n"
     ]
    },
    {
     "name": "stderr",
     "output_type": "stream",
     "text": [
      "Scoring themes (OpenAI):  20%|███▊               | 4/20 [03:53<14:18, 53.64s/it]"
     ]
    },
    {
     "name": "stdout",
     "output_type": "stream",
     "text": [
      "✅ Scored: 2012The.Hunger.Games chunk 1\n",
      "✅ Scored: 2012The.Hunger.Games chunk 2\n",
      "✅ Scored: 2012The.Hunger.Games chunk 3\n",
      "✅ Scored: 2012The.Hunger.Games chunk 4\n",
      "✅ Scored: 2012The.Hunger.Games chunk 5\n",
      "✅ Scored: 2012The.Hunger.Games chunk 6\n",
      "✅ Scored: 2012The.Hunger.Games chunk 7\n",
      "✅ Scored: 2012The.Hunger.Games chunk 8\n"
     ]
    },
    {
     "name": "stderr",
     "output_type": "stream",
     "text": [
      "Scoring themes (OpenAI):  25%|████▊              | 5/20 [04:24<11:24, 45.63s/it]"
     ]
    },
    {
     "name": "stdout",
     "output_type": "stream",
     "text": [
      "✅ Scored: 1984Ghostbusters chunk 1\n",
      "✅ Scored: 1984Ghostbusters chunk 2\n",
      "✅ Scored: 1984Ghostbusters chunk 3\n",
      "✅ Scored: 1984Ghostbusters chunk 4\n",
      "✅ Scored: 1984Ghostbusters chunk 5\n",
      "✅ Scored: 1984Ghostbusters chunk 6\n",
      "✅ Scored: 1984Ghostbusters chunk 7\n",
      "✅ Scored: 1984Ghostbusters chunk 8\n",
      "✅ Scored: 1984Ghostbusters chunk 9\n",
      "✅ Scored: 1984Ghostbusters chunk 10\n"
     ]
    },
    {
     "name": "stderr",
     "output_type": "stream",
     "text": [
      "Scoring themes (OpenAI):  30%|█████▋             | 6/20 [05:16<11:08, 47.74s/it]"
     ]
    },
    {
     "name": "stdout",
     "output_type": "stream",
     "text": [
      "✅ Scored: 1978Superman chunk 1\n",
      "✅ Scored: 1978Superman chunk 2\n",
      "✅ Scored: 1978Superman chunk 3\n",
      "✅ Scored: 1978Superman chunk 4\n",
      "✅ Scored: 1978Superman chunk 5\n",
      "✅ Scored: 1978Superman chunk 6\n",
      "✅ Scored: 1978Superman chunk 7\n",
      "✅ Scored: 1978Superman chunk 8\n",
      "✅ Scored: 1978Superman chunk 9\n",
      "✅ Scored: 1978Superman chunk 10\n",
      "✅ Scored: 1978Superman chunk 11\n"
     ]
    },
    {
     "name": "stderr",
     "output_type": "stream",
     "text": [
      "Scoring themes (OpenAI):  35%|██████▋            | 7/20 [06:04<10:23, 47.99s/it]"
     ]
    },
    {
     "name": "stdout",
     "output_type": "stream",
     "text": [
      "✅ Scored: 2008The.Hurt.Locker chunk 1\n",
      "✅ Scored: 2008The.Hurt.Locker chunk 2\n",
      "✅ Scored: 2008The.Hurt.Locker chunk 3\n",
      "✅ Scored: 2008The.Hurt.Locker chunk 4\n",
      "✅ Scored: 2008The.Hurt.Locker chunk 5\n",
      "✅ Scored: 2008The.Hurt.Locker chunk 6\n",
      "✅ Scored: 2008The.Hurt.Locker chunk 7\n",
      "✅ Scored: 2008The.Hurt.Locker chunk 8\n",
      "✅ Scored: 2008The.Hurt.Locker chunk 9\n"
     ]
    },
    {
     "name": "stderr",
     "output_type": "stream",
     "text": [
      "Scoring themes (OpenAI):  40%|███████▌           | 8/20 [06:49<09:23, 46.92s/it]"
     ]
    },
    {
     "name": "stdout",
     "output_type": "stream",
     "text": [
      "✅ Scored: 1977Star.Wars.Episode.IV.-.A.New.Hope chunk 1\n",
      "✅ Scored: 1977Star.Wars.Episode.IV.-.A.New.Hope chunk 2\n",
      "✅ Scored: 1977Star.Wars.Episode.IV.-.A.New.Hope chunk 3\n",
      "✅ Scored: 1977Star.Wars.Episode.IV.-.A.New.Hope chunk 4\n",
      "✅ Scored: 1977Star.Wars.Episode.IV.-.A.New.Hope chunk 5\n",
      "✅ Scored: 1977Star.Wars.Episode.IV.-.A.New.Hope chunk 6\n",
      "✅ Scored: 1977Star.Wars.Episode.IV.-.A.New.Hope chunk 7\n",
      "✅ Scored: 1977Star.Wars.Episode.IV.-.A.New.Hope chunk 8\n",
      "✅ Scored: 1977Star.Wars.Episode.IV.-.A.New.Hope chunk 9\n",
      "✅ Scored: 1977Star.Wars.Episode.IV.-.A.New.Hope chunk 10\n",
      "✅ Scored: 1977Star.Wars.Episode.IV.-.A.New.Hope chunk 11\n",
      "✅ Scored: 1977Star.Wars.Episode.IV.-.A.New.Hope chunk 12\n"
     ]
    },
    {
     "name": "stderr",
     "output_type": "stream",
     "text": [
      "Scoring themes (OpenAI):  45%|████████▌          | 9/20 [07:47<09:13, 50.28s/it]"
     ]
    },
    {
     "name": "stdout",
     "output_type": "stream",
     "text": [
      "✅ Scored: 2003Pirates.of.the.Caribbean.The.Curse.of.the.Black.Pearl chunk 1\n",
      "✅ Scored: 2003Pirates.of.the.Caribbean.The.Curse.of.the.Black.Pearl chunk 2\n",
      "✅ Scored: 2003Pirates.of.the.Caribbean.The.Curse.of.the.Black.Pearl chunk 3\n",
      "✅ Scored: 2003Pirates.of.the.Caribbean.The.Curse.of.the.Black.Pearl chunk 4\n",
      "✅ Scored: 2003Pirates.of.the.Caribbean.The.Curse.of.the.Black.Pearl chunk 5\n",
      "✅ Scored: 2003Pirates.of.the.Caribbean.The.Curse.of.the.Black.Pearl chunk 6\n",
      "✅ Scored: 2003Pirates.of.the.Caribbean.The.Curse.of.the.Black.Pearl chunk 7\n",
      "✅ Scored: 2003Pirates.of.the.Caribbean.The.Curse.of.the.Black.Pearl chunk 8\n",
      "✅ Scored: 2003Pirates.of.the.Caribbean.The.Curse.of.the.Black.Pearl chunk 9\n",
      "✅ Scored: 2003Pirates.of.the.Caribbean.The.Curse.of.the.Black.Pearl chunk 10\n"
     ]
    },
    {
     "name": "stderr",
     "output_type": "stream",
     "text": [
      "Scoring themes (OpenAI):  50%|█████████         | 10/20 [08:45<08:47, 52.78s/it]"
     ]
    },
    {
     "name": "stdout",
     "output_type": "stream",
     "text": [
      "✅ Scored: 2018Black.Panther chunk 1\n",
      "✅ Scored: 2018Black.Panther chunk 2\n",
      "✅ Scored: 2018Black.Panther chunk 3\n",
      "✅ Scored: 2018Black.Panther chunk 4\n",
      "✅ Scored: 2018Black.Panther chunk 5\n",
      "✅ Scored: 2018Black.Panther chunk 6\n",
      "✅ Scored: 2018Black.Panther chunk 7\n",
      "✅ Scored: 2018Black.Panther chunk 8\n",
      "✅ Scored: 2018Black.Panther chunk 9\n",
      "✅ Scored: 2018Black.Panther chunk 10\n"
     ]
    },
    {
     "name": "stderr",
     "output_type": "stream",
     "text": [
      "Scoring themes (OpenAI):  55%|█████████▉        | 11/20 [09:39<07:59, 53.24s/it]"
     ]
    },
    {
     "name": "stdout",
     "output_type": "stream",
     "text": [
      "✅ Scored: 2021Dont.Look.Up chunk 1\n",
      "✅ Scored: 2021Dont.Look.Up chunk 2\n",
      "✅ Scored: 2021Dont.Look.Up chunk 3\n",
      "✅ Scored: 2021Dont.Look.Up chunk 4\n",
      "✅ Scored: 2021Dont.Look.Up chunk 5\n",
      "✅ Scored: 2021Dont.Look.Up chunk 6\n",
      "✅ Scored: 2021Dont.Look.Up chunk 7\n",
      "✅ Scored: 2021Dont.Look.Up chunk 8\n",
      "✅ Scored: 2021Dont.Look.Up chunk 9\n",
      "✅ Scored: 2021Dont.Look.Up chunk 10\n",
      "✅ Scored: 2021Dont.Look.Up chunk 11\n",
      "✅ Scored: 2021Dont.Look.Up chunk 12\n",
      "✅ Scored: 2021Dont.Look.Up chunk 13\n",
      "✅ Scored: 2021Dont.Look.Up chunk 14\n",
      "✅ Scored: 2021Dont.Look.Up chunk 15\n",
      "✅ Scored: 2021Dont.Look.Up chunk 16\n",
      "✅ Scored: 2021Dont.Look.Up chunk 17\n"
     ]
    },
    {
     "name": "stderr",
     "output_type": "stream",
     "text": [
      "Scoring themes (OpenAI):  60%|██████████▊       | 12/20 [11:20<09:00, 67.56s/it]"
     ]
    },
    {
     "name": "stdout",
     "output_type": "stream",
     "text": [
      "✅ Scored: 1982First.Blood chunk 1\n",
      "✅ Scored: 1982First.Blood chunk 2\n",
      "✅ Scored: 1982First.Blood chunk 3\n",
      "✅ Scored: 1982First.Blood chunk 4\n",
      "✅ Scored: 1982First.Blood chunk 5\n",
      "✅ Scored: 1982First.Blood chunk 6\n",
      "✅ Scored: 1982First.Blood chunk 7\n"
     ]
    },
    {
     "name": "stderr",
     "output_type": "stream",
     "text": [
      "Scoring themes (OpenAI):  65%|███████████▋      | 13/20 [12:00<06:55, 59.39s/it]"
     ]
    },
    {
     "name": "stdout",
     "output_type": "stream",
     "text": [
      "✅ Scored: 2019Joker chunk 1\n",
      "✅ Scored: 2019Joker chunk 2\n",
      "✅ Scored: 2019Joker chunk 3\n",
      "✅ Scored: 2019Joker chunk 4\n",
      "✅ Scored: 2019Joker chunk 5\n",
      "✅ Scored: 2019Joker chunk 6\n",
      "✅ Scored: 2019Joker chunk 7\n",
      "✅ Scored: 2019Joker chunk 8\n",
      "✅ Scored: 2019Joker chunk 9\n"
     ]
    },
    {
     "name": "stderr",
     "output_type": "stream",
     "text": [
      "Scoring themes (OpenAI):  70%|████████████▌     | 14/20 [13:01<05:58, 59.73s/it]"
     ]
    },
    {
     "name": "stdout",
     "output_type": "stream",
     "text": [
      "✅ Scored: 2006Night.at.the.Museum chunk 1\n",
      "✅ Scored: 2006Night.at.the.Museum chunk 2\n",
      "✅ Scored: 2006Night.at.the.Museum chunk 3\n",
      "✅ Scored: 2006Night.at.the.Museum chunk 4\n",
      "✅ Scored: 2006Night.at.the.Museum chunk 5\n",
      "✅ Scored: 2006Night.at.the.Museum chunk 6\n",
      "✅ Scored: 2006Night.at.the.Museum chunk 7\n",
      "✅ Scored: 2006Night.at.the.Museum chunk 8\n",
      "✅ Scored: 2006Night.at.the.Museum chunk 9\n",
      "✅ Scored: 2006Night.at.the.Museum chunk 10\n"
     ]
    },
    {
     "name": "stderr",
     "output_type": "stream",
     "text": [
      "Scoring themes (OpenAI):  75%|█████████████▌    | 15/20 [13:50<04:42, 56.52s/it]"
     ]
    },
    {
     "name": "stdout",
     "output_type": "stream",
     "text": [
      "✅ Scored: 1976Rocky.I chunk 1\n",
      "✅ Scored: 1976Rocky.I chunk 2\n",
      "✅ Scored: 1976Rocky.I chunk 3\n",
      "✅ Scored: 1976Rocky.I chunk 4\n",
      "✅ Scored: 1976Rocky.I chunk 5\n",
      "✅ Scored: 1976Rocky.I chunk 6\n",
      "✅ Scored: 1976Rocky.I chunk 7\n",
      "✅ Scored: 1976Rocky.I chunk 8\n",
      "✅ Scored: 1976Rocky.I chunk 9\n",
      "✅ Scored: 1976Rocky.I chunk 10\n",
      "✅ Scored: 1976Rocky.I chunk 11\n",
      "✅ Scored: 1976Rocky.I chunk 12\n",
      "✅ Scored: 1976Rocky.I chunk 13\n"
     ]
    },
    {
     "name": "stderr",
     "output_type": "stream",
     "text": [
      "Scoring themes (OpenAI):  80%|██████████████▍   | 16/20 [14:55<03:56, 59.19s/it]"
     ]
    },
    {
     "name": "stdout",
     "output_type": "stream",
     "text": [
      "✅ Scored: 2005V.for.Vendetta chunk 1\n",
      "✅ Scored: 2005V.for.Vendetta chunk 2\n",
      "✅ Scored: 2005V.for.Vendetta chunk 3\n",
      "✅ Scored: 2005V.for.Vendetta chunk 4\n",
      "✅ Scored: 2005V.for.Vendetta chunk 5\n",
      "✅ Scored: 2005V.for.Vendetta chunk 6\n",
      "✅ Scored: 2005V.for.Vendetta chunk 7\n",
      "✅ Scored: 2005V.for.Vendetta chunk 8\n",
      "✅ Scored: 2005V.for.Vendetta chunk 9\n",
      "✅ Scored: 2005V.for.Vendetta chunk 10\n",
      "✅ Scored: 2005V.for.Vendetta chunk 11\n",
      "✅ Scored: 2005V.for.Vendetta chunk 12\n",
      "✅ Scored: 2005V.for.Vendetta chunk 13\n",
      "✅ Scored: 2005V.for.Vendetta chunk 14\n",
      "✅ Scored: 2005V.for.Vendetta chunk 15\n",
      "✅ Scored: 2005V.for.Vendetta chunk 16\n"
     ]
    },
    {
     "name": "stderr",
     "output_type": "stream",
     "text": [
      "Scoring themes (OpenAI):  85%|███████████████▎  | 17/20 [16:14<03:15, 65.06s/it]"
     ]
    },
    {
     "name": "stdout",
     "output_type": "stream",
     "text": [
      "✅ Scored: 2017Paddington.2 chunk 1\n",
      "✅ Scored: 2017Paddington.2 chunk 2\n",
      "✅ Scored: 2017Paddington.2 chunk 3\n",
      "✅ Scored: 2017Paddington.2 chunk 4\n",
      "✅ Scored: 2017Paddington.2 chunk 5\n",
      "✅ Scored: 2017Paddington.2 chunk 6\n",
      "✅ Scored: 2017Paddington.2 chunk 7\n",
      "✅ Scored: 2017Paddington.2 chunk 8\n",
      "✅ Scored: 2017Paddington.2 chunk 9\n",
      "✅ Scored: 2017Paddington.2 chunk 10\n",
      "✅ Scored: 2017Paddington.2 chunk 11\n",
      "✅ Scored: 2017Paddington.2 chunk 12\n"
     ]
    },
    {
     "name": "stderr",
     "output_type": "stream",
     "text": [
      "Scoring themes (OpenAI):  90%|████████████████▏ | 18/20 [17:14<02:07, 63.69s/it]"
     ]
    },
    {
     "name": "stdout",
     "output_type": "stream",
     "text": [
      "✅ Scored: 1985Back.To.The.Future chunk 1\n",
      "✅ Scored: 1985Back.To.The.Future chunk 2\n",
      "✅ Scored: 1985Back.To.The.Future chunk 3\n",
      "✅ Scored: 1985Back.To.The.Future chunk 4\n",
      "✅ Scored: 1985Back.To.The.Future chunk 5\n",
      "✅ Scored: 1985Back.To.The.Future chunk 6\n",
      "✅ Scored: 1985Back.To.The.Future chunk 7\n",
      "✅ Scored: 1985Back.To.The.Future chunk 8\n",
      "✅ Scored: 1985Back.To.The.Future chunk 9\n",
      "✅ Scored: 1985Back.To.The.Future chunk 10\n",
      "✅ Scored: 1985Back.To.The.Future chunk 11\n"
     ]
    },
    {
     "name": "stderr",
     "output_type": "stream",
     "text": [
      "Scoring themes (OpenAI):  95%|█████████████████ | 19/20 [18:09<01:00, 60.95s/it]"
     ]
    },
    {
     "name": "stdout",
     "output_type": "stream",
     "text": [
      "✅ Scored: 2013The.Purge chunk 1\n",
      "✅ Scored: 2013The.Purge chunk 2\n",
      "✅ Scored: 2013The.Purge chunk 3\n",
      "✅ Scored: 2013The.Purge chunk 4\n",
      "✅ Scored: 2013The.Purge chunk 5\n",
      "✅ Scored: 2013The.Purge chunk 6\n",
      "✅ Scored: 2013The.Purge chunk 7\n"
     ]
    },
    {
     "name": "stderr",
     "output_type": "stream",
     "text": [
      "Scoring themes (OpenAI): 100%|██████████████████| 20/20 [18:41<00:00, 56.10s/it]\n"
     ]
    }
   ],
   "source": [
    "import os\n",
    "import json\n",
    "import time\n",
    "import requests\n",
    "import pandas as pd\n",
    "from pathlib import Path\n",
    "from tqdm import tqdm\n",
    "\n",
    "# === OpenAI API setup ===\n",
    "api_key = \"api-key\"  # 🔒 Replace with your OpenAI key\n",
    "api_url = \"https://api.openai.com/v1/chat/completions\"\n",
    "model_name = \"gpt-4o\"\n",
    "\n",
    "headers = {\n",
    "    \"Authorization\": f\"Bearer {api_key}\",\n",
    "    \"Content-Type\": \"application/json\",\n",
    "}\n",
    "\n",
    "# === Paths ===\n",
    "base = Path.home() / \"Desktop\" / \"Benchmark\"\n",
    "subs_dir = base / \"json_benchmark\"\n",
    "summaries_dir = base / \"summaries\"\n",
    "output_dir = base / \"scored_themes_openai\"\n",
    "prompts_dir = base / \"prompts_themes_openai\"\n",
    "\n",
    "output_dir.mkdir(parents=True, exist_ok=True)\n",
    "prompts_dir.mkdir(parents=True, exist_ok=True)\n",
    "\n",
    "# === Load match file ===\n",
    "matches_df = pd.read_csv(\"matches_benchmark.csv\")\n",
    "\n",
    "# === Prompt template ===\n",
    "def create_theme_prompt(summary, chunk):\n",
    "    prompt = (\n",
    "        \"You are analyzing a film based on its dialogue and a summary of its plot.\\n\\n\"\n",
    "        \"Your task is to identify the ideological, societal, or political themes expressed in the film.\\n\\n\"\n",
    "        \"Definitions:\\n\"\n",
    "        \"- Ideological themes refer to ideas or values associated with a worldview or belief system, such as attitudes toward authority, individual rights, or tradition.\\n\"\n",
    "        \"- Societal themes reflect cultural norms, social roles, or commentary on how people relate to institutions, communities, or each other.\\n\"\n",
    "        \"- Political themes involve power structures, governance, laws, rights, or critiques of political institutions or ideologies.\\n\\n\"\n",
    "        \"Please:\\n\"\n",
    "        \"1. Provide a list of 3 to 7 themes in the form of keywords or short phrases.\\n\"\n",
    "        \"2. Include a confidence score from 0.0 to 1.0 indicating how confident you are in your analysis.\\n\"\n",
    "        \"3. Briefly explain your reasoning in 1–2 sentences.\\n\\n\"\n",
    "        \"Return your answer strictly in the following JSON format:\\n\\n\"\n",
    "        \"{\\n\"\n",
    "        \"  \\\"themes\\\": [\\\"...\\\", \\\"...\\\", \\\"...\\\"],\\n\"\n",
    "        \"  \\\"confidence\\\": ...,\\n\"\n",
    "        \"  \\\"explanation\\\": \\\"...\\\"\\n\"\n",
    "        \"}\\n\\n\"\n",
    "        f\"Film Summary:\\n\\\"\\\"\\\"{summary}\\\"\\\"\\\"\\n\\n\"\n",
    "        f\"Dialogue:\\n\\\"\\\"\\\"{chunk}\\\"\\\"\\\"\"\n",
    "    )\n",
    "    return prompt\n",
    "\n",
    "# === OpenAI API call ===\n",
    "def call_openai(prompt):\n",
    "    payload = {\n",
    "        \"model\": model_name,\n",
    "        \"temperature\": 0,\n",
    "        \"max_tokens\": 600,\n",
    "        \"messages\": [\n",
    "            {\"role\": \"system\", \"content\": \"You are a careful film analyst. Always return exactly and only the required JSON.\"},\n",
    "            {\"role\": \"user\", \"content\": prompt}\n",
    "        ]\n",
    "    }\n",
    "\n",
    "    response = requests.post(api_url, headers=headers, json=payload)\n",
    "\n",
    "    if response.status_code == 429:\n",
    "        print(\"⚠️ Rate limit hit. Waiting...\")\n",
    "        time.sleep(60)\n",
    "        return call_openai(prompt)\n",
    "    elif response.status_code != 200:\n",
    "        print(f\"❌ API Error: {response.status_code}\")\n",
    "        print(response.text)\n",
    "        return None\n",
    "\n",
    "    try:\n",
    "        content = response.json()[\"choices\"][0][\"message\"][\"content\"]\n",
    "\n",
    "        # Strip code fences if present\n",
    "        if content.strip().startswith(\"```\"):\n",
    "            content = content.strip().strip(\"`\")\n",
    "            if content.lower().startswith(\"json\"):\n",
    "                content = content[4:].strip()\n",
    "\n",
    "        return json.loads(content)\n",
    "    except Exception as e:\n",
    "        print(f\"⚠️ JSON parsing error:\\n{response.text}\")\n",
    "        return None\n",
    "\n",
    "# === Subtitle chunking ===\n",
    "def chunk_dialogue(subs, chunk_size=5000, overlap=200):\n",
    "    text_blocks = [line.get(\"text\", \"\").strip() for line in subs if line.get(\"text\")]\n",
    "    full_text = \" \".join(text_blocks)\n",
    "\n",
    "    chunks = []\n",
    "    start = 0\n",
    "    while start < len(full_text):\n",
    "        end = start + chunk_size\n",
    "        chunks.append(full_text[start:end])\n",
    "        start = end - overlap\n",
    "    return chunks\n",
    "\n",
    "# === Main loop ===\n",
    "for _, row in tqdm(matches_df.iterrows(), total=len(matches_df), desc=\"Scoring themes (OpenAI)\"):\n",
    "    filename = row[\"subtitle_filename\"]\n",
    "    json_path = subs_dir / f\"{filename}.json\"\n",
    "    summary_path = summaries_dir / f\"{filename}.srt_summary.txt\"\n",
    "\n",
    "    if not json_path.exists() or not summary_path.exists():\n",
    "        print(f\"⚠️ Missing files for: {filename}\")\n",
    "        continue\n",
    "\n",
    "    with open(json_path, \"r\", encoding=\"utf-8\") as f:\n",
    "        subs = json.load(f)\n",
    "\n",
    "    with open(summary_path, \"r\", encoding=\"utf-8\") as f:\n",
    "        summary = f.read().strip()\n",
    "\n",
    "    chunks = chunk_dialogue(subs)\n",
    "\n",
    "    for i, chunk in enumerate(chunks):\n",
    "        output_path = output_dir / f\"{filename}_chunk{i+1}_themes.json\"\n",
    "        prompt_path = prompts_dir / f\"{filename}_chunk{i+1}_themes_prompt.txt\"\n",
    "\n",
    "        if output_path.exists():\n",
    "            print(f\"🟡 Already scored: {filename} chunk {i+1}\")\n",
    "            continue\n",
    "\n",
    "        prompt = create_theme_prompt(summary, chunk)\n",
    "\n",
    "        with open(prompt_path, \"w\", encoding=\"utf-8\") as f:\n",
    "            f.write(prompt)\n",
    "\n",
    "        result = call_openai(prompt)\n",
    "        if result:\n",
    "            with open(output_path, \"w\", encoding=\"utf-8\") as f:\n",
    "                json.dump(result, f, indent=2)\n",
    "            print(f\"✅ Scored: {filename} chunk {i+1}\")\n",
    "        else:\n",
    "            print(f\"❌ Failed: {filename} chunk {i+1}\")\n",
    "\n",
    "        time.sleep(1.5)\n"
   ]
  },
  {
   "cell_type": "code",
   "execution_count": null,
   "id": "9b46aeff-4364-4003-970a-1c7e87027828",
   "metadata": {},
   "outputs": [],
   "source": []
  }
 ],
 "metadata": {
  "kernelspec": {
   "display_name": "Python (my_clean_env_py310)",
   "language": "python",
   "name": "my_clean_env_py310"
  },
  "language_info": {
   "codemirror_mode": {
    "name": "ipython",
    "version": 3
   },
   "file_extension": ".py",
   "mimetype": "text/x-python",
   "name": "python",
   "nbconvert_exporter": "python",
   "pygments_lexer": "ipython3",
   "version": "3.10.12"
  }
 },
 "nbformat": 4,
 "nbformat_minor": 5
}
